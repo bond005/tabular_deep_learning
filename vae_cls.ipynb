{
 "cells": [
  {
   "cell_type": "code",
   "execution_count": 1,
   "metadata": {
    "id": "-XY9sNjKSiOL"
   },
   "outputs": [],
   "source": [
    "import gc\n",
    "import os\n",
    "import random\n",
    "from typing import List, Tuple"
   ]
  },
  {
   "cell_type": "code",
   "execution_count": 2,
   "metadata": {
    "id": "Ik_m85IV8RQA"
   },
   "outputs": [],
   "source": [
    "os.environ['TF_CPP_MIN_LOG_LEVEL'] = '2'"
   ]
  },
  {
   "cell_type": "code",
   "execution_count": 3,
   "metadata": {
    "id": "xmdyl8EYRRUJ"
   },
   "outputs": [],
   "source": [
    "import matplotlib.pyplot as plt\n",
    "import numpy as np\n",
    "from sklearn.compose import ColumnTransformer\n",
    "from sklearn.datasets import fetch_covtype\n",
    "from sklearn.decomposition import PCA\n",
    "from sklearn.ensemble import RandomForestClassifier\n",
    "from sklearn.feature_selection import VarianceThreshold\n",
    "from sklearn.impute import SimpleImputer\n",
    "from sklearn.metrics import classification_report\n",
    "from sklearn.metrics import f1_score\n",
    "from sklearn.model_selection import train_test_split\n",
    "from sklearn.pipeline import Pipeline\n",
    "from sklearn.preprocessing import StandardScaler, MinMaxScaler\n",
    "from sklearn.preprocessing import Binarizer, KBinsDiscretizer\n",
    "from skopt import gp_minimize\n",
    "from skopt.utils import use_named_args\n",
    "from skopt.space import Real, Integer\n",
    "from tqdm.notebook import tqdm"
   ]
  },
  {
   "cell_type": "code",
   "execution_count": 4,
   "metadata": {
    "id": "SuVsTybzxhj0"
   },
   "outputs": [],
   "source": [
    "import tensorflow as tf\n",
    "import tensorflow_addons as tfa\n",
    "import tensorflow_probability as tfp"
   ]
  },
  {
   "cell_type": "code",
   "execution_count": 5,
   "metadata": {},
   "outputs": [],
   "source": [
    "def find_best_rf(X: np.ndarray, y: np.ndarray) -> RandomForestClassifier:\n",
    "    space = [\n",
    "        Real(0.000001, 0.01, 'log-uniform', name='ccp_alpha'),\n",
    "        Real(0.5, 0.85, 'uniform', name='max_features'),\n",
    "        Real(0.6, 0.95, 'uniform', name='max_samples'),\n",
    "        Integer(50, 1000, name='n_estimators')\n",
    "    ]\n",
    "    \n",
    "    @use_named_args(space)\n",
    "    def objective_f(ccp_alpha: float, max_features: float,\n",
    "                    max_samples: float, n_estimators: int) -> float:\n",
    "        test_cls = RandomForestClassifier(\n",
    "            min_samples_leaf=5, n_estimators=n_estimators,\n",
    "            random_state=42, verbose=True, n_jobs=-1,\n",
    "            ccp_alpha=ccp_alpha, oob_score=True, bootstrap=True,\n",
    "            max_samples=max_samples, max_features=max_features,\n",
    "        )\n",
    "        test_cls.fit(X, y)\n",
    "        nd = len(test_cls.oob_decision_function_.shape)\n",
    "        if nd != 2:\n",
    "            err_msg = f'`oob_decision_function_` is wrong! ' \\\n",
    "                      f'Expected 2-D array, got {nd}-D one!'\n",
    "            raise ValueError(err_msg)\n",
    "        filtered = list(\n",
    "            filter(\n",
    "                lambda idx: not any(np.isnan(\n",
    "                    test_cls.oob_decision_function_[idx]\n",
    "                )),\n",
    "                range(y.shape[0])\n",
    "            )\n",
    "        )\n",
    "        info_msg = f'OOB score is estimated using {len(filtered)} ' \\\n",
    "                   f'samples from {y.shape[0]}.'\n",
    "        print(info_msg)\n",
    "        if len(filtered) < 3:\n",
    "            err_msg = 'OOB score cannot be estimated!'\n",
    "            raise ValueError(err_msg)\n",
    "        quality = f1_score(\n",
    "            y_true=y[filtered],\n",
    "            y_pred=np.argmax(test_cls.oob_decision_function_[filtered],\n",
    "                             axis=-1),\n",
    "            average='macro'\n",
    "        )\n",
    "        return -quality\n",
    "    \n",
    "    res_gp = gp_minimize(\n",
    "        objective_f, space,\n",
    "        n_calls=32, n_random_starts=8,\n",
    "        n_restarts_optimizer=4, random_state=42,\n",
    "        verbose=True, n_jobs=1\n",
    "    )\n",
    "    best_parameters = {\n",
    "        'ccp_alpha': float(res_gp.x[0]),\n",
    "        'max_features': float(res_gp.x[1]),\n",
    "        'max_samples': float(res_gp.x[2]),\n",
    "        'n_estimators': int(res_gp.x[3]),\n",
    "    }\n",
    "    print(f'Best parameters are: {best_parameters}')\n",
    "    final_cls = RandomForestClassifier(\n",
    "        min_samples_leaf=5, random_state=42, verbose=True, n_jobs=-1,\n",
    "        oob_score=True, bootstrap=True,\n",
    "        ccp_alpha=best_parameters['ccp_alpha'],\n",
    "        n_estimators=best_parameters['n_estimators'],\n",
    "        max_samples=best_parameters['max_samples'],\n",
    "        max_features=best_parameters['max_features'],\n",
    "    )\n",
    "    final_cls.fit(X, y)\n",
    "    return final_cls"
   ]
  },
  {
   "cell_type": "code",
   "execution_count": 6,
   "metadata": {
    "id": "8BZI96xER4Rj"
   },
   "outputs": [],
   "source": [
    "def build_normalizer(X: np.ndarray) -> Pipeline:\n",
    "    normalizer = Pipeline(steps=[\n",
    "        (\n",
    "            'imputer',\n",
    "            SimpleImputer(missing_values=np.nan, strategy='mean')\n",
    "        ),\n",
    "        (\n",
    "            'standard_scaler',\n",
    "            StandardScaler(with_mean=True, with_std=True)\n",
    "        ),\n",
    "        (\n",
    "            'pca',\n",
    "            PCA(random_state=42)\n",
    "        )\n",
    "    ])\n",
    "    return normalizer.fit(X)"
   ]
  },
  {
   "cell_type": "code",
   "execution_count": 7,
   "metadata": {},
   "outputs": [],
   "source": [
    "def generate_initializer():\n",
    "    try:\n",
    "        kernel_initializer = tf.keras.initializers.LecunNormal(\n",
    "            seed=random.randint(0, 2147483647)\n",
    "        )\n",
    "    except:\n",
    "        kernel_initializer = tf.compat.v1.keras.initializers.lecun_normal(\n",
    "            seed=random.randint(0, 2147483647)\n",
    "        )\n",
    "    return kernel_initializer"
   ]
  },
  {
   "cell_type": "code",
   "execution_count": 8,
   "metadata": {
    "id": "9yTdSjxYT6B1"
   },
   "outputs": [],
   "source": [
    "def build_neural_network(n_features: int, n_classes: int,\n",
    "                         n_latent: int, n_hidden: int, depth: int,\n",
    "                         nn_name: str) -> Tuple[tf.keras.Model, tf.keras.Model, \\\n",
    "                                                tf.keras.Model]:\n",
    "    if n_hidden < 1:\n",
    "        err_msg = f'The hidde layer size = {n_hidden} is too small!'\n",
    "    feature_vector = tf.keras.layers.Input(\n",
    "        shape=(n_features,), dtype=tf.float32,\n",
    "        name=f'{nn_name}_feature_vector'\n",
    "    )\n",
    "    block_input = feature_vector\n",
    "    for layer_idx in range(depth):\n",
    "        first_layer = tf.keras.layers.Dense(\n",
    "            units=n_hidden,\n",
    "            activation='tanh',\n",
    "            kernel_initializer=generate_initializer(),\n",
    "            bias_initializer='zeros',\n",
    "            name=f'{nn_name}_enc_dense{layer_idx * 3 + 1}'\n",
    "        )(block_input)\n",
    "        second_layer = tf.keras.layers.Dense(\n",
    "            units=n_hidden,\n",
    "            activation='tanh',\n",
    "            kernel_initializer=generate_initializer(),\n",
    "            bias_initializer='zeros',\n",
    "            name=f'{nn_name}_enc_dense{layer_idx * 3 + 2}'\n",
    "        )(first_layer)\n",
    "        third_layer = tf.keras.layers.Dense(\n",
    "            units=n_hidden,\n",
    "            activation='tanh',\n",
    "            kernel_initializer=generate_initializer(),\n",
    "            bias_initializer='zeros',\n",
    "            name=f'{nn_name}_enc_dense{layer_idx * 3 + 3}'\n",
    "        )(second_layer)\n",
    "        encoder_layer = tf.keras.layers.Add(\n",
    "            name=f'{nn_name}_enc_add{layer_idx + 1}'\n",
    "        )([first_layer, third_layer])\n",
    "        block_input = encoder_layer\n",
    "        del first_layer, second_layer, third_layer\n",
    "    del block_input\n",
    "    prior = tfp.distributions.Independent(\n",
    "        distribution=tfp.distributions.Normal(\n",
    "            loc=tf.zeros(n_latent),\n",
    "            scale=1\n",
    "        ),\n",
    "        reinterpreted_batch_ndims=1\n",
    "    )\n",
    "    latent_layer = tf.keras.layers.Dense(\n",
    "        units=tfp.layers.IndependentNormal.params_size(n_latent),\n",
    "        activation=None,\n",
    "        kernel_initializer=generate_initializer(),\n",
    "        bias_initializer='zeros',\n",
    "        name=f'{nn_name}_latent'\n",
    "    )(encoder_layer)\n",
    "    z = tfp.layers.IndependentNormal(\n",
    "        event_shape=n_latent,\n",
    "        convert_to_tensor_fn=tfp.distributions.Distribution.sample,\n",
    "        activity_regularizer=tfp.layers.KLDivergenceRegularizer(\n",
    "            distribution_b=prior,\n",
    "            weight=1e-3\n",
    "        ),\n",
    "        name=f'{nn_name}_z'\n",
    "    )(latent_layer)\n",
    "    classifier_input = tf.keras.layers.Input(\n",
    "        shape=(n_latent,), dtype=tf.float32,\n",
    "        name=f'{nn_name}_feature_vector'\n",
    "    )\n",
    "    hidden_layer = tf.keras.layers.Dense(\n",
    "        units=n_hidden,\n",
    "        activation='tanh',\n",
    "        kernel_initializer=generate_initializer(),\n",
    "        bias_initializer='zeros',\n",
    "        name=f'{nn_name}_cls_hidden'\n",
    "    )(classifier_input)\n",
    "    cls_layer = tf.keras.layers.Dense(\n",
    "        units=n_classes,\n",
    "        activation='softmax',\n",
    "        kernel_initializer=generate_initializer(),\n",
    "        bias_initializer='zeros',\n",
    "        name=f'{nn_name}_cls_output'\n",
    "    )(hidden_layer)\n",
    "    cls_name = f'{nn_name}_cls'\n",
    "    cls_model = tf.keras.Model(\n",
    "        inputs=classifier_input,\n",
    "        outputs=cls_layer,\n",
    "        name=cls_name\n",
    "    )\n",
    "    cls_model.build(input_shape=[None, n_latent])\n",
    "    block_input = z\n",
    "    for layer_idx in range(depth):\n",
    "        first_layer = tf.keras.layers.Dense(\n",
    "            units=n_hidden,\n",
    "            activation='tanh',\n",
    "            kernel_initializer=generate_initializer(),\n",
    "            bias_initializer='zeros',\n",
    "            name=f'{nn_name}_dec_dense{layer_idx * 3 + 1}'\n",
    "        )(block_input)\n",
    "        second_layer = tf.keras.layers.Dense(\n",
    "            units=n_hidden,\n",
    "            activation='tanh',\n",
    "            kernel_initializer=generate_initializer(),\n",
    "            bias_initializer='zeros',\n",
    "            name=f'{nn_name}_dec_dense{layer_idx * 3 + 2}'\n",
    "        )(first_layer)\n",
    "        third_layer = tf.keras.layers.Dense(\n",
    "            units=n_hidden,\n",
    "            activation='tanh',\n",
    "            kernel_initializer=generate_initializer(),\n",
    "            bias_initializer='zeros',\n",
    "            name=f'{nn_name}_dec_dense{layer_idx * 3 + 3}'\n",
    "        )(second_layer)\n",
    "        decoder_layer = tf.keras.layers.Add(\n",
    "            name=f'{nn_name}_dec_add{layer_idx + 1}'\n",
    "        )([first_layer, third_layer])\n",
    "        block_input = decoder_layer\n",
    "        del first_layer, second_layer, third_layer\n",
    "    reconstruction_name =   f'{nn_name}_reconstruction'\n",
    "    reconstruction_layer = tf.keras.layers.Dense(\n",
    "        units=n_features,\n",
    "        activation=None,\n",
    "        kernel_initializer=generate_initializer(),\n",
    "        bias_initializer='zeros',\n",
    "        name=reconstruction_name\n",
    "    )(decoder_layer)\n",
    "    encoder_model = tf.keras.Model(\n",
    "        inputs=feature_vector,\n",
    "        outputs=z,\n",
    "        name=f'{nn_name}_enc'\n",
    "    )\n",
    "    united_model = tf.keras.Model(\n",
    "        inputs=feature_vector,\n",
    "        outputs=[cls_model(z), reconstruction_layer],\n",
    "        name=f'{nn_name}_vae'\n",
    "    )\n",
    "    encoder_model.build(input_shape=[None, n_features])\n",
    "    metrics = {cls_name: [tf.keras.metrics.CategoricalAccuracy()]}\n",
    "    negloglik = lambda y, rv_y: -rv_y.log_prob(y)\n",
    "    losses = {\n",
    "        cls_name: tf.keras.losses.CategoricalCrossentropy(label_smoothing=0.1),\n",
    "        reconstruction_name: tf.keras.losses.LogCosh()\n",
    "    }\n",
    "    loss_weights = {\n",
    "        cls_name: 1.0,\n",
    "        reconstruction_name: 1.5\n",
    "    }\n",
    "    radam = tfa.optimizers.RectifiedAdam(learning_rate=1e-3)\n",
    "    ranger = tfa.optimizers.Lookahead(radam, sync_period=6, slow_step_size=0.5)\n",
    "    united_model.compile(optimizer=ranger, loss=losses,\n",
    "                         loss_weights=loss_weights, metrics=metrics)\n",
    "    return united_model, encoder_model, cls_model"
   ]
  },
  {
   "cell_type": "code",
   "execution_count": 9,
   "metadata": {
    "id": "T9Vd3cA0pCX7"
   },
   "outputs": [],
   "source": [
    "def calculate_projections(X: np.ndarray, encoder: tf.keras.Model,\n",
    "                          n_samples: int, batch_size: int) -> List[np.ndarray]:\n",
    "    assert n_samples > 0\n",
    "    n_batches = int(np.ceil(X.shape[0] / float(batch_size)))\n",
    "    projections = [[] for _ in range(n_samples)]\n",
    "    for batch_idx in tqdm(list(range(n_batches))):\n",
    "        batch_start = batch_idx * batch_size\n",
    "        batch_end = min(X.shape[0], batch_start + batch_size)\n",
    "        distr = encoder(X[batch_start:batch_end])\n",
    "        assert isinstance(distr, tfp.distributions.Distribution)\n",
    "        if n_samples > 1:\n",
    "            y_inst = distr.sample()\n",
    "            if not isinstance(y_inst, np.ndarray):\n",
    "                y_inst = y_inst.numpy()\n",
    "            assert len(y_inst.shape) == 2\n",
    "            projections[0].append(y_inst)\n",
    "            del y_inst\n",
    "            for prj_idx in range(1, n_samples):\n",
    "                y_inst = distr.sample()\n",
    "                if not isinstance(y_inst, np.ndarray):\n",
    "                    y_inst = y_inst.numpy()\n",
    "                assert len(y_inst.shape) == 2\n",
    "                projections[prj_idx].append(y_inst)\n",
    "                del y_inst\n",
    "        else:\n",
    "            y_inst = distr.mean()\n",
    "            if not isinstance(y_inst, np.ndarray):\n",
    "                y_inst = y_inst.numpy()\n",
    "            assert len(y_inst.shape) == 2\n",
    "            projections[0].append(y_inst)\n",
    "            del y_inst\n",
    "        del distr\n",
    "    return [np.vstack(cur) for cur in projections]"
   ]
  },
  {
   "cell_type": "code",
   "execution_count": 10,
   "metadata": {
    "id": "Pght_Ba0oy52"
   },
   "outputs": [],
   "source": [
    "def predict_proba(X: np.ndarray, encoder: tf.keras.Model, classifier: tf.keras.Model,\n",
    "                  n_samples: int, batch_size: int) -> np.ndarray:\n",
    "    projections = calculate_projections(X, encoder, n_samples, batch_size)\n",
    "    y = classifier.predict(projections[0], batch_size=batch_size)\n",
    "    assert len(y.shape) == 2\n",
    "    if n_samples > 1:\n",
    "        for prj_idx in range(1, n_samples):\n",
    "            y += classifier.predict(projections[prj_idx], batch_size=batch_size)\n",
    "    proba = y.astype(np.float64) / float(n_samples)\n",
    "    return proba / np.sum(proba, axis=1, keepdims=True)"
   ]
  },
  {
   "cell_type": "code",
   "execution_count": 11,
   "metadata": {
    "id": "QbRSZHmWtj_t"
   },
   "outputs": [],
   "source": [
    "class TrainsetGenerator(tf.keras.utils.Sequence):\n",
    "    def __init__(self, x: np.ndarray, y: np.ndarray, n_classes: int, batch_size: int):\n",
    "        self.x, self.y = x, y\n",
    "        self.batch_size = batch_size\n",
    "        self.n_classes = n_classes\n",
    "        self.indices_ = np.array(list(range(self.x.shape[0])), dtype=np.int32)\n",
    "        self.class_distr_ = dict()\n",
    "        for sample_idx, class_idx in enumerate(y.tolist()):\n",
    "            if class_idx in self.class_distr_:\n",
    "                self.class_distr_[class_idx].append(sample_idx)\n",
    "            else:\n",
    "                self.class_distr_[class_idx] = [sample_idx]\n",
    "        for class_idx in self.class_distr_:\n",
    "            self.class_distr_[class_idx] = np.array(self.class_distr_[class_idx],\n",
    "                                                    dtype=np.int32)\n",
    "        assert len(self.x.shape) == 2\n",
    "        assert self.x.shape[0] > self.batch_size\n",
    "        assert len(self.y.shape) == 1\n",
    "        assert self.y.shape[0] == self.x.shape[0]\n",
    "    \n",
    "    def __len__(self):\n",
    "        return int(np.ceil(self.x.shape[0] / float(self.batch_size)))\n",
    "    \n",
    "    def __getitem__(self, batch_idx: int):\n",
    "        batch_indices = []\n",
    "        selected_classes = sorted(list(self.class_distr_.keys()))\n",
    "        if self.batch_size < len(selected_classes):\n",
    "            selected_classes = random.sample(selected_classes, self.batch_size)\n",
    "        for counter, class_idx in enumerate(selected_classes):\n",
    "            n = int(round(\n",
    "                (self.batch_size - len(batch_indices)) / \n",
    "                (len(selected_classes) - counter)\n",
    "            ))\n",
    "            batch_indices += np.random.choice(\n",
    "                a=self.class_distr_[class_idx],\n",
    "                size=n\n",
    "            ).tolist()\n",
    "        X_batch = np.empty((len(batch_indices), self.x.shape[1]), dtype=np.float32)\n",
    "        y_batch = [\n",
    "            np.zeros((len(batch_indices), self.n_classes), dtype=np.float32),\n",
    "        ]\n",
    "        for idx, sample_idx in enumerate(batch_indices):\n",
    "            X_batch[idx] = self.x[sample_idx]\n",
    "            class_idx = self.y[sample_idx]\n",
    "            y_batch[0][idx, class_idx] = 1.0\n",
    "        y_batch.append(X_batch)\n",
    "        return X_batch, y_batch"
   ]
  },
  {
   "cell_type": "code",
   "execution_count": 12,
   "metadata": {
    "id": "Ct0xUl_IwHgF"
   },
   "outputs": [],
   "source": [
    "class ValidsetGenerator(tf.keras.utils.Sequence):\n",
    "    def __init__(self, x: np.ndarray, y: np.ndarray, n_classes: int, batch_size: int):\n",
    "        self.x, self.y = x, y\n",
    "        self.batch_size = batch_size\n",
    "        self.n_classes = n_classes\n",
    "        assert len(self.x.shape) == 2\n",
    "        assert self.x.shape[0] > self.batch_size\n",
    "        assert len(self.y.shape) == 1\n",
    "        assert self.y.shape[0] == self.x.shape[0]\n",
    "    \n",
    "    def __len__(self):\n",
    "        return int(np.ceil(self.x.shape[0] / float(self.batch_size)))\n",
    "    \n",
    "    def __getitem__(self, batch_idx: int):\n",
    "        batch_start = batch_idx * self.batch_size\n",
    "        batch_end = min(batch_start + self.batch_size, self.x.shape[0])\n",
    "        batch_indices = list(range(batch_start, batch_end))\n",
    "        X_batch = np.empty((len(batch_indices), self.x.shape[1]), dtype=np.float32)\n",
    "        y_batch = [\n",
    "            np.zeros((len(batch_indices), self.n_classes), dtype=np.float32),\n",
    "        ]\n",
    "        for idx, sample_idx in enumerate(batch_indices):\n",
    "            X_batch[idx] = self.x[sample_idx]\n",
    "            class_idx = self.y[sample_idx]\n",
    "            y_batch[0][idx, class_idx] = 1.0\n",
    "        y_batch.append(X_batch)\n",
    "        return X_batch, y_batch"
   ]
  },
  {
   "cell_type": "code",
   "execution_count": 13,
   "metadata": {
    "id": "XySEOAZv6PA3"
   },
   "outputs": [],
   "source": [
    "def show_training_process(history: tf.keras.callbacks.History, metric_name: str,\n",
    "                          figure_id: int=1, comment: str=''):\n",
    "    val_metric_name = 'val_' + metric_name\n",
    "    if metric_name not in history.history:\n",
    "        err_msg = f'The metric \"{metric_name}\" is not found! Available metrics are: ' \\\n",
    "                  f'{list(history.history.keys())}.'\n",
    "        raise ValueError(err_msg)\n",
    "    plt.figure(figure_id, figsize=(5, 5))\n",
    "    interesting_metric = history.history[metric_name]\n",
    "    plt.plot(list(range(len(interesting_metric))), interesting_metric,\n",
    "             label=f'Training {metric_name}')\n",
    "    if val_metric_name in history.history:\n",
    "        interesting_val_metric = history.history[val_metric_name]\n",
    "        assert len(interesting_metric) == len(interesting_val_metric)\n",
    "        plt.plot(list(range(len(interesting_val_metric))),\n",
    "                 interesting_val_metric,\n",
    "                 label=f'Validation {metric_name}')\n",
    "    plt.xlabel('Epochs')\n",
    "    plt.ylabel(metric_name)\n",
    "    if len(comment) > 0:\n",
    "        plt.title(f'Training process of {comment}')\n",
    "    else:\n",
    "        plt.title('Training process')\n",
    "    plt.legend(loc='best')\n",
    "    plt.show()"
   ]
  },
  {
   "cell_type": "code",
   "execution_count": 14,
   "metadata": {
    "id": "3-HMveIH1kGs"
   },
   "outputs": [],
   "source": [
    "random.seed(42)\n",
    "np.random.seed(42)\n",
    "tf.random.set_seed(42)"
   ]
  },
  {
   "cell_type": "code",
   "execution_count": 15,
   "metadata": {
    "id": "sFy1uxbg33tm"
   },
   "outputs": [],
   "source": [
    "MINIBATCH_SIZE_FOR_TRAINING = 4096\n",
    "MINIBATCH_SIZE_FOR_INFERENCE = 32\n",
    "MAX_TRAINING_EPOCHS = 1000\n",
    "ES_PATIENCE = 20"
   ]
  },
  {
   "cell_type": "code",
   "execution_count": 16,
   "metadata": {
    "colab": {
     "base_uri": "https://localhost:8080/",
     "height": 450
    },
    "id": "Bj8e6qC11X2d",
    "outputId": "c02f6d0d-10f8-40cd-b711-8e007493b13f"
   },
   "outputs": [],
   "source": [
    "dataset = fetch_covtype(return_X_y=False, random_state=42, shuffle=True)"
   ]
  },
  {
   "cell_type": "code",
   "execution_count": 17,
   "metadata": {
    "id": "2yHzxi3_AVrP"
   },
   "outputs": [],
   "source": [
    "classes_dict = dict()\n",
    "for val in dataset.target.tolist():\n",
    "    if val not in classes_dict:\n",
    "        classes_dict[val] = len(classes_dict)"
   ]
  },
  {
   "cell_type": "code",
   "execution_count": 18,
   "metadata": {
    "id": "Wd2kWW202JXe"
   },
   "outputs": [
    {
     "name": "stdout",
     "output_type": "stream",
     "text": [
      "X.shape = (581012, 54)\n",
      "y.shape = (581012,)\n",
      "Number of classes is 7.\n"
     ]
    }
   ],
   "source": [
    "print(f'X.shape = {dataset.data.shape}')\n",
    "print(f'y.shape = {dataset.target.shape}')\n",
    "print(f'Number of classes is {len(classes_dict)}.')"
   ]
  },
  {
   "cell_type": "code",
   "execution_count": 19,
   "metadata": {
    "id": "_zquwHNA2TNm"
   },
   "outputs": [],
   "source": [
    "X_train, X_test, y_train, y_test = train_test_split(\n",
    "    dataset.data,\n",
    "    np.array([classes_dict[val] for val in dataset.target.tolist()], dtype=np.int32),\n",
    "    test_size=0.05, stratify=dataset.target, random_state=42\n",
    ")"
   ]
  },
  {
   "cell_type": "code",
   "execution_count": 20,
   "metadata": {
    "id": "CGNgEIwD26fc"
   },
   "outputs": [],
   "source": [
    "X_train, X_valid, y_train, y_valid = train_test_split(\n",
    "    X_train,\n",
    "    y_train,\n",
    "    test_size=0.05, stratify=y_train, random_state=42\n",
    ")"
   ]
  },
  {
   "cell_type": "code",
   "execution_count": 21,
   "metadata": {
    "id": "e9k-dk272i3F"
   },
   "outputs": [
    {
     "name": "stdout",
     "output_type": "stream",
     "text": [
      "X_train.shape = (524362, 54)\n",
      "y_train.shape = (524362,)\n",
      "Number of classes is 7.\n"
     ]
    }
   ],
   "source": [
    "print(f'X_train.shape = {X_train.shape}')\n",
    "print(f'y_train.shape = {y_train.shape}')\n",
    "number_of_classes_for_training = len(set(map(lambda it: int(it), y_train.tolist())))\n",
    "print(f'Number of classes is {number_of_classes_for_training}.')"
   ]
  },
  {
   "cell_type": "code",
   "execution_count": 22,
   "metadata": {
    "id": "ueqb35hi2zJ0"
   },
   "outputs": [
    {
     "name": "stdout",
     "output_type": "stream",
     "text": [
      "X_valid.shape = (27599, 54)\n",
      "y_valid.shape = (27599,)\n",
      "Number of classes is 7.\n"
     ]
    }
   ],
   "source": [
    "print(f'X_valid.shape = {X_valid.shape}')\n",
    "print(f'y_valid.shape = {y_valid.shape}')\n",
    "number_of_classes_for_validation = len(set(map(lambda it: int(it), y_valid.tolist())))\n",
    "print(f'Number of classes is {number_of_classes_for_validation}.')"
   ]
  },
  {
   "cell_type": "code",
   "execution_count": 23,
   "metadata": {
    "id": "Qxq0visG2uqA"
   },
   "outputs": [
    {
     "name": "stdout",
     "output_type": "stream",
     "text": [
      "X_test.shape = (29051, 54)\n",
      "y_test.shape = (29051,)\n",
      "Number of classes is 7.\n"
     ]
    }
   ],
   "source": [
    "print(f'X_test.shape = {X_test.shape}')\n",
    "print(f'y_test.shape = {y_test.shape}')\n",
    "number_of_classes_for_testing = len(set(map(lambda it: int(it), y_test.tolist())))\n",
    "print(f'Number of classes is {number_of_classes_for_testing}.')"
   ]
  },
  {
   "cell_type": "code",
   "execution_count": 24,
   "metadata": {},
   "outputs": [],
   "source": [
    "BEST_RF_PARAMS = {'ccp_alpha': 1e-06, 'max_features': 0.85, 'max_samples': 0.95, 'n_estimators': 1000}"
   ]
  },
  {
   "cell_type": "code",
   "execution_count": 25,
   "metadata": {
    "id": "TlZalyDU6n2Z"
   },
   "outputs": [
    {
     "name": "stderr",
     "output_type": "stream",
     "text": [
      "[Parallel(n_jobs=-1)]: Using backend ThreadingBackend with 16 concurrent workers.\n",
      "[Parallel(n_jobs=-1)]: Done  18 tasks      | elapsed:   27.0s\n",
      "[Parallel(n_jobs=-1)]: Done 168 tasks      | elapsed:  2.5min\n",
      "[Parallel(n_jobs=-1)]: Done 418 tasks      | elapsed:  6.0min\n",
      "[Parallel(n_jobs=-1)]: Done 768 tasks      | elapsed: 10.7min\n",
      "[Parallel(n_jobs=-1)]: Done 1000 out of 1000 | elapsed: 13.8min finished\n"
     ]
    }
   ],
   "source": [
    "if BEST_RF_PARAMS is None:\n",
    "    baseline = find_best_rf(X_train, y_train)\n",
    "else:\n",
    "    baseline = RandomForestClassifier(\n",
    "        min_samples_leaf=5, random_state=42, verbose=True, n_jobs=-1,\n",
    "        oob_score=True, bootstrap=True,\n",
    "        ccp_alpha=BEST_RF_PARAMS['ccp_alpha'],\n",
    "        n_estimators=BEST_RF_PARAMS['n_estimators'],\n",
    "        max_samples=BEST_RF_PARAMS['max_samples'],\n",
    "        max_features=BEST_RF_PARAMS['max_features']\n",
    "    ).fit(X_train, y_train)"
   ]
  },
  {
   "cell_type": "code",
   "execution_count": 26,
   "metadata": {
    "id": "DewcTZgA7BVB"
   },
   "outputs": [
    {
     "name": "stderr",
     "output_type": "stream",
     "text": [
      "[Parallel(n_jobs=16)]: Using backend ThreadingBackend with 16 concurrent workers.\n",
      "[Parallel(n_jobs=16)]: Done  18 tasks      | elapsed:    0.0s\n",
      "[Parallel(n_jobs=16)]: Done 168 tasks      | elapsed:    0.1s\n",
      "[Parallel(n_jobs=16)]: Done 418 tasks      | elapsed:    0.3s\n",
      "[Parallel(n_jobs=16)]: Done 768 tasks      | elapsed:    0.8s\n"
     ]
    },
    {
     "name": "stdout",
     "output_type": "stream",
     "text": [
      "              precision    recall  f1-score   support\n",
      "\n",
      "           0     0.9709    0.9592    0.9650     10063\n",
      "           1     0.9647    0.9777    0.9711     13457\n",
      "           2     0.9461    0.9723    0.9590      1698\n",
      "           3     0.9350    0.8293    0.8790       451\n",
      "           4     0.9468    0.9067    0.9263       825\n",
      "           5     0.9688    0.9559    0.9623       974\n",
      "           6     0.9268    0.8702    0.8976       131\n",
      "\n",
      "    accuracy                         0.9648     27599\n",
      "   macro avg     0.9513    0.9245    0.9372     27599\n",
      "weighted avg     0.9648    0.9648    0.9647     27599\n",
      "\n"
     ]
    },
    {
     "name": "stderr",
     "output_type": "stream",
     "text": [
      "[Parallel(n_jobs=16)]: Done 1000 out of 1000 | elapsed:    1.0s finished\n"
     ]
    }
   ],
   "source": [
    "print(classification_report(y_true=y_valid, y_pred=baseline.predict(X_valid),\n",
    "                            digits=4))"
   ]
  },
  {
   "cell_type": "code",
   "execution_count": 27,
   "metadata": {
    "id": "S_86kMn57JFg"
   },
   "outputs": [
    {
     "name": "stderr",
     "output_type": "stream",
     "text": [
      "[Parallel(n_jobs=16)]: Using backend ThreadingBackend with 16 concurrent workers.\n",
      "[Parallel(n_jobs=16)]: Done  18 tasks      | elapsed:    0.0s\n",
      "[Parallel(n_jobs=16)]: Done 168 tasks      | elapsed:    0.1s\n",
      "[Parallel(n_jobs=16)]: Done 418 tasks      | elapsed:    0.4s\n",
      "[Parallel(n_jobs=16)]: Done 768 tasks      | elapsed:    0.8s\n"
     ]
    },
    {
     "name": "stdout",
     "output_type": "stream",
     "text": [
      "              precision    recall  f1-score   support\n",
      "\n",
      "           0     0.9703    0.9576    0.9639     10592\n",
      "           1     0.9630    0.9780    0.9704     14165\n",
      "           2     0.9542    0.9681    0.9611      1788\n",
      "           3     0.9512    0.8211    0.8814       475\n",
      "           4     0.9347    0.9240    0.9293       868\n",
      "           5     0.9729    0.9464    0.9595      1026\n",
      "           6     0.9091    0.8759    0.8922       137\n",
      "\n",
      "    accuracy                         0.9642     29051\n",
      "   macro avg     0.9508    0.9244    0.9368     29051\n",
      "weighted avg     0.9642    0.9642    0.9640     29051\n",
      "\n"
     ]
    },
    {
     "name": "stderr",
     "output_type": "stream",
     "text": [
      "[Parallel(n_jobs=16)]: Done 1000 out of 1000 | elapsed:    1.0s finished\n"
     ]
    }
   ],
   "source": [
    "print(classification_report(y_true=y_test, y_pred=baseline.predict(X_test),\n",
    "                            digits=4))"
   ]
  },
  {
   "cell_type": "code",
   "execution_count": 28,
   "metadata": {
    "id": "OZj5Rksa3UrG"
   },
   "outputs": [],
   "source": [
    "del dataset"
   ]
  },
  {
   "cell_type": "code",
   "execution_count": 29,
   "metadata": {
    "id": "2gWkVba73itc"
   },
   "outputs": [],
   "source": [
    "input_normalizer = build_normalizer(X_train)"
   ]
  },
  {
   "cell_type": "code",
   "execution_count": 30,
   "metadata": {
    "id": "9exQnTea3n8m"
   },
   "outputs": [],
   "source": [
    "X_train = input_normalizer.transform(X_train)\n",
    "X_valid = input_normalizer.transform(X_valid)\n",
    "X_test = input_normalizer.transform(X_test)"
   ]
  },
  {
   "cell_type": "code",
   "execution_count": 31,
   "metadata": {
    "id": "nhzatua536gO"
   },
   "outputs": [],
   "source": [
    "trainset_gen = TrainsetGenerator(\n",
    "    x=X_train,\n",
    "    y=y_train,\n",
    "    n_classes=len(classes_dict),\n",
    "    batch_size=MINIBATCH_SIZE_FOR_TRAINING\n",
    ")"
   ]
  },
  {
   "cell_type": "code",
   "execution_count": 32,
   "metadata": {
    "id": "CrZ5546EAESh"
   },
   "outputs": [
    {
     "name": "stdout",
     "output_type": "stream",
     "text": [
      "[ 3.1698352e-01 -1.2436310e+00 -9.8235929e-01 -1.0195646e+00\n",
      "  5.8616734e-01 -1.1568286e+00 -1.5181400e-01  2.4146403e-01\n",
      " -7.7954209e-01  1.8961939e+00 -1.3411260e+00  1.7255381e+00\n",
      " -1.4771707e+00  2.3777629e-01  2.5964335e-01 -7.7618486e-01\n",
      "  2.9072332e-01 -4.9969864e-01 -7.5002897e-01 -4.4066715e-01\n",
      "  1.3812125e-01 -5.5963403e-01 -1.6686271e-01 -1.1624459e-01\n",
      "  1.7178836e-01  6.8602934e-02 -5.8058649e-02 -1.5387362e-01\n",
      "  2.3957362e-02 -7.5299077e-02 -1.4331256e-02 -5.1747737e-03\n",
      " -1.1314893e-02  4.6810280e-03 -3.4542501e-02 -4.7419462e-02\n",
      " -1.7947195e-02  2.9625800e-03 -1.6188375e-03  1.6398565e-01\n",
      "  1.1993968e+00 -2.0458321e-01  6.9995165e-01 -1.7208570e-01\n",
      " -6.1011755e-01 -1.1995329e+00 -9.1859698e-02 -5.2674448e-01\n",
      "  1.0425091e+00  4.5667589e-01  7.8531253e-01  1.3355339e-03\n",
      " -4.3550673e-15 -6.1737050e-16]\n",
      "[1.0, 0.0, 0.0, 0.0, 0.0, 0.0, 0.0]\n",
      "[0.31698352098464966, -1.2436310052871704, -0.9823592901229858, -1.0195646286010742, 0.5861673355102539, -1.1568286418914795, -0.15181399881839752, 0.2414640337228775, -0.779542088508606, 1.8961938619613647, -1.3411259651184082, 1.7255381345748901, -1.477170705795288, 0.23777629435062408, 0.2596433460712433, -0.7761848568916321, 0.2907233238220215, -0.4996986389160156, -0.7500289678573608, -0.44066715240478516, 0.13812124729156494, -0.5596340298652649, -0.16686271131038666, -0.1162445917725563, 0.17178836464881897, 0.06860293447971344, -0.05805864930152893, -0.15387362241744995, 0.02395736239850521, -0.07529907673597336, -0.014331256039440632, -0.005174773745238781, -0.011314893141388893, 0.004681027960032225, -0.0345425009727478, -0.047419462352991104, -0.01794719509780407, 0.0029625799506902695, -0.001618837472051382, 0.16398565471172333, 1.1993968486785889, -0.20458321273326874, 0.6999516487121582, -0.172085702419281, -0.6101175546646118, -1.1995328664779663, -0.09185969829559326, -0.5267444849014282, 1.0425090789794922, 0.4566758871078491, 0.7853125333786011, 0.0013355339178815484, -4.3550673321530314e-15, -6.173704985785783e-16]\n"
     ]
    }
   ],
   "source": [
    "X_, y_ = trainset_gen[0]\n",
    "print(X_[0])\n",
    "for it in y_:\n",
    "    print(it[0].tolist() if isinstance(it[0], np.ndarray) else it[0])\n",
    "del X_, y_"
   ]
  },
  {
   "cell_type": "code",
   "execution_count": 33,
   "metadata": {
    "id": "J6E4MUgKLnTz"
   },
   "outputs": [
    {
     "name": "stdout",
     "output_type": "stream",
     "text": [
      "Class 0 frequency is 14%.\n",
      "Class 1 frequency is 14%.\n",
      "Class 2 frequency is 14%.\n",
      "Class 3 frequency is 14%.\n",
      "Class 4 frequency is 14%.\n",
      "Class 5 frequency is 14%.\n",
      "Class 6 frequency is 14%.\n"
     ]
    }
   ],
   "source": [
    "train_class_freq = dict()\n",
    "for idx1 in range(len(trainset_gen)):\n",
    "    X_, y_ = trainset_gen[idx1]\n",
    "    for idx2 in range(X_.shape[0]):\n",
    "        class_idx1 = int(np.argmax(y_[0][idx2]))\n",
    "        if class_idx1 in train_class_freq:\n",
    "            train_class_freq[class_idx1] += 1\n",
    "        else:\n",
    "            train_class_freq[class_idx1] = 1\n",
    "    del X_, y_\n",
    "sum_freq = 0\n",
    "for class_idx1 in sorted(train_class_freq.keys()):\n",
    "    sum_freq += train_class_freq[class_idx1]\n",
    "for class_idx1 in sorted(train_class_freq.keys()):\n",
    "    percent = 100.0 * train_class_freq[class_idx1]\n",
    "    percent /= float(sum_freq)\n",
    "    print(f'Class {class_idx1} frequency is {int(round(percent))}%.')"
   ]
  },
  {
   "cell_type": "code",
   "execution_count": 34,
   "metadata": {
    "id": "5F8l7axU4TY-"
   },
   "outputs": [],
   "source": [
    "validset_gen = ValidsetGenerator(\n",
    "    x=X_valid,\n",
    "    y=y_valid,\n",
    "    n_classes=len(classes_dict),\n",
    "    batch_size=MINIBATCH_SIZE_FOR_TRAINING\n",
    ")"
   ]
  },
  {
   "cell_type": "code",
   "execution_count": 35,
   "metadata": {
    "id": "SunvCCo5AHDF"
   },
   "outputs": [
    {
     "name": "stdout",
     "output_type": "stream",
     "text": [
      "Class 0 frequency is 36%.\n",
      "Class 1 frequency is 49%.\n",
      "Class 2 frequency is 6%.\n",
      "Class 3 frequency is 2%.\n",
      "Class 4 frequency is 3%.\n",
      "Class 5 frequency is 4%.\n",
      "Class 6 frequency is 0%.\n"
     ]
    }
   ],
   "source": [
    "val_class_freq = dict()\n",
    "for idx1 in range(len(validset_gen)):\n",
    "    X_, y_ = validset_gen[idx1]\n",
    "    for idx2 in range(X_.shape[0]):\n",
    "        class_idx1 = int(np.argmax(y_[0][idx2]))\n",
    "        if class_idx1 in val_class_freq:\n",
    "            val_class_freq[class_idx1] += 1\n",
    "        else:\n",
    "            val_class_freq[class_idx1] = 1\n",
    "    del X_, y_\n",
    "sum_freq = 0\n",
    "for class_idx1 in sorted(val_class_freq.keys()):\n",
    "    sum_freq += val_class_freq[class_idx1]\n",
    "for class_idx1 in sorted(val_class_freq.keys()):\n",
    "    percent = 100.0 * val_class_freq[class_idx1]\n",
    "    percent /= float(sum_freq)\n",
    "    print(f'Class {class_idx1} frequency is {int(round(percent))}%.')"
   ]
  },
  {
   "cell_type": "code",
   "execution_count": 37,
   "metadata": {
    "id": "gD_V0PjA4Wuc"
   },
   "outputs": [],
   "source": [
    "trainable_nn, encoding_nn, classification_nn = build_neural_network(\n",
    "    n_features=X_valid.shape[1], n_classes=len(classes_dict),\n",
    "    n_latent=64, n_hidden=512, depth=6, nn_name='covertype'\n",
    ")"
   ]
  },
  {
   "cell_type": "code",
   "execution_count": 38,
   "metadata": {
    "id": "mvAJp-FXBOkH"
   },
   "outputs": [
    {
     "name": "stdout",
     "output_type": "stream",
     "text": [
      "Model: \"covertype_vae\"\n",
      "__________________________________________________________________________________________________\n",
      "Layer (type)                    Output Shape         Param #     Connected to                     \n",
      "==================================================================================================\n",
      "covertype_feature_vector (Input [(None, 54)]         0                                            \n",
      "__________________________________________________________________________________________________\n",
      "covertype_enc_dense1 (Dense)    (None, 512)          28160       covertype_feature_vector[0][0]   \n",
      "__________________________________________________________________________________________________\n",
      "covertype_enc_dense2 (Dense)    (None, 512)          262656      covertype_enc_dense1[0][0]       \n",
      "__________________________________________________________________________________________________\n",
      "covertype_enc_dense3 (Dense)    (None, 512)          262656      covertype_enc_dense2[0][0]       \n",
      "__________________________________________________________________________________________________\n",
      "covertype_enc_add1 (Add)        (None, 512)          0           covertype_enc_dense1[0][0]       \n",
      "                                                                 covertype_enc_dense3[0][0]       \n",
      "__________________________________________________________________________________________________\n",
      "covertype_enc_dense4 (Dense)    (None, 512)          262656      covertype_enc_add1[0][0]         \n",
      "__________________________________________________________________________________________________\n",
      "covertype_enc_dense5 (Dense)    (None, 512)          262656      covertype_enc_dense4[0][0]       \n",
      "__________________________________________________________________________________________________\n",
      "covertype_enc_dense6 (Dense)    (None, 512)          262656      covertype_enc_dense5[0][0]       \n",
      "__________________________________________________________________________________________________\n",
      "covertype_enc_add2 (Add)        (None, 512)          0           covertype_enc_dense4[0][0]       \n",
      "                                                                 covertype_enc_dense6[0][0]       \n",
      "__________________________________________________________________________________________________\n",
      "covertype_enc_dense7 (Dense)    (None, 512)          262656      covertype_enc_add2[0][0]         \n",
      "__________________________________________________________________________________________________\n",
      "covertype_enc_dense8 (Dense)    (None, 512)          262656      covertype_enc_dense7[0][0]       \n",
      "__________________________________________________________________________________________________\n",
      "covertype_enc_dense9 (Dense)    (None, 512)          262656      covertype_enc_dense8[0][0]       \n",
      "__________________________________________________________________________________________________\n",
      "covertype_enc_add3 (Add)        (None, 512)          0           covertype_enc_dense7[0][0]       \n",
      "                                                                 covertype_enc_dense9[0][0]       \n",
      "__________________________________________________________________________________________________\n",
      "covertype_enc_dense10 (Dense)   (None, 512)          262656      covertype_enc_add3[0][0]         \n",
      "__________________________________________________________________________________________________\n",
      "covertype_enc_dense11 (Dense)   (None, 512)          262656      covertype_enc_dense10[0][0]      \n",
      "__________________________________________________________________________________________________\n",
      "covertype_enc_dense12 (Dense)   (None, 512)          262656      covertype_enc_dense11[0][0]      \n",
      "__________________________________________________________________________________________________\n",
      "covertype_enc_add4 (Add)        (None, 512)          0           covertype_enc_dense10[0][0]      \n",
      "                                                                 covertype_enc_dense12[0][0]      \n",
      "__________________________________________________________________________________________________\n",
      "covertype_enc_dense13 (Dense)   (None, 512)          262656      covertype_enc_add4[0][0]         \n",
      "__________________________________________________________________________________________________\n",
      "covertype_enc_dense14 (Dense)   (None, 512)          262656      covertype_enc_dense13[0][0]      \n",
      "__________________________________________________________________________________________________\n",
      "covertype_enc_dense15 (Dense)   (None, 512)          262656      covertype_enc_dense14[0][0]      \n",
      "__________________________________________________________________________________________________\n",
      "covertype_enc_add5 (Add)        (None, 512)          0           covertype_enc_dense13[0][0]      \n",
      "                                                                 covertype_enc_dense15[0][0]      \n",
      "__________________________________________________________________________________________________\n",
      "covertype_enc_dense16 (Dense)   (None, 512)          262656      covertype_enc_add5[0][0]         \n",
      "__________________________________________________________________________________________________\n",
      "covertype_enc_dense17 (Dense)   (None, 512)          262656      covertype_enc_dense16[0][0]      \n",
      "__________________________________________________________________________________________________\n",
      "covertype_enc_dense18 (Dense)   (None, 512)          262656      covertype_enc_dense17[0][0]      \n",
      "__________________________________________________________________________________________________\n",
      "covertype_enc_add6 (Add)        (None, 512)          0           covertype_enc_dense16[0][0]      \n",
      "                                                                 covertype_enc_dense18[0][0]      \n",
      "__________________________________________________________________________________________________\n",
      "covertype_latent (Dense)        (None, 128)          65664       covertype_enc_add6[0][0]         \n",
      "__________________________________________________________________________________________________\n",
      "covertype_z (IndependentNormal) multiple             0           covertype_latent[0][0]           \n",
      "__________________________________________________________________________________________________\n",
      "covertype_dec_dense1 (Dense)    (None, 512)          33280       covertype_z[0][0]                \n",
      "__________________________________________________________________________________________________\n",
      "covertype_dec_dense2 (Dense)    (None, 512)          262656      covertype_dec_dense1[0][0]       \n",
      "__________________________________________________________________________________________________\n",
      "covertype_dec_dense3 (Dense)    (None, 512)          262656      covertype_dec_dense2[0][0]       \n",
      "__________________________________________________________________________________________________\n",
      "covertype_dec_add1 (Add)        (None, 512)          0           covertype_dec_dense1[0][0]       \n",
      "                                                                 covertype_dec_dense3[0][0]       \n",
      "__________________________________________________________________________________________________\n",
      "covertype_dec_dense4 (Dense)    (None, 512)          262656      covertype_dec_add1[0][0]         \n",
      "__________________________________________________________________________________________________\n",
      "covertype_dec_dense5 (Dense)    (None, 512)          262656      covertype_dec_dense4[0][0]       \n",
      "__________________________________________________________________________________________________\n",
      "covertype_dec_dense6 (Dense)    (None, 512)          262656      covertype_dec_dense5[0][0]       \n",
      "__________________________________________________________________________________________________\n",
      "covertype_dec_add2 (Add)        (None, 512)          0           covertype_dec_dense4[0][0]       \n",
      "                                                                 covertype_dec_dense6[0][0]       \n",
      "__________________________________________________________________________________________________\n",
      "covertype_dec_dense7 (Dense)    (None, 512)          262656      covertype_dec_add2[0][0]         \n",
      "__________________________________________________________________________________________________\n",
      "covertype_dec_dense8 (Dense)    (None, 512)          262656      covertype_dec_dense7[0][0]       \n",
      "__________________________________________________________________________________________________\n",
      "covertype_dec_dense9 (Dense)    (None, 512)          262656      covertype_dec_dense8[0][0]       \n",
      "__________________________________________________________________________________________________\n",
      "covertype_dec_add3 (Add)        (None, 512)          0           covertype_dec_dense7[0][0]       \n",
      "                                                                 covertype_dec_dense9[0][0]       \n",
      "__________________________________________________________________________________________________\n",
      "covertype_dec_dense10 (Dense)   (None, 512)          262656      covertype_dec_add3[0][0]         \n",
      "__________________________________________________________________________________________________\n",
      "covertype_dec_dense11 (Dense)   (None, 512)          262656      covertype_dec_dense10[0][0]      \n",
      "__________________________________________________________________________________________________\n",
      "covertype_dec_dense12 (Dense)   (None, 512)          262656      covertype_dec_dense11[0][0]      \n",
      "__________________________________________________________________________________________________\n",
      "covertype_dec_add4 (Add)        (None, 512)          0           covertype_dec_dense10[0][0]      \n",
      "                                                                 covertype_dec_dense12[0][0]      \n",
      "__________________________________________________________________________________________________\n",
      "covertype_dec_dense13 (Dense)   (None, 512)          262656      covertype_dec_add4[0][0]         \n",
      "__________________________________________________________________________________________________\n",
      "covertype_dec_dense14 (Dense)   (None, 512)          262656      covertype_dec_dense13[0][0]      \n",
      "__________________________________________________________________________________________________\n",
      "covertype_dec_dense15 (Dense)   (None, 512)          262656      covertype_dec_dense14[0][0]      \n",
      "__________________________________________________________________________________________________\n",
      "covertype_dec_add5 (Add)        (None, 512)          0           covertype_dec_dense13[0][0]      \n",
      "                                                                 covertype_dec_dense15[0][0]      \n",
      "__________________________________________________________________________________________________\n",
      "covertype_dec_dense16 (Dense)   (None, 512)          262656      covertype_dec_add5[0][0]         \n",
      "__________________________________________________________________________________________________\n",
      "covertype_dec_dense17 (Dense)   (None, 512)          262656      covertype_dec_dense16[0][0]      \n",
      "__________________________________________________________________________________________________\n",
      "covertype_dec_dense18 (Dense)   (None, 512)          262656      covertype_dec_dense17[0][0]      \n",
      "__________________________________________________________________________________________________\n",
      "covertype_dec_add6 (Add)        (None, 512)          0           covertype_dec_dense16[0][0]      \n",
      "                                                                 covertype_dec_dense18[0][0]      \n",
      "__________________________________________________________________________________________________\n",
      "covertype_cls (Functional)      (None, 7)            36871       covertype_z[0][0]                \n",
      "__________________________________________________________________________________________________\n",
      "covertype_reconstruction (Dense (None, 54)           27702       covertype_dec_add6[0][0]         \n",
      "==================================================================================================\n",
      "Total params: 9,121,981\n",
      "Trainable params: 9,121,981\n",
      "Non-trainable params: 0\n",
      "__________________________________________________________________________________________________\n"
     ]
    }
   ],
   "source": [
    "trainable_nn.summary()"
   ]
  },
  {
   "cell_type": "code",
   "execution_count": 39,
   "metadata": {
    "id": "5F-mTtjB5WrP"
   },
   "outputs": [],
   "source": [
    "nn_fname = 'covertype_united.h5'"
   ]
  },
  {
   "cell_type": "code",
   "execution_count": 40,
   "metadata": {
    "id": "CkUNeVkB4ysG"
   },
   "outputs": [],
   "source": [
    "callbacks = [\n",
    "    tf.keras.callbacks.EarlyStopping(\n",
    "        monitor=\"val_loss\",\n",
    "        patience=ES_PATIENCE,\n",
    "        mode=\"min\",\n",
    "        restore_best_weights=False\n",
    "    ),\n",
    "    tf.keras.callbacks.ModelCheckpoint(\n",
    "        filepath=nn_fname,\n",
    "        monitor=\"val_loss\",\n",
    "        mode=\"min\",\n",
    "        save_best_only=True,\n",
    "        save_weights_only=True\n",
    "    ),\n",
    "    tf.keras.callbacks.ReduceLROnPlateau(\n",
    "        factor=0.33,\n",
    "        patience=2,\n",
    "        verbose=True,\n",
    "        mode=\"min\",\n",
    "        monitor=\"loss\"\n",
    "    )\n",
    "]"
   ]
  },
  {
   "cell_type": "code",
   "execution_count": 41,
   "metadata": {
    "id": "P5yO4Kj-5n_g"
   },
   "outputs": [
    {
     "name": "stdout",
     "output_type": "stream",
     "text": [
      "Epoch 1/1000\n",
      "129/129 [==============================] - 50s 262ms/step - loss: 1.4941 - covertype_cls_loss: 1.1143 - covertype_reconstruction_loss: 0.1914 - covertype_cls_categorical_accuracy: 0.6571 - val_loss: 1.3130 - val_covertype_cls_loss: 1.0891 - val_covertype_reconstruction_loss: 0.0790 - val_covertype_cls_categorical_accuracy: 0.6490\n",
      "Epoch 2/1000\n",
      "129/129 [==============================] - 33s 258ms/step - loss: 1.0188 - covertype_cls_loss: 0.8434 - covertype_reconstruction_loss: 0.0518 - covertype_cls_categorical_accuracy: 0.7977 - val_loss: 1.1356 - val_covertype_cls_loss: 0.9675 - val_covertype_reconstruction_loss: 0.0469 - val_covertype_cls_categorical_accuracy: 0.7246\n",
      "Epoch 3/1000\n",
      "129/129 [==============================] - 33s 254ms/step - loss: 0.9028 - covertype_cls_loss: 0.7616 - covertype_reconstruction_loss: 0.0341 - covertype_cls_categorical_accuracy: 0.8470 - val_loss: 1.0364 - val_covertype_cls_loss: 0.8895 - val_covertype_reconstruction_loss: 0.0372 - val_covertype_cls_categorical_accuracy: 0.7703\n",
      "Epoch 4/1000\n",
      "129/129 [==============================] - 33s 258ms/step - loss: 0.8374 - covertype_cls_loss: 0.7121 - covertype_reconstruction_loss: 0.0273 - covertype_cls_categorical_accuracy: 0.8754 - val_loss: 0.9788 - val_covertype_cls_loss: 0.8452 - val_covertype_reconstruction_loss: 0.0308 - val_covertype_cls_categorical_accuracy: 0.8003\n",
      "Epoch 5/1000\n",
      "129/129 [==============================] - 33s 258ms/step - loss: 0.7938 - covertype_cls_loss: 0.6800 - covertype_reconstruction_loss: 0.0230 - covertype_cls_categorical_accuracy: 0.8930 - val_loss: 0.9274 - val_covertype_cls_loss: 0.8082 - val_covertype_reconstruction_loss: 0.0269 - val_covertype_cls_categorical_accuracy: 0.8161\n",
      "Epoch 6/1000\n",
      "129/129 [==============================] - 33s 258ms/step - loss: 0.7461 - covertype_cls_loss: 0.6429 - covertype_reconstruction_loss: 0.0198 - covertype_cls_categorical_accuracy: 0.9115 - val_loss: 0.8392 - val_covertype_cls_loss: 0.7309 - val_covertype_reconstruction_loss: 0.0225 - val_covertype_cls_categorical_accuracy: 0.8599\n",
      "Epoch 7/1000\n",
      "129/129 [==============================] - 32s 248ms/step - loss: 0.7157 - covertype_cls_loss: 0.6207 - covertype_reconstruction_loss: 0.0174 - covertype_cls_categorical_accuracy: 0.9228 - val_loss: 0.8552 - val_covertype_cls_loss: 0.7542 - val_covertype_reconstruction_loss: 0.0215 - val_covertype_cls_categorical_accuracy: 0.8482\n",
      "Epoch 8/1000\n",
      "129/129 [==============================] - 33s 253ms/step - loss: 0.6951 - covertype_cls_loss: 0.6060 - covertype_reconstruction_loss: 0.0160 - covertype_cls_categorical_accuracy: 0.9298 - val_loss: 0.7940 - val_covertype_cls_loss: 0.7008 - val_covertype_reconstruction_loss: 0.0173 - val_covertype_cls_categorical_accuracy: 0.8771\n",
      "Epoch 9/1000\n",
      "129/129 [==============================] - 33s 259ms/step - loss: 0.6775 - covertype_cls_loss: 0.5935 - covertype_reconstruction_loss: 0.0147 - covertype_cls_categorical_accuracy: 0.9355 - val_loss: 0.7907 - val_covertype_cls_loss: 0.7008 - val_covertype_reconstruction_loss: 0.0176 - val_covertype_cls_categorical_accuracy: 0.8755\n",
      "Epoch 10/1000\n",
      "129/129 [==============================] - 34s 261ms/step - loss: 0.6602 - covertype_cls_loss: 0.5814 - covertype_reconstruction_loss: 0.0130 - covertype_cls_categorical_accuracy: 0.9413 - val_loss: 0.7524 - val_covertype_cls_loss: 0.6680 - val_covertype_reconstruction_loss: 0.0147 - val_covertype_cls_categorical_accuracy: 0.8918\n",
      "Epoch 11/1000\n",
      "129/129 [==============================] - 34s 262ms/step - loss: 0.6442 - covertype_cls_loss: 0.5685 - covertype_reconstruction_loss: 0.0124 - covertype_cls_categorical_accuracy: 0.9479 - val_loss: 0.7954 - val_covertype_cls_loss: 0.7126 - val_covertype_reconstruction_loss: 0.0157 - val_covertype_cls_categorical_accuracy: 0.8770\n",
      "Epoch 12/1000\n",
      "129/129 [==============================] - 34s 262ms/step - loss: 0.6390 - covertype_cls_loss: 0.5654 - covertype_reconstruction_loss: 0.0119 - covertype_cls_categorical_accuracy: 0.9489 - val_loss: 0.7250 - val_covertype_cls_loss: 0.6454 - val_covertype_reconstruction_loss: 0.0128 - val_covertype_cls_categorical_accuracy: 0.9046\n",
      "Epoch 13/1000\n",
      "129/129 [==============================] - 34s 263ms/step - loss: 0.6326 - covertype_cls_loss: 0.5612 - covertype_reconstruction_loss: 0.0112 - covertype_cls_categorical_accuracy: 0.9510 - val_loss: 0.7464 - val_covertype_cls_loss: 0.6675 - val_covertype_reconstruction_loss: 0.0145 - val_covertype_cls_categorical_accuracy: 0.8959\n",
      "Epoch 14/1000\n",
      "129/129 [==============================] - 34s 261ms/step - loss: 0.6228 - covertype_cls_loss: 0.5527 - covertype_reconstruction_loss: 0.0110 - covertype_cls_categorical_accuracy: 0.9546 - val_loss: 0.7130 - val_covertype_cls_loss: 0.6384 - val_covertype_reconstruction_loss: 0.0117 - val_covertype_cls_categorical_accuracy: 0.9071\n",
      "Epoch 15/1000\n",
      "129/129 [==============================] - ETA: 0s - loss: 0.6173 - covertype_cls_loss: 0.5480 - covertype_reconstruction_loss: 0.0108 - covertype_cls_categorical_accuracy: 0.956 - 34s 265ms/step - loss: 0.6173 - covertype_cls_loss: 0.5480 - covertype_reconstruction_loss: 0.0108 - covertype_cls_categorical_accuracy: 0.9564 - val_loss: 0.7307 - val_covertype_cls_loss: 0.6545 - val_covertype_reconstruction_loss: 0.0136 - val_covertype_cls_categorical_accuracy: 0.8987\n",
      "Epoch 16/1000\n",
      "129/129 [==============================] - 34s 262ms/step - loss: 0.6176 - covertype_cls_loss: 0.5492 - covertype_reconstruction_loss: 0.0106 - covertype_cls_categorical_accuracy: 0.9560 - val_loss: 0.7009 - val_covertype_cls_loss: 0.6286 - val_covertype_reconstruction_loss: 0.0111 - val_covertype_cls_categorical_accuracy: 0.9153\n",
      "Epoch 17/1000\n",
      "129/129 [==============================] - 34s 261ms/step - loss: 0.6111 - covertype_cls_loss: 0.5425 - covertype_reconstruction_loss: 0.0107 - covertype_cls_categorical_accuracy: 0.9592 - val_loss: 0.7148 - val_covertype_cls_loss: 0.6395 - val_covertype_reconstruction_loss: 0.0133 - val_covertype_cls_categorical_accuracy: 0.9075\n",
      "Epoch 18/1000\n",
      "129/129 [==============================] - 33s 253ms/step - loss: 0.6156 - covertype_cls_loss: 0.5402 - covertype_reconstruction_loss: 0.0151 - covertype_cls_categorical_accuracy: 0.9604 - val_loss: 0.7457 - val_covertype_cls_loss: 0.6470 - val_covertype_reconstruction_loss: 0.0233 - val_covertype_cls_categorical_accuracy: 0.9067\n",
      "Epoch 19/1000\n",
      "129/129 [==============================] - 32s 247ms/step - loss: 0.6128 - covertype_cls_loss: 0.5410 - covertype_reconstruction_loss: 0.0128 - covertype_cls_categorical_accuracy: 0.9601 - val_loss: 0.6956 - val_covertype_cls_loss: 0.6217 - val_covertype_reconstruction_loss: 0.0129 - val_covertype_cls_categorical_accuracy: 0.9138\n",
      "\n",
      "Epoch 00019: ReduceLROnPlateau reducing learning rate to 0.00033000001567415896.\n",
      "Epoch 20/1000\n",
      "129/129 [==============================] - 32s 252ms/step - loss: 0.5698 - covertype_cls_loss: 0.5077 - covertype_reconstruction_loss: 0.0087 - covertype_cls_categorical_accuracy: 0.9755 - val_loss: 0.6437 - val_covertype_cls_loss: 0.5764 - val_covertype_reconstruction_loss: 0.0102 - val_covertype_cls_categorical_accuracy: 0.9400\n",
      "Epoch 21/1000\n",
      "129/129 [==============================] - 34s 264ms/step - loss: 0.5643 - covertype_cls_loss: 0.5036 - covertype_reconstruction_loss: 0.0082 - covertype_cls_categorical_accuracy: 0.9773 - val_loss: 0.6486 - val_covertype_cls_loss: 0.5814 - val_covertype_reconstruction_loss: 0.0103 - val_covertype_cls_categorical_accuracy: 0.9380\n",
      "Epoch 22/1000\n",
      "129/129 [==============================] - 34s 266ms/step - loss: 0.5629 - covertype_cls_loss: 0.5027 - covertype_reconstruction_loss: 0.0080 - covertype_cls_categorical_accuracy: 0.9776 - val_loss: 0.6363 - val_covertype_cls_loss: 0.5705 - val_covertype_reconstruction_loss: 0.0098 - val_covertype_cls_categorical_accuracy: 0.9428\n",
      "Epoch 23/1000\n",
      "129/129 [==============================] - 34s 263ms/step - loss: 0.5625 - covertype_cls_loss: 0.5027 - covertype_reconstruction_loss: 0.0079 - covertype_cls_categorical_accuracy: 0.9776 - val_loss: 0.6407 - val_covertype_cls_loss: 0.5746 - val_covertype_reconstruction_loss: 0.0098 - val_covertype_cls_categorical_accuracy: 0.9400\n",
      "Epoch 24/1000\n"
     ]
    },
    {
     "name": "stdout",
     "output_type": "stream",
     "text": [
      "129/129 [==============================] - 34s 262ms/step - loss: 0.5605 - covertype_cls_loss: 0.5010 - covertype_reconstruction_loss: 0.0078 - covertype_cls_categorical_accuracy: 0.9784 - val_loss: 0.6335 - val_covertype_cls_loss: 0.5686 - val_covertype_reconstruction_loss: 0.0094 - val_covertype_cls_categorical_accuracy: 0.9437\n",
      "Epoch 25/1000\n",
      "129/129 [==============================] - 34s 263ms/step - loss: 0.5605 - covertype_cls_loss: 0.5013 - covertype_reconstruction_loss: 0.0076 - covertype_cls_categorical_accuracy: 0.9780 - val_loss: 0.6465 - val_covertype_cls_loss: 0.5814 - val_covertype_reconstruction_loss: 0.0097 - val_covertype_cls_categorical_accuracy: 0.9378\n",
      "Epoch 26/1000\n",
      "129/129 [==============================] - 34s 262ms/step - loss: 0.5600 - covertype_cls_loss: 0.5009 - covertype_reconstruction_loss: 0.0077 - covertype_cls_categorical_accuracy: 0.9783 - val_loss: 0.6320 - val_covertype_cls_loss: 0.5678 - val_covertype_reconstruction_loss: 0.0092 - val_covertype_cls_categorical_accuracy: 0.9421\n",
      "Epoch 27/1000\n",
      "129/129 [==============================] - 34s 260ms/step - loss: 0.5598 - covertype_cls_loss: 0.5011 - covertype_reconstruction_loss: 0.0076 - covertype_cls_categorical_accuracy: 0.9780 - val_loss: 0.6424 - val_covertype_cls_loss: 0.5778 - val_covertype_reconstruction_loss: 0.0096 - val_covertype_cls_categorical_accuracy: 0.9393\n",
      "Epoch 28/1000\n",
      "129/129 [==============================] - 33s 257ms/step - loss: 0.5581 - covertype_cls_loss: 0.4997 - covertype_reconstruction_loss: 0.0075 - covertype_cls_categorical_accuracy: 0.9788 - val_loss: 0.6368 - val_covertype_cls_loss: 0.5730 - val_covertype_reconstruction_loss: 0.0090 - val_covertype_cls_categorical_accuracy: 0.9419\n",
      "Epoch 29/1000\n",
      "129/129 [==============================] - 33s 256ms/step - loss: 0.5571 - covertype_cls_loss: 0.4988 - covertype_reconstruction_loss: 0.0075 - covertype_cls_categorical_accuracy: 0.9790 - val_loss: 0.6382 - val_covertype_cls_loss: 0.5731 - val_covertype_reconstruction_loss: 0.0098 - val_covertype_cls_categorical_accuracy: 0.9410\n",
      "Epoch 30/1000\n",
      "129/129 [==============================] - 33s 256ms/step - loss: 0.5567 - covertype_cls_loss: 0.4983 - covertype_reconstruction_loss: 0.0075 - covertype_cls_categorical_accuracy: 0.9790 - val_loss: 0.6318 - val_covertype_cls_loss: 0.5688 - val_covertype_reconstruction_loss: 0.0088 - val_covertype_cls_categorical_accuracy: 0.9432\n",
      "Epoch 31/1000\n",
      "129/129 [==============================] - 30s 231ms/step - loss: 0.5565 - covertype_cls_loss: 0.4980 - covertype_reconstruction_loss: 0.0076 - covertype_cls_categorical_accuracy: 0.9793 - val_loss: 0.6361 - val_covertype_cls_loss: 0.5713 - val_covertype_reconstruction_loss: 0.0095 - val_covertype_cls_categorical_accuracy: 0.9424\n",
      "Epoch 32/1000\n",
      "129/129 [==============================] - 32s 249ms/step - loss: 0.5541 - covertype_cls_loss: 0.4963 - covertype_reconstruction_loss: 0.0074 - covertype_cls_categorical_accuracy: 0.9802 - val_loss: 0.6235 - val_covertype_cls_loss: 0.5608 - val_covertype_reconstruction_loss: 0.0087 - val_covertype_cls_categorical_accuracy: 0.9468\n",
      "Epoch 33/1000\n",
      "129/129 [==============================] - 32s 247ms/step - loss: 0.5549 - covertype_cls_loss: 0.4969 - covertype_reconstruction_loss: 0.0074 - covertype_cls_categorical_accuracy: 0.9798 - val_loss: 0.6326 - val_covertype_cls_loss: 0.5684 - val_covertype_reconstruction_loss: 0.0097 - val_covertype_cls_categorical_accuracy: 0.9436\n",
      "Epoch 34/1000\n",
      "129/129 [==============================] - 33s 254ms/step - loss: 0.5531 - covertype_cls_loss: 0.4956 - covertype_reconstruction_loss: 0.0073 - covertype_cls_categorical_accuracy: 0.9803 - val_loss: 0.6222 - val_covertype_cls_loss: 0.5598 - val_covertype_reconstruction_loss: 0.0088 - val_covertype_cls_categorical_accuracy: 0.9484\n",
      "Epoch 35/1000\n",
      "129/129 [==============================] - 33s 256ms/step - loss: 0.5525 - covertype_cls_loss: 0.4952 - covertype_reconstruction_loss: 0.0073 - covertype_cls_categorical_accuracy: 0.9805 - val_loss: 0.6356 - val_covertype_cls_loss: 0.5715 - val_covertype_reconstruction_loss: 0.0096 - val_covertype_cls_categorical_accuracy: 0.9428\n",
      "Epoch 36/1000\n",
      "129/129 [==============================] - 33s 256ms/step - loss: 0.5529 - covertype_cls_loss: 0.4954 - covertype_reconstruction_loss: 0.0073 - covertype_cls_categorical_accuracy: 0.9803 - val_loss: 0.6232 - val_covertype_cls_loss: 0.5606 - val_covertype_reconstruction_loss: 0.0085 - val_covertype_cls_categorical_accuracy: 0.9479\n",
      "Epoch 37/1000\n",
      "129/129 [==============================] - 35s 272ms/step - loss: 0.5522 - covertype_cls_loss: 0.4951 - covertype_reconstruction_loss: 0.0071 - covertype_cls_categorical_accuracy: 0.9804 - val_loss: 0.6328 - val_covertype_cls_loss: 0.5692 - val_covertype_reconstruction_loss: 0.0094 - val_covertype_cls_categorical_accuracy: 0.9442\n",
      "Epoch 38/1000\n",
      "129/129 [==============================] - 35s 271ms/step - loss: 0.5513 - covertype_cls_loss: 0.4943 - covertype_reconstruction_loss: 0.0073 - covertype_cls_categorical_accuracy: 0.9809 - val_loss: 0.6195 - val_covertype_cls_loss: 0.5576 - val_covertype_reconstruction_loss: 0.0084 - val_covertype_cls_categorical_accuracy: 0.9504\n",
      "Epoch 39/1000\n",
      "129/129 [==============================] - 34s 266ms/step - loss: 0.5503 - covertype_cls_loss: 0.4933 - covertype_reconstruction_loss: 0.0072 - covertype_cls_categorical_accuracy: 0.9814 - val_loss: 0.6293 - val_covertype_cls_loss: 0.5667 - val_covertype_reconstruction_loss: 0.0093 - val_covertype_cls_categorical_accuracy: 0.9446\n",
      "Epoch 40/1000\n",
      "129/129 [==============================] - 34s 266ms/step - loss: 0.5486 - covertype_cls_loss: 0.4918 - covertype_reconstruction_loss: 0.0072 - covertype_cls_categorical_accuracy: 0.9819 - val_loss: 0.6168 - val_covertype_cls_loss: 0.5551 - val_covertype_reconstruction_loss: 0.0083 - val_covertype_cls_categorical_accuracy: 0.9513\n",
      "Epoch 41/1000\n",
      "129/129 [==============================] - 35s 269ms/step - loss: 0.5489 - covertype_cls_loss: 0.4921 - covertype_reconstruction_loss: 0.0071 - covertype_cls_categorical_accuracy: 0.9818 - val_loss: 0.6288 - val_covertype_cls_loss: 0.5656 - val_covertype_reconstruction_loss: 0.0093 - val_covertype_cls_categorical_accuracy: 0.9460\n",
      "Epoch 42/1000\n",
      "129/129 [==============================] - 34s 264ms/step - loss: 0.5480 - covertype_cls_loss: 0.4915 - covertype_reconstruction_loss: 0.0072 - covertype_cls_categorical_accuracy: 0.9820 - val_loss: 0.6158 - val_covertype_cls_loss: 0.5547 - val_covertype_reconstruction_loss: 0.0082 - val_covertype_cls_categorical_accuracy: 0.9516\n",
      "Epoch 43/1000\n",
      "129/129 [==============================] - 32s 246ms/step - loss: 0.5477 - covertype_cls_loss: 0.4916 - covertype_reconstruction_loss: 0.0070 - covertype_cls_categorical_accuracy: 0.9818 - val_loss: 0.6282 - val_covertype_cls_loss: 0.5651 - val_covertype_reconstruction_loss: 0.0095 - val_covertype_cls_categorical_accuracy: 0.9446\n",
      "Epoch 44/1000\n",
      "129/129 [==============================] - 29s 225ms/step - loss: 0.5475 - covertype_cls_loss: 0.4913 - covertype_reconstruction_loss: 0.0071 - covertype_cls_categorical_accuracy: 0.9819 - val_loss: 0.6158 - val_covertype_cls_loss: 0.5550 - val_covertype_reconstruction_loss: 0.0086 - val_covertype_cls_categorical_accuracy: 0.9512\n",
      "Epoch 45/1000\n",
      "129/129 [==============================] - 30s 229ms/step - loss: 0.5449 - covertype_cls_loss: 0.4892 - covertype_reconstruction_loss: 0.0070 - covertype_cls_categorical_accuracy: 0.9829 - val_loss: 0.6226 - val_covertype_cls_loss: 0.5601 - val_covertype_reconstruction_loss: 0.0093 - val_covertype_cls_categorical_accuracy: 0.9491\n",
      "Epoch 46/1000\n",
      "129/129 [==============================] - 30s 231ms/step - loss: 0.5444 - covertype_cls_loss: 0.4887 - covertype_reconstruction_loss: 0.0070 - covertype_cls_categorical_accuracy: 0.9831 - val_loss: 0.6159 - val_covertype_cls_loss: 0.5561 - val_covertype_reconstruction_loss: 0.0078 - val_covertype_cls_categorical_accuracy: 0.9514\n",
      "Epoch 47/1000\n",
      "129/129 [==============================] - 33s 254ms/step - loss: 0.5440 - covertype_cls_loss: 0.4884 - covertype_reconstruction_loss: 0.0069 - covertype_cls_categorical_accuracy: 0.9831 - val_loss: 0.6221 - val_covertype_cls_loss: 0.5609 - val_covertype_reconstruction_loss: 0.0088 - val_covertype_cls_categorical_accuracy: 0.9483\n"
     ]
    },
    {
     "name": "stdout",
     "output_type": "stream",
     "text": [
      "Epoch 48/1000\n",
      "129/129 [==============================] - 35s 268ms/step - loss: 0.5433 - covertype_cls_loss: 0.4881 - covertype_reconstruction_loss: 0.0068 - covertype_cls_categorical_accuracy: 0.9834 - val_loss: 0.6121 - val_covertype_cls_loss: 0.5523 - val_covertype_reconstruction_loss: 0.0083 - val_covertype_cls_categorical_accuracy: 0.9524\n",
      "Epoch 49/1000\n",
      "129/129 [==============================] - 34s 267ms/step - loss: 0.5419 - covertype_cls_loss: 0.4865 - covertype_reconstruction_loss: 0.0069 - covertype_cls_categorical_accuracy: 0.9841 - val_loss: 0.6163 - val_covertype_cls_loss: 0.5555 - val_covertype_reconstruction_loss: 0.0088 - val_covertype_cls_categorical_accuracy: 0.9501\n",
      "Epoch 50/1000\n",
      "129/129 [==============================] - 34s 266ms/step - loss: 0.5427 - covertype_cls_loss: 0.4874 - covertype_reconstruction_loss: 0.0070 - covertype_cls_categorical_accuracy: 0.9836 - val_loss: 0.6078 - val_covertype_cls_loss: 0.5480 - val_covertype_reconstruction_loss: 0.0079 - val_covertype_cls_categorical_accuracy: 0.9539\n",
      "Epoch 51/1000\n",
      "129/129 [==============================] - 34s 265ms/step - loss: 0.5416 - covertype_cls_loss: 0.4869 - covertype_reconstruction_loss: 0.0068 - covertype_cls_categorical_accuracy: 0.9838 - val_loss: 0.6184 - val_covertype_cls_loss: 0.5571 - val_covertype_reconstruction_loss: 0.0087 - val_covertype_cls_categorical_accuracy: 0.9488\n",
      "Epoch 52/1000\n",
      "129/129 [==============================] - 34s 267ms/step - loss: 0.5414 - covertype_cls_loss: 0.4865 - covertype_reconstruction_loss: 0.0069 - covertype_cls_categorical_accuracy: 0.9839 - val_loss: 0.6096 - val_covertype_cls_loss: 0.5497 - val_covertype_reconstruction_loss: 0.0078 - val_covertype_cls_categorical_accuracy: 0.9530\n",
      "Epoch 53/1000\n",
      "129/129 [==============================] - 34s 264ms/step - loss: 0.5403 - covertype_cls_loss: 0.4858 - covertype_reconstruction_loss: 0.0068 - covertype_cls_categorical_accuracy: 0.9842 - val_loss: 0.6230 - val_covertype_cls_loss: 0.5611 - val_covertype_reconstruction_loss: 0.0087 - val_covertype_cls_categorical_accuracy: 0.9472\n",
      "Epoch 54/1000\n",
      "129/129 [==============================] - 34s 266ms/step - loss: 0.5400 - covertype_cls_loss: 0.4856 - covertype_reconstruction_loss: 0.0068 - covertype_cls_categorical_accuracy: 0.9844 - val_loss: 0.6101 - val_covertype_cls_loss: 0.5509 - val_covertype_reconstruction_loss: 0.0078 - val_covertype_cls_categorical_accuracy: 0.9524\n",
      "Epoch 55/1000\n",
      "129/129 [==============================] - 34s 265ms/step - loss: 0.5394 - covertype_cls_loss: 0.4851 - covertype_reconstruction_loss: 0.0068 - covertype_cls_categorical_accuracy: 0.9845 - val_loss: 0.6298 - val_covertype_cls_loss: 0.5681 - val_covertype_reconstruction_loss: 0.0095 - val_covertype_cls_categorical_accuracy: 0.9459\n",
      "Epoch 56/1000\n",
      "129/129 [==============================] - 35s 268ms/step - loss: 0.5387 - covertype_cls_loss: 0.4844 - covertype_reconstruction_loss: 0.0069 - covertype_cls_categorical_accuracy: 0.9847 - val_loss: 0.6056 - val_covertype_cls_loss: 0.5465 - val_covertype_reconstruction_loss: 0.0082 - val_covertype_cls_categorical_accuracy: 0.9558\n",
      "Epoch 57/1000\n",
      "129/129 [==============================] - 34s 262ms/step - loss: 0.5377 - covertype_cls_loss: 0.4836 - covertype_reconstruction_loss: 0.0069 - covertype_cls_categorical_accuracy: 0.9848 - val_loss: 0.6192 - val_covertype_cls_loss: 0.5595 - val_covertype_reconstruction_loss: 0.0089 - val_covertype_cls_categorical_accuracy: 0.9487\n",
      "Epoch 58/1000\n",
      "129/129 [==============================] - 34s 267ms/step - loss: 0.5376 - covertype_cls_loss: 0.4836 - covertype_reconstruction_loss: 0.0069 - covertype_cls_categorical_accuracy: 0.9850 - val_loss: 0.6072 - val_covertype_cls_loss: 0.5489 - val_covertype_reconstruction_loss: 0.0080 - val_covertype_cls_categorical_accuracy: 0.9543\n",
      "Epoch 59/1000\n",
      "129/129 [==============================] - 34s 267ms/step - loss: 0.5366 - covertype_cls_loss: 0.4830 - covertype_reconstruction_loss: 0.0068 - covertype_cls_categorical_accuracy: 0.9850 - val_loss: 0.6154 - val_covertype_cls_loss: 0.5556 - val_covertype_reconstruction_loss: 0.0085 - val_covertype_cls_categorical_accuracy: 0.9519\n",
      "Epoch 60/1000\n",
      "129/129 [==============================] - 35s 268ms/step - loss: 0.5362 - covertype_cls_loss: 0.4825 - covertype_reconstruction_loss: 0.0067 - covertype_cls_categorical_accuracy: 0.9855 - val_loss: 0.6057 - val_covertype_cls_loss: 0.5475 - val_covertype_reconstruction_loss: 0.0078 - val_covertype_cls_categorical_accuracy: 0.9551\n",
      "Epoch 61/1000\n",
      "129/129 [==============================] - 34s 267ms/step - loss: 0.5362 - covertype_cls_loss: 0.4829 - covertype_reconstruction_loss: 0.0068 - covertype_cls_categorical_accuracy: 0.9852 - val_loss: 0.6159 - val_covertype_cls_loss: 0.5557 - val_covertype_reconstruction_loss: 0.0089 - val_covertype_cls_categorical_accuracy: 0.9501\n",
      "Epoch 62/1000\n",
      "129/129 [==============================] - 34s 267ms/step - loss: 0.5358 - covertype_cls_loss: 0.4827 - covertype_reconstruction_loss: 0.0068 - covertype_cls_categorical_accuracy: 0.9852 - val_loss: 0.6012 - val_covertype_cls_loss: 0.5433 - val_covertype_reconstruction_loss: 0.0078 - val_covertype_cls_categorical_accuracy: 0.9564\n",
      "Epoch 63/1000\n",
      "129/129 [==============================] - 34s 267ms/step - loss: 0.5346 - covertype_cls_loss: 0.4817 - covertype_reconstruction_loss: 0.0067 - covertype_cls_categorical_accuracy: 0.9856 - val_loss: 0.6145 - val_covertype_cls_loss: 0.5546 - val_covertype_reconstruction_loss: 0.0091 - val_covertype_cls_categorical_accuracy: 0.9507\n",
      "Epoch 64/1000\n",
      "129/129 [==============================] - 34s 265ms/step - loss: 0.5328 - covertype_cls_loss: 0.4802 - covertype_reconstruction_loss: 0.0067 - covertype_cls_categorical_accuracy: 0.9862 - val_loss: 0.5999 - val_covertype_cls_loss: 0.5422 - val_covertype_reconstruction_loss: 0.0076 - val_covertype_cls_categorical_accuracy: 0.9560\n",
      "Epoch 65/1000\n",
      "129/129 [==============================] - 35s 268ms/step - loss: 0.5330 - covertype_cls_loss: 0.4803 - covertype_reconstruction_loss: 0.0067 - covertype_cls_categorical_accuracy: 0.9861 - val_loss: 0.6152 - val_covertype_cls_loss: 0.5559 - val_covertype_reconstruction_loss: 0.0088 - val_covertype_cls_categorical_accuracy: 0.9503\n",
      "Epoch 66/1000\n",
      "129/129 [==============================] - 34s 266ms/step - loss: 0.5334 - covertype_cls_loss: 0.4805 - covertype_reconstruction_loss: 0.0068 - covertype_cls_categorical_accuracy: 0.9860 - val_loss: 0.5996 - val_covertype_cls_loss: 0.5423 - val_covertype_reconstruction_loss: 0.0076 - val_covertype_cls_categorical_accuracy: 0.9564\n",
      "\n",
      "Epoch 00066: ReduceLROnPlateau reducing learning rate to 0.00010890000325161964.\n",
      "Epoch 67/1000\n",
      "129/129 [==============================] - 35s 269ms/step - loss: 0.5202 - covertype_cls_loss: 0.4695 - covertype_reconstruction_loss: 0.0062 - covertype_cls_categorical_accuracy: 0.9913 - val_loss: 0.5845 - val_covertype_cls_loss: 0.5277 - val_covertype_reconstruction_loss: 0.0080 - val_covertype_cls_categorical_accuracy: 0.9643\n",
      "Epoch 68/1000\n",
      "129/129 [==============================] - 35s 271ms/step - loss: 0.5176 - covertype_cls_loss: 0.4673 - covertype_reconstruction_loss: 0.0061 - covertype_cls_categorical_accuracy: 0.9923 - val_loss: 0.5829 - val_covertype_cls_loss: 0.5270 - val_covertype_reconstruction_loss: 0.0075 - val_covertype_cls_categorical_accuracy: 0.9639\n",
      "Epoch 69/1000\n",
      "129/129 [==============================] - 35s 271ms/step - loss: 0.5175 - covertype_cls_loss: 0.4676 - covertype_reconstruction_loss: 0.0060 - covertype_cls_categorical_accuracy: 0.9921 - val_loss: 0.5884 - val_covertype_cls_loss: 0.5324 - val_covertype_reconstruction_loss: 0.0075 - val_covertype_cls_categorical_accuracy: 0.9618\n",
      "Epoch 70/1000\n",
      "129/129 [==============================] - 34s 265ms/step - loss: 0.5169 - covertype_cls_loss: 0.4670 - covertype_reconstruction_loss: 0.0060 - covertype_cls_categorical_accuracy: 0.9924 - val_loss: 0.5811 - val_covertype_cls_loss: 0.5257 - val_covertype_reconstruction_loss: 0.0075 - val_covertype_cls_categorical_accuracy: 0.9659\n",
      "Epoch 71/1000\n"
     ]
    },
    {
     "name": "stdout",
     "output_type": "stream",
     "text": [
      "129/129 [==============================] - 34s 268ms/step - loss: 0.5165 - covertype_cls_loss: 0.4666 - covertype_reconstruction_loss: 0.0060 - covertype_cls_categorical_accuracy: 0.9925 - val_loss: 0.5826 - val_covertype_cls_loss: 0.5267 - val_covertype_reconstruction_loss: 0.0075 - val_covertype_cls_categorical_accuracy: 0.9651\n",
      "Epoch 72/1000\n",
      "129/129 [==============================] - 34s 266ms/step - loss: 0.5162 - covertype_cls_loss: 0.4665 - covertype_reconstruction_loss: 0.0060 - covertype_cls_categorical_accuracy: 0.9925 - val_loss: 0.5821 - val_covertype_cls_loss: 0.5269 - val_covertype_reconstruction_loss: 0.0075 - val_covertype_cls_categorical_accuracy: 0.9656\n",
      "Epoch 73/1000\n",
      "129/129 [==============================] - 34s 264ms/step - loss: 0.5161 - covertype_cls_loss: 0.4665 - covertype_reconstruction_loss: 0.0060 - covertype_cls_categorical_accuracy: 0.9925 - val_loss: 0.5891 - val_covertype_cls_loss: 0.5337 - val_covertype_reconstruction_loss: 0.0076 - val_covertype_cls_categorical_accuracy: 0.9620\n",
      "Epoch 74/1000\n",
      "129/129 [==============================] - 34s 267ms/step - loss: 0.5159 - covertype_cls_loss: 0.4663 - covertype_reconstruction_loss: 0.0059 - covertype_cls_categorical_accuracy: 0.9925 - val_loss: 0.5811 - val_covertype_cls_loss: 0.5259 - val_covertype_reconstruction_loss: 0.0076 - val_covertype_cls_categorical_accuracy: 0.9657\n",
      "Epoch 75/1000\n",
      "129/129 [==============================] - 35s 268ms/step - loss: 0.5158 - covertype_cls_loss: 0.4663 - covertype_reconstruction_loss: 0.0059 - covertype_cls_categorical_accuracy: 0.9926 - val_loss: 0.5866 - val_covertype_cls_loss: 0.5312 - val_covertype_reconstruction_loss: 0.0076 - val_covertype_cls_categorical_accuracy: 0.9637\n",
      "Epoch 76/1000\n",
      "129/129 [==============================] - 34s 267ms/step - loss: 0.5153 - covertype_cls_loss: 0.4660 - covertype_reconstruction_loss: 0.0059 - covertype_cls_categorical_accuracy: 0.9927 - val_loss: 0.5814 - val_covertype_cls_loss: 0.5263 - val_covertype_reconstruction_loss: 0.0074 - val_covertype_cls_categorical_accuracy: 0.9650\n",
      "Epoch 77/1000\n",
      "129/129 [==============================] - 34s 265ms/step - loss: 0.5155 - covertype_cls_loss: 0.4659 - covertype_reconstruction_loss: 0.0061 - covertype_cls_categorical_accuracy: 0.9927 - val_loss: 0.5843 - val_covertype_cls_loss: 0.5291 - val_covertype_reconstruction_loss: 0.0074 - val_covertype_cls_categorical_accuracy: 0.9640\n",
      "Epoch 78/1000\n",
      "129/129 [==============================] - 34s 267ms/step - loss: 0.5147 - covertype_cls_loss: 0.4655 - covertype_reconstruction_loss: 0.0060 - covertype_cls_categorical_accuracy: 0.9927 - val_loss: 0.5813 - val_covertype_cls_loss: 0.5263 - val_covertype_reconstruction_loss: 0.0074 - val_covertype_cls_categorical_accuracy: 0.9650\n",
      "Epoch 79/1000\n",
      "129/129 [==============================] - 35s 270ms/step - loss: 0.5150 - covertype_cls_loss: 0.4657 - covertype_reconstruction_loss: 0.0060 - covertype_cls_categorical_accuracy: 0.9927 - val_loss: 0.5891 - val_covertype_cls_loss: 0.5342 - val_covertype_reconstruction_loss: 0.0073 - val_covertype_cls_categorical_accuracy: 0.9624\n",
      "Epoch 80/1000\n",
      "129/129 [==============================] - 34s 264ms/step - loss: 0.5148 - covertype_cls_loss: 0.4658 - covertype_reconstruction_loss: 0.0059 - covertype_cls_categorical_accuracy: 0.9926 - val_loss: 0.5778 - val_covertype_cls_loss: 0.5231 - val_covertype_reconstruction_loss: 0.0074 - val_covertype_cls_categorical_accuracy: 0.9665\n",
      "\n",
      "Epoch 00080: ReduceLROnPlateau reducing learning rate to 3.5936999920522795e-05.\n",
      "Epoch 81/1000\n",
      "129/129 [==============================] - 34s 267ms/step - loss: 0.5111 - covertype_cls_loss: 0.4625 - covertype_reconstruction_loss: 0.0058 - covertype_cls_categorical_accuracy: 0.9942 - val_loss: 0.5738 - val_covertype_cls_loss: 0.5196 - val_covertype_reconstruction_loss: 0.0072 - val_covertype_cls_categorical_accuracy: 0.9679\n",
      "Epoch 82/1000\n",
      "129/129 [==============================] - 35s 269ms/step - loss: 0.5099 - covertype_cls_loss: 0.4614 - covertype_reconstruction_loss: 0.0058 - covertype_cls_categorical_accuracy: 0.9949 - val_loss: 0.5729 - val_covertype_cls_loss: 0.5187 - val_covertype_reconstruction_loss: 0.0071 - val_covertype_cls_categorical_accuracy: 0.9690\n",
      "Epoch 83/1000\n",
      "129/129 [==============================] - 35s 269ms/step - loss: 0.5099 - covertype_cls_loss: 0.4614 - covertype_reconstruction_loss: 0.0059 - covertype_cls_categorical_accuracy: 0.9949 - val_loss: 0.5730 - val_covertype_cls_loss: 0.5187 - val_covertype_reconstruction_loss: 0.0073 - val_covertype_cls_categorical_accuracy: 0.9688\n",
      "Epoch 84/1000\n",
      "129/129 [==============================] - 34s 266ms/step - loss: 0.5090 - covertype_cls_loss: 0.4608 - covertype_reconstruction_loss: 0.0058 - covertype_cls_categorical_accuracy: 0.9951 - val_loss: 0.5723 - val_covertype_cls_loss: 0.5184 - val_covertype_reconstruction_loss: 0.0071 - val_covertype_cls_categorical_accuracy: 0.9688\n",
      "Epoch 85/1000\n",
      "129/129 [==============================] - 35s 268ms/step - loss: 0.5089 - covertype_cls_loss: 0.4606 - covertype_reconstruction_loss: 0.0057 - covertype_cls_categorical_accuracy: 0.9952 - val_loss: 0.5737 - val_covertype_cls_loss: 0.5196 - val_covertype_reconstruction_loss: 0.0073 - val_covertype_cls_categorical_accuracy: 0.9684\n",
      "Epoch 86/1000\n",
      "129/129 [==============================] - 34s 266ms/step - loss: 0.5090 - covertype_cls_loss: 0.4605 - covertype_reconstruction_loss: 0.0058 - covertype_cls_categorical_accuracy: 0.9953 - val_loss: 0.5741 - val_covertype_cls_loss: 0.5201 - val_covertype_reconstruction_loss: 0.0072 - val_covertype_cls_categorical_accuracy: 0.9685\n",
      "Epoch 87/1000\n",
      "129/129 [==============================] - 34s 267ms/step - loss: 0.5091 - covertype_cls_loss: 0.4608 - covertype_reconstruction_loss: 0.0059 - covertype_cls_categorical_accuracy: 0.9951 - val_loss: 0.5727 - val_covertype_cls_loss: 0.5186 - val_covertype_reconstruction_loss: 0.0072 - val_covertype_cls_categorical_accuracy: 0.9688\n",
      "\n",
      "Epoch 00087: ReduceLROnPlateau reducing learning rate to 1.185920958960196e-05.\n",
      "Epoch 88/1000\n",
      "129/129 [==============================] - 33s 259ms/step - loss: 0.5075 - covertype_cls_loss: 0.4595 - covertype_reconstruction_loss: 0.0057 - covertype_cls_categorical_accuracy: 0.9958 - val_loss: 0.5706 - val_covertype_cls_loss: 0.5168 - val_covertype_reconstruction_loss: 0.0071 - val_covertype_cls_categorical_accuracy: 0.9695\n",
      "Epoch 89/1000\n",
      "129/129 [==============================] - 32s 248ms/step - loss: 0.5072 - covertype_cls_loss: 0.4592 - covertype_reconstruction_loss: 0.0057 - covertype_cls_categorical_accuracy: 0.9959 - val_loss: 0.5716 - val_covertype_cls_loss: 0.5175 - val_covertype_reconstruction_loss: 0.0074 - val_covertype_cls_categorical_accuracy: 0.9691\n",
      "Epoch 90/1000\n",
      "129/129 [==============================] - 33s 255ms/step - loss: 0.5074 - covertype_cls_loss: 0.4595 - covertype_reconstruction_loss: 0.0057 - covertype_cls_categorical_accuracy: 0.9958 - val_loss: 0.5708 - val_covertype_cls_loss: 0.5172 - val_covertype_reconstruction_loss: 0.0071 - val_covertype_cls_categorical_accuracy: 0.9696\n",
      "Epoch 91/1000\n",
      "129/129 [==============================] - 33s 259ms/step - loss: 0.5071 - covertype_cls_loss: 0.4594 - covertype_reconstruction_loss: 0.0056 - covertype_cls_categorical_accuracy: 0.9959 - val_loss: 0.5707 - val_covertype_cls_loss: 0.5171 - val_covertype_reconstruction_loss: 0.0071 - val_covertype_cls_categorical_accuracy: 0.9703\n",
      "\n",
      "Epoch 00091: ReduceLROnPlateau reducing learning rate to 3.913539212589967e-06.\n",
      "Epoch 92/1000\n",
      "129/129 [==============================] - 32s 250ms/step - loss: 0.5067 - covertype_cls_loss: 0.4586 - covertype_reconstruction_loss: 0.0058 - covertype_cls_categorical_accuracy: 0.9962 - val_loss: 0.5703 - val_covertype_cls_loss: 0.5167 - val_covertype_reconstruction_loss: 0.0071 - val_covertype_cls_categorical_accuracy: 0.9696\n",
      "Epoch 93/1000\n",
      "129/129 [==============================] - 33s 257ms/step - loss: 0.5066 - covertype_cls_loss: 0.4587 - covertype_reconstruction_loss: 0.0057 - covertype_cls_categorical_accuracy: 0.9962 - val_loss: 0.5707 - val_covertype_cls_loss: 0.5168 - val_covertype_reconstruction_loss: 0.0072 - val_covertype_cls_categorical_accuracy: 0.9696\n",
      "Epoch 94/1000\n"
     ]
    },
    {
     "name": "stdout",
     "output_type": "stream",
     "text": [
      "129/129 [==============================] - 32s 252ms/step - loss: 0.5064 - covertype_cls_loss: 0.4586 - covertype_reconstruction_loss: 0.0057 - covertype_cls_categorical_accuracy: 0.9963 - val_loss: 0.5697 - val_covertype_cls_loss: 0.5159 - val_covertype_reconstruction_loss: 0.0073 - val_covertype_cls_categorical_accuracy: 0.9705\n",
      "Epoch 95/1000\n",
      "129/129 [==============================] - 34s 260ms/step - loss: 0.5065 - covertype_cls_loss: 0.4585 - covertype_reconstruction_loss: 0.0058 - covertype_cls_categorical_accuracy: 0.9964 - val_loss: 0.5700 - val_covertype_cls_loss: 0.5161 - val_covertype_reconstruction_loss: 0.0073 - val_covertype_cls_categorical_accuracy: 0.9702\n",
      "Epoch 96/1000\n",
      "129/129 [==============================] - 33s 253ms/step - loss: 0.5063 - covertype_cls_loss: 0.4584 - covertype_reconstruction_loss: 0.0058 - covertype_cls_categorical_accuracy: 0.9963 - val_loss: 0.5696 - val_covertype_cls_loss: 0.5159 - val_covertype_reconstruction_loss: 0.0072 - val_covertype_cls_categorical_accuracy: 0.9699\n",
      "Epoch 97/1000\n",
      "129/129 [==============================] - 32s 251ms/step - loss: 0.5064 - covertype_cls_loss: 0.4586 - covertype_reconstruction_loss: 0.0057 - covertype_cls_categorical_accuracy: 0.9963 - val_loss: 0.5698 - val_covertype_cls_loss: 0.5163 - val_covertype_reconstruction_loss: 0.0071 - val_covertype_cls_categorical_accuracy: 0.9705\n",
      "Epoch 98/1000\n",
      "129/129 [==============================] - 32s 250ms/step - loss: 0.5067 - covertype_cls_loss: 0.4587 - covertype_reconstruction_loss: 0.0058 - covertype_cls_categorical_accuracy: 0.9963 - val_loss: 0.5700 - val_covertype_cls_loss: 0.5163 - val_covertype_reconstruction_loss: 0.0072 - val_covertype_cls_categorical_accuracy: 0.9699\n",
      "\n",
      "Epoch 00098: ReduceLROnPlateau reducing learning rate to 1.2914679791720119e-06.\n",
      "Epoch 99/1000\n",
      "129/129 [==============================] - 33s 252ms/step - loss: 0.5067 - covertype_cls_loss: 0.4587 - covertype_reconstruction_loss: 0.0058 - covertype_cls_categorical_accuracy: 0.9963 - val_loss: 0.5700 - val_covertype_cls_loss: 0.5163 - val_covertype_reconstruction_loss: 0.0071 - val_covertype_cls_categorical_accuracy: 0.9698\n",
      "Epoch 100/1000\n",
      "129/129 [==============================] - 33s 255ms/step - loss: 0.5063 - covertype_cls_loss: 0.4585 - covertype_reconstruction_loss: 0.0057 - covertype_cls_categorical_accuracy: 0.9964 - val_loss: 0.5700 - val_covertype_cls_loss: 0.5161 - val_covertype_reconstruction_loss: 0.0073 - val_covertype_cls_categorical_accuracy: 0.9701\n",
      "\n",
      "Epoch 00100: ReduceLROnPlateau reducing learning rate to 4.2618441511876884e-07.\n",
      "Epoch 101/1000\n",
      "129/129 [==============================] - 34s 261ms/step - loss: 0.5065 - covertype_cls_loss: 0.4586 - covertype_reconstruction_loss: 0.0057 - covertype_cls_categorical_accuracy: 0.9963 - val_loss: 0.5699 - val_covertype_cls_loss: 0.5162 - val_covertype_reconstruction_loss: 0.0071 - val_covertype_cls_categorical_accuracy: 0.9701\n",
      "Epoch 102/1000\n",
      "129/129 [==============================] - 34s 263ms/step - loss: 0.5062 - covertype_cls_loss: 0.4583 - covertype_reconstruction_loss: 0.0057 - covertype_cls_categorical_accuracy: 0.9964 - val_loss: 0.5698 - val_covertype_cls_loss: 0.5159 - val_covertype_reconstruction_loss: 0.0072 - val_covertype_cls_categorical_accuracy: 0.9704\n",
      "Epoch 103/1000\n",
      "129/129 [==============================] - 34s 264ms/step - loss: 0.5064 - covertype_cls_loss: 0.4584 - covertype_reconstruction_loss: 0.0058 - covertype_cls_categorical_accuracy: 0.9963 - val_loss: 0.5695 - val_covertype_cls_loss: 0.5159 - val_covertype_reconstruction_loss: 0.0071 - val_covertype_cls_categorical_accuracy: 0.9699\n",
      "Epoch 104/1000\n",
      "129/129 [==============================] - 34s 264ms/step - loss: 0.5062 - covertype_cls_loss: 0.4584 - covertype_reconstruction_loss: 0.0057 - covertype_cls_categorical_accuracy: 0.9964 - val_loss: 0.5701 - val_covertype_cls_loss: 0.5164 - val_covertype_reconstruction_loss: 0.0072 - val_covertype_cls_categorical_accuracy: 0.9699\n",
      "\n",
      "Epoch 00104: ReduceLROnPlateau reducing learning rate to 1.4064085661402716e-07.\n",
      "Epoch 105/1000\n",
      "129/129 [==============================] - 34s 263ms/step - loss: 0.5065 - covertype_cls_loss: 0.4587 - covertype_reconstruction_loss: 0.0057 - covertype_cls_categorical_accuracy: 0.9963 - val_loss: 0.5700 - val_covertype_cls_loss: 0.5163 - val_covertype_reconstruction_loss: 0.0072 - val_covertype_cls_categorical_accuracy: 0.9704\n",
      "Epoch 106/1000\n",
      "129/129 [==============================] - 34s 260ms/step - loss: 0.5064 - covertype_cls_loss: 0.4585 - covertype_reconstruction_loss: 0.0058 - covertype_cls_categorical_accuracy: 0.9964 - val_loss: 0.5701 - val_covertype_cls_loss: 0.5165 - val_covertype_reconstruction_loss: 0.0071 - val_covertype_cls_categorical_accuracy: 0.9701\n",
      "\n",
      "Epoch 00106: ReduceLROnPlateau reducing learning rate to 4.641148052542121e-08.\n",
      "Epoch 107/1000\n",
      "129/129 [==============================] - 34s 262ms/step - loss: 0.5063 - covertype_cls_loss: 0.4584 - covertype_reconstruction_loss: 0.0057 - covertype_cls_categorical_accuracy: 0.9965 - val_loss: 0.5697 - val_covertype_cls_loss: 0.5160 - val_covertype_reconstruction_loss: 0.0071 - val_covertype_cls_categorical_accuracy: 0.9700\n",
      "Epoch 108/1000\n",
      "129/129 [==============================] - 34s 260ms/step - loss: 0.5065 - covertype_cls_loss: 0.4585 - covertype_reconstruction_loss: 0.0058 - covertype_cls_categorical_accuracy: 0.9963 - val_loss: 0.5697 - val_covertype_cls_loss: 0.5161 - val_covertype_reconstruction_loss: 0.0071 - val_covertype_cls_categorical_accuracy: 0.9702\n",
      "\n",
      "Epoch 00108: ReduceLROnPlateau reducing learning rate to 1.5315788104430796e-08.\n",
      "Epoch 109/1000\n",
      "129/129 [==============================] - 34s 261ms/step - loss: 0.5060 - covertype_cls_loss: 0.4583 - covertype_reconstruction_loss: 0.0056 - covertype_cls_categorical_accuracy: 0.9963 - val_loss: 0.5699 - val_covertype_cls_loss: 0.5162 - val_covertype_reconstruction_loss: 0.0071 - val_covertype_cls_categorical_accuracy: 0.9701\n",
      "Epoch 110/1000\n",
      "129/129 [==============================] - 34s 260ms/step - loss: 0.5057 - covertype_cls_loss: 0.4580 - covertype_reconstruction_loss: 0.0056 - covertype_cls_categorical_accuracy: 0.9965 - val_loss: 0.5702 - val_covertype_cls_loss: 0.5165 - val_covertype_reconstruction_loss: 0.0071 - val_covertype_cls_categorical_accuracy: 0.9702\n",
      "Epoch 111/1000\n",
      "129/129 [==============================] - 32s 252ms/step - loss: 0.5063 - covertype_cls_loss: 0.4585 - covertype_reconstruction_loss: 0.0057 - covertype_cls_categorical_accuracy: 0.9963 - val_loss: 0.5700 - val_covertype_cls_loss: 0.5163 - val_covertype_reconstruction_loss: 0.0071 - val_covertype_cls_categorical_accuracy: 0.9695\n",
      "Epoch 112/1000\n",
      "129/129 [==============================] - 33s 255ms/step - loss: 0.5064 - covertype_cls_loss: 0.4583 - covertype_reconstruction_loss: 0.0058 - covertype_cls_categorical_accuracy: 0.9964 - val_loss: 0.5699 - val_covertype_cls_loss: 0.5160 - val_covertype_reconstruction_loss: 0.0072 - val_covertype_cls_categorical_accuracy: 0.9705\n",
      "\n",
      "Epoch 00112: ReduceLROnPlateau reducing learning rate to 5.054209957222611e-09.\n",
      "Epoch 113/1000\n",
      "129/129 [==============================] - 32s 252ms/step - loss: 0.5061 - covertype_cls_loss: 0.4582 - covertype_reconstruction_loss: 0.0057 - covertype_cls_categorical_accuracy: 0.9965 - val_loss: 0.5703 - val_covertype_cls_loss: 0.5165 - val_covertype_reconstruction_loss: 0.0073 - val_covertype_cls_categorical_accuracy: 0.9697\n",
      "Epoch 114/1000\n",
      "129/129 [==============================] - 32s 247ms/step - loss: 0.5061 - covertype_cls_loss: 0.4581 - covertype_reconstruction_loss: 0.0058 - covertype_cls_categorical_accuracy: 0.9966 - val_loss: 0.5699 - val_covertype_cls_loss: 0.5162 - val_covertype_reconstruction_loss: 0.0071 - val_covertype_cls_categorical_accuracy: 0.9699\n",
      "\n",
      "Epoch 00114: ReduceLROnPlateau reducing learning rate to 1.667889280021484e-09.\n",
      "Epoch 115/1000\n",
      "129/129 [==============================] - 32s 250ms/step - loss: 0.5059 - covertype_cls_loss: 0.4581 - covertype_reconstruction_loss: 0.0057 - covertype_cls_categorical_accuracy: 0.9965 - val_loss: 0.5695 - val_covertype_cls_loss: 0.5158 - val_covertype_reconstruction_loss: 0.0072 - val_covertype_cls_categorical_accuracy: 0.9703\n",
      "Epoch 116/1000\n"
     ]
    },
    {
     "name": "stdout",
     "output_type": "stream",
     "text": [
      "129/129 [==============================] - 32s 251ms/step - loss: 0.5060 - covertype_cls_loss: 0.4583 - covertype_reconstruction_loss: 0.0056 - covertype_cls_categorical_accuracy: 0.9965 - val_loss: 0.5701 - val_covertype_cls_loss: 0.5164 - val_covertype_reconstruction_loss: 0.0071 - val_covertype_cls_categorical_accuracy: 0.9703\n",
      "\n",
      "Epoch 00116: ReduceLROnPlateau reducing learning rate to 5.504034594761009e-10.\n",
      "Epoch 117/1000\n",
      "129/129 [==============================] - 32s 250ms/step - loss: 0.5061 - covertype_cls_loss: 0.4581 - covertype_reconstruction_loss: 0.0058 - covertype_cls_categorical_accuracy: 0.9965 - val_loss: 0.5700 - val_covertype_cls_loss: 0.5163 - val_covertype_reconstruction_loss: 0.0071 - val_covertype_cls_categorical_accuracy: 0.9704\n",
      "Epoch 118/1000\n",
      "129/129 [==============================] - 34s 261ms/step - loss: 0.5062 - covertype_cls_loss: 0.4581 - covertype_reconstruction_loss: 0.0058 - covertype_cls_categorical_accuracy: 0.9966 - val_loss: 0.5694 - val_covertype_cls_loss: 0.5158 - val_covertype_reconstruction_loss: 0.0072 - val_covertype_cls_categorical_accuracy: 0.9699\n",
      "\n",
      "Epoch 00118: ReduceLROnPlateau reducing learning rate to 1.8163313686425653e-10.\n",
      "Epoch 119/1000\n",
      "129/129 [==============================] - 33s 258ms/step - loss: 0.5064 - covertype_cls_loss: 0.4585 - covertype_reconstruction_loss: 0.0057 - covertype_cls_categorical_accuracy: 0.9963 - val_loss: 0.5699 - val_covertype_cls_loss: 0.5163 - val_covertype_reconstruction_loss: 0.0071 - val_covertype_cls_categorical_accuracy: 0.9699\n",
      "Epoch 120/1000\n",
      "129/129 [==============================] - 34s 262ms/step - loss: 0.5062 - covertype_cls_loss: 0.4583 - covertype_reconstruction_loss: 0.0058 - covertype_cls_categorical_accuracy: 0.9965 - val_loss: 0.5701 - val_covertype_cls_loss: 0.5165 - val_covertype_reconstruction_loss: 0.0071 - val_covertype_cls_categorical_accuracy: 0.9700\n",
      "\n",
      "Epoch 00120: ReduceLROnPlateau reducing learning rate to 5.993893589795185e-11.\n",
      "Epoch 121/1000\n",
      "129/129 [==============================] - 33s 255ms/step - loss: 0.5063 - covertype_cls_loss: 0.4584 - covertype_reconstruction_loss: 0.0057 - covertype_cls_categorical_accuracy: 0.9964 - val_loss: 0.5698 - val_covertype_cls_loss: 0.5161 - val_covertype_reconstruction_loss: 0.0071 - val_covertype_cls_categorical_accuracy: 0.9703\n",
      "Epoch 122/1000\n",
      "129/129 [==============================] - 32s 251ms/step - loss: 0.5064 - covertype_cls_loss: 0.4584 - covertype_reconstruction_loss: 0.0058 - covertype_cls_categorical_accuracy: 0.9964 - val_loss: 0.5696 - val_covertype_cls_loss: 0.5159 - val_covertype_reconstruction_loss: 0.0071 - val_covertype_cls_categorical_accuracy: 0.9700\n",
      "\n",
      "Epoch 00122: ReduceLROnPlateau reducing learning rate to 1.9779848800527413e-11.\n",
      "Epoch 123/1000\n",
      "129/129 [==============================] - 32s 250ms/step - loss: 0.5062 - covertype_cls_loss: 0.4583 - covertype_reconstruction_loss: 0.0057 - covertype_cls_categorical_accuracy: 0.9964 - val_loss: 0.5699 - val_covertype_cls_loss: 0.5164 - val_covertype_reconstruction_loss: 0.0071 - val_covertype_cls_categorical_accuracy: 0.9698\n",
      "Epoch 124/1000\n",
      "129/129 [==============================] - 31s 243ms/step - loss: 0.5063 - covertype_cls_loss: 0.4583 - covertype_reconstruction_loss: 0.0058 - covertype_cls_categorical_accuracy: 0.9965 - val_loss: 0.5696 - val_covertype_cls_loss: 0.5162 - val_covertype_reconstruction_loss: 0.0070 - val_covertype_cls_categorical_accuracy: 0.9703\n",
      "\n",
      "Epoch 00124: ReduceLROnPlateau reducing learning rate to 6.527350378954244e-12.\n",
      "Epoch 125/1000\n",
      "129/129 [==============================] - 32s 246ms/step - loss: 0.5064 - covertype_cls_loss: 0.4585 - covertype_reconstruction_loss: 0.0058 - covertype_cls_categorical_accuracy: 0.9963 - val_loss: 0.5700 - val_covertype_cls_loss: 0.5161 - val_covertype_reconstruction_loss: 0.0073 - val_covertype_cls_categorical_accuracy: 0.9700\n",
      "Epoch 126/1000\n",
      "129/129 [==============================] - 33s 252ms/step - loss: 0.5059 - covertype_cls_loss: 0.4581 - covertype_reconstruction_loss: 0.0057 - covertype_cls_categorical_accuracy: 0.9966 - val_loss: 0.5699 - val_covertype_cls_loss: 0.5163 - val_covertype_reconstruction_loss: 0.0071 - val_covertype_cls_categorical_accuracy: 0.9699\n",
      "\n",
      "Epoch 00126: ReduceLROnPlateau reducing learning rate to 2.154025590707376e-12.\n",
      "Epoch 127/1000\n",
      "129/129 [==============================] - 33s 256ms/step - loss: 0.5063 - covertype_cls_loss: 0.4584 - covertype_reconstruction_loss: 0.0057 - covertype_cls_categorical_accuracy: 0.9964 - val_loss: 0.5701 - val_covertype_cls_loss: 0.5162 - val_covertype_reconstruction_loss: 0.0073 - val_covertype_cls_categorical_accuracy: 0.9704\n",
      "Epoch 128/1000\n",
      "129/129 [==============================] - 32s 248ms/step - loss: 0.5062 - covertype_cls_loss: 0.4585 - covertype_reconstruction_loss: 0.0056 - covertype_cls_categorical_accuracy: 0.9964 - val_loss: 0.5690 - val_covertype_cls_loss: 0.5154 - val_covertype_reconstruction_loss: 0.0071 - val_covertype_cls_categorical_accuracy: 0.9707\n",
      "\n",
      "Epoch 00128: ReduceLROnPlateau reducing learning rate to 7.108284664006371e-13.\n",
      "Epoch 129/1000\n",
      "129/129 [==============================] - 32s 251ms/step - loss: 0.5061 - covertype_cls_loss: 0.4584 - covertype_reconstruction_loss: 0.0056 - covertype_cls_categorical_accuracy: 0.9964 - val_loss: 0.5702 - val_covertype_cls_loss: 0.5165 - val_covertype_reconstruction_loss: 0.0072 - val_covertype_cls_categorical_accuracy: 0.9700\n",
      "Epoch 130/1000\n",
      "129/129 [==============================] - 30s 235ms/step - loss: 0.5063 - covertype_cls_loss: 0.4585 - covertype_reconstruction_loss: 0.0057 - covertype_cls_categorical_accuracy: 0.9963 - val_loss: 0.5697 - val_covertype_cls_loss: 0.5162 - val_covertype_reconstruction_loss: 0.0070 - val_covertype_cls_categorical_accuracy: 0.9700\n",
      "\n",
      "Epoch 00130: ReduceLROnPlateau reducing learning rate to 2.345733974900774e-13.\n",
      "Epoch 131/1000\n",
      "129/129 [==============================] - 32s 246ms/step - loss: 0.5062 - covertype_cls_loss: 0.4583 - covertype_reconstruction_loss: 0.0058 - covertype_cls_categorical_accuracy: 0.9965 - val_loss: 0.5696 - val_covertype_cls_loss: 0.5158 - val_covertype_reconstruction_loss: 0.0072 - val_covertype_cls_categorical_accuracy: 0.9703\n",
      "Epoch 132/1000\n",
      "129/129 [==============================] - 33s 260ms/step - loss: 0.5061 - covertype_cls_loss: 0.4583 - covertype_reconstruction_loss: 0.0057 - covertype_cls_categorical_accuracy: 0.9964 - val_loss: 0.5700 - val_covertype_cls_loss: 0.5163 - val_covertype_reconstruction_loss: 0.0072 - val_covertype_cls_categorical_accuracy: 0.9702\n",
      "\n",
      "Epoch 00132: ReduceLROnPlateau reducing learning rate to 7.740922242397905e-14.\n",
      "Epoch 133/1000\n",
      "129/129 [==============================] - 34s 262ms/step - loss: 0.5060 - covertype_cls_loss: 0.4583 - covertype_reconstruction_loss: 0.0057 - covertype_cls_categorical_accuracy: 0.9965 - val_loss: 0.5695 - val_covertype_cls_loss: 0.5160 - val_covertype_reconstruction_loss: 0.0070 - val_covertype_cls_categorical_accuracy: 0.9701\n",
      "Epoch 134/1000\n",
      "129/129 [==============================] - 34s 263ms/step - loss: 0.5067 - covertype_cls_loss: 0.4587 - covertype_reconstruction_loss: 0.0058 - covertype_cls_categorical_accuracy: 0.9963 - val_loss: 0.5703 - val_covertype_cls_loss: 0.5165 - val_covertype_reconstruction_loss: 0.0072 - val_covertype_cls_categorical_accuracy: 0.9702\n",
      "\n",
      "Epoch 00134: ReduceLROnPlateau reducing learning rate to 2.5545043578806446e-14.\n",
      "Epoch 135/1000\n",
      "129/129 [==============================] - 34s 262ms/step - loss: 0.5062 - covertype_cls_loss: 0.4584 - covertype_reconstruction_loss: 0.0057 - covertype_cls_categorical_accuracy: 0.9963 - val_loss: 0.5696 - val_covertype_cls_loss: 0.5161 - val_covertype_reconstruction_loss: 0.0070 - val_covertype_cls_categorical_accuracy: 0.9706\n",
      "Epoch 136/1000\n",
      "129/129 [==============================] - 33s 260ms/step - loss: 0.5060 - covertype_cls_loss: 0.4583 - covertype_reconstruction_loss: 0.0057 - covertype_cls_categorical_accuracy: 0.9964 - val_loss: 0.5700 - val_covertype_cls_loss: 0.5162 - val_covertype_reconstruction_loss: 0.0072 - val_covertype_cls_categorical_accuracy: 0.9705\n",
      "\n",
      "Epoch 00136: ReduceLROnPlateau reducing learning rate to 8.429864269197778e-15.\n",
      "Epoch 137/1000\n"
     ]
    },
    {
     "name": "stdout",
     "output_type": "stream",
     "text": [
      "129/129 [==============================] - 34s 260ms/step - loss: 0.5061 - covertype_cls_loss: 0.4582 - covertype_reconstruction_loss: 0.0057 - covertype_cls_categorical_accuracy: 0.9965 - val_loss: 0.5696 - val_covertype_cls_loss: 0.5160 - val_covertype_reconstruction_loss: 0.0070 - val_covertype_cls_categorical_accuracy: 0.9701\n",
      "Epoch 138/1000\n",
      "129/129 [==============================] - 33s 259ms/step - loss: 0.5062 - covertype_cls_loss: 0.4582 - covertype_reconstruction_loss: 0.0058 - covertype_cls_categorical_accuracy: 0.9964 - val_loss: 0.5699 - val_covertype_cls_loss: 0.5163 - val_covertype_reconstruction_loss: 0.0071 - val_covertype_cls_categorical_accuracy: 0.9699\n",
      "\n",
      "Epoch 00138: ReduceLROnPlateau reducing learning rate to 2.781855175292762e-15.\n",
      "Epoch 139/1000\n",
      "129/129 [==============================] - 33s 260ms/step - loss: 0.5060 - covertype_cls_loss: 0.4583 - covertype_reconstruction_loss: 0.0057 - covertype_cls_categorical_accuracy: 0.9965 - val_loss: 0.5699 - val_covertype_cls_loss: 0.5162 - val_covertype_reconstruction_loss: 0.0071 - val_covertype_cls_categorical_accuracy: 0.9705\n",
      "Epoch 140/1000\n",
      "129/129 [==============================] - 33s 256ms/step - loss: 0.5062 - covertype_cls_loss: 0.4583 - covertype_reconstruction_loss: 0.0057 - covertype_cls_categorical_accuracy: 0.9963 - val_loss: 0.5702 - val_covertype_cls_loss: 0.5164 - val_covertype_reconstruction_loss: 0.0072 - val_covertype_cls_categorical_accuracy: 0.9700\n",
      "\n",
      "Epoch 00140: ReduceLROnPlateau reducing learning rate to 9.1801223300349e-16.\n",
      "Epoch 141/1000\n",
      "129/129 [==============================] - 34s 260ms/step - loss: 0.5063 - covertype_cls_loss: 0.4585 - covertype_reconstruction_loss: 0.0057 - covertype_cls_categorical_accuracy: 0.9964 - val_loss: 0.5700 - val_covertype_cls_loss: 0.5164 - val_covertype_reconstruction_loss: 0.0071 - val_covertype_cls_categorical_accuracy: 0.9703\n",
      "Epoch 142/1000\n",
      "129/129 [==============================] - 32s 252ms/step - loss: 0.5065 - covertype_cls_loss: 0.4586 - covertype_reconstruction_loss: 0.0057 - covertype_cls_categorical_accuracy: 0.9963 - val_loss: 0.5700 - val_covertype_cls_loss: 0.5163 - val_covertype_reconstruction_loss: 0.0071 - val_covertype_cls_categorical_accuracy: 0.9703\n",
      "\n",
      "Epoch 00142: ReduceLROnPlateau reducing learning rate to 3.0294402291510804e-16.\n",
      "Epoch 143/1000\n",
      "129/129 [==============================] - 34s 261ms/step - loss: 0.5064 - covertype_cls_loss: 0.4585 - covertype_reconstruction_loss: 0.0057 - covertype_cls_categorical_accuracy: 0.9964 - val_loss: 0.5697 - val_covertype_cls_loss: 0.5160 - val_covertype_reconstruction_loss: 0.0072 - val_covertype_cls_categorical_accuracy: 0.9696\n",
      "Epoch 144/1000\n",
      "129/129 [==============================] - 34s 262ms/step - loss: 0.5063 - covertype_cls_loss: 0.4585 - covertype_reconstruction_loss: 0.0057 - covertype_cls_categorical_accuracy: 0.9964 - val_loss: 0.5699 - val_covertype_cls_loss: 0.5162 - val_covertype_reconstruction_loss: 0.0072 - val_covertype_cls_categorical_accuracy: 0.9701\n",
      "\n",
      "Epoch 00144: ReduceLROnPlateau reducing learning rate to 9.997153105599657e-17.\n",
      "Epoch 145/1000\n",
      "129/129 [==============================] - 34s 264ms/step - loss: 0.5061 - covertype_cls_loss: 0.4581 - covertype_reconstruction_loss: 0.0058 - covertype_cls_categorical_accuracy: 0.9966 - val_loss: 0.5696 - val_covertype_cls_loss: 0.5160 - val_covertype_reconstruction_loss: 0.0071 - val_covertype_cls_categorical_accuracy: 0.9703\n",
      "Epoch 146/1000\n",
      "129/129 [==============================] - 34s 260ms/step - loss: 0.5063 - covertype_cls_loss: 0.4585 - covertype_reconstruction_loss: 0.0057 - covertype_cls_categorical_accuracy: 0.9964 - val_loss: 0.5698 - val_covertype_cls_loss: 0.5162 - val_covertype_reconstruction_loss: 0.0070 - val_covertype_cls_categorical_accuracy: 0.9697\n",
      "\n",
      "Epoch 00146: ReduceLROnPlateau reducing learning rate to 3.2990606034631324e-17.\n",
      "Epoch 147/1000\n",
      "129/129 [==============================] - 34s 263ms/step - loss: 0.5060 - covertype_cls_loss: 0.4582 - covertype_reconstruction_loss: 0.0057 - covertype_cls_categorical_accuracy: 0.9964 - val_loss: 0.5698 - val_covertype_cls_loss: 0.5163 - val_covertype_reconstruction_loss: 0.0070 - val_covertype_cls_categorical_accuracy: 0.9704\n",
      "Epoch 148/1000\n",
      "129/129 [==============================] - 32s 245ms/step - loss: 0.5064 - covertype_cls_loss: 0.4587 - covertype_reconstruction_loss: 0.0056 - covertype_cls_categorical_accuracy: 0.9962 - val_loss: 0.5700 - val_covertype_cls_loss: 0.5164 - val_covertype_reconstruction_loss: 0.0072 - val_covertype_cls_categorical_accuracy: 0.9702\n",
      "\n",
      "Epoch 00148: ReduceLROnPlateau reducing learning rate to 1.0886900144291313e-17.\n"
     ]
    }
   ],
   "source": [
    "model_history = trainable_nn.fit(trainset_gen, validation_data=validset_gen,\n",
    "                                 epochs=MAX_TRAINING_EPOCHS, callbacks=callbacks,\n",
    "                                 verbose=1)"
   ]
  },
  {
   "cell_type": "code",
   "execution_count": 42,
   "metadata": {
    "id": "tg2TlJsd6B8Q"
   },
   "outputs": [],
   "source": [
    "trainable_nn.load_weights(nn_fname)"
   ]
  },
  {
   "cell_type": "code",
   "execution_count": 43,
   "metadata": {
    "id": "WZxVYvkm6diP"
   },
   "outputs": [
    {
     "data": {
      "image/png": "[encoded data removed]",
      "text/plain": [
       "<Figure size 360x360 with 1 Axes>"
      ]
     },
     "metadata": {
      "needs_background": "light"
     },
     "output_type": "display_data"
    }
   ],
   "source": [
    "show_training_process(history=model_history, metric_name='loss',\n",
    "                      figure_id=1)"
   ]
  },
  {
   "cell_type": "code",
   "execution_count": 44,
   "metadata": {
    "id": "DMNeqB866o7e"
   },
   "outputs": [
    {
     "data": {
      "image/png": "[encoded data removed]",
      "text/plain": [
       "<Figure size 360x360 with 1 Axes>"
      ]
     },
     "metadata": {
      "needs_background": "light"
     },
     "output_type": "display_data"
    }
   ],
   "source": [
    "show_training_process(history=model_history, metric_name='covertype_cls_loss',\n",
    "                      figure_id=2)"
   ]
  },
  {
   "cell_type": "code",
   "execution_count": 45,
   "metadata": {
    "id": "kd3SKKEZ6kgl"
   },
   "outputs": [
    {
     "data": {
      "image/png": "[encoded data removed]",
      "text/plain": [
       "<Figure size 360x360 with 1 Axes>"
      ]
     },
     "metadata": {
      "needs_background": "light"
     },
     "output_type": "display_data"
    }
   ],
   "source": [
    "show_training_process(history=model_history,\n",
    "                      metric_name='covertype_cls_categorical_accuracy',\n",
    "                      figure_id=3)"
   ]
  },
  {
   "cell_type": "code",
   "execution_count": 46,
   "metadata": {
    "id": "mNMlYkPu7Ic_"
   },
   "outputs": [],
   "source": [
    "del trainset_gen, validset_gen"
   ]
  },
  {
   "cell_type": "code",
   "execution_count": 47,
   "metadata": {
    "id": "igS2mcBB7Kzd"
   },
   "outputs": [],
   "source": [
    "del X_train, y_train"
   ]
  },
  {
   "cell_type": "code",
   "execution_count": 48,
   "metadata": {
    "id": "yoPbBlKyG9Xb"
   },
   "outputs": [],
   "source": [
    "del trainable_nn"
   ]
  },
  {
   "cell_type": "code",
   "execution_count": 49,
   "metadata": {
    "id": "36JzbsBtHGdv"
   },
   "outputs": [
    {
     "data": {
      "text/plain": [
       "10653"
      ]
     },
     "execution_count": 49,
     "metadata": {},
     "output_type": "execute_result"
    }
   ],
   "source": [
    "gc.collect()"
   ]
  },
  {
   "cell_type": "code",
   "execution_count": 50,
   "metadata": {},
   "outputs": [
    {
     "data": {
      "application/vnd.jupyter.widget-view+json": {
       "model_id": "8f329b5a50e24fbe930e446bf938136f",
       "version_major": 2,
       "version_minor": 0
      },
      "text/plain": [
       "  0%|          | 0/863 [00:00<?, ?it/s]"
      ]
     },
     "metadata": {},
     "output_type": "display_data"
    }
   ],
   "source": [
    "valid_probas = predict_proba(\n",
    "    X=X_valid, encoder=encoding_nn, classifier=classification_nn,\n",
    "    n_samples=1, batch_size=MINIBATCH_SIZE_FOR_INFERENCE\n",
    ")"
   ]
  },
  {
   "cell_type": "code",
   "execution_count": 51,
   "metadata": {},
   "outputs": [
    {
     "name": "stdout",
     "output_type": "stream",
     "text": [
      "              precision    recall  f1-score   support\n",
      "\n",
      "           0     0.9671    0.9720    0.9695     10063\n",
      "           1     0.9776    0.9711    0.9743     13457\n",
      "           2     0.9717    0.9711    0.9714      1698\n",
      "           3     0.8963    0.9202    0.9081       451\n",
      "           4     0.9448    0.9552    0.9500       825\n",
      "           5     0.9667    0.9825    0.9745       974\n",
      "           6     0.8797    0.8931    0.8864       131\n",
      "\n",
      "    accuracy                         0.9701     27599\n",
      "   macro avg     0.9434    0.9522    0.9477     27599\n",
      "weighted avg     0.9702    0.9701    0.9702     27599\n",
      "\n"
     ]
    }
   ],
   "source": [
    "print(classification_report(y_true=y_valid, y_pred=np.argmax(valid_probas, axis=1),\n",
    "                            digits=4))"
   ]
  },
  {
   "cell_type": "code",
   "execution_count": 52,
   "metadata": {
    "id": "PGYcDvS97-jv"
   },
   "outputs": [
    {
     "data": {
      "application/vnd.jupyter.widget-view+json": {
       "model_id": "d82e19ade54f410a832f89ff53055335",
       "version_major": 2,
       "version_minor": 0
      },
      "text/plain": [
       "  0%|          | 0/908 [00:00<?, ?it/s]"
      ]
     },
     "metadata": {},
     "output_type": "display_data"
    }
   ],
   "source": [
    "test_probas = predict_proba(\n",
    "    X=X_test, encoder=encoding_nn, classifier=classification_nn,\n",
    "    n_samples=1, batch_size=MINIBATCH_SIZE_FOR_INFERENCE\n",
    ")"
   ]
  },
  {
   "cell_type": "code",
   "execution_count": 53,
   "metadata": {
    "id": "reZKYYG28A3F"
   },
   "outputs": [
    {
     "name": "stdout",
     "output_type": "stream",
     "text": [
      "              precision    recall  f1-score   support\n",
      "\n",
      "           0     0.9719    0.9712    0.9716     10592\n",
      "           1     0.9779    0.9735    0.9757     14165\n",
      "           2     0.9640    0.9726    0.9683      1788\n",
      "           3     0.8941    0.9242    0.9089       475\n",
      "           4     0.9357    0.9562    0.9459       868\n",
      "           5     0.9582    0.9825    0.9702      1026\n",
      "           6     0.9167    0.8832    0.8996       137\n",
      "\n",
      "    accuracy                         0.9712     29051\n",
      "   macro avg     0.9455    0.9519    0.9486     29051\n",
      "weighted avg     0.9712    0.9712    0.9712     29051\n",
      "\n"
     ]
    }
   ],
   "source": [
    "print(classification_report(y_true=y_test, y_pred=np.argmax(test_probas, axis=1),\n",
    "                            digits=4))"
   ]
  },
  {
   "cell_type": "code",
   "execution_count": 54,
   "metadata": {},
   "outputs": [
    {
     "data": {
      "application/vnd.jupyter.widget-view+json": {
       "model_id": "ad307565f5ad4f0686c0f40f21b15708",
       "version_major": 2,
       "version_minor": 0
      },
      "text/plain": [
       "  0%|          | 0/908 [00:00<?, ?it/s]"
      ]
     },
     "metadata": {},
     "output_type": "display_data"
    }
   ],
   "source": [
    "test_probas = predict_proba(\n",
    "    X=X_test, encoder=encoding_nn, classifier=classification_nn,\n",
    "    n_samples=10, batch_size=MINIBATCH_SIZE_FOR_INFERENCE\n",
    ")"
   ]
  },
  {
   "cell_type": "code",
   "execution_count": 55,
   "metadata": {},
   "outputs": [
    {
     "name": "stdout",
     "output_type": "stream",
     "text": [
      "              precision    recall  f1-score   support\n",
      "\n",
      "           0     0.9724    0.9715    0.9719     10592\n",
      "           1     0.9783    0.9735    0.9759     14165\n",
      "           2     0.9635    0.9732    0.9683      1788\n",
      "           3     0.8887    0.9242    0.9061       475\n",
      "           4     0.9358    0.9574    0.9465       868\n",
      "           5     0.9573    0.9825    0.9697      1026\n",
      "           6     0.9167    0.8832    0.8996       137\n",
      "\n",
      "    accuracy                         0.9714     29051\n",
      "   macro avg     0.9447    0.9522    0.9483     29051\n",
      "weighted avg     0.9715    0.9714    0.9714     29051\n",
      "\n"
     ]
    }
   ],
   "source": [
    "print(classification_report(y_true=y_test, y_pred=np.argmax(test_probas, axis=1),\n",
    "                            digits=4))"
   ]
  },
  {
   "cell_type": "code",
   "execution_count": 56,
   "metadata": {},
   "outputs": [
    {
     "data": {
      "application/vnd.jupyter.widget-view+json": {
       "model_id": "61e4f3110c2b495695126644f08c3800",
       "version_major": 2,
       "version_minor": 0
      },
      "text/plain": [
       "  0%|          | 0/908 [00:00<?, ?it/s]"
      ]
     },
     "metadata": {},
     "output_type": "display_data"
    }
   ],
   "source": [
    "test_probas = predict_proba(\n",
    "    X=X_test, encoder=encoding_nn, classifier=classification_nn,\n",
    "    n_samples=100, batch_size=MINIBATCH_SIZE_FOR_INFERENCE\n",
    ")"
   ]
  },
  {
   "cell_type": "code",
   "execution_count": 57,
   "metadata": {},
   "outputs": [
    {
     "name": "stdout",
     "output_type": "stream",
     "text": [
      "              precision    recall  f1-score   support\n",
      "\n",
      "           0     0.9720    0.9710    0.9715     10592\n",
      "           1     0.9779    0.9732    0.9756     14165\n",
      "           2     0.9635    0.9732    0.9683      1788\n",
      "           3     0.8887    0.9242    0.9061       475\n",
      "           4     0.9358    0.9574    0.9465       868\n",
      "           5     0.9582    0.9825    0.9702      1026\n",
      "           6     0.9167    0.8832    0.8996       137\n",
      "\n",
      "    accuracy                         0.9711     29051\n",
      "   macro avg     0.9447    0.9521    0.9482     29051\n",
      "weighted avg     0.9712    0.9711    0.9711     29051\n",
      "\n"
     ]
    }
   ],
   "source": [
    "print(classification_report(y_true=y_test, y_pred=np.argmax(test_probas, axis=1),\n",
    "                            digits=4))"
   ]
  }
 ],
 "metadata": {
  "accelerator": "GPU",
  "colab": {
   "collapsed_sections": [],
   "name": "vae_automl.ipynb",
   "provenance": []
  },
  "kernelspec": {
   "display_name": "Python 3 (ipykernel)",
   "language": "python",
   "name": "python3"
  },
  "language_info": {
   "codemirror_mode": {
    "name": "ipython",
    "version": 3
   },
   "file_extension": ".py",
   "mimetype": "text/x-python",
   "name": "python",
   "nbconvert_exporter": "python",
   "pygments_lexer": "ipython3",
   "version": "3.7.11"
  }
 },
 "nbformat": 4,
 "nbformat_minor": 1
}
