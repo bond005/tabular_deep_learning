{
 "cells": [
  {
   "cell_type": "code",
   "execution_count": 1,
   "metadata": {
    "id": "-XY9sNjKSiOL"
   },
   "outputs": [],
   "source": [
    "import gc\n",
    "import os\n",
    "import random\n",
    "from typing import List, Tuple"
   ]
  },
  {
   "cell_type": "code",
   "execution_count": 2,
   "metadata": {
    "id": "Ik_m85IV8RQA"
   },
   "outputs": [],
   "source": [
    "os.environ['TF_CPP_MIN_LOG_LEVEL'] = '2'"
   ]
  },
  {
   "cell_type": "code",
   "execution_count": 3,
   "metadata": {
    "id": "xmdyl8EYRRUJ"
   },
   "outputs": [],
   "source": [
    "import matplotlib.pyplot as plt\n",
    "import numpy as np\n",
    "from sklearn.compose import ColumnTransformer\n",
    "from sklearn.datasets import fetch_covtype\n",
    "from sklearn.decomposition import PCA\n",
    "from sklearn.ensemble import RandomForestClassifier\n",
    "from sklearn.feature_selection import VarianceThreshold\n",
    "from sklearn.impute import SimpleImputer\n",
    "from sklearn.metrics import classification_report\n",
    "from sklearn.metrics import f1_score\n",
    "from sklearn.model_selection import train_test_split\n",
    "from sklearn.pipeline import Pipeline\n",
    "from sklearn.preprocessing import StandardScaler, MinMaxScaler\n",
    "from sklearn.preprocessing import Binarizer, KBinsDiscretizer\n",
    "from skopt import gp_minimize\n",
    "from skopt.utils import use_named_args\n",
    "from skopt.space import Real, Integer\n",
    "from tqdm.notebook import tqdm"
   ]
  },
  {
   "cell_type": "code",
   "execution_count": 4,
   "metadata": {
    "id": "SuVsTybzxhj0"
   },
   "outputs": [],
   "source": [
    "import tensorflow as tf\n",
    "import tensorflow_addons as tfa\n",
    "import tensorflow_probability as tfp"
   ]
  },
  {
   "cell_type": "code",
   "execution_count": 5,
   "metadata": {},
   "outputs": [],
   "source": [
    "def find_best_rf(X: np.ndarray, y: np.ndarray) -> RandomForestClassifier:\n",
    "    space = [\n",
    "        Real(0.000001, 0.01, 'log-uniform', name='ccp_alpha'),\n",
    "        Real(0.5, 0.8, 'uniform', name='max_features'),\n",
    "        Real(0.6, 0.9, 'uniform', name='max_samples'),\n",
    "        Integer(50, 500, name='n_estimators')\n",
    "    ]\n",
    "    \n",
    "    @use_named_args(space)\n",
    "    def objective_f(ccp_alpha: float, max_features: float,\n",
    "                    max_samples: float, n_estimators: int) -> float:\n",
    "        test_cls = RandomForestClassifier(\n",
    "            min_samples_leaf=5, n_estimators=n_estimators,\n",
    "            random_state=42, verbose=True, n_jobs=-1,\n",
    "            ccp_alpha=ccp_alpha, oob_score=True, bootstrap=True,\n",
    "            max_samples=max_samples, max_features=max_features,\n",
    "        )\n",
    "        test_cls.fit(X, y)\n",
    "        nd = len(test_cls.oob_decision_function_.shape)\n",
    "        if nd != 2:\n",
    "            err_msg = f'`oob_decision_function_` is wrong! ' \\\n",
    "                      f'Expected 2-D array, got {nd}-D one!'\n",
    "            raise ValueError(err_msg)\n",
    "        filtered = list(\n",
    "            filter(\n",
    "                lambda idx: not any(np.isnan(\n",
    "                    test_cls.oob_decision_function_[idx]\n",
    "                )),\n",
    "                range(y.shape[0])\n",
    "            )\n",
    "        )\n",
    "        info_msg = f'OOB score is estimated using {len(filtered)} ' \\\n",
    "                   f'samples from {y.shape[0]}.'\n",
    "        print(info_msg)\n",
    "        if len(filtered) < 3:\n",
    "            err_msg = 'OOB score cannot be estimated!'\n",
    "            raise ValueError(err_msg)\n",
    "        quality = f1_score(\n",
    "            y_true=y[filtered],\n",
    "            y_pred=np.argmax(test_cls.oob_decision_function_[filtered],\n",
    "                             axis=-1),\n",
    "            average='macro'\n",
    "        )\n",
    "        return -quality\n",
    "    \n",
    "    res_gp = gp_minimize(\n",
    "        objective_f, space,\n",
    "        n_calls=32, n_random_starts=8,\n",
    "        n_restarts_optimizer=4, random_state=42,\n",
    "        verbose=True, n_jobs=1\n",
    "    )\n",
    "    best_parameters = {\n",
    "        'ccp_alpha': float(res_gp.x[0]),\n",
    "        'max_features': float(res_gp.x[1]),\n",
    "        'max_samples': float(res_gp.x[2]),\n",
    "        'n_estimators': int(res_gp.x[3]),\n",
    "    }\n",
    "    print(f'Best parameters are: {best_parameters}')\n",
    "    final_cls = RandomForestClassifier(\n",
    "        min_samples_leaf=5, random_state=42, verbose=True, n_jobs=-1,\n",
    "        oob_score=True, bootstrap=True,\n",
    "        ccp_alpha=best_parameters['ccp_alpha'],\n",
    "        n_estimators=best_parameters['n_estimators'],\n",
    "        max_samples=best_parameters['max_samples'],\n",
    "        max_features=best_parameters['max_features'],\n",
    "    )\n",
    "    final_cls.fit(X, y)\n",
    "    return final_cls"
   ]
  },
  {
   "cell_type": "code",
   "execution_count": 6,
   "metadata": {
    "id": "fy9Vu2fiQ3VN"
   },
   "outputs": [],
   "source": [
    "def build_preprocessor(X: np.ndarray, colnames: List[str]) -> Tuple[Pipeline, List[str], \\\n",
    "                                                                    List[int]]:\n",
    "    X_ = Pipeline(steps=[\n",
    "        (\n",
    "            'imputer', SimpleImputer(\n",
    "                missing_values=np.nan, strategy='constant',\n",
    "                fill_value=-1.0\n",
    "            )\n",
    "        ),\n",
    "        (\n",
    "            'scaler',\n",
    "            MinMaxScaler()\n",
    "        )\n",
    "    ]).fit_transform(X)\n",
    "    X_ = np.rint(X_ * 100000.0).astype(np.int32)\n",
    "    binary_features = dict()\n",
    "    categorical_features = dict()\n",
    "    removed_features = []\n",
    "    for col_idx in range(X.shape[1]):\n",
    "        values = set(X_[:, col_idx].tolist())\n",
    "        print(f'Column {col_idx} \"{colnames[col_idx]}\" has ' \\\n",
    "              f'{len(values)} unique values.')\n",
    "        if len(values) > 1:\n",
    "            if len(values) < 3:\n",
    "                binary_features[col_idx] = np.min(X[:, col_idx])\n",
    "            else:\n",
    "                categorical_features[col_idx] = len(values)\n",
    "        else:\n",
    "            removed_features.append(col_idx)\n",
    "        del values\n",
    "    del X_\n",
    "    all_features = set(range(X.shape[1]))\n",
    "    useful_features = sorted(list(all_features - set(removed_features)))\n",
    "    if len(useful_features) == 0:\n",
    "        raise ValueError('Training inputs are bad. All features are removed.')\n",
    "    print(f'There are {X.shape[1]} features.')\n",
    "    if len(removed_features) > 0:\n",
    "        print(f'These features will be removed: ' \\\n",
    "              f'{[colnames[col_idx] for col_idx in removed_features]}.')\n",
    "    transformers = []\n",
    "    if (len(categorical_features) > 0) and (len(binary_features) > 0):\n",
    "        print(f'There are {len(categorical_features)} categorical ' \\\n",
    "              f'features and {len(binary_features)} binary features.')\n",
    "    elif len(categorical_features) > 0:\n",
    "        print(f'There are {len(categorical_features)} categorical features.')\n",
    "    else:\n",
    "        print(f'There are {len(binary_features)} binary features.')\n",
    "    source_features = []\n",
    "    for col_idx in categorical_features:\n",
    "        n_unique_values = categorical_features[col_idx]\n",
    "        transformers.append(\n",
    "            (\n",
    "                colnames[col_idx],\n",
    "                KBinsDiscretizer(\n",
    "                    n_bins=min(max(n_unique_values // 3, 3), 256),\n",
    "                    encode='ordinal',\n",
    "                    strategy=('quantile' if n_unique_values > 50 else 'kmeans')\n",
    "                ),\n",
    "                (col_idx,)\n",
    "            )\n",
    "        )\n",
    "        source_features.append(colnames[col_idx])\n",
    "    for col_idx in binary_features:\n",
    "        transformers.append(\n",
    "            (\n",
    "                colnames[col_idx],\n",
    "                Binarizer(threshold=0.0),\n",
    "                (col_idx,)\n",
    "            )\n",
    "        )\n",
    "        source_features.append(colnames[col_idx])\n",
    "    preprocessor = Pipeline(steps=[\n",
    "        (\n",
    "            'imputer', SimpleImputer(\n",
    "                missing_values=np.nan, strategy='constant',\n",
    "                fill_value=-1.0\n",
    "            )\n",
    "        ),\n",
    "        (\n",
    "            'minmax_scaler',\n",
    "            MinMaxScaler()\n",
    "        ),\n",
    "        (\n",
    "            'composite_transformer', ColumnTransformer(\n",
    "                transformers=transformers,\n",
    "                sparse_threshold=0.0,\n",
    "                n_jobs=1\n",
    "            )\n",
    "        ),\n",
    "        (\n",
    "            'selector',\n",
    "            VarianceThreshold()\n",
    "        )\n",
    "    ])\n",
    "    preprocessor.fit(X)\n",
    "    mask = preprocessor.named_steps['selector'].get_support(indices=False)\n",
    "    assert len(mask) == len(source_features)\n",
    "    selected_features = list(map(\n",
    "        lambda idx2: source_features[idx2],\n",
    "        filter(lambda idx1: mask[idx1], range(len(mask)))\n",
    "    ))\n",
    "    X_trans = preprocessor.transform(X)\n",
    "    assert X_trans.shape[1] == len(selected_features)\n",
    "    unique_values_list = []\n",
    "    for ft_idx in range(X_trans.shape[1]):\n",
    "        unique_values = set(map(lambda it: int(it), X_trans[:, ft_idx].tolist()))\n",
    "        n_unique_values = len(unique_values)\n",
    "        assert n_unique_values > 1\n",
    "        unique_values_list.append(n_unique_values)\n",
    "    return preprocessor, selected_features, unique_values_list"
   ]
  },
  {
   "cell_type": "code",
   "execution_count": 7,
   "metadata": {
    "id": "8BZI96xER4Rj"
   },
   "outputs": [],
   "source": [
    "def build_normalizer(X: np.ndarray) -> Pipeline:\n",
    "    normalizer = Pipeline(steps=[\n",
    "        (\n",
    "            'imputer',\n",
    "            SimpleImputer(missing_values=np.nan, strategy='mean')\n",
    "        ),\n",
    "        (\n",
    "            'standard_scaler',\n",
    "            StandardScaler(with_mean=True, with_std=True)\n",
    "        ),\n",
    "        (\n",
    "            'pca',\n",
    "            PCA(random_state=42)\n",
    "        )\n",
    "    ])\n",
    "    return normalizer.fit(X)"
   ]
  },
  {
   "cell_type": "code",
   "execution_count": null,
   "metadata": {},
   "outputs": [],
   "source": [
    "def generate_initializer():\n",
    "    try:\n",
    "        kernel_initializer = tf.keras.initializers.GlorotNormal(\n",
    "            seed=random.randint(0, 2147483647)\n",
    "        )\n",
    "    except:\n",
    "        kernel_initializer = tf.compat.v1.keras.initializers.glorot_normal(\n",
    "            seed=random.randint(0, 2147483647)\n",
    "        )\n",
    "    return kernel_initializer"
   ]
  },
  {
   "cell_type": "code",
   "execution_count": 8,
   "metadata": {
    "id": "9yTdSjxYT6B1"
   },
   "outputs": [],
   "source": [
    "def build_neural_network(features: List[int], n_classes: int,\n",
    "                         n_latent: int, n_hidden: int, depth: int,\n",
    "                         nn_name: str) -> Tuple[tf.keras.Model, tf.keras.Model, \\\n",
    "                                                tf.keras.Model]:\n",
    "    if n_hidden < 1:\n",
    "        err_msg = f'The hidde layer size = {n_hidden} is too small!'\n",
    "    binary_ft_indices = set()\n",
    "    for ft_idx, ft_size in enumerate(features):\n",
    "        if ft_size < 2:\n",
    "            err_msg = f'Feature {ft_idx} unique values quanity = {ft_size} is too small!'\n",
    "            raise ValueError(err_msg)\n",
    "        if ft_size == 2:\n",
    "            binary_ft_indices.add(ft_idx)\n",
    "    if (len(binary_ft_indices) > 0) and (len(binary_ft_indices) < len(features)):\n",
    "        info_msg = f'There are {len(binary_ft_indices)} binary features and ' \\\n",
    "                   f'{len(features) - len(binary_ft_indices)} categorical features.'\n",
    "    elif len(binary_ft_indices) > 0:\n",
    "        info_msg = f'There are {len(binary_ft_indices)} binary features.'\n",
    "    else:\n",
    "        info_msg = f'There are {len(features)} categorical features.'\n",
    "    print(info_msg)\n",
    "    feature_vector = tf.keras.layers.Input(\n",
    "        shape=(len(features),), dtype=tf.float32,\n",
    "        name=f'{nn_name}_feature_vector'\n",
    "    )\n",
    "    block_input = feature_vector\n",
    "    for layer_idx in range(depth):\n",
    "        first_layer = tf.keras.layers.Dense(\n",
    "            units=n_hidden,\n",
    "            activation='tanh',\n",
    "            kernel_initializer=generate_initializer(),\n",
    "            bias_initializer='zeros',\n",
    "            name=f'{nn_name}_enc_dense{layer_idx * 3 + 1}'\n",
    "        )(block_input)\n",
    "        second_layer = tf.keras.layers.Dense(\n",
    "            units=n_hidden,\n",
    "            activation='tanh',\n",
    "            kernel_initializer=generate_initializer(),\n",
    "            bias_initializer='zeros',\n",
    "            name=f'{nn_name}_enc_dense{layer_idx * 3 + 2}'\n",
    "        )(first_layer)\n",
    "        third_layer = tf.keras.layers.Dense(\n",
    "            units=n_hidden,\n",
    "            activation='tanh',\n",
    "            kernel_initializer=generate_initializer(),\n",
    "            bias_initializer='zeros',\n",
    "            name=f'{nn_name}_enc_dense{layer_idx * 3 + 3}'\n",
    "        )(second_layer)\n",
    "        encoder_layer = tf.keras.layers.Add(\n",
    "            name=f'{nn_name}_enc_add{layer_idx + 1}'\n",
    "        )([first_layer, third_layer])\n",
    "        block_input = encoder_layer\n",
    "        del first_layer, second_layer, third_layer\n",
    "    del block_input\n",
    "    prior = tfp.distributions.Independent(\n",
    "        distribution=tfp.distributions.Normal(\n",
    "            loc=tf.zeros(n_latent),\n",
    "            scale=1\n",
    "        ),\n",
    "        reinterpreted_batch_ndims=1\n",
    "    )\n",
    "    latent_layer = tf.keras.layers.Dense(\n",
    "        units=tfp.layers.IndependentNormal.params_size(n_latent),\n",
    "        activation=None,\n",
    "        kernel_initializer=generate_initializer(),\n",
    "        bias_initializer='zeros',\n",
    "        name=f'{nn_name}_latent'\n",
    "    )(encoder_layer)\n",
    "    z = tfp.layers.IndependentNormal(\n",
    "        event_shape=n_latent,\n",
    "        convert_to_tensor_fn=tfp.distributions.Distribution.sample,\n",
    "        activity_regularizer=tfp.layers.KLDivergenceRegularizer(\n",
    "            distribution_b=prior,\n",
    "            weight=1e-3\n",
    "        ),\n",
    "        name=f'{nn_name}_z'\n",
    "    )(latent_layer)\n",
    "    classifier_input = tf.keras.layers.Input(\n",
    "        shape=(n_latent,), dtype=tf.float32,\n",
    "        name=f'{nn_name}_feature_vector'\n",
    "    )\n",
    "    hidden_layer = tf.keras.layers.Dense(\n",
    "        units=n_hidden,\n",
    "        activation='tanh',\n",
    "        kernel_initializer=generate_initializer(),\n",
    "        bias_initializer='zeros',\n",
    "        name=f'{nn_name}_cls_hidden'\n",
    "    )(classifier_input)\n",
    "    cls_layer = tf.keras.layers.Dense(\n",
    "        units=n_classes,\n",
    "        activation='softmax',\n",
    "        kernel_initializer=kernel_initializer,\n",
    "        bias_initializer='zeros',\n",
    "        name=f'{nn_name}_cls_output'\n",
    "    )(hidden_layer)\n",
    "    cls_name = f'{nn_name}_cls'\n",
    "    cls_model = tf.keras.Model(\n",
    "        inputs=classifier_input,\n",
    "        outputs=cls_layer,\n",
    "        name=cls_name\n",
    "    )\n",
    "    cls_model.build(input_shape=[None, n_latent])\n",
    "    block_input = z\n",
    "    for layer_idx in range(depth):\n",
    "        first_layer = tf.keras.layers.Dense(\n",
    "            units=n_hidden,\n",
    "            activation='tanh',\n",
    "            kernel_initializer=generate_initializer(),\n",
    "            bias_initializer='zeros',\n",
    "            name=f'{nn_name}_dec_dense{layer_idx * 3 + 1}'\n",
    "        )(block_input)\n",
    "        second_layer = tf.keras.layers.Dense(\n",
    "            units=n_hidden,\n",
    "            activation='tanh',\n",
    "            kernel_initializer=generate_initializer(),\n",
    "            bias_initializer='zeros',\n",
    "            name=f'{nn_name}_dec_dense{layer_idx * 3 + 2}'\n",
    "        )(first_layer)\n",
    "        third_layer = tf.keras.layers.Dense(\n",
    "            units=n_hidden,\n",
    "            activation='tanh',\n",
    "            kernel_initializer=generate_initializer(),\n",
    "            bias_initializer='zeros',\n",
    "            name=f'{nn_name}_dec_dense{layer_idx * 3 + 3}'\n",
    "        )(second_layer)\n",
    "        decoder_layer = tf.keras.layers.Add(\n",
    "            name=f'{nn_name}_dec_add{layer_idx + 1}'\n",
    "        )([first_layer, third_layer])\n",
    "        block_input = decoder_layer\n",
    "        del first_layer, second_layer, third_layer  \n",
    "    reconstruction_layers = []\n",
    "    reconstruction_names = []\n",
    "    if len(binary_ft_indices) > 0:\n",
    "        new_reconstruction_layer = tf.keras.layers.Dense(\n",
    "            units=len(binary_ft_indices),\n",
    "            activation=None,\n",
    "            kernel_initializer=generate_initializer(),\n",
    "            bias_initializer='zeros',\n",
    "            name=f'{nn_name}_rec_binary'\n",
    "        )(decoder_layer)\n",
    "        new_reconstruction_name = f'{nn_name}_bernoulli'\n",
    "        new_reconstruction_layer = tfp.layers.IndependentBernoulli(\n",
    "            event_shape=len(binary_ft_indices),\n",
    "            convert_to_tensor_fn=tfp.distributions.Bernoulli.logits,\n",
    "            name=new_reconstruction_name\n",
    "        )(new_reconstruction_layer)\n",
    "        reconstruction_layers.append(new_reconstruction_layer)\n",
    "        reconstruction_names.append(new_reconstruction_name)\n",
    "    counter = 1\n",
    "    for ft_idx, ft_size in enumerate(features):\n",
    "        if ft_size > 2:\n",
    "            new_reconstruction_layer = tf.keras.layers.Dense(\n",
    "                units=ft_size,\n",
    "                activation=None,\n",
    "                kernel_initializer=generate_initializer(),\n",
    "                bias_initializer='zeros',\n",
    "                name=f'{nn_name}_rec_cat{counter}'\n",
    "            )(decoder_layer)\n",
    "            new_reconstruction_name = f'{nn_name}_categorical{counter}'\n",
    "            new_reconstruction_layer = tfp.layers.OneHotCategorical(\n",
    "                event_size=ft_size,\n",
    "                convert_to_tensor_fn=tfp.distributions.OneHotCategorical.logits,\n",
    "                name=new_reconstruction_name\n",
    "            )(new_reconstruction_layer)\n",
    "            reconstruction_layers.append(new_reconstruction_layer)\n",
    "            reconstruction_names.append(new_reconstruction_name)\n",
    "            counter += 1\n",
    "    encoder_model = tf.keras.Model(\n",
    "        inputs=feature_vector,\n",
    "        outputs=z,\n",
    "        name=f'{nn_name}_enc'\n",
    "    )\n",
    "    united_model = tf.keras.Model(\n",
    "        inputs=feature_vector,\n",
    "        outputs=[cls_model(z)] + reconstruction_layers,\n",
    "        name=f'{nn_name}_vae'\n",
    "    )\n",
    "    encoder_model.build(input_shape=[None, len(features)])\n",
    "    metrics = {cls_name: [tf.keras.metrics.CategoricalAccuracy()]}\n",
    "    negloglik = lambda y, rv_y: -rv_y.log_prob(y)\n",
    "    losses = {\n",
    "        cls_name: tf.keras.losses.CategoricalCrossentropy(label_smoothing=0.05)\n",
    "    }\n",
    "    loss_weights = {\n",
    "        cls_name: 1.0\n",
    "    }\n",
    "    for cur_name in reconstruction_names:\n",
    "        losses[cur_name] = negloglik\n",
    "        loss_weights[cur_name] = 0.5\n",
    "    radam = tfa.optimizers.RectifiedAdam(learning_rate=1e-3)\n",
    "    ranger = tfa.optimizers.Lookahead(radam, sync_period=6, slow_step_size=0.5)\n",
    "    united_model.compile(optimizer=ranger, loss=losses,\n",
    "                         loss_weights=loss_weights, metrics=metrics)\n",
    "    return united_model, encoder_model, cls_model"
   ]
  },
  {
   "cell_type": "code",
   "execution_count": 9,
   "metadata": {
    "id": "T9Vd3cA0pCX7"
   },
   "outputs": [],
   "source": [
    "def calculate_projections(X: np.ndarray, encoder: tf.keras.Model,\n",
    "                          n_samples: int, batch_size: int) -> List[np.ndarray]:\n",
    "    n_batches = int(np.ceil(X.shape[0] / float(batch_size)))\n",
    "    projections = [[] for _ in range(n_samples)]\n",
    "    for batch_idx in tqdm(list(range(n_batches))):\n",
    "        batch_start = batch_idx * batch_size\n",
    "        batch_end = min(X.shape[0], batch_start + batch_size)\n",
    "        distr = encoder(X[batch_start:batch_end])\n",
    "        assert isinstance(distr, tfp.distributions.Distribution)\n",
    "        if n_samples > 1:\n",
    "            y_inst = distr.sample()\n",
    "            if not isinstance(y_inst, np.ndarray):\n",
    "                y_inst = y_inst.numpy()\n",
    "            assert len(y_inst.shape) == 2\n",
    "            projections[0].append(y_inst)\n",
    "            del y_inst\n",
    "            for prj_idx in range(1, n_samples):\n",
    "                y_inst = distr.sample()\n",
    "                if not isinstance(y_inst, np.ndarray):\n",
    "                    y_inst = y_inst.numpy()\n",
    "                assert len(y_inst.shape) == 2\n",
    "                projections[prj_idx].append(y_inst)\n",
    "                del y_inst\n",
    "        else:\n",
    "            y_inst = distr.mean()\n",
    "            if not isinstance(y_inst, np.ndarray):\n",
    "                y_inst = y_inst.numpy()\n",
    "            assert len(y_inst.shape) == 2\n",
    "            projections[0].append(y_inst)\n",
    "            del y_inst\n",
    "        del distr\n",
    "    return [np.vstack(cur) for cur in projections]"
   ]
  },
  {
   "cell_type": "code",
   "execution_count": 10,
   "metadata": {
    "id": "Pght_Ba0oy52"
   },
   "outputs": [],
   "source": [
    "def predict_proba(X: np.ndarray, encoder: tf.keras.Model, classifier: tf.keras.Model,\n",
    "                  n_samples: int, batch_size: int) -> np.ndarray:\n",
    "    projections = calculate_projections(X, encoder, n_samples, batch_size)\n",
    "    y = classifier.predict(projections[0], batch_size=batch_size)\n",
    "    assert len(y.shape) == 2\n",
    "    for prj_idx in range(1, n_samples):\n",
    "        y += classifier.predict(projections[prj_idx], batch_size=batch_size)\n",
    "    proba = y.astype(np.float64) / float(n_samples)\n",
    "    return proba / np.sum(proba, axis=1, keepdims=True)"
   ]
  },
  {
   "cell_type": "code",
   "execution_count": 11,
   "metadata": {
    "id": "QbRSZHmWtj_t"
   },
   "outputs": [],
   "source": [
    "class TrainsetGenerator(tf.keras.utils.Sequence):\n",
    "    def __init__(self, x_src: np.ndarray, x_norm: np.ndarray, y: np.ndarray,\n",
    "                 n_classes: int, batch_size: int, features: List[int]):\n",
    "        self.x_src, self.x_norm, self.y = x_src, x_norm, y\n",
    "        self.batch_size = batch_size\n",
    "        self.features = features\n",
    "        self.n_classes = n_classes\n",
    "        self.indices_ = np.array(list(range(self.x_src.shape[0])), dtype=np.int32)\n",
    "        self.binary_feature_list_ = []\n",
    "        self.cat_feature_list_ = []\n",
    "        for ft_idx, ft_size in enumerate(self.features):\n",
    "            if ft_size < 2:\n",
    "                err_msg = f'Feature {ft_idx} unique values quanity = {ft_size} ' \\\n",
    "                          f'is too small!'\n",
    "                raise ValueError(err_msg)\n",
    "            if ft_size == 2:\n",
    "                self.binary_feature_list_.append(ft_idx)\n",
    "            else:\n",
    "                self.cat_feature_list_.append(ft_idx)\n",
    "        self.class_distr_ = dict()\n",
    "        for sample_idx, class_idx in enumerate(y.tolist()):\n",
    "            if class_idx in self.class_distr_:\n",
    "                self.class_distr_[class_idx].append(sample_idx)\n",
    "            else:\n",
    "                self.class_distr_[class_idx] = [sample_idx]\n",
    "        for class_idx in self.class_distr_:\n",
    "            self.class_distr_[class_idx] = np.array(self.class_distr_[class_idx],\n",
    "                                                    dtype=np.int32)\n",
    "        assert len(self.x_src.shape) == 2\n",
    "        assert self.x_src.shape[0] > self.batch_size\n",
    "        assert self.x_norm.shape == self.x_src.shape\n",
    "        assert len(self.y.shape) == 1\n",
    "        assert self.y.shape[0] == self.x_src.shape[0]\n",
    "        assert self.x_src.shape[1] == len(self.features)\n",
    "    \n",
    "    def __len__(self):\n",
    "        return int(np.ceil(self.x_src.shape[0] / float(self.batch_size)))\n",
    "    \n",
    "    def __getitem__(self, batch_idx: int):\n",
    "        batch_indices = []\n",
    "        selected_classes = sorted(list(self.class_distr_.keys()))\n",
    "        if self.batch_size < len(selected_classes):\n",
    "            selected_classes = random.sample(selected_classes, self.batch_size)\n",
    "        for counter, class_idx in enumerate(selected_classes):\n",
    "            n = int(round(\n",
    "                (self.batch_size - len(batch_indices)) / \n",
    "                (len(selected_classes) - counter)\n",
    "            ))\n",
    "            batch_indices += np.random.choice(\n",
    "                a=self.class_distr_[class_idx],\n",
    "                size=n\n",
    "            ).tolist()\n",
    "        X_batch = np.empty((len(batch_indices), len(self.features)), dtype=np.float32)\n",
    "        y_batch = [\n",
    "            np.zeros((len(batch_indices), self.n_classes), dtype=np.float32),\n",
    "        ]\n",
    "        if len(self.binary_feature_list_) > 0:\n",
    "            y_batch.append(\n",
    "                np.zeros(\n",
    "                    (len(batch_indices), len(self.binary_feature_list_)),\n",
    "                    dtype=np.float32\n",
    "                )\n",
    "            )\n",
    "        for ft_idx in self.cat_feature_list_:\n",
    "            y_batch.append(\n",
    "                np.zeros(\n",
    "                    (len(batch_indices), self.features[ft_idx]),\n",
    "                    dtype=np.float32\n",
    "                )\n",
    "            )\n",
    "        for idx, sample_idx in enumerate(batch_indices):\n",
    "            X_batch[idx] = self.x_norm[sample_idx]\n",
    "            class_idx = self.y[sample_idx]\n",
    "            y_batch[0][idx, class_idx] = 1.0\n",
    "            counter = 1\n",
    "            if len(self.binary_feature_list_) > 0:\n",
    "                for col_idx, ft_idx in enumerate(self.binary_feature_list_):\n",
    "                    class_idx = int(self.x_src[sample_idx, ft_idx])\n",
    "                    if class_idx > 0:\n",
    "                        y_batch[1][idx, col_idx] = 1.0\n",
    "                counter += 1\n",
    "            for ft_idx in self.cat_feature_list_:\n",
    "                class_idx = int(self.x_src[sample_idx, ft_idx])\n",
    "                y_batch[counter][idx, class_idx] = 1.0\n",
    "                counter += 1\n",
    "        return X_batch, y_batch"
   ]
  },
  {
   "cell_type": "code",
   "execution_count": 12,
   "metadata": {
    "id": "Ct0xUl_IwHgF"
   },
   "outputs": [],
   "source": [
    "class ValidsetGenerator(tf.keras.utils.Sequence):\n",
    "    def __init__(self, x_src: np.ndarray, x_norm: np.ndarray, y: np.ndarray,\n",
    "                 n_classes: int, batch_size: int, features: List[int]):\n",
    "        self.x_src, self.x_norm, self.y = x_src, x_norm, y\n",
    "        self.batch_size = batch_size\n",
    "        self.features = features\n",
    "        self.n_classes = n_classes\n",
    "        self.indices_ = np.array(list(range(self.x_src.shape[0])), dtype=np.int32)\n",
    "        self.binary_feature_list_ = []\n",
    "        self.cat_feature_list_ = []\n",
    "        for ft_idx, ft_size in enumerate(self.features):\n",
    "            if ft_size < 2:\n",
    "                err_msg = f'Feature {ft_idx} unique values quanity = {ft_size} ' \\\n",
    "                          f'is too small!'\n",
    "                raise ValueError(err_msg)\n",
    "            if ft_size == 2:\n",
    "                self.binary_feature_list_.append(ft_idx)\n",
    "            else:\n",
    "                self.cat_feature_list_.append(ft_idx)\n",
    "        assert len(self.x_src.shape) == 2\n",
    "        assert self.x_src.shape[0] > self.batch_size\n",
    "        assert self.x_norm.shape == self.x_src.shape\n",
    "        assert len(self.y.shape) == 1\n",
    "        assert self.y.shape[0] == self.x_src.shape[0]\n",
    "        assert self.x_src.shape[1] == len(self.features)\n",
    "    \n",
    "    def __len__(self):\n",
    "        return int(np.ceil(self.x_src.shape[0] / float(self.batch_size)))\n",
    "    \n",
    "    def __getitem__(self, batch_idx: int):\n",
    "        batch_start = batch_idx * self.batch_size\n",
    "        batch_end = min(batch_start + self.batch_size, self.x_src.shape[0])\n",
    "        batch_indices = list(range(batch_start, batch_end))\n",
    "        X_batch = np.empty((len(batch_indices), len(self.features)), dtype=np.float32)\n",
    "        y_batch = [\n",
    "            np.zeros((len(batch_indices), self.n_classes), dtype=np.float32),\n",
    "        ]\n",
    "        if len(self.binary_feature_list_) > 0:\n",
    "            y_batch.append(\n",
    "                np.zeros(\n",
    "                    (len(batch_indices), len(self.binary_feature_list_)),\n",
    "                    dtype=np.float32\n",
    "                )\n",
    "            )\n",
    "        for ft_idx in self.cat_feature_list_:\n",
    "            y_batch.append(\n",
    "                np.zeros(\n",
    "                    (len(batch_indices), self.features[ft_idx]),\n",
    "                    dtype=np.float32\n",
    "                )\n",
    "            )\n",
    "        for idx, sample_idx in enumerate(batch_indices):\n",
    "            X_batch[idx] = self.x_norm[sample_idx]\n",
    "            class_idx = self.y[sample_idx]\n",
    "            y_batch[0][idx, class_idx] = 1.0\n",
    "            counter = 1\n",
    "            if len(self.binary_feature_list_) > 0:\n",
    "                for col_idx, ft_idx in enumerate(self.binary_feature_list_):\n",
    "                    class_idx = int(self.x_src[sample_idx, ft_idx])\n",
    "                    if class_idx > 0:\n",
    "                        y_batch[1][idx, col_idx] = 1.0\n",
    "                counter += 1\n",
    "            for ft_idx in self.cat_feature_list_:\n",
    "                class_idx = int(self.x_src[sample_idx, ft_idx])\n",
    "                y_batch[counter][idx, class_idx] = 1.0\n",
    "                counter += 1\n",
    "        return X_batch, y_batch"
   ]
  },
  {
   "cell_type": "code",
   "execution_count": 13,
   "metadata": {
    "id": "XySEOAZv6PA3"
   },
   "outputs": [],
   "source": [
    "def show_training_process(history: tf.keras.callbacks.History, metric_name: str,\n",
    "                          figure_id: int=1, comment: str=''):\n",
    "    val_metric_name = 'val_' + metric_name\n",
    "    if metric_name not in history.history:\n",
    "        err_msg = f'The metric \"{metric_name}\" is not found! Available metrics are: ' \\\n",
    "                  f'{list(history.history.keys())}.'\n",
    "        raise ValueError(err_msg)\n",
    "    plt.figure(figure_id, figsize=(5, 5))\n",
    "    interesting_metric = history.history[metric_name]\n",
    "    plt.plot(list(range(len(interesting_metric))), interesting_metric,\n",
    "             label=f'Training {metric_name}')\n",
    "    if val_metric_name in history.history:\n",
    "        interesting_val_metric = history.history[val_metric_name]\n",
    "        assert len(interesting_metric) == len(interesting_val_metric)\n",
    "        plt.plot(list(range(len(interesting_val_metric))),\n",
    "                 interesting_val_metric,\n",
    "                 label=f'Validation {metric_name}')\n",
    "    plt.xlabel('Epochs')\n",
    "    plt.ylabel(metric_name)\n",
    "    if len(comment) > 0:\n",
    "        plt.title(f'Training process of {comment}')\n",
    "    else:\n",
    "        plt.title('Training process')\n",
    "    plt.legend(loc='best')\n",
    "    plt.show()"
   ]
  },
  {
   "cell_type": "code",
   "execution_count": 14,
   "metadata": {
    "id": "3-HMveIH1kGs"
   },
   "outputs": [],
   "source": [
    "random.seed(42)\n",
    "np.random.seed(42)\n",
    "tf.random.set_seed(42)"
   ]
  },
  {
   "cell_type": "code",
   "execution_count": 15,
   "metadata": {
    "id": "sFy1uxbg33tm"
   },
   "outputs": [],
   "source": [
    "MINIBATCH_SIZE_FOR_TRAINING = 4096\n",
    "MINIBATCH_SIZE_FOR_INFERENCE = 64\n",
    "MAX_TRAINING_EPOCHS = 1000\n",
    "ES_PATIENCE = 10"
   ]
  },
  {
   "cell_type": "code",
   "execution_count": 16,
   "metadata": {
    "colab": {
     "base_uri": "https://localhost:8080/",
     "height": 450
    },
    "id": "Bj8e6qC11X2d",
    "outputId": "c02f6d0d-10f8-40cd-b711-8e007493b13f"
   },
   "outputs": [],
   "source": [
    "dataset = fetch_covtype(return_X_y=False, random_state=42, shuffle=True)"
   ]
  },
  {
   "cell_type": "code",
   "execution_count": 17,
   "metadata": {
    "id": "2yHzxi3_AVrP"
   },
   "outputs": [],
   "source": [
    "classes_dict = dict()\n",
    "for val in dataset.target.tolist():\n",
    "    if val not in classes_dict:\n",
    "        classes_dict[val] = len(classes_dict)"
   ]
  },
  {
   "cell_type": "code",
   "execution_count": 18,
   "metadata": {
    "id": "Wd2kWW202JXe"
   },
   "outputs": [
    {
     "name": "stdout",
     "output_type": "stream",
     "text": [
      "X.shape = (581012, 54)\n",
      "y.shape = (581012,)\n",
      "Number of classes is 7.\n"
     ]
    }
   ],
   "source": [
    "print(f'X.shape = {dataset.data.shape}')\n",
    "print(f'y.shape = {dataset.target.shape}')\n",
    "print(f'Number of classes is {len(classes_dict)}.')"
   ]
  },
  {
   "cell_type": "code",
   "execution_count": 19,
   "metadata": {
    "id": "_zquwHNA2TNm"
   },
   "outputs": [],
   "source": [
    "X_train, X_test, y_train, y_test = train_test_split(\n",
    "    dataset.data,\n",
    "    np.array([classes_dict[val] for val in dataset.target.tolist()], dtype=np.int32),\n",
    "    test_size=0.05, stratify=dataset.target, random_state=42\n",
    ")"
   ]
  },
  {
   "cell_type": "code",
   "execution_count": 20,
   "metadata": {
    "id": "CGNgEIwD26fc"
   },
   "outputs": [],
   "source": [
    "X_train, X_valid, y_train, y_valid = train_test_split(\n",
    "    X_train,\n",
    "    y_train,\n",
    "    test_size=0.05, stratify=y_train, random_state=42\n",
    ")"
   ]
  },
  {
   "cell_type": "code",
   "execution_count": 21,
   "metadata": {
    "id": "e9k-dk272i3F"
   },
   "outputs": [
    {
     "name": "stdout",
     "output_type": "stream",
     "text": [
      "X_train.shape = (524362, 54)\n",
      "y_train.shape = (524362,)\n",
      "Number of classes is 7.\n"
     ]
    }
   ],
   "source": [
    "print(f'X_train.shape = {X_train.shape}')\n",
    "print(f'y_train.shape = {y_train.shape}')\n",
    "number_of_classes_for_training = len(set(map(lambda it: int(it), y_train.tolist())))\n",
    "print(f'Number of classes is {number_of_classes_for_training}.')"
   ]
  },
  {
   "cell_type": "code",
   "execution_count": 22,
   "metadata": {
    "id": "ueqb35hi2zJ0"
   },
   "outputs": [
    {
     "name": "stdout",
     "output_type": "stream",
     "text": [
      "X_valid.shape = (27599, 54)\n",
      "y_valid.shape = (27599,)\n",
      "Number of classes is 7.\n"
     ]
    }
   ],
   "source": [
    "print(f'X_valid.shape = {X_valid.shape}')\n",
    "print(f'y_valid.shape = {y_valid.shape}')\n",
    "number_of_classes_for_validation = len(set(map(lambda it: int(it), y_valid.tolist())))\n",
    "print(f'Number of classes is {number_of_classes_for_validation}.')"
   ]
  },
  {
   "cell_type": "code",
   "execution_count": 23,
   "metadata": {
    "id": "Qxq0visG2uqA"
   },
   "outputs": [
    {
     "name": "stdout",
     "output_type": "stream",
     "text": [
      "X_test.shape = (29051, 54)\n",
      "y_test.shape = (29051,)\n",
      "Number of classes is 7.\n"
     ]
    }
   ],
   "source": [
    "print(f'X_test.shape = {X_test.shape}')\n",
    "print(f'y_test.shape = {y_test.shape}')\n",
    "number_of_classes_for_testing = len(set(map(lambda it: int(it), y_test.tolist())))\n",
    "print(f'Number of classes is {number_of_classes_for_testing}.')"
   ]
  },
  {
   "cell_type": "code",
   "execution_count": null,
   "metadata": {},
   "outputs": [],
   "source": [
    "BEST_RF_PARAMS = {'ccp_alpha': 1e-06, 'max_features': 0.8,\n",
    "                  'max_samples': 0.9, 'n_estimators': 500}"
   ]
  },
  {
   "cell_type": "code",
   "execution_count": 24,
   "metadata": {
    "id": "TlZalyDU6n2Z"
   },
   "outputs": [
    {
     "name": "stdout",
     "output_type": "stream",
     "text": [
      "Iteration No: 1 started. Evaluating function at random point.\n"
     ]
    },
    {
     "name": "stderr",
     "output_type": "stream",
     "text": [
      "[Parallel(n_jobs=-1)]: Using backend ThreadingBackend with 16 concurrent workers.\n",
      "[Parallel(n_jobs=-1)]: Done  18 tasks      | elapsed:   17.6s\n",
      "[Parallel(n_jobs=-1)]: Done 168 tasks      | elapsed:  1.7min\n",
      "[Parallel(n_jobs=-1)]: Done 319 out of 319 | elapsed:  3.1min finished\n"
     ]
    },
    {
     "name": "stdout",
     "output_type": "stream",
     "text": [
      "OOB score is estimated using 524362 samples from 524362.\n",
      "Iteration No: 1 ended. Evaluation done at random point.\n",
      "Time taken: 204.0279\n",
      "Function value obtained: -0.3908\n",
      "Current minimum: -0.3908\n",
      "Iteration No: 2 started. Evaluating function at random point.\n"
     ]
    },
    {
     "name": "stderr",
     "output_type": "stream",
     "text": [
      "[Parallel(n_jobs=-1)]: Using backend ThreadingBackend with 16 concurrent workers.\n",
      "[Parallel(n_jobs=-1)]: Done  18 tasks      | elapsed:   16.0s\n",
      "[Parallel(n_jobs=-1)]: Done 168 tasks      | elapsed:  1.6min\n",
      "[Parallel(n_jobs=-1)]: Done 200 out of 200 | elapsed:  1.8min finished\n"
     ]
    },
    {
     "name": "stdout",
     "output_type": "stream",
     "text": [
      "OOB score is estimated using 524362 samples from 524362.\n",
      "Iteration No: 2 ended. Evaluation done at random point.\n",
      "Time taken: 123.4018\n",
      "Function value obtained: -0.8100\n",
      "Current minimum: -0.8100\n",
      "Iteration No: 3 started. Evaluating function at random point.\n"
     ]
    },
    {
     "name": "stderr",
     "output_type": "stream",
     "text": [
      "[Parallel(n_jobs=-1)]: Using backend ThreadingBackend with 16 concurrent workers.\n",
      "[Parallel(n_jobs=-1)]: Done  18 tasks      | elapsed:   16.4s\n",
      "[Parallel(n_jobs=-1)]: Done 168 tasks      | elapsed:  1.5min\n",
      "[Parallel(n_jobs=-1)]: Done 375 out of 375 | elapsed:  3.3min finished\n"
     ]
    },
    {
     "name": "stdout",
     "output_type": "stream",
     "text": [
      "OOB score is estimated using 524362 samples from 524362.\n",
      "Iteration No: 3 ended. Evaluation done at random point.\n",
      "Time taken: 233.8324\n",
      "Function value obtained: -0.9255\n",
      "Current minimum: -0.9255\n",
      "Iteration No: 4 started. Evaluating function at random point.\n"
     ]
    },
    {
     "name": "stderr",
     "output_type": "stream",
     "text": [
      "[Parallel(n_jobs=-1)]: Using backend ThreadingBackend with 16 concurrent workers.\n",
      "[Parallel(n_jobs=-1)]: Done  18 tasks      | elapsed:   17.0s\n",
      "[Parallel(n_jobs=-1)]: Done 168 tasks      | elapsed:  1.7min\n",
      "[Parallel(n_jobs=-1)]: Done 328 out of 328 | elapsed:  3.1min finished\n"
     ]
    },
    {
     "name": "stdout",
     "output_type": "stream",
     "text": [
      "OOB score is estimated using 524362 samples from 524362.\n",
      "Iteration No: 4 ended. Evaluation done at random point.\n",
      "Time taken: 202.7835\n",
      "Function value obtained: -0.3027\n",
      "Current minimum: -0.9255\n",
      "Iteration No: 5 started. Evaluating function at random point.\n"
     ]
    },
    {
     "name": "stderr",
     "output_type": "stream",
     "text": [
      "[Parallel(n_jobs=-1)]: Using backend ThreadingBackend with 16 concurrent workers.\n",
      "[Parallel(n_jobs=-1)]: Done  18 tasks      | elapsed:   12.9s\n",
      "[Parallel(n_jobs=-1)]: Done 168 tasks      | elapsed:  1.2min\n",
      "[Parallel(n_jobs=-1)]: Done 286 out of 286 | elapsed:  2.0min finished\n"
     ]
    },
    {
     "name": "stdout",
     "output_type": "stream",
     "text": [
      "OOB score is estimated using 524362 samples from 524362.\n",
      "Iteration No: 5 ended. Evaluation done at random point.\n",
      "Time taken: 140.4009\n",
      "Function value obtained: -0.6141\n",
      "Current minimum: -0.9255\n",
      "Iteration No: 6 started. Evaluating function at random point.\n"
     ]
    },
    {
     "name": "stderr",
     "output_type": "stream",
     "text": [
      "[Parallel(n_jobs=-1)]: Using backend ThreadingBackend with 16 concurrent workers.\n",
      "[Parallel(n_jobs=-1)]: Done  18 tasks      | elapsed:   17.4s\n",
      "[Parallel(n_jobs=-1)]: Done 155 out of 155 | elapsed:  1.5min finished\n"
     ]
    },
    {
     "name": "stdout",
     "output_type": "stream",
     "text": [
      "OOB score is estimated using 524362 samples from 524362.\n",
      "Iteration No: 6 ended. Evaluation done at random point.\n",
      "Time taken: 99.6895\n",
      "Function value obtained: -0.8440\n",
      "Current minimum: -0.9255\n",
      "Iteration No: 7 started. Evaluating function at random point.\n"
     ]
    },
    {
     "name": "stderr",
     "output_type": "stream",
     "text": [
      "[Parallel(n_jobs=-1)]: Using backend ThreadingBackend with 16 concurrent workers.\n",
      "[Parallel(n_jobs=-1)]: Done  18 tasks      | elapsed:   17.9s\n",
      "[Parallel(n_jobs=-1)]: Done 168 tasks      | elapsed:  1.7min\n",
      "[Parallel(n_jobs=-1)]: Done 418 tasks      | elapsed:  4.1min\n",
      "[Parallel(n_jobs=-1)]: Done 492 out of 492 | elapsed:  4.8min finished\n"
     ]
    },
    {
     "name": "stdout",
     "output_type": "stream",
     "text": [
      "OOB score is estimated using 524362 samples from 524362.\n",
      "Iteration No: 7 ended. Evaluation done at random point.\n",
      "Time taken: 331.3068\n",
      "Function value obtained: -0.9301\n",
      "Current minimum: -0.9301\n",
      "Iteration No: 8 started. Evaluating function at random point.\n"
     ]
    },
    {
     "name": "stderr",
     "output_type": "stream",
     "text": [
      "[Parallel(n_jobs=-1)]: Using backend ThreadingBackend with 16 concurrent workers.\n",
      "[Parallel(n_jobs=-1)]: Done  18 tasks      | elapsed:   22.2s\n",
      "[Parallel(n_jobs=-1)]: Done 168 tasks      | elapsed:  2.0min\n",
      "[Parallel(n_jobs=-1)]: Done 253 out of 253 | elapsed:  2.9min finished\n"
     ]
    },
    {
     "name": "stdout",
     "output_type": "stream",
     "text": [
      "OOB score is estimated using 524362 samples from 524362.\n",
      "Iteration No: 8 ended. Evaluation done at random point.\n",
      "Time taken: 194.3443\n",
      "Function value obtained: -0.7980\n",
      "Current minimum: -0.9301\n",
      "Iteration No: 9 started. Searching for the next optimal point.\n"
     ]
    },
    {
     "name": "stderr",
     "output_type": "stream",
     "text": [
      "[Parallel(n_jobs=-1)]: Using backend ThreadingBackend with 16 concurrent workers.\n",
      "[Parallel(n_jobs=-1)]: Done  18 tasks      | elapsed:   24.2s\n",
      "[Parallel(n_jobs=-1)]: Done  50 out of  50 | elapsed:   41.1s finished\n"
     ]
    },
    {
     "name": "stdout",
     "output_type": "stream",
     "text": [
      "OOB score is estimated using 524362 samples from 524362.\n",
      "Iteration No: 9 ended. Search finished for the next optimal point.\n",
      "Time taken: 46.5980\n",
      "Function value obtained: -0.9316\n",
      "Current minimum: -0.9316\n",
      "Iteration No: 10 started. Searching for the next optimal point.\n"
     ]
    },
    {
     "name": "stderr",
     "output_type": "stream",
     "text": [
      "[Parallel(n_jobs=-1)]: Using backend ThreadingBackend with 16 concurrent workers.\n",
      "[Parallel(n_jobs=-1)]: Done  18 tasks      | elapsed:   11.7s\n",
      "[Parallel(n_jobs=-1)]: Done 168 tasks      | elapsed:  1.2min\n",
      "[Parallel(n_jobs=-1)]: Done 418 tasks      | elapsed:  2.8min\n",
      "[Parallel(n_jobs=-1)]: Done 500 out of 500 | elapsed:  3.3min finished\n"
     ]
    },
    {
     "name": "stdout",
     "output_type": "stream",
     "text": [
      "OOB score is estimated using 524362 samples from 524362.\n",
      "Iteration No: 10 ended. Search finished for the next optimal point.\n",
      "Time taken: 248.4927\n",
      "Function value obtained: -0.9251\n",
      "Current minimum: -0.9316\n",
      "Iteration No: 11 started. Searching for the next optimal point.\n"
     ]
    },
    {
     "name": "stderr",
     "output_type": "stream",
     "text": [
      "[Parallel(n_jobs=-1)]: Using backend ThreadingBackend with 16 concurrent workers.\n",
      "[Parallel(n_jobs=-1)]: Done  18 tasks      | elapsed:   17.7s\n",
      "[Parallel(n_jobs=-1)]: Done  50 out of  50 | elapsed:   30.0s finished\n"
     ]
    },
    {
     "name": "stdout",
     "output_type": "stream",
     "text": [
      "OOB score is estimated using 524362 samples from 524362.\n",
      "Iteration No: 11 ended. Search finished for the next optimal point.\n",
      "Time taken: 36.3501\n",
      "Function value obtained: -0.9239\n",
      "Current minimum: -0.9316\n",
      "Iteration No: 12 started. Searching for the next optimal point.\n"
     ]
    },
    {
     "name": "stderr",
     "output_type": "stream",
     "text": [
      "[Parallel(n_jobs=-1)]: Using backend ThreadingBackend with 16 concurrent workers.\n",
      "[Parallel(n_jobs=-1)]: Done  18 tasks      | elapsed:   16.2s\n",
      "[Parallel(n_jobs=-1)]: Done  50 out of  50 | elapsed:   29.0s finished\n"
     ]
    },
    {
     "name": "stdout",
     "output_type": "stream",
     "text": [
      "OOB score is estimated using 524362 samples from 524362.\n",
      "Iteration No: 12 ended. Search finished for the next optimal point.\n",
      "Time taken: 34.3830\n",
      "Function value obtained: -0.9265\n",
      "Current minimum: -0.9316\n",
      "Iteration No: 13 started. Searching for the next optimal point.\n"
     ]
    },
    {
     "name": "stderr",
     "output_type": "stream",
     "text": [
      "[Parallel(n_jobs=-1)]: Using backend ThreadingBackend with 16 concurrent workers.\n",
      "[Parallel(n_jobs=-1)]: Done  18 tasks      | elapsed:   24.1s\n",
      "[Parallel(n_jobs=-1)]: Done 168 tasks      | elapsed:  2.3min\n",
      "[Parallel(n_jobs=-1)]: Done 418 tasks      | elapsed:  5.5min\n",
      "[Parallel(n_jobs=-1)]: Done 500 out of 500 | elapsed:  6.4min finished\n"
     ]
    },
    {
     "name": "stdout",
     "output_type": "stream",
     "text": [
      "OOB score is estimated using 524362 samples from 524362.\n",
      "Iteration No: 13 ended. Search finished for the next optimal point.\n",
      "Time taken: 429.0399\n",
      "Function value obtained: -0.9350\n",
      "Current minimum: -0.9350\n",
      "Iteration No: 14 started. Searching for the next optimal point.\n"
     ]
    },
    {
     "name": "stderr",
     "output_type": "stream",
     "text": [
      "[Parallel(n_jobs=-1)]: Using backend ThreadingBackend with 16 concurrent workers.\n",
      "[Parallel(n_jobs=-1)]: Done  18 tasks      | elapsed:   23.0s\n",
      "[Parallel(n_jobs=-1)]: Done 168 tasks      | elapsed:  2.2min\n",
      "[Parallel(n_jobs=-1)]: Done 418 tasks      | elapsed:  5.2min\n",
      "[Parallel(n_jobs=-1)]: Done 493 out of 493 | elapsed:  6.1min finished\n"
     ]
    },
    {
     "name": "stdout",
     "output_type": "stream",
     "text": [
      "OOB score is estimated using 524362 samples from 524362.\n",
      "Iteration No: 14 ended. Search finished for the next optimal point.\n",
      "Time taken: 404.8699\n",
      "Function value obtained: -0.9268\n",
      "Current minimum: -0.9350\n",
      "Iteration No: 15 started. Searching for the next optimal point.\n"
     ]
    },
    {
     "name": "stderr",
     "output_type": "stream",
     "text": [
      "[Parallel(n_jobs=-1)]: Using backend ThreadingBackend with 16 concurrent workers.\n",
      "[Parallel(n_jobs=-1)]: Done  18 tasks      | elapsed:   25.1s\n",
      "[Parallel(n_jobs=-1)]: Done 168 tasks      | elapsed:  2.4min\n",
      "[Parallel(n_jobs=-1)]: Done 418 tasks      | elapsed:  5.7min\n",
      "[Parallel(n_jobs=-1)]: Done 500 out of 500 | elapsed:  6.6min finished\n"
     ]
    },
    {
     "name": "stdout",
     "output_type": "stream",
     "text": [
      "OOB score is estimated using 524362 samples from 524362.\n",
      "Iteration No: 15 ended. Search finished for the next optimal point.\n",
      "Time taken: 438.6216\n",
      "Function value obtained: -0.9334\n",
      "Current minimum: -0.9350\n",
      "Iteration No: 16 started. Searching for the next optimal point.\n"
     ]
    },
    {
     "name": "stderr",
     "output_type": "stream",
     "text": [
      "[Parallel(n_jobs=-1)]: Using backend ThreadingBackend with 16 concurrent workers.\n",
      "[Parallel(n_jobs=-1)]: Done  18 tasks      | elapsed:   17.6s\n",
      "[Parallel(n_jobs=-1)]: Done  54 out of  54 | elapsed:   31.9s finished\n"
     ]
    },
    {
     "name": "stdout",
     "output_type": "stream",
     "text": [
      "OOB score is estimated using 524362 samples from 524362.\n",
      "Iteration No: 16 ended. Search finished for the next optimal point.\n",
      "Time taken: 38.2060\n",
      "Function value obtained: -0.9122\n",
      "Current minimum: -0.9350\n",
      "Iteration No: 17 started. Searching for the next optimal point.\n"
     ]
    },
    {
     "name": "stderr",
     "output_type": "stream",
     "text": [
      "[Parallel(n_jobs=-1)]: Using backend ThreadingBackend with 16 concurrent workers.\n",
      "[Parallel(n_jobs=-1)]: Done  18 tasks      | elapsed:   16.6s\n",
      "[Parallel(n_jobs=-1)]: Done 146 out of 146 | elapsed:  1.3min finished\n"
     ]
    },
    {
     "name": "stdout",
     "output_type": "stream",
     "text": [
      "OOB score is estimated using 524362 samples from 524362.\n",
      "Iteration No: 17 ended. Search finished for the next optimal point.\n",
      "Time taken: 93.9290\n",
      "Function value obtained: -0.9313\n",
      "Current minimum: -0.9350\n",
      "Iteration No: 18 started. Searching for the next optimal point.\n"
     ]
    },
    {
     "name": "stderr",
     "output_type": "stream",
     "text": [
      "[Parallel(n_jobs=-1)]: Using backend ThreadingBackend with 16 concurrent workers.\n",
      "[Parallel(n_jobs=-1)]: Done  18 tasks      | elapsed:   24.3s\n",
      "[Parallel(n_jobs=-1)]: Done 168 tasks      | elapsed:  2.3min\n",
      "[Parallel(n_jobs=-1)]: Done 418 tasks      | elapsed:  5.4min\n",
      "[Parallel(n_jobs=-1)]: Done 500 out of 500 | elapsed:  6.4min finished\n"
     ]
    },
    {
     "name": "stdout",
     "output_type": "stream",
     "text": [
      "OOB score is estimated using 524362 samples from 524362.\n",
      "Iteration No: 18 ended. Search finished for the next optimal point.\n",
      "Time taken: 428.2556\n",
      "Function value obtained: -0.9352\n",
      "Current minimum: -0.9352\n",
      "Iteration No: 19 started. Searching for the next optimal point.\n"
     ]
    },
    {
     "name": "stderr",
     "output_type": "stream",
     "text": [
      "[Parallel(n_jobs=-1)]: Using backend ThreadingBackend with 16 concurrent workers.\n",
      "[Parallel(n_jobs=-1)]: Done  18 tasks      | elapsed:   23.8s\n",
      "[Parallel(n_jobs=-1)]: Done  62 out of  62 | elapsed:   48.3s finished\n"
     ]
    },
    {
     "name": "stdout",
     "output_type": "stream",
     "text": [
      "OOB score is estimated using 524362 samples from 524362.\n",
      "Iteration No: 19 ended. Search finished for the next optimal point.\n",
      "Time taken: 54.6180\n",
      "Function value obtained: -0.9295\n",
      "Current minimum: -0.9352\n",
      "Iteration No: 20 started. Searching for the next optimal point.\n"
     ]
    },
    {
     "name": "stderr",
     "output_type": "stream",
     "text": [
      "[Parallel(n_jobs=-1)]: Using backend ThreadingBackend with 16 concurrent workers.\n",
      "[Parallel(n_jobs=-1)]: Done  18 tasks      | elapsed:   24.4s\n",
      "[Parallel(n_jobs=-1)]: Done 168 tasks      | elapsed:  2.3min\n",
      "[Parallel(n_jobs=-1)]: Done 418 tasks      | elapsed:  5.5min\n",
      "[Parallel(n_jobs=-1)]: Done 500 out of 500 | elapsed:  6.5min finished\n"
     ]
    },
    {
     "name": "stdout",
     "output_type": "stream",
     "text": [
      "OOB score is estimated using 524362 samples from 524362.\n",
      "Iteration No: 20 ended. Search finished for the next optimal point.\n",
      "Time taken: 431.7169\n",
      "Function value obtained: -0.9348\n",
      "Current minimum: -0.9352\n",
      "Iteration No: 21 started. Searching for the next optimal point.\n"
     ]
    },
    {
     "name": "stderr",
     "output_type": "stream",
     "text": [
      "[Parallel(n_jobs=-1)]: Using backend ThreadingBackend with 16 concurrent workers.\n",
      "[Parallel(n_jobs=-1)]: Done  18 tasks      | elapsed:   15.9s\n",
      "[Parallel(n_jobs=-1)]: Done 168 tasks      | elapsed:  1.6min\n",
      "[Parallel(n_jobs=-1)]: Done 418 tasks      | elapsed:  3.8min\n",
      "[Parallel(n_jobs=-1)]: Done 495 out of 495 | elapsed:  4.4min finished\n"
     ]
    },
    {
     "name": "stdout",
     "output_type": "stream",
     "text": [
      "OOB score is estimated using 524362 samples from 524362.\n",
      "Iteration No: 21 ended. Search finished for the next optimal point.\n",
      "Time taken: 308.4910\n",
      "Function value obtained: -0.9277\n",
      "Current minimum: -0.9352\n",
      "Iteration No: 22 started. Searching for the next optimal point.\n"
     ]
    },
    {
     "name": "stderr",
     "output_type": "stream",
     "text": [
      "[Parallel(n_jobs=-1)]: Using backend ThreadingBackend with 16 concurrent workers.\n",
      "[Parallel(n_jobs=-1)]: Done  18 tasks      | elapsed:   17.8s\n",
      "[Parallel(n_jobs=-1)]: Done 168 tasks      | elapsed:  1.8min\n",
      "[Parallel(n_jobs=-1)]: Done 418 tasks      | elapsed:  4.2min\n",
      "[Parallel(n_jobs=-1)]: Done 496 out of 496 | elapsed:  4.9min finished\n"
     ]
    },
    {
     "name": "stdout",
     "output_type": "stream",
     "text": [
      "OOB score is estimated using 524362 samples from 524362.\n",
      "Iteration No: 22 ended. Search finished for the next optimal point.\n",
      "Time taken: 339.9629\n",
      "Function value obtained: -0.9249\n",
      "Current minimum: -0.9352\n",
      "Iteration No: 23 started. Searching for the next optimal point.\n"
     ]
    },
    {
     "name": "stderr",
     "output_type": "stream",
     "text": [
      "[Parallel(n_jobs=-1)]: Using backend ThreadingBackend with 16 concurrent workers.\n",
      "[Parallel(n_jobs=-1)]: Done  18 tasks      | elapsed:   23.5s\n",
      "[Parallel(n_jobs=-1)]: Done 168 tasks      | elapsed:  2.2min\n",
      "[Parallel(n_jobs=-1)]: Done 418 tasks      | elapsed:  5.4min\n",
      "[Parallel(n_jobs=-1)]: Done 495 out of 495 | elapsed:  6.3min finished\n"
     ]
    },
    {
     "name": "stdout",
     "output_type": "stream",
     "text": [
      "OOB score is estimated using 524362 samples from 524362.\n",
      "Iteration No: 23 ended. Search finished for the next optimal point.\n",
      "Time taken: 419.3388\n",
      "Function value obtained: -0.9109\n",
      "Current minimum: -0.9352\n",
      "Iteration No: 24 started. Searching for the next optimal point.\n"
     ]
    },
    {
     "name": "stderr",
     "output_type": "stream",
     "text": [
      "C:\\Users\\bond0\\Anaconda3\\envs\\env_for_tf23_gpu\\lib\\site-packages\\skopt\\optimizer\\optimizer.py:449: UserWarning: The objective has been evaluated at this point before.\n",
      "  warnings.warn(\"The objective has been evaluated \"\n",
      "[Parallel(n_jobs=-1)]: Using backend ThreadingBackend with 16 concurrent workers.\n",
      "[Parallel(n_jobs=-1)]: Done  18 tasks      | elapsed:   24.4s\n",
      "[Parallel(n_jobs=-1)]: Done 168 tasks      | elapsed:  2.3min\n",
      "[Parallel(n_jobs=-1)]: Done 418 tasks      | elapsed:  5.6min\n",
      "[Parallel(n_jobs=-1)]: Done 500 out of 500 | elapsed:  6.6min finished\n"
     ]
    },
    {
     "name": "stdout",
     "output_type": "stream",
     "text": [
      "OOB score is estimated using 524362 samples from 524362.\n",
      "Iteration No: 24 ended. Search finished for the next optimal point.\n",
      "Time taken: 439.5211\n",
      "Function value obtained: -0.9352\n",
      "Current minimum: -0.9352\n",
      "Iteration No: 25 started. Searching for the next optimal point.\n"
     ]
    },
    {
     "name": "stderr",
     "output_type": "stream",
     "text": [
      "[Parallel(n_jobs=-1)]: Using backend ThreadingBackend with 16 concurrent workers.\n",
      "[Parallel(n_jobs=-1)]: Done  18 tasks      | elapsed:   25.5s\n",
      "[Parallel(n_jobs=-1)]: Done 168 tasks      | elapsed:  2.3min\n",
      "[Parallel(n_jobs=-1)]: Done 418 tasks      | elapsed:  5.6min\n",
      "[Parallel(n_jobs=-1)]: Done 500 out of 500 | elapsed:  6.6min finished\n"
     ]
    },
    {
     "name": "stdout",
     "output_type": "stream",
     "text": [
      "OOB score is estimated using 524362 samples from 524362.\n",
      "Iteration No: 25 ended. Search finished for the next optimal point.\n",
      "Time taken: 437.3313\n",
      "Function value obtained: -0.9351\n",
      "Current minimum: -0.9352\n",
      "Iteration No: 26 started. Searching for the next optimal point.\n"
     ]
    },
    {
     "name": "stderr",
     "output_type": "stream",
     "text": [
      "C:\\Users\\bond0\\Anaconda3\\envs\\env_for_tf23_gpu\\lib\\site-packages\\skopt\\optimizer\\optimizer.py:449: UserWarning: The objective has been evaluated at this point before.\n",
      "  warnings.warn(\"The objective has been evaluated \"\n",
      "[Parallel(n_jobs=-1)]: Using backend ThreadingBackend with 16 concurrent workers.\n",
      "[Parallel(n_jobs=-1)]: Done  18 tasks      | elapsed:   24.0s\n",
      "[Parallel(n_jobs=-1)]: Done 168 tasks      | elapsed:  2.3min\n",
      "[Parallel(n_jobs=-1)]: Done 418 tasks      | elapsed:  5.6min\n",
      "[Parallel(n_jobs=-1)]: Done 500 out of 500 | elapsed:  6.6min finished\n"
     ]
    },
    {
     "name": "stdout",
     "output_type": "stream",
     "text": [
      "OOB score is estimated using 524362 samples from 524362.\n",
      "Iteration No: 26 ended. Search finished for the next optimal point.\n",
      "Time taken: 437.6290\n",
      "Function value obtained: -0.9352\n",
      "Current minimum: -0.9352\n",
      "Iteration No: 27 started. Searching for the next optimal point.\n"
     ]
    },
    {
     "name": "stderr",
     "output_type": "stream",
     "text": [
      "[Parallel(n_jobs=-1)]: Using backend ThreadingBackend with 16 concurrent workers.\n",
      "[Parallel(n_jobs=-1)]: Done  18 tasks      | elapsed:   16.6s\n",
      "[Parallel(n_jobs=-1)]: Done 168 tasks      | elapsed:  1.6min\n",
      "[Parallel(n_jobs=-1)]: Done 418 tasks      | elapsed:  3.9min\n",
      "[Parallel(n_jobs=-1)]: Done 500 out of 500 | elapsed:  4.6min finished\n"
     ]
    },
    {
     "name": "stdout",
     "output_type": "stream",
     "text": [
      "OOB score is estimated using 524362 samples from 524362.\n",
      "Iteration No: 27 ended. Search finished for the next optimal point.\n",
      "Time taken: 317.9582\n",
      "Function value obtained: -0.9329\n",
      "Current minimum: -0.9352\n",
      "Iteration No: 28 started. Searching for the next optimal point.\n"
     ]
    },
    {
     "name": "stderr",
     "output_type": "stream",
     "text": [
      "[Parallel(n_jobs=-1)]: Using backend ThreadingBackend with 16 concurrent workers.\n",
      "[Parallel(n_jobs=-1)]: Done  18 tasks      | elapsed:   24.4s\n",
      "[Parallel(n_jobs=-1)]: Done 168 tasks      | elapsed:  2.3min\n",
      "[Parallel(n_jobs=-1)]: Done 418 tasks      | elapsed:  5.6min\n",
      "[Parallel(n_jobs=-1)]: Done 500 out of 500 | elapsed:  6.5min finished\n"
     ]
    },
    {
     "name": "stdout",
     "output_type": "stream",
     "text": [
      "OOB score is estimated using 524362 samples from 524362.\n",
      "Iteration No: 28 ended. Search finished for the next optimal point.\n",
      "Time taken: 434.2459\n",
      "Function value obtained: -0.9351\n",
      "Current minimum: -0.9352\n",
      "Iteration No: 29 started. Searching for the next optimal point.\n"
     ]
    },
    {
     "name": "stderr",
     "output_type": "stream",
     "text": [
      "[Parallel(n_jobs=-1)]: Using backend ThreadingBackend with 16 concurrent workers.\n",
      "[Parallel(n_jobs=-1)]: Done  18 tasks      | elapsed:   24.6s\n",
      "[Parallel(n_jobs=-1)]: Done 168 tasks      | elapsed:  2.3min\n",
      "[Parallel(n_jobs=-1)]: Done 418 tasks      | elapsed:  5.7min\n",
      "[Parallel(n_jobs=-1)]: Done 500 out of 500 | elapsed:  6.7min finished\n"
     ]
    },
    {
     "name": "stdout",
     "output_type": "stream",
     "text": [
      "OOB score is estimated using 524362 samples from 524362.\n",
      "Iteration No: 29 ended. Search finished for the next optimal point.\n",
      "Time taken: 443.8451\n",
      "Function value obtained: -0.9351\n",
      "Current minimum: -0.9352\n",
      "Iteration No: 30 started. Searching for the next optimal point.\n"
     ]
    },
    {
     "name": "stderr",
     "output_type": "stream",
     "text": [
      "[Parallel(n_jobs=-1)]: Using backend ThreadingBackend with 16 concurrent workers.\n",
      "[Parallel(n_jobs=-1)]: Done  18 tasks      | elapsed:   16.7s\n",
      "[Parallel(n_jobs=-1)]: Done 168 tasks      | elapsed:  1.7min\n",
      "[Parallel(n_jobs=-1)]: Done 418 tasks      | elapsed:  4.1min\n",
      "[Parallel(n_jobs=-1)]: Done 481 out of 481 | elapsed:  4.6min finished\n"
     ]
    },
    {
     "name": "stdout",
     "output_type": "stream",
     "text": [
      "OOB score is estimated using 524362 samples from 524362.\n",
      "Iteration No: 30 ended. Search finished for the next optimal point.\n",
      "Time taken: 315.8159\n",
      "Function value obtained: -0.9212\n",
      "Current minimum: -0.9352\n",
      "Iteration No: 31 started. Searching for the next optimal point.\n"
     ]
    },
    {
     "name": "stderr",
     "output_type": "stream",
     "text": [
      "[Parallel(n_jobs=-1)]: Using backend ThreadingBackend with 16 concurrent workers.\n",
      "[Parallel(n_jobs=-1)]: Done  18 tasks      | elapsed:   25.2s\n",
      "[Parallel(n_jobs=-1)]: Done 168 tasks      | elapsed:  2.4min\n",
      "[Parallel(n_jobs=-1)]: Done 418 tasks      | elapsed:  5.8min\n",
      "[Parallel(n_jobs=-1)]: Done 500 out of 500 | elapsed:  6.8min finished\n"
     ]
    },
    {
     "name": "stdout",
     "output_type": "stream",
     "text": [
      "OOB score is estimated using 524362 samples from 524362.\n",
      "Iteration No: 31 ended. Search finished for the next optimal point.\n",
      "Time taken: 449.5750\n",
      "Function value obtained: -0.9345\n",
      "Current minimum: -0.9352\n",
      "Iteration No: 32 started. Searching for the next optimal point.\n"
     ]
    },
    {
     "name": "stderr",
     "output_type": "stream",
     "text": [
      "[Parallel(n_jobs=-1)]: Using backend ThreadingBackend with 16 concurrent workers.\n",
      "[Parallel(n_jobs=-1)]: Done  18 tasks      | elapsed:   24.8s\n",
      "[Parallel(n_jobs=-1)]: Done 168 tasks      | elapsed:  2.3min\n",
      "[Parallel(n_jobs=-1)]: Done 418 tasks      | elapsed:  5.7min\n",
      "[Parallel(n_jobs=-1)]: Done 500 out of 500 | elapsed:  6.7min finished\n"
     ]
    },
    {
     "name": "stdout",
     "output_type": "stream",
     "text": [
      "OOB score is estimated using 524362 samples from 524362.\n",
      "Iteration No: 32 ended. Search finished for the next optimal point.\n",
      "Time taken: 443.9951\n",
      "Function value obtained: -0.9351\n",
      "Current minimum: -0.9352\n",
      "Best parameters are: {'ccp_alpha': 1e-06, 'max_features': 0.8, 'max_samples': 0.9, 'n_estimators': 500}\n"
     ]
    },
    {
     "name": "stderr",
     "output_type": "stream",
     "text": [
      "[Parallel(n_jobs=-1)]: Using backend ThreadingBackend with 16 concurrent workers.\n",
      "[Parallel(n_jobs=-1)]: Done  18 tasks      | elapsed:   25.8s\n",
      "[Parallel(n_jobs=-1)]: Done 168 tasks      | elapsed:  2.4min\n",
      "[Parallel(n_jobs=-1)]: Done 418 tasks      | elapsed:  5.9min\n",
      "[Parallel(n_jobs=-1)]: Done 500 out of 500 | elapsed:  6.9min finished\n"
     ]
    }
   ],
   "source": [
    "if BEST_RF_PARAMS is None:\n",
    "    baseline = find_best_rf(X_train, y_train)\n",
    "else:\n",
    "    baseline = RandomForestClassifier(\n",
    "        n_estimators=BEST_RF_PARAMS['n_estimators'],\n",
    "        max_features=BEST_RF_PARAMS['max_features'],\n",
    "        max_samples=BEST_RF_PARAMS['max_samples'],\n",
    "        ccp_alpha=BEST_RF_PARAMS['ccp_alpha'],\n",
    "        random_state=42, verbose=True, n_jobs=-1\n",
    "    )\n",
    "    baseline.fit(X_train, y_train)"
   ]
  },
  {
   "cell_type": "code",
   "execution_count": 25,
   "metadata": {
    "id": "DewcTZgA7BVB"
   },
   "outputs": [
    {
     "name": "stderr",
     "output_type": "stream",
     "text": [
      "[Parallel(n_jobs=16)]: Using backend ThreadingBackend with 16 concurrent workers.\n",
      "[Parallel(n_jobs=16)]: Done  18 tasks      | elapsed:    0.0s\n",
      "[Parallel(n_jobs=16)]: Done 168 tasks      | elapsed:    0.1s\n"
     ]
    },
    {
     "name": "stdout",
     "output_type": "stream",
     "text": [
      "              precision    recall  f1-score   support\n",
      "\n",
      "           0     0.9713    0.9576    0.9644     10063\n",
      "           1     0.9638    0.9785    0.9711     13457\n",
      "           2     0.9479    0.9741    0.9608      1698\n",
      "           3     0.9350    0.8293    0.8790       451\n",
      "           4     0.9482    0.9091    0.9282       825\n",
      "           5     0.9697    0.9528    0.9612       974\n",
      "           6     0.9187    0.8626    0.8898       131\n",
      "\n",
      "    accuracy                         0.9646     27599\n",
      "   macro avg     0.9506    0.9234    0.9363     27599\n",
      "weighted avg     0.9646    0.9646    0.9645     27599\n",
      "\n"
     ]
    },
    {
     "name": "stderr",
     "output_type": "stream",
     "text": [
      "[Parallel(n_jobs=16)]: Done 418 tasks      | elapsed:    0.4s\n",
      "[Parallel(n_jobs=16)]: Done 500 out of 500 | elapsed:    0.5s finished\n"
     ]
    }
   ],
   "source": [
    "print(classification_report(y_true=y_valid, y_pred=baseline.predict(X_valid),\n",
    "                            digits=4))"
   ]
  },
  {
   "cell_type": "code",
   "execution_count": 26,
   "metadata": {
    "id": "S_86kMn57JFg"
   },
   "outputs": [
    {
     "name": "stderr",
     "output_type": "stream",
     "text": [
      "[Parallel(n_jobs=16)]: Using backend ThreadingBackend with 16 concurrent workers.\n",
      "[Parallel(n_jobs=16)]: Done  18 tasks      | elapsed:    0.0s\n",
      "[Parallel(n_jobs=16)]: Done 168 tasks      | elapsed:    0.1s\n"
     ]
    },
    {
     "name": "stdout",
     "output_type": "stream",
     "text": [
      "              precision    recall  f1-score   support\n",
      "\n",
      "           0     0.9711    0.9578    0.9644     10592\n",
      "           1     0.9628    0.9788    0.9707     14165\n",
      "           2     0.9531    0.9670    0.9600      1788\n",
      "           3     0.9558    0.8189    0.8821       475\n",
      "           4     0.9354    0.9182    0.9267       868\n",
      "           5     0.9719    0.9454    0.9585      1026\n",
      "           6     0.9091    0.8759    0.8922       137\n",
      "\n",
      "    accuracy                         0.9643     29051\n",
      "   macro avg     0.9513    0.9232    0.9364     29051\n",
      "weighted avg     0.9644    0.9643    0.9642     29051\n",
      "\n"
     ]
    },
    {
     "name": "stderr",
     "output_type": "stream",
     "text": [
      "[Parallel(n_jobs=16)]: Done 418 tasks      | elapsed:    0.4s\n",
      "[Parallel(n_jobs=16)]: Done 500 out of 500 | elapsed:    0.5s finished\n"
     ]
    }
   ],
   "source": [
    "print(classification_report(y_true=y_test, y_pred=baseline.predict(X_test),\n",
    "                            digits=4))"
   ]
  },
  {
   "cell_type": "code",
   "execution_count": 27,
   "metadata": {
    "id": "UFiN0K1v3ApE"
   },
   "outputs": [
    {
     "name": "stdout",
     "output_type": "stream",
     "text": [
      "Column 0 \"Elevation\" has 1968 unique values.\n",
      "Column 1 \"Aspect\" has 361 unique values.\n",
      "Column 2 \"Slope\" has 66 unique values.\n",
      "Column 3 \"Horizontal_Distance_To_Hydrology\" has 550 unique values.\n",
      "Column 4 \"Vertical_Distance_To_Hydrology\" has 696 unique values.\n",
      "Column 5 \"Horizontal_Distance_To_Roadways\" has 5770 unique values.\n",
      "Column 6 \"Hillshade_9am\" has 207 unique values.\n",
      "Column 7 \"Hillshade_Noon\" has 184 unique values.\n",
      "Column 8 \"Hillshade_3pm\" has 255 unique values.\n",
      "Column 9 \"Horizontal_Distance_To_Fire_Points\" has 5813 unique values.\n",
      "Column 10 \"Wilderness_Area_0\" has 2 unique values.\n",
      "Column 11 \"Wilderness_Area_1\" has 2 unique values.\n",
      "Column 12 \"Wilderness_Area_2\" has 2 unique values.\n",
      "Column 13 \"Wilderness_Area_3\" has 2 unique values.\n",
      "Column 14 \"Soil_Type_0\" has 2 unique values.\n",
      "Column 15 \"Soil_Type_1\" has 2 unique values.\n",
      "Column 16 \"Soil_Type_2\" has 2 unique values.\n",
      "Column 17 \"Soil_Type_3\" has 2 unique values.\n",
      "Column 18 \"Soil_Type_4\" has 2 unique values.\n",
      "Column 19 \"Soil_Type_5\" has 2 unique values.\n",
      "Column 20 \"Soil_Type_6\" has 2 unique values.\n",
      "Column 21 \"Soil_Type_7\" has 2 unique values.\n",
      "Column 22 \"Soil_Type_8\" has 2 unique values.\n",
      "Column 23 \"Soil_Type_9\" has 2 unique values.\n",
      "Column 24 \"Soil_Type_10\" has 2 unique values.\n",
      "Column 25 \"Soil_Type_11\" has 2 unique values.\n",
      "Column 26 \"Soil_Type_12\" has 2 unique values.\n",
      "Column 27 \"Soil_Type_13\" has 2 unique values.\n",
      "Column 28 \"Soil_Type_14\" has 2 unique values.\n",
      "Column 29 \"Soil_Type_15\" has 2 unique values.\n",
      "Column 30 \"Soil_Type_16\" has 2 unique values.\n",
      "Column 31 \"Soil_Type_17\" has 2 unique values.\n",
      "Column 32 \"Soil_Type_18\" has 2 unique values.\n",
      "Column 33 \"Soil_Type_19\" has 2 unique values.\n",
      "Column 34 \"Soil_Type_20\" has 2 unique values.\n",
      "Column 35 \"Soil_Type_21\" has 2 unique values.\n",
      "Column 36 \"Soil_Type_22\" has 2 unique values.\n",
      "Column 37 \"Soil_Type_23\" has 2 unique values.\n",
      "Column 38 \"Soil_Type_24\" has 2 unique values.\n",
      "Column 39 \"Soil_Type_25\" has 2 unique values.\n",
      "Column 40 \"Soil_Type_26\" has 2 unique values.\n",
      "Column 41 \"Soil_Type_27\" has 2 unique values.\n",
      "Column 42 \"Soil_Type_28\" has 2 unique values.\n",
      "Column 43 \"Soil_Type_29\" has 2 unique values.\n",
      "Column 44 \"Soil_Type_30\" has 2 unique values.\n",
      "Column 45 \"Soil_Type_31\" has 2 unique values.\n",
      "Column 46 \"Soil_Type_32\" has 2 unique values.\n",
      "Column 47 \"Soil_Type_33\" has 2 unique values.\n",
      "Column 48 \"Soil_Type_34\" has 2 unique values.\n",
      "Column 49 \"Soil_Type_35\" has 2 unique values.\n",
      "Column 50 \"Soil_Type_36\" has 2 unique values.\n",
      "Column 51 \"Soil_Type_37\" has 2 unique values.\n",
      "Column 52 \"Soil_Type_38\" has 2 unique values.\n",
      "Column 53 \"Soil_Type_39\" has 2 unique values.\n",
      "There are 54 features.\n",
      "There are 10 categorical features and 44 binary features.\n"
     ]
    },
    {
     "name": "stderr",
     "output_type": "stream",
     "text": [
      "C:\\Users\\bond0\\Anaconda3\\envs\\env_for_tf23_gpu\\lib\\site-packages\\sklearn\\preprocessing\\_discretization.py:233: UserWarning: Bins whose width are too small (i.e., <= 1e-8) in feature 0 are removed. Consider decreasing the number of bins.\n",
      "  \"decreasing the number of bins.\" % jj\n",
      "C:\\Users\\bond0\\Anaconda3\\envs\\env_for_tf23_gpu\\lib\\site-packages\\sklearn\\preprocessing\\_discretization.py:233: UserWarning: Bins whose width are too small (i.e., <= 1e-8) in feature 0 are removed. Consider decreasing the number of bins.\n",
      "  \"decreasing the number of bins.\" % jj\n",
      "C:\\Users\\bond0\\Anaconda3\\envs\\env_for_tf23_gpu\\lib\\site-packages\\sklearn\\preprocessing\\_discretization.py:233: UserWarning: Bins whose width are too small (i.e., <= 1e-8) in feature 0 are removed. Consider decreasing the number of bins.\n",
      "  \"decreasing the number of bins.\" % jj\n",
      "C:\\Users\\bond0\\Anaconda3\\envs\\env_for_tf23_gpu\\lib\\site-packages\\sklearn\\preprocessing\\_discretization.py:233: UserWarning: Bins whose width are too small (i.e., <= 1e-8) in feature 0 are removed. Consider decreasing the number of bins.\n",
      "  \"decreasing the number of bins.\" % jj\n",
      "C:\\Users\\bond0\\Anaconda3\\envs\\env_for_tf23_gpu\\lib\\site-packages\\sklearn\\preprocessing\\_discretization.py:233: UserWarning: Bins whose width are too small (i.e., <= 1e-8) in feature 0 are removed. Consider decreasing the number of bins.\n",
      "  \"decreasing the number of bins.\" % jj\n",
      "C:\\Users\\bond0\\Anaconda3\\envs\\env_for_tf23_gpu\\lib\\site-packages\\sklearn\\preprocessing\\_discretization.py:233: UserWarning: Bins whose width are too small (i.e., <= 1e-8) in feature 0 are removed. Consider decreasing the number of bins.\n",
      "  \"decreasing the number of bins.\" % jj\n"
     ]
    }
   ],
   "source": [
    "input_preprocessor, input_names, input_categories = build_preprocessor(\n",
    "    X=X_train,\n",
    "    colnames=dataset.feature_names\n",
    ")"
   ]
  },
  {
   "cell_type": "code",
   "execution_count": 28,
   "metadata": {
    "id": "OZj5Rksa3UrG"
   },
   "outputs": [],
   "source": [
    "del dataset"
   ]
  },
  {
   "cell_type": "code",
   "execution_count": 29,
   "metadata": {
    "id": "zO460Fkq3ax9"
   },
   "outputs": [],
   "source": [
    "X_train_quantized = input_preprocessor.transform(X_train)\n",
    "X_valid_quantized = input_preprocessor.transform(X_valid)"
   ]
  },
  {
   "cell_type": "code",
   "execution_count": 30,
   "metadata": {
    "id": "IDozqM1aBdmv"
   },
   "outputs": [
    {
     "name": "stdout",
     "output_type": "stream",
     "text": [
      "Elevation has 256 unique values.\n",
      "Aspect has 119 unique values.\n",
      "Slope has 21 unique values.\n",
      "Horizontal_Distance_To_Hydrology has 109 unique values.\n",
      "Vertical_Distance_To_Hydrology has 146 unique values.\n",
      "Horizontal_Distance_To_Roadways has 256 unique values.\n",
      "Hillshade_9am has 64 unique values.\n",
      "Hillshade_Noon has 54 unique values.\n",
      "Hillshade_3pm has 85 unique values.\n",
      "Horizontal_Distance_To_Fire_Points has 256 unique values.\n",
      "Wilderness_Area_0 has 2 unique values.\n",
      "Wilderness_Area_1 has 2 unique values.\n",
      "Wilderness_Area_2 has 2 unique values.\n",
      "Wilderness_Area_3 has 2 unique values.\n",
      "Soil_Type_0 has 2 unique values.\n",
      "Soil_Type_1 has 2 unique values.\n",
      "Soil_Type_2 has 2 unique values.\n",
      "Soil_Type_3 has 2 unique values.\n",
      "Soil_Type_4 has 2 unique values.\n",
      "Soil_Type_5 has 2 unique values.\n",
      "Soil_Type_6 has 2 unique values.\n",
      "Soil_Type_7 has 2 unique values.\n",
      "Soil_Type_8 has 2 unique values.\n",
      "Soil_Type_9 has 2 unique values.\n",
      "Soil_Type_10 has 2 unique values.\n",
      "Soil_Type_11 has 2 unique values.\n",
      "Soil_Type_12 has 2 unique values.\n",
      "Soil_Type_13 has 2 unique values.\n",
      "Soil_Type_14 has 2 unique values.\n",
      "Soil_Type_15 has 2 unique values.\n",
      "Soil_Type_16 has 2 unique values.\n",
      "Soil_Type_17 has 2 unique values.\n",
      "Soil_Type_18 has 2 unique values.\n",
      "Soil_Type_19 has 2 unique values.\n",
      "Soil_Type_20 has 2 unique values.\n",
      "Soil_Type_21 has 2 unique values.\n",
      "Soil_Type_22 has 2 unique values.\n",
      "Soil_Type_23 has 2 unique values.\n",
      "Soil_Type_24 has 2 unique values.\n",
      "Soil_Type_25 has 2 unique values.\n",
      "Soil_Type_26 has 2 unique values.\n",
      "Soil_Type_27 has 2 unique values.\n",
      "Soil_Type_28 has 2 unique values.\n",
      "Soil_Type_29 has 2 unique values.\n",
      "Soil_Type_30 has 2 unique values.\n",
      "Soil_Type_31 has 2 unique values.\n",
      "Soil_Type_32 has 2 unique values.\n",
      "Soil_Type_33 has 2 unique values.\n",
      "Soil_Type_34 has 2 unique values.\n",
      "Soil_Type_35 has 2 unique values.\n",
      "Soil_Type_36 has 2 unique values.\n",
      "Soil_Type_37 has 2 unique values.\n",
      "Soil_Type_38 has 2 unique values.\n",
      "Soil_Type_39 has 2 unique values.\n"
     ]
    }
   ],
   "source": [
    "for feature_index, feature_name in enumerate(input_names):\n",
    "    print(f'{feature_name} has {input_categories[feature_index]} unique values.')"
   ]
  },
  {
   "cell_type": "code",
   "execution_count": 31,
   "metadata": {
    "id": "Gk7fbCCQBrY-"
   },
   "outputs": [
    {
     "name": "stdout",
     "output_type": "stream",
     "text": [
      "Total number of unique values is 1454.\n"
     ]
    }
   ],
   "source": [
    "print(f'Total number of unique values is {sum(input_categories)}.')"
   ]
  },
  {
   "cell_type": "code",
   "execution_count": 32,
   "metadata": {
    "id": "2gWkVba73itc"
   },
   "outputs": [],
   "source": [
    "input_normalizer = build_normalizer(X_train)"
   ]
  },
  {
   "cell_type": "code",
   "execution_count": 33,
   "metadata": {
    "id": "9exQnTea3n8m"
   },
   "outputs": [],
   "source": [
    "X_train = input_normalizer.transform(X_train)\n",
    "X_valid = input_normalizer.transform(X_valid)\n",
    "X_test = input_normalizer.transform(X_test)"
   ]
  },
  {
   "cell_type": "code",
   "execution_count": 34,
   "metadata": {
    "id": "nhzatua536gO"
   },
   "outputs": [],
   "source": [
    "trainset_gen = TrainsetGenerator(\n",
    "    x_src=X_train_quantized,\n",
    "    x_norm=X_train,\n",
    "    y=y_train,\n",
    "    n_classes=len(classes_dict),\n",
    "    batch_size=MINIBATCH_SIZE_FOR_TRAINING,\n",
    "    features=input_categories\n",
    ")"
   ]
  },
  {
   "cell_type": "code",
   "execution_count": 35,
   "metadata": {
    "id": "CrZ5546EAESh"
   },
   "outputs": [
    {
     "name": "stdout",
     "output_type": "stream",
     "text": [
      "[ 3.1698352e-01 -1.2436310e+00 -9.8235929e-01 -1.0195646e+00\n",
      "  5.8616734e-01 -1.1568286e+00 -1.5181400e-01  2.4146403e-01\n",
      " -7.7954209e-01  1.8961939e+00 -1.3411260e+00  1.7255381e+00\n",
      " -1.4771707e+00  2.3777629e-01  2.5964335e-01 -7.7618486e-01\n",
      "  2.9072332e-01 -4.9969864e-01 -7.5002897e-01 -4.4066715e-01\n",
      "  1.3812125e-01 -5.5963403e-01 -1.6686271e-01 -1.1624459e-01\n",
      "  1.7178836e-01  6.8602934e-02 -5.8058649e-02 -1.5387362e-01\n",
      "  2.3957362e-02 -7.5299077e-02 -1.4331256e-02 -5.1747737e-03\n",
      " -1.1314893e-02  4.6810280e-03 -3.4542501e-02 -4.7419462e-02\n",
      " -1.7947195e-02  2.9625800e-03 -1.6188375e-03  1.6398565e-01\n",
      "  1.1993968e+00 -2.0458321e-01  6.9995165e-01 -1.7208570e-01\n",
      " -6.1011755e-01 -1.1995329e+00 -9.1859698e-02 -5.2674448e-01\n",
      "  1.0425091e+00  4.5667589e-01  7.8531253e-01  1.3355339e-03\n",
      " -4.3550673e-15 -6.1737050e-16]\n",
      "[1.0, 0.0, 0.0, 0.0, 0.0, 0.0, 0.0]\n",
      "[0.0, 0.0, 1.0, 0.0, 0.0, 0.0, 0.0, 0.0, 0.0, 0.0, 0.0, 0.0, 0.0, 0.0, 0.0, 0.0, 0.0, 0.0, 0.0, 0.0, 0.0, 0.0, 0.0, 0.0, 0.0, 1.0, 0.0, 0.0, 0.0, 0.0, 0.0, 0.0, 0.0, 0.0, 0.0, 0.0, 0.0, 0.0, 0.0, 0.0, 0.0, 0.0, 0.0, 0.0]\n",
      "[0.0, 0.0, 0.0, 0.0, 0.0, 0.0, 0.0, 0.0, 0.0, 0.0, 0.0, 0.0, 0.0, 0.0, 0.0, 0.0, 0.0, 0.0, 0.0, 0.0, 0.0, 0.0, 0.0, 0.0, 0.0, 0.0, 0.0, 0.0, 0.0, 0.0, 0.0, 0.0, 0.0, 0.0, 0.0, 0.0, 0.0, 0.0, 0.0, 0.0, 0.0, 0.0, 0.0, 0.0, 0.0, 0.0, 0.0, 0.0, 0.0, 0.0, 0.0, 0.0, 0.0, 0.0, 0.0, 0.0, 0.0, 0.0, 0.0, 0.0, 0.0, 0.0, 0.0, 0.0, 0.0, 0.0, 0.0, 0.0, 0.0, 0.0, 0.0, 0.0, 0.0, 0.0, 0.0, 0.0, 0.0, 0.0, 0.0, 0.0, 0.0, 0.0, 0.0, 0.0, 0.0, 0.0, 0.0, 0.0, 0.0, 0.0, 0.0, 1.0, 0.0, 0.0, 0.0, 0.0, 0.0, 0.0, 0.0, 0.0, 0.0, 0.0, 0.0, 0.0, 0.0, 0.0, 0.0, 0.0, 0.0, 0.0, 0.0, 0.0, 0.0, 0.0, 0.0, 0.0, 0.0, 0.0, 0.0, 0.0, 0.0, 0.0, 0.0, 0.0, 0.0, 0.0, 0.0, 0.0, 0.0, 0.0, 0.0, 0.0, 0.0, 0.0, 0.0, 0.0, 0.0, 0.0, 0.0, 0.0, 0.0, 0.0, 0.0, 0.0, 0.0, 0.0, 0.0, 0.0, 0.0, 0.0, 0.0, 0.0, 0.0, 0.0, 0.0, 0.0, 0.0, 0.0, 0.0, 0.0, 0.0, 0.0, 0.0, 0.0, 0.0, 0.0, 0.0, 0.0, 0.0, 0.0, 0.0, 0.0, 0.0, 0.0, 0.0, 0.0, 0.0, 0.0, 0.0, 0.0, 0.0, 0.0, 0.0, 0.0, 0.0, 0.0, 0.0, 0.0, 0.0, 0.0, 0.0, 0.0, 0.0, 0.0, 0.0, 0.0, 0.0, 0.0, 0.0, 0.0, 0.0, 0.0, 0.0, 0.0, 0.0, 0.0, 0.0, 0.0, 0.0, 0.0, 0.0, 0.0, 0.0, 0.0, 0.0, 0.0, 0.0, 0.0, 0.0, 0.0, 0.0, 0.0, 0.0, 0.0, 0.0, 0.0, 0.0, 0.0, 0.0, 0.0, 0.0, 0.0, 0.0, 0.0, 0.0, 0.0, 0.0, 0.0, 0.0, 0.0, 0.0, 0.0, 0.0, 0.0, 0.0, 0.0, 0.0, 0.0, 0.0, 0.0, 0.0, 0.0, 0.0, 0.0, 0.0, 0.0]\n",
      "[0.0, 0.0, 0.0, 0.0, 0.0, 0.0, 0.0, 0.0, 0.0, 0.0, 0.0, 0.0, 0.0, 0.0, 0.0, 0.0, 0.0, 0.0, 0.0, 0.0, 0.0, 0.0, 0.0, 0.0, 0.0, 0.0, 0.0, 0.0, 0.0, 0.0, 0.0, 0.0, 0.0, 0.0, 0.0, 0.0, 0.0, 0.0, 0.0, 0.0, 0.0, 0.0, 0.0, 0.0, 0.0, 0.0, 0.0, 0.0, 0.0, 0.0, 0.0, 0.0, 0.0, 0.0, 0.0, 0.0, 0.0, 0.0, 0.0, 0.0, 0.0, 0.0, 0.0, 0.0, 0.0, 0.0, 0.0, 0.0, 0.0, 0.0, 0.0, 0.0, 0.0, 0.0, 0.0, 0.0, 0.0, 0.0, 0.0, 0.0, 0.0, 0.0, 0.0, 0.0, 0.0, 0.0, 0.0, 0.0, 0.0, 0.0, 0.0, 0.0, 0.0, 0.0, 0.0, 0.0, 0.0, 0.0, 0.0, 0.0, 0.0, 0.0, 0.0, 0.0, 0.0, 0.0, 0.0, 0.0, 0.0, 0.0, 0.0, 0.0, 0.0, 0.0, 0.0, 0.0, 1.0, 0.0, 0.0]\n",
      "[0.0, 0.0, 0.0, 0.0, 0.0, 0.0, 1.0, 0.0, 0.0, 0.0, 0.0, 0.0, 0.0, 0.0, 0.0, 0.0, 0.0, 0.0, 0.0, 0.0, 0.0]\n",
      "[0.0, 0.0, 0.0, 0.0, 0.0, 1.0, 0.0, 0.0, 0.0, 0.0, 0.0, 0.0, 0.0, 0.0, 0.0, 0.0, 0.0, 0.0, 0.0, 0.0, 0.0, 0.0, 0.0, 0.0, 0.0, 0.0, 0.0, 0.0, 0.0, 0.0, 0.0, 0.0, 0.0, 0.0, 0.0, 0.0, 0.0, 0.0, 0.0, 0.0, 0.0, 0.0, 0.0, 0.0, 0.0, 0.0, 0.0, 0.0, 0.0, 0.0, 0.0, 0.0, 0.0, 0.0, 0.0, 0.0, 0.0, 0.0, 0.0, 0.0, 0.0, 0.0, 0.0, 0.0, 0.0, 0.0, 0.0, 0.0, 0.0, 0.0, 0.0, 0.0, 0.0, 0.0, 0.0, 0.0, 0.0, 0.0, 0.0, 0.0, 0.0, 0.0, 0.0, 0.0, 0.0, 0.0, 0.0, 0.0, 0.0, 0.0, 0.0, 0.0, 0.0, 0.0, 0.0, 0.0, 0.0, 0.0, 0.0, 0.0, 0.0, 0.0, 0.0, 0.0, 0.0, 0.0, 0.0, 0.0, 0.0]\n",
      "[0.0, 0.0, 0.0, 0.0, 0.0, 0.0, 0.0, 0.0, 0.0, 0.0, 0.0, 0.0, 0.0, 0.0, 0.0, 0.0, 0.0, 0.0, 0.0, 0.0, 0.0, 0.0, 0.0, 0.0, 0.0, 0.0, 0.0, 0.0, 1.0, 0.0, 0.0, 0.0, 0.0, 0.0, 0.0, 0.0, 0.0, 0.0, 0.0, 0.0, 0.0, 0.0, 0.0, 0.0, 0.0, 0.0, 0.0, 0.0, 0.0, 0.0, 0.0, 0.0, 0.0, 0.0, 0.0, 0.0, 0.0, 0.0, 0.0, 0.0, 0.0, 0.0, 0.0, 0.0, 0.0, 0.0, 0.0, 0.0, 0.0, 0.0, 0.0, 0.0, 0.0, 0.0, 0.0, 0.0, 0.0, 0.0, 0.0, 0.0, 0.0, 0.0, 0.0, 0.0, 0.0, 0.0, 0.0, 0.0, 0.0, 0.0, 0.0, 0.0, 0.0, 0.0, 0.0, 0.0, 0.0, 0.0, 0.0, 0.0, 0.0, 0.0, 0.0, 0.0, 0.0, 0.0, 0.0, 0.0, 0.0, 0.0, 0.0, 0.0, 0.0, 0.0, 0.0, 0.0, 0.0, 0.0, 0.0, 0.0, 0.0, 0.0, 0.0, 0.0, 0.0, 0.0, 0.0, 0.0, 0.0, 0.0, 0.0, 0.0, 0.0, 0.0, 0.0, 0.0, 0.0, 0.0, 0.0, 0.0, 0.0, 0.0, 0.0, 0.0, 0.0, 0.0]\n",
      "[0.0, 0.0, 0.0, 0.0, 0.0, 0.0, 0.0, 0.0, 0.0, 0.0, 0.0, 0.0, 0.0, 0.0, 0.0, 0.0, 0.0, 0.0, 0.0, 0.0, 0.0, 0.0, 0.0, 0.0, 0.0, 0.0, 0.0, 0.0, 0.0, 0.0, 0.0, 0.0, 0.0, 0.0, 0.0, 0.0, 0.0, 0.0, 0.0, 0.0, 0.0, 0.0, 0.0, 0.0, 0.0, 0.0, 0.0, 0.0, 0.0, 0.0, 0.0, 0.0, 0.0, 0.0, 0.0, 0.0, 0.0, 0.0, 0.0, 0.0, 0.0, 0.0, 0.0, 0.0, 0.0, 0.0, 0.0, 0.0, 0.0, 0.0, 0.0, 0.0, 0.0, 0.0, 0.0, 0.0, 0.0, 0.0, 0.0, 0.0, 0.0, 0.0, 0.0, 0.0, 0.0, 0.0, 0.0, 0.0, 0.0, 0.0, 0.0, 0.0, 0.0, 0.0, 0.0, 0.0, 0.0, 0.0, 0.0, 0.0, 0.0, 0.0, 0.0, 0.0, 0.0, 0.0, 0.0, 0.0, 0.0, 0.0, 0.0, 0.0, 0.0, 0.0, 0.0, 0.0, 0.0, 0.0, 0.0, 0.0, 0.0, 0.0, 0.0, 0.0, 0.0, 0.0, 0.0, 0.0, 0.0, 0.0, 0.0, 0.0, 0.0, 0.0, 0.0, 0.0, 0.0, 0.0, 0.0, 0.0, 0.0, 0.0, 0.0, 0.0, 0.0, 0.0, 0.0, 0.0, 0.0, 0.0, 0.0, 0.0, 0.0, 0.0, 0.0, 0.0, 0.0, 0.0, 0.0, 0.0, 0.0, 0.0, 0.0, 0.0, 0.0, 0.0, 0.0, 0.0, 0.0, 0.0, 0.0, 0.0, 0.0, 0.0, 0.0, 0.0, 0.0, 0.0, 0.0, 0.0, 0.0, 1.0, 0.0, 0.0, 0.0, 0.0, 0.0, 0.0, 0.0, 0.0, 0.0, 0.0, 0.0, 0.0, 0.0, 0.0, 0.0, 0.0, 0.0, 0.0, 0.0, 0.0, 0.0, 0.0, 0.0, 0.0, 0.0, 0.0, 0.0, 0.0, 0.0, 0.0, 0.0, 0.0, 0.0, 0.0, 0.0, 0.0, 0.0, 0.0, 0.0, 0.0, 0.0, 0.0, 0.0, 0.0, 0.0, 0.0, 0.0, 0.0, 0.0, 0.0, 0.0, 0.0, 0.0, 0.0, 0.0, 0.0, 0.0, 0.0, 0.0, 0.0, 0.0, 0.0, 0.0, 0.0, 0.0, 0.0, 0.0, 0.0, 0.0, 0.0, 0.0, 0.0, 0.0, 0.0]\n",
      "[0.0, 0.0, 0.0, 0.0, 0.0, 0.0, 0.0, 0.0, 0.0, 0.0, 0.0, 0.0, 0.0, 0.0, 0.0, 0.0, 0.0, 0.0, 0.0, 0.0, 0.0, 0.0, 1.0, 0.0, 0.0, 0.0, 0.0, 0.0, 0.0, 0.0, 0.0, 0.0, 0.0, 0.0, 0.0, 0.0, 0.0, 0.0, 0.0, 0.0, 0.0, 0.0, 0.0, 0.0, 0.0, 0.0, 0.0, 0.0, 0.0, 0.0, 0.0, 0.0, 0.0, 0.0, 0.0, 0.0, 0.0, 0.0, 0.0, 0.0, 0.0, 0.0, 0.0, 0.0]\n",
      "[0.0, 0.0, 0.0, 0.0, 0.0, 0.0, 0.0, 0.0, 0.0, 0.0, 0.0, 0.0, 0.0, 0.0, 0.0, 0.0, 0.0, 0.0, 0.0, 0.0, 0.0, 0.0, 0.0, 0.0, 0.0, 0.0, 0.0, 1.0, 0.0, 0.0, 0.0, 0.0, 0.0, 0.0, 0.0, 0.0, 0.0, 0.0, 0.0, 0.0, 0.0, 0.0, 0.0, 0.0, 0.0, 0.0, 0.0, 0.0, 0.0, 0.0, 0.0, 0.0, 0.0, 0.0]\n",
      "[0.0, 0.0, 0.0, 0.0, 0.0, 0.0, 0.0, 0.0, 0.0, 0.0, 0.0, 0.0, 0.0, 0.0, 0.0, 0.0, 0.0, 0.0, 0.0, 0.0, 0.0, 0.0, 0.0, 0.0, 0.0, 0.0, 0.0, 0.0, 0.0, 0.0, 0.0, 0.0, 0.0, 0.0, 0.0, 0.0, 0.0, 0.0, 0.0, 0.0, 0.0, 0.0, 0.0, 0.0, 0.0, 0.0, 0.0, 0.0, 0.0, 0.0, 0.0, 0.0, 0.0, 0.0, 0.0, 0.0, 1.0, 0.0, 0.0, 0.0, 0.0, 0.0, 0.0, 0.0, 0.0, 0.0, 0.0, 0.0, 0.0, 0.0, 0.0, 0.0, 0.0, 0.0, 0.0, 0.0, 0.0, 0.0, 0.0, 0.0, 0.0, 0.0, 0.0, 0.0, 0.0]\n",
      "[0.0, 0.0, 0.0, 0.0, 0.0, 0.0, 0.0, 0.0, 0.0, 0.0, 0.0, 0.0, 0.0, 0.0, 0.0, 0.0, 0.0, 0.0, 0.0, 0.0, 0.0, 0.0, 0.0, 0.0, 0.0, 0.0, 0.0, 0.0, 0.0, 0.0, 0.0, 0.0, 0.0, 0.0, 0.0, 0.0, 0.0, 0.0, 0.0, 0.0, 0.0, 0.0, 0.0, 0.0, 0.0, 0.0, 0.0, 0.0, 0.0, 0.0, 0.0, 0.0, 0.0, 0.0, 0.0, 0.0, 0.0, 0.0, 0.0, 0.0, 0.0, 0.0, 0.0, 0.0, 0.0, 0.0, 0.0, 0.0, 0.0, 0.0, 0.0, 0.0, 0.0, 0.0, 0.0, 0.0, 0.0, 0.0, 0.0, 0.0, 0.0, 0.0, 0.0, 0.0, 0.0, 0.0, 0.0, 0.0, 0.0, 0.0, 0.0, 0.0, 0.0, 0.0, 0.0, 0.0, 0.0, 0.0, 0.0, 0.0, 0.0, 0.0, 0.0, 0.0, 0.0, 0.0, 0.0, 0.0, 0.0, 0.0, 0.0, 0.0, 0.0, 0.0, 0.0, 0.0, 0.0, 0.0, 0.0, 0.0, 0.0, 0.0, 0.0, 0.0, 0.0, 0.0, 0.0, 0.0, 0.0, 0.0, 0.0, 0.0, 0.0, 0.0, 0.0, 0.0, 0.0, 0.0, 0.0, 0.0, 0.0, 0.0, 0.0, 0.0, 0.0, 0.0, 0.0, 0.0, 0.0, 0.0, 0.0, 0.0, 0.0, 0.0, 0.0, 0.0, 0.0, 0.0, 0.0, 0.0, 0.0, 0.0, 0.0, 0.0, 0.0, 0.0, 1.0, 0.0, 0.0, 0.0, 0.0, 0.0, 0.0, 0.0, 0.0, 0.0, 0.0, 0.0, 0.0, 0.0, 0.0, 0.0, 0.0, 0.0, 0.0, 0.0, 0.0, 0.0, 0.0, 0.0, 0.0, 0.0, 0.0, 0.0, 0.0, 0.0, 0.0, 0.0, 0.0, 0.0, 0.0, 0.0, 0.0, 0.0, 0.0, 0.0, 0.0, 0.0, 0.0, 0.0, 0.0, 0.0, 0.0, 0.0, 0.0, 0.0, 0.0, 0.0, 0.0, 0.0, 0.0, 0.0, 0.0, 0.0, 0.0, 0.0, 0.0, 0.0, 0.0, 0.0, 0.0, 0.0, 0.0, 0.0, 0.0, 0.0, 0.0, 0.0, 0.0, 0.0, 0.0, 0.0, 0.0, 0.0, 0.0, 0.0, 0.0, 0.0, 0.0, 0.0, 0.0, 0.0, 0.0, 0.0, 0.0, 0.0]\n"
     ]
    }
   ],
   "source": [
    "X_, y_ = trainset_gen[0]\n",
    "print(X_[0])\n",
    "for it in y_:\n",
    "    print(it[0].tolist() if isinstance(it[0], np.ndarray) else it[0])\n",
    "del X_, y_"
   ]
  },
  {
   "cell_type": "code",
   "execution_count": 36,
   "metadata": {
    "id": "J6E4MUgKLnTz"
   },
   "outputs": [
    {
     "name": "stdout",
     "output_type": "stream",
     "text": [
      "Class 0 frequency is 14%.\n",
      "Class 1 frequency is 14%.\n",
      "Class 2 frequency is 14%.\n",
      "Class 3 frequency is 14%.\n",
      "Class 4 frequency is 14%.\n",
      "Class 5 frequency is 14%.\n",
      "Class 6 frequency is 14%.\n"
     ]
    }
   ],
   "source": [
    "train_class_freq = dict()\n",
    "for idx1 in range(len(trainset_gen)):\n",
    "    X_, y_ = trainset_gen[idx1]\n",
    "    for idx2 in range(X_.shape[0]):\n",
    "        class_idx1 = int(np.argmax(y_[0][idx2]))\n",
    "        if class_idx1 in train_class_freq:\n",
    "            train_class_freq[class_idx1] += 1\n",
    "        else:\n",
    "            train_class_freq[class_idx1] = 1\n",
    "    del X_, y_\n",
    "sum_freq = 0\n",
    "for class_idx1 in sorted(train_class_freq.keys()):\n",
    "    sum_freq += train_class_freq[class_idx1]\n",
    "for class_idx1 in sorted(train_class_freq.keys()):\n",
    "    percent = 100.0 * train_class_freq[class_idx1]\n",
    "    percent /= float(sum_freq)\n",
    "    print(f'Class {class_idx1} frequency is {int(round(percent))}%.')"
   ]
  },
  {
   "cell_type": "code",
   "execution_count": 37,
   "metadata": {
    "id": "5F8l7axU4TY-"
   },
   "outputs": [],
   "source": [
    "validset_gen = ValidsetGenerator(\n",
    "    x_src=X_valid_quantized,\n",
    "    x_norm=X_valid,\n",
    "    y=y_valid,\n",
    "    n_classes=len(classes_dict),\n",
    "    batch_size=MINIBATCH_SIZE_FOR_TRAINING,\n",
    "    features=input_categories\n",
    ")"
   ]
  },
  {
   "cell_type": "code",
   "execution_count": 38,
   "metadata": {
    "id": "SunvCCo5AHDF"
   },
   "outputs": [
    {
     "name": "stdout",
     "output_type": "stream",
     "text": [
      "Class 0 frequency is 36%.\n",
      "Class 1 frequency is 49%.\n",
      "Class 2 frequency is 6%.\n",
      "Class 3 frequency is 2%.\n",
      "Class 4 frequency is 3%.\n",
      "Class 5 frequency is 4%.\n",
      "Class 6 frequency is 0%.\n"
     ]
    }
   ],
   "source": [
    "val_class_freq = dict()\n",
    "for idx1 in range(len(validset_gen)):\n",
    "    X_, y_ = validset_gen[idx1]\n",
    "    for idx2 in range(X_.shape[0]):\n",
    "        class_idx1 = int(np.argmax(y_[0][idx2]))\n",
    "        if class_idx1 in val_class_freq:\n",
    "            val_class_freq[class_idx1] += 1\n",
    "        else:\n",
    "            val_class_freq[class_idx1] = 1\n",
    "    del X_, y_\n",
    "sum_freq = 0\n",
    "for class_idx1 in sorted(val_class_freq.keys()):\n",
    "    sum_freq += val_class_freq[class_idx1]\n",
    "for class_idx1 in sorted(val_class_freq.keys()):\n",
    "    percent = 100.0 * val_class_freq[class_idx1]\n",
    "    percent /= float(sum_freq)\n",
    "    print(f'Class {class_idx1} frequency is {int(round(percent))}%.')"
   ]
  },
  {
   "cell_type": "code",
   "execution_count": 39,
   "metadata": {
    "id": "gD_V0PjA4Wuc"
   },
   "outputs": [
    {
     "name": "stdout",
     "output_type": "stream",
     "text": [
      "There are 44 binary features and 10 categorical features.\n"
     ]
    }
   ],
   "source": [
    "trainable_nn, encoding_nn, classification_nn = build_neural_network(\n",
    "    features=input_categories, n_classes=len(classes_dict),\n",
    "    n_latent=32, n_hidden=512, depth=4, nn_name='covertype'\n",
    ")"
   ]
  },
  {
   "cell_type": "code",
   "execution_count": 40,
   "metadata": {
    "id": "mvAJp-FXBOkH"
   },
   "outputs": [
    {
     "name": "stdout",
     "output_type": "stream",
     "text": [
      "Model: \"covertype_vae\"\n",
      "__________________________________________________________________________________________________\n",
      "Layer (type)                    Output Shape         Param #     Connected to                     \n",
      "==================================================================================================\n",
      "covertype_feature_vector (Input [(None, 54)]         0                                            \n",
      "__________________________________________________________________________________________________\n",
      "covertype_enc_dropout1 (AlphaDr (None, 54)           0           covertype_feature_vector[0][0]   \n",
      "__________________________________________________________________________________________________\n",
      "covertype_enc_dense1 (Dense)    (None, 512)          28160       covertype_enc_dropout1[0][0]     \n",
      "__________________________________________________________________________________________________\n",
      "covertype_enc_dropout2 (AlphaDr (None, 512)          0           covertype_enc_dense1[0][0]       \n",
      "__________________________________________________________________________________________________\n",
      "covertype_enc_dense2 (Dense)    (None, 512)          262656      covertype_enc_dropout2[0][0]     \n",
      "__________________________________________________________________________________________________\n",
      "covertype_enc_dropout3 (AlphaDr (None, 512)          0           covertype_enc_dense2[0][0]       \n",
      "__________________________________________________________________________________________________\n",
      "covertype_enc_dense3 (Dense)    (None, 512)          262656      covertype_enc_dropout3[0][0]     \n",
      "__________________________________________________________________________________________________\n",
      "covertype_enc_dropout4 (AlphaDr (None, 512)          0           covertype_enc_dense3[0][0]       \n",
      "__________________________________________________________________________________________________\n",
      "covertype_enc_dense4 (Dense)    (None, 512)          262656      covertype_enc_dropout4[0][0]     \n",
      "__________________________________________________________________________________________________\n",
      "covertype_enc_dropout5 (AlphaDr (None, 512)          0           covertype_enc_dense4[0][0]       \n",
      "__________________________________________________________________________________________________\n",
      "covertype_enc_dense5 (Dense)    (None, 512)          262656      covertype_enc_dropout5[0][0]     \n",
      "__________________________________________________________________________________________________\n",
      "covertype_enc_dropout6 (AlphaDr (None, 512)          0           covertype_enc_dense5[0][0]       \n",
      "__________________________________________________________________________________________________\n",
      "covertype_enc_dense6 (Dense)    (None, 512)          262656      covertype_enc_dropout6[0][0]     \n",
      "__________________________________________________________________________________________________\n",
      "covertype_enc_dropout7 (AlphaDr (None, 512)          0           covertype_enc_dense6[0][0]       \n",
      "__________________________________________________________________________________________________\n",
      "covertype_enc_dense7 (Dense)    (None, 512)          262656      covertype_enc_dropout7[0][0]     \n",
      "__________________________________________________________________________________________________\n",
      "covertype_enc_dropout8 (AlphaDr (None, 512)          0           covertype_enc_dense7[0][0]       \n",
      "__________________________________________________________________________________________________\n",
      "covertype_enc_dense8 (Dense)    (None, 512)          262656      covertype_enc_dropout8[0][0]     \n",
      "__________________________________________________________________________________________________\n",
      "covertype_enc_dropout9 (AlphaDr (None, 512)          0           covertype_enc_dense8[0][0]       \n",
      "__________________________________________________________________________________________________\n",
      "covertype_enc_dense9 (Dense)    (None, 512)          262656      covertype_enc_dropout9[0][0]     \n",
      "__________________________________________________________________________________________________\n",
      "covertype_latent (Dense)        (None, 64)           32832       covertype_enc_dense9[0][0]       \n",
      "__________________________________________________________________________________________________\n",
      "covertype_z (IndependentNormal) multiple             0           covertype_latent[0][0]           \n",
      "__________________________________________________________________________________________________\n",
      "covertype_dec_dropout1 (AlphaDr multiple             0           covertype_z[0][0]                \n",
      "__________________________________________________________________________________________________\n",
      "covertype_dec_dense1 (Dense)    (None, 512)          16896       covertype_dec_dropout1[0][0]     \n",
      "__________________________________________________________________________________________________\n",
      "covertype_dec_dropout2 (AlphaDr (None, 512)          0           covertype_dec_dense1[0][0]       \n",
      "__________________________________________________________________________________________________\n",
      "covertype_dec_dense2 (Dense)    (None, 512)          262656      covertype_dec_dropout2[0][0]     \n",
      "__________________________________________________________________________________________________\n",
      "covertype_dec_dropout3 (AlphaDr (None, 512)          0           covertype_dec_dense2[0][0]       \n",
      "__________________________________________________________________________________________________\n",
      "covertype_dec_dense3 (Dense)    (None, 512)          262656      covertype_dec_dropout3[0][0]     \n",
      "__________________________________________________________________________________________________\n",
      "covertype_dec_dropout4 (AlphaDr (None, 512)          0           covertype_dec_dense3[0][0]       \n",
      "__________________________________________________________________________________________________\n",
      "covertype_dec_dense4 (Dense)    (None, 512)          262656      covertype_dec_dropout4[0][0]     \n",
      "__________________________________________________________________________________________________\n",
      "covertype_dec_dropout5 (AlphaDr (None, 512)          0           covertype_dec_dense4[0][0]       \n",
      "__________________________________________________________________________________________________\n",
      "covertype_dec_dense5 (Dense)    (None, 512)          262656      covertype_dec_dropout5[0][0]     \n",
      "__________________________________________________________________________________________________\n",
      "covertype_dec_dropout6 (AlphaDr (None, 512)          0           covertype_dec_dense5[0][0]       \n",
      "__________________________________________________________________________________________________\n",
      "covertype_dec_dense6 (Dense)    (None, 512)          262656      covertype_dec_dropout6[0][0]     \n",
      "__________________________________________________________________________________________________\n",
      "covertype_dec_dropout7 (AlphaDr (None, 512)          0           covertype_dec_dense6[0][0]       \n",
      "__________________________________________________________________________________________________\n",
      "covertype_dec_dense7 (Dense)    (None, 512)          262656      covertype_dec_dropout7[0][0]     \n",
      "__________________________________________________________________________________________________\n",
      "covertype_dec_dropout8 (AlphaDr (None, 512)          0           covertype_dec_dense7[0][0]       \n",
      "__________________________________________________________________________________________________\n",
      "covertype_dec_dense8 (Dense)    (None, 512)          262656      covertype_dec_dropout8[0][0]     \n",
      "__________________________________________________________________________________________________\n",
      "covertype_dec_dropout9 (AlphaDr (None, 512)          0           covertype_dec_dense8[0][0]       \n",
      "__________________________________________________________________________________________________\n",
      "covertype_dec_dense9 (Dense)    (None, 512)          262656      covertype_dec_dropout9[0][0]     \n",
      "__________________________________________________________________________________________________\n",
      "covertype_rec_binary (Dense)    (None, 44)           22572       covertype_dec_dense9[0][0]       \n",
      "__________________________________________________________________________________________________\n",
      "covertype_rec_cat1 (Dense)      (None, 256)          131328      covertype_dec_dense9[0][0]       \n",
      "__________________________________________________________________________________________________\n",
      "covertype_rec_cat2 (Dense)      (None, 119)          61047       covertype_dec_dense9[0][0]       \n",
      "__________________________________________________________________________________________________\n",
      "covertype_rec_cat3 (Dense)      (None, 21)           10773       covertype_dec_dense9[0][0]       \n",
      "__________________________________________________________________________________________________\n",
      "covertype_rec_cat4 (Dense)      (None, 109)          55917       covertype_dec_dense9[0][0]       \n",
      "__________________________________________________________________________________________________\n",
      "covertype_rec_cat5 (Dense)      (None, 146)          74898       covertype_dec_dense9[0][0]       \n",
      "__________________________________________________________________________________________________\n",
      "covertype_rec_cat6 (Dense)      (None, 256)          131328      covertype_dec_dense9[0][0]       \n",
      "__________________________________________________________________________________________________\n",
      "covertype_rec_cat7 (Dense)      (None, 64)           32832       covertype_dec_dense9[0][0]       \n",
      "__________________________________________________________________________________________________\n",
      "covertype_rec_cat8 (Dense)      (None, 54)           27702       covertype_dec_dense9[0][0]       \n",
      "__________________________________________________________________________________________________\n",
      "covertype_rec_cat9 (Dense)      (None, 85)           43605       covertype_dec_dense9[0][0]       \n",
      "__________________________________________________________________________________________________\n",
      "covertype_rec_cat10 (Dense)     (None, 256)          131328      covertype_dec_dense9[0][0]       \n",
      "__________________________________________________________________________________________________\n",
      "covertype_cls (Functional)      (None, 7)            20487       covertype_z[0][0]                \n",
      "__________________________________________________________________________________________________\n",
      "covertype_bernoulli (Independen multiple             0           covertype_rec_binary[0][0]       \n",
      "__________________________________________________________________________________________________\n",
      "covertype_categorical1 (OneHotC multiple             0           covertype_rec_cat1[0][0]         \n",
      "__________________________________________________________________________________________________\n",
      "covertype_categorical2 (OneHotC multiple             0           covertype_rec_cat2[0][0]         \n",
      "__________________________________________________________________________________________________\n",
      "covertype_categorical3 (OneHotC multiple             0           covertype_rec_cat3[0][0]         \n",
      "__________________________________________________________________________________________________\n",
      "covertype_categorical4 (OneHotC multiple             0           covertype_rec_cat4[0][0]         \n",
      "__________________________________________________________________________________________________\n",
      "covertype_categorical5 (OneHotC multiple             0           covertype_rec_cat5[0][0]         \n",
      "__________________________________________________________________________________________________\n",
      "covertype_categorical6 (OneHotC multiple             0           covertype_rec_cat6[0][0]         \n",
      "__________________________________________________________________________________________________\n",
      "covertype_categorical7 (OneHotC multiple             0           covertype_rec_cat7[0][0]         \n",
      "__________________________________________________________________________________________________\n",
      "covertype_categorical8 (OneHotC multiple             0           covertype_rec_cat8[0][0]         \n",
      "__________________________________________________________________________________________________\n",
      "covertype_categorical9 (OneHotC multiple             0           covertype_rec_cat9[0][0]         \n",
      "__________________________________________________________________________________________________\n",
      "covertype_categorical10 (OneHot multiple             0           covertype_rec_cat10[0][0]        \n",
      "==================================================================================================\n",
      "Total params: 5,024,201\n",
      "Trainable params: 5,024,201\n",
      "Non-trainable params: 0\n",
      "__________________________________________________________________________________________________\n"
     ]
    }
   ],
   "source": [
    "trainable_nn.summary()"
   ]
  },
  {
   "cell_type": "code",
   "execution_count": 41,
   "metadata": {
    "id": "5F-mTtjB5WrP"
   },
   "outputs": [],
   "source": [
    "nn_fname = 'covertype_united.h5'"
   ]
  },
  {
   "cell_type": "code",
   "execution_count": 42,
   "metadata": {
    "id": "CkUNeVkB4ysG"
   },
   "outputs": [],
   "source": [
    "callbacks = [\n",
    "    tf.keras.callbacks.EarlyStopping(\n",
    "        monitor=\"val_loss\",\n",
    "        patience=ES_PATIENCE,\n",
    "        mode=\"min\",\n",
    "        restore_best_weights=False\n",
    "    ),\n",
    "    tf.keras.callbacks.ModelCheckpoint(\n",
    "        filepath=nn_fname,\n",
    "        monitor=\"val_loss\",\n",
    "        mode=\"min\",\n",
    "        save_best_only=True,\n",
    "        save_weights_only=True\n",
    "    )\n",
    "]"
   ]
  },
  {
   "cell_type": "code",
   "execution_count": 43,
   "metadata": {
    "id": "P5yO4Kj-5n_g"
   },
   "outputs": [
    {
     "name": "stdout",
     "output_type": "stream",
     "text": [
      "Epoch 1/1000\n",
      "129/129 [==============================] - 41s 198ms/step - loss: 35.3418 - covertype_cls_loss: 1.7408 - covertype_bernoulli_loss: 16.7267 - covertype_categorical1_loss: 5.8998 - covertype_categorical2_loss: 5.2521 - covertype_categorical3_loss: 3.2562 - covertype_categorical4_loss: 4.8951 - covertype_categorical5_loss: 5.2592 - covertype_categorical6_loss: 6.0318 - covertype_categorical7_loss: 4.4853 - covertype_categorical8_loss: 4.3424 - covertype_categorical9_loss: 4.8388 - covertype_categorical10_loss: 6.0421 - covertype_cls_categorical_accuracy: 0.3833 - val_loss: 28.7586 - val_covertype_cls_loss: 1.6694 - val_covertype_bernoulli_loss: 4.5466 - val_covertype_categorical1_loss: 5.9907 - val_covertype_categorical2_loss: 5.1057 - val_covertype_categorical3_loss: 3.0206 - val_covertype_categorical4_loss: 4.8026 - val_covertype_categorical5_loss: 5.1850 - val_covertype_categorical6_loss: 6.0102 - val_covertype_categorical7_loss: 4.4360 - val_covertype_categorical8_loss: 4.1806 - val_covertype_categorical9_loss: 4.6815 - val_covertype_categorical10_loss: 5.9993 - val_covertype_cls_categorical_accuracy: 0.3839\n",
      "Epoch 2/1000\n",
      "129/129 [==============================] - 27s 205ms/step - loss: 25.0994 - covertype_cls_loss: 1.0773 - covertype_bernoulli_loss: 2.5663 - covertype_categorical1_loss: 5.0081 - covertype_categorical2_loss: 4.8941 - covertype_categorical3_loss: 2.7104 - covertype_categorical4_loss: 4.2272 - covertype_categorical5_loss: 4.7626 - covertype_categorical6_loss: 5.6090 - covertype_categorical7_loss: 4.0379 - covertype_categorical8_loss: 3.9232 - covertype_categorical9_loss: 4.3472 - covertype_categorical10_loss: 5.6769 - covertype_cls_categorical_accuracy: 0.6299 - val_loss: 25.5352 - val_covertype_cls_loss: 1.2278 - val_covertype_bernoulli_loss: 1.9770 - val_covertype_categorical1_loss: 5.6963 - val_covertype_categorical2_loss: 4.8149 - val_covertype_categorical3_loss: 2.6881 - val_covertype_categorical4_loss: 4.4854 - val_covertype_categorical5_loss: 4.8969 - val_covertype_categorical6_loss: 5.7266 - val_covertype_categorical7_loss: 4.0494 - val_covertype_categorical8_loss: 3.8962 - val_covertype_categorical9_loss: 4.3650 - val_covertype_categorical10_loss: 5.7431 - val_covertype_cls_categorical_accuracy: 0.5428\n",
      "Epoch 3/1000\n",
      "129/129 [==============================] - 27s 206ms/step - loss: 22.9664 - covertype_cls_loss: 0.9294 - covertype_bernoulli_loss: 1.3360 - covertype_categorical1_loss: 4.5645 - covertype_categorical2_loss: 4.6108 - covertype_categorical3_loss: 2.3753 - covertype_categorical4_loss: 4.0233 - covertype_categorical5_loss: 4.5875 - covertype_categorical6_loss: 5.3921 - covertype_categorical7_loss: 3.7025 - covertype_categorical8_loss: 3.6693 - covertype_categorical9_loss: 3.9985 - covertype_categorical10_loss: 5.4917 - covertype_cls_categorical_accuracy: 0.6861 - val_loss: 23.9757 - val_covertype_cls_loss: 1.1100 - val_covertype_bernoulli_loss: 1.2526 - val_covertype_categorical1_loss: 5.5063 - val_covertype_categorical2_loss: 4.5095 - val_covertype_categorical3_loss: 2.3888 - val_covertype_categorical4_loss: 4.3494 - val_covertype_categorical5_loss: 4.7793 - val_covertype_categorical6_loss: 5.6157 - val_covertype_categorical7_loss: 3.7093 - val_covertype_categorical8_loss: 3.6501 - val_covertype_categorical9_loss: 3.9992 - val_covertype_categorical10_loss: 5.6550 - val_covertype_cls_categorical_accuracy: 0.5803\n",
      "Epoch 4/1000\n",
      "129/129 [==============================] - 28s 214ms/step - loss: 21.4486 - covertype_cls_loss: 0.8573 - covertype_bernoulli_loss: 0.8943 - covertype_categorical1_loss: 4.2971 - covertype_categorical2_loss: 4.2073 - covertype_categorical3_loss: 2.1110 - covertype_categorical4_loss: 3.8590 - covertype_categorical5_loss: 4.4543 - covertype_categorical6_loss: 5.2609 - covertype_categorical7_loss: 3.3659 - covertype_categorical8_loss: 3.3991 - covertype_categorical9_loss: 3.5994 - covertype_categorical10_loss: 5.3880 - covertype_cls_categorical_accuracy: 0.7188 - val_loss: 22.6702 - val_covertype_cls_loss: 1.0499 - val_covertype_bernoulli_loss: 0.9222 - val_covertype_categorical1_loss: 5.3367 - val_covertype_categorical2_loss: 4.0956 - val_covertype_categorical3_loss: 2.1722 - val_covertype_categorical4_loss: 4.1949 - val_covertype_categorical5_loss: 4.6542 - val_covertype_categorical6_loss: 5.5377 - val_covertype_categorical7_loss: 3.3921 - val_covertype_categorical8_loss: 3.3809 - val_covertype_categorical9_loss: 3.6243 - val_covertype_categorical10_loss: 5.5846 - val_covertype_cls_categorical_accuracy: 0.6103\n",
      "Epoch 5/1000\n",
      "129/129 [==============================] - 26s 202ms/step - loss: 20.1097 - covertype_cls_loss: 0.8084 - covertype_bernoulli_loss: 0.6632 - covertype_categorical1_loss: 4.0705 - covertype_categorical2_loss: 3.7509 - covertype_categorical3_loss: 1.9141 - covertype_categorical4_loss: 3.6723 - covertype_categorical5_loss: 4.3010 - covertype_categorical6_loss: 5.1368 - covertype_categorical7_loss: 3.0562 - covertype_categorical8_loss: 3.1204 - covertype_categorical9_loss: 3.2604 - covertype_categorical10_loss: 5.2917 - covertype_cls_categorical_accuracy: 0.7449 - val_loss: 21.4122 - val_covertype_cls_loss: 1.0088 - val_covertype_bernoulli_loss: 0.7146 - val_covertype_categorical1_loss: 5.1689 - val_covertype_categorical2_loss: 3.6315 - val_covertype_categorical3_loss: 1.9723 - val_covertype_categorical4_loss: 3.9951 - val_covertype_categorical5_loss: 4.5035 - val_covertype_categorical6_loss: 5.4443 - val_covertype_categorical7_loss: 3.0776 - val_covertype_categorical8_loss: 3.0898 - val_covertype_categorical9_loss: 3.3095 - val_covertype_categorical10_loss: 5.5278 - val_covertype_cls_categorical_accuracy: 0.6316\n",
      "Epoch 6/1000\n",
      "129/129 [==============================] - 27s 210ms/step - loss: 18.8839 - covertype_cls_loss: 0.7765 - covertype_bernoulli_loss: 0.5108 - covertype_categorical1_loss: 3.8813 - covertype_categorical2_loss: 3.3162 - covertype_categorical3_loss: 1.7171 - covertype_categorical4_loss: 3.4690 - covertype_categorical5_loss: 4.1266 - covertype_categorical6_loss: 5.0181 - covertype_categorical7_loss: 2.7666 - covertype_categorical8_loss: 2.8358 - covertype_categorical9_loss: 2.9841 - covertype_categorical10_loss: 5.2047 - covertype_cls_categorical_accuracy: 0.7609 - val_loss: 20.3028 - val_covertype_cls_loss: 0.9874 - val_covertype_bernoulli_loss: 0.5764 - val_covertype_categorical1_loss: 5.0263 - val_covertype_categorical2_loss: 3.2305 - val_covertype_categorical3_loss: 1.7706 - val_covertype_categorical4_loss: 3.7965 - val_covertype_categorical5_loss: 4.3535 - val_covertype_categorical6_loss: 5.3470 - val_covertype_categorical7_loss: 2.8041 - val_covertype_categorical8_loss: 2.8091 - val_covertype_categorical9_loss: 3.0535 - val_covertype_categorical10_loss: 5.4684 - val_covertype_cls_categorical_accuracy: 0.6396ategorical4_loss: 3.4703 - covertype_categorical5_loss: 4.1279 - covertype_categorical6_loss: 5.0189 - covertype_categorical7_loss: 2.7688 - covertype_categorical8_loss: 2.8380 - covertype_categorical9_loss: 2.9862 - covertype_categorical10_loss: 5.2055 - covertype_cls_categorical_accuracy: \n",
      "Epoch 7/1000\n",
      "129/129 [==============================] - 28s 221ms/step - loss: 17.7786 - covertype_cls_loss: 0.7494 - covertype_bernoulli_loss: 0.4074 - covertype_categorical1_loss: 3.7244 - covertype_categorical2_loss: 2.9525 - covertype_categorical3_loss: 1.5153 - covertype_categorical4_loss: 3.2718 - covertype_categorical5_loss: 3.9579 - covertype_categorical6_loss: 4.8959 - covertype_categorical7_loss: 2.5121 - covertype_categorical8_loss: 2.5600 - covertype_categorical9_loss: 2.7398 - covertype_categorical10_loss: 5.1148 - covertype_cls_categorical_accuracy: 0.7759 - val_loss: 19.2959 - val_covertype_cls_loss: 0.9633 - val_covertype_bernoulli_loss: 0.4726 - val_covertype_categorical1_loss: 4.8836 - val_covertype_categorical2_loss: 2.9034 - val_covertype_categorical3_loss: 1.5593 - val_covertype_categorical4_loss: 3.6064 - val_covertype_categorical5_loss: 4.2363 - val_covertype_categorical6_loss: 5.2490 - val_covertype_categorical7_loss: 2.5681 - val_covertype_categorical8_loss: 2.5401 - val_covertype_categorical9_loss: 2.8189 - val_covertype_categorical10_loss: 5.4058 - val_covertype_cls_categorical_accuracy: 0.6544\n",
      "Epoch 8/1000\n",
      "129/129 [==============================] - 28s 220ms/step - loss: 16.8583 - covertype_cls_loss: 0.7281 - covertype_bernoulli_loss: 0.3338 - covertype_categorical1_loss: 3.5884 - covertype_categorical2_loss: 2.6643 - covertype_categorical3_loss: 1.3251 - covertype_categorical4_loss: 3.1197 - covertype_categorical5_loss: 3.8446 - covertype_categorical6_loss: 4.7903 - covertype_categorical7_loss: 2.2921 - covertype_categorical8_loss: 2.3221 - covertype_categorical9_loss: 2.5258 - covertype_categorical10_loss: 5.0258 - covertype_cls_categorical_accuracy: 0.7870 - val_loss: 18.4337 - val_covertype_cls_loss: 0.9444 - val_covertype_bernoulli_loss: 0.4044 - val_covertype_categorical1_loss: 4.7457 - val_covertype_categorical2_loss: 2.6369 - val_covertype_categorical3_loss: 1.3705 - val_covertype_categorical4_loss: 3.4615 - val_covertype_categorical5_loss: 4.1438 - val_covertype_categorical6_loss: 5.1645 - val_covertype_categorical7_loss: 2.3484 - val_covertype_categorical8_loss: 2.3108 - val_covertype_categorical9_loss: 2.6191 - val_covertype_categorical10_loss: 5.3302 - val_covertype_cls_categorical_accuracy: 0.6679\n",
      "Epoch 9/1000\n",
      "129/129 [==============================] - 26s 204ms/step - loss: 16.1506 - covertype_cls_loss: 0.7122 - covertype_bernoulli_loss: 0.2859 - covertype_categorical1_loss: 3.4842 - covertype_categorical2_loss: 2.4508 - covertype_categorical3_loss: 1.1688 - covertype_categorical4_loss: 3.0051 - covertype_categorical5_loss: 3.7717 - covertype_categorical6_loss: 4.7039 - covertype_categorical7_loss: 2.1134 - covertype_categorical8_loss: 2.1321 - covertype_categorical9_loss: 2.3543 - covertype_categorical10_loss: 4.9596 - covertype_cls_categorical_accuracy: 0.7961 - val_loss: 17.9329 - val_covertype_cls_loss: 0.9324 - val_covertype_bernoulli_loss: 0.3577 - val_covertype_categorical1_loss: 4.6702 - val_covertype_categorical2_loss: 2.4689 - val_covertype_categorical3_loss: 1.2480 - val_covertype_categorical4_loss: 3.3823 - val_covertype_categorical5_loss: 4.1358 - val_covertype_categorical6_loss: 5.1285 - val_covertype_categorical7_loss: 2.2040 - val_covertype_categorical8_loss: 2.1535 - val_covertype_categorical9_loss: 2.4902 - val_covertype_categorical10_loss: 5.3023 - val_covertype_cls_categorical_accuracy: 0.6708\n",
      "Epoch 10/1000\n",
      "129/129 [==============================] - 29s 224ms/step - loss: 15.6312 - covertype_cls_loss: 0.6983 - covertype_bernoulli_loss: 0.2506 - covertype_categorical1_loss: 3.4052 - covertype_categorical2_loss: 2.3038 - covertype_categorical3_loss: 1.0539 - covertype_categorical4_loss: 2.9346 - covertype_categorical5_loss: 3.7259 - covertype_categorical6_loss: 4.6285 - covertype_categorical7_loss: 1.9841 - covertype_categorical8_loss: 1.9923 - covertype_categorical9_loss: 2.2254 - covertype_categorical10_loss: 4.9004 - covertype_cls_categorical_accuracy: 0.8036 - val_loss: 17.3068 - val_covertype_cls_loss: 0.9152 - val_covertype_bernoulli_loss: 0.3180 - val_covertype_categorical1_loss: 4.5713 - val_covertype_categorical2_loss: 2.3135 - val_covertype_categorical3_loss: 1.1147 - val_covertype_categorical4_loss: 3.2959 - val_covertype_categorical5_loss: 4.0520 - val_covertype_categorical6_loss: 5.0328 - val_covertype_categorical7_loss: 2.0626 - val_covertype_categorical8_loss: 2.0034 - val_covertype_categorical9_loss: 2.3313 - val_covertype_categorical10_loss: 5.2150 - val_covertype_cls_categorical_accuracy: 0.6852\n",
      "Epoch 11/1000\n",
      "129/129 [==============================] - 28s 219ms/step - loss: 15.2127 - covertype_cls_loss: 0.6868 - covertype_bernoulli_loss: 0.2271 - covertype_categorical1_loss: 3.3416 - covertype_categorical2_loss: 2.1831 - covertype_categorical3_loss: 0.9593 - covertype_categorical4_loss: 2.8843 - covertype_categorical5_loss: 3.6891 - covertype_categorical6_loss: 4.5630 - covertype_categorical7_loss: 1.8746 - covertype_categorical8_loss: 1.8841 - covertype_categorical9_loss: 2.1191 - covertype_categorical10_loss: 4.8549 - covertype_cls_categorical_accuracy: 0.8099 - val_loss: 17.0961 - val_covertype_cls_loss: 0.9010 - val_covertype_bernoulli_loss: 0.2941 - val_covertype_categorical1_loss: 4.5553 - val_covertype_categorical2_loss: 2.2335 - val_covertype_categorical3_loss: 1.0324 - val_covertype_categorical4_loss: 3.2959 - val_covertype_categorical5_loss: 4.0665 - val_covertype_categorical6_loss: 5.0438 - val_covertype_categorical7_loss: 1.9919 - val_covertype_categorical8_loss: 1.9191 - val_covertype_categorical9_loss: 2.2586 - val_covertype_categorical10_loss: 5.2178 - val_covertype_cls_categorical_accuracy: 0.6938\n",
      "Epoch 12/1000\n",
      "129/129 [==============================] - 29s 223ms/step - loss: 14.8925 - covertype_cls_loss: 0.6775 - covertype_bernoulli_loss: 0.2091 - covertype_categorical1_loss: 3.2848 - covertype_categorical2_loss: 2.1005 - covertype_categorical3_loss: 0.8906 - covertype_categorical4_loss: 2.8444 - covertype_categorical5_loss: 3.6628 - covertype_categorical6_loss: 4.5031 - covertype_categorical7_loss: 1.8028 - covertype_categorical8_loss: 1.7973 - covertype_categorical9_loss: 2.0420 - covertype_categorical10_loss: 4.8137 - covertype_cls_categorical_accuracy: 0.8144 - val_loss: 16.6175 - val_covertype_cls_loss: 0.8897 - val_covertype_bernoulli_loss: 0.2747 - val_covertype_categorical1_loss: 4.4566 - val_covertype_categorical2_loss: 2.1221 - val_covertype_categorical3_loss: 0.9532 - val_covertype_categorical4_loss: 3.2109 - val_covertype_categorical5_loss: 3.9989 - val_covertype_categorical6_loss: 4.9337 - val_covertype_categorical7_loss: 1.8902 - val_covertype_categorical8_loss: 1.8297 - val_covertype_categorical9_loss: 2.1671 - val_covertype_categorical10_loss: 5.1329 - val_covertype_cls_categorical_accuracy: 0.6987\n",
      "Epoch 13/1000\n",
      "129/129 [==============================] - 29s 222ms/step - loss: 14.6116 - covertype_cls_loss: 0.6676 - covertype_bernoulli_loss: 0.1961 - covertype_categorical1_loss: 3.2352 - covertype_categorical2_loss: 2.0244 - covertype_categorical3_loss: 0.8326 - covertype_categorical4_loss: 2.8204 - covertype_categorical5_loss: 3.6378 - covertype_categorical6_loss: 4.4466 - covertype_categorical7_loss: 1.7326 - covertype_categorical8_loss: 1.7291 - covertype_categorical9_loss: 1.9785 - covertype_categorical10_loss: 4.7699 - covertype_cls_categorical_accuracy: 0.8202 - val_loss: 16.5352 - val_covertype_cls_loss: 0.8733 - val_covertype_bernoulli_loss: 0.2604 - val_covertype_categorical1_loss: 4.4856 - val_covertype_categorical2_loss: 2.0802 - val_covertype_categorical3_loss: 0.9030 - val_covertype_categorical4_loss: 3.2244 - val_covertype_categorical5_loss: 4.0100 - val_covertype_categorical6_loss: 4.9604 - val_covertype_categorical7_loss: 1.8511 - val_covertype_categorical8_loss: 1.7752 - val_covertype_categorical9_loss: 2.1263 - val_covertype_categorical10_loss: 5.1555 - val_covertype_cls_categorical_accuracy: 0.7071\n",
      "Epoch 14/1000\n"
     ]
    },
    {
     "name": "stdout",
     "output_type": "stream",
     "text": [
      "129/129 [==============================] - 29s 222ms/step - loss: 14.3774 - covertype_cls_loss: 0.6576 - covertype_bernoulli_loss: 0.1853 - covertype_categorical1_loss: 3.1981 - covertype_categorical2_loss: 1.9731 - covertype_categorical3_loss: 0.7818 - covertype_categorical4_loss: 2.7943 - covertype_categorical5_loss: 3.6123 - covertype_categorical6_loss: 4.3938 - covertype_categorical7_loss: 1.6830 - covertype_categorical8_loss: 1.6713 - covertype_categorical9_loss: 1.9270 - covertype_categorical10_loss: 4.7305 - covertype_cls_categorical_accuracy: 0.8257 - val_loss: 16.1681 - val_covertype_cls_loss: 0.8710 - val_covertype_bernoulli_loss: 0.2496 - val_covertype_categorical1_loss: 4.3867 - val_covertype_categorical2_loss: 2.0195 - val_covertype_categorical3_loss: 0.8397 - val_covertype_categorical4_loss: 3.1817 - val_covertype_categorical5_loss: 3.9555 - val_covertype_categorical6_loss: 4.8462 - val_covertype_categorical7_loss: 1.7837 - val_covertype_categorical8_loss: 1.7145 - val_covertype_categorical9_loss: 2.0630 - val_covertype_categorical10_loss: 5.0605 - val_covertype_cls_categorical_accuracy: 0.7090\n",
      "Epoch 15/1000\n",
      "129/129 [==============================] - 27s 211ms/step - loss: 14.1789 - covertype_cls_loss: 0.6502 - covertype_bernoulli_loss: 0.1773 - covertype_categorical1_loss: 3.1597 - covertype_categorical2_loss: 1.9151 - covertype_categorical3_loss: 0.7423 - covertype_categorical4_loss: 2.7906 - covertype_categorical5_loss: 3.6017 - covertype_categorical6_loss: 4.3467 - covertype_categorical7_loss: 1.6327 - covertype_categorical8_loss: 1.6303 - covertype_categorical9_loss: 1.8799 - covertype_categorical10_loss: 4.6888 - covertype_cls_categorical_accuracy: 0.8296 - val_loss: 16.1365 - val_covertype_cls_loss: 0.8626 - val_covertype_bernoulli_loss: 0.2442 - val_covertype_categorical1_loss: 4.4309 - val_covertype_categorical2_loss: 1.9951 - val_covertype_categorical3_loss: 0.8020 - val_covertype_categorical4_loss: 3.1683 - val_covertype_categorical5_loss: 3.9746 - val_covertype_categorical6_loss: 4.8706 - val_covertype_categorical7_loss: 1.7514 - val_covertype_categorical8_loss: 1.6884 - val_covertype_categorical9_loss: 2.0381 - val_covertype_categorical10_loss: 5.0872 - val_covertype_cls_categorical_accuracy: 0.7136\n",
      "Epoch 16/1000\n",
      "129/129 [==============================] - 29s 225ms/step - loss: 13.9652 - covertype_cls_loss: 0.6429 - covertype_bernoulli_loss: 0.1701 - covertype_categorical1_loss: 3.1312 - covertype_categorical2_loss: 1.8743 - covertype_categorical3_loss: 0.7161 - covertype_categorical4_loss: 2.7235 - covertype_categorical5_loss: 3.5584 - covertype_categorical6_loss: 4.3039 - covertype_categorical7_loss: 1.5954 - covertype_categorical8_loss: 1.5847 - covertype_categorical9_loss: 1.8415 - covertype_categorical10_loss: 4.6488 - covertype_cls_categorical_accuracy: 0.8338 - val_loss: 15.7405 - val_covertype_cls_loss: 0.8526 - val_covertype_bernoulli_loss: 0.2250 - val_covertype_categorical1_loss: 4.3309 - val_covertype_categorical2_loss: 1.9157 - val_covertype_categorical3_loss: 0.7517 - val_covertype_categorical4_loss: 3.1015 - val_covertype_categorical5_loss: 3.9082 - val_covertype_categorical6_loss: 4.7728 - val_covertype_categorical7_loss: 1.6923 - val_covertype_categorical8_loss: 1.6202 - val_covertype_categorical9_loss: 1.9643 - val_covertype_categorical10_loss: 4.9919 - val_covertype_cls_categorical_accuracy: 0.7176\n",
      "Epoch 17/1000\n",
      "129/129 [==============================] - 29s 228ms/step - loss: 13.8142 - covertype_cls_loss: 0.6346 - covertype_bernoulli_loss: 0.1629 - covertype_categorical1_loss: 3.1001 - covertype_categorical2_loss: 1.8428 - covertype_categorical3_loss: 0.6872 - covertype_categorical4_loss: 2.7193 - covertype_categorical5_loss: 3.5494 - covertype_categorical6_loss: 4.2631 - covertype_categorical7_loss: 1.5594 - covertype_categorical8_loss: 1.5526 - covertype_categorical9_loss: 1.8091 - covertype_categorical10_loss: 4.6143 - covertype_cls_categorical_accuracy: 0.8376 - val_loss: 15.8609 - val_covertype_cls_loss: 0.8439 - val_covertype_bernoulli_loss: 0.2261 - val_covertype_categorical1_loss: 4.3950 - val_covertype_categorical2_loss: 1.9235 - val_covertype_categorical3_loss: 0.7696 - val_covertype_categorical4_loss: 3.1509 - val_covertype_categorical5_loss: 3.9566 - val_covertype_categorical6_loss: 4.8063 - val_covertype_categorical7_loss: 1.6935 - val_covertype_categorical8_loss: 1.6296 - val_covertype_categorical9_loss: 1.9611 - val_covertype_categorical10_loss: 5.0215 - val_covertype_cls_categorical_accuracy: 0.7217\n",
      "Epoch 18/1000\n",
      "129/129 [==============================] - 29s 223ms/step - loss: 13.6846 - covertype_cls_loss: 0.6279 - covertype_bernoulli_loss: 0.1580 - covertype_categorical1_loss: 3.0777 - covertype_categorical2_loss: 1.8133 - covertype_categorical3_loss: 0.6623 - covertype_categorical4_loss: 2.7157 - covertype_categorical5_loss: 3.5360 - covertype_categorical6_loss: 4.2255 - covertype_categorical7_loss: 1.5388 - covertype_categorical8_loss: 1.5279 - covertype_categorical9_loss: 1.7837 - covertype_categorical10_loss: 4.5746 - covertype_cls_categorical_accuracy: 0.8419 - val_loss: 15.4699 - val_covertype_cls_loss: 0.8399 - val_covertype_bernoulli_loss: 0.2158 - val_covertype_categorical1_loss: 4.2842 - val_covertype_categorical2_loss: 1.8567 - val_covertype_categorical3_loss: 0.7056 - val_covertype_categorical4_loss: 3.0695 - val_covertype_categorical5_loss: 3.8679 - val_covertype_categorical6_loss: 4.7031 - val_covertype_categorical7_loss: 1.6473 - val_covertype_categorical8_loss: 1.5609 - val_covertype_categorical9_loss: 1.9147 - val_covertype_categorical10_loss: 4.9332 - val_covertype_cls_categorical_accuracy: 0.7259\n",
      "Epoch 19/1000\n",
      "129/129 [==============================] - 29s 224ms/step - loss: 13.4952 - covertype_cls_loss: 0.6223 - covertype_bernoulli_loss: 0.1528 - covertype_categorical1_loss: 3.0445 - covertype_categorical2_loss: 1.7775 - covertype_categorical3_loss: 0.6329 - covertype_categorical4_loss: 2.6708 - covertype_categorical5_loss: 3.5010 - covertype_categorical6_loss: 4.1846 - covertype_categorical7_loss: 1.5035 - covertype_categorical8_loss: 1.4872 - covertype_categorical9_loss: 1.7500 - covertype_categorical10_loss: 4.5371 - covertype_cls_categorical_accuracy: 0.8442 - val_loss: 15.5164 - val_covertype_cls_loss: 0.8258 - val_covertype_bernoulli_loss: 0.2201 - val_covertype_categorical1_loss: 4.3471 - val_covertype_categorical2_loss: 1.8694 - val_covertype_categorical3_loss: 0.7053 - val_covertype_categorical4_loss: 3.0765 - val_covertype_categorical5_loss: 3.8775 - val_covertype_categorical6_loss: 4.7292 - val_covertype_categorical7_loss: 1.6417 - val_covertype_categorical8_loss: 1.5549 - val_covertype_categorical9_loss: 1.9062 - val_covertype_categorical10_loss: 4.9476 - val_covertype_cls_categorical_accuracy: 0.7334\n",
      "Epoch 20/1000\n",
      "129/129 [==============================] - 28s 218ms/step - loss: 13.3993 - covertype_cls_loss: 0.6157 - covertype_bernoulli_loss: 0.1496 - covertype_categorical1_loss: 3.0288 - covertype_categorical2_loss: 1.7639 - covertype_categorical3_loss: 0.6209 - covertype_categorical4_loss: 2.6610 - covertype_categorical5_loss: 3.4877 - covertype_categorical6_loss: 4.1522 - covertype_categorical7_loss: 1.4897 - covertype_categorical8_loss: 1.4674 - covertype_categorical9_loss: 1.7405 - covertype_categorical10_loss: 4.5012 - covertype_cls_categorical_accuracy: 0.8483 - val_loss: 15.2009 - val_covertype_cls_loss: 0.8231 - val_covertype_bernoulli_loss: 0.2074 - val_covertype_categorical1_loss: 4.2521 - val_covertype_categorical2_loss: 1.8164 - val_covertype_categorical3_loss: 0.6638 - val_covertype_categorical4_loss: 3.0331 - val_covertype_categorical5_loss: 3.8257 - val_covertype_categorical6_loss: 4.6347 - val_covertype_categorical7_loss: 1.5893 - val_covertype_categorical8_loss: 1.5044 - val_covertype_categorical9_loss: 1.8615 - val_covertype_categorical10_loss: 4.8627 - val_covertype_cls_categorical_accuracy: 0.7336\n",
      "Epoch 21/1000\n",
      "129/129 [==============================] - 28s 217ms/step - loss: 13.2396 - covertype_cls_loss: 0.6109 - covertype_bernoulli_loss: 0.1452 - covertype_categorical1_loss: 3.0022 - covertype_categorical2_loss: 1.7344 - covertype_categorical3_loss: 0.5881 - covertype_categorical4_loss: 2.6347 - covertype_categorical5_loss: 3.4585 - covertype_categorical6_loss: 4.1162 - covertype_categorical7_loss: 1.4580 - covertype_categorical8_loss: 1.4403 - covertype_categorical9_loss: 1.7083 - covertype_categorical10_loss: 4.4645 - covertype_cls_categorical_accuracy: 0.8504 - val_loss: 15.3274 - val_covertype_cls_loss: 0.8194 - val_covertype_bernoulli_loss: 0.2054 - val_covertype_categorical1_loss: 4.3169 - val_covertype_categorical2_loss: 1.8310 - val_covertype_categorical3_loss: 0.6612 - val_covertype_categorical4_loss: 3.0648 - val_covertype_categorical5_loss: 3.8763 - val_covertype_categorical6_loss: 4.6577 - val_covertype_categorical7_loss: 1.6142 - val_covertype_categorical8_loss: 1.5179 - val_covertype_categorical9_loss: 1.8786 - val_covertype_categorical10_loss: 4.8860 - val_covertype_cls_categorical_accuracy: 0.7355\n",
      "Epoch 22/1000\n",
      "129/129 [==============================] - 29s 224ms/step - loss: 13.1461 - covertype_cls_loss: 0.6047 - covertype_bernoulli_loss: 0.1414 - covertype_categorical1_loss: 2.9874 - covertype_categorical2_loss: 1.7216 - covertype_categorical3_loss: 0.5819 - covertype_categorical4_loss: 2.6173 - covertype_categorical5_loss: 3.4520 - covertype_categorical6_loss: 4.0820 - covertype_categorical7_loss: 1.4438 - covertype_categorical8_loss: 1.4305 - covertype_categorical9_loss: 1.6893 - covertype_categorical10_loss: 4.4278 - covertype_cls_categorical_accuracy: 0.8539 - val_loss: 14.9635 - val_covertype_cls_loss: 0.8124 - val_covertype_bernoulli_loss: 0.1981 - val_covertype_categorical1_loss: 4.2275 - val_covertype_categorical2_loss: 1.7628 - val_covertype_categorical3_loss: 0.6298 - val_covertype_categorical4_loss: 2.9915 - val_covertype_categorical5_loss: 3.7861 - val_covertype_categorical6_loss: 4.5704 - val_covertype_categorical7_loss: 1.5472 - val_covertype_categorical8_loss: 1.4601 - val_covertype_categorical9_loss: 1.8253 - val_covertype_categorical10_loss: 4.7943 - val_covertype_cls_categorical_accuracy: 0.7382\n",
      "Epoch 23/1000\n",
      "129/129 [==============================] - 29s 227ms/step - loss: 13.0288 - covertype_cls_loss: 0.6000 - covertype_bernoulli_loss: 0.1388 - covertype_categorical1_loss: 2.9662 - covertype_categorical2_loss: 1.6990 - covertype_categorical3_loss: 0.5648 - covertype_categorical4_loss: 2.5948 - covertype_categorical5_loss: 3.4318 - covertype_categorical6_loss: 4.0542 - covertype_categorical7_loss: 1.4240 - covertype_categorical8_loss: 1.4068 - covertype_categorical9_loss: 1.6748 - covertype_categorical10_loss: 4.3929 - covertype_cls_categorical_accuracy: 0.8554 - val_loss: 15.1200 - val_covertype_cls_loss: 0.8153 - val_covertype_bernoulli_loss: 0.2000 - val_covertype_categorical1_loss: 4.3055 - val_covertype_categorical2_loss: 1.7975 - val_covertype_categorical3_loss: 0.6148 - val_covertype_categorical4_loss: 3.0194 - val_covertype_categorical5_loss: 3.8144 - val_covertype_categorical6_loss: 4.6255 - val_covertype_categorical7_loss: 1.5594 - val_covertype_categorical8_loss: 1.4761 - val_covertype_categorical9_loss: 1.8478 - val_covertype_categorical10_loss: 4.8400 - val_covertype_cls_categorical_accuracy: 0.7370\n",
      "Epoch 24/1000\n",
      "129/129 [==============================] - 22s 171ms/step - loss: 12.9177 - covertype_cls_loss: 0.5953 - covertype_bernoulli_loss: 0.1358 - covertype_categorical1_loss: 2.9497 - covertype_categorical2_loss: 1.6843 - covertype_categorical3_loss: 0.5469 - covertype_categorical4_loss: 2.5739 - covertype_categorical5_loss: 3.4028 - covertype_categorical6_loss: 4.0256 - covertype_categorical7_loss: 1.4088 - covertype_categorical8_loss: 1.3899 - covertype_categorical9_loss: 1.6593 - covertype_categorical10_loss: 4.3565 - covertype_cls_categorical_accuracy: 0.8578 - val_loss: 14.7400 - val_covertype_cls_loss: 0.7988 - val_covertype_bernoulli_loss: 0.1856 - val_covertype_categorical1_loss: 4.1816 - val_covertype_categorical2_loss: 1.7309 - val_covertype_categorical3_loss: 0.5868 - val_covertype_categorical4_loss: 2.9619 - val_covertype_categorical5_loss: 3.7541 - val_covertype_categorical6_loss: 4.5178 - val_covertype_categorical7_loss: 1.5128 - val_covertype_categorical8_loss: 1.4242 - val_covertype_categorical9_loss: 1.7867 - val_covertype_categorical10_loss: 4.7311 - val_covertype_cls_categorical_accuracy: 0.7462\n",
      "Epoch 25/1000\n",
      "129/129 [==============================] - 22s 170ms/step - loss: 12.8280 - covertype_cls_loss: 0.5908 - covertype_bernoulli_loss: 0.1331 - covertype_categorical1_loss: 2.9305 - covertype_categorical2_loss: 1.6676 - covertype_categorical3_loss: 0.5414 - covertype_categorical4_loss: 2.5662 - covertype_categorical5_loss: 3.3953 - covertype_categorical6_loss: 3.9931 - covertype_categorical7_loss: 1.3984 - covertype_categorical8_loss: 1.3728 - covertype_categorical9_loss: 1.6445 - covertype_categorical10_loss: 4.3201 - covertype_cls_categorical_accuracy: 0.8607 - val_loss: 15.0347 - val_covertype_cls_loss: 0.8041 - val_covertype_bernoulli_loss: 0.2023 - val_covertype_categorical1_loss: 4.3006 - val_covertype_categorical2_loss: 1.7642 - val_covertype_categorical3_loss: 0.6195 - val_covertype_categorical4_loss: 3.0540 - val_covertype_categorical5_loss: 3.8021 - val_covertype_categorical6_loss: 4.5812 - val_covertype_categorical7_loss: 1.5657 - val_covertype_categorical8_loss: 1.4544 - val_covertype_categorical9_loss: 1.8172 - val_covertype_categorical10_loss: 4.7901 - val_covertype_cls_categorical_accuracy: 0.7437\n",
      "Epoch 26/1000\n",
      "129/129 [==============================] - 22s 169ms/step - loss: 12.7275 - covertype_cls_loss: 0.5868 - covertype_bernoulli_loss: 0.1304 - covertype_categorical1_loss: 2.9095 - covertype_categorical2_loss: 1.6576 - covertype_categorical3_loss: 0.5170 - covertype_categorical4_loss: 2.5542 - covertype_categorical5_loss: 3.3812 - covertype_categorical6_loss: 3.9615 - covertype_categorical7_loss: 1.3821 - covertype_categorical8_loss: 1.3619 - covertype_categorical9_loss: 1.6313 - covertype_categorical10_loss: 4.2823 - covertype_cls_categorical_accuracy: 0.8629 - val_loss: 14.5373 - val_covertype_cls_loss: 0.7873 - val_covertype_bernoulli_loss: 0.1816 - val_covertype_categorical1_loss: 4.1529 - val_covertype_categorical2_loss: 1.7024 - val_covertype_categorical3_loss: 0.5462 - val_covertype_categorical4_loss: 2.9288 - val_covertype_categorical5_loss: 3.7224 - val_covertype_categorical6_loss: 4.4598 - val_covertype_categorical7_loss: 1.4845 - val_covertype_categorical8_loss: 1.3878 - val_covertype_categorical9_loss: 1.7579 - val_covertype_categorical10_loss: 4.6640 - val_covertype_cls_categorical_accuracy: 0.7518\n",
      "Epoch 27/1000\n",
      "129/129 [==============================] - 22s 169ms/step - loss: 12.6309 - covertype_cls_loss: 0.5821 - covertype_bernoulli_loss: 0.1283 - covertype_categorical1_loss: 2.8942 - covertype_categorical2_loss: 1.6481 - covertype_categorical3_loss: 0.4986 - covertype_categorical4_loss: 2.5318 - covertype_categorical5_loss: 3.3544 - covertype_categorical6_loss: 3.9355 - covertype_categorical7_loss: 1.3740 - covertype_categorical8_loss: 1.3436 - covertype_categorical9_loss: 1.6268 - covertype_categorical10_loss: 4.2476 - covertype_cls_categorical_accuracy: 0.8648 - val_loss: 14.7468 - val_covertype_cls_loss: 0.7827 - val_covertype_bernoulli_loss: 0.1933 - val_covertype_categorical1_loss: 4.2484 - val_covertype_categorical2_loss: 1.7303 - val_covertype_categorical3_loss: 0.5775 - val_covertype_categorical4_loss: 2.9641 - val_covertype_categorical5_loss: 3.7344 - val_covertype_categorical6_loss: 4.5016 - val_covertype_categorical7_loss: 1.5101 - val_covertype_categorical8_loss: 1.4126 - val_covertype_categorical9_loss: 1.8147 - val_covertype_categorical10_loss: 4.7276 - val_covertype_cls_categorical_accuracy: 0.7533\n",
      "Epoch 28/1000\n"
     ]
    },
    {
     "name": "stdout",
     "output_type": "stream",
     "text": [
      "129/129 [==============================] - 23s 176ms/step - loss: 12.5606 - covertype_cls_loss: 0.5781 - covertype_bernoulli_loss: 0.1255 - covertype_categorical1_loss: 2.8766 - covertype_categorical2_loss: 1.6346 - covertype_categorical3_loss: 0.5171 - covertype_categorical4_loss: 2.5137 - covertype_categorical5_loss: 3.3353 - covertype_categorical6_loss: 3.9093 - covertype_categorical7_loss: 1.3707 - covertype_categorical8_loss: 1.3323 - covertype_categorical9_loss: 1.6182 - covertype_categorical10_loss: 4.2163 - covertype_cls_categorical_accuracy: 0.8669 - val_loss: 14.4192 - val_covertype_cls_loss: 0.7793 - val_covertype_bernoulli_loss: 0.1748 - val_covertype_categorical1_loss: 4.1187 - val_covertype_categorical2_loss: 1.6825 - val_covertype_categorical3_loss: 0.5940 - val_covertype_categorical4_loss: 2.9043 - val_covertype_categorical5_loss: 3.6932 - val_covertype_categorical6_loss: 4.4050 - val_covertype_categorical7_loss: 1.4807 - val_covertype_categorical8_loss: 1.3832 - val_covertype_categorical9_loss: 1.7331 - val_covertype_categorical10_loss: 4.5969 - val_covertype_cls_categorical_accuracy: 0.7551\n",
      "Epoch 29/1000\n",
      "129/129 [==============================] - 26s 203ms/step - loss: 12.4535 - covertype_cls_loss: 0.5737 - covertype_bernoulli_loss: 0.1238 - covertype_categorical1_loss: 2.8631 - covertype_categorical2_loss: 1.6214 - covertype_categorical3_loss: 0.4984 - covertype_categorical4_loss: 2.4917 - covertype_categorical5_loss: 3.3113 - covertype_categorical6_loss: 3.8764 - covertype_categorical7_loss: 1.3498 - covertype_categorical8_loss: 1.3250 - covertype_categorical9_loss: 1.6079 - covertype_categorical10_loss: 4.1746 - covertype_cls_categorical_accuracy: 0.8688 - val_loss: 14.5767 - val_covertype_cls_loss: 0.7759 - val_covertype_bernoulli_loss: 0.1790 - val_covertype_categorical1_loss: 4.2191 - val_covertype_categorical2_loss: 1.7303 - val_covertype_categorical3_loss: 0.5497 - val_covertype_categorical4_loss: 2.9247 - val_covertype_categorical5_loss: 3.7095 - val_covertype_categorical6_loss: 4.4585 - val_covertype_categorical7_loss: 1.4899 - val_covertype_categorical8_loss: 1.4248 - val_covertype_categorical9_loss: 1.7672 - val_covertype_categorical10_loss: 4.6353 - val_covertype_cls_categorical_accuracy: 0.7559\n",
      "Epoch 30/1000\n",
      "129/129 [==============================] - 25s 195ms/step - loss: 12.4064 - covertype_cls_loss: 0.5695 - covertype_bernoulli_loss: 0.1213 - covertype_categorical1_loss: 2.8481 - covertype_categorical2_loss: 1.6141 - covertype_categorical3_loss: 0.5057 - covertype_categorical4_loss: 2.4893 - covertype_categorical5_loss: 3.3005 - covertype_categorical6_loss: 3.8564 - covertype_categorical7_loss: 1.3545 - covertype_categorical8_loss: 1.3195 - covertype_categorical9_loss: 1.5971 - covertype_categorical10_loss: 4.1515 - covertype_cls_categorical_accuracy: 0.8710 - val_loss: 14.1940 - val_covertype_cls_loss: 0.7646 - val_covertype_bernoulli_loss: 0.1685 - val_covertype_categorical1_loss: 4.0942 - val_covertype_categorical2_loss: 1.6602 - val_covertype_categorical3_loss: 0.5251 - val_covertype_categorical4_loss: 2.8652 - val_covertype_categorical5_loss: 3.6417 - val_covertype_categorical6_loss: 4.3462 - val_covertype_categorical7_loss: 1.4472 - val_covertype_categorical8_loss: 1.3523 - val_covertype_categorical9_loss: 1.7193 - val_covertype_categorical10_loss: 4.5241 - val_covertype_cls_categorical_accuracy: 0.7633\n",
      "Epoch 31/1000\n",
      "129/129 [==============================] - 26s 202ms/step - loss: 12.2656 - covertype_cls_loss: 0.5658 - covertype_bernoulli_loss: 0.1191 - covertype_categorical1_loss: 2.8301 - covertype_categorical2_loss: 1.5987 - covertype_categorical3_loss: 0.4651 - covertype_categorical4_loss: 2.4626 - covertype_categorical5_loss: 3.2775 - covertype_categorical6_loss: 3.8267 - covertype_categorical7_loss: 1.3284 - covertype_categorical8_loss: 1.2942 - covertype_categorical9_loss: 1.5716 - covertype_categorical10_loss: 4.1071 - covertype_cls_categorical_accuracy: 0.8723 - val_loss: 14.3977 - val_covertype_cls_loss: 0.7712 - val_covertype_bernoulli_loss: 0.1709 - val_covertype_categorical1_loss: 4.1712 - val_covertype_categorical2_loss: 1.6926 - val_covertype_categorical3_loss: 0.5101 - val_covertype_categorical4_loss: 2.9194 - val_covertype_categorical5_loss: 3.6953 - val_covertype_categorical6_loss: 4.3864 - val_covertype_categorical7_loss: 1.4881 - val_covertype_categorical8_loss: 1.3783 - val_covertype_categorical9_loss: 1.7639 - val_covertype_categorical10_loss: 4.5616 - val_covertype_cls_categorical_accuracy: 0.7605\n",
      "Epoch 32/1000\n",
      "129/129 [==============================] - 26s 202ms/step - loss: 12.2199 - covertype_cls_loss: 0.5639 - covertype_bernoulli_loss: 0.1170 - covertype_categorical1_loss: 2.8187 - covertype_categorical2_loss: 1.5921 - covertype_categorical3_loss: 0.4695 - covertype_categorical4_loss: 2.4505 - covertype_categorical5_loss: 3.2707 - covertype_categorical6_loss: 3.8036 - covertype_categorical7_loss: 1.3313 - covertype_categorical8_loss: 1.2931 - covertype_categorical9_loss: 1.5702 - covertype_categorical10_loss: 4.0765 - covertype_cls_categorical_accuracy: 0.8733 - val_loss: 14.0240 - val_covertype_cls_loss: 0.7637 - val_covertype_bernoulli_loss: 0.1675 - val_covertype_categorical1_loss: 4.0560 - val_covertype_categorical2_loss: 1.6391 - val_covertype_categorical3_loss: 0.4972 - val_covertype_categorical4_loss: 2.8487 - val_covertype_categorical5_loss: 3.6022 - val_covertype_categorical6_loss: 4.2873 - val_covertype_categorical7_loss: 1.4307 - val_covertype_categorical8_loss: 1.3209 - val_covertype_categorical9_loss: 1.6986 - val_covertype_categorical10_loss: 4.4569 - val_covertype_cls_categorical_accuracy: 0.7636\n",
      "Epoch 33/1000\n",
      "129/129 [==============================] - 26s 201ms/step - loss: 12.1114 - covertype_cls_loss: 0.5621 - covertype_bernoulli_loss: 0.1141 - covertype_categorical1_loss: 2.8038 - covertype_categorical2_loss: 1.5682 - covertype_categorical3_loss: 0.4563 - covertype_categorical4_loss: 2.4452 - covertype_categorical5_loss: 3.2435 - covertype_categorical6_loss: 3.7767 - covertype_categorical7_loss: 1.2967 - covertype_categorical8_loss: 1.2773 - covertype_categorical9_loss: 1.5515 - covertype_categorical10_loss: 4.0452 - covertype_cls_categorical_accuracy: 0.8735 - val_loss: 14.1935 - val_covertype_cls_loss: 0.7558 - val_covertype_bernoulli_loss: 0.1731 - val_covertype_categorical1_loss: 4.1330 - val_covertype_categorical2_loss: 1.6626 - val_covertype_categorical3_loss: 0.4871 - val_covertype_categorical4_loss: 2.8774 - val_covertype_categorical5_loss: 3.6537 - val_covertype_categorical6_loss: 4.3515 - val_covertype_categorical7_loss: 1.4646 - val_covertype_categorical8_loss: 1.3392 - val_covertype_categorical9_loss: 1.7201 - val_covertype_categorical10_loss: 4.4967 - val_covertype_cls_categorical_accuracy: 0.7684\n",
      "Epoch 34/1000\n",
      "129/129 [==============================] - 25s 194ms/step - loss: 12.0198 - covertype_cls_loss: 0.5569 - covertype_bernoulli_loss: 0.1129 - covertype_categorical1_loss: 2.7850 - covertype_categorical2_loss: 1.5611 - covertype_categorical3_loss: 0.4344 - covertype_categorical4_loss: 2.4171 - covertype_categorical5_loss: 3.2280 - covertype_categorical6_loss: 3.7509 - covertype_categorical7_loss: 1.2927 - covertype_categorical8_loss: 1.2620 - covertype_categorical9_loss: 1.5468 - covertype_categorical10_loss: 4.0127 - covertype_cls_categorical_accuracy: 0.8764 - val_loss: 13.8422 - val_covertype_cls_loss: 0.7483 - val_covertype_bernoulli_loss: 0.1622 - val_covertype_categorical1_loss: 4.0266 - val_covertype_categorical2_loss: 1.6183 - val_covertype_categorical3_loss: 0.4661 - val_covertype_categorical4_loss: 2.8190 - val_covertype_categorical5_loss: 3.5740 - val_covertype_categorical6_loss: 4.2354 - val_covertype_categorical7_loss: 1.4020 - val_covertype_categorical8_loss: 1.2988 - val_covertype_categorical9_loss: 1.6769 - val_covertype_categorical10_loss: 4.3909 - val_covertype_cls_categorical_accuracy: 0.7713\n",
      "Epoch 35/1000\n",
      "129/129 [==============================] - 26s 200ms/step - loss: 11.9723 - covertype_cls_loss: 0.5545 - covertype_bernoulli_loss: 0.1103 - covertype_categorical1_loss: 2.7717 - covertype_categorical2_loss: 1.5533 - covertype_categorical3_loss: 0.4441 - covertype_categorical4_loss: 2.4162 - covertype_categorical5_loss: 3.2199 - covertype_categorical6_loss: 3.7336 - covertype_categorical7_loss: 1.2936 - covertype_categorical8_loss: 1.2568 - covertype_categorical9_loss: 1.5344 - covertype_categorical10_loss: 3.9794 - covertype_cls_categorical_accuracy: 0.8780 - val_loss: 14.0181 - val_covertype_cls_loss: 0.7527 - val_covertype_bernoulli_loss: 0.1647 - val_covertype_categorical1_loss: 4.1044 - val_covertype_categorical2_loss: 1.6402 - val_covertype_categorical3_loss: 0.4910 - val_covertype_categorical4_loss: 2.8331 - val_covertype_categorical5_loss: 3.5854 - val_covertype_categorical6_loss: 4.2740 - val_covertype_categorical7_loss: 1.4425 - val_covertype_categorical8_loss: 1.3417 - val_covertype_categorical9_loss: 1.7033 - val_covertype_categorical10_loss: 4.4316 - val_covertype_cls_categorical_accuracy: 0.7710\n",
      "Epoch 36/1000\n",
      "129/129 [==============================] - 25s 196ms/step - loss: 11.8930 - covertype_cls_loss: 0.5495 - covertype_bernoulli_loss: 0.1103 - covertype_categorical1_loss: 2.7623 - covertype_categorical2_loss: 1.5453 - covertype_categorical3_loss: 0.4296 - covertype_categorical4_loss: 2.3967 - covertype_categorical5_loss: 3.2013 - covertype_categorical6_loss: 3.7147 - covertype_categorical7_loss: 1.2786 - covertype_categorical8_loss: 1.2529 - covertype_categorical9_loss: 1.5256 - covertype_categorical10_loss: 3.9469 - covertype_cls_categorical_accuracy: 0.8807 - val_loss: 13.7068 - val_covertype_cls_loss: 0.7465 - val_covertype_bernoulli_loss: 0.1558 - val_covertype_categorical1_loss: 3.9978 - val_covertype_categorical2_loss: 1.6142 - val_covertype_categorical3_loss: 0.4484 - val_covertype_categorical4_loss: 2.7825 - val_covertype_categorical5_loss: 3.5448 - val_covertype_categorical6_loss: 4.1824 - val_covertype_categorical7_loss: 1.3954 - val_covertype_categorical8_loss: 1.2837 - val_covertype_categorical9_loss: 1.6706 - val_covertype_categorical10_loss: 4.3285 - val_covertype_cls_categorical_accuracy: 0.7739gorical2_loss: 1.5416 - covertype_categorical3_loss: 0.4278 - covertype_categorical4_loss: 2.3979 - covertype_categorical5_loss: 3.1997 - covertype_categorical6_loss: 3.7162 - covertype_categorical7_loss: 1.2786 - covertype_categorical8_loss: 1.2494 - covertype_categorical9_loss: 1.5242 - covertype\n",
      "Epoch 37/1000\n",
      "129/129 [==============================] - 26s 198ms/step - loss: 11.8547 - covertype_cls_loss: 0.5495 - covertype_bernoulli_loss: 0.1074 - covertype_categorical1_loss: 2.7439 - covertype_categorical2_loss: 1.5375 - covertype_categorical3_loss: 0.4236 - covertype_categorical4_loss: 2.4030 - covertype_categorical5_loss: 3.2097 - covertype_categorical6_loss: 3.6901 - covertype_categorical7_loss: 1.2759 - covertype_categorical8_loss: 1.2435 - covertype_categorical9_loss: 1.5278 - covertype_categorical10_loss: 3.9251 - covertype_cls_categorical_accuracy: 0.8806 - val_loss: 13.9541 - val_covertype_cls_loss: 0.7475 - val_covertype_bernoulli_loss: 0.1571 - val_covertype_categorical1_loss: 4.0997 - val_covertype_categorical2_loss: 1.6451 - val_covertype_categorical3_loss: 0.5417 - val_covertype_categorical4_loss: 2.8139 - val_covertype_categorical5_loss: 3.5919 - val_covertype_categorical6_loss: 4.2461 - val_covertype_categorical7_loss: 1.4141 - val_covertype_categorical8_loss: 1.3164 - val_covertype_categorical9_loss: 1.6941 - val_covertype_categorical10_loss: 4.3741 - val_covertype_cls_categorical_accuracy: 0.7740\n",
      "Epoch 38/1000\n",
      "129/129 [==============================] - 25s 195ms/step - loss: 11.7747 - covertype_cls_loss: 0.5452 - covertype_bernoulli_loss: 0.1056 - covertype_categorical1_loss: 2.7353 - covertype_categorical2_loss: 1.5347 - covertype_categorical3_loss: 0.4293 - covertype_categorical4_loss: 2.3668 - covertype_categorical5_loss: 3.1737 - covertype_categorical6_loss: 3.6618 - covertype_categorical7_loss: 1.2702 - covertype_categorical8_loss: 1.2421 - covertype_categorical9_loss: 1.5171 - covertype_categorical10_loss: 3.8988 - covertype_cls_categorical_accuracy: 0.8820 - val_loss: 13.5816 - val_covertype_cls_loss: 0.7369 - val_covertype_bernoulli_loss: 0.1474 - val_covertype_categorical1_loss: 3.9723 - val_covertype_categorical2_loss: 1.5942 - val_covertype_categorical3_loss: 0.4567 - val_covertype_categorical4_loss: 2.7656 - val_covertype_categorical5_loss: 3.5074 - val_covertype_categorical6_loss: 4.1385 - val_covertype_categorical7_loss: 1.3864 - val_covertype_categorical8_loss: 1.2779 - val_covertype_categorical9_loss: 1.6615 - val_covertype_categorical10_loss: 4.2637 - val_covertype_cls_categorical_accuracy: 0.7778\n",
      "Epoch 39/1000\n",
      "129/129 [==============================] - 27s 209ms/step - loss: 11.7120 - covertype_cls_loss: 0.5461 - covertype_bernoulli_loss: 0.1040 - covertype_categorical1_loss: 2.7163 - covertype_categorical2_loss: 1.5194 - covertype_categorical3_loss: 0.4302 - covertype_categorical4_loss: 2.3556 - covertype_categorical5_loss: 3.1586 - covertype_categorical6_loss: 3.6458 - covertype_categorical7_loss: 1.2680 - covertype_categorical8_loss: 1.2302 - covertype_categorical9_loss: 1.5111 - covertype_categorical10_loss: 3.8682 - covertype_cls_categorical_accuracy: 0.8817 - val_loss: 13.8673 - val_covertype_cls_loss: 0.7380 - val_covertype_bernoulli_loss: 0.1565 - val_covertype_categorical1_loss: 4.0621 - val_covertype_categorical2_loss: 1.6432 - val_covertype_categorical3_loss: 0.4758 - val_covertype_categorical4_loss: 2.8392 - val_covertype_categorical5_loss: 3.5548 - val_covertype_categorical6_loss: 4.2083 - val_covertype_categorical7_loss: 1.4335 - val_covertype_categorical8_loss: 1.3464 - val_covertype_categorical9_loss: 1.6945 - val_covertype_categorical10_loss: 4.3250 - val_covertype_cls_categorical_accuracy: 0.7784\n",
      "Epoch 40/1000\n",
      "129/129 [==============================] - 26s 199ms/step - loss: 11.6252 - covertype_cls_loss: 0.5429 - covertype_bernoulli_loss: 0.1025 - covertype_categorical1_loss: 2.7011 - covertype_categorical2_loss: 1.5091 - covertype_categorical3_loss: 0.4005 - covertype_categorical4_loss: 2.3527 - covertype_categorical5_loss: 3.1413 - covertype_categorical6_loss: 3.6218 - covertype_categorical7_loss: 1.2469 - covertype_categorical8_loss: 1.2193 - covertype_categorical9_loss: 1.5016 - covertype_categorical10_loss: 3.8420 - covertype_cls_categorical_accuracy: 0.8831 - val_loss: 13.4206 - val_covertype_cls_loss: 0.7228 - val_covertype_bernoulli_loss: 0.1473 - val_covertype_categorical1_loss: 3.9486 - val_covertype_categorical2_loss: 1.5648 - val_covertype_categorical3_loss: 0.4190 - val_covertype_categorical4_loss: 2.7314 - val_covertype_categorical5_loss: 3.4777 - val_covertype_categorical6_loss: 4.0933 - val_covertype_categorical7_loss: 1.3583 - val_covertype_categorical8_loss: 1.2677 - val_covertype_categorical9_loss: 1.6564 - val_covertype_categorical10_loss: 4.2112 - val_covertype_cls_categorical_accuracy: 0.7855\n",
      "Epoch 41/1000\n"
     ]
    },
    {
     "name": "stdout",
     "output_type": "stream",
     "text": [
      "129/129 [==============================] - 25s 197ms/step - loss: 11.5916 - covertype_cls_loss: 0.5394 - covertype_bernoulli_loss: 0.1018 - covertype_categorical1_loss: 2.6949 - covertype_categorical2_loss: 1.5122 - covertype_categorical3_loss: 0.4063 - covertype_categorical4_loss: 2.3336 - covertype_categorical5_loss: 3.1363 - covertype_categorical6_loss: 3.6089 - covertype_categorical7_loss: 1.2488 - covertype_categorical8_loss: 1.2147 - covertype_categorical9_loss: 1.4981 - covertype_categorical10_loss: 3.8226 - covertype_cls_categorical_accuracy: 0.8851 - val_loss: 13.8453 - val_covertype_cls_loss: 0.7332 - val_covertype_bernoulli_loss: 0.1548 - val_covertype_categorical1_loss: 4.0303 - val_covertype_categorical2_loss: 1.6633 - val_covertype_categorical3_loss: 0.5049 - val_covertype_categorical4_loss: 2.8325 - val_covertype_categorical5_loss: 3.5720 - val_covertype_categorical6_loss: 4.1715 - val_covertype_categorical7_loss: 1.4364 - val_covertype_categorical8_loss: 1.3304 - val_covertype_categorical9_loss: 1.7286 - val_covertype_categorical10_loss: 4.2824 - val_covertype_cls_categorical_accuracy: 0.7798\n",
      "Epoch 42/1000\n",
      "129/129 [==============================] - 26s 198ms/step - loss: 11.5433 - covertype_cls_loss: 0.5367 - covertype_bernoulli_loss: 0.0995 - covertype_categorical1_loss: 2.6800 - covertype_categorical2_loss: 1.5071 - covertype_categorical3_loss: 0.4089 - covertype_categorical4_loss: 2.3248 - covertype_categorical5_loss: 3.1247 - covertype_categorical6_loss: 3.5886 - covertype_categorical7_loss: 1.2470 - covertype_categorical8_loss: 1.2159 - covertype_categorical9_loss: 1.4944 - covertype_categorical10_loss: 3.7967 - covertype_cls_categorical_accuracy: 0.8864 - val_loss: 13.3147 - val_covertype_cls_loss: 0.7219 - val_covertype_bernoulli_loss: 0.1440 - val_covertype_categorical1_loss: 3.9216 - val_covertype_categorical2_loss: 1.5736 - val_covertype_categorical3_loss: 0.4112 - val_covertype_categorical4_loss: 2.7087 - val_covertype_categorical5_loss: 3.4784 - val_covertype_categorical6_loss: 4.0544 - val_covertype_categorical7_loss: 1.3451 - val_covertype_categorical8_loss: 1.2350 - val_covertype_categorical9_loss: 1.6264 - val_covertype_categorical10_loss: 4.1666 - val_covertype_cls_categorical_accuracy: 0.7856e_categorical3_loss: 0.4106 - covertype_categorical4_loss: 2.3228 - covertype_categorical5_loss: 3.1248 - covertype_categorical6_loss: 3.5890 - covertype_categorical7_loss: 1.2480 - covertype_categorical8_loss: 1.2175 - covertype_categorical9_loss: 1.4940 - covertype_categorical10_loss: 3.7975 - covertype_cls_catego\n",
      "Epoch 43/1000\n",
      "129/129 [==============================] - 26s 199ms/step - loss: 11.4517 - covertype_cls_loss: 0.5349 - covertype_bernoulli_loss: 0.0994 - covertype_categorical1_loss: 2.6680 - covertype_categorical2_loss: 1.4896 - covertype_categorical3_loss: 0.3862 - covertype_categorical4_loss: 2.3144 - covertype_categorical5_loss: 3.1014 - covertype_categorical6_loss: 3.5750 - covertype_categorical7_loss: 1.2282 - covertype_categorical8_loss: 1.1957 - covertype_categorical9_loss: 1.4793 - covertype_categorical10_loss: 3.7683 - covertype_cls_categorical_accuracy: 0.8870 - val_loss: 13.5857 - val_covertype_cls_loss: 0.7301 - val_covertype_bernoulli_loss: 0.1559 - val_covertype_categorical1_loss: 4.0068 - val_covertype_categorical2_loss: 1.6176 - val_covertype_categorical3_loss: 0.4337 - val_covertype_categorical4_loss: 2.7766 - val_covertype_categorical5_loss: 3.4895 - val_covertype_categorical6_loss: 4.1309 - val_covertype_categorical7_loss: 1.3937 - val_covertype_categorical8_loss: 1.2765 - val_covertype_categorical9_loss: 1.6896 - val_covertype_categorical10_loss: 4.2206 - val_covertype_cls_categorical_accuracy: 0.7829\n",
      "Epoch 44/1000\n",
      "129/129 [==============================] - 25s 196ms/step - loss: 11.4202 - covertype_cls_loss: 0.5314 - covertype_bernoulli_loss: 0.0963 - covertype_categorical1_loss: 2.6561 - covertype_categorical2_loss: 1.4879 - covertype_categorical3_loss: 0.3826 - covertype_categorical4_loss: 2.3010 - covertype_categorical5_loss: 3.0897 - covertype_categorical6_loss: 3.5571 - covertype_categorical7_loss: 1.2337 - covertype_categorical8_loss: 1.1989 - covertype_categorical9_loss: 1.4853 - covertype_categorical10_loss: 3.7612 - covertype_cls_categorical_accuracy: 0.8886 - val_loss: 13.1859 - val_covertype_cls_loss: 0.7181 - val_covertype_bernoulli_loss: 0.1432 - val_covertype_categorical1_loss: 3.8843 - val_covertype_categorical2_loss: 1.5520 - val_covertype_categorical3_loss: 0.3897 - val_covertype_categorical4_loss: 2.6756 - val_covertype_categorical5_loss: 3.4394 - val_covertype_categorical6_loss: 4.0183 - val_covertype_categorical7_loss: 1.3339 - val_covertype_categorical8_loss: 1.2342 - val_covertype_categorical9_loss: 1.6082 - val_covertype_categorical10_loss: 4.1362 - val_covertype_cls_categorical_accuracy: 0.7866\n",
      "Epoch 45/1000\n",
      "129/129 [==============================] - 26s 204ms/step - loss: 11.3509 - covertype_cls_loss: 0.5286 - covertype_bernoulli_loss: 0.0962 - covertype_categorical1_loss: 2.6402 - covertype_categorical2_loss: 1.4829 - covertype_categorical3_loss: 0.3821 - covertype_categorical4_loss: 2.2862 - covertype_categorical5_loss: 3.0692 - covertype_categorical6_loss: 3.5384 - covertype_categorical7_loss: 1.2194 - covertype_categorical8_loss: 1.1923 - covertype_categorical9_loss: 1.4724 - covertype_categorical10_loss: 3.7373 - covertype_cls_categorical_accuracy: 0.8904 - val_loss: 13.4294 - val_covertype_cls_loss: 0.7144 - val_covertype_bernoulli_loss: 0.1451 - val_covertype_categorical1_loss: 3.9986 - val_covertype_categorical2_loss: 1.5947 - val_covertype_categorical3_loss: 0.4158 - val_covertype_categorical4_loss: 2.7271 - val_covertype_categorical5_loss: 3.4552 - val_covertype_categorical6_loss: 4.0606 - val_covertype_categorical7_loss: 1.3879 - val_covertype_categorical8_loss: 1.2767 - val_covertype_categorical9_loss: 1.6522 - val_covertype_categorical10_loss: 4.1951 - val_covertype_cls_categorical_accuracy: 0.7904\n",
      "Epoch 46/1000\n",
      "129/129 [==============================] - 26s 199ms/step - loss: 11.2921 - covertype_cls_loss: 0.5271 - covertype_bernoulli_loss: 0.0946 - covertype_categorical1_loss: 2.6341 - covertype_categorical2_loss: 1.4760 - covertype_categorical3_loss: 0.3741 - covertype_categorical4_loss: 2.2666 - covertype_categorical5_loss: 3.0629 - covertype_categorical6_loss: 3.5173 - covertype_categorical7_loss: 1.2155 - covertype_categorical8_loss: 1.1790 - covertype_categorical9_loss: 1.4657 - covertype_categorical10_loss: 3.7143 - covertype_cls_categorical_accuracy: 0.8909 - val_loss: 13.0883 - val_covertype_cls_loss: 0.7047 - val_covertype_bernoulli_loss: 0.1395 - val_covertype_categorical1_loss: 3.8778 - val_covertype_categorical2_loss: 1.5348 - val_covertype_categorical3_loss: 0.4208 - val_covertype_categorical4_loss: 2.6654 - val_covertype_categorical5_loss: 3.4051 - val_covertype_categorical6_loss: 3.9901 - val_covertype_categorical7_loss: 1.3198 - val_covertype_categorical8_loss: 1.2113 - val_covertype_categorical9_loss: 1.5898 - val_covertype_categorical10_loss: 4.0897 - val_covertype_cls_categorical_accuracy: 0.7952\n",
      "Epoch 47/1000\n",
      "129/129 [==============================] - 27s 209ms/step - loss: 11.2361 - covertype_cls_loss: 0.5243 - covertype_bernoulli_loss: 0.0933 - covertype_categorical1_loss: 2.6223 - covertype_categorical2_loss: 1.4621 - covertype_categorical3_loss: 0.3649 - covertype_categorical4_loss: 2.2629 - covertype_categorical5_loss: 3.0429 - covertype_categorical6_loss: 3.5083 - covertype_categorical7_loss: 1.2114 - covertype_categorical8_loss: 1.1740 - covertype_categorical9_loss: 1.4526 - covertype_categorical10_loss: 3.6996 - covertype_cls_categorical_accuracy: 0.8923 - val_loss: 13.3607 - val_covertype_cls_loss: 0.7125 - val_covertype_bernoulli_loss: 0.1432 - val_covertype_categorical1_loss: 3.9879 - val_covertype_categorical2_loss: 1.5727 - val_covertype_categorical3_loss: 0.3994 - val_covertype_categorical4_loss: 2.7480 - val_covertype_categorical5_loss: 3.4433 - val_covertype_categorical6_loss: 4.0559 - val_covertype_categorical7_loss: 1.3895 - val_covertype_categorical8_loss: 1.2406 - val_covertype_categorical9_loss: 1.6334 - val_covertype_categorical10_loss: 4.1593 - val_covertype_cls_categorical_accuracy: 0.7928\n",
      "Epoch 48/1000\n",
      "129/129 [==============================] - 26s 202ms/step - loss: 11.2058 - covertype_cls_loss: 0.5253 - covertype_bernoulli_loss: 0.0928 - covertype_categorical1_loss: 2.6112 - covertype_categorical2_loss: 1.4674 - covertype_categorical3_loss: 0.3564 - covertype_categorical4_loss: 2.2568 - covertype_categorical5_loss: 3.0285 - covertype_categorical6_loss: 3.4948 - covertype_categorical7_loss: 1.2151 - covertype_categorical8_loss: 1.1707 - covertype_categorical9_loss: 1.4579 - covertype_categorical10_loss: 3.6785 - covertype_cls_categorical_accuracy: 0.8918 - val_loss: 12.9954 - val_covertype_cls_loss: 0.7110 - val_covertype_bernoulli_loss: 0.1320 - val_covertype_categorical1_loss: 3.8512 - val_covertype_categorical2_loss: 1.5367 - val_covertype_categorical3_loss: 0.3835 - val_covertype_categorical4_loss: 2.6520 - val_covertype_categorical5_loss: 3.3652 - val_covertype_categorical6_loss: 3.9551 - val_covertype_categorical7_loss: 1.3224 - val_covertype_categorical8_loss: 1.2063 - val_covertype_categorical9_loss: 1.5917 - val_covertype_categorical10_loss: 4.0501 - val_covertype_cls_categorical_accuracy: 0.7925\n",
      "Epoch 49/1000\n",
      "129/129 [==============================] - 25s 194ms/step - loss: 11.1707 - covertype_cls_loss: 0.5217 - covertype_bernoulli_loss: 0.0909 - covertype_categorical1_loss: 2.6054 - covertype_categorical2_loss: 1.4541 - covertype_categorical3_loss: 0.3702 - covertype_categorical4_loss: 2.2528 - covertype_categorical5_loss: 3.0207 - covertype_categorical6_loss: 3.4835 - covertype_categorical7_loss: 1.2069 - covertype_categorical8_loss: 1.1676 - covertype_categorical9_loss: 1.4564 - covertype_categorical10_loss: 3.6590 - covertype_cls_categorical_accuracy: 0.8930 - val_loss: 13.2436 - val_covertype_cls_loss: 0.7138 - val_covertype_bernoulli_loss: 0.1354 - val_covertype_categorical1_loss: 3.9502 - val_covertype_categorical2_loss: 1.5827 - val_covertype_categorical3_loss: 0.4048 - val_covertype_categorical4_loss: 2.6716 - val_covertype_categorical5_loss: 3.3881 - val_covertype_categorical6_loss: 4.0001 - val_covertype_categorical7_loss: 1.3957 - val_covertype_categorical8_loss: 1.2433 - val_covertype_categorical9_loss: 1.6400 - val_covertype_categorical10_loss: 4.1270 - val_covertype_cls_categorical_accuracy: 0.7916\n",
      "Epoch 50/1000\n",
      "129/129 [==============================] - 26s 200ms/step - loss: 11.1246 - covertype_cls_loss: 0.5202 - covertype_bernoulli_loss: 0.0898 - covertype_categorical1_loss: 2.5894 - covertype_categorical2_loss: 1.4642 - covertype_categorical3_loss: 0.3804 - covertype_categorical4_loss: 2.2199 - covertype_categorical5_loss: 3.0059 - covertype_categorical6_loss: 3.4656 - covertype_categorical7_loss: 1.2031 - covertype_categorical8_loss: 1.1647 - covertype_categorical9_loss: 1.4504 - covertype_categorical10_loss: 3.6446 - covertype_cls_categorical_accuracy: 0.8944 - val_loss: 12.8591 - val_covertype_cls_loss: 0.7033 - val_covertype_bernoulli_loss: 0.1267 - val_covertype_categorical1_loss: 3.8225 - val_covertype_categorical2_loss: 1.5151 - val_covertype_categorical3_loss: 0.3816 - val_covertype_categorical4_loss: 2.6018 - val_covertype_categorical5_loss: 3.3236 - val_covertype_categorical6_loss: 3.9235 - val_covertype_categorical7_loss: 1.3040 - val_covertype_categorical8_loss: 1.1971 - val_covertype_categorical9_loss: 1.5823 - val_covertype_categorical10_loss: 4.0110 - val_covertype_cls_categorical_accuracy: 0.7975\n",
      "Epoch 51/1000\n",
      "129/129 [==============================] - 26s 201ms/step - loss: 11.0964 - covertype_cls_loss: 0.5184 - covertype_bernoulli_loss: 0.0893 - covertype_categorical1_loss: 2.5932 - covertype_categorical2_loss: 1.4387 - covertype_categorical3_loss: 0.3473 - covertype_categorical4_loss: 2.2785 - covertype_categorical5_loss: 3.0224 - covertype_categorical6_loss: 3.4536 - covertype_categorical7_loss: 1.1880 - covertype_categorical8_loss: 1.1504 - covertype_categorical9_loss: 1.4356 - covertype_categorical10_loss: 3.6278 - covertype_cls_categorical_accuracy: 0.8948 - val_loss: 13.1561 - val_covertype_cls_loss: 0.7060 - val_covertype_bernoulli_loss: 0.1305 - val_covertype_categorical1_loss: 3.9241 - val_covertype_categorical2_loss: 1.5794 - val_covertype_categorical3_loss: 0.3953 - val_covertype_categorical4_loss: 2.6630 - val_covertype_categorical5_loss: 3.4014 - val_covertype_categorical6_loss: 3.9783 - val_covertype_categorical7_loss: 1.3435 - val_covertype_categorical8_loss: 1.2324 - val_covertype_categorical9_loss: 1.6358 - val_covertype_categorical10_loss: 4.0963 - val_covertype_cls_categorical_accuracy: 0.7945\n",
      "Epoch 52/1000\n",
      "129/129 [==============================] - 27s 208ms/step - loss: 11.0082 - covertype_cls_loss: 0.5149 - covertype_bernoulli_loss: 0.0888 - covertype_categorical1_loss: 2.5751 - covertype_categorical2_loss: 1.4393 - covertype_categorical3_loss: 0.3471 - covertype_categorical4_loss: 2.2047 - covertype_categorical5_loss: 2.9737 - covertype_categorical6_loss: 3.4395 - covertype_categorical7_loss: 1.1912 - covertype_categorical8_loss: 1.1444 - covertype_categorical9_loss: 1.4379 - covertype_categorical10_loss: 3.6130 - covertype_cls_categorical_accuracy: 0.8971 - val_loss: 12.7699 - val_covertype_cls_loss: 0.6954 - val_covertype_bernoulli_loss: 0.1301 - val_covertype_categorical1_loss: 3.7966 - val_covertype_categorical2_loss: 1.5249 - val_covertype_categorical3_loss: 0.3688 - val_covertype_categorical4_loss: 2.5790 - val_covertype_categorical5_loss: 3.2984 - val_covertype_categorical6_loss: 3.8902 - val_covertype_categorical7_loss: 1.2991 - val_covertype_categorical8_loss: 1.1827 - val_covertype_categorical9_loss: 1.5739 - val_covertype_categorical10_loss: 3.9825 - val_covertype_cls_categorical_accuracy: 0.8010\n",
      "Epoch 53/1000\n",
      "129/129 [==============================] - 26s 204ms/step - loss: 10.9488 - covertype_cls_loss: 0.5133 - covertype_bernoulli_loss: 0.0861 - covertype_categorical1_loss: 2.5669 - covertype_categorical2_loss: 1.4305 - covertype_categorical3_loss: 0.3389 - covertype_categorical4_loss: 2.1924 - covertype_categorical5_loss: 2.9635 - covertype_categorical6_loss: 3.4242 - covertype_categorical7_loss: 1.1792 - covertype_categorical8_loss: 1.1388 - covertype_categorical9_loss: 1.4276 - covertype_categorical10_loss: 3.5907 - covertype_cls_categorical_accuracy: 0.8977 - val_loss: 13.2564 - val_covertype_cls_loss: 0.6967 - val_covertype_bernoulli_loss: 0.1289 - val_covertype_categorical1_loss: 3.8809 - val_covertype_categorical2_loss: 1.5827 - val_covertype_categorical3_loss: 0.5348 - val_covertype_categorical4_loss: 2.6475 - val_covertype_categorical5_loss: 3.3751 - val_covertype_categorical6_loss: 3.9871 - val_covertype_categorical7_loss: 1.3897 - val_covertype_categorical8_loss: 1.2771 - val_covertype_categorical9_loss: 1.7343 - val_covertype_categorical10_loss: 4.0585 - val_covertype_cls_categorical_accuracy: 0.7994\n",
      "Epoch 54/1000\n"
     ]
    },
    {
     "name": "stdout",
     "output_type": "stream",
     "text": [
      "129/129 [==============================] - 26s 204ms/step - loss: 10.9470 - covertype_cls_loss: 0.5128 - covertype_bernoulli_loss: 0.0859 - covertype_categorical1_loss: 2.5533 - covertype_categorical2_loss: 1.4361 - covertype_categorical3_loss: 0.3523 - covertype_categorical4_loss: 2.1836 - covertype_categorical5_loss: 2.9501 - covertype_categorical6_loss: 3.4132 - covertype_categorical7_loss: 1.1904 - covertype_categorical8_loss: 1.1415 - covertype_categorical9_loss: 1.4452 - covertype_categorical10_loss: 3.5832 - covertype_cls_categorical_accuracy: 0.8981 - val_loss: 12.7070 - val_covertype_cls_loss: 0.6935 - val_covertype_bernoulli_loss: 0.1199 - val_covertype_categorical1_loss: 3.7852 - val_covertype_categorical2_loss: 1.5248 - val_covertype_categorical3_loss: 0.3558 - val_covertype_categorical4_loss: 2.5606 - val_covertype_categorical5_loss: 3.2852 - val_covertype_categorical6_loss: 3.8680 - val_covertype_categorical7_loss: 1.3003 - val_covertype_categorical8_loss: 1.1728 - val_covertype_categorical9_loss: 1.5677 - val_covertype_categorical10_loss: 3.9626 - val_covertype_cls_categorical_accuracy: 0.8040\n",
      "Epoch 55/1000\n",
      "129/129 [==============================] - 25s 196ms/step - loss: 10.8767 - covertype_cls_loss: 0.5125 - covertype_bernoulli_loss: 0.0843 - covertype_categorical1_loss: 2.5467 - covertype_categorical2_loss: 1.4237 - covertype_categorical3_loss: 0.3378 - covertype_categorical4_loss: 2.1755 - covertype_categorical5_loss: 2.9403 - covertype_categorical6_loss: 3.4000 - covertype_categorical7_loss: 1.1664 - covertype_categorical8_loss: 1.1340 - covertype_categorical9_loss: 1.4146 - covertype_categorical10_loss: 3.5724 - covertype_cls_categorical_accuracy: 0.8975 - val_loss: 13.0626 - val_covertype_cls_loss: 0.6910 - val_covertype_bernoulli_loss: 0.1286 - val_covertype_categorical1_loss: 3.8996 - val_covertype_categorical2_loss: 1.5552 - val_covertype_categorical3_loss: 0.4581 - val_covertype_categorical4_loss: 2.6333 - val_covertype_categorical5_loss: 3.3864 - val_covertype_categorical6_loss: 3.9308 - val_covertype_categorical7_loss: 1.3532 - val_covertype_categorical8_loss: 1.2186 - val_covertype_categorical9_loss: 1.6213 - val_covertype_categorical10_loss: 4.0334 - val_covertype_cls_categorical_accuracy: 0.8043\n",
      "Epoch 56/1000\n",
      "129/129 [==============================] - 27s 209ms/step - loss: 10.8710 - covertype_cls_loss: 0.5076 - covertype_bernoulli_loss: 0.0837 - covertype_categorical1_loss: 2.5438 - covertype_categorical2_loss: 1.4223 - covertype_categorical3_loss: 0.3390 - covertype_categorical4_loss: 2.1867 - covertype_categorical5_loss: 2.9333 - covertype_categorical6_loss: 3.3962 - covertype_categorical7_loss: 1.1737 - covertype_categorical8_loss: 1.1361 - covertype_categorical9_loss: 1.4230 - covertype_categorical10_loss: 3.5560 - covertype_cls_categorical_accuracy: 0.9010 - val_loss: 12.6134 - val_covertype_cls_loss: 0.6828 - val_covertype_bernoulli_loss: 0.1159 - val_covertype_categorical1_loss: 3.7529 - val_covertype_categorical2_loss: 1.4941 - val_covertype_categorical3_loss: 0.3573 - val_covertype_categorical4_loss: 2.5572 - val_covertype_categorical5_loss: 3.2447 - val_covertype_categorical6_loss: 3.8399 - val_covertype_categorical7_loss: 1.3080 - val_covertype_categorical8_loss: 1.1760 - val_covertype_categorical9_loss: 1.5546 - val_covertype_categorical10_loss: 3.9373 - val_covertype_cls_categorical_accuracy: 0.8081\n",
      "Epoch 57/1000\n",
      "129/129 [==============================] - 26s 202ms/step - loss: 10.7884 - covertype_cls_loss: 0.5066 - covertype_bernoulli_loss: 0.0835 - covertype_categorical1_loss: 2.5244 - covertype_categorical2_loss: 1.4132 - covertype_categorical3_loss: 0.3349 - covertype_categorical4_loss: 2.1518 - covertype_categorical5_loss: 2.9129 - covertype_categorical6_loss: 3.3740 - covertype_categorical7_loss: 1.1671 - covertype_categorical8_loss: 1.1254 - covertype_categorical9_loss: 1.4121 - covertype_categorical10_loss: 3.5297 - covertype_cls_categorical_accuracy: 0.9010 - val_loss: 12.9109 - val_covertype_cls_loss: 0.6844 - val_covertype_bernoulli_loss: 0.1246 - val_covertype_categorical1_loss: 3.8810 - val_covertype_categorical2_loss: 1.5498 - val_covertype_categorical3_loss: 0.4307 - val_covertype_categorical4_loss: 2.5997 - val_covertype_categorical5_loss: 3.2936 - val_covertype_categorical6_loss: 3.8944 - val_covertype_categorical7_loss: 1.3122 - val_covertype_categorical8_loss: 1.2234 - val_covertype_categorical9_loss: 1.6330 - val_covertype_categorical10_loss: 3.9864 - val_covertype_cls_categorical_accuracy: 0.8077\n",
      "Epoch 58/1000\n",
      "129/129 [==============================] - 26s 202ms/step - loss: 10.7882 - covertype_cls_loss: 0.5057 - covertype_bernoulli_loss: 0.0822 - covertype_categorical1_loss: 2.5270 - covertype_categorical2_loss: 1.4071 - covertype_categorical3_loss: 0.3265 - covertype_categorical4_loss: 2.1822 - covertype_categorical5_loss: 2.9235 - covertype_categorical6_loss: 3.3777 - covertype_categorical7_loss: 1.1553 - covertype_categorical8_loss: 1.1139 - covertype_categorical9_loss: 1.4074 - covertype_categorical10_loss: 3.5276 - covertype_cls_categorical_accuracy: 0.9018 - val_loss: 12.6658 - val_covertype_cls_loss: 0.6834 - val_covertype_bernoulli_loss: 0.1129 - val_covertype_categorical1_loss: 3.7662 - val_covertype_categorical2_loss: 1.5031 - val_covertype_categorical3_loss: 0.3591 - val_covertype_categorical4_loss: 2.5928 - val_covertype_categorical5_loss: 3.2913 - val_covertype_categorical6_loss: 3.8389 - val_covertype_categorical7_loss: 1.3010 - val_covertype_categorical8_loss: 1.1693 - val_covertype_categorical9_loss: 1.5790 - val_covertype_categorical10_loss: 3.9281 - val_covertype_cls_categorical_accuracy: 0.8059\n",
      "Epoch 59/1000\n",
      "129/129 [==============================] - 26s 201ms/step - loss: 10.7517 - covertype_cls_loss: 0.5050 - covertype_bernoulli_loss: 0.0805 - covertype_categorical1_loss: 2.5161 - covertype_categorical2_loss: 1.4110 - covertype_categorical3_loss: 0.3378 - covertype_categorical4_loss: 2.1474 - covertype_categorical5_loss: 2.8932 - covertype_categorical6_loss: 3.3563 - covertype_categorical7_loss: 1.1658 - covertype_categorical8_loss: 1.1222 - covertype_categorical9_loss: 1.4224 - covertype_categorical10_loss: 3.5064 - covertype_cls_categorical_accuracy: 0.9013 - val_loss: 12.8378 - val_covertype_cls_loss: 0.6859 - val_covertype_bernoulli_loss: 0.1227 - val_covertype_categorical1_loss: 3.8442 - val_covertype_categorical2_loss: 1.5490 - val_covertype_categorical3_loss: 0.3814 - val_covertype_categorical4_loss: 2.5852 - val_covertype_categorical5_loss: 3.2758 - val_covertype_categorical6_loss: 3.8849 - val_covertype_categorical7_loss: 1.3247 - val_covertype_categorical8_loss: 1.2354 - val_covertype_categorical9_loss: 1.6031 - val_covertype_categorical10_loss: 3.9747 - val_covertype_cls_categorical_accuracy: 0.8064\n",
      "Epoch 60/1000\n",
      "129/129 [==============================] - 25s 197ms/step - loss: 10.6773 - covertype_cls_loss: 0.5023 - covertype_bernoulli_loss: 0.0810 - covertype_categorical1_loss: 2.4952 - covertype_categorical2_loss: 1.4041 - covertype_categorical3_loss: 0.3271 - covertype_categorical4_loss: 2.1139 - covertype_categorical5_loss: 2.8694 - covertype_categorical6_loss: 3.3363 - covertype_categorical7_loss: 1.1636 - covertype_categorical8_loss: 1.1131 - covertype_categorical9_loss: 1.4216 - covertype_categorical10_loss: 3.4884 - covertype_cls_categorical_accuracy: 0.9029 - val_loss: 12.4439 - val_covertype_cls_loss: 0.6737 - val_covertype_bernoulli_loss: 0.1148 - val_covertype_categorical1_loss: 3.7396 - val_covertype_categorical2_loss: 1.4812 - val_covertype_categorical3_loss: 0.3339 - val_covertype_categorical4_loss: 2.5106 - val_covertype_categorical5_loss: 3.2032 - val_covertype_categorical6_loss: 3.7911 - val_covertype_categorical7_loss: 1.2581 - val_covertype_categorical8_loss: 1.1613 - val_covertype_categorical9_loss: 1.5287 - val_covertype_categorical10_loss: 3.8909 - val_covertype_cls_categorical_accuracy: 0.8114\n",
      "Epoch 61/1000\n",
      "129/129 [==============================] - 27s 209ms/step - loss: 10.6596 - covertype_cls_loss: 0.5005 - covertype_bernoulli_loss: 0.0785 - covertype_categorical1_loss: 2.4951 - covertype_categorical2_loss: 1.4003 - covertype_categorical3_loss: 0.3109 - covertype_categorical4_loss: 2.1282 - covertype_categorical5_loss: 2.8811 - covertype_categorical6_loss: 3.3402 - covertype_categorical7_loss: 1.1482 - covertype_categorical8_loss: 1.1092 - covertype_categorical9_loss: 1.4026 - covertype_categorical10_loss: 3.4882 - covertype_cls_categorical_accuracy: 0.9041 - val_loss: 12.6509 - val_covertype_cls_loss: 0.6807 - val_covertype_bernoulli_loss: 0.1171 - val_covertype_categorical1_loss: 3.8026 - val_covertype_categorical2_loss: 1.5104 - val_covertype_categorical3_loss: 0.3316 - val_covertype_categorical4_loss: 2.5399 - val_covertype_categorical5_loss: 3.2727 - val_covertype_categorical6_loss: 3.8712 - val_covertype_categorical7_loss: 1.2706 - val_covertype_categorical8_loss: 1.1845 - val_covertype_categorical9_loss: 1.6009 - val_covertype_categorical10_loss: 3.9131 - val_covertype_cls_categorical_accuracy: 0.8097\n",
      "Epoch 62/1000\n",
      "129/129 [==============================] - 27s 207ms/step - loss: 10.6067 - covertype_cls_loss: 0.4989 - covertype_bernoulli_loss: 0.0788 - covertype_categorical1_loss: 2.4842 - covertype_categorical2_loss: 1.3907 - covertype_categorical3_loss: 0.3113 - covertype_categorical4_loss: 2.1139 - covertype_categorical5_loss: 2.8638 - covertype_categorical6_loss: 3.3221 - covertype_categorical7_loss: 1.1400 - covertype_categorical8_loss: 1.1016 - covertype_categorical9_loss: 1.3995 - covertype_categorical10_loss: 3.4730 - covertype_cls_categorical_accuracy: 0.9043 - val_loss: 12.3441 - val_covertype_cls_loss: 0.6735 - val_covertype_bernoulli_loss: 0.1125 - val_covertype_categorical1_loss: 3.7172 - val_covertype_categorical2_loss: 1.4659 - val_covertype_categorical3_loss: 0.3214 - val_covertype_categorical4_loss: 2.4814 - val_covertype_categorical5_loss: 3.1804 - val_covertype_categorical6_loss: 3.7624 - val_covertype_categorical7_loss: 1.2498 - val_covertype_categorical8_loss: 1.1367 - val_covertype_categorical9_loss: 1.5227 - val_covertype_categorical10_loss: 3.8646 - val_covertype_cls_categorical_accuracy: 0.8119\n",
      "Epoch 63/1000\n",
      "129/129 [==============================] - 27s 205ms/step - loss: 10.5573 - covertype_cls_loss: 0.5012 - covertype_bernoulli_loss: 0.0781 - covertype_categorical1_loss: 2.4778 - covertype_categorical2_loss: 1.3791 - covertype_categorical3_loss: 0.3142 - covertype_categorical4_loss: 2.0989 - covertype_categorical5_loss: 2.8453 - covertype_categorical6_loss: 3.3173 - covertype_categorical7_loss: 1.1284 - covertype_categorical8_loss: 1.0881 - covertype_categorical9_loss: 1.3798 - covertype_categorical10_loss: 3.4678 - covertype_cls_categorical_accuracy: 0.9027 - val_loss: 12.7892 - val_covertype_cls_loss: 0.6847 - val_covertype_bernoulli_loss: 0.1215 - val_covertype_categorical1_loss: 3.8221 - val_covertype_categorical2_loss: 1.5286 - val_covertype_categorical3_loss: 0.3881 - val_covertype_categorical4_loss: 2.5820 - val_covertype_categorical5_loss: 3.2831 - val_covertype_categorical6_loss: 3.8789 - val_covertype_categorical7_loss: 1.3314 - val_covertype_categorical8_loss: 1.1817 - val_covertype_categorical9_loss: 1.6018 - val_covertype_categorical10_loss: 3.9634 - val_covertype_cls_categorical_accuracy: 0.8059\n",
      "Epoch 64/1000\n",
      "129/129 [==============================] - 27s 209ms/step - loss: 10.5732 - covertype_cls_loss: 0.4975 - covertype_bernoulli_loss: 0.0774 - covertype_categorical1_loss: 2.4755 - covertype_categorical2_loss: 1.3862 - covertype_categorical3_loss: 0.3182 - covertype_categorical4_loss: 2.1126 - covertype_categorical5_loss: 2.8513 - covertype_categorical6_loss: 3.3051 - covertype_categorical7_loss: 1.1418 - covertype_categorical8_loss: 1.0972 - covertype_categorical9_loss: 1.3940 - covertype_categorical10_loss: 3.4564 - covertype_cls_categorical_accuracy: 0.9047 - val_loss: 12.2928 - val_covertype_cls_loss: 0.6697 - val_covertype_bernoulli_loss: 0.1093 - val_covertype_categorical1_loss: 3.6973 - val_covertype_categorical2_loss: 1.4603 - val_covertype_categorical3_loss: 0.3187 - val_covertype_categorical4_loss: 2.4761 - val_covertype_categorical5_loss: 3.1748 - val_covertype_categorical6_loss: 3.7493 - val_covertype_categorical7_loss: 1.2383 - val_covertype_categorical8_loss: 1.1341 - val_covertype_categorical9_loss: 1.5248 - val_covertype_categorical10_loss: 3.8370 - val_covertype_cls_categorical_accuracy: 0.8158\n",
      "Epoch 65/1000\n",
      "129/129 [==============================] - 27s 207ms/step - loss: 10.5298 - covertype_cls_loss: 0.4961 - covertype_bernoulli_loss: 0.0761 - covertype_categorical1_loss: 2.4643 - covertype_categorical2_loss: 1.3797 - covertype_categorical3_loss: 0.3329 - covertype_categorical4_loss: 2.0900 - covertype_categorical5_loss: 2.8350 - covertype_categorical6_loss: 3.2827 - covertype_categorical7_loss: 1.1411 - covertype_categorical8_loss: 1.0960 - covertype_categorical9_loss: 1.3956 - covertype_categorical10_loss: 3.4366 - covertype_cls_categorical_accuracy: 0.9055 - val_loss: 12.7227 - val_covertype_cls_loss: 0.6680 - val_covertype_bernoulli_loss: 0.1253 - val_covertype_categorical1_loss: 3.8485 - val_covertype_categorical2_loss: 1.5250 - val_covertype_categorical3_loss: 0.3481 - val_covertype_categorical4_loss: 2.5321 - val_covertype_categorical5_loss: 3.2360 - val_covertype_categorical6_loss: 3.8578 - val_covertype_categorical7_loss: 1.3652 - val_covertype_categorical8_loss: 1.2032 - val_covertype_categorical9_loss: 1.6118 - val_covertype_categorical10_loss: 3.9293 - val_covertype_cls_categorical_accuracy: 0.8129\n",
      "Epoch 66/1000\n",
      "129/129 [==============================] - 26s 203ms/step - loss: 10.4451 - covertype_cls_loss: 0.4941 - covertype_bernoulli_loss: 0.0756 - covertype_categorical1_loss: 2.4534 - covertype_categorical2_loss: 1.3709 - covertype_categorical3_loss: 0.2984 - covertype_categorical4_loss: 2.0715 - covertype_categorical5_loss: 2.8084 - covertype_categorical6_loss: 3.2815 - covertype_categorical7_loss: 1.1237 - covertype_categorical8_loss: 1.0743 - covertype_categorical9_loss: 1.3749 - covertype_categorical10_loss: 3.4311 - covertype_cls_categorical_accuracy: 0.9066 - val_loss: 12.2491 - val_covertype_cls_loss: 0.6605 - val_covertype_bernoulli_loss: 0.1097 - val_covertype_categorical1_loss: 3.6631 - val_covertype_categorical2_loss: 1.4667 - val_covertype_categorical3_loss: 0.3334 - val_covertype_categorical4_loss: 2.4673 - val_covertype_categorical5_loss: 3.1375 - val_covertype_categorical6_loss: 3.7325 - val_covertype_categorical7_loss: 1.2442 - val_covertype_categorical8_loss: 1.1352 - val_covertype_categorical9_loss: 1.5430 - val_covertype_categorical10_loss: 3.8167 - val_covertype_cls_categorical_accuracy: 0.8187\n",
      "Epoch 67/1000\n",
      "129/129 [==============================] - 26s 202ms/step - loss: 10.4375 - covertype_cls_loss: 0.4964 - covertype_bernoulli_loss: 0.0754 - covertype_categorical1_loss: 2.4477 - covertype_categorical2_loss: 1.3854 - covertype_categorical3_loss: 0.2920 - covertype_categorical4_loss: 2.0593 - covertype_categorical5_loss: 2.7995 - covertype_categorical6_loss: 3.2714 - covertype_categorical7_loss: 1.1329 - covertype_categorical8_loss: 1.0779 - covertype_categorical9_loss: 1.3837 - covertype_categorical10_loss: 3.4179 - covertype_cls_categorical_accuracy: 0.9055 - val_loss: 12.4684 - val_covertype_cls_loss: 0.6706 - val_covertype_bernoulli_loss: 0.1078 - val_covertype_categorical1_loss: 3.7881 - val_covertype_categorical2_loss: 1.4925 - val_covertype_categorical3_loss: 0.3206 - val_covertype_categorical4_loss: 2.5131 - val_covertype_categorical5_loss: 3.1689 - val_covertype_categorical6_loss: 3.7833 - val_covertype_categorical7_loss: 1.2736 - val_covertype_categorical8_loss: 1.1746 - val_covertype_categorical9_loss: 1.5458 - val_covertype_categorical10_loss: 3.8993 - val_covertype_cls_categorical_accuracy: 0.8139\n",
      "Epoch 68/1000\n"
     ]
    },
    {
     "name": "stdout",
     "output_type": "stream",
     "text": [
      "129/129 [==============================] - 25s 197ms/step - loss: 10.4922 - covertype_cls_loss: 0.4943 - covertype_bernoulli_loss: 0.0753 - covertype_categorical1_loss: 2.4489 - covertype_categorical2_loss: 1.3756 - covertype_categorical3_loss: 0.3044 - covertype_categorical4_loss: 2.1377 - covertype_categorical5_loss: 2.8396 - covertype_categorical6_loss: 3.2656 - covertype_categorical7_loss: 1.1256 - covertype_categorical8_loss: 1.0833 - covertype_categorical9_loss: 1.3770 - covertype_categorical10_loss: 3.4254 - covertype_cls_categorical_accuracy: 0.9065 - val_loss: 12.1787 - val_covertype_cls_loss: 0.6640 - val_covertype_bernoulli_loss: 0.1062 - val_covertype_categorical1_loss: 3.6573 - val_covertype_categorical2_loss: 1.4453 - val_covertype_categorical3_loss: 0.3265 - val_covertype_categorical4_loss: 2.4451 - val_covertype_categorical5_loss: 3.1281 - val_covertype_categorical6_loss: 3.7105 - val_covertype_categorical7_loss: 1.2398 - val_covertype_categorical8_loss: 1.1161 - val_covertype_categorical9_loss: 1.5124 - val_covertype_categorical10_loss: 3.8155 - val_covertype_cls_categorical_accuracy: 0.8181\n",
      "Epoch 69/1000\n",
      "129/129 [==============================] - 25s 193ms/step - loss: 10.3817 - covertype_cls_loss: 0.4903 - covertype_bernoulli_loss: 0.0732 - covertype_categorical1_loss: 2.4316 - covertype_categorical2_loss: 1.3722 - covertype_categorical3_loss: 0.2939 - covertype_categorical4_loss: 2.0491 - covertype_categorical5_loss: 2.7860 - covertype_categorical6_loss: 3.2475 - covertype_categorical7_loss: 1.1255 - covertype_categorical8_loss: 1.0789 - covertype_categorical9_loss: 1.3863 - covertype_categorical10_loss: 3.4005 - covertype_cls_categorical_accuracy: 0.9086 - val_loss: 12.5324 - val_covertype_cls_loss: 0.6609 - val_covertype_bernoulli_loss: 0.1050 - val_covertype_categorical1_loss: 3.8095 - val_covertype_categorical2_loss: 1.5221 - val_covertype_categorical3_loss: 0.3454 - val_covertype_categorical4_loss: 2.5144 - val_covertype_categorical5_loss: 3.1948 - val_covertype_categorical6_loss: 3.7970 - val_covertype_categorical7_loss: 1.3006 - val_covertype_categorical8_loss: 1.1625 - val_covertype_categorical9_loss: 1.5727 - val_covertype_categorical10_loss: 3.8922 - val_covertype_cls_categorical_accuracy: 0.8177\n",
      "Epoch 70/1000\n",
      "129/129 [==============================] - 26s 204ms/step - loss: 10.3197 - covertype_cls_loss: 0.4868 - covertype_bernoulli_loss: 0.0724 - covertype_categorical1_loss: 2.4293 - covertype_categorical2_loss: 1.3498 - covertype_categorical3_loss: 0.2869 - covertype_categorical4_loss: 2.0512 - covertype_categorical5_loss: 2.7714 - covertype_categorical6_loss: 3.2418 - covertype_categorical7_loss: 1.1089 - covertype_categorical8_loss: 1.0639 - covertype_categorical9_loss: 1.3618 - covertype_categorical10_loss: 3.3892 - covertype_cls_categorical_accuracy: 0.9104 - val_loss: 12.0761 - val_covertype_cls_loss: 0.6556 - val_covertype_bernoulli_loss: 0.1047 - val_covertype_categorical1_loss: 3.6548 - val_covertype_categorical2_loss: 1.4221 - val_covertype_categorical3_loss: 0.2867 - val_covertype_categorical4_loss: 2.4356 - val_covertype_categorical5_loss: 3.0825 - val_covertype_categorical6_loss: 3.6896 - val_covertype_categorical7_loss: 1.2313 - val_covertype_categorical8_loss: 1.1110 - val_covertype_categorical9_loss: 1.5051 - val_covertype_categorical10_loss: 3.7902 - val_covertype_cls_categorical_accuracy: 0.8220\n",
      "Epoch 71/1000\n",
      "129/129 [==============================] - 29s 224ms/step - loss: 10.3070 - covertype_cls_loss: 0.4886 - covertype_bernoulli_loss: 0.0716 - covertype_categorical1_loss: 2.4179 - covertype_categorical2_loss: 1.3569 - covertype_categorical3_loss: 0.2770 - covertype_categorical4_loss: 2.0446 - covertype_categorical5_loss: 2.7670 - covertype_categorical6_loss: 3.2330 - covertype_categorical7_loss: 1.1112 - covertype_categorical8_loss: 1.0716 - covertype_categorical9_loss: 1.3632 - covertype_categorical10_loss: 3.3837 - covertype_cls_categorical_accuracy: 0.9093 - val_loss: 12.4206 - val_covertype_cls_loss: 0.6698 - val_covertype_bernoulli_loss: 0.1009 - val_covertype_categorical1_loss: 3.7631 - val_covertype_categorical2_loss: 1.4785 - val_covertype_categorical3_loss: 0.3108 - val_covertype_categorical4_loss: 2.4832 - val_covertype_categorical5_loss: 3.1869 - val_covertype_categorical6_loss: 3.7570 - val_covertype_categorical7_loss: 1.2884 - val_covertype_categorical8_loss: 1.1574 - val_covertype_categorical9_loss: 1.5650 - val_covertype_categorical10_loss: 3.8838 - val_covertype_cls_categorical_accuracy: 0.8133\n",
      "Epoch 72/1000\n",
      "129/129 [==============================] - 29s 223ms/step - loss: 10.3083 - covertype_cls_loss: 0.4859 - covertype_bernoulli_loss: 0.0708 - covertype_categorical1_loss: 2.4113 - covertype_categorical2_loss: 1.3582 - covertype_categorical3_loss: 0.2931 - covertype_categorical4_loss: 2.0487 - covertype_categorical5_loss: 2.7578 - covertype_categorical6_loss: 3.2222 - covertype_categorical7_loss: 1.1172 - covertype_categorical8_loss: 1.0785 - covertype_categorical9_loss: 1.3752 - covertype_categorical10_loss: 3.3728 - covertype_cls_categorical_accuracy: 0.9111 - val_loss: 12.0083 - val_covertype_cls_loss: 0.6524 - val_covertype_bernoulli_loss: 0.1013 - val_covertype_categorical1_loss: 3.6466 - val_covertype_categorical2_loss: 1.4278 - val_covertype_categorical3_loss: 0.2968 - val_covertype_categorical4_loss: 2.3939 - val_covertype_categorical5_loss: 3.0674 - val_covertype_categorical6_loss: 3.6721 - val_covertype_categorical7_loss: 1.2092 - val_covertype_categorical8_loss: 1.1113 - val_covertype_categorical9_loss: 1.4960 - val_covertype_categorical10_loss: 3.7608 - val_covertype_cls_categorical_accuracy: 0.8225\n",
      "Epoch 73/1000\n",
      "129/129 [==============================] - 28s 219ms/step - loss: 10.2705 - covertype_cls_loss: 0.4875 - covertype_bernoulli_loss: 0.0709 - covertype_categorical1_loss: 2.4119 - covertype_categorical2_loss: 1.3459 - covertype_categorical3_loss: 0.2803 - covertype_categorical4_loss: 2.0430 - covertype_categorical5_loss: 2.7582 - covertype_categorical6_loss: 3.2215 - covertype_categorical7_loss: 1.1089 - covertype_categorical8_loss: 1.0606 - covertype_categorical9_loss: 1.3603 - covertype_categorical10_loss: 3.3652 - covertype_cls_categorical_accuracy: 0.9099 - val_loss: 12.3201 - val_covertype_cls_loss: 0.6572 - val_covertype_bernoulli_loss: 0.1058 - val_covertype_categorical1_loss: 3.7769 - val_covertype_categorical2_loss: 1.4952 - val_covertype_categorical3_loss: 0.3239 - val_covertype_categorical4_loss: 2.4464 - val_covertype_categorical5_loss: 3.1090 - val_covertype_categorical6_loss: 3.7406 - val_covertype_categorical7_loss: 1.2532 - val_covertype_categorical8_loss: 1.1502 - val_covertype_categorical9_loss: 1.5446 - val_covertype_categorical10_loss: 3.8526 - val_covertype_cls_categorical_accuracy: 0.8204\n",
      "Epoch 74/1000\n",
      "129/129 [==============================] - 27s 209ms/step - loss: 10.2056 - covertype_cls_loss: 0.4860 - covertype_bernoulli_loss: 0.0717 - covertype_categorical1_loss: 2.3960 - covertype_categorical2_loss: 1.3461 - covertype_categorical3_loss: 0.2718 - covertype_categorical4_loss: 2.0195 - covertype_categorical5_loss: 2.7366 - covertype_categorical6_loss: 3.2037 - covertype_categorical7_loss: 1.0986 - covertype_categorical8_loss: 1.0497 - covertype_categorical9_loss: 1.3512 - covertype_categorical10_loss: 3.3543 - covertype_cls_categorical_accuracy: 0.9100 - val_loss: 12.0034 - val_covertype_cls_loss: 0.6562 - val_covertype_bernoulli_loss: 0.0954 - val_covertype_categorical1_loss: 3.6261 - val_covertype_categorical2_loss: 1.4358 - val_covertype_categorical3_loss: 0.2964 - val_covertype_categorical4_loss: 2.3921 - val_covertype_categorical5_loss: 3.0626 - val_covertype_categorical6_loss: 3.6549 - val_covertype_categorical7_loss: 1.2169 - val_covertype_categorical8_loss: 1.0927 - val_covertype_categorical9_loss: 1.5211 - val_covertype_categorical10_loss: 3.7717 - val_covertype_cls_categorical_accuracy: 0.8227\n",
      "Epoch 75/1000\n",
      "129/129 [==============================] - 28s 214ms/step - loss: 10.2014 - covertype_cls_loss: 0.4856 - covertype_bernoulli_loss: 0.0699 - covertype_categorical1_loss: 2.3911 - covertype_categorical2_loss: 1.3527 - covertype_categorical3_loss: 0.2746 - covertype_categorical4_loss: 2.0151 - covertype_categorical5_loss: 2.7293 - covertype_categorical6_loss: 3.1908 - covertype_categorical7_loss: 1.1056 - covertype_categorical8_loss: 1.0486 - covertype_categorical9_loss: 1.3610 - covertype_categorical10_loss: 3.3522 - covertype_cls_categorical_accuracy: 0.9104 - val_loss: 12.4257 - val_covertype_cls_loss: 0.6536 - val_covertype_bernoulli_loss: 0.1006 - val_covertype_categorical1_loss: 3.7809 - val_covertype_categorical2_loss: 1.4764 - val_covertype_categorical3_loss: 0.3235 - val_covertype_categorical4_loss: 2.4509 - val_covertype_categorical5_loss: 3.2036 - val_covertype_categorical6_loss: 3.7548 - val_covertype_categorical7_loss: 1.2862 - val_covertype_categorical8_loss: 1.1669 - val_covertype_categorical9_loss: 1.5978 - val_covertype_categorical10_loss: 3.8741 - val_covertype_cls_categorical_accuracy: 0.8215\n",
      "Epoch 76/1000\n",
      "129/129 [==============================] - 26s 203ms/step - loss: 10.1788 - covertype_cls_loss: 0.4831 - covertype_bernoulli_loss: 0.0683 - covertype_categorical1_loss: 2.3880 - covertype_categorical2_loss: 1.3356 - covertype_categorical3_loss: 0.2807 - covertype_categorical4_loss: 2.0080 - covertype_categorical5_loss: 2.7290 - covertype_categorical6_loss: 3.1931 - covertype_categorical7_loss: 1.0982 - covertype_categorical8_loss: 1.0506 - covertype_categorical9_loss: 1.3581 - covertype_categorical10_loss: 3.3416 - covertype_cls_categorical_accuracy: 0.9115 - val_loss: 11.9123 - val_covertype_cls_loss: 0.6530 - val_covertype_bernoulli_loss: 0.0992 - val_covertype_categorical1_loss: 3.6209 - val_covertype_categorical2_loss: 1.4174 - val_covertype_categorical3_loss: 0.2862 - val_covertype_categorical4_loss: 2.3799 - val_covertype_categorical5_loss: 3.0194 - val_covertype_categorical6_loss: 3.6282 - val_covertype_categorical7_loss: 1.2030 - val_covertype_categorical8_loss: 1.1013 - val_covertype_categorical9_loss: 1.4830 - val_covertype_categorical10_loss: 3.7497 - val_covertype_cls_categorical_accuracy: 0.8232\n",
      "Epoch 77/1000\n",
      "129/129 [==============================] - 27s 213ms/step - loss: 10.1509 - covertype_cls_loss: 0.4844 - covertype_bernoulli_loss: 0.0690 - covertype_categorical1_loss: 2.3846 - covertype_categorical2_loss: 1.3301 - covertype_categorical3_loss: 0.2742 - covertype_categorical4_loss: 2.0020 - covertype_categorical5_loss: 2.7130 - covertype_categorical6_loss: 3.1945 - covertype_categorical7_loss: 1.0955 - covertype_categorical8_loss: 1.0463 - covertype_categorical9_loss: 1.3469 - covertype_categorical10_loss: 3.3362 - covertype_cls_categorical_accuracy: 0.9113 - val_loss: 12.3025 - val_covertype_cls_loss: 0.6502 - val_covertype_bernoulli_loss: 0.0991 - val_covertype_categorical1_loss: 3.7120 - val_covertype_categorical2_loss: 1.4979 - val_covertype_categorical3_loss: 0.3421 - val_covertype_categorical4_loss: 2.4781 - val_covertype_categorical5_loss: 3.0881 - val_covertype_categorical6_loss: 3.7413 - val_covertype_categorical7_loss: 1.2711 - val_covertype_categorical8_loss: 1.1433 - val_covertype_categorical9_loss: 1.5490 - val_covertype_categorical10_loss: 3.8545 - val_covertype_cls_categorical_accuracy: 0.8254\n",
      "Epoch 78/1000\n",
      "129/129 [==============================] - 24s 187ms/step - loss: 10.1406 - covertype_cls_loss: 0.4792 - covertype_bernoulli_loss: 0.0684 - covertype_categorical1_loss: 2.3816 - covertype_categorical2_loss: 1.3373 - covertype_categorical3_loss: 0.2726 - covertype_categorical4_loss: 2.0046 - covertype_categorical5_loss: 2.7055 - covertype_categorical6_loss: 3.1760 - covertype_categorical7_loss: 1.1008 - covertype_categorical8_loss: 1.0566 - covertype_categorical9_loss: 1.3496 - covertype_categorical10_loss: 3.3292 - covertype_cls_categorical_accuracy: 0.9137 - val_loss: 11.8911 - val_covertype_cls_loss: 0.6513 - val_covertype_bernoulli_loss: 0.0938 - val_covertype_categorical1_loss: 3.6000 - val_covertype_categorical2_loss: 1.4309 - val_covertype_categorical3_loss: 0.2780 - val_covertype_categorical4_loss: 2.3713 - val_covertype_categorical5_loss: 3.0063 - val_covertype_categorical6_loss: 3.6184 - val_covertype_categorical7_loss: 1.2033 - val_covertype_categorical8_loss: 1.0985 - val_covertype_categorical9_loss: 1.5041 - val_covertype_categorical10_loss: 3.7474 - val_covertype_cls_categorical_accuracy: 0.8252\n",
      "Epoch 79/1000\n",
      "129/129 [==============================] - 27s 207ms/step - loss: 10.0716 - covertype_cls_loss: 0.4792 - covertype_bernoulli_loss: 0.0671 - covertype_categorical1_loss: 2.3762 - covertype_categorical2_loss: 1.3212 - covertype_categorical3_loss: 0.2616 - covertype_categorical4_loss: 1.9806 - covertype_categorical5_loss: 2.7018 - covertype_categorical6_loss: 3.1660 - covertype_categorical7_loss: 1.0847 - covertype_categorical8_loss: 1.0351 - covertype_categorical9_loss: 1.3388 - covertype_categorical10_loss: 3.3112 - covertype_cls_categorical_accuracy: 0.9134 - val_loss: 12.2644 - val_covertype_cls_loss: 0.6589 - val_covertype_bernoulli_loss: 0.1087 - val_covertype_categorical1_loss: 3.7386 - val_covertype_categorical2_loss: 1.4999 - val_covertype_categorical3_loss: 0.3073 - val_covertype_categorical4_loss: 2.4149 - val_covertype_categorical5_loss: 3.1337 - val_covertype_categorical6_loss: 3.7032 - val_covertype_categorical7_loss: 1.2665 - val_covertype_categorical8_loss: 1.1824 - val_covertype_categorical9_loss: 1.5325 - val_covertype_categorical10_loss: 3.7946 - val_covertype_cls_categorical_accuracy: 0.8188\n",
      "Epoch 80/1000\n",
      "129/129 [==============================] - 28s 219ms/step - loss: 10.0962 - covertype_cls_loss: 0.4782 - covertype_bernoulli_loss: 0.0674 - covertype_categorical1_loss: 2.3656 - covertype_categorical2_loss: 1.3298 - covertype_categorical3_loss: 0.2878 - covertype_categorical4_loss: 1.9780 - covertype_categorical5_loss: 2.6946 - covertype_categorical6_loss: 3.1590 - covertype_categorical7_loss: 1.1009 - covertype_categorical8_loss: 1.0462 - covertype_categorical9_loss: 1.3535 - covertype_categorical10_loss: 3.3122 - covertype_cls_categorical_accuracy: 0.9140 - val_loss: 11.7846 - val_covertype_cls_loss: 0.6493 - val_covertype_bernoulli_loss: 0.0966 - val_covertype_categorical1_loss: 3.5775 - val_covertype_categorical2_loss: 1.4013 - val_covertype_categorical3_loss: 0.2774 - val_covertype_categorical4_loss: 2.3334 - val_covertype_categorical5_loss: 2.9923 - val_covertype_categorical6_loss: 3.5908 - val_covertype_categorical7_loss: 1.1940 - val_covertype_categorical8_loss: 1.0781 - val_covertype_categorical9_loss: 1.4787 - val_covertype_categorical10_loss: 3.7210 - val_covertype_cls_categorical_accuracy: 0.8259\n",
      "Epoch 81/1000\n",
      "129/129 [==============================] - 28s 219ms/step - loss: 10.0241 - covertype_cls_loss: 0.4794 - covertype_bernoulli_loss: 0.0662 - covertype_categorical1_loss: 2.3528 - covertype_categorical2_loss: 1.3242 - covertype_categorical3_loss: 0.2688 - covertype_categorical4_loss: 1.9687 - covertype_categorical5_loss: 2.6745 - covertype_categorical6_loss: 3.1473 - covertype_categorical7_loss: 1.0832 - covertype_categorical8_loss: 1.0379 - covertype_categorical9_loss: 1.3296 - covertype_categorical10_loss: 3.2950 - covertype_cls_categorical_accuracy: 0.9129 - val_loss: 12.2306 - val_covertype_cls_loss: 0.6495 - val_covertype_bernoulli_loss: 0.0962 - val_covertype_categorical1_loss: 3.7121 - val_covertype_categorical2_loss: 1.4672 - val_covertype_categorical3_loss: 0.3761 - val_covertype_categorical4_loss: 2.4207 - val_covertype_categorical5_loss: 3.0591 - val_covertype_categorical6_loss: 3.6754 - val_covertype_categorical7_loss: 1.2619 - val_covertype_categorical8_loss: 1.1633 - val_covertype_categorical9_loss: 1.5668 - val_covertype_categorical10_loss: 3.8335 - val_covertype_cls_categorical_accuracy: 0.8241\n",
      "Epoch 82/1000\n"
     ]
    },
    {
     "name": "stdout",
     "output_type": "stream",
     "text": [
      "129/129 [==============================] - 28s 214ms/step - loss: 10.0430 - covertype_cls_loss: 0.4770 - covertype_bernoulli_loss: 0.0659 - covertype_categorical1_loss: 2.3608 - covertype_categorical2_loss: 1.3216 - covertype_categorical3_loss: 0.2641 - covertype_categorical4_loss: 1.9769 - covertype_categorical5_loss: 2.6699 - covertype_categorical6_loss: 3.1529 - covertype_categorical7_loss: 1.0812 - covertype_categorical8_loss: 1.0468 - covertype_categorical9_loss: 1.3503 - covertype_categorical10_loss: 3.3000 - covertype_cls_categorical_accuracy: 0.9146 - val_loss: 11.7316 - val_covertype_cls_loss: 0.6406 - val_covertype_bernoulli_loss: 0.0936 - val_covertype_categorical1_loss: 3.5574 - val_covertype_categorical2_loss: 1.4179 - val_covertype_categorical3_loss: 0.2745 - val_covertype_categorical4_loss: 2.3290 - val_covertype_categorical5_loss: 2.9693 - val_covertype_categorical6_loss: 3.5682 - val_covertype_categorical7_loss: 1.1888 - val_covertype_categorical8_loss: 1.0700 - val_covertype_categorical9_loss: 1.4801 - val_covertype_categorical10_loss: 3.7050 - val_covertype_cls_categorical_accuracy: 0.8304\n",
      "Epoch 83/1000\n",
      "129/129 [==============================] - 29s 222ms/step - loss: 10.0150 - covertype_cls_loss: 0.4759 - covertype_bernoulli_loss: 0.0660 - covertype_categorical1_loss: 2.3481 - covertype_categorical2_loss: 1.3255 - covertype_categorical3_loss: 0.2771 - covertype_categorical4_loss: 1.9664 - covertype_categorical5_loss: 2.6767 - covertype_categorical6_loss: 3.1368 - covertype_categorical7_loss: 1.0855 - covertype_categorical8_loss: 1.0351 - covertype_categorical9_loss: 1.3317 - covertype_categorical10_loss: 3.2872 - covertype_cls_categorical_accuracy: 0.9150 - val_loss: 12.1466 - val_covertype_cls_loss: 0.6510 - val_covertype_bernoulli_loss: 0.0974 - val_covertype_categorical1_loss: 3.6878 - val_covertype_categorical2_loss: 1.4596 - val_covertype_categorical3_loss: 0.3247 - val_covertype_categorical4_loss: 2.4020 - val_covertype_categorical5_loss: 3.0530 - val_covertype_categorical6_loss: 3.7267 - val_covertype_categorical7_loss: 1.2262 - val_covertype_categorical8_loss: 1.1733 - val_covertype_categorical9_loss: 1.5393 - val_covertype_categorical10_loss: 3.7724 - val_covertype_cls_categorical_accuracy: 0.8235\n",
      "Epoch 84/1000\n",
      "129/129 [==============================] - 28s 214ms/step - loss: 10.0723 - covertype_cls_loss: 0.4747 - covertype_bernoulli_loss: 0.0654 - covertype_categorical1_loss: 2.3559 - covertype_categorical2_loss: 1.3173 - covertype_categorical3_loss: 0.2578 - covertype_categorical4_loss: 2.0694 - covertype_categorical5_loss: 2.7221 - covertype_categorical6_loss: 3.1384 - covertype_categorical7_loss: 1.0803 - covertype_categorical8_loss: 1.0316 - covertype_categorical9_loss: 1.3315 - covertype_categorical10_loss: 3.2845 - covertype_cls_categorical_accuracy: 0.9160 - val_loss: 11.6783 - val_covertype_cls_loss: 0.6378 - val_covertype_bernoulli_loss: 0.0917 - val_covertype_categorical1_loss: 3.5432 - val_covertype_categorical2_loss: 1.4088 - val_covertype_categorical3_loss: 0.2701 - val_covertype_categorical4_loss: 2.3285 - val_covertype_categorical5_loss: 2.9607 - val_covertype_categorical6_loss: 3.5575 - val_covertype_categorical7_loss: 1.1783 - val_covertype_categorical8_loss: 1.0744 - val_covertype_categorical9_loss: 1.4656 - val_covertype_categorical10_loss: 3.6752 - val_covertype_cls_categorical_accuracy: 0.8313\n",
      "Epoch 85/1000\n",
      "129/129 [==============================] - 27s 210ms/step - loss: 9.8615 - covertype_cls_loss: 0.4745 - covertype_bernoulli_loss: 0.0649 - covertype_categorical1_loss: 2.3245 - covertype_categorical2_loss: 1.2957 - covertype_categorical3_loss: 0.2442 - covertype_categorical4_loss: 1.9413 - covertype_categorical5_loss: 2.6275 - covertype_categorical6_loss: 3.1033 - covertype_categorical7_loss: 1.0588 - covertype_categorical8_loss: 1.0130 - covertype_categorical9_loss: 1.3065 - covertype_categorical10_loss: 3.2511 - covertype_cls_categorical_accuracy: 0.9158 - val_loss: 12.0468 - val_covertype_cls_loss: 0.6318 - val_covertype_bernoulli_loss: 0.0997 - val_covertype_categorical1_loss: 3.6845 - val_covertype_categorical2_loss: 1.4792 - val_covertype_categorical3_loss: 0.2835 - val_covertype_categorical4_loss: 2.3801 - val_covertype_categorical5_loss: 3.0070 - val_covertype_categorical6_loss: 3.6688 - val_covertype_categorical7_loss: 1.2180 - val_covertype_categorical8_loss: 1.1601 - val_covertype_categorical9_loss: 1.5304 - val_covertype_categorical10_loss: 3.7875 - val_covertype_cls_categorical_accuracy: 0.8333\n",
      "Epoch 86/1000\n",
      "129/129 [==============================] - 29s 227ms/step - loss: 9.9108 - covertype_cls_loss: 0.4716 - covertype_bernoulli_loss: 0.0642 - covertype_categorical1_loss: 2.3315 - covertype_categorical2_loss: 1.3109 - covertype_categorical3_loss: 0.2498 - covertype_categorical4_loss: 1.9473 - covertype_categorical5_loss: 2.6451 - covertype_categorical6_loss: 3.1101 - covertype_categorical7_loss: 1.0660 - covertype_categorical8_loss: 1.0236 - covertype_categorical9_loss: 1.3180 - covertype_categorical10_loss: 3.2692 - covertype_cls_categorical_accuracy: 0.9173 - val_loss: 11.6833 - val_covertype_cls_loss: 0.6379 - val_covertype_bernoulli_loss: 0.0871 - val_covertype_categorical1_loss: 3.5498 - val_covertype_categorical2_loss: 1.3906 - val_covertype_categorical3_loss: 0.2598 - val_covertype_categorical4_loss: 2.3111 - val_covertype_categorical5_loss: 2.9639 - val_covertype_categorical6_loss: 3.5638 - val_covertype_categorical7_loss: 1.1875 - val_covertype_categorical8_loss: 1.0758 - val_covertype_categorical9_loss: 1.4802 - val_covertype_categorical10_loss: 3.6901 - val_covertype_cls_categorical_accuracy: 0.8307\n",
      "Epoch 87/1000\n",
      "129/129 [==============================] - 29s 224ms/step - loss: 9.9225 - covertype_cls_loss: 0.4727 - covertype_bernoulli_loss: 0.0636 - covertype_categorical1_loss: 2.3207 - covertype_categorical2_loss: 1.3086 - covertype_categorical3_loss: 0.2721 - covertype_categorical4_loss: 1.9509 - covertype_categorical5_loss: 2.6357 - covertype_categorical6_loss: 3.1098 - covertype_categorical7_loss: 1.0735 - covertype_categorical8_loss: 1.0330 - covertype_categorical9_loss: 1.3311 - covertype_categorical10_loss: 3.2587 - covertype_cls_categorical_accuracy: 0.9162 - val_loss: 11.9851 - val_covertype_cls_loss: 0.6390 - val_covertype_bernoulli_loss: 0.0989 - val_covertype_categorical1_loss: 3.6094 - val_covertype_categorical2_loss: 1.4423 - val_covertype_categorical3_loss: 0.2955 - val_covertype_categorical4_loss: 2.3834 - val_covertype_categorical5_loss: 3.0120 - val_covertype_categorical6_loss: 3.6588 - val_covertype_categorical7_loss: 1.2599 - val_covertype_categorical8_loss: 1.1237 - val_covertype_categorical9_loss: 1.5339 - val_covertype_categorical10_loss: 3.7443 - val_covertype_cls_categorical_accuracy: 0.8312\n",
      "Epoch 88/1000\n",
      "129/129 [==============================] - 29s 222ms/step - loss: 9.8728 - covertype_cls_loss: 0.4717 - covertype_bernoulli_loss: 0.0636 - covertype_categorical1_loss: 2.3226 - covertype_categorical2_loss: 1.2992 - covertype_categorical3_loss: 0.2593 - covertype_categorical4_loss: 1.9321 - covertype_categorical5_loss: 2.6261 - covertype_categorical6_loss: 3.0988 - covertype_categorical7_loss: 1.0697 - covertype_categorical8_loss: 1.0213 - covertype_categorical9_loss: 1.3250 - covertype_categorical10_loss: 3.2416 - covertype_cls_categorical_accuracy: 0.9176 - val_loss: 11.6462 - val_covertype_cls_loss: 0.6354 - val_covertype_bernoulli_loss: 0.0873 - val_covertype_categorical1_loss: 3.5469 - val_covertype_categorical2_loss: 1.3869 - val_covertype_categorical3_loss: 0.2777 - val_covertype_categorical4_loss: 2.2928 - val_covertype_categorical5_loss: 2.9450 - val_covertype_categorical6_loss: 3.5374 - val_covertype_categorical7_loss: 1.1978 - val_covertype_categorical8_loss: 1.0656 - val_covertype_categorical9_loss: 1.4744 - val_covertype_categorical10_loss: 3.6795 - val_covertype_cls_categorical_accuracy: 0.8320\n",
      "Epoch 89/1000\n",
      "129/129 [==============================] - 29s 222ms/step - loss: 9.8714 - covertype_cls_loss: 0.4712 - covertype_bernoulli_loss: 0.0622 - covertype_categorical1_loss: 2.3229 - covertype_categorical2_loss: 1.3094 - covertype_categorical3_loss: 0.2479 - covertype_categorical4_loss: 1.9332 - covertype_categorical5_loss: 2.6145 - covertype_categorical6_loss: 3.0977 - covertype_categorical7_loss: 1.0731 - covertype_categorical8_loss: 1.0204 - covertype_categorical9_loss: 1.3262 - covertype_categorical10_loss: 3.2502 - covertype_cls_categorical_accuracy: 0.9170 - val_loss: 11.9013 - val_covertype_cls_loss: 0.6359 - val_covertype_bernoulli_loss: 0.0860 - val_covertype_categorical1_loss: 3.6264 - val_covertype_categorical2_loss: 1.4443 - val_covertype_categorical3_loss: 0.2788 - val_covertype_categorical4_loss: 2.3355 - val_covertype_categorical5_loss: 2.9771 - val_covertype_categorical6_loss: 3.6206 - val_covertype_categorical7_loss: 1.2201 - val_covertype_categorical8_loss: 1.1168 - val_covertype_categorical9_loss: 1.5146 - val_covertype_categorical10_loss: 3.7796 - val_covertype_cls_categorical_accuracy: 0.8337\n",
      "Epoch 90/1000\n",
      "129/129 [==============================] - 29s 222ms/step - loss: 9.8861 - covertype_cls_loss: 0.4701 - covertype_bernoulli_loss: 0.0620 - covertype_categorical1_loss: 2.3230 - covertype_categorical2_loss: 1.2985 - covertype_categorical3_loss: 0.2496 - covertype_categorical4_loss: 1.9631 - covertype_categorical5_loss: 2.6395 - covertype_categorical6_loss: 3.0981 - covertype_categorical7_loss: 1.0672 - covertype_categorical8_loss: 1.0169 - covertype_categorical9_loss: 1.3258 - covertype_categorical10_loss: 3.2455 - covertype_cls_categorical_accuracy: 0.9184 - val_loss: 11.6058 - val_covertype_cls_loss: 0.6340 - val_covertype_bernoulli_loss: 0.0827 - val_covertype_categorical1_loss: 3.5061 - val_covertype_categorical2_loss: 1.3945 - val_covertype_categorical3_loss: 0.2769 - val_covertype_categorical4_loss: 2.2933 - val_covertype_categorical5_loss: 2.9509 - val_covertype_categorical6_loss: 3.5270 - val_covertype_categorical7_loss: 1.1764 - val_covertype_categorical8_loss: 1.0777 - val_covertype_categorical9_loss: 1.4752 - val_covertype_categorical10_loss: 3.6540 - val_covertype_cls_categorical_accuracy: 0.8332\n",
      "Epoch 91/1000\n",
      "129/129 [==============================] - 28s 220ms/step - loss: 9.7606 - covertype_cls_loss: 0.4685 - covertype_bernoulli_loss: 0.0614 - covertype_categorical1_loss: 2.2954 - covertype_categorical2_loss: 1.2838 - covertype_categorical3_loss: 0.2431 - covertype_categorical4_loss: 1.9226 - covertype_categorical5_loss: 2.6025 - covertype_categorical6_loss: 3.0717 - covertype_categorical7_loss: 1.0386 - covertype_categorical8_loss: 1.0024 - covertype_categorical9_loss: 1.2996 - covertype_categorical10_loss: 3.2193 - covertype_cls_categorical_accuracy: 0.9183 - val_loss: 11.9721 - val_covertype_cls_loss: 0.6388 - val_covertype_bernoulli_loss: 0.0923 - val_covertype_categorical1_loss: 3.6831 - val_covertype_categorical2_loss: 1.4224 - val_covertype_categorical3_loss: 0.2791 - val_covertype_categorical4_loss: 2.3428 - val_covertype_categorical5_loss: 2.9968 - val_covertype_categorical6_loss: 3.6530 - val_covertype_categorical7_loss: 1.2357 - val_covertype_categorical8_loss: 1.0916 - val_covertype_categorical9_loss: 1.5779 - val_covertype_categorical10_loss: 3.7609 - val_covertype_cls_categorical_accuracy: 0.8304\n",
      "Epoch 92/1000\n",
      "129/129 [==============================] - 28s 216ms/step - loss: 9.8046 - covertype_cls_loss: 0.4674 - covertype_bernoulli_loss: 0.0620 - covertype_categorical1_loss: 2.3085 - covertype_categorical2_loss: 1.2889 - covertype_categorical3_loss: 0.2440 - covertype_categorical4_loss: 1.9330 - covertype_categorical5_loss: 2.6079 - covertype_categorical6_loss: 3.0783 - covertype_categorical7_loss: 1.0571 - covertype_categorical8_loss: 1.0049 - covertype_categorical9_loss: 1.3078 - covertype_categorical10_loss: 3.2387 - covertype_cls_categorical_accuracy: 0.9190 - val_loss: 11.5382 - val_covertype_cls_loss: 0.6309 - val_covertype_bernoulli_loss: 0.0854 - val_covertype_categorical1_loss: 3.5046 - val_covertype_categorical2_loss: 1.3618 - val_covertype_categorical3_loss: 0.2534 - val_covertype_categorical4_loss: 2.2948 - val_covertype_categorical5_loss: 2.9181 - val_covertype_categorical6_loss: 3.5118 - val_covertype_categorical7_loss: 1.1661 - val_covertype_categorical8_loss: 1.0632 - val_covertype_categorical9_loss: 1.4712 - val_covertype_categorical10_loss: 3.6539 - val_covertype_cls_categorical_accuracy: 0.8354\n",
      "Epoch 93/1000\n",
      "129/129 [==============================] - 29s 226ms/step - loss: 9.7767 - covertype_cls_loss: 0.4668 - covertype_bernoulli_loss: 0.0609 - covertype_categorical1_loss: 2.3002 - covertype_categorical2_loss: 1.2883 - covertype_categorical3_loss: 0.2476 - covertype_categorical4_loss: 1.9155 - covertype_categorical5_loss: 2.5930 - covertype_categorical6_loss: 3.0619 - covertype_categorical7_loss: 1.0579 - covertype_categorical8_loss: 1.0095 - covertype_categorical9_loss: 1.3114 - covertype_categorical10_loss: 3.2304 - covertype_cls_categorical_accuracy: 0.9195 - val_loss: 11.8546 - val_covertype_cls_loss: 0.6335 - val_covertype_bernoulli_loss: 0.0963 - val_covertype_categorical1_loss: 3.6212 - val_covertype_categorical2_loss: 1.4547 - val_covertype_categorical3_loss: 0.2786 - val_covertype_categorical4_loss: 2.3323 - val_covertype_categorical5_loss: 2.9683 - val_covertype_categorical6_loss: 3.5831 - val_covertype_categorical7_loss: 1.2309 - val_covertype_categorical8_loss: 1.0975 - val_covertype_categorical9_loss: 1.5433 - val_covertype_categorical10_loss: 3.7050 - val_covertype_cls_categorical_accuracy: 0.8344\n",
      "Epoch 94/1000\n",
      "129/129 [==============================] - 23s 177ms/step - loss: 9.7473 - covertype_cls_loss: 0.4662 - covertype_bernoulli_loss: 0.0621 - covertype_categorical1_loss: 2.2948 - covertype_categorical2_loss: 1.2836 - covertype_categorical3_loss: 0.2384 - covertype_categorical4_loss: 1.9148 - covertype_categorical5_loss: 2.5924 - covertype_categorical6_loss: 3.0593 - covertype_categorical7_loss: 1.0553 - covertype_categorical8_loss: 1.0033 - covertype_categorical9_loss: 1.2997 - covertype_categorical10_loss: 3.2148 - covertype_cls_categorical_accuracy: 0.9196 - val_loss: 11.5521 - val_covertype_cls_loss: 0.6267 - val_covertype_bernoulli_loss: 0.0822 - val_covertype_categorical1_loss: 3.5031 - val_covertype_categorical2_loss: 1.3810 - val_covertype_categorical3_loss: 0.2500 - val_covertype_categorical4_loss: 2.3228 - val_covertype_categorical5_loss: 2.9117 - val_covertype_categorical6_loss: 3.4937 - val_covertype_categorical7_loss: 1.1891 - val_covertype_categorical8_loss: 1.0562 - val_covertype_categorical9_loss: 1.4521 - val_covertype_categorical10_loss: 3.6784 - val_covertype_cls_categorical_accuracy: 0.8379\n",
      "Epoch 95/1000\n",
      "129/129 [==============================] - 21s 165ms/step - loss: 9.7262 - covertype_cls_loss: 0.4665 - covertype_bernoulli_loss: 0.0604 - covertype_categorical1_loss: 2.2837 - covertype_categorical2_loss: 1.2865 - covertype_categorical3_loss: 0.2472 - covertype_categorical4_loss: 1.9001 - covertype_categorical5_loss: 2.5689 - covertype_categorical6_loss: 3.0491 - covertype_categorical7_loss: 1.0608 - covertype_categorical8_loss: 1.0005 - covertype_categorical9_loss: 1.3172 - covertype_categorical10_loss: 3.2008 - covertype_cls_categorical_accuracy: 0.9192 - val_loss: 11.8806 - val_covertype_cls_loss: 0.6313 - val_covertype_bernoulli_loss: 0.0983 - val_covertype_categorical1_loss: 3.6251 - val_covertype_categorical2_loss: 1.4237 - val_covertype_categorical3_loss: 0.2745 - val_covertype_categorical4_loss: 2.3097 - val_covertype_categorical5_loss: 3.0378 - val_covertype_categorical6_loss: 3.6054 - val_covertype_categorical7_loss: 1.2219 - val_covertype_categorical8_loss: 1.0850 - val_covertype_categorical9_loss: 1.5424 - val_covertype_categorical10_loss: 3.7423 - val_covertype_cls_categorical_accuracy: 0.8326\n",
      "Epoch 96/1000\n"
     ]
    },
    {
     "name": "stdout",
     "output_type": "stream",
     "text": [
      "129/129 [==============================] - 21s 163ms/step - loss: 9.7210 - covertype_cls_loss: 0.4643 - covertype_bernoulli_loss: 0.0596 - covertype_categorical1_loss: 2.2813 - covertype_categorical2_loss: 1.2818 - covertype_categorical3_loss: 0.2553 - covertype_categorical4_loss: 1.9021 - covertype_categorical5_loss: 2.5814 - covertype_categorical6_loss: 3.0480 - covertype_categorical7_loss: 1.0490 - covertype_categorical8_loss: 0.9994 - covertype_categorical9_loss: 1.3019 - covertype_categorical10_loss: 3.2088 - covertype_cls_categorical_accuracy: 0.9205 - val_loss: 11.5000 - val_covertype_cls_loss: 0.6218 - val_covertype_bernoulli_loss: 0.0826 - val_covertype_categorical1_loss: 3.5006 - val_covertype_categorical2_loss: 1.3857 - val_covertype_categorical3_loss: 0.2632 - val_covertype_categorical4_loss: 2.2690 - val_covertype_categorical5_loss: 2.9088 - val_covertype_categorical6_loss: 3.4959 - val_covertype_categorical7_loss: 1.1702 - val_covertype_categorical8_loss: 1.0518 - val_covertype_categorical9_loss: 1.4527 - val_covertype_categorical10_loss: 3.6455 - val_covertype_cls_categorical_accuracy: 0.8394\n",
      "Epoch 97/1000\n",
      "129/129 [==============================] - 21s 164ms/step - loss: 9.6504 - covertype_cls_loss: 0.4630 - covertype_bernoulli_loss: 0.0589 - covertype_categorical1_loss: 2.2782 - covertype_categorical2_loss: 1.2690 - covertype_categorical3_loss: 0.2274 - covertype_categorical4_loss: 1.8810 - covertype_categorical5_loss: 2.5693 - covertype_categorical6_loss: 3.0397 - covertype_categorical7_loss: 1.0397 - covertype_categorical8_loss: 0.9851 - covertype_categorical9_loss: 1.2939 - covertype_categorical10_loss: 3.1881 - covertype_cls_categorical_accuracy: 0.9210 - val_loss: 11.8042 - val_covertype_cls_loss: 0.6190 - val_covertype_bernoulli_loss: 0.0815 - val_covertype_categorical1_loss: 3.5965 - val_covertype_categorical2_loss: 1.4401 - val_covertype_categorical3_loss: 0.2887 - val_covertype_categorical4_loss: 2.3128 - val_covertype_categorical5_loss: 2.9505 - val_covertype_categorical6_loss: 3.5792 - val_covertype_categorical7_loss: 1.2344 - val_covertype_categorical8_loss: 1.0908 - val_covertype_categorical9_loss: 1.5167 - val_covertype_categorical10_loss: 3.7471 - val_covertype_cls_categorical_accuracy: 0.8408\n",
      "Epoch 98/1000\n",
      "129/129 [==============================] - 21s 162ms/step - loss: 9.6477 - covertype_cls_loss: 0.4642 - covertype_bernoulli_loss: 0.0589 - covertype_categorical1_loss: 2.2733 - covertype_categorical2_loss: 1.2700 - covertype_categorical3_loss: 0.2266 - covertype_categorical4_loss: 1.8876 - covertype_categorical5_loss: 2.5674 - covertype_categorical6_loss: 3.0281 - covertype_categorical7_loss: 1.0415 - covertype_categorical8_loss: 0.9877 - covertype_categorical9_loss: 1.2866 - covertype_categorical10_loss: 3.1941 - covertype_cls_categorical_accuracy: 0.9199 - val_loss: 11.4368 - val_covertype_cls_loss: 0.6116 - val_covertype_bernoulli_loss: 0.0787 - val_covertype_categorical1_loss: 3.5049 - val_covertype_categorical2_loss: 1.3678 - val_covertype_categorical3_loss: 0.2508 - val_covertype_categorical4_loss: 2.2692 - val_covertype_categorical5_loss: 2.8832 - val_covertype_categorical6_loss: 3.4993 - val_covertype_categorical7_loss: 1.1518 - val_covertype_categorical8_loss: 1.0386 - val_covertype_categorical9_loss: 1.4490 - val_covertype_categorical10_loss: 3.6251 - val_covertype_cls_categorical_accuracy: 0.8451\n",
      "Epoch 99/1000\n",
      "129/129 [==============================] - 25s 192ms/step - loss: 9.6893 - covertype_cls_loss: 0.4639 - covertype_bernoulli_loss: 0.0587 - covertype_categorical1_loss: 2.2757 - covertype_categorical2_loss: 1.2678 - covertype_categorical3_loss: 0.2294 - covertype_categorical4_loss: 1.9291 - covertype_categorical5_loss: 2.5907 - covertype_categorical6_loss: 3.0358 - covertype_categorical7_loss: 1.0343 - covertype_categorical8_loss: 0.9974 - covertype_categorical9_loss: 1.2910 - covertype_categorical10_loss: 3.1971 - covertype_cls_categorical_accuracy: 0.9202 - val_loss: 11.8669 - val_covertype_cls_loss: 0.6253 - val_covertype_bernoulli_loss: 0.0915 - val_covertype_categorical1_loss: 3.6347 - val_covertype_categorical2_loss: 1.4117 - val_covertype_categorical3_loss: 0.2633 - val_covertype_categorical4_loss: 2.3911 - val_covertype_categorical5_loss: 2.9908 - val_covertype_categorical6_loss: 3.5890 - val_covertype_categorical7_loss: 1.1990 - val_covertype_categorical8_loss: 1.1163 - val_covertype_categorical9_loss: 1.5331 - val_covertype_categorical10_loss: 3.7330 - val_covertype_cls_categorical_accuracy: 0.8392\n",
      "Epoch 100/1000\n",
      "129/129 [==============================] - 24s 188ms/step - loss: 9.6526 - covertype_cls_loss: 0.4603 - covertype_bernoulli_loss: 0.0587 - covertype_categorical1_loss: 2.2707 - covertype_categorical2_loss: 1.2655 - covertype_categorical3_loss: 0.2362 - covertype_categorical4_loss: 1.9168 - covertype_categorical5_loss: 2.5643 - covertype_categorical6_loss: 3.0318 - covertype_categorical7_loss: 1.0359 - covertype_categorical8_loss: 0.9852 - covertype_categorical9_loss: 1.2919 - covertype_categorical10_loss: 3.1842 - covertype_cls_categorical_accuracy: 0.9222 - val_loss: 11.3716 - val_covertype_cls_loss: 0.6196 - val_covertype_bernoulli_loss: 0.0807 - val_covertype_categorical1_loss: 3.4694 - val_covertype_categorical2_loss: 1.3763 - val_covertype_categorical3_loss: 0.2409 - val_covertype_categorical4_loss: 2.2441 - val_covertype_categorical5_loss: 2.8603 - val_covertype_categorical6_loss: 3.4621 - val_covertype_categorical7_loss: 1.1601 - val_covertype_categorical8_loss: 1.0279 - val_covertype_categorical9_loss: 1.4425 - val_covertype_categorical10_loss: 3.6089 - val_covertype_cls_categorical_accuracy: 0.8388\n",
      "Epoch 101/1000\n",
      "129/129 [==============================] - 25s 194ms/step - loss: 9.6167 - covertype_cls_loss: 0.4593 - covertype_bernoulli_loss: 0.0579 - covertype_categorical1_loss: 2.2527 - covertype_categorical2_loss: 1.2668 - covertype_categorical3_loss: 0.2425 - covertype_categorical4_loss: 1.8912 - covertype_categorical5_loss: 2.5480 - covertype_categorical6_loss: 3.0133 - covertype_categorical7_loss: 1.0398 - covertype_categorical8_loss: 0.9859 - covertype_categorical9_loss: 1.2940 - covertype_categorical10_loss: 3.1777 - covertype_cls_categorical_accuracy: 0.9233 - val_loss: 11.7804 - val_covertype_cls_loss: 0.6292 - val_covertype_bernoulli_loss: 0.0861 - val_covertype_categorical1_loss: 3.6063 - val_covertype_categorical2_loss: 1.4350 - val_covertype_categorical3_loss: 0.3030 - val_covertype_categorical4_loss: 2.3164 - val_covertype_categorical5_loss: 2.9309 - val_covertype_categorical6_loss: 3.5530 - val_covertype_categorical7_loss: 1.2098 - val_covertype_categorical8_loss: 1.0913 - val_covertype_categorical9_loss: 1.5257 - val_covertype_categorical10_loss: 3.7138 - val_covertype_cls_categorical_accuracy: 0.8358\n",
      "Epoch 102/1000\n",
      "129/129 [==============================] - 24s 190ms/step - loss: 9.5489 - covertype_cls_loss: 0.4600 - covertype_bernoulli_loss: 0.0582 - covertype_categorical1_loss: 2.2585 - covertype_categorical2_loss: 1.2550 - covertype_categorical3_loss: 0.2265 - covertype_categorical4_loss: 1.8598 - covertype_categorical5_loss: 2.5277 - covertype_categorical6_loss: 2.9986 - covertype_categorical7_loss: 1.0248 - covertype_categorical8_loss: 0.9665 - covertype_categorical9_loss: 1.2802 - covertype_categorical10_loss: 3.1757 - covertype_cls_categorical_accuracy: 0.9220 - val_loss: 11.3282 - val_covertype_cls_loss: 0.6177 - val_covertype_bernoulli_loss: 0.0801 - val_covertype_categorical1_loss: 3.4798 - val_covertype_categorical2_loss: 1.3486 - val_covertype_categorical3_loss: 0.2460 - val_covertype_categorical4_loss: 2.2252 - val_covertype_categorical5_loss: 2.8353 - val_covertype_categorical6_loss: 3.4605 - val_covertype_categorical7_loss: 1.1493 - val_covertype_categorical8_loss: 1.0272 - val_covertype_categorical9_loss: 1.4341 - val_covertype_categorical10_loss: 3.6027 - val_covertype_cls_categorical_accuracy: 0.8420\n",
      "Epoch 103/1000\n",
      "129/129 [==============================] - 26s 199ms/step - loss: 9.5588 - covertype_cls_loss: 0.4594 - covertype_bernoulli_loss: 0.0574 - covertype_categorical1_loss: 2.2600 - covertype_categorical2_loss: 1.2500 - covertype_categorical3_loss: 0.2267 - covertype_categorical4_loss: 1.8608 - covertype_categorical5_loss: 2.5328 - covertype_categorical6_loss: 3.0221 - covertype_categorical7_loss: 1.0190 - covertype_categorical8_loss: 0.9736 - covertype_categorical9_loss: 1.2854 - covertype_categorical10_loss: 3.1651 - covertype_cls_categorical_accuracy: 0.9225 - val_loss: 11.8159 - val_covertype_cls_loss: 0.6219 - val_covertype_bernoulli_loss: 0.0813 - val_covertype_categorical1_loss: 3.5936 - val_covertype_categorical2_loss: 1.4114 - val_covertype_categorical3_loss: 0.2670 - val_covertype_categorical4_loss: 2.3291 - val_covertype_categorical5_loss: 2.9711 - val_covertype_categorical6_loss: 3.6008 - val_covertype_categorical7_loss: 1.2454 - val_covertype_categorical8_loss: 1.1209 - val_covertype_categorical9_loss: 1.4949 - val_covertype_categorical10_loss: 3.7411 - val_covertype_cls_categorical_accuracy: 0.8412\n",
      "Epoch 104/1000\n",
      "129/129 [==============================] - 25s 192ms/step - loss: 9.5406 - covertype_cls_loss: 0.4596 - covertype_bernoulli_loss: 0.0570 - covertype_categorical1_loss: 2.2447 - covertype_categorical2_loss: 1.2600 - covertype_categorical3_loss: 0.2225 - covertype_categorical4_loss: 1.8558 - covertype_categorical5_loss: 2.5249 - covertype_categorical6_loss: 2.9970 - covertype_categorical7_loss: 1.0272 - covertype_categorical8_loss: 0.9880 - covertype_categorical9_loss: 1.2856 - covertype_categorical10_loss: 3.1540 - covertype_cls_categorical_accuracy: 0.9220 - val_loss: 11.3155 - val_covertype_cls_loss: 0.6157 - val_covertype_bernoulli_loss: 0.0789 - val_covertype_categorical1_loss: 3.4473 - val_covertype_categorical2_loss: 1.3436 - val_covertype_categorical3_loss: 0.2384 - val_covertype_categorical4_loss: 2.2383 - val_covertype_categorical5_loss: 2.8346 - val_covertype_categorical6_loss: 3.4560 - val_covertype_categorical7_loss: 1.1436 - val_covertype_categorical8_loss: 1.0286 - val_covertype_categorical9_loss: 1.4515 - val_covertype_categorical10_loss: 3.6065 - val_covertype_cls_categorical_accuracy: 0.8431 covertype_categorical1_loss: 2.2497 - covertype_categorical2_loss: 1.2606 - covertype_categorical3_loss: 0.2365 - covertype_categorical4_loss: 1.8603 - covertype_categorical5_loss: 2.5386 - covertype_categorical6_loss: 3.0011 - covertype_categorical7_loss: 1.0174 - covertype_categorical8_loss: 0.9878 - covertyp - ETA: 6s - loss: 9.5537 - covertype_cls_loss: 0.4599 - covertype_bernoulli_loss: 0.0561 - covertype_categorical1_loss: 2.2462 - covertype_categorical2_loss: 1.2656 - covertype_categorical3_loss: 0.2288 - covertype_categorical4_loss: 1.8576 - covertype_categorical5_loss: 2.5285 - covertype_categorical6_loss: 2.9979 - covertype_categorical7_loss: 1.0300 - covertype_categorical8_loss: 0.9903 - covertype_categorical9_loss: 1.2897 - covertype_categorical10_loss: 3.1517 - cove\n",
      "Epoch 105/1000\n",
      "129/129 [==============================] - 25s 195ms/step - loss: 9.5969 - covertype_cls_loss: 0.4574 - covertype_bernoulli_loss: 0.0565 - covertype_categorical1_loss: 2.2551 - covertype_categorical2_loss: 1.2647 - covertype_categorical3_loss: 0.2538 - covertype_categorical4_loss: 1.8738 - covertype_categorical5_loss: 2.5338 - covertype_categorical6_loss: 3.0019 - covertype_categorical7_loss: 1.0437 - covertype_categorical8_loss: 0.9897 - covertype_categorical9_loss: 1.3035 - covertype_categorical10_loss: 3.1573 - covertype_cls_categorical_accuracy: 0.9239 - val_loss: 11.9797 - val_covertype_cls_loss: 0.6221 - val_covertype_bernoulli_loss: 0.0830 - val_covertype_categorical1_loss: 3.6066 - val_covertype_categorical2_loss: 1.4544 - val_covertype_categorical3_loss: 0.3549 - val_covertype_categorical4_loss: 2.3425 - val_covertype_categorical5_loss: 2.9956 - val_covertype_categorical6_loss: 3.6321 - val_covertype_categorical7_loss: 1.2616 - val_covertype_categorical8_loss: 1.1225 - val_covertype_categorical9_loss: 1.5595 - val_covertype_categorical10_loss: 3.7721 - val_covertype_cls_categorical_accuracy: 0.8401\n",
      "Epoch 106/1000\n",
      "129/129 [==============================] - 25s 190ms/step - loss: 9.5169 - covertype_cls_loss: 0.4586 - covertype_bernoulli_loss: 0.0570 - covertype_categorical1_loss: 2.2411 - covertype_categorical2_loss: 1.2576 - covertype_categorical3_loss: 0.2172 - covertype_categorical4_loss: 1.8627 - covertype_categorical5_loss: 2.5200 - covertype_categorical6_loss: 2.9823 - covertype_categorical7_loss: 1.0276 - covertype_categorical8_loss: 0.9732 - covertype_categorical9_loss: 1.2870 - covertype_categorical10_loss: 3.1458 - covertype_cls_categorical_accuracy: 0.9227 - val_loss: 11.3615 - val_covertype_cls_loss: 0.6138 - val_covertype_bernoulli_loss: 0.0803 - val_covertype_categorical1_loss: 3.4579 - val_covertype_categorical2_loss: 1.3656 - val_covertype_categorical3_loss: 0.2384 - val_covertype_categorical4_loss: 2.2414 - val_covertype_categorical5_loss: 2.8715 - val_covertype_categorical6_loss: 3.4376 - val_covertype_categorical7_loss: 1.1450 - val_covertype_categorical8_loss: 1.0441 - val_covertype_categorical9_loss: 1.4693 - val_covertype_categorical10_loss: 3.6128 - val_covertype_cls_categorical_accuracy: 0.8422\n",
      "Epoch 107/1000\n",
      "129/129 [==============================] - 24s 187ms/step - loss: 9.4885 - covertype_cls_loss: 0.4563 - covertype_bernoulli_loss: 0.0561 - covertype_categorical1_loss: 2.2441 - covertype_categorical2_loss: 1.2439 - covertype_categorical3_loss: 0.2228 - covertype_categorical4_loss: 1.8470 - covertype_categorical5_loss: 2.5245 - covertype_categorical6_loss: 2.9818 - covertype_categorical7_loss: 1.0205 - covertype_categorical8_loss: 0.9659 - covertype_categorical9_loss: 1.2709 - covertype_categorical10_loss: 3.1414 - covertype_cls_categorical_accuracy: 0.9237 - val_loss: 11.5563 - val_covertype_cls_loss: 0.6237 - val_covertype_bernoulli_loss: 0.0844 - val_covertype_categorical1_loss: 3.5228 - val_covertype_categorical2_loss: 1.3901 - val_covertype_categorical3_loss: 0.2544 - val_covertype_categorical4_loss: 2.2552 - val_covertype_categorical5_loss: 2.8784 - val_covertype_categorical6_loss: 3.5180 - val_covertype_categorical7_loss: 1.1907 - val_covertype_categorical8_loss: 1.0751 - val_covertype_categorical9_loss: 1.4815 - val_covertype_categorical10_loss: 3.6821 - val_covertype_cls_categorical_accuracy: 0.8379\n",
      "Epoch 108/1000\n",
      "129/129 [==============================] - 25s 192ms/step - loss: 9.5065 - covertype_cls_loss: 0.4561 - covertype_bernoulli_loss: 0.0553 - covertype_categorical1_loss: 2.2343 - covertype_categorical2_loss: 1.2556 - covertype_categorical3_loss: 0.2362 - covertype_categorical4_loss: 1.8577 - covertype_categorical5_loss: 2.5103 - covertype_categorical6_loss: 2.9703 - covertype_categorical7_loss: 1.0351 - covertype_categorical8_loss: 0.9790 - covertype_categorical9_loss: 1.2824 - covertype_categorical10_loss: 3.1392 - covertype_cls_categorical_accuracy: 0.9245 - val_loss: 11.2491 - val_covertype_cls_loss: 0.6115 - val_covertype_bernoulli_loss: 0.0778 - val_covertype_categorical1_loss: 3.4491 - val_covertype_categorical2_loss: 1.3450 - val_covertype_categorical3_loss: 0.2498 - val_covertype_categorical4_loss: 2.2111 - val_covertype_categorical5_loss: 2.8122 - val_covertype_categorical6_loss: 3.4258 - val_covertype_categorical7_loss: 1.1255 - val_covertype_categorical8_loss: 1.0305 - val_covertype_categorical9_loss: 1.4377 - val_covertype_categorical10_loss: 3.5785 - val_covertype_cls_categorical_accuracy: 0.8425\n",
      "Epoch 109/1000\n"
     ]
    },
    {
     "name": "stdout",
     "output_type": "stream",
     "text": [
      "129/129 [==============================] - 24s 185ms/step - loss: 9.4593 - covertype_cls_loss: 0.4539 - covertype_bernoulli_loss: 0.0543 - covertype_categorical1_loss: 2.2296 - covertype_categorical2_loss: 1.2480 - covertype_categorical3_loss: 0.2184 - covertype_categorical4_loss: 1.8488 - covertype_categorical5_loss: 2.4991 - covertype_categorical6_loss: 2.9696 - covertype_categorical7_loss: 1.0181 - covertype_categorical8_loss: 0.9689 - covertype_categorical9_loss: 1.2795 - covertype_categorical10_loss: 3.1303 - covertype_cls_categorical_accuracy: 0.9257 - val_loss: 11.6565 - val_covertype_cls_loss: 0.6248 - val_covertype_bernoulli_loss: 0.0840 - val_covertype_categorical1_loss: 3.5958 - val_covertype_categorical2_loss: 1.4081 - val_covertype_categorical3_loss: 0.2690 - val_covertype_categorical4_loss: 2.2705 - val_covertype_categorical5_loss: 2.9130 - val_covertype_categorical6_loss: 3.5432 - val_covertype_categorical7_loss: 1.1952 - val_covertype_categorical8_loss: 1.0682 - val_covertype_categorical9_loss: 1.4944 - val_covertype_categorical10_loss: 3.6887 - val_covertype_cls_categorical_accuracy: 0.8384\n",
      "Epoch 110/1000\n",
      "129/129 [==============================] - 25s 190ms/step - loss: 9.5263 - covertype_cls_loss: 0.4530 - covertype_bernoulli_loss: 0.0558 - covertype_categorical1_loss: 2.2251 - covertype_categorical2_loss: 1.2688 - covertype_categorical3_loss: 0.2375 - covertype_categorical4_loss: 1.8740 - covertype_categorical5_loss: 2.5265 - covertype_categorical6_loss: 2.9615 - covertype_categorical7_loss: 1.0386 - covertype_categorical8_loss: 0.9878 - covertype_categorical9_loss: 1.2956 - covertype_categorical10_loss: 3.1300 - covertype_cls_categorical_accuracy: 0.9259 - val_loss: 11.2687 - val_covertype_cls_loss: 0.6083 - val_covertype_bernoulli_loss: 0.0784 - val_covertype_categorical1_loss: 3.4264 - val_covertype_categorical2_loss: 1.3473 - val_covertype_categorical3_loss: 0.2321 - val_covertype_categorical4_loss: 2.2206 - val_covertype_categorical5_loss: 2.8421 - val_covertype_categorical6_loss: 3.4283 - val_covertype_categorical7_loss: 1.1402 - val_covertype_categorical8_loss: 1.0427 - val_covertype_categorical9_loss: 1.4444 - val_covertype_categorical10_loss: 3.5853 - val_covertype_cls_categorical_accuracy: 0.8462\n",
      "Epoch 111/1000\n",
      "129/129 [==============================] - 24s 186ms/step - loss: 9.4171 - covertype_cls_loss: 0.4535 - covertype_bernoulli_loss: 0.0548 - covertype_categorical1_loss: 2.2268 - covertype_categorical2_loss: 1.2319 - covertype_categorical3_loss: 0.2159 - covertype_categorical4_loss: 1.8401 - covertype_categorical5_loss: 2.5019 - covertype_categorical6_loss: 2.9583 - covertype_categorical7_loss: 1.0074 - covertype_categorical8_loss: 0.9631 - covertype_categorical9_loss: 1.2627 - covertype_categorical10_loss: 3.1179 - covertype_cls_categorical_accuracy: 0.9252 - val_loss: 11.5932 - val_covertype_cls_loss: 0.6108 - val_covertype_bernoulli_loss: 0.0781 - val_covertype_categorical1_loss: 3.5688 - val_covertype_categorical2_loss: 1.3825 - val_covertype_categorical3_loss: 0.2588 - val_covertype_categorical4_loss: 2.3030 - val_covertype_categorical5_loss: 2.9108 - val_covertype_categorical6_loss: 3.5166 - val_covertype_categorical7_loss: 1.1573 - val_covertype_categorical8_loss: 1.1037 - val_covertype_categorical9_loss: 1.4675 - val_covertype_categorical10_loss: 3.6846 - val_covertype_cls_categorical_accuracy: 0.8431e_bernoulli_loss: 0.0550 - covertype_categorical1_loss: 2.2277 - covertype_categorical2_loss: 1.2300 - covertype_categorical3_loss: 0.2179 - covertype_categorical4_loss: 1.8478 - covertype_categorical5_loss: 2.5126 - covertype_categorical6_loss: 2.9599 - covertype_categorical7_loss: 1.0115 - covertype_categorical8_loss: 0.9642 - covertype_categorical9_loss: 1.2658 - covertype_categorical10_loss: 3.1140 - c\n",
      "Epoch 112/1000\n",
      "129/129 [==============================] - 24s 189ms/step - loss: 9.4225 - covertype_cls_loss: 0.4532 - covertype_bernoulli_loss: 0.0554 - covertype_categorical1_loss: 2.2195 - covertype_categorical2_loss: 1.2336 - covertype_categorical3_loss: 0.2048 - covertype_categorical4_loss: 1.8806 - covertype_categorical5_loss: 2.5126 - covertype_categorical6_loss: 2.9522 - covertype_categorical7_loss: 1.0006 - covertype_categorical8_loss: 0.9576 - covertype_categorical9_loss: 1.2591 - covertype_categorical10_loss: 3.1160 - covertype_cls_categorical_accuracy: 0.9260 - val_loss: 11.2350 - val_covertype_cls_loss: 0.6043 - val_covertype_bernoulli_loss: 0.0748 - val_covertype_categorical1_loss: 3.4616 - val_covertype_categorical2_loss: 1.3252 - val_covertype_categorical3_loss: 0.2202 - val_covertype_categorical4_loss: 2.2091 - val_covertype_categorical5_loss: 2.8483 - val_covertype_categorical6_loss: 3.4213 - val_covertype_categorical7_loss: 1.1482 - val_covertype_categorical8_loss: 1.0115 - val_covertype_categorical9_loss: 1.4407 - val_covertype_categorical10_loss: 3.5683 - val_covertype_cls_categorical_accuracy: 0.8495\n",
      "Epoch 113/1000\n",
      "129/129 [==============================] - 24s 189ms/step - loss: 9.3783 - covertype_cls_loss: 0.4507 - covertype_bernoulli_loss: 0.0535 - covertype_categorical1_loss: 2.2163 - covertype_categorical2_loss: 1.2293 - covertype_categorical3_loss: 0.2139 - covertype_categorical4_loss: 1.8186 - covertype_categorical5_loss: 2.4863 - covertype_categorical6_loss: 2.9460 - covertype_categorical7_loss: 1.0097 - covertype_categorical8_loss: 0.9572 - covertype_categorical9_loss: 1.2702 - covertype_categorical10_loss: 3.1082 - covertype_cls_categorical_accuracy: 0.9266 - val_loss: 11.5923 - val_covertype_cls_loss: 0.6135 - val_covertype_bernoulli_loss: 0.0821 - val_covertype_categorical1_loss: 3.5542 - val_covertype_categorical2_loss: 1.3910 - val_covertype_categorical3_loss: 0.2674 - val_covertype_categorical4_loss: 2.2955 - val_covertype_categorical5_loss: 2.8601 - val_covertype_categorical6_loss: 3.5110 - val_covertype_categorical7_loss: 1.2325 - val_covertype_categorical8_loss: 1.0623 - val_covertype_categorical9_loss: 1.5077 - val_covertype_categorical10_loss: 3.6595 - val_covertype_cls_categorical_accuracy: 0.8457\n",
      "Epoch 114/1000\n",
      "129/129 [==============================] - 25s 191ms/step - loss: 9.4402 - covertype_cls_loss: 0.4529 - covertype_bernoulli_loss: 0.0547 - covertype_categorical1_loss: 2.2120 - covertype_categorical2_loss: 1.2447 - covertype_categorical3_loss: 0.2352 - covertype_categorical4_loss: 1.8297 - covertype_categorical5_loss: 2.4787 - covertype_categorical6_loss: 2.9569 - covertype_categorical7_loss: 1.0298 - covertype_categorical8_loss: 0.9783 - covertype_categorical9_loss: 1.2945 - covertype_categorical10_loss: 3.1137 - covertype_cls_categorical_accuracy: 0.9258 - val_loss: 11.2315 - val_covertype_cls_loss: 0.6077 - val_covertype_bernoulli_loss: 0.0735 - val_covertype_categorical1_loss: 3.4315 - val_covertype_categorical2_loss: 1.3491 - val_covertype_categorical3_loss: 0.2610 - val_covertype_categorical4_loss: 2.2082 - val_covertype_categorical5_loss: 2.7980 - val_covertype_categorical6_loss: 3.3946 - val_covertype_categorical7_loss: 1.1410 - val_covertype_categorical8_loss: 1.0345 - val_covertype_categorical9_loss: 1.4418 - val_covertype_categorical10_loss: 3.5815 - val_covertype_cls_categorical_accuracy: 0.8466\n",
      "Epoch 115/1000\n",
      "129/129 [==============================] - 25s 193ms/step - loss: 9.3441 - covertype_cls_loss: 0.4515 - covertype_bernoulli_loss: 0.0535 - covertype_categorical1_loss: 2.2058 - covertype_categorical2_loss: 1.2220 - covertype_categorical3_loss: 0.2240 - covertype_categorical4_loss: 1.8159 - covertype_categorical5_loss: 2.4641 - covertype_categorical6_loss: 2.9302 - covertype_categorical7_loss: 1.0057 - covertype_categorical8_loss: 0.9567 - covertype_categorical9_loss: 1.2634 - covertype_categorical10_loss: 3.0962 - covertype_cls_categorical_accuracy: 0.9261 - val_loss: 11.5217 - val_covertype_cls_loss: 0.6145 - val_covertype_bernoulli_loss: 0.0814 - val_covertype_categorical1_loss: 3.5647 - val_covertype_categorical2_loss: 1.3706 - val_covertype_categorical3_loss: 0.2592 - val_covertype_categorical4_loss: 2.2813 - val_covertype_categorical5_loss: 2.8405 - val_covertype_categorical6_loss: 3.4977 - val_covertype_categorical7_loss: 1.1916 - val_covertype_categorical8_loss: 1.0443 - val_covertype_categorical9_loss: 1.4974 - val_covertype_categorical10_loss: 3.6533 - val_covertype_cls_categorical_accuracy: 0.8445\n"
     ]
    },
    {
     "name": "stdout",
     "output_type": "stream",
     "text": [
      "Epoch 116/1000\n",
      "129/129 [==============================] - 24s 188ms/step - loss: 9.3689 - covertype_cls_loss: 0.4536 - covertype_bernoulli_loss: 0.0531 - covertype_categorical1_loss: 2.2154 - covertype_categorical2_loss: 1.2274 - covertype_categorical3_loss: 0.2240 - covertype_categorical4_loss: 1.8195 - covertype_categorical5_loss: 2.4693 - covertype_categorical6_loss: 2.9298 - covertype_categorical7_loss: 1.0058 - covertype_categorical8_loss: 0.9643 - covertype_categorical9_loss: 1.2647 - covertype_categorical10_loss: 3.1116 - covertype_cls_categorical_accuracy: 0.9250 - val_loss: 11.1339 - val_covertype_cls_loss: 0.6073 - val_covertype_bernoulli_loss: 0.0752 - val_covertype_categorical1_loss: 3.4005 - val_covertype_categorical2_loss: 1.3229 - val_covertype_categorical3_loss: 0.2452 - val_covertype_categorical4_loss: 2.1757 - val_covertype_categorical5_loss: 2.7950 - val_covertype_categorical6_loss: 3.3883 - val_covertype_categorical7_loss: 1.1242 - val_covertype_categorical8_loss: 1.0282 - val_covertype_categorical9_loss: 1.3976 - val_covertype_categorical10_loss: 3.5667 - val_covertype_cls_categorical_accuracy: 0.8467\n",
      "Epoch 117/1000\n",
      "129/129 [==============================] - 25s 194ms/step - loss: 9.3029 - covertype_cls_loss: 0.4501 - covertype_bernoulli_loss: 0.0532 - covertype_categorical1_loss: 2.1922 - covertype_categorical2_loss: 1.2223 - covertype_categorical3_loss: 0.2067 - covertype_categorical4_loss: 1.7988 - covertype_categorical5_loss: 2.4571 - covertype_categorical6_loss: 2.9255 - covertype_categorical7_loss: 0.9998 - covertype_categorical8_loss: 0.9526 - covertype_categorical9_loss: 1.2613 - covertype_categorical10_loss: 3.0886 - covertype_cls_categorical_accuracy: 0.9269 - val_loss: 11.5057 - val_covertype_cls_loss: 0.6086 - val_covertype_bernoulli_loss: 0.0747 - val_covertype_categorical1_loss: 3.5166 - val_covertype_categorical2_loss: 1.3936 - val_covertype_categorical3_loss: 0.2440 - val_covertype_categorical4_loss: 2.2512 - val_covertype_categorical5_loss: 2.8626 - val_covertype_categorical6_loss: 3.4949 - val_covertype_categorical7_loss: 1.1547 - val_covertype_categorical8_loss: 1.0874 - val_covertype_categorical9_loss: 1.5088 - val_covertype_categorical10_loss: 3.6709 - val_covertype_cls_categorical_accuracy: 0.8460\n",
      "Epoch 118/1000\n",
      "129/129 [==============================] - 24s 189ms/step - loss: 9.3154 - covertype_cls_loss: 0.4469 - covertype_bernoulli_loss: 0.0529 - covertype_categorical1_loss: 2.2015 - covertype_categorical2_loss: 1.2184 - covertype_categorical3_loss: 0.2033 - covertype_categorical4_loss: 1.8124 - covertype_categorical5_loss: 2.4680 - covertype_categorical6_loss: 2.9378 - covertype_categorical7_loss: 0.9945 - covertype_categorical8_loss: 0.9493 - covertype_categorical9_loss: 1.2549 - covertype_categorical10_loss: 3.0970 - covertype_cls_categorical_accuracy: 0.9287 - val_loss: 11.0298 - val_covertype_cls_loss: 0.6005 - val_covertype_bernoulli_loss: 0.0707 - val_covertype_categorical1_loss: 3.4107 - val_covertype_categorical2_loss: 1.3073 - val_covertype_categorical3_loss: 0.2177 - val_covertype_categorical4_loss: 2.1659 - val_covertype_categorical5_loss: 2.7558 - val_covertype_categorical6_loss: 3.3731 - val_covertype_categorical7_loss: 1.0965 - val_covertype_categorical8_loss: 0.9918 - val_covertype_categorical9_loss: 1.4027 - val_covertype_categorical10_loss: 3.5335 - val_covertype_cls_categorical_accuracy: 0.8518\n",
      "Epoch 119/1000\n",
      "129/129 [==============================] - 26s 204ms/step - loss: 9.3250 - covertype_cls_loss: 0.4520 - covertype_bernoulli_loss: 0.0531 - covertype_categorical1_loss: 2.2015 - covertype_categorical2_loss: 1.2399 - covertype_categorical3_loss: 0.2046 - covertype_categorical4_loss: 1.8069 - covertype_categorical5_loss: 2.4511 - covertype_categorical6_loss: 2.9205 - covertype_categorical7_loss: 1.0098 - covertype_categorical8_loss: 0.9604 - covertype_categorical9_loss: 1.2640 - covertype_categorical10_loss: 3.0870 - covertype_cls_categorical_accuracy: 0.9261 - val_loss: 11.5524 - val_covertype_cls_loss: 0.6101 - val_covertype_bernoulli_loss: 0.0764 - val_covertype_categorical1_loss: 3.5641 - val_covertype_categorical2_loss: 1.4121 - val_covertype_categorical3_loss: 0.2647 - val_covertype_categorical4_loss: 2.2584 - val_covertype_categorical5_loss: 2.8754 - val_covertype_categorical6_loss: 3.4883 - val_covertype_categorical7_loss: 1.1776 - val_covertype_categorical8_loss: 1.0609 - val_covertype_categorical9_loss: 1.5015 - val_covertype_categorical10_loss: 3.6730 - val_covertype_cls_categorical_accuracy: 0.8458\n",
      "Epoch 120/1000\n",
      "129/129 [==============================] - 25s 190ms/step - loss: 9.3073 - covertype_cls_loss: 0.4481 - covertype_bernoulli_loss: 0.0529 - covertype_categorical1_loss: 2.1907 - covertype_categorical2_loss: 1.2277 - covertype_categorical3_loss: 0.2180 - covertype_categorical4_loss: 1.8078 - covertype_categorical5_loss: 2.4590 - covertype_categorical6_loss: 2.9205 - covertype_categorical7_loss: 1.0017 - covertype_categorical8_loss: 0.9558 - covertype_categorical9_loss: 1.2604 - covertype_categorical10_loss: 3.0771 - covertype_cls_categorical_accuracy: 0.9282 - val_loss: 11.0626 - val_covertype_cls_loss: 0.6036 - val_covertype_bernoulli_loss: 0.0687 - val_covertype_categorical1_loss: 3.3802 - val_covertype_categorical2_loss: 1.3274 - val_covertype_categorical3_loss: 0.2136 - val_covertype_categorical4_loss: 2.1593 - val_covertype_categorical5_loss: 2.7795 - val_covertype_categorical6_loss: 3.3798 - val_covertype_categorical7_loss: 1.1214 - val_covertype_categorical8_loss: 1.0046 - val_covertype_categorical9_loss: 1.4266 - val_covertype_categorical10_loss: 3.5244 - val_covertype_cls_categorical_accuracy: 0.8478- covertype_categorical1_loss: 2.1906 - covertype_categorical2_loss: 1.2281 - covertype_categorical3_loss: 0.2173 - covertype_categorical4_loss: 1.8082 - covertype_categorical5_loss: 2.4595 - covertype_categorical6_loss: 2.9203 - covertype_categorical7_loss: 1.0005 - covertype_categorical8_loss: 0.9553 - covertype_categorical9_loss: 1.2593 - covertype_categorical10_loss: 3.0779 - covertype_cls_categorical_accuracy: \n",
      "Epoch 121/1000\n",
      "129/129 [==============================] - 26s 204ms/step - loss: 9.2902 - covertype_cls_loss: 0.4473 - covertype_bernoulli_loss: 0.0517 - covertype_categorical1_loss: 2.1892 - covertype_categorical2_loss: 1.2273 - covertype_categorical3_loss: 0.2093 - covertype_categorical4_loss: 1.8175 - covertype_categorical5_loss: 2.4538 - covertype_categorical6_loss: 2.9040 - covertype_categorical7_loss: 1.0048 - covertype_categorical8_loss: 0.9468 - covertype_categorical9_loss: 1.2620 - covertype_categorical10_loss: 3.0722 - covertype_cls_categorical_accuracy: 0.9283 - val_loss: 11.4640 - val_covertype_cls_loss: 0.6060 - val_covertype_bernoulli_loss: 0.0765 - val_covertype_categorical1_loss: 3.5551 - val_covertype_categorical2_loss: 1.4053 - val_covertype_categorical3_loss: 0.2300 - val_covertype_categorical4_loss: 2.2398 - val_covertype_categorical5_loss: 2.8211 - val_covertype_categorical6_loss: 3.4587 - val_covertype_categorical7_loss: 1.1756 - val_covertype_categorical8_loss: 1.0691 - val_covertype_categorical9_loss: 1.4988 - val_covertype_categorical10_loss: 3.6527 - val_covertype_cls_categorical_accuracy: 0.8499\n",
      "Epoch 122/1000\n",
      "129/129 [==============================] - 29s 222ms/step - loss: 9.3875 - covertype_cls_loss: 0.4478 - covertype_bernoulli_loss: 0.0533 - covertype_categorical1_loss: 2.1956 - covertype_categorical2_loss: 1.2234 - covertype_categorical3_loss: 0.2232 - covertype_categorical4_loss: 1.9105 - covertype_categorical5_loss: 2.5039 - covertype_categorical6_loss: 2.9178 - covertype_categorical7_loss: 1.0004 - covertype_categorical8_loss: 0.9541 - covertype_categorical9_loss: 1.2591 - covertype_categorical10_loss: 3.0918 - covertype_cls_categorical_accuracy: 0.9279 - val_loss: 11.0393 - val_covertype_cls_loss: 0.6065 - val_covertype_bernoulli_loss: 0.0694 - val_covertype_categorical1_loss: 3.3846 - val_covertype_categorical2_loss: 1.3315 - val_covertype_categorical3_loss: 0.2341 - val_covertype_categorical4_loss: 2.1796 - val_covertype_categorical5_loss: 2.7451 - val_covertype_categorical6_loss: 3.3348 - val_covertype_categorical7_loss: 1.1124 - val_covertype_categorical8_loss: 0.9996 - val_covertype_categorical9_loss: 1.4154 - val_covertype_categorical10_loss: 3.5271 - val_covertype_cls_categorical_accuracy: 0.8476\n",
      "Epoch 123/1000\n",
      "129/129 [==============================] - 29s 228ms/step - loss: 9.1508 - covertype_cls_loss: 0.4445 - covertype_bernoulli_loss: 0.0514 - covertype_categorical1_loss: 2.1724 - covertype_categorical2_loss: 1.1932 - covertype_categorical3_loss: 0.1969 - covertype_categorical4_loss: 1.7786 - covertype_categorical5_loss: 2.4204 - covertype_categorical6_loss: 2.8835 - covertype_categorical7_loss: 0.9712 - covertype_categorical8_loss: 0.9233 - covertype_categorical9_loss: 1.2270 - covertype_categorical10_loss: 3.0460 - covertype_cls_categorical_accuracy: 0.9292 - val_loss: 11.4208 - val_covertype_cls_loss: 0.6077 - val_covertype_bernoulli_loss: 0.0732 - val_covertype_categorical1_loss: 3.4996 - val_covertype_categorical2_loss: 1.3945 - val_covertype_categorical3_loss: 0.2518 - val_covertype_categorical4_loss: 2.2260 - val_covertype_categorical5_loss: 2.8105 - val_covertype_categorical6_loss: 3.4533 - val_covertype_categorical7_loss: 1.1445 - val_covertype_categorical8_loss: 1.1141 - val_covertype_categorical9_loss: 1.4717 - val_covertype_categorical10_loss: 3.6521 - val_covertype_cls_categorical_accuracy: 0.8476\n",
      "Epoch 124/1000\n",
      "129/129 [==============================] - 29s 222ms/step - loss: 9.2338 - covertype_cls_loss: 0.4450 - covertype_bernoulli_loss: 0.0507 - covertype_categorical1_loss: 2.1847 - covertype_categorical2_loss: 1.2117 - covertype_categorical3_loss: 0.2092 - covertype_categorical4_loss: 1.7739 - covertype_categorical5_loss: 2.4382 - covertype_categorical6_loss: 2.8973 - covertype_categorical7_loss: 0.9970 - covertype_categorical8_loss: 0.9480 - covertype_categorical9_loss: 1.2546 - covertype_categorical10_loss: 3.0641 - covertype_cls_categorical_accuracy: 0.9291 - val_loss: 11.0059 - val_covertype_cls_loss: 0.5956 - val_covertype_bernoulli_loss: 0.0691 - val_covertype_categorical1_loss: 3.3801 - val_covertype_categorical2_loss: 1.3123 - val_covertype_categorical3_loss: 0.2102 - val_covertype_categorical4_loss: 2.1426 - val_covertype_categorical5_loss: 2.7354 - val_covertype_categorical6_loss: 3.3736 - val_covertype_categorical7_loss: 1.1101 - val_covertype_categorical8_loss: 1.0034 - val_covertype_categorical9_loss: 1.4103 - val_covertype_categorical10_loss: 3.5396 - val_covertype_cls_categorical_accuracy: 0.8534\n",
      "Epoch 125/1000\n",
      "129/129 [==============================] - 29s 225ms/step - loss: 9.2304 - covertype_cls_loss: 0.4465 - covertype_bernoulli_loss: 0.0511 - covertype_categorical1_loss: 2.1685 - covertype_categorical2_loss: 1.2090 - covertype_categorical3_loss: 0.2128 - covertype_categorical4_loss: 1.7922 - covertype_categorical5_loss: 2.4257 - covertype_categorical6_loss: 2.9006 - covertype_categorical7_loss: 1.0011 - covertype_categorical8_loss: 0.9389 - covertype_categorical9_loss: 1.2583 - covertype_categorical10_loss: 3.0622 - covertype_cls_categorical_accuracy: 0.9284 - val_loss: 11.3534 - val_covertype_cls_loss: 0.6136 - val_covertype_bernoulli_loss: 0.0804 - val_covertype_categorical1_loss: 3.4513 - val_covertype_categorical2_loss: 1.3808 - val_covertype_categorical3_loss: 0.2293 - val_covertype_categorical4_loss: 2.2254 - val_covertype_categorical5_loss: 2.7822 - val_covertype_categorical6_loss: 3.4851 - val_covertype_categorical7_loss: 1.1821 - val_covertype_categorical8_loss: 1.0347 - val_covertype_categorical9_loss: 1.4818 - val_covertype_categorical10_loss: 3.6120 - val_covertype_cls_categorical_accuracy: 0.8431\n",
      "Epoch 126/1000\n",
      "129/129 [==============================] - 29s 227ms/step - loss: 9.2079 - covertype_cls_loss: 0.4420 - covertype_bernoulli_loss: 0.0503 - covertype_categorical1_loss: 2.1737 - covertype_categorical2_loss: 1.2075 - covertype_categorical3_loss: 0.2037 - covertype_categorical4_loss: 1.7992 - covertype_categorical5_loss: 2.4250 - covertype_categorical6_loss: 2.8964 - covertype_categorical7_loss: 0.9846 - covertype_categorical8_loss: 0.9394 - covertype_categorical9_loss: 1.2477 - covertype_categorical10_loss: 3.0566 - covertype_cls_categorical_accuracy: 0.9305 - val_loss: 11.0289 - val_covertype_cls_loss: 0.5922 - val_covertype_bernoulli_loss: 0.0733 - val_covertype_categorical1_loss: 3.3894 - val_covertype_categorical2_loss: 1.3206 - val_covertype_categorical3_loss: 0.2224 - val_covertype_categorical4_loss: 2.1536 - val_covertype_categorical5_loss: 2.7358 - val_covertype_categorical6_loss: 3.3555 - val_covertype_categorical7_loss: 1.1213 - val_covertype_categorical8_loss: 1.0271 - val_covertype_categorical9_loss: 1.4005 - val_covertype_categorical10_loss: 3.5393 - val_covertype_cls_categorical_accuracy: 0.8540\n",
      "Epoch 127/1000\n",
      "129/129 [==============================] - 29s 226ms/step - loss: 9.1903 - covertype_cls_loss: 0.4458 - covertype_bernoulli_loss: 0.0504 - covertype_categorical1_loss: 2.1673 - covertype_categorical2_loss: 1.2090 - covertype_categorical3_loss: 0.2130 - covertype_categorical4_loss: 1.7783 - covertype_categorical5_loss: 2.4144 - covertype_categorical6_loss: 2.8750 - covertype_categorical7_loss: 0.9952 - covertype_categorical8_loss: 0.9348 - covertype_categorical9_loss: 1.2602 - covertype_categorical10_loss: 3.0428 - covertype_cls_categorical_accuracy: 0.9287 - val_loss: 11.5778 - val_covertype_cls_loss: 0.6044 - val_covertype_bernoulli_loss: 0.0704 - val_covertype_categorical1_loss: 3.6002 - val_covertype_categorical2_loss: 1.3850 - val_covertype_categorical3_loss: 0.2571 - val_covertype_categorical4_loss: 2.2640 - val_covertype_categorical5_loss: 2.8705 - val_covertype_categorical6_loss: 3.4791 - val_covertype_categorical7_loss: 1.2056 - val_covertype_categorical8_loss: 1.0838 - val_covertype_categorical9_loss: 1.5425 - val_covertype_categorical10_loss: 3.6550 - val_covertype_cls_categorical_accuracy: 0.8477\n",
      "Epoch 128/1000\n",
      "129/129 [==============================] - 29s 224ms/step - loss: 9.2143 - covertype_cls_loss: 0.4434 - covertype_bernoulli_loss: 0.0513 - covertype_categorical1_loss: 2.1763 - covertype_categorical2_loss: 1.2035 - covertype_categorical3_loss: 0.2025 - covertype_categorical4_loss: 1.8056 - covertype_categorical5_loss: 2.4293 - covertype_categorical6_loss: 2.8913 - covertype_categorical7_loss: 0.9901 - covertype_categorical8_loss: 0.9312 - covertype_categorical9_loss: 1.2468 - covertype_categorical10_loss: 3.0668 - covertype_cls_categorical_accuracy: 0.9300 - val_loss: 11.0114 - val_covertype_cls_loss: 0.5919 - val_covertype_bernoulli_loss: 0.0663 - val_covertype_categorical1_loss: 3.3631 - val_covertype_categorical2_loss: 1.3282 - val_covertype_categorical3_loss: 0.2351 - val_covertype_categorical4_loss: 2.1585 - val_covertype_categorical5_loss: 2.7431 - val_covertype_categorical6_loss: 3.3562 - val_covertype_categorical7_loss: 1.1033 - val_covertype_categorical8_loss: 0.9996 - val_covertype_categorical9_loss: 1.4050 - val_covertype_categorical10_loss: 3.5476 - val_covertype_cls_categorical_accuracy: 0.8533\n",
      "Epoch 129/1000\n"
     ]
    },
    {
     "name": "stdout",
     "output_type": "stream",
     "text": [
      "129/129 [==============================] - 28s 215ms/step - loss: 9.1571 - covertype_cls_loss: 0.4402 - covertype_bernoulli_loss: 0.0510 - covertype_categorical1_loss: 2.1596 - covertype_categorical2_loss: 1.1926 - covertype_categorical3_loss: 0.2100 - covertype_categorical4_loss: 1.7742 - covertype_categorical5_loss: 2.4200 - covertype_categorical6_loss: 2.8631 - covertype_categorical7_loss: 0.9798 - covertype_categorical8_loss: 0.9382 - covertype_categorical9_loss: 1.2425 - covertype_categorical10_loss: 3.0544 - covertype_cls_categorical_accuracy: 0.9318 - val_loss: 11.3917 - val_covertype_cls_loss: 0.6011 - val_covertype_bernoulli_loss: 0.0752 - val_covertype_categorical1_loss: 3.4780 - val_covertype_categorical2_loss: 1.3728 - val_covertype_categorical3_loss: 0.2370 - val_covertype_categorical4_loss: 2.2479 - val_covertype_categorical5_loss: 2.8264 - val_covertype_categorical6_loss: 3.4473 - val_covertype_categorical7_loss: 1.1595 - val_covertype_categorical8_loss: 1.0746 - val_covertype_categorical9_loss: 1.4861 - val_covertype_categorical10_loss: 3.6434 - val_covertype_cls_categorical_accuracy: 0.8507\n",
      "Epoch 130/1000\n",
      "129/129 [==============================] - 23s 180ms/step - loss: 9.1585 - covertype_cls_loss: 0.4449 - covertype_bernoulli_loss: 0.0494 - covertype_categorical1_loss: 2.1635 - covertype_categorical2_loss: 1.1986 - covertype_categorical3_loss: 0.1981 - covertype_categorical4_loss: 1.8003 - covertype_categorical5_loss: 2.4103 - covertype_categorical6_loss: 2.8692 - covertype_categorical7_loss: 0.9759 - covertype_categorical8_loss: 0.9336 - covertype_categorical9_loss: 1.2409 - covertype_categorical10_loss: 3.0397 - covertype_cls_categorical_accuracy: 0.9285 - val_loss: 10.9950 - val_covertype_cls_loss: 0.5968 - val_covertype_bernoulli_loss: 0.0696 - val_covertype_categorical1_loss: 3.3747 - val_covertype_categorical2_loss: 1.3060 - val_covertype_categorical3_loss: 0.2067 - val_covertype_categorical4_loss: 2.1413 - val_covertype_categorical5_loss: 2.7578 - val_covertype_categorical6_loss: 3.3367 - val_covertype_categorical7_loss: 1.1101 - val_covertype_categorical8_loss: 1.0261 - val_covertype_categorical9_loss: 1.4259 - val_covertype_categorical10_loss: 3.5077 - val_covertype_cls_categorical_accuracy: 0.8504\n",
      "Epoch 131/1000\n",
      "129/129 [==============================] - 23s 180ms/step - loss: 9.1306 - covertype_cls_loss: 0.4392 - covertype_bernoulli_loss: 0.0497 - covertype_categorical1_loss: 2.1659 - covertype_categorical2_loss: 1.2032 - covertype_categorical3_loss: 0.1985 - covertype_categorical4_loss: 1.7727 - covertype_categorical5_loss: 2.4073 - covertype_categorical6_loss: 2.8584 - covertype_categorical7_loss: 0.9777 - covertype_categorical8_loss: 0.9257 - covertype_categorical9_loss: 1.2396 - covertype_categorical10_loss: 3.0352 - covertype_cls_categorical_accuracy: 0.9322 - val_loss: 11.3979 - val_covertype_cls_loss: 0.5998 - val_covertype_bernoulli_loss: 0.0696 - val_covertype_categorical1_loss: 3.5180 - val_covertype_categorical2_loss: 1.4017 - val_covertype_categorical3_loss: 0.2460 - val_covertype_categorical4_loss: 2.2224 - val_covertype_categorical5_loss: 2.8156 - val_covertype_categorical6_loss: 3.4344 - val_covertype_categorical7_loss: 1.1767 - val_covertype_categorical8_loss: 1.0639 - val_covertype_categorical9_loss: 1.4902 - val_covertype_categorical10_loss: 3.6249 - val_covertype_cls_categorical_accuracy: 0.8513\n",
      "Epoch 132/1000\n",
      "129/129 [==============================] - 22s 168ms/step - loss: 9.1653 - covertype_cls_loss: 0.4395 - covertype_bernoulli_loss: 0.0495 - covertype_categorical1_loss: 2.1531 - covertype_categorical2_loss: 1.2002 - covertype_categorical3_loss: 0.2079 - covertype_categorical4_loss: 1.8224 - covertype_categorical5_loss: 2.4212 - covertype_categorical6_loss: 2.8667 - covertype_categorical7_loss: 0.9794 - covertype_categorical8_loss: 0.9301 - covertype_categorical9_loss: 1.2421 - covertype_categorical10_loss: 3.0312 - covertype_cls_categorical_accuracy: 0.9319 - val_loss: 10.9391 - val_covertype_cls_loss: 0.5879 - val_covertype_bernoulli_loss: 0.0680 - val_covertype_categorical1_loss: 3.3532 - val_covertype_categorical2_loss: 1.3096 - val_covertype_categorical3_loss: 0.2181 - val_covertype_categorical4_loss: 2.1456 - val_covertype_categorical5_loss: 2.7165 - val_covertype_categorical6_loss: 3.3243 - val_covertype_categorical7_loss: 1.1166 - val_covertype_categorical8_loss: 0.9869 - val_covertype_categorical9_loss: 1.4175 - val_covertype_categorical10_loss: 3.5133 - val_covertype_cls_categorical_accuracy: 0.8561\n",
      "Epoch 133/1000\n",
      "129/129 [==============================] - 24s 183ms/step - loss: 9.1111 - covertype_cls_loss: 0.4386 - covertype_bernoulli_loss: 0.0489 - covertype_categorical1_loss: 2.1465 - covertype_categorical2_loss: 1.2054 - covertype_categorical3_loss: 0.1994 - covertype_categorical4_loss: 1.7559 - covertype_categorical5_loss: 2.3879 - covertype_categorical6_loss: 2.8615 - covertype_categorical7_loss: 0.9907 - covertype_categorical8_loss: 0.9295 - covertype_categorical9_loss: 1.2551 - covertype_categorical10_loss: 3.0155 - covertype_cls_categorical_accuracy: 0.9321 - val_loss: 11.2505 - val_covertype_cls_loss: 0.5907 - val_covertype_bernoulli_loss: 0.0727 - val_covertype_categorical1_loss: 3.4672 - val_covertype_categorical2_loss: 1.3601 - val_covertype_categorical3_loss: 0.2037 - val_covertype_categorical4_loss: 2.2018 - val_covertype_categorical5_loss: 2.7964 - val_covertype_categorical6_loss: 3.4240 - val_covertype_categorical7_loss: 1.1514 - val_covertype_categorical8_loss: 1.0398 - val_covertype_categorical9_loss: 1.4627 - val_covertype_categorical10_loss: 3.6045 - val_covertype_cls_categorical_accuracy: 0.8554\n",
      "Epoch 134/1000\n",
      "129/129 [==============================] - 25s 197ms/step - loss: 9.0399 - covertype_cls_loss: 0.4377 - covertype_bernoulli_loss: 0.0488 - covertype_categorical1_loss: 2.1458 - covertype_categorical2_loss: 1.1812 - covertype_categorical3_loss: 0.1812 - covertype_categorical4_loss: 1.7574 - covertype_categorical5_loss: 2.3878 - covertype_categorical6_loss: 2.8442 - covertype_categorical7_loss: 0.9526 - covertype_categorical8_loss: 0.9117 - covertype_categorical9_loss: 1.2208 - covertype_categorical10_loss: 3.0235 - covertype_cls_categorical_accuracy: 0.9326 - val_loss: 10.8318 - val_covertype_cls_loss: 0.5887 - val_covertype_bernoulli_loss: 0.0690 - val_covertype_categorical1_loss: 3.3406 - val_covertype_categorical2_loss: 1.2830 - val_covertype_categorical3_loss: 0.1969 - val_covertype_categorical4_loss: 2.1166 - val_covertype_categorical5_loss: 2.6946 - val_covertype_categorical6_loss: 3.3121 - val_covertype_categorical7_loss: 1.0721 - val_covertype_categorical8_loss: 0.9772 - val_covertype_categorical9_loss: 1.3888 - val_covertype_categorical10_loss: 3.5004 - val_covertype_cls_categorical_accuracy: 0.8554\n",
      "Epoch 135/1000\n",
      "129/129 [==============================] - 27s 211ms/step - loss: 9.0723 - covertype_cls_loss: 0.4389 - covertype_bernoulli_loss: 0.0495 - covertype_categorical1_loss: 2.1393 - covertype_categorical2_loss: 1.1896 - covertype_categorical3_loss: 0.1961 - covertype_categorical4_loss: 1.7581 - covertype_categorical5_loss: 2.3903 - covertype_categorical6_loss: 2.8496 - covertype_categorical7_loss: 0.9587 - covertype_categorical8_loss: 0.9254 - covertype_categorical9_loss: 1.2272 - covertype_categorical10_loss: 3.0338 - covertype_cls_categorical_accuracy: 0.9321 - val_loss: 11.2202 - val_covertype_cls_loss: 0.5953 - val_covertype_bernoulli_loss: 0.0831 - val_covertype_categorical1_loss: 3.4466 - val_covertype_categorical2_loss: 1.3552 - val_covertype_categorical3_loss: 0.2170 - val_covertype_categorical4_loss: 2.1913 - val_covertype_categorical5_loss: 2.7601 - val_covertype_categorical6_loss: 3.4163 - val_covertype_categorical7_loss: 1.1145 - val_covertype_categorical8_loss: 1.0554 - val_covertype_categorical9_loss: 1.4769 - val_covertype_categorical10_loss: 3.5984 - val_covertype_cls_categorical_accuracy: 0.8528e_bernoulli_loss: 0.0488 - covertype_categorical1_loss: 2.1415 - covertype_categorical2_loss: 1.1926 - covertype_categorical3_loss: 0.1992 - covertype_categorical4_loss: 1.7680 - covertype_categorical5_loss: 2.3956 - covertype_categorical6_loss: 2.8446 - covertype_categorical7_loss: 0.9647 - covertype_categorical8_loss: 0.9330 - covertype_categorical9_loss: 1.2348 - covertype_categorical10_loss: 3.02\n",
      "Epoch 136/1000\n",
      "129/129 [==============================] - 26s 203ms/step - loss: 9.1014 - covertype_cls_loss: 0.4411 - covertype_bernoulli_loss: 0.0492 - covertype_categorical1_loss: 2.1486 - covertype_categorical2_loss: 1.1879 - covertype_categorical3_loss: 0.1941 - covertype_categorical4_loss: 1.7859 - covertype_categorical5_loss: 2.4036 - covertype_categorical6_loss: 2.8594 - covertype_categorical7_loss: 0.9684 - covertype_categorical8_loss: 0.9125 - covertype_categorical9_loss: 1.2308 - covertype_categorical10_loss: 3.0315 - covertype_cls_categorical_accuracy: 0.9306 - val_loss: 10.8931 - val_covertype_cls_loss: 0.5838 - val_covertype_bernoulli_loss: 0.0622 - val_covertype_categorical1_loss: 3.3600 - val_covertype_categorical2_loss: 1.2974 - val_covertype_categorical3_loss: 0.2009 - val_covertype_categorical4_loss: 2.1442 - val_covertype_categorical5_loss: 2.7139 - val_covertype_categorical6_loss: 3.3131 - val_covertype_categorical7_loss: 1.0902 - val_covertype_categorical8_loss: 0.9930 - val_covertype_categorical9_loss: 1.4038 - val_covertype_categorical10_loss: 3.5073 - val_covertype_cls_categorical_accuracy: 0.8591\n",
      "Epoch 137/1000\n",
      "129/129 [==============================] - 26s 199ms/step - loss: 9.0670 - covertype_cls_loss: 0.4386 - covertype_bernoulli_loss: 0.0481 - covertype_categorical1_loss: 2.1376 - covertype_categorical2_loss: 1.1940 - covertype_categorical3_loss: 0.2012 - covertype_categorical4_loss: 1.7535 - covertype_categorical5_loss: 2.3802 - covertype_categorical6_loss: 2.8403 - covertype_categorical7_loss: 0.9827 - covertype_categorical8_loss: 0.9164 - covertype_categorical9_loss: 1.2454 - covertype_categorical10_loss: 3.0085 - covertype_cls_categorical_accuracy: 0.9322 - val_loss: 11.3369 - val_covertype_cls_loss: 0.6067 - val_covertype_bernoulli_loss: 0.0706 - val_covertype_categorical1_loss: 3.4744 - val_covertype_categorical2_loss: 1.3577 - val_covertype_categorical3_loss: 0.2687 - val_covertype_categorical4_loss: 2.2063 - val_covertype_categorical5_loss: 2.7898 - val_covertype_categorical6_loss: 3.3779 - val_covertype_categorical7_loss: 1.1760 - val_covertype_categorical8_loss: 1.0776 - val_covertype_categorical9_loss: 1.5268 - val_covertype_categorical10_loss: 3.6010 - val_covertype_cls_categorical_accuracy: 0.8480.1384 - covertype_categorical2_loss: 1.1824 - covertype_categorical3_loss: 0.2001 - covertype_categorical4_loss: 1.7512 - covertype_categorical5_loss: 2.3802 - covertype_categorical6_loss: 2.8426 - covertype_categorical7_loss: 0.9701 - covertype_categorical8_loss: 0.9142 - covertype_categorical9_loss: 1.2348 - covertype_categorical10_loss: 3.0094 - cov\n",
      "Epoch 138/1000\n",
      "129/129 [==============================] - 27s 208ms/step - loss: 9.0693 - covertype_cls_loss: 0.4368 - covertype_bernoulli_loss: 0.0501 - covertype_categorical1_loss: 2.1409 - covertype_categorical2_loss: 1.1808 - covertype_categorical3_loss: 0.1889 - covertype_categorical4_loss: 1.7955 - covertype_categorical5_loss: 2.3996 - covertype_categorical6_loss: 2.8453 - covertype_categorical7_loss: 0.9581 - covertype_categorical8_loss: 0.9178 - covertype_categorical9_loss: 1.2232 - covertype_categorical10_loss: 3.0163 - covertype_cls_categorical_accuracy: 0.9328 - val_loss: 10.7986 - val_covertype_cls_loss: 0.5843 - val_covertype_bernoulli_loss: 0.0650 - val_covertype_categorical1_loss: 3.3360 - val_covertype_categorical2_loss: 1.2995 - val_covertype_categorical3_loss: 0.2020 - val_covertype_categorical4_loss: 2.1149 - val_covertype_categorical5_loss: 2.6693 - val_covertype_categorical6_loss: 3.2865 - val_covertype_categorical7_loss: 1.0816 - val_covertype_categorical8_loss: 0.9727 - val_covertype_categorical9_loss: 1.3768 - val_covertype_categorical10_loss: 3.4912 - val_covertype_cls_categorical_accuracy: 0.8576\n",
      "Epoch 139/1000\n",
      "129/129 [==============================] - 27s 206ms/step - loss: 8.9873 - covertype_cls_loss: 0.4369 - covertype_bernoulli_loss: 0.0477 - covertype_categorical1_loss: 2.1279 - covertype_categorical2_loss: 1.1767 - covertype_categorical3_loss: 0.1846 - covertype_categorical4_loss: 1.7420 - covertype_categorical5_loss: 2.3589 - covertype_categorical6_loss: 2.8290 - covertype_categorical7_loss: 0.9583 - covertype_categorical8_loss: 0.9165 - covertype_categorical9_loss: 1.2188 - covertype_categorical10_loss: 2.9913 - covertype_cls_categorical_accuracy: 0.9329 - val_loss: 11.2215 - val_covertype_cls_loss: 0.5901 - val_covertype_bernoulli_loss: 0.0704 - val_covertype_categorical1_loss: 3.4679 - val_covertype_categorical2_loss: 1.3892 - val_covertype_categorical3_loss: 0.2243 - val_covertype_categorical4_loss: 2.1967 - val_covertype_categorical5_loss: 2.7613 - val_covertype_categorical6_loss: 3.3768 - val_covertype_categorical7_loss: 1.1558 - val_covertype_categorical8_loss: 1.0189 - val_covertype_categorical9_loss: 1.4833 - val_covertype_categorical10_loss: 3.5851 - val_covertype_cls_categorical_accuracy: 0.8572\n",
      "Epoch 140/1000\n",
      "129/129 [==============================] - 26s 199ms/step - loss: 9.0290 - covertype_cls_loss: 0.4381 - covertype_bernoulli_loss: 0.0474 - covertype_categorical1_loss: 2.1311 - covertype_categorical2_loss: 1.1956 - covertype_categorical3_loss: 0.1909 - covertype_categorical4_loss: 1.7477 - covertype_categorical5_loss: 2.3645 - covertype_categorical6_loss: 2.8197 - covertype_categorical7_loss: 0.9757 - covertype_categorical8_loss: 0.9209 - covertype_categorical9_loss: 1.2401 - covertype_categorical10_loss: 2.9989 - covertype_cls_categorical_accuracy: 0.9319 - val_loss: 10.8886 - val_covertype_cls_loss: 0.5867 - val_covertype_bernoulli_loss: 0.0672 - val_covertype_categorical1_loss: 3.3457 - val_covertype_categorical2_loss: 1.3009 - val_covertype_categorical3_loss: 0.2043 - val_covertype_categorical4_loss: 2.1338 - val_covertype_categorical5_loss: 2.6849 - val_covertype_categorical6_loss: 3.2971 - val_covertype_categorical7_loss: 1.0981 - val_covertype_categorical8_loss: 0.9847 - val_covertype_categorical9_loss: 1.4196 - val_covertype_categorical10_loss: 3.5327 - val_covertype_cls_categorical_accuracy: 0.8562\n",
      "Epoch 141/1000\n"
     ]
    },
    {
     "name": "stdout",
     "output_type": "stream",
     "text": [
      "129/129 [==============================] - 26s 203ms/step - loss: 8.9881 - covertype_cls_loss: 0.4361 - covertype_bernoulli_loss: 0.0473 - covertype_categorical1_loss: 2.1328 - covertype_categorical2_loss: 1.1774 - covertype_categorical3_loss: 0.1945 - covertype_categorical4_loss: 1.7417 - covertype_categorical5_loss: 2.3668 - covertype_categorical6_loss: 2.8114 - covertype_categorical7_loss: 0.9546 - covertype_categorical8_loss: 0.9136 - covertype_categorical9_loss: 1.2183 - covertype_categorical10_loss: 2.9968 - covertype_cls_categorical_accuracy: 0.9329 - val_loss: 11.2686 - val_covertype_cls_loss: 0.6025 - val_covertype_bernoulli_loss: 0.0679 - val_covertype_categorical1_loss: 3.4410 - val_covertype_categorical2_loss: 1.3357 - val_covertype_categorical3_loss: 0.2726 - val_covertype_categorical4_loss: 2.1713 - val_covertype_categorical5_loss: 2.7504 - val_covertype_categorical6_loss: 3.3885 - val_covertype_categorical7_loss: 1.1477 - val_covertype_categorical8_loss: 1.1133 - val_covertype_categorical9_loss: 1.4988 - val_covertype_categorical10_loss: 3.6104 - val_covertype_cls_categorical_accuracy: 0.8498\n",
      "Epoch 142/1000\n",
      "129/129 [==============================] - 26s 203ms/step - loss: 9.0273 - covertype_cls_loss: 0.4374 - covertype_bernoulli_loss: 0.0476 - covertype_categorical1_loss: 2.1307 - covertype_categorical2_loss: 1.1736 - covertype_categorical3_loss: 0.1918 - covertype_categorical4_loss: 1.7577 - covertype_categorical5_loss: 2.3743 - covertype_categorical6_loss: 2.8228 - covertype_categorical7_loss: 0.9627 - covertype_categorical8_loss: 0.9220 - covertype_categorical9_loss: 1.2417 - covertype_categorical10_loss: 3.0059 - covertype_cls_categorical_accuracy: 0.9327 - val_loss: 10.8155 - val_covertype_cls_loss: 0.5830 - val_covertype_bernoulli_loss: 0.0643 - val_covertype_categorical1_loss: 3.3229 - val_covertype_categorical2_loss: 1.3039 - val_covertype_categorical3_loss: 0.2050 - val_covertype_categorical4_loss: 2.1080 - val_covertype_categorical5_loss: 2.6895 - val_covertype_categorical6_loss: 3.2857 - val_covertype_categorical7_loss: 1.0767 - val_covertype_categorical8_loss: 0.9850 - val_covertype_categorical9_loss: 1.3929 - val_covertype_categorical10_loss: 3.4977 - val_covertype_cls_categorical_accuracy: 0.8573\n",
      "Epoch 143/1000\n",
      "129/129 [==============================] - 27s 208ms/step - loss: 8.9950 - covertype_cls_loss: 0.4361 - covertype_bernoulli_loss: 0.0470 - covertype_categorical1_loss: 2.1262 - covertype_categorical2_loss: 1.1700 - covertype_categorical3_loss: 0.2056 - covertype_categorical4_loss: 1.7296 - covertype_categorical5_loss: 2.3697 - covertype_categorical6_loss: 2.8164 - covertype_categorical7_loss: 0.9698 - covertype_categorical8_loss: 0.9126 - covertype_categorical9_loss: 1.2344 - covertype_categorical10_loss: 2.9866 - covertype_cls_categorical_accuracy: 0.9329 - val_loss: 11.1960 - val_covertype_cls_loss: 0.5989 - val_covertype_bernoulli_loss: 0.0733 - val_covertype_categorical1_loss: 3.4990 - val_covertype_categorical2_loss: 1.3207 - val_covertype_categorical3_loss: 0.2292 - val_covertype_categorical4_loss: 2.2302 - val_covertype_categorical5_loss: 2.7326 - val_covertype_categorical6_loss: 3.4002 - val_covertype_categorical7_loss: 1.1191 - val_covertype_categorical8_loss: 1.0110 - val_covertype_categorical9_loss: 1.4642 - val_covertype_categorical10_loss: 3.5804 - val_covertype_cls_categorical_accuracy: 0.8505\n",
      "Epoch 144/1000\n",
      "129/129 [==============================] - 27s 209ms/step - loss: 8.9693 - covertype_cls_loss: 0.4349 - covertype_bernoulli_loss: 0.0474 - covertype_categorical1_loss: 2.1207 - covertype_categorical2_loss: 1.1755 - covertype_categorical3_loss: 0.1888 - covertype_categorical4_loss: 1.7304 - covertype_categorical5_loss: 2.3553 - covertype_categorical6_loss: 2.8208 - covertype_categorical7_loss: 0.9616 - covertype_categorical8_loss: 0.9125 - covertype_categorical9_loss: 1.2230 - covertype_categorical10_loss: 2.9835 - covertype_cls_categorical_accuracy: 0.9337 - val_loss: 10.8245 - val_covertype_cls_loss: 0.5854 - val_covertype_bernoulli_loss: 0.0628 - val_covertype_categorical1_loss: 3.3420 - val_covertype_categorical2_loss: 1.2917 - val_covertype_categorical3_loss: 0.1913 - val_covertype_categorical4_loss: 2.0846 - val_covertype_categorical5_loss: 2.7015 - val_covertype_categorical6_loss: 3.3067 - val_covertype_categorical7_loss: 1.0879 - val_covertype_categorical8_loss: 0.9794 - val_covertype_categorical9_loss: 1.4044 - val_covertype_categorical10_loss: 3.4917 - val_covertype_cls_categorical_accuracy: 0.8587\n",
      "Epoch 145/1000\n",
      "129/129 [==============================] - 27s 213ms/step - loss: 8.9425 - covertype_cls_loss: 0.4326 - covertype_bernoulli_loss: 0.0468 - covertype_categorical1_loss: 2.1200 - covertype_categorical2_loss: 1.1566 - covertype_categorical3_loss: 0.1873 - covertype_categorical4_loss: 1.7453 - covertype_categorical5_loss: 2.3549 - covertype_categorical6_loss: 2.8039 - covertype_categorical7_loss: 0.9484 - covertype_categorical8_loss: 0.9157 - covertype_categorical9_loss: 1.2113 - covertype_categorical10_loss: 2.9794 - covertype_cls_categorical_accuracy: 0.9347 - val_loss: 11.1509 - val_covertype_cls_loss: 0.5933 - val_covertype_bernoulli_loss: 0.0670 - val_covertype_categorical1_loss: 3.4366 - val_covertype_categorical2_loss: 1.3874 - val_covertype_categorical3_loss: 0.2028 - val_covertype_categorical4_loss: 2.1871 - val_covertype_categorical5_loss: 2.7148 - val_covertype_categorical6_loss: 3.3773 - val_covertype_categorical7_loss: 1.1656 - val_covertype_categorical8_loss: 1.0286 - val_covertype_categorical9_loss: 1.4418 - val_covertype_categorical10_loss: 3.5707 - val_covertype_cls_categorical_accuracy: 0.8544\n",
      "Epoch 146/1000\n",
      "129/129 [==============================] - 27s 208ms/step - loss: 8.9438 - covertype_cls_loss: 0.4353 - covertype_bernoulli_loss: 0.0466 - covertype_categorical1_loss: 2.1143 - covertype_categorical2_loss: 1.1755 - covertype_categorical3_loss: 0.1877 - covertype_categorical4_loss: 1.7398 - covertype_categorical5_loss: 2.3561 - covertype_categorical6_loss: 2.8039 - covertype_categorical7_loss: 0.9434 - covertype_categorical8_loss: 0.9035 - covertype_categorical9_loss: 1.2199 - covertype_categorical10_loss: 2.9768 - covertype_cls_categorical_accuracy: 0.9332 - val_loss: 10.7946 - val_covertype_cls_loss: 0.5807 - val_covertype_bernoulli_loss: 0.0652 - val_covertype_categorical1_loss: 3.3368 - val_covertype_categorical2_loss: 1.2911 - val_covertype_categorical3_loss: 0.2023 - val_covertype_categorical4_loss: 2.1009 - val_covertype_categorical5_loss: 2.7023 - val_covertype_categorical6_loss: 3.2714 - val_covertype_categorical7_loss: 1.0752 - val_covertype_categorical8_loss: 0.9834 - val_covertype_categorical9_loss: 1.3997 - val_covertype_categorical10_loss: 3.4648 - val_covertype_cls_categorical_accuracy: 0.8592\n",
      "Epoch 147/1000\n",
      "129/129 [==============================] - 26s 202ms/step - loss: 8.9333 - covertype_cls_loss: 0.4319 - covertype_bernoulli_loss: 0.0531 - covertype_categorical1_loss: 2.1149 - covertype_categorical2_loss: 1.1654 - covertype_categorical3_loss: 0.1998 - covertype_categorical4_loss: 1.7233 - covertype_categorical5_loss: 2.3438 - covertype_categorical6_loss: 2.8013 - covertype_categorical7_loss: 0.9520 - covertype_categorical8_loss: 0.9039 - covertype_categorical9_loss: 1.2159 - covertype_categorical10_loss: 2.9793 - covertype_cls_categorical_accuracy: 0.9352 - val_loss: 11.3919 - val_covertype_cls_loss: 0.5828 - val_covertype_bernoulli_loss: 0.0715 - val_covertype_categorical1_loss: 3.4936 - val_covertype_categorical2_loss: 1.3966 - val_covertype_categorical3_loss: 0.2226 - val_covertype_categorical4_loss: 2.1813 - val_covertype_categorical5_loss: 2.8472 - val_covertype_categorical6_loss: 3.4887 - val_covertype_categorical7_loss: 1.1447 - val_covertype_categorical8_loss: 1.0668 - val_covertype_categorical9_loss: 1.5195 - val_covertype_categorical10_loss: 3.6519 - val_covertype_cls_categorical_accuracy: 0.8597\n",
      "Epoch 148/1000\n",
      "129/129 [==============================] - 27s 207ms/step - loss: 8.9572 - covertype_cls_loss: 0.4340 - covertype_bernoulli_loss: 0.0460 - covertype_categorical1_loss: 2.1080 - covertype_categorical2_loss: 1.1698 - covertype_categorical3_loss: 0.2003 - covertype_categorical4_loss: 1.7604 - covertype_categorical5_loss: 2.3550 - covertype_categorical6_loss: 2.7869 - covertype_categorical7_loss: 0.9562 - covertype_categorical8_loss: 0.9133 - covertype_categorical9_loss: 1.2204 - covertype_categorical10_loss: 2.9810 - covertype_cls_categorical_accuracy: 0.9337 - val_loss: 10.6996 - val_covertype_cls_loss: 0.5837 - val_covertype_bernoulli_loss: 0.0643 - val_covertype_categorical1_loss: 3.2994 - val_covertype_categorical2_loss: 1.2693 - val_covertype_categorical3_loss: 0.1895 - val_covertype_categorical4_loss: 2.0881 - val_covertype_categorical5_loss: 2.6610 - val_covertype_categorical6_loss: 3.2649 - val_covertype_categorical7_loss: 1.0618 - val_covertype_categorical8_loss: 0.9651 - val_covertype_categorical9_loss: 1.3701 - val_covertype_categorical10_loss: 3.4635 - val_covertype_cls_categorical_accuracy: 0.8609\n",
      "Epoch 149/1000\n",
      "129/129 [==============================] - 26s 205ms/step - loss: 8.8779 - covertype_cls_loss: 0.4334 - covertype_bernoulli_loss: 0.0452 - covertype_categorical1_loss: 2.1140 - covertype_categorical2_loss: 1.1521 - covertype_categorical3_loss: 0.1762 - covertype_categorical4_loss: 1.7179 - covertype_categorical5_loss: 2.3335 - covertype_categorical6_loss: 2.7921 - covertype_categorical7_loss: 0.9418 - covertype_categorical8_loss: 0.8953 - covertype_categorical9_loss: 1.1942 - covertype_categorical10_loss: 2.9764 - covertype_cls_categorical_accuracy: 0.9338 - val_loss: 11.0862 - val_covertype_cls_loss: 0.5882 - val_covertype_bernoulli_loss: 0.0793 - val_covertype_categorical1_loss: 3.4391 - val_covertype_categorical2_loss: 1.3515 - val_covertype_categorical3_loss: 0.1989 - val_covertype_categorical4_loss: 2.1484 - val_covertype_categorical5_loss: 2.7680 - val_covertype_categorical6_loss: 3.3483 - val_covertype_categorical7_loss: 1.1246 - val_covertype_categorical8_loss: 1.0082 - val_covertype_categorical9_loss: 1.4330 - val_covertype_categorical10_loss: 3.5620 - val_covertype_cls_categorical_accuracy: 0.8601\n",
      "Epoch 150/1000\n",
      "129/129 [==============================] - 26s 204ms/step - loss: 8.8764 - covertype_cls_loss: 0.4312 - covertype_bernoulli_loss: 0.0449 - covertype_categorical1_loss: 2.1012 - covertype_categorical2_loss: 1.1594 - covertype_categorical3_loss: 0.1766 - covertype_categorical4_loss: 1.7233 - covertype_categorical5_loss: 2.3385 - covertype_categorical6_loss: 2.7968 - covertype_categorical7_loss: 0.9369 - covertype_categorical8_loss: 0.8908 - covertype_categorical9_loss: 1.2026 - covertype_categorical10_loss: 2.9693 - covertype_cls_categorical_accuracy: 0.9355 - val_loss: 10.7667 - val_covertype_cls_loss: 0.5733 - val_covertype_bernoulli_loss: 0.0645 - val_covertype_categorical1_loss: 3.3293 - val_covertype_categorical2_loss: 1.2730 - val_covertype_categorical3_loss: 0.1874 - val_covertype_categorical4_loss: 2.1098 - val_covertype_categorical5_loss: 2.6912 - val_covertype_categorical6_loss: 3.2769 - val_covertype_categorical7_loss: 1.0797 - val_covertype_categorical8_loss: 0.9712 - val_covertype_categorical9_loss: 1.4030 - val_covertype_categorical10_loss: 3.4674 - val_covertype_cls_categorical_accuracy: 0.8641\n",
      "Epoch 151/1000\n",
      "129/129 [==============================] - 27s 207ms/step - loss: 8.8964 - covertype_cls_loss: 0.4340 - covertype_bernoulli_loss: 0.0466 - covertype_categorical1_loss: 2.0982 - covertype_categorical2_loss: 1.1606 - covertype_categorical3_loss: 0.1850 - covertype_categorical4_loss: 1.7269 - covertype_categorical5_loss: 2.3395 - covertype_categorical6_loss: 2.7914 - covertype_categorical7_loss: 0.9417 - covertype_categorical8_loss: 0.9058 - covertype_categorical9_loss: 1.2185 - covertype_categorical10_loss: 2.9614 - covertype_cls_categorical_accuracy: 0.9335 - val_loss: 11.0132 - val_covertype_cls_loss: 0.5841 - val_covertype_bernoulli_loss: 0.0671 - val_covertype_categorical1_loss: 3.3882 - val_covertype_categorical2_loss: 1.3490 - val_covertype_categorical3_loss: 0.2103 - val_covertype_categorical4_loss: 2.1795 - val_covertype_categorical5_loss: 2.7108 - val_covertype_categorical6_loss: 3.3328 - val_covertype_categorical7_loss: 1.1191 - val_covertype_categorical8_loss: 1.0230 - val_covertype_categorical9_loss: 1.4195 - val_covertype_categorical10_loss: 3.5239 - val_covertype_cls_categorical_accuracy: 0.8591\n",
      "Epoch 152/1000\n",
      "129/129 [==============================] - 27s 211ms/step - loss: 8.9031 - covertype_cls_loss: 0.4356 - covertype_bernoulli_loss: 0.0456 - covertype_categorical1_loss: 2.1069 - covertype_categorical2_loss: 1.1561 - covertype_categorical3_loss: 0.1917 - covertype_categorical4_loss: 1.7304 - covertype_categorical5_loss: 2.3385 - covertype_categorical6_loss: 2.7894 - covertype_categorical7_loss: 0.9461 - covertype_categorical8_loss: 0.9034 - covertype_categorical9_loss: 1.2121 - covertype_categorical10_loss: 2.9647 - covertype_cls_categorical_accuracy: 0.9326 - val_loss: 10.7702 - val_covertype_cls_loss: 0.5707 - val_covertype_bernoulli_loss: 0.0705 - val_covertype_categorical1_loss: 3.3017 - val_covertype_categorical2_loss: 1.2901 - val_covertype_categorical3_loss: 0.2008 - val_covertype_categorical4_loss: 2.1105 - val_covertype_categorical5_loss: 2.6714 - val_covertype_categorical6_loss: 3.2749 - val_covertype_categorical7_loss: 1.0939 - val_covertype_categorical8_loss: 0.9753 - val_covertype_categorical9_loss: 1.4017 - val_covertype_categorical10_loss: 3.4731 - val_covertype_cls_categorical_accuracy: 0.8656\n",
      "Epoch 153/1000\n",
      "129/129 [==============================] - 27s 209ms/step - loss: 8.8638 - covertype_cls_loss: 0.4280 - covertype_bernoulli_loss: 0.0450 - covertype_categorical1_loss: 2.0990 - covertype_categorical2_loss: 1.1538 - covertype_categorical3_loss: 0.1929 - covertype_categorical4_loss: 1.7216 - covertype_categorical5_loss: 2.3290 - covertype_categorical6_loss: 2.7727 - covertype_categorical7_loss: 0.9444 - covertype_categorical8_loss: 0.9060 - covertype_categorical9_loss: 1.2105 - covertype_categorical10_loss: 2.9467 - covertype_cls_categorical_accuracy: 0.9367 - val_loss: 11.1012 - val_covertype_cls_loss: 0.5891 - val_covertype_bernoulli_loss: 0.0650 - val_covertype_categorical1_loss: 3.4558 - val_covertype_categorical2_loss: 1.3313 - val_covertype_categorical3_loss: 0.1960 - val_covertype_categorical4_loss: 2.1428 - val_covertype_categorical5_loss: 2.7675 - val_covertype_categorical6_loss: 3.3401 - val_covertype_categorical7_loss: 1.1407 - val_covertype_categorical8_loss: 1.0309 - val_covertype_categorical9_loss: 1.4369 - val_covertype_categorical10_loss: 3.5826 - val_covertype_cls_categorical_accuracy: 0.8565\n",
      "Epoch 154/1000\n",
      "129/129 [==============================] - 27s 211ms/step - loss: 8.8562 - covertype_cls_loss: 0.4278 - covertype_bernoulli_loss: 0.0453 - covertype_categorical1_loss: 2.0972 - covertype_categorical2_loss: 1.1487 - covertype_categorical3_loss: 0.1803 - covertype_categorical4_loss: 1.7175 - covertype_categorical5_loss: 2.3325 - covertype_categorical6_loss: 2.7775 - covertype_categorical7_loss: 0.9400 - covertype_categorical8_loss: 0.8883 - covertype_categorical9_loss: 1.2059 - covertype_categorical10_loss: 2.9737 - covertype_cls_categorical_accuracy: 0.9369 - val_loss: 10.6941 - val_covertype_cls_loss: 0.5724 - val_covertype_bernoulli_loss: 0.0626 - val_covertype_categorical1_loss: 3.3044 - val_covertype_categorical2_loss: 1.2637 - val_covertype_categorical3_loss: 0.1835 - val_covertype_categorical4_loss: 2.1045 - val_covertype_categorical5_loss: 2.6813 - val_covertype_categorical6_loss: 3.2533 - val_covertype_categorical7_loss: 1.0714 - val_covertype_categorical8_loss: 0.9551 - val_covertype_categorical9_loss: 1.3724 - val_covertype_categorical10_loss: 3.4571 - val_covertype_cls_categorical_accuracy: 0.8636\n",
      "Epoch 155/1000\n"
     ]
    },
    {
     "name": "stdout",
     "output_type": "stream",
     "text": [
      "129/129 [==============================] - 26s 203ms/step - loss: 8.8433 - covertype_cls_loss: 0.4307 - covertype_bernoulli_loss: 0.0449 - covertype_categorical1_loss: 2.0890 - covertype_categorical2_loss: 1.1601 - covertype_categorical3_loss: 0.1839 - covertype_categorical4_loss: 1.7172 - covertype_categorical5_loss: 2.3281 - covertype_categorical6_loss: 2.7680 - covertype_categorical7_loss: 0.9436 - covertype_categorical8_loss: 0.8869 - covertype_categorical9_loss: 1.2090 - covertype_categorical10_loss: 2.9445 - covertype_cls_categorical_accuracy: 0.9349 - val_loss: 11.1313 - val_covertype_cls_loss: 0.5775 - val_covertype_bernoulli_loss: 0.0710 - val_covertype_categorical1_loss: 3.4819 - val_covertype_categorical2_loss: 1.3268 - val_covertype_categorical3_loss: 0.2168 - val_covertype_categorical4_loss: 2.1667 - val_covertype_categorical5_loss: 2.7147 - val_covertype_categorical6_loss: 3.3411 - val_covertype_categorical7_loss: 1.1411 - val_covertype_categorical8_loss: 1.0200 - val_covertype_categorical9_loss: 1.4970 - val_covertype_categorical10_loss: 3.5952 - val_covertype_cls_categorical_accuracy: 0.8626\n",
      "Epoch 156/1000\n",
      "129/129 [==============================] - 26s 204ms/step - loss: 8.9257 - covertype_cls_loss: 0.4290 - covertype_bernoulli_loss: 0.0453 - covertype_categorical1_loss: 2.0947 - covertype_categorical2_loss: 1.1592 - covertype_categorical3_loss: 0.1799 - covertype_categorical4_loss: 1.8315 - covertype_categorical5_loss: 2.3679 - covertype_categorical6_loss: 2.7607 - covertype_categorical7_loss: 0.9444 - covertype_categorical8_loss: 0.8986 - covertype_categorical9_loss: 1.2110 - covertype_categorical10_loss: 2.9514 - covertype_cls_categorical_accuracy: 0.9363 - val_loss: 10.6221 - val_covertype_cls_loss: 0.5753 - val_covertype_bernoulli_loss: 0.0622 - val_covertype_categorical1_loss: 3.2933 - val_covertype_categorical2_loss: 1.2417 - val_covertype_categorical3_loss: 0.1866 - val_covertype_categorical4_loss: 2.0651 - val_covertype_categorical5_loss: 2.6242 - val_covertype_categorical6_loss: 3.2515 - val_covertype_categorical7_loss: 1.0588 - val_covertype_categorical8_loss: 0.9566 - val_covertype_categorical9_loss: 1.3767 - val_covertype_categorical10_loss: 3.4415 - val_covertype_cls_categorical_accuracy: 0.8636\n",
      "Epoch 157/1000\n",
      "129/129 [==============================] - 27s 212ms/step - loss: 8.7742 - covertype_cls_loss: 0.4295 - covertype_bernoulli_loss: 0.0448 - covertype_categorical1_loss: 2.0818 - covertype_categorical2_loss: 1.1314 - covertype_categorical3_loss: 0.1689 - covertype_categorical4_loss: 1.7063 - covertype_categorical5_loss: 2.3109 - covertype_categorical6_loss: 2.7585 - covertype_categorical7_loss: 0.9272 - covertype_categorical8_loss: 0.8768 - covertype_categorical9_loss: 1.1912 - covertype_categorical10_loss: 2.9411 - covertype_cls_categorical_accuracy: 0.9359 - val_loss: 10.9366 - val_covertype_cls_loss: 0.5809 - val_covertype_bernoulli_loss: 0.0669 - val_covertype_categorical1_loss: 3.4056 - val_covertype_categorical2_loss: 1.2908 - val_covertype_categorical3_loss: 0.1904 - val_covertype_categorical4_loss: 2.1303 - val_covertype_categorical5_loss: 2.6886 - val_covertype_categorical6_loss: 3.3776 - val_covertype_categorical7_loss: 1.0872 - val_covertype_categorical8_loss: 0.9849 - val_covertype_categorical9_loss: 1.4087 - val_covertype_categorical10_loss: 3.5461 - val_covertype_cls_categorical_accuracy: 0.8602ertype_categorical3_loss: 0.1682 - covertype_categorical4_loss: 1.7016 - covertype_categorical5_loss: 2.3102 - covertype_categorical6_loss: 2.7622 - covertype_categorical7_loss: 0.9272 - covertype_categorical8_loss: 0.8734 - covertype_categorical9_loss: 1.1891 - covertype_categorical10_loss: 2.9288 - covert\n",
      "Epoch 158/1000\n",
      "129/129 [==============================] - 26s 204ms/step - loss: 8.7616 - covertype_cls_loss: 0.4268 - covertype_bernoulli_loss: 0.0440 - covertype_categorical1_loss: 2.0782 - covertype_categorical2_loss: 1.1422 - covertype_categorical3_loss: 0.1630 - covertype_categorical4_loss: 1.6933 - covertype_categorical5_loss: 2.3060 - covertype_categorical6_loss: 2.7578 - covertype_categorical7_loss: 0.9238 - covertype_categorical8_loss: 0.8773 - covertype_categorical9_loss: 1.1896 - covertype_categorical10_loss: 2.9436 - covertype_cls_categorical_accuracy: 0.9373 - val_loss: 10.6285 - val_covertype_cls_loss: 0.5681 - val_covertype_bernoulli_loss: 0.0617 - val_covertype_categorical1_loss: 3.2823 - val_covertype_categorical2_loss: 1.2834 - val_covertype_categorical3_loss: 0.1950 - val_covertype_categorical4_loss: 2.0666 - val_covertype_categorical5_loss: 2.6545 - val_covertype_categorical6_loss: 3.2317 - val_covertype_categorical7_loss: 1.0486 - val_covertype_categorical8_loss: 0.9585 - val_covertype_categorical9_loss: 1.3686 - val_covertype_categorical10_loss: 3.4356 - val_covertype_cls_categorical_accuracy: 0.8676\n",
      "Epoch 159/1000\n",
      "129/129 [==============================] - 27s 207ms/step - loss: 8.8158 - covertype_cls_loss: 0.4308 - covertype_bernoulli_loss: 0.0458 - covertype_categorical1_loss: 2.0947 - covertype_categorical2_loss: 1.1426 - covertype_categorical3_loss: 0.1869 - covertype_categorical4_loss: 1.7062 - covertype_categorical5_loss: 2.3093 - covertype_categorical6_loss: 2.7715 - covertype_categorical7_loss: 0.9308 - covertype_categorical8_loss: 0.8884 - covertype_categorical9_loss: 1.2050 - covertype_categorical10_loss: 2.9376 - covertype_cls_categorical_accuracy: 0.9350 - val_loss: 11.0209 - val_covertype_cls_loss: 0.5804 - val_covertype_bernoulli_loss: 0.0620 - val_covertype_categorical1_loss: 3.3956 - val_covertype_categorical2_loss: 1.3255 - val_covertype_categorical3_loss: 0.2349 - val_covertype_categorical4_loss: 2.1240 - val_covertype_categorical5_loss: 2.6905 - val_covertype_categorical6_loss: 3.3850 - val_covertype_categorical7_loss: 1.1249 - val_covertype_categorical8_loss: 1.0230 - val_covertype_categorical9_loss: 1.4582 - val_covertype_categorical10_loss: 3.5230 - val_covertype_cls_categorical_accuracy: 0.8598\n",
      "Epoch 160/1000\n",
      "129/129 [==============================] - 27s 208ms/step - loss: 8.7809 - covertype_cls_loss: 0.4279 - covertype_bernoulli_loss: 0.0434 - covertype_categorical1_loss: 2.0715 - covertype_categorical2_loss: 1.1464 - covertype_categorical3_loss: 0.1833 - covertype_categorical4_loss: 1.6972 - covertype_categorical5_loss: 2.3169 - covertype_categorical6_loss: 2.7455 - covertype_categorical7_loss: 0.9295 - covertype_categorical8_loss: 0.8818 - covertype_categorical9_loss: 1.2014 - covertype_categorical10_loss: 2.9389 - covertype_cls_categorical_accuracy: 0.9363 - val_loss: 10.6802 - val_covertype_cls_loss: 0.5702 - val_covertype_bernoulli_loss: 0.0579 - val_covertype_categorical1_loss: 3.2789 - val_covertype_categorical2_loss: 1.2707 - val_covertype_categorical3_loss: 0.2022 - val_covertype_categorical4_loss: 2.1012 - val_covertype_categorical5_loss: 2.6435 - val_covertype_categorical6_loss: 3.2326 - val_covertype_categorical7_loss: 1.0723 - val_covertype_categorical8_loss: 0.9606 - val_covertype_categorical9_loss: 1.3946 - val_covertype_categorical10_loss: 3.4695 - val_covertype_cls_categorical_accuracy: 0.8655\n",
      "Epoch 161/1000\n",
      "129/129 [==============================] - 26s 199ms/step - loss: 8.7695 - covertype_cls_loss: 0.4265 - covertype_bernoulli_loss: 0.0441 - covertype_categorical1_loss: 2.0675 - covertype_categorical2_loss: 1.1418 - covertype_categorical3_loss: 0.1828 - covertype_categorical4_loss: 1.6965 - covertype_categorical5_loss: 2.3096 - covertype_categorical6_loss: 2.7372 - covertype_categorical7_loss: 0.9354 - covertype_categorical8_loss: 0.8851 - covertype_categorical9_loss: 1.2016 - covertype_categorical10_loss: 2.9337 - covertype_cls_categorical_accuracy: 0.9370 - val_loss: 11.1219 - val_covertype_cls_loss: 0.5785 - val_covertype_bernoulli_loss: 0.0726 - val_covertype_categorical1_loss: 3.4487 - val_covertype_categorical2_loss: 1.3491 - val_covertype_categorical3_loss: 0.2260 - val_covertype_categorical4_loss: 2.1512 - val_covertype_categorical5_loss: 2.7082 - val_covertype_categorical6_loss: 3.3635 - val_covertype_categorical7_loss: 1.1447 - val_covertype_categorical8_loss: 1.0534 - val_covertype_categorical9_loss: 1.4865 - val_covertype_categorical10_loss: 3.5483 - val_covertype_cls_categorical_accuracy: 0.8622\n"
     ]
    },
    {
     "name": "stdout",
     "output_type": "stream",
     "text": [
      "Epoch 162/1000\n",
      "129/129 [==============================] - 26s 201ms/step - loss: 8.7263 - covertype_cls_loss: 0.4252 - covertype_bernoulli_loss: 0.0441 - covertype_categorical1_loss: 2.0818 - covertype_categorical2_loss: 1.1231 - covertype_categorical3_loss: 0.1692 - covertype_categorical4_loss: 1.7081 - covertype_categorical5_loss: 2.2937 - covertype_categorical6_loss: 2.7397 - covertype_categorical7_loss: 0.9139 - covertype_categorical8_loss: 0.8790 - covertype_categorical9_loss: 1.1763 - covertype_categorical10_loss: 2.9226 - covertype_cls_categorical_accuracy: 0.9381 - val_loss: 10.5958 - val_covertype_cls_loss: 0.5680 - val_covertype_bernoulli_loss: 0.0577 - val_covertype_categorical1_loss: 3.2826 - val_covertype_categorical2_loss: 1.2694 - val_covertype_categorical3_loss: 0.1886 - val_covertype_categorical4_loss: 2.0648 - val_covertype_categorical5_loss: 2.6313 - val_covertype_categorical6_loss: 3.2306 - val_covertype_categorical7_loss: 1.0429 - val_covertype_categorical8_loss: 0.9458 - val_covertype_categorical9_loss: 1.3680 - val_covertype_categorical10_loss: 3.4384 - val_covertype_cls_categorical_accuracy: 0.8656\n",
      "Epoch 163/1000\n",
      "129/129 [==============================] - 26s 205ms/step - loss: 8.7562 - covertype_cls_loss: 0.4276 - covertype_bernoulli_loss: 0.0437 - covertype_categorical1_loss: 2.0788 - covertype_categorical2_loss: 1.1321 - covertype_categorical3_loss: 0.1699 - covertype_categorical4_loss: 1.6899 - covertype_categorical5_loss: 2.2950 - covertype_categorical6_loss: 2.7464 - covertype_categorical7_loss: 0.9223 - covertype_categorical8_loss: 0.8794 - covertype_categorical9_loss: 1.1901 - covertype_categorical10_loss: 2.9582 - covertype_cls_categorical_accuracy: 0.9370 - val_loss: 11.1496 - val_covertype_cls_loss: 0.5825 - val_covertype_bernoulli_loss: 0.0663 - val_covertype_categorical1_loss: 3.3906 - val_covertype_categorical2_loss: 1.4120 - val_covertype_categorical3_loss: 0.2229 - val_covertype_categorical4_loss: 2.1466 - val_covertype_categorical5_loss: 2.7591 - val_covertype_categorical6_loss: 3.3483 - val_covertype_categorical7_loss: 1.1505 - val_covertype_categorical8_loss: 1.0488 - val_covertype_categorical9_loss: 1.4832 - val_covertype_categorical10_loss: 3.5715 - val_covertype_cls_categorical_accuracy: 0.8592\n",
      "Epoch 164/1000\n",
      "129/129 [==============================] - 26s 201ms/step - loss: 8.7503 - covertype_cls_loss: 0.4287 - covertype_bernoulli_loss: 0.0424 - covertype_categorical1_loss: 2.0638 - covertype_categorical2_loss: 1.1392 - covertype_categorical3_loss: 0.1783 - covertype_categorical4_loss: 1.6937 - covertype_categorical5_loss: 2.3197 - covertype_categorical6_loss: 2.7368 - covertype_categorical7_loss: 0.9245 - covertype_categorical8_loss: 0.8775 - covertype_categorical9_loss: 1.1948 - covertype_categorical10_loss: 2.9214 - covertype_cls_categorical_accuracy: 0.9360 - val_loss: 10.6731 - val_covertype_cls_loss: 0.5693 - val_covertype_bernoulli_loss: 0.0603 - val_covertype_categorical1_loss: 3.2956 - val_covertype_categorical2_loss: 1.2754 - val_covertype_categorical3_loss: 0.1931 - val_covertype_categorical4_loss: 2.0806 - val_covertype_categorical5_loss: 2.7229 - val_covertype_categorical6_loss: 3.2203 - val_covertype_categorical7_loss: 1.0571 - val_covertype_categorical8_loss: 0.9514 - val_covertype_categorical9_loss: 1.3814 - val_covertype_categorical10_loss: 3.4358 - val_covertype_cls_categorical_accuracy: 0.8650\n",
      "Epoch 165/1000\n",
      "129/129 [==============================] - 26s 198ms/step - loss: 8.6934 - covertype_cls_loss: 0.4244 - covertype_bernoulli_loss: 0.0444 - covertype_categorical1_loss: 2.0666 - covertype_categorical2_loss: 1.1268 - covertype_categorical3_loss: 0.1612 - covertype_categorical4_loss: 1.6774 - covertype_categorical5_loss: 2.2943 - covertype_categorical6_loss: 2.7393 - covertype_categorical7_loss: 0.9109 - covertype_categorical8_loss: 0.8789 - covertype_categorical9_loss: 1.1716 - covertype_categorical10_loss: 2.9157 - covertype_cls_categorical_accuracy: 0.9382 - val_loss: 10.8979 - val_covertype_cls_loss: 0.5806 - val_covertype_bernoulli_loss: 0.0611 - val_covertype_categorical1_loss: 3.3773 - val_covertype_categorical2_loss: 1.3170 - val_covertype_categorical3_loss: 0.1995 - val_covertype_categorical4_loss: 2.0968 - val_covertype_categorical5_loss: 2.6579 - val_covertype_categorical6_loss: 3.2888 - val_covertype_categorical7_loss: 1.0945 - val_covertype_categorical8_loss: 1.0004 - val_covertype_categorical9_loss: 1.4659 - val_covertype_categorical10_loss: 3.5403 - val_covertype_cls_categorical_accuracy: 0.8595\n",
      "Epoch 166/1000\n",
      "129/129 [==============================] - 27s 206ms/step - loss: 8.7283 - covertype_cls_loss: 0.4292 - covertype_bernoulli_loss: 0.0444 - covertype_categorical1_loss: 2.0721 - covertype_categorical2_loss: 1.1281 - covertype_categorical3_loss: 0.1717 - covertype_categorical4_loss: 1.6850 - covertype_categorical5_loss: 2.2884 - covertype_categorical6_loss: 2.7475 - covertype_categorical7_loss: 0.9232 - covertype_categorical8_loss: 0.8783 - covertype_categorical9_loss: 1.1922 - covertype_categorical10_loss: 2.9167 - covertype_cls_categorical_accuracy: 0.9360 - val_loss: 10.5863 - val_covertype_cls_loss: 0.5643 - val_covertype_bernoulli_loss: 0.0568 - val_covertype_categorical1_loss: 3.2666 - val_covertype_categorical2_loss: 1.2530 - val_covertype_categorical3_loss: 0.1889 - val_covertype_categorical4_loss: 2.0827 - val_covertype_categorical5_loss: 2.6277 - val_covertype_categorical6_loss: 3.2273 - val_covertype_categorical7_loss: 1.0416 - val_covertype_categorical8_loss: 0.9528 - val_covertype_categorical9_loss: 1.3754 - val_covertype_categorical10_loss: 3.4353 - val_covertype_cls_categorical_accuracy: 0.8677\n",
      "Epoch 167/1000\n",
      "129/129 [==============================] - 27s 209ms/step - loss: 8.7133 - covertype_cls_loss: 0.4229 - covertype_bernoulli_loss: 0.0430 - covertype_categorical1_loss: 2.0707 - covertype_categorical2_loss: 1.1293 - covertype_categorical3_loss: 0.1797 - covertype_categorical4_loss: 1.6827 - covertype_categorical5_loss: 2.2780 - covertype_categorical6_loss: 2.7344 - covertype_categorical7_loss: 0.9222 - covertype_categorical8_loss: 0.8752 - covertype_categorical9_loss: 1.1898 - covertype_categorical10_loss: 2.9250 - covertype_cls_categorical_accuracy: 0.9391 - val_loss: 11.1705 - val_covertype_cls_loss: 0.5648 - val_covertype_bernoulli_loss: 0.0690 - val_covertype_categorical1_loss: 3.4115 - val_covertype_categorical2_loss: 1.3297 - val_covertype_categorical3_loss: 0.3041 - val_covertype_categorical4_loss: 2.1897 - val_covertype_categorical5_loss: 2.6916 - val_covertype_categorical6_loss: 3.3851 - val_covertype_categorical7_loss: 1.1343 - val_covertype_categorical8_loss: 1.0381 - val_covertype_categorical9_loss: 1.5077 - val_covertype_categorical10_loss: 3.6146 - val_covertype_cls_categorical_accuracy: 0.8655\n",
      "Epoch 168/1000\n",
      "129/129 [==============================] - 26s 200ms/step - loss: 8.7082 - covertype_cls_loss: 0.4241 - covertype_bernoulli_loss: 0.0431 - covertype_categorical1_loss: 2.0645 - covertype_categorical2_loss: 1.1326 - covertype_categorical3_loss: 0.1953 - covertype_categorical4_loss: 1.6679 - covertype_categorical5_loss: 2.2760 - covertype_categorical6_loss: 2.7238 - covertype_categorical7_loss: 0.9341 - covertype_categorical8_loss: 0.8781 - covertype_categorical9_loss: 1.1926 - covertype_categorical10_loss: 2.9084 - covertype_cls_categorical_accuracy: 0.9384 - val_loss: 10.5855 - val_covertype_cls_loss: 0.5629 - val_covertype_bernoulli_loss: 0.0584 - val_covertype_categorical1_loss: 3.2893 - val_covertype_categorical2_loss: 1.2501 - val_covertype_categorical3_loss: 0.1790 - val_covertype_categorical4_loss: 2.0664 - val_covertype_categorical5_loss: 2.6245 - val_covertype_categorical6_loss: 3.2272 - val_covertype_categorical7_loss: 1.0403 - val_covertype_categorical8_loss: 0.9611 - val_covertype_categorical9_loss: 1.3652 - val_covertype_categorical10_loss: 3.4459 - val_covertype_cls_categorical_accuracy: 0.8680loss: 1.1325 - covertype_categorical3_loss: 0.2001 - covertype_categorical4_loss: 1.6817 - covertype_categorical5_loss: 2.2721 - covertype_categorical6_loss: 2.7241 - covertype_categorical7_loss: 0.9366 - covertype_categorical8_loss: 0.8821 - covertype_categorical9_l\n",
      "Epoch 169/1000\n",
      "129/129 [==============================] - 27s 210ms/step - loss: 8.6887 - covertype_cls_loss: 0.4235 - covertype_bernoulli_loss: 0.0423 - covertype_categorical1_loss: 2.0713 - covertype_categorical2_loss: 1.1255 - covertype_categorical3_loss: 0.1681 - covertype_categorical4_loss: 1.6804 - covertype_categorical5_loss: 2.2813 - covertype_categorical6_loss: 2.7311 - covertype_categorical7_loss: 0.9141 - covertype_categorical8_loss: 0.8739 - covertype_categorical9_loss: 1.1802 - covertype_categorical10_loss: 2.9111 - covertype_cls_categorical_accuracy: 0.9385 - val_loss: 11.0089 - val_covertype_cls_loss: 0.5780 - val_covertype_bernoulli_loss: 0.0600 - val_covertype_categorical1_loss: 3.4156 - val_covertype_categorical2_loss: 1.2936 - val_covertype_categorical3_loss: 0.1946 - val_covertype_categorical4_loss: 2.1357 - val_covertype_categorical5_loss: 2.7121 - val_covertype_categorical6_loss: 3.3291 - val_covertype_categorical7_loss: 1.1520 - val_covertype_categorical8_loss: 1.0745 - val_covertype_categorical9_loss: 1.4148 - val_covertype_categorical10_loss: 3.5444 - val_covertype_cls_categorical_accuracy: 0.8604ss: 0.0421 - covertype_categorical1_loss: 2.0529 - covertype_categorical2_loss: 1.1308 - covertype_categorical3_loss: 0.1591 - covertype_categorical4_loss: 1.6782 - covertype_categorical5_loss: 2.2502 - covertype_categorical6_loss: 2.6955 - covertype_categorical7_loss: 0.9\n",
      "Epoch 170/1000\n",
      "129/129 [==============================] - 27s 206ms/step - loss: 8.6738 - covertype_cls_loss: 0.4208 - covertype_bernoulli_loss: 0.0428 - covertype_categorical1_loss: 2.0588 - covertype_categorical2_loss: 1.1250 - covertype_categorical3_loss: 0.1806 - covertype_categorical4_loss: 1.6802 - covertype_categorical5_loss: 2.2718 - covertype_categorical6_loss: 2.7121 - covertype_categorical7_loss: 0.9204 - covertype_categorical8_loss: 0.8723 - covertype_categorical9_loss: 1.1918 - covertype_categorical10_loss: 2.8986 - covertype_cls_categorical_accuracy: 0.9401 - val_loss: 10.5761 - val_covertype_cls_loss: 0.5674 - val_covertype_bernoulli_loss: 0.0552 - val_covertype_categorical1_loss: 3.2623 - val_covertype_categorical2_loss: 1.2568 - val_covertype_categorical3_loss: 0.1952 - val_covertype_categorical4_loss: 2.0518 - val_covertype_categorical5_loss: 2.6238 - val_covertype_categorical6_loss: 3.2189 - val_covertype_categorical7_loss: 1.0592 - val_covertype_categorical8_loss: 0.9495 - val_covertype_categorical9_loss: 1.3812 - val_covertype_categorical10_loss: 3.4273 - val_covertype_cls_categorical_accuracy: 0.8669\n",
      "Epoch 171/1000\n",
      "129/129 [==============================] - 27s 207ms/step - loss: 8.6956 - covertype_cls_loss: 0.4238 - covertype_bernoulli_loss: 0.0422 - covertype_categorical1_loss: 2.0629 - covertype_categorical2_loss: 1.1268 - covertype_categorical3_loss: 0.1726 - covertype_categorical4_loss: 1.6878 - covertype_categorical5_loss: 2.2797 - covertype_categorical6_loss: 2.7231 - covertype_categorical7_loss: 0.9203 - covertype_categorical8_loss: 0.8824 - covertype_categorical9_loss: 1.1921 - covertype_categorical10_loss: 2.9023 - covertype_cls_categorical_accuracy: 0.9383 - val_loss: 11.0362 - val_covertype_cls_loss: 0.5688 - val_covertype_bernoulli_loss: 0.0674 - val_covertype_categorical1_loss: 3.4729 - val_covertype_categorical2_loss: 1.3337 - val_covertype_categorical3_loss: 0.1930 - val_covertype_categorical4_loss: 2.1810 - val_covertype_categorical5_loss: 2.6983 - val_covertype_categorical6_loss: 3.3342 - val_covertype_categorical7_loss: 1.1166 - val_covertype_categorical8_loss: 1.0097 - val_covertype_categorical9_loss: 1.4322 - val_covertype_categorical10_loss: 3.5611 - val_covertype_cls_categorical_accuracy: 0.8661\n",
      "Epoch 172/1000\n",
      "129/129 [==============================] - 27s 207ms/step - loss: 8.7361 - covertype_cls_loss: 0.4230 - covertype_bernoulli_loss: 0.0427 - covertype_categorical1_loss: 2.0612 - covertype_categorical2_loss: 1.1368 - covertype_categorical3_loss: 0.1724 - covertype_categorical4_loss: 1.7442 - covertype_categorical5_loss: 2.3072 - covertype_categorical6_loss: 2.7191 - covertype_categorical7_loss: 0.9239 - covertype_categorical8_loss: 0.8777 - covertype_categorical9_loss: 1.1930 - covertype_categorical10_loss: 2.8977 - covertype_cls_categorical_accuracy: 0.9390 - val_loss: 10.5632 - val_covertype_cls_loss: 0.5629 - val_covertype_bernoulli_loss: 0.0573 - val_covertype_categorical1_loss: 3.2762 - val_covertype_categorical2_loss: 1.2405 - val_covertype_categorical3_loss: 0.1822 - val_covertype_categorical4_loss: 2.0458 - val_covertype_categorical5_loss: 2.6077 - val_covertype_categorical6_loss: 3.2144 - val_covertype_categorical7_loss: 1.0488 - val_covertype_categorical8_loss: 0.9706 - val_covertype_categorical9_loss: 1.3586 - val_covertype_categorical10_loss: 3.4636 - val_covertype_cls_categorical_accuracy: 0.8703\n",
      "Epoch 173/1000\n",
      "129/129 [==============================] - 26s 204ms/step - loss: 8.6141 - covertype_cls_loss: 0.4207 - covertype_bernoulli_loss: 0.0415 - covertype_categorical1_loss: 2.0401 - covertype_categorical2_loss: 1.1157 - covertype_categorical3_loss: 0.1700 - covertype_categorical4_loss: 1.6608 - covertype_categorical5_loss: 2.2635 - covertype_categorical6_loss: 2.7026 - covertype_categorical7_loss: 0.9113 - covertype_categorical8_loss: 0.8656 - covertype_categorical9_loss: 1.1788 - covertype_categorical10_loss: 2.8851 - covertype_cls_categorical_accuracy: 0.9396 - val_loss: 10.8596 - val_covertype_cls_loss: 0.5742 - val_covertype_bernoulli_loss: 0.0576 - val_covertype_categorical1_loss: 3.3899 - val_covertype_categorical2_loss: 1.2981 - val_covertype_categorical3_loss: 0.1929 - val_covertype_categorical4_loss: 2.1118 - val_covertype_categorical5_loss: 2.6741 - val_covertype_categorical6_loss: 3.3076 - val_covertype_categorical7_loss: 1.1084 - val_covertype_categorical8_loss: 0.9899 - val_covertype_categorical9_loss: 1.4147 - val_covertype_categorical10_loss: 3.4897 - val_covertype_cls_categorical_accuracy: 0.8632\n",
      "Epoch 174/1000\n",
      "129/129 [==============================] - 27s 205ms/step - loss: 8.6091 - covertype_cls_loss: 0.4192 - covertype_bernoulli_loss: 0.0420 - covertype_categorical1_loss: 2.0484 - covertype_categorical2_loss: 1.1160 - covertype_categorical3_loss: 0.1598 - covertype_categorical4_loss: 1.6634 - covertype_categorical5_loss: 2.2657 - covertype_categorical6_loss: 2.7182 - covertype_categorical7_loss: 0.9009 - covertype_categorical8_loss: 0.8583 - covertype_categorical9_loss: 1.1674 - covertype_categorical10_loss: 2.8882 - covertype_cls_categorical_accuracy: 0.9407 - val_loss: 10.5102 - val_covertype_cls_loss: 0.5591 - val_covertype_bernoulli_loss: 0.0582 - val_covertype_categorical1_loss: 3.2477 - val_covertype_categorical2_loss: 1.2620 - val_covertype_categorical3_loss: 0.1754 - val_covertype_categorical4_loss: 2.0398 - val_covertype_categorical5_loss: 2.5947 - val_covertype_categorical6_loss: 3.1927 - val_covertype_categorical7_loss: 1.0344 - val_covertype_categorical8_loss: 0.9357 - val_covertype_categorical9_loss: 1.3835 - val_covertype_categorical10_loss: 3.4416 - val_covertype_cls_categorical_accuracy: 0.8701\n"
     ]
    },
    {
     "name": "stdout",
     "output_type": "stream",
     "text": [
      "Epoch 175/1000\n",
      "129/129 [==============================] - 27s 211ms/step - loss: 8.6463 - covertype_cls_loss: 0.4262 - covertype_bernoulli_loss: 0.0414 - covertype_categorical1_loss: 2.0425 - covertype_categorical2_loss: 1.1436 - covertype_categorical3_loss: 0.1598 - covertype_categorical4_loss: 1.6598 - covertype_categorical5_loss: 2.2543 - covertype_categorical6_loss: 2.6941 - covertype_categorical7_loss: 0.9307 - covertype_categorical8_loss: 0.8763 - covertype_categorical9_loss: 1.2012 - covertype_categorical10_loss: 2.8839 - covertype_cls_categorical_accuracy: 0.9371 - val_loss: 10.9970 - val_covertype_cls_loss: 0.5642 - val_covertype_bernoulli_loss: 0.0630 - val_covertype_categorical1_loss: 3.4185 - val_covertype_categorical2_loss: 1.3309 - val_covertype_categorical3_loss: 0.1868 - val_covertype_categorical4_loss: 2.1659 - val_covertype_categorical5_loss: 2.7018 - val_covertype_categorical6_loss: 3.3492 - val_covertype_categorical7_loss: 1.1080 - val_covertype_categorical8_loss: 1.0195 - val_covertype_categorical9_loss: 1.4336 - val_covertype_categorical10_loss: 3.5522 - val_covertype_cls_categorical_accuracy: 0.8691\n",
      "Epoch 176/1000\n",
      "129/129 [==============================] - 26s 199ms/step - loss: 8.5978 - covertype_cls_loss: 0.4190 - covertype_bernoulli_loss: 0.0417 - covertype_categorical1_loss: 2.0507 - covertype_categorical2_loss: 1.1105 - covertype_categorical3_loss: 0.1600 - covertype_categorical4_loss: 1.6561 - covertype_categorical5_loss: 2.2607 - covertype_categorical6_loss: 2.7107 - covertype_categorical7_loss: 0.8943 - covertype_categorical8_loss: 0.8674 - covertype_categorical9_loss: 1.1725 - covertype_categorical10_loss: 2.8808 - covertype_cls_categorical_accuracy: 0.9405 - val_loss: 10.4985 - val_covertype_cls_loss: 0.5656 - val_covertype_bernoulli_loss: 0.0576 - val_covertype_categorical1_loss: 3.2510 - val_covertype_categorical2_loss: 1.2406 - val_covertype_categorical3_loss: 0.1815 - val_covertype_categorical4_loss: 2.0366 - val_covertype_categorical5_loss: 2.5919 - val_covertype_categorical6_loss: 3.1887 - val_covertype_categorical7_loss: 1.0475 - val_covertype_categorical8_loss: 0.9498 - val_covertype_categorical9_loss: 1.3779 - val_covertype_categorical10_loss: 3.4063 - val_covertype_cls_categorical_accuracy: 0.8685\n",
      "Epoch 177/1000\n",
      "129/129 [==============================] - 27s 210ms/step - loss: 8.5990 - covertype_cls_loss: 0.4191 - covertype_bernoulli_loss: 0.0418 - covertype_categorical1_loss: 2.0394 - covertype_categorical2_loss: 1.1118 - covertype_categorical3_loss: 0.1591 - covertype_categorical4_loss: 1.6844 - covertype_categorical5_loss: 2.2496 - covertype_categorical6_loss: 2.6874 - covertype_categorical7_loss: 0.8950 - covertype_categorical8_loss: 0.8738 - covertype_categorical9_loss: 1.1729 - covertype_categorical10_loss: 2.8929 - covertype_cls_categorical_accuracy: 0.9410 - val_loss: 10.9058 - val_covertype_cls_loss: 0.5701 - val_covertype_bernoulli_loss: 0.0635 - val_covertype_categorical1_loss: 3.3848 - val_covertype_categorical2_loss: 1.3043 - val_covertype_categorical3_loss: 0.2021 - val_covertype_categorical4_loss: 2.0945 - val_covertype_categorical5_loss: 2.7014 - val_covertype_categorical6_loss: 3.2905 - val_covertype_categorical7_loss: 1.1016 - val_covertype_categorical8_loss: 1.0158 - val_covertype_categorical9_loss: 1.4151 - val_covertype_categorical10_loss: 3.5611 - val_covertype_cls_categorical_accuracy: 0.8657\n",
      "Epoch 178/1000\n",
      "129/129 [==============================] - 27s 206ms/step - loss: 8.6250 - covertype_cls_loss: 0.4215 - covertype_bernoulli_loss: 0.0417 - covertype_categorical1_loss: 2.0512 - covertype_categorical2_loss: 1.1235 - covertype_categorical3_loss: 0.1694 - covertype_categorical4_loss: 1.6564 - covertype_categorical5_loss: 2.2573 - covertype_categorical6_loss: 2.6960 - covertype_categorical7_loss: 0.9219 - covertype_categorical8_loss: 0.8656 - covertype_categorical9_loss: 1.1850 - covertype_categorical10_loss: 2.8872 - covertype_cls_categorical_accuracy: 0.9395 - val_loss: 10.5123 - val_covertype_cls_loss: 0.5624 - val_covertype_bernoulli_loss: 0.0569 - val_covertype_categorical1_loss: 3.2804 - val_covertype_categorical2_loss: 1.2581 - val_covertype_categorical3_loss: 0.1743 - val_covertype_categorical4_loss: 2.0376 - val_covertype_categorical5_loss: 2.5758 - val_covertype_categorical6_loss: 3.2180 - val_covertype_categorical7_loss: 1.0495 - val_covertype_categorical8_loss: 0.9404 - val_covertype_categorical9_loss: 1.3642 - val_covertype_categorical10_loss: 3.4082 - val_covertype_cls_categorical_accuracy: 0.8689\n",
      "Epoch 179/1000\n",
      "129/129 [==============================] - 27s 205ms/step - loss: 8.5945 - covertype_cls_loss: 0.4194 - covertype_bernoulli_loss: 0.0414 - covertype_categorical1_loss: 2.0374 - covertype_categorical2_loss: 1.1172 - covertype_categorical3_loss: 0.1750 - covertype_categorical4_loss: 1.6716 - covertype_categorical5_loss: 2.2504 - covertype_categorical6_loss: 2.6841 - covertype_categorical7_loss: 0.9015 - covertype_categorical8_loss: 0.8639 - covertype_categorical9_loss: 1.1790 - covertype_categorical10_loss: 2.8761 - covertype_cls_categorical_accuracy: 0.9404 - val_loss: 10.8764 - val_covertype_cls_loss: 0.5669 - val_covertype_bernoulli_loss: 0.0640 - val_covertype_categorical1_loss: 3.4082 - val_covertype_categorical2_loss: 1.3256 - val_covertype_categorical3_loss: 0.1847 - val_covertype_categorical4_loss: 2.1313 - val_covertype_categorical5_loss: 2.6497 - val_covertype_categorical6_loss: 3.2936 - val_covertype_categorical7_loss: 1.0929 - val_covertype_categorical8_loss: 0.9891 - val_covertype_categorical9_loss: 1.4096 - val_covertype_categorical10_loss: 3.5339 - val_covertype_cls_categorical_accuracy: 0.8676\n",
      "Epoch 180/1000\n",
      "129/129 [==============================] - 26s 202ms/step - loss: 8.5494 - covertype_cls_loss: 0.4181 - covertype_bernoulli_loss: 0.0412 - covertype_categorical1_loss: 2.0356 - covertype_categorical2_loss: 1.0967 - covertype_categorical3_loss: 0.1572 - covertype_categorical4_loss: 1.6711 - covertype_categorical5_loss: 2.2465 - covertype_categorical6_loss: 2.6905 - covertype_categorical7_loss: 0.8864 - covertype_categorical8_loss: 0.8537 - covertype_categorical9_loss: 1.1565 - covertype_categorical10_loss: 2.8749 - covertype_cls_categorical_accuracy: 0.9413 - val_loss: 10.4859 - val_covertype_cls_loss: 0.5572 - val_covertype_bernoulli_loss: 0.0566 - val_covertype_categorical1_loss: 3.2608 - val_covertype_categorical2_loss: 1.2559 - val_covertype_categorical3_loss: 0.1788 - val_covertype_categorical4_loss: 2.0455 - val_covertype_categorical5_loss: 2.5842 - val_covertype_categorical6_loss: 3.1802 - val_covertype_categorical7_loss: 1.0452 - val_covertype_categorical8_loss: 0.9302 - val_covertype_categorical9_loss: 1.3632 - val_covertype_categorical10_loss: 3.4208 - val_covertype_cls_categorical_accuracy: 0.8725\n",
      "Epoch 181/1000\n",
      "129/129 [==============================] - 26s 204ms/step - loss: 8.8055 - covertype_cls_loss: 0.4282 - covertype_bernoulli_loss: 0.0426 - covertype_categorical1_loss: 2.0475 - covertype_categorical2_loss: 1.1291 - covertype_categorical3_loss: 0.1819 - covertype_categorical4_loss: 1.8459 - covertype_categorical5_loss: 2.3568 - covertype_categorical6_loss: 2.6964 - covertype_categorical7_loss: 0.9260 - covertype_categorical8_loss: 0.8772 - covertype_categorical9_loss: 1.1988 - covertype_categorical10_loss: 2.9022 - covertype_cls_categorical_accuracy: 0.9362 - val_loss: 10.7336 - val_covertype_cls_loss: 0.5796 - val_covertype_bernoulli_loss: 0.0660 - val_covertype_categorical1_loss: 3.3492 - val_covertype_categorical2_loss: 1.2804 - val_covertype_categorical3_loss: 0.1799 - val_covertype_categorical4_loss: 2.0744 - val_covertype_categorical5_loss: 2.6468 - val_covertype_categorical6_loss: 3.2381 - val_covertype_categorical7_loss: 1.1048 - val_covertype_categorical8_loss: 1.0011 - val_covertype_categorical9_loss: 1.3799 - val_covertype_categorical10_loss: 3.4517 - val_covertype_cls_categorical_accuracy: 0.8632\n",
      "Epoch 182/1000\n",
      "129/129 [==============================] - 27s 207ms/step - loss: 8.4805 - covertype_cls_loss: 0.4173 - covertype_bernoulli_loss: 0.0401 - covertype_categorical1_loss: 2.0262 - covertype_categorical2_loss: 1.0857 - covertype_categorical3_loss: 0.1491 - covertype_categorical4_loss: 1.6401 - covertype_categorical5_loss: 2.2390 - covertype_categorical6_loss: 2.6613 - covertype_categorical7_loss: 0.8842 - covertype_categorical8_loss: 0.8478 - covertype_categorical9_loss: 1.1557 - covertype_categorical10_loss: 2.8451 - covertype_cls_categorical_accuracy: 0.9410 - val_loss: 10.4491 - val_covertype_cls_loss: 0.5629 - val_covertype_bernoulli_loss: 0.0553 - val_covertype_categorical1_loss: 3.2619 - val_covertype_categorical2_loss: 1.2355 - val_covertype_categorical3_loss: 0.1685 - val_covertype_categorical4_loss: 2.0206 - val_covertype_categorical5_loss: 2.5918 - val_covertype_categorical6_loss: 3.1766 - val_covertype_categorical7_loss: 1.0160 - val_covertype_categorical8_loss: 0.9394 - val_covertype_categorical9_loss: 1.3600 - val_covertype_categorical10_loss: 3.4099 - val_covertype_cls_categorical_accuracy: 0.8684\n",
      "Epoch 183/1000\n",
      "129/129 [==============================] - 26s 198ms/step - loss: 8.5208 - covertype_cls_loss: 0.4175 - covertype_bernoulli_loss: 0.0404 - covertype_categorical1_loss: 2.0309 - covertype_categorical2_loss: 1.1054 - covertype_categorical3_loss: 0.1487 - covertype_categorical4_loss: 1.6457 - covertype_categorical5_loss: 2.2372 - covertype_categorical6_loss: 2.6731 - covertype_categorical7_loss: 0.8911 - covertype_categorical8_loss: 0.8512 - covertype_categorical9_loss: 1.1579 - covertype_categorical10_loss: 2.8729 - covertype_cls_categorical_accuracy: 0.9412 - val_loss: 10.8902 - val_covertype_cls_loss: 0.5734 - val_covertype_bernoulli_loss: 0.0656 - val_covertype_categorical1_loss: 3.3467 - val_covertype_categorical2_loss: 1.3452 - val_covertype_categorical3_loss: 0.1954 - val_covertype_categorical4_loss: 2.0863 - val_covertype_categorical5_loss: 2.6406 - val_covertype_categorical6_loss: 3.2904 - val_covertype_categorical7_loss: 1.1548 - val_covertype_categorical8_loss: 1.0154 - val_covertype_categorical9_loss: 1.4378 - val_covertype_categorical10_loss: 3.5199 - val_covertype_cls_categorical_accuracy: 0.8644 covertype_categorical1_loss: 2.0323 - covertype_categorical2_loss: 1.0930 - covertype_categorical3_loss: 0.1497 - covertype_categorical4_loss: 1.6432 - covertype_categorical5_loss: 2.2388 - covertype_categorical6_loss: 2.6770 - covertype_categorical7_loss: 0.8805 - covertype_categorical8_loss: 0.8425 - covertype_categorical9_loss: 1.1500 - cov\n",
      "Epoch 184/1000\n",
      "129/129 [==============================] - 27s 206ms/step - loss: 8.5525 - covertype_cls_loss: 0.4162 - covertype_bernoulli_loss: 0.0411 - covertype_categorical1_loss: 2.0341 - covertype_categorical2_loss: 1.1167 - covertype_categorical3_loss: 0.1634 - covertype_categorical4_loss: 1.6506 - covertype_categorical5_loss: 2.2239 - covertype_categorical6_loss: 2.6690 - covertype_categorical7_loss: 0.9093 - covertype_categorical8_loss: 0.8623 - covertype_categorical9_loss: 1.1891 - covertype_categorical10_loss: 2.8606 - covertype_cls_categorical_accuracy: 0.9422 - val_loss: 10.4394 - val_covertype_cls_loss: 0.5582 - val_covertype_bernoulli_loss: 0.0544 - val_covertype_categorical1_loss: 3.2239 - val_covertype_categorical2_loss: 1.2464 - val_covertype_categorical3_loss: 0.1770 - val_covertype_categorical4_loss: 2.0584 - val_covertype_categorical5_loss: 2.5716 - val_covertype_categorical6_loss: 3.1804 - val_covertype_categorical7_loss: 1.0275 - val_covertype_categorical8_loss: 0.9307 - val_covertype_categorical9_loss: 1.3478 - val_covertype_categorical10_loss: 3.4078 - val_covertype_cls_categorical_accuracy: 0.8704\n",
      "Epoch 185/1000\n",
      "129/129 [==============================] - 26s 199ms/step - loss: 8.5325 - covertype_cls_loss: 0.4200 - covertype_bernoulli_loss: 0.0412 - covertype_categorical1_loss: 2.0249 - covertype_categorical2_loss: 1.0987 - covertype_categorical3_loss: 0.1770 - covertype_categorical4_loss: 1.6451 - covertype_categorical5_loss: 2.2363 - covertype_categorical6_loss: 2.6652 - covertype_categorical7_loss: 0.8975 - covertype_categorical8_loss: 0.8561 - covertype_categorical9_loss: 1.1645 - covertype_categorical10_loss: 2.8655 - covertype_cls_categorical_accuracy: 0.9398 - val_loss: 10.7826 - val_covertype_cls_loss: 0.5631 - val_covertype_bernoulli_loss: 0.0642 - val_covertype_categorical1_loss: 3.3687 - val_covertype_categorical2_loss: 1.3168 - val_covertype_categorical3_loss: 0.1800 - val_covertype_categorical4_loss: 2.0725 - val_covertype_categorical5_loss: 2.6821 - val_covertype_categorical6_loss: 3.2963 - val_covertype_categorical7_loss: 1.0718 - val_covertype_categorical8_loss: 0.9393 - val_covertype_categorical9_loss: 1.4092 - val_covertype_categorical10_loss: 3.5017 - val_covertype_cls_categorical_accuracy: 0.8705\n",
      "Epoch 186/1000\n",
      "129/129 [==============================] - 27s 208ms/step - loss: 8.4956 - covertype_cls_loss: 0.4164 - covertype_bernoulli_loss: 0.0411 - covertype_categorical1_loss: 2.0345 - covertype_categorical2_loss: 1.0933 - covertype_categorical3_loss: 0.1636 - covertype_categorical4_loss: 1.6395 - covertype_categorical5_loss: 2.2337 - covertype_categorical6_loss: 2.6688 - covertype_categorical7_loss: 0.8798 - covertype_categorical8_loss: 0.8433 - covertype_categorical9_loss: 1.1506 - covertype_categorical10_loss: 2.8573 - covertype_cls_categorical_accuracy: 0.9415 - val_loss: 10.4885 - val_covertype_cls_loss: 0.5623 - val_covertype_bernoulli_loss: 0.0581 - val_covertype_categorical1_loss: 3.2369 - val_covertype_categorical2_loss: 1.2436 - val_covertype_categorical3_loss: 0.1721 - val_covertype_categorical4_loss: 2.0276 - val_covertype_categorical5_loss: 2.6176 - val_covertype_categorical6_loss: 3.1934 - val_covertype_categorical7_loss: 1.0343 - val_covertype_categorical8_loss: 0.9435 - val_covertype_categorical9_loss: 1.3533 - val_covertype_categorical10_loss: 3.4347 - val_covertype_cls_categorical_accuracy: 0.8696\n",
      "Epoch 187/1000\n",
      "129/129 [==============================] - 27s 208ms/step - loss: 8.4875 - covertype_cls_loss: 0.4159 - covertype_bernoulli_loss: 0.0401 - covertype_categorical1_loss: 2.0184 - covertype_categorical2_loss: 1.0982 - covertype_categorical3_loss: 0.1538 - covertype_categorical4_loss: 1.6314 - covertype_categorical5_loss: 2.2398 - covertype_categorical6_loss: 2.6628 - covertype_categorical7_loss: 0.8898 - covertype_categorical8_loss: 0.8426 - covertype_categorical9_loss: 1.1526 - covertype_categorical10_loss: 2.8612 - covertype_cls_categorical_accuracy: 0.9421 - val_loss: 10.8404 - val_covertype_cls_loss: 0.5583 - val_covertype_bernoulli_loss: 0.0580 - val_covertype_categorical1_loss: 3.3465 - val_covertype_categorical2_loss: 1.3155 - val_covertype_categorical3_loss: 0.1783 - val_covertype_categorical4_loss: 2.1066 - val_covertype_categorical5_loss: 2.6470 - val_covertype_categorical6_loss: 3.3064 - val_covertype_categorical7_loss: 1.0792 - val_covertype_categorical8_loss: 1.0268 - val_covertype_categorical9_loss: 1.4508 - val_covertype_categorical10_loss: 3.5122 - val_covertype_cls_categorical_accuracy: 0.8684\n",
      "Epoch 188/1000\n",
      "129/129 [==============================] - 26s 199ms/step - loss: 8.5461 - covertype_cls_loss: 0.4151 - covertype_bernoulli_loss: 0.0411 - covertype_categorical1_loss: 2.0281 - covertype_categorical2_loss: 1.1156 - covertype_categorical3_loss: 0.1664 - covertype_categorical4_loss: 1.6505 - covertype_categorical5_loss: 2.2353 - covertype_categorical6_loss: 2.6751 - covertype_categorical7_loss: 0.9057 - covertype_categorical8_loss: 0.8552 - covertype_categorical9_loss: 1.1738 - covertype_categorical10_loss: 2.8623 - covertype_cls_categorical_accuracy: 0.9428 - val_loss: 10.4627 - val_covertype_cls_loss: 0.5559 - val_covertype_bernoulli_loss: 0.0530 - val_covertype_categorical1_loss: 3.2422 - val_covertype_categorical2_loss: 1.2679 - val_covertype_categorical3_loss: 0.1731 - val_covertype_categorical4_loss: 2.0417 - val_covertype_categorical5_loss: 2.5642 - val_covertype_categorical6_loss: 3.1772 - val_covertype_categorical7_loss: 1.0538 - val_covertype_categorical8_loss: 0.9359 - val_covertype_categorical9_loss: 1.3649 - val_covertype_categorical10_loss: 3.4028 - val_covertype_cls_categorical_accuracy: 0.8701\n"
     ]
    },
    {
     "name": "stdout",
     "output_type": "stream",
     "text": [
      "Epoch 189/1000\n",
      "129/129 [==============================] - 25s 193ms/step - loss: 8.4859 - covertype_cls_loss: 0.4207 - covertype_bernoulli_loss: 0.0403 - covertype_categorical1_loss: 2.0167 - covertype_categorical2_loss: 1.0963 - covertype_categorical3_loss: 0.1604 - covertype_categorical4_loss: 1.6382 - covertype_categorical5_loss: 2.2218 - covertype_categorical6_loss: 2.6478 - covertype_categorical7_loss: 0.8897 - covertype_categorical8_loss: 0.8574 - covertype_categorical9_loss: 1.1603 - covertype_categorical10_loss: 2.8488 - covertype_cls_categorical_accuracy: 0.9393 - val_loss: 10.8651 - val_covertype_cls_loss: 0.5988 - val_covertype_bernoulli_loss: 0.0644 - val_covertype_categorical1_loss: 3.3579 - val_covertype_categorical2_loss: 1.2934 - val_covertype_categorical3_loss: 0.1884 - val_covertype_categorical4_loss: 2.0745 - val_covertype_categorical5_loss: 2.6856 - val_covertype_categorical6_loss: 3.2914 - val_covertype_categorical7_loss: 1.0929 - val_covertype_categorical8_loss: 1.0042 - val_covertype_categorical9_loss: 1.4344 - val_covertype_categorical10_loss: 3.5085 - val_covertype_cls_categorical_accuracy: 0.8512ype_bernoulli_loss: 0.0405 - covertype_categorical1_loss: 2.0158 - covertype_categorical2_loss: 1.1023 - covertype_categorical3_loss: 0.1644 - covertype_categorical4_loss: 1.6422 - covertype_categorical5_loss: 2.2298 - covertype_categorical6_loss: 2.6532 - covertype_categorical7_loss: 0.8964 - covertype_categorical8_loss: 0.8567 - covertype_categorical9_loss: 1.1658 - covertype_categorical10_loss: 2.8530 - covertype_cl\n",
      "Epoch 190/1000\n",
      "129/129 [==============================] - 27s 207ms/step - loss: 8.4890 - covertype_cls_loss: 0.4154 - covertype_bernoulli_loss: 0.0393 - covertype_categorical1_loss: 2.0164 - covertype_categorical2_loss: 1.1008 - covertype_categorical3_loss: 0.1524 - covertype_categorical4_loss: 1.6444 - covertype_categorical5_loss: 2.2285 - covertype_categorical6_loss: 2.6544 - covertype_categorical7_loss: 0.8900 - covertype_categorical8_loss: 0.8531 - covertype_categorical9_loss: 1.1733 - covertype_categorical10_loss: 2.8414 - covertype_cls_categorical_accuracy: 0.9417 - val_loss: 10.3469 - val_covertype_cls_loss: 0.5555 - val_covertype_bernoulli_loss: 0.0551 - val_covertype_categorical1_loss: 3.2097 - val_covertype_categorical2_loss: 1.2165 - val_covertype_categorical3_loss: 0.1655 - val_covertype_categorical4_loss: 2.0185 - val_covertype_categorical5_loss: 2.5847 - val_covertype_categorical6_loss: 3.1525 - val_covertype_categorical7_loss: 1.0123 - val_covertype_categorical8_loss: 0.9149 - val_covertype_categorical9_loss: 1.3337 - val_covertype_categorical10_loss: 3.3825 - val_covertype_cls_categorical_accuracy: 0.8734\n",
      "Epoch 191/1000\n",
      "129/129 [==============================] - 26s 201ms/step - loss: 8.4698 - covertype_cls_loss: 0.4162 - covertype_bernoulli_loss: 0.0397 - covertype_categorical1_loss: 2.0204 - covertype_categorical2_loss: 1.0803 - covertype_categorical3_loss: 0.1526 - covertype_categorical4_loss: 1.6377 - covertype_categorical5_loss: 2.2225 - covertype_categorical6_loss: 2.6807 - covertype_categorical7_loss: 0.8784 - covertype_categorical8_loss: 0.8392 - covertype_categorical9_loss: 1.1554 - covertype_categorical10_loss: 2.8476 - covertype_cls_categorical_accuracy: 0.9411 - val_loss: 10.7461 - val_covertype_cls_loss: 0.5580 - val_covertype_bernoulli_loss: 0.0592 - val_covertype_categorical1_loss: 3.3676 - val_covertype_categorical2_loss: 1.2893 - val_covertype_categorical3_loss: 0.1925 - val_covertype_categorical4_loss: 2.0901 - val_covertype_categorical5_loss: 2.6361 - val_covertype_categorical6_loss: 3.2573 - val_covertype_categorical7_loss: 1.0931 - val_covertype_categorical8_loss: 0.9696 - val_covertype_categorical9_loss: 1.4119 - val_covertype_categorical10_loss: 3.4719 - val_covertype_cls_categorical_accuracy: 0.8734\n",
      "Epoch 192/1000\n",
      "129/129 [==============================] - 26s 198ms/step - loss: 8.4776 - covertype_cls_loss: 0.4167 - covertype_bernoulli_loss: 0.0397 - covertype_categorical1_loss: 2.0143 - covertype_categorical2_loss: 1.0972 - covertype_categorical3_loss: 0.1585 - covertype_categorical4_loss: 1.6518 - covertype_categorical5_loss: 2.2243 - covertype_categorical6_loss: 2.6512 - covertype_categorical7_loss: 0.8871 - covertype_categorical8_loss: 0.8466 - covertype_categorical9_loss: 1.1627 - covertype_categorical10_loss: 2.8355 - covertype_cls_categorical_accuracy: 0.9413 - val_loss: 10.4756 - val_covertype_cls_loss: 0.5523 - val_covertype_bernoulli_loss: 0.0571 - val_covertype_categorical1_loss: 3.2247 - val_covertype_categorical2_loss: 1.2402 - val_covertype_categorical3_loss: 0.1874 - val_covertype_categorical4_loss: 2.0376 - val_covertype_categorical5_loss: 2.6074 - val_covertype_categorical6_loss: 3.1627 - val_covertype_categorical7_loss: 1.0432 - val_covertype_categorical8_loss: 0.9458 - val_covertype_categorical9_loss: 1.3512 - val_covertype_categorical10_loss: 3.4522 - val_covertype_cls_categorical_accuracy: 0.8736\n",
      "Epoch 193/1000\n",
      "129/129 [==============================] - 26s 203ms/step - loss: 8.4736 - covertype_cls_loss: 0.4166 - covertype_bernoulli_loss: 0.0402 - covertype_categorical1_loss: 2.0130 - covertype_categorical2_loss: 1.0999 - covertype_categorical3_loss: 0.1618 - covertype_categorical4_loss: 1.6298 - covertype_categorical5_loss: 2.2293 - covertype_categorical6_loss: 2.6467 - covertype_categorical7_loss: 0.8795 - covertype_categorical8_loss: 0.8584 - covertype_categorical9_loss: 1.1664 - covertype_categorical10_loss: 2.8360 - covertype_cls_categorical_accuracy: 0.9413 - val_loss: 10.8364 - val_covertype_cls_loss: 0.5665 - val_covertype_bernoulli_loss: 0.0653 - val_covertype_categorical1_loss: 3.3458 - val_covertype_categorical2_loss: 1.3558 - val_covertype_categorical3_loss: 0.1741 - val_covertype_categorical4_loss: 2.0775 - val_covertype_categorical5_loss: 2.6346 - val_covertype_categorical6_loss: 3.2824 - val_covertype_categorical7_loss: 1.1436 - val_covertype_categorical8_loss: 1.0146 - val_covertype_categorical9_loss: 1.4445 - val_covertype_categorical10_loss: 3.4645 - val_covertype_cls_categorical_accuracy: 0.8645\n",
      "Epoch 194/1000\n",
      "129/129 [==============================] - 26s 199ms/step - loss: 8.4282 - covertype_cls_loss: 0.4134 - covertype_bernoulli_loss: 0.0397 - covertype_categorical1_loss: 2.0000 - covertype_categorical2_loss: 1.0887 - covertype_categorical3_loss: 0.1534 - covertype_categorical4_loss: 1.6288 - covertype_categorical5_loss: 2.2152 - covertype_categorical6_loss: 2.6447 - covertype_categorical7_loss: 0.8851 - covertype_categorical8_loss: 0.8419 - covertype_categorical9_loss: 1.1512 - covertype_categorical10_loss: 2.8274 - covertype_cls_categorical_accuracy: 0.9428 - val_loss: 10.3813 - val_covertype_cls_loss: 0.5485 - val_covertype_bernoulli_loss: 0.0521 - val_covertype_categorical1_loss: 3.2264 - val_covertype_categorical2_loss: 1.2447 - val_covertype_categorical3_loss: 0.1728 - val_covertype_categorical4_loss: 2.0148 - val_covertype_categorical5_loss: 2.5683 - val_covertype_categorical6_loss: 3.1705 - val_covertype_categorical7_loss: 1.0168 - val_covertype_categorical8_loss: 0.9268 - val_covertype_categorical9_loss: 1.3408 - val_covertype_categorical10_loss: 3.3940 - val_covertype_cls_categorical_accuracy: 0.8766\n",
      "Epoch 195/1000\n",
      "129/129 [==============================] - 26s 201ms/step - loss: 8.4274 - covertype_cls_loss: 0.4165 - covertype_bernoulli_loss: 0.0387 - covertype_categorical1_loss: 2.0070 - covertype_categorical2_loss: 1.0752 - covertype_categorical3_loss: 0.1554 - covertype_categorical4_loss: 1.6340 - covertype_categorical5_loss: 2.2166 - covertype_categorical6_loss: 2.6449 - covertype_categorical7_loss: 0.8694 - covertype_categorical8_loss: 0.8343 - covertype_categorical9_loss: 1.1548 - covertype_categorical10_loss: 2.8382 - covertype_cls_categorical_accuracy: 0.9413 - val_loss: 10.7996 - val_covertype_cls_loss: 0.5746 - val_covertype_bernoulli_loss: 0.0614 - val_covertype_categorical1_loss: 3.3348 - val_covertype_categorical2_loss: 1.3018 - val_covertype_categorical3_loss: 0.1898 - val_covertype_categorical4_loss: 2.1152 - val_covertype_categorical5_loss: 2.6599 - val_covertype_categorical6_loss: 3.2801 - val_covertype_categorical7_loss: 1.0657 - val_covertype_categorical8_loss: 0.9708 - val_covertype_categorical9_loss: 1.4389 - val_covertype_categorical10_loss: 3.4935 - val_covertype_cls_categorical_accuracy: 0.8595\n"
     ]
    },
    {
     "name": "stdout",
     "output_type": "stream",
     "text": [
      "Epoch 196/1000\n",
      "129/129 [==============================] - 25s 190ms/step - loss: 8.4140 - covertype_cls_loss: 0.4124 - covertype_bernoulli_loss: 0.0396 - covertype_categorical1_loss: 2.0015 - covertype_categorical2_loss: 1.0851 - covertype_categorical3_loss: 0.1591 - covertype_categorical4_loss: 1.6269 - covertype_categorical5_loss: 2.2013 - covertype_categorical6_loss: 2.6388 - covertype_categorical7_loss: 0.8848 - covertype_categorical8_loss: 0.8387 - covertype_categorical9_loss: 1.1447 - covertype_categorical10_loss: 2.8291 - covertype_cls_categorical_accuracy: 0.9432 - val_loss: 10.3759 - val_covertype_cls_loss: 0.5498 - val_covertype_bernoulli_loss: 0.0516 - val_covertype_categorical1_loss: 3.2289 - val_covertype_categorical2_loss: 1.2334 - val_covertype_categorical3_loss: 0.1602 - val_covertype_categorical4_loss: 2.0150 - val_covertype_categorical5_loss: 2.5508 - val_covertype_categorical6_loss: 3.1567 - val_covertype_categorical7_loss: 1.0302 - val_covertype_categorical8_loss: 0.9344 - val_covertype_categorical9_loss: 1.3552 - val_covertype_categorical10_loss: 3.3979 - val_covertype_cls_categorical_accuracy: 0.8754\n",
      "Epoch 197/1000\n",
      "129/129 [==============================] - 26s 199ms/step - loss: 8.4587 - covertype_cls_loss: 0.4172 - covertype_bernoulli_loss: 0.0384 - covertype_categorical1_loss: 2.0151 - covertype_categorical2_loss: 1.0890 - covertype_categorical3_loss: 0.1650 - covertype_categorical4_loss: 1.6146 - covertype_categorical5_loss: 2.2155 - covertype_categorical6_loss: 2.6430 - covertype_categorical7_loss: 0.8842 - covertype_categorical8_loss: 0.8543 - covertype_categorical9_loss: 1.1718 - covertype_categorical10_loss: 2.8387 - covertype_cls_categorical_accuracy: 0.9410 - val_loss: 10.6890 - val_covertype_cls_loss: 0.5598 - val_covertype_bernoulli_loss: 0.0617 - val_covertype_categorical1_loss: 3.3129 - val_covertype_categorical2_loss: 1.3159 - val_covertype_categorical3_loss: 0.1832 - val_covertype_categorical4_loss: 2.0935 - val_covertype_categorical5_loss: 2.6040 - val_covertype_categorical6_loss: 3.2613 - val_covertype_categorical7_loss: 1.0974 - val_covertype_categorical8_loss: 0.9498 - val_covertype_categorical9_loss: 1.3842 - val_covertype_categorical10_loss: 3.4581 - val_covertype_cls_categorical_accuracy: 0.8696\n",
      "Epoch 198/1000\n",
      "129/129 [==============================] - 25s 195ms/step - loss: 8.4159 - covertype_cls_loss: 0.4123 - covertype_bernoulli_loss: 0.0394 - covertype_categorical1_loss: 2.0028 - covertype_categorical2_loss: 1.0857 - covertype_categorical3_loss: 0.1550 - covertype_categorical4_loss: 1.6287 - covertype_categorical5_loss: 2.2008 - covertype_categorical6_loss: 2.6220 - covertype_categorical7_loss: 0.8894 - covertype_categorical8_loss: 0.8411 - covertype_categorical9_loss: 1.1565 - covertype_categorical10_loss: 2.8322 - covertype_cls_categorical_accuracy: 0.9433 - val_loss: 10.3463 - val_covertype_cls_loss: 0.5486 - val_covertype_bernoulli_loss: 0.0548 - val_covertype_categorical1_loss: 3.2121 - val_covertype_categorical2_loss: 1.2257 - val_covertype_categorical3_loss: 0.1546 - val_covertype_categorical4_loss: 2.0325 - val_covertype_categorical5_loss: 2.5503 - val_covertype_categorical6_loss: 3.1476 - val_covertype_categorical7_loss: 1.0139 - val_covertype_categorical8_loss: 0.9230 - val_covertype_categorical9_loss: 1.3416 - val_covertype_categorical10_loss: 3.4015 - val_covertype_cls_categorical_accuracy: 0.8747\n",
      "Epoch 199/1000\n",
      "129/129 [==============================] - 27s 207ms/step - loss: 8.3585 - covertype_cls_loss: 0.4104 - covertype_bernoulli_loss: 0.0385 - covertype_categorical1_loss: 2.0040 - covertype_categorical2_loss: 1.0692 - covertype_categorical3_loss: 0.1424 - covertype_categorical4_loss: 1.6222 - covertype_categorical5_loss: 2.1967 - covertype_categorical6_loss: 2.6305 - covertype_categorical7_loss: 0.8567 - covertype_categorical8_loss: 0.8245 - covertype_categorical9_loss: 1.1373 - covertype_categorical10_loss: 2.8210 - covertype_cls_categorical_accuracy: 0.9444 - val_loss: 10.8922 - val_covertype_cls_loss: 0.5531 - val_covertype_bernoulli_loss: 0.0634 - val_covertype_categorical1_loss: 3.3845 - val_covertype_categorical2_loss: 1.3265 - val_covertype_categorical3_loss: 0.2761 - val_covertype_categorical4_loss: 2.0661 - val_covertype_categorical5_loss: 2.7293 - val_covertype_categorical6_loss: 3.2569 - val_covertype_categorical7_loss: 1.1168 - val_covertype_categorical8_loss: 1.0419 - val_covertype_categorical9_loss: 1.3927 - val_covertype_categorical10_loss: 3.4867 - val_covertype_cls_categorical_accuracy: 0.8762\n",
      "Epoch 200/1000\n",
      "129/129 [==============================] - 28s 219ms/step - loss: 8.4228 - covertype_cls_loss: 0.4134 - covertype_bernoulli_loss: 0.0397 - covertype_categorical1_loss: 1.9965 - covertype_categorical2_loss: 1.0926 - covertype_categorical3_loss: 0.1586 - covertype_categorical4_loss: 1.6190 - covertype_categorical5_loss: 2.2184 - covertype_categorical6_loss: 2.6260 - covertype_categorical7_loss: 0.8833 - covertype_categorical8_loss: 0.8493 - covertype_categorical9_loss: 1.1537 - covertype_categorical10_loss: 2.8290 - covertype_cls_categorical_accuracy: 0.9429 - val_loss: 10.3487 - val_covertype_cls_loss: 0.5481 - val_covertype_bernoulli_loss: 0.0519 - val_covertype_categorical1_loss: 3.2168 - val_covertype_categorical2_loss: 1.2163 - val_covertype_categorical3_loss: 0.1585 - val_covertype_categorical4_loss: 2.0038 - val_covertype_categorical5_loss: 2.5760 - val_covertype_categorical6_loss: 3.1427 - val_covertype_categorical7_loss: 1.0344 - val_covertype_categorical8_loss: 0.9181 - val_covertype_categorical9_loss: 1.3462 - val_covertype_categorical10_loss: 3.3992 - val_covertype_cls_categorical_accuracy: 0.8747\n",
      "Epoch 201/1000\n",
      "129/129 [==============================] - 29s 227ms/step - loss: 8.5657 - covertype_cls_loss: 0.4160 - covertype_bernoulli_loss: 0.0409 - covertype_categorical1_loss: 2.0143 - covertype_categorical2_loss: 1.0825 - covertype_categorical3_loss: 0.1582 - covertype_categorical4_loss: 1.8104 - covertype_categorical5_loss: 2.2986 - covertype_categorical6_loss: 2.6418 - covertype_categorical7_loss: 0.8689 - covertype_categorical8_loss: 0.8430 - covertype_categorical9_loss: 1.1553 - covertype_categorical10_loss: 2.8330 - covertype_cls_categorical_accuracy: 0.9419 - val_loss: 10.5409 - val_covertype_cls_loss: 0.5590 - val_covertype_bernoulli_loss: 0.0573 - val_covertype_categorical1_loss: 3.3142 - val_covertype_categorical2_loss: 1.2484 - val_covertype_categorical3_loss: 0.1698 - val_covertype_categorical4_loss: 2.0402 - val_covertype_categorical5_loss: 2.5822 - val_covertype_categorical6_loss: 3.2171 - val_covertype_categorical7_loss: 1.0240 - val_covertype_categorical8_loss: 0.9500 - val_covertype_categorical9_loss: 1.3715 - val_covertype_categorical10_loss: 3.4523 - val_covertype_cls_categorical_accuracy: 0.8709\n",
      "Epoch 202/1000\n",
      "129/129 [==============================] - 29s 224ms/step - loss: 8.3178 - covertype_cls_loss: 0.4100 - covertype_bernoulli_loss: 0.0382 - covertype_categorical1_loss: 1.9835 - covertype_categorical2_loss: 1.0533 - covertype_categorical3_loss: 0.1499 - covertype_categorical4_loss: 1.6201 - covertype_categorical5_loss: 2.1815 - covertype_categorical6_loss: 2.6192 - covertype_categorical7_loss: 0.8493 - covertype_categorical8_loss: 0.8253 - covertype_categorical9_loss: 1.1328 - covertype_categorical10_loss: 2.8085 - covertype_cls_categorical_accuracy: 0.9447 - val_loss: 10.3641 - val_covertype_cls_loss: 0.5487 - val_covertype_bernoulli_loss: 0.0523 - val_covertype_categorical1_loss: 3.2168 - val_covertype_categorical2_loss: 1.2322 - val_covertype_categorical3_loss: 0.1795 - val_covertype_categorical4_loss: 2.0108 - val_covertype_categorical5_loss: 2.5537 - val_covertype_categorical6_loss: 3.1638 - val_covertype_categorical7_loss: 1.0163 - val_covertype_categorical8_loss: 0.9220 - val_covertype_categorical9_loss: 1.3552 - val_covertype_categorical10_loss: 3.3909 - val_covertype_cls_categorical_accuracy: 0.8743\n",
      "Epoch 203/1000\n",
      "129/129 [==============================] - 29s 224ms/step - loss: 8.3367 - covertype_cls_loss: 0.4109 - covertype_bernoulli_loss: 0.0382 - covertype_categorical1_loss: 1.9873 - covertype_categorical2_loss: 1.0602 - covertype_categorical3_loss: 0.1534 - covertype_categorical4_loss: 1.6139 - covertype_categorical5_loss: 2.1874 - covertype_categorical6_loss: 2.6110 - covertype_categorical7_loss: 0.8707 - covertype_categorical8_loss: 0.8223 - covertype_categorical9_loss: 1.1460 - covertype_categorical10_loss: 2.8076 - covertype_cls_categorical_accuracy: 0.9439 - val_loss: 10.7648 - val_covertype_cls_loss: 0.5807 - val_covertype_bernoulli_loss: 0.0564 - val_covertype_categorical1_loss: 3.3725 - val_covertype_categorical2_loss: 1.2946 - val_covertype_categorical3_loss: 0.2018 - val_covertype_categorical4_loss: 2.0597 - val_covertype_categorical5_loss: 2.6294 - val_covertype_categorical6_loss: 3.2412 - val_covertype_categorical7_loss: 1.0987 - val_covertype_categorical8_loss: 0.9986 - val_covertype_categorical9_loss: 1.4105 - val_covertype_categorical10_loss: 3.4654 - val_covertype_cls_categorical_accuracy: 0.8581\n",
      "Epoch 204/1000\n",
      "129/129 [==============================] - 29s 226ms/step - loss: 8.3491 - covertype_cls_loss: 0.4107 - covertype_bernoulli_loss: 0.0379 - covertype_categorical1_loss: 1.9906 - covertype_categorical2_loss: 1.0674 - covertype_categorical3_loss: 0.1472 - covertype_categorical4_loss: 1.6153 - covertype_categorical5_loss: 2.1864 - covertype_categorical6_loss: 2.6330 - covertype_categorical7_loss: 0.8606 - covertype_categorical8_loss: 0.8294 - covertype_categorical9_loss: 1.1379 - covertype_categorical10_loss: 2.8171 - covertype_cls_categorical_accuracy: 0.9444 - val_loss: 10.3655 - val_covertype_cls_loss: 0.5443 - val_covertype_bernoulli_loss: 0.0528 - val_covertype_categorical1_loss: 3.1989 - val_covertype_categorical2_loss: 1.2342 - val_covertype_categorical3_loss: 0.1593 - val_covertype_categorical4_loss: 2.0134 - val_covertype_categorical5_loss: 2.5769 - val_covertype_categorical6_loss: 3.1692 - val_covertype_categorical7_loss: 1.0120 - val_covertype_categorical8_loss: 0.9394 - val_covertype_categorical9_loss: 1.3459 - val_covertype_categorical10_loss: 3.4020 - val_covertype_cls_categorical_accuracy: 0.8782\n",
      "Epoch 205/1000\n",
      "129/129 [==============================] - 29s 225ms/step - loss: 8.3747 - covertype_cls_loss: 0.4123 - covertype_bernoulli_loss: 0.0540 - covertype_categorical1_loss: 1.9879 - covertype_categorical2_loss: 1.0755 - covertype_categorical3_loss: 0.1448 - covertype_categorical4_loss: 1.6160 - covertype_categorical5_loss: 2.2065 - covertype_categorical6_loss: 2.6196 - covertype_categorical7_loss: 0.8719 - covertype_categorical8_loss: 0.8335 - covertype_categorical9_loss: 1.1478 - covertype_categorical10_loss: 2.8135 - covertype_cls_categorical_accuracy: 0.9433 - val_loss: 10.9739 - val_covertype_cls_loss: 0.5631 - val_covertype_bernoulli_loss: 0.0708 - val_covertype_categorical1_loss: 3.4025 - val_covertype_categorical2_loss: 1.3434 - val_covertype_categorical3_loss: 0.2098 - val_covertype_categorical4_loss: 2.1221 - val_covertype_categorical5_loss: 2.6840 - val_covertype_categorical6_loss: 3.3380 - val_covertype_categorical7_loss: 1.1415 - val_covertype_categorical8_loss: 1.0226 - val_covertype_categorical9_loss: 1.4453 - val_covertype_categorical10_loss: 3.5029 - val_covertype_cls_categorical_accuracy: 0.8680\n",
      "Epoch 206/1000\n",
      "129/129 [==============================] - 29s 225ms/step - loss: 8.3317 - covertype_cls_loss: 0.4103 - covertype_bernoulli_loss: 0.0369 - covertype_categorical1_loss: 1.9876 - covertype_categorical2_loss: 1.0658 - covertype_categorical3_loss: 0.1596 - covertype_categorical4_loss: 1.6115 - covertype_categorical5_loss: 2.1782 - covertype_categorical6_loss: 2.6106 - covertype_categorical7_loss: 0.8658 - covertype_categorical8_loss: 0.8290 - covertype_categorical9_loss: 1.1420 - covertype_categorical10_loss: 2.8015 - covertype_cls_categorical_accuracy: 0.9439 - val_loss: 10.2794 - val_covertype_cls_loss: 0.5510 - val_covertype_bernoulli_loss: 0.0508 - val_covertype_categorical1_loss: 3.1973 - val_covertype_categorical2_loss: 1.2161 - val_covertype_categorical3_loss: 0.1676 - val_covertype_categorical4_loss: 1.9921 - val_covertype_categorical5_loss: 2.5322 - val_covertype_categorical6_loss: 3.1399 - val_covertype_categorical7_loss: 1.0065 - val_covertype_categorical8_loss: 0.9115 - val_covertype_categorical9_loss: 1.3357 - val_covertype_categorical10_loss: 3.3699 - val_covertype_cls_categorical_accuracy: 0.8730\n",
      "Epoch 207/1000\n",
      "129/129 [==============================] - 29s 227ms/step - loss: 8.3448 - covertype_cls_loss: 0.4139 - covertype_bernoulli_loss: 0.0394 - covertype_categorical1_loss: 1.9812 - covertype_categorical2_loss: 1.0726 - covertype_categorical3_loss: 0.1596 - covertype_categorical4_loss: 1.6044 - covertype_categorical5_loss: 2.1839 - covertype_categorical6_loss: 2.6118 - covertype_categorical7_loss: 0.8669 - covertype_categorical8_loss: 0.8312 - covertype_categorical9_loss: 1.1520 - covertype_categorical10_loss: 2.8052 - covertype_cls_categorical_accuracy: 0.9424 - val_loss: 10.8527 - val_covertype_cls_loss: 0.5427 - val_covertype_bernoulli_loss: 0.0600 - val_covertype_categorical1_loss: 3.3329 - val_covertype_categorical2_loss: 1.2826 - val_covertype_categorical3_loss: 0.2582 - val_covertype_categorical4_loss: 2.1057 - val_covertype_categorical5_loss: 2.6244 - val_covertype_categorical6_loss: 3.2539 - val_covertype_categorical7_loss: 1.1192 - val_covertype_categorical8_loss: 1.0443 - val_covertype_categorical9_loss: 1.4688 - val_covertype_categorical10_loss: 3.5311 - val_covertype_cls_categorical_accuracy: 0.8772\n",
      "Epoch 208/1000\n",
      "129/129 [==============================] - 29s 222ms/step - loss: 8.3105 - covertype_cls_loss: 0.4082 - covertype_bernoulli_loss: 0.0372 - covertype_categorical1_loss: 1.9815 - covertype_categorical2_loss: 1.0727 - covertype_categorical3_loss: 0.1513 - covertype_categorical4_loss: 1.5949 - covertype_categorical5_loss: 2.1703 - covertype_categorical6_loss: 2.6026 - covertype_categorical7_loss: 0.8714 - covertype_categorical8_loss: 0.8241 - covertype_categorical9_loss: 1.1454 - covertype_categorical10_loss: 2.7991 - covertype_cls_categorical_accuracy: 0.9453 - val_loss: 10.2460 - val_covertype_cls_loss: 0.5392 - val_covertype_bernoulli_loss: 0.0527 - val_covertype_categorical1_loss: 3.1932 - val_covertype_categorical2_loss: 1.2145 - val_covertype_categorical3_loss: 0.1532 - val_covertype_categorical4_loss: 2.0047 - val_covertype_categorical5_loss: 2.5621 - val_covertype_categorical6_loss: 3.1167 - val_covertype_categorical7_loss: 0.9864 - val_covertype_categorical8_loss: 0.8968 - val_covertype_categorical9_loss: 1.3315 - val_covertype_categorical10_loss: 3.3641 - val_covertype_cls_categorical_accuracy: 0.8806\n",
      "Epoch 209/1000\n",
      "129/129 [==============================] - 29s 227ms/step - loss: 8.3378 - covertype_cls_loss: 0.4119 - covertype_bernoulli_loss: 0.0374 - covertype_categorical1_loss: 1.9858 - covertype_categorical2_loss: 1.0611 - covertype_categorical3_loss: 0.1550 - covertype_categorical4_loss: 1.6106 - covertype_categorical5_loss: 2.1886 - covertype_categorical6_loss: 2.6058 - covertype_categorical7_loss: 0.8603 - covertype_categorical8_loss: 0.8312 - covertype_categorical9_loss: 1.1434 - covertype_categorical10_loss: 2.8189 - covertype_cls_categorical_accuracy: 0.9428 - val_loss: 10.7247 - val_covertype_cls_loss: 0.5727 - val_covertype_bernoulli_loss: 0.0557 - val_covertype_categorical1_loss: 3.3012 - val_covertype_categorical2_loss: 1.2903 - val_covertype_categorical3_loss: 0.1865 - val_covertype_categorical4_loss: 2.0752 - val_covertype_categorical5_loss: 2.6399 - val_covertype_categorical6_loss: 3.2668 - val_covertype_categorical7_loss: 1.0794 - val_covertype_categorical8_loss: 0.9913 - val_covertype_categorical9_loss: 1.4173 - val_covertype_categorical10_loss: 3.4634 - val_covertype_cls_categorical_accuracy: 0.8605\n",
      "Epoch 210/1000\n"
     ]
    },
    {
     "name": "stdout",
     "output_type": "stream",
     "text": [
      "129/129 [==============================] - 28s 218ms/step - loss: 8.3105 - covertype_cls_loss: 0.4098 - covertype_bernoulli_loss: 0.0374 - covertype_categorical1_loss: 1.9791 - covertype_categorical2_loss: 1.0614 - covertype_categorical3_loss: 0.1479 - covertype_categorical4_loss: 1.6373 - covertype_categorical5_loss: 2.1879 - covertype_categorical6_loss: 2.6008 - covertype_categorical7_loss: 0.8562 - covertype_categorical8_loss: 0.8161 - covertype_categorical9_loss: 1.1374 - covertype_categorical10_loss: 2.7861 - covertype_cls_categorical_accuracy: 0.9441 - val_loss: 10.3096 - val_covertype_cls_loss: 0.5464 - val_covertype_bernoulli_loss: 0.0525 - val_covertype_categorical1_loss: 3.1962 - val_covertype_categorical2_loss: 1.2189 - val_covertype_categorical3_loss: 0.1612 - val_covertype_categorical4_loss: 2.0071 - val_covertype_categorical5_loss: 2.5868 - val_covertype_categorical6_loss: 3.1347 - val_covertype_categorical7_loss: 1.0005 - val_covertype_categorical8_loss: 0.9352 - val_covertype_categorical9_loss: 1.3337 - val_covertype_categorical10_loss: 3.3605 - val_covertype_cls_categorical_accuracy: 0.8763\n",
      "Epoch 211/1000\n",
      "129/129 [==============================] - 29s 226ms/step - loss: 8.2678 - covertype_cls_loss: 0.4120 - covertype_bernoulli_loss: 0.0372 - covertype_categorical1_loss: 1.9785 - covertype_categorical2_loss: 1.0494 - covertype_categorical3_loss: 0.1372 - covertype_categorical4_loss: 1.6012 - covertype_categorical5_loss: 2.1822 - covertype_categorical6_loss: 2.5992 - covertype_categorical7_loss: 0.8441 - covertype_categorical8_loss: 0.8123 - covertype_categorical9_loss: 1.1266 - covertype_categorical10_loss: 2.7893 - covertype_cls_categorical_accuracy: 0.9432 - val_loss: 10.6379 - val_covertype_cls_loss: 0.5634 - val_covertype_bernoulli_loss: 0.0531 - val_covertype_categorical1_loss: 3.3396 - val_covertype_categorical2_loss: 1.2939 - val_covertype_categorical3_loss: 0.1751 - val_covertype_categorical4_loss: 2.0824 - val_covertype_categorical5_loss: 2.5893 - val_covertype_categorical6_loss: 3.2248 - val_covertype_categorical7_loss: 1.0401 - val_covertype_categorical8_loss: 0.9874 - val_covertype_categorical9_loss: 1.3800 - val_covertype_categorical10_loss: 3.4460 - val_covertype_cls_categorical_accuracy: 0.8674\n",
      "Epoch 212/1000\n",
      "129/129 [==============================] - 28s 220ms/step - loss: 8.2693 - covertype_cls_loss: 0.4074 - covertype_bernoulli_loss: 0.0365 - covertype_categorical1_loss: 1.9728 - covertype_categorical2_loss: 1.0600 - covertype_categorical3_loss: 0.1432 - covertype_categorical4_loss: 1.5948 - covertype_categorical5_loss: 2.1664 - covertype_categorical6_loss: 2.6006 - covertype_categorical7_loss: 0.8494 - covertype_categorical8_loss: 0.8200 - covertype_categorical9_loss: 1.1325 - covertype_categorical10_loss: 2.7931 - covertype_cls_categorical_accuracy: 0.9457 - val_loss: 10.2984 - val_covertype_cls_loss: 0.5410 - val_covertype_bernoulli_loss: 0.0515 - val_covertype_categorical1_loss: 3.1797 - val_covertype_categorical2_loss: 1.2246 - val_covertype_categorical3_loss: 0.1801 - val_covertype_categorical4_loss: 2.0032 - val_covertype_categorical5_loss: 2.5502 - val_covertype_categorical6_loss: 3.1113 - val_covertype_categorical7_loss: 1.0497 - val_covertype_categorical8_loss: 0.9051 - val_covertype_categorical9_loss: 1.3520 - val_covertype_categorical10_loss: 3.3699 - val_covertype_cls_categorical_accuracy: 0.8777\n",
      "Epoch 213/1000\n",
      "129/129 [==============================] - 29s 227ms/step - loss: 8.4587 - covertype_cls_loss: 0.4110 - covertype_bernoulli_loss: 0.0416 - covertype_categorical1_loss: 1.9850 - covertype_categorical2_loss: 1.0678 - covertype_categorical3_loss: 0.1667 - covertype_categorical4_loss: 1.7438 - covertype_categorical5_loss: 2.2922 - covertype_categorical6_loss: 2.6050 - covertype_categorical7_loss: 0.8609 - covertype_categorical8_loss: 0.8373 - covertype_categorical9_loss: 1.1368 - covertype_categorical10_loss: 2.8053 - covertype_cls_categorical_accuracy: 0.9441 - val_loss: 10.4958 - val_covertype_cls_loss: 0.5557 - val_covertype_bernoulli_loss: 0.0545 - val_covertype_categorical1_loss: 3.2836 - val_covertype_categorical2_loss: 1.2480 - val_covertype_categorical3_loss: 0.1834 - val_covertype_categorical4_loss: 2.0175 - val_covertype_categorical5_loss: 2.5544 - val_covertype_categorical6_loss: 3.2114 - val_covertype_categorical7_loss: 1.0413 - val_covertype_categorical8_loss: 0.9694 - val_covertype_categorical9_loss: 1.3579 - val_covertype_categorical10_loss: 3.4215 - val_covertype_cls_categorical_accuracy: 0.8717\n",
      "Epoch 214/1000\n",
      "129/129 [==============================] - 29s 225ms/step - loss: 8.2012 - covertype_cls_loss: 0.4072 - covertype_bernoulli_loss: 0.0374 - covertype_categorical1_loss: 1.9660 - covertype_categorical2_loss: 1.0469 - covertype_categorical3_loss: 0.1348 - covertype_categorical4_loss: 1.5866 - covertype_categorical5_loss: 2.1484 - covertype_categorical6_loss: 2.5702 - covertype_categorical7_loss: 0.8421 - covertype_categorical8_loss: 0.8049 - covertype_categorical9_loss: 1.1221 - covertype_categorical10_loss: 2.7741 - covertype_cls_categorical_accuracy: 0.9457 - val_loss: 10.1820 - val_covertype_cls_loss: 0.5444 - val_covertype_bernoulli_loss: 0.0493 - val_covertype_categorical1_loss: 3.1818 - val_covertype_categorical2_loss: 1.1934 - val_covertype_categorical3_loss: 0.1443 - val_covertype_categorical4_loss: 1.9777 - val_covertype_categorical5_loss: 2.5099 - val_covertype_categorical6_loss: 3.1087 - val_covertype_categorical7_loss: 0.9824 - val_covertype_categorical8_loss: 0.9056 - val_covertype_categorical9_loss: 1.3126 - val_covertype_categorical10_loss: 3.3708 - val_covertype_cls_categorical_accuracy: 0.8772\n",
      "Epoch 215/1000\n",
      "129/129 [==============================] - 29s 227ms/step - loss: 8.2806 - covertype_cls_loss: 0.4082 - covertype_bernoulli_loss: 0.0364 - covertype_categorical1_loss: 1.9676 - covertype_categorical2_loss: 1.0746 - covertype_categorical3_loss: 0.1460 - covertype_categorical4_loss: 1.5953 - covertype_categorical5_loss: 2.1546 - covertype_categorical6_loss: 2.5875 - covertype_categorical7_loss: 0.8779 - covertype_categorical8_loss: 0.8186 - covertype_categorical9_loss: 1.1483 - covertype_categorical10_loss: 2.7828 - covertype_cls_categorical_accuracy: 0.9446 - val_loss: 10.6424 - val_covertype_cls_loss: 0.5500 - val_covertype_bernoulli_loss: 0.0547 - val_covertype_categorical1_loss: 3.3192 - val_covertype_categorical2_loss: 1.3050 - val_covertype_categorical3_loss: 0.1689 - val_covertype_categorical4_loss: 2.0633 - val_covertype_categorical5_loss: 2.6148 - val_covertype_categorical6_loss: 3.2162 - val_covertype_categorical7_loss: 1.0783 - val_covertype_categorical8_loss: 0.9652 - val_covertype_categorical9_loss: 1.4121 - val_covertype_categorical10_loss: 3.4484 - val_covertype_cls_categorical_accuracy: 0.8765\n",
      "Epoch 216/1000\n",
      "129/129 [==============================] - 29s 226ms/step - loss: 8.2566 - covertype_cls_loss: 0.4066 - covertype_bernoulli_loss: 0.0367 - covertype_categorical1_loss: 1.9706 - covertype_categorical2_loss: 1.0488 - covertype_categorical3_loss: 0.1394 - covertype_categorical4_loss: 1.5944 - covertype_categorical5_loss: 2.1732 - covertype_categorical6_loss: 2.5929 - covertype_categorical7_loss: 0.8449 - covertype_categorical8_loss: 0.8249 - covertype_categorical9_loss: 1.1305 - covertype_categorical10_loss: 2.7898 - covertype_cls_categorical_accuracy: 0.9458 - val_loss: 10.2725 - val_covertype_cls_loss: 0.5411 - val_covertype_bernoulli_loss: 0.0517 - val_covertype_categorical1_loss: 3.2249 - val_covertype_categorical2_loss: 1.2083 - val_covertype_categorical3_loss: 0.1479 - val_covertype_categorical4_loss: 1.9999 - val_covertype_categorical5_loss: 2.5526 - val_covertype_categorical6_loss: 3.1364 - val_covertype_categorical7_loss: 0.9870 - val_covertype_categorical8_loss: 0.9120 - val_covertype_categorical9_loss: 1.3472 - val_covertype_categorical10_loss: 3.3577 - val_covertype_cls_categorical_accuracy: 0.8791\n",
      "Epoch 217/1000\n",
      "129/129 [==============================] - 29s 224ms/step - loss: 8.2375 - covertype_cls_loss: 0.4087 - covertype_bernoulli_loss: 0.0365 - covertype_categorical1_loss: 1.9658 - covertype_categorical2_loss: 1.0441 - covertype_categorical3_loss: 0.1525 - covertype_categorical4_loss: 1.5846 - covertype_categorical5_loss: 2.1602 - covertype_categorical6_loss: 2.5911 - covertype_categorical7_loss: 0.8545 - covertype_categorical8_loss: 0.8127 - covertype_categorical9_loss: 1.1294 - covertype_categorical10_loss: 2.7723 - covertype_cls_categorical_accuracy: 0.9449 - val_loss: 10.5854 - val_covertype_cls_loss: 0.5518 - val_covertype_bernoulli_loss: 0.0536 - val_covertype_categorical1_loss: 3.3285 - val_covertype_categorical2_loss: 1.2473 - val_covertype_categorical3_loss: 0.1698 - val_covertype_categorical4_loss: 2.0163 - val_covertype_categorical5_loss: 2.5777 - val_covertype_categorical6_loss: 3.2327 - val_covertype_categorical7_loss: 1.0438 - val_covertype_categorical8_loss: 0.9557 - val_covertype_categorical9_loss: 1.4303 - val_covertype_categorical10_loss: 3.4732 - val_covertype_cls_categorical_accuracy: 0.8732\n",
      "Epoch 218/1000\n",
      "129/129 [==============================] - 29s 221ms/step - loss: 8.2212 - covertype_cls_loss: 0.4068 - covertype_bernoulli_loss: 0.0371 - covertype_categorical1_loss: 1.9610 - covertype_categorical2_loss: 1.0499 - covertype_categorical3_loss: 0.1459 - covertype_categorical4_loss: 1.5821 - covertype_categorical5_loss: 2.1513 - covertype_categorical6_loss: 2.5841 - covertype_categorical7_loss: 0.8482 - covertype_categorical8_loss: 0.8098 - covertype_categorical9_loss: 1.1264 - covertype_categorical10_loss: 2.7785 - covertype_cls_categorical_accuracy: 0.9454 - val_loss: 10.1808 - val_covertype_cls_loss: 0.5448 - val_covertype_bernoulli_loss: 0.0506 - val_covertype_categorical1_loss: 3.1669 - val_covertype_categorical2_loss: 1.1926 - val_covertype_categorical3_loss: 0.1653 - val_covertype_categorical4_loss: 1.9838 - val_covertype_categorical5_loss: 2.5128 - val_covertype_categorical6_loss: 3.0904 - val_covertype_categorical7_loss: 0.9979 - val_covertype_categorical8_loss: 0.9013 - val_covertype_categorical9_loss: 1.3259 - val_covertype_categorical10_loss: 3.3457 - val_covertype_cls_categorical_accuracy: 0.8779\n",
      "Epoch 219/1000\n",
      "129/129 [==============================] - 29s 225ms/step - loss: 8.2604 - covertype_cls_loss: 0.4063 - covertype_bernoulli_loss: 0.0367 - covertype_categorical1_loss: 1.9681 - covertype_categorical2_loss: 1.0695 - covertype_categorical3_loss: 0.1467 - covertype_categorical4_loss: 1.5920 - covertype_categorical5_loss: 2.1694 - covertype_categorical6_loss: 2.5685 - covertype_categorical7_loss: 0.8616 - covertype_categorical8_loss: 0.8185 - covertype_categorical9_loss: 1.1451 - covertype_categorical10_loss: 2.7775 - covertype_cls_categorical_accuracy: 0.9459 - val_loss: 10.6081 - val_covertype_cls_loss: 0.5531 - val_covertype_bernoulli_loss: 0.0527 - val_covertype_categorical1_loss: 3.3222 - val_covertype_categorical2_loss: 1.2677 - val_covertype_categorical3_loss: 0.1797 - val_covertype_categorical4_loss: 2.0310 - val_covertype_categorical5_loss: 2.6502 - val_covertype_categorical6_loss: 3.2073 - val_covertype_categorical7_loss: 1.0275 - val_covertype_categorical8_loss: 1.0014 - val_covertype_categorical9_loss: 1.3823 - val_covertype_categorical10_loss: 3.4491 - val_covertype_cls_categorical_accuracy: 0.8747\n",
      "Epoch 220/1000\n",
      "129/129 [==============================] - 29s 222ms/step - loss: 8.2177 - covertype_cls_loss: 0.4081 - covertype_bernoulli_loss: 0.0376 - covertype_categorical1_loss: 1.9599 - covertype_categorical2_loss: 1.0472 - covertype_categorical3_loss: 0.1387 - covertype_categorical4_loss: 1.5896 - covertype_categorical5_loss: 2.1539 - covertype_categorical6_loss: 2.5800 - covertype_categorical7_loss: 0.8438 - covertype_categorical8_loss: 0.8176 - covertype_categorical9_loss: 1.1168 - covertype_categorical10_loss: 2.7793 - covertype_cls_categorical_accuracy: 0.9449 - val_loss: 10.2163 - val_covertype_cls_loss: 0.5450 - val_covertype_bernoulli_loss: 0.0515 - val_covertype_categorical1_loss: 3.1845 - val_covertype_categorical2_loss: 1.1969 - val_covertype_categorical3_loss: 0.1567 - val_covertype_categorical4_loss: 1.9980 - val_covertype_categorical5_loss: 2.5334 - val_covertype_categorical6_loss: 3.0995 - val_covertype_categorical7_loss: 0.9948 - val_covertype_categorical8_loss: 0.9138 - val_covertype_categorical9_loss: 1.3253 - val_covertype_categorical10_loss: 3.3500 - val_covertype_cls_categorical_accuracy: 0.8752\n",
      "Epoch 221/1000\n",
      "129/129 [==============================] - 29s 225ms/step - loss: 8.2141 - covertype_cls_loss: 0.4065 - covertype_bernoulli_loss: 0.0365 - covertype_categorical1_loss: 1.9638 - covertype_categorical2_loss: 1.0615 - covertype_categorical3_loss: 0.1387 - covertype_categorical4_loss: 1.5879 - covertype_categorical5_loss: 2.1491 - covertype_categorical6_loss: 2.5711 - covertype_categorical7_loss: 0.8450 - covertype_categorical8_loss: 0.8127 - covertype_categorical9_loss: 1.1279 - covertype_categorical10_loss: 2.7662 - covertype_cls_categorical_accuracy: 0.9457 - val_loss: 10.5723 - val_covertype_cls_loss: 0.5473 - val_covertype_bernoulli_loss: 0.0574 - val_covertype_categorical1_loss: 3.2535 - val_covertype_categorical2_loss: 1.2519 - val_covertype_categorical3_loss: 0.1871 - val_covertype_categorical4_loss: 2.0641 - val_covertype_categorical5_loss: 2.6062 - val_covertype_categorical6_loss: 3.2141 - val_covertype_categorical7_loss: 1.0816 - val_covertype_categorical8_loss: 0.9618 - val_covertype_categorical9_loss: 1.3667 - val_covertype_categorical10_loss: 3.4664 - val_covertype_cls_categorical_accuracy: 0.8756\n",
      "Epoch 222/1000\n",
      "129/129 [==============================] - 29s 228ms/step - loss: 8.2243 - covertype_cls_loss: 0.4056 - covertype_bernoulli_loss: 0.0367 - covertype_categorical1_loss: 1.9624 - covertype_categorical2_loss: 1.0395 - covertype_categorical3_loss: 0.1427 - covertype_categorical4_loss: 1.6109 - covertype_categorical5_loss: 2.1649 - covertype_categorical6_loss: 2.5783 - covertype_categorical7_loss: 0.8439 - covertype_categorical8_loss: 0.8094 - covertype_categorical9_loss: 1.1224 - covertype_categorical10_loss: 2.7710 - covertype_cls_categorical_accuracy: 0.9463 - val_loss: 10.1862 - val_covertype_cls_loss: 0.5392 - val_covertype_bernoulli_loss: 0.0499 - val_covertype_categorical1_loss: 3.1782 - val_covertype_categorical2_loss: 1.2054 - val_covertype_categorical3_loss: 0.1527 - val_covertype_categorical4_loss: 1.9841 - val_covertype_categorical5_loss: 2.5224 - val_covertype_categorical6_loss: 3.1043 - val_covertype_categorical7_loss: 0.9719 - val_covertype_categorical8_loss: 0.9013 - val_covertype_categorical9_loss: 1.3241 - val_covertype_categorical10_loss: 3.3607 - val_covertype_cls_categorical_accuracy: 0.8796\n",
      "Epoch 223/1000\n",
      "129/129 [==============================] - 29s 222ms/step - loss: 8.1674 - covertype_cls_loss: 0.4059 - covertype_bernoulli_loss: 0.0354 - covertype_categorical1_loss: 1.9478 - covertype_categorical2_loss: 1.0340 - covertype_categorical3_loss: 0.1369 - covertype_categorical4_loss: 1.5819 - covertype_categorical5_loss: 2.1409 - covertype_categorical6_loss: 2.5603 - covertype_categorical7_loss: 0.8266 - covertype_categorical8_loss: 0.8088 - covertype_categorical9_loss: 1.1122 - covertype_categorical10_loss: 2.7837 - covertype_cls_categorical_accuracy: 0.9457 - val_loss: 10.7241 - val_covertype_cls_loss: 0.5520 - val_covertype_bernoulli_loss: 0.0539 - val_covertype_categorical1_loss: 3.3443 - val_covertype_categorical2_loss: 1.2533 - val_covertype_categorical3_loss: 0.1679 - val_covertype_categorical4_loss: 2.0712 - val_covertype_categorical5_loss: 2.6414 - val_covertype_categorical6_loss: 3.2192 - val_covertype_categorical7_loss: 1.1000 - val_covertype_categorical8_loss: 0.9643 - val_covertype_categorical9_loss: 1.4249 - val_covertype_categorical10_loss: 3.5646 - val_covertype_cls_categorical_accuracy: 0.8750\n",
      "Epoch 224/1000\n"
     ]
    },
    {
     "name": "stdout",
     "output_type": "stream",
     "text": [
      "129/129 [==============================] - 29s 224ms/step - loss: 8.2696 - covertype_cls_loss: 0.4062 - covertype_bernoulli_loss: 0.0361 - covertype_categorical1_loss: 1.9661 - covertype_categorical2_loss: 1.0530 - covertype_categorical3_loss: 0.1400 - covertype_categorical4_loss: 1.6469 - covertype_categorical5_loss: 2.1725 - covertype_categorical6_loss: 2.5694 - covertype_categorical7_loss: 0.8557 - covertype_categorical8_loss: 0.8151 - covertype_categorical9_loss: 1.1295 - covertype_categorical10_loss: 2.7884 - covertype_cls_categorical_accuracy: 0.9460 - val_loss: 10.4132 - val_covertype_cls_loss: 0.5478 - val_covertype_bernoulli_loss: 0.0510 - val_covertype_categorical1_loss: 3.1859 - val_covertype_categorical2_loss: 1.2302 - val_covertype_categorical3_loss: 0.1860 - val_covertype_categorical4_loss: 2.0803 - val_covertype_categorical5_loss: 2.5946 - val_covertype_categorical6_loss: 3.1188 - val_covertype_categorical7_loss: 1.0256 - val_covertype_categorical8_loss: 0.9328 - val_covertype_categorical9_loss: 1.4028 - val_covertype_categorical10_loss: 3.3842 - val_covertype_cls_categorical_accuracy: 0.8764\n",
      "Epoch 225/1000\n",
      "129/129 [==============================] - 29s 225ms/step - loss: 8.2288 - covertype_cls_loss: 0.4054 - covertype_bernoulli_loss: 0.0367 - covertype_categorical1_loss: 1.9576 - covertype_categorical2_loss: 1.0463 - covertype_categorical3_loss: 0.1517 - covertype_categorical4_loss: 1.6292 - covertype_categorical5_loss: 2.1666 - covertype_categorical6_loss: 2.5502 - covertype_categorical7_loss: 0.8482 - covertype_categorical8_loss: 0.8169 - covertype_categorical9_loss: 1.1327 - covertype_categorical10_loss: 2.7562 - covertype_cls_categorical_accuracy: 0.9461 - val_loss: 10.5591 - val_covertype_cls_loss: 0.5440 - val_covertype_bernoulli_loss: 0.0569 - val_covertype_categorical1_loss: 3.3269 - val_covertype_categorical2_loss: 1.2596 - val_covertype_categorical3_loss: 0.1646 - val_covertype_categorical4_loss: 2.0510 - val_covertype_categorical5_loss: 2.5869 - val_covertype_categorical6_loss: 3.2009 - val_covertype_categorical7_loss: 1.0513 - val_covertype_categorical8_loss: 0.9696 - val_covertype_categorical9_loss: 1.4113 - val_covertype_categorical10_loss: 3.4123 - val_covertype_cls_categorical_accuracy: 0.8767\n",
      "Epoch 226/1000\n",
      "129/129 [==============================] - 29s 221ms/step - loss: 8.1605 - covertype_cls_loss: 0.4042 - covertype_bernoulli_loss: 0.0366 - covertype_categorical1_loss: 1.9513 - covertype_categorical2_loss: 1.0466 - covertype_categorical3_loss: 0.1331 - covertype_categorical4_loss: 1.5712 - covertype_categorical5_loss: 2.1310 - covertype_categorical6_loss: 2.5696 - covertype_categorical7_loss: 0.8319 - covertype_categorical8_loss: 0.8038 - covertype_categorical9_loss: 1.1240 - covertype_categorical10_loss: 2.7588 - covertype_cls_categorical_accuracy: 0.9471 - val_loss: 10.1480 - val_covertype_cls_loss: 0.5342 - val_covertype_bernoulli_loss: 0.0496 - val_covertype_categorical1_loss: 3.1638 - val_covertype_categorical2_loss: 1.1854 - val_covertype_categorical3_loss: 0.1478 - val_covertype_categorical4_loss: 1.9789 - val_covertype_categorical5_loss: 2.5089 - val_covertype_categorical6_loss: 3.1071 - val_covertype_categorical7_loss: 0.9709 - val_covertype_categorical8_loss: 0.9013 - val_covertype_categorical9_loss: 1.3234 - val_covertype_categorical10_loss: 3.3510 - val_covertype_cls_categorical_accuracy: 0.8831\n",
      "Epoch 227/1000\n",
      "129/129 [==============================] - 29s 222ms/step - loss: 8.1391 - covertype_cls_loss: 0.4074 - covertype_bernoulli_loss: 0.0346 - covertype_categorical1_loss: 1.9477 - covertype_categorical2_loss: 1.0319 - covertype_categorical3_loss: 0.1302 - covertype_categorical4_loss: 1.5704 - covertype_categorical5_loss: 2.1364 - covertype_categorical6_loss: 2.5710 - covertype_categorical7_loss: 0.8288 - covertype_categorical8_loss: 0.7942 - covertype_categorical9_loss: 1.1163 - covertype_categorical10_loss: 2.7466 - covertype_cls_categorical_accuracy: 0.9452 - val_loss: 10.6186 - val_covertype_cls_loss: 0.5630 - val_covertype_bernoulli_loss: 0.0532 - val_covertype_categorical1_loss: 3.3202 - val_covertype_categorical2_loss: 1.2702 - val_covertype_categorical3_loss: 0.1785 - val_covertype_categorical4_loss: 2.0672 - val_covertype_categorical5_loss: 2.6264 - val_covertype_categorical6_loss: 3.2245 - val_covertype_categorical7_loss: 1.0111 - val_covertype_categorical8_loss: 0.9634 - val_covertype_categorical9_loss: 1.3942 - val_covertype_categorical10_loss: 3.4630 - val_covertype_cls_categorical_accuracy: 0.8726\n",
      "Epoch 228/1000\n",
      "129/129 [==============================] - 29s 226ms/step - loss: 8.1589 - covertype_cls_loss: 0.4061 - covertype_bernoulli_loss: 0.0365 - covertype_categorical1_loss: 1.9425 - covertype_categorical2_loss: 1.0445 - covertype_categorical3_loss: 0.1405 - covertype_categorical4_loss: 1.5650 - covertype_categorical5_loss: 2.1454 - covertype_categorical6_loss: 2.5587 - covertype_categorical7_loss: 0.8397 - covertype_categorical8_loss: 0.8099 - covertype_categorical9_loss: 1.1188 - covertype_categorical10_loss: 2.7493 - covertype_cls_categorical_accuracy: 0.9458 - val_loss: 10.1815 - val_covertype_cls_loss: 0.5329 - val_covertype_bernoulli_loss: 0.0528 - val_covertype_categorical1_loss: 3.1534 - val_covertype_categorical2_loss: 1.1921 - val_covertype_categorical3_loss: 0.1583 - val_covertype_categorical4_loss: 1.9827 - val_covertype_categorical5_loss: 2.4980 - val_covertype_categorical6_loss: 3.1147 - val_covertype_categorical7_loss: 0.9800 - val_covertype_categorical8_loss: 0.9295 - val_covertype_categorical9_loss: 1.3470 - val_covertype_categorical10_loss: 3.3495 - val_covertype_cls_categorical_accuracy: 0.8841\n",
      "Epoch 229/1000\n",
      "129/129 [==============================] - 29s 224ms/step - loss: 8.1349 - covertype_cls_loss: 0.4017 - covertype_bernoulli_loss: 0.0362 - covertype_categorical1_loss: 1.9445 - covertype_categorical2_loss: 1.0353 - covertype_categorical3_loss: 0.1343 - covertype_categorical4_loss: 1.5718 - covertype_categorical5_loss: 2.1355 - covertype_categorical6_loss: 2.5481 - covertype_categorical7_loss: 0.8246 - covertype_categorical8_loss: 0.8141 - covertype_categorical9_loss: 1.1146 - covertype_categorical10_loss: 2.7524 - covertype_cls_categorical_accuracy: 0.9484 - val_loss: 10.5378 - val_covertype_cls_loss: 0.5432 - val_covertype_bernoulli_loss: 0.0614 - val_covertype_categorical1_loss: 3.2842 - val_covertype_categorical2_loss: 1.2614 - val_covertype_categorical3_loss: 0.1668 - val_covertype_categorical4_loss: 2.0560 - val_covertype_categorical5_loss: 2.6103 - val_covertype_categorical6_loss: 3.2311 - val_covertype_categorical7_loss: 1.0116 - val_covertype_categorical8_loss: 0.9206 - val_covertype_categorical9_loss: 1.3822 - val_covertype_categorical10_loss: 3.4639 - val_covertype_cls_categorical_accuracy: 0.8785\n",
      "Epoch 230/1000\n",
      "129/129 [==============================] - 29s 225ms/step - loss: 8.2013 - covertype_cls_loss: 0.4033 - covertype_bernoulli_loss: 0.0368 - covertype_categorical1_loss: 1.9452 - covertype_categorical2_loss: 1.0630 - covertype_categorical3_loss: 0.1576 - covertype_categorical4_loss: 1.5777 - covertype_categorical5_loss: 2.1379 - covertype_categorical6_loss: 2.5631 - covertype_categorical7_loss: 0.8547 - covertype_categorical8_loss: 0.8093 - covertype_categorical9_loss: 1.1339 - covertype_categorical10_loss: 2.7617 - covertype_cls_categorical_accuracy: 0.9471 - val_loss: 10.1788 - val_covertype_cls_loss: 0.5356 - val_covertype_bernoulli_loss: 0.0481 - val_covertype_categorical1_loss: 3.1710 - val_covertype_categorical2_loss: 1.2139 - val_covertype_categorical3_loss: 0.1518 - val_covertype_categorical4_loss: 1.9661 - val_covertype_categorical5_loss: 2.5014 - val_covertype_categorical6_loss: 3.1079 - val_covertype_categorical7_loss: 0.9751 - val_covertype_categorical8_loss: 0.9237 - val_covertype_categorical9_loss: 1.3406 - val_covertype_categorical10_loss: 3.3478 - val_covertype_cls_categorical_accuracy: 0.88050.0365 - covertype_categorical1_loss: 1.9451 - covertype_categorical2_loss: 1.0688 - covertype_categorical3_loss: 0.1628 - covertype_categorical4_loss: 1.5693 - covertype_categorical5_loss: 2.1386 - covertype_categorical6_loss: 2.5611 - covertype_categorical7_loss: 0.8631 - covertype_categorical8_loss: 0.8071 - covertype_categorical9_loss: 1.1322 - covertype_categorical10_loss: 2.7631 - covertype_cls_\n",
      "Epoch 231/1000\n",
      "129/129 [==============================] - 29s 223ms/step - loss: 8.1451 - covertype_cls_loss: 0.4049 - covertype_bernoulli_loss: 0.0354 - covertype_categorical1_loss: 1.9417 - covertype_categorical2_loss: 1.0331 - covertype_categorical3_loss: 0.1445 - covertype_categorical4_loss: 1.5893 - covertype_categorical5_loss: 2.1339 - covertype_categorical6_loss: 2.5516 - covertype_categorical7_loss: 0.8233 - covertype_categorical8_loss: 0.8078 - covertype_categorical9_loss: 1.1078 - covertype_categorical10_loss: 2.7565 - covertype_cls_categorical_accuracy: 0.9459 - val_loss: 10.5836 - val_covertype_cls_loss: 0.5449 - val_covertype_bernoulli_loss: 0.0527 - val_covertype_categorical1_loss: 3.3207 - val_covertype_categorical2_loss: 1.2440 - val_covertype_categorical3_loss: 0.1717 - val_covertype_categorical4_loss: 2.1003 - val_covertype_categorical5_loss: 2.5757 - val_covertype_categorical6_loss: 3.1670 - val_covertype_categorical7_loss: 1.0456 - val_covertype_categorical8_loss: 0.9891 - val_covertype_categorical9_loss: 1.4319 - val_covertype_categorical10_loss: 3.4405 - val_covertype_cls_categorical_accuracy: 0.8755\n",
      "Epoch 232/1000\n",
      "129/129 [==============================] - 29s 221ms/step - loss: 8.1249 - covertype_cls_loss: 0.4029 - covertype_bernoulli_loss: 0.0361 - covertype_categorical1_loss: 1.9433 - covertype_categorical2_loss: 1.0272 - covertype_categorical3_loss: 0.1421 - covertype_categorical4_loss: 1.5725 - covertype_categorical5_loss: 2.1386 - covertype_categorical6_loss: 2.5406 - covertype_categorical7_loss: 0.8290 - covertype_categorical8_loss: 0.8040 - covertype_categorical9_loss: 1.1124 - covertype_categorical10_loss: 2.7428 - covertype_cls_categorical_accuracy: 0.9472 - val_loss: 10.1174 - val_covertype_cls_loss: 0.5376 - val_covertype_bernoulli_loss: 0.0509 - val_covertype_categorical1_loss: 3.1710 - val_covertype_categorical2_loss: 1.1923 - val_covertype_categorical3_loss: 0.1514 - val_covertype_categorical4_loss: 1.9600 - val_covertype_categorical5_loss: 2.4986 - val_covertype_categorical6_loss: 3.0847 - val_covertype_categorical7_loss: 0.9535 - val_covertype_categorical8_loss: 0.9051 - val_covertype_categorical9_loss: 1.3288 - val_covertype_categorical10_loss: 3.3248 - val_covertype_cls_categorical_accuracy: 0.8810\n",
      "Epoch 233/1000\n",
      "129/129 [==============================] - 29s 224ms/step - loss: 8.1406 - covertype_cls_loss: 0.4031 - covertype_bernoulli_loss: 0.0359 - covertype_categorical1_loss: 1.9408 - covertype_categorical2_loss: 1.0390 - covertype_categorical3_loss: 0.1418 - covertype_categorical4_loss: 1.5730 - covertype_categorical5_loss: 2.1157 - covertype_categorical6_loss: 2.5410 - covertype_categorical7_loss: 0.8485 - covertype_categorical8_loss: 0.8041 - covertype_categorical9_loss: 1.1172 - covertype_categorical10_loss: 2.7624 - covertype_cls_categorical_accuracy: 0.9471 - val_loss: 10.4930 - val_covertype_cls_loss: 0.5463 - val_covertype_bernoulli_loss: 0.0549 - val_covertype_categorical1_loss: 3.2783 - val_covertype_categorical2_loss: 1.2564 - val_covertype_categorical3_loss: 0.1757 - val_covertype_categorical4_loss: 2.0395 - val_covertype_categorical5_loss: 2.5790 - val_covertype_categorical6_loss: 3.1911 - val_covertype_categorical7_loss: 1.0439 - val_covertype_categorical8_loss: 0.9336 - val_covertype_categorical9_loss: 1.3950 - val_covertype_categorical10_loss: 3.4070 - val_covertype_cls_categorical_accuracy: 0.8751\n",
      "Epoch 234/1000\n",
      "129/129 [==============================] - 29s 227ms/step - loss: 8.0928 - covertype_cls_loss: 0.4031 - covertype_bernoulli_loss: 0.0357 - covertype_categorical1_loss: 1.9410 - covertype_categorical2_loss: 1.0106 - covertype_categorical3_loss: 0.1302 - covertype_categorical4_loss: 1.5702 - covertype_categorical5_loss: 2.1413 - covertype_categorical6_loss: 2.5462 - covertype_categorical7_loss: 0.8138 - covertype_categorical8_loss: 0.7939 - covertype_categorical9_loss: 1.1010 - covertype_categorical10_loss: 2.7403 - covertype_cls_categorical_accuracy: 0.9469 - val_loss: 10.1105 - val_covertype_cls_loss: 0.5495 - val_covertype_bernoulli_loss: 0.0496 - val_covertype_categorical1_loss: 3.1592 - val_covertype_categorical2_loss: 1.1895 - val_covertype_categorical3_loss: 0.1429 - val_covertype_categorical4_loss: 1.9549 - val_covertype_categorical5_loss: 2.5014 - val_covertype_categorical6_loss: 3.0818 - val_covertype_categorical7_loss: 0.9610 - val_covertype_categorical8_loss: 0.9017 - val_covertype_categorical9_loss: 1.3083 - val_covertype_categorical10_loss: 3.3324 - val_covertype_cls_categorical_accuracy: 0.8772\n",
      "Epoch 235/1000\n",
      "129/129 [==============================] - 30s 229ms/step - loss: 8.0846 - covertype_cls_loss: 0.4041 - covertype_bernoulli_loss: 0.0346 - covertype_categorical1_loss: 1.9326 - covertype_categorical2_loss: 1.0296 - covertype_categorical3_loss: 0.1252 - covertype_categorical4_loss: 1.5603 - covertype_categorical5_loss: 2.1188 - covertype_categorical6_loss: 2.5346 - covertype_categorical7_loss: 0.8175 - covertype_categorical8_loss: 0.7915 - covertype_categorical9_loss: 1.1077 - covertype_categorical10_loss: 2.7532 - covertype_cls_categorical_accuracy: 0.9467 - val_loss: 10.5834 - val_covertype_cls_loss: 0.5640 - val_covertype_bernoulli_loss: 0.0580 - val_covertype_categorical1_loss: 3.2688 - val_covertype_categorical2_loss: 1.2667 - val_covertype_categorical3_loss: 0.1692 - val_covertype_categorical4_loss: 2.0560 - val_covertype_categorical5_loss: 2.5731 - val_covertype_categorical6_loss: 3.2294 - val_covertype_categorical7_loss: 1.0222 - val_covertype_categorical8_loss: 0.9658 - val_covertype_categorical9_loss: 1.4043 - val_covertype_categorical10_loss: 3.4855 - val_covertype_cls_categorical_accuracy: 0.8663\n",
      "Epoch 236/1000\n",
      "129/129 [==============================] - 29s 226ms/step - loss: 8.1263 - covertype_cls_loss: 0.4017 - covertype_bernoulli_loss: 0.0351 - covertype_categorical1_loss: 1.9469 - covertype_categorical2_loss: 1.0321 - covertype_categorical3_loss: 0.1415 - covertype_categorical4_loss: 1.5854 - covertype_categorical5_loss: 2.1196 - covertype_categorical6_loss: 2.5412 - covertype_categorical7_loss: 0.8282 - covertype_categorical8_loss: 0.8026 - covertype_categorical9_loss: 1.1109 - covertype_categorical10_loss: 2.7502 - covertype_cls_categorical_accuracy: 0.9475 - val_loss: 10.1438 - val_covertype_cls_loss: 0.5432 - val_covertype_bernoulli_loss: 0.0474 - val_covertype_categorical1_loss: 3.1533 - val_covertype_categorical2_loss: 1.2161 - val_covertype_categorical3_loss: 0.1513 - val_covertype_categorical4_loss: 1.9745 - val_covertype_categorical5_loss: 2.4768 - val_covertype_categorical6_loss: 3.1043 - val_covertype_categorical7_loss: 0.9846 - val_covertype_categorical8_loss: 0.8916 - val_covertype_categorical9_loss: 1.3331 - val_covertype_categorical10_loss: 3.3290 - val_covertype_cls_categorical_accuracy: 0.8773\n"
     ]
    },
    {
     "name": "stdout",
     "output_type": "stream",
     "text": [
      "Epoch 237/1000\n",
      "129/129 [==============================] - 29s 226ms/step - loss: 8.1115 - covertype_cls_loss: 0.4016 - covertype_bernoulli_loss: 0.0349 - covertype_categorical1_loss: 1.9337 - covertype_categorical2_loss: 1.0398 - covertype_categorical3_loss: 0.1364 - covertype_categorical4_loss: 1.5770 - covertype_categorical5_loss: 2.1331 - covertype_categorical6_loss: 2.5262 - covertype_categorical7_loss: 0.8378 - covertype_categorical8_loss: 0.7949 - covertype_categorical9_loss: 1.1242 - covertype_categorical10_loss: 2.7270 - covertype_cls_categorical_accuracy: 0.9477 - val_loss: 10.4254 - val_covertype_cls_loss: 0.5364 - val_covertype_bernoulli_loss: 0.0557 - val_covertype_categorical1_loss: 3.2374 - val_covertype_categorical2_loss: 1.2750 - val_covertype_categorical3_loss: 0.1699 - val_covertype_categorical4_loss: 1.9875 - val_covertype_categorical5_loss: 2.6026 - val_covertype_categorical6_loss: 3.1639 - val_covertype_categorical7_loss: 0.9915 - val_covertype_categorical8_loss: 0.9328 - val_covertype_categorical9_loss: 1.4033 - val_covertype_categorical10_loss: 3.4204 - val_covertype_cls_categorical_accuracy: 0.8830overtype_bernoulli_loss: 0.0350 - covertype_categorical1_loss: 1.9334 - covertype_categorical2_loss: 1.0421 - covertype_categorical3_loss: 0.1374 - covertype_categorical4_loss: 1.5779 - covertype_categorical5_loss: 2.1346 - covertype_categorical6_loss: 2.5275 - covertype_categorical7_loss: 0.8394 - covertype_categorical8_loss: 0.7970 - covertype_categorical9_loss: 1.1251 - covertype_categorical10_loss: 2.7259 - covertype_cls_categorical_accurac\n",
      "Epoch 238/1000\n",
      "129/129 [==============================] - 29s 227ms/step - loss: 8.0562 - covertype_cls_loss: 0.3989 - covertype_bernoulli_loss: 0.0352 - covertype_categorical1_loss: 1.9345 - covertype_categorical2_loss: 1.0234 - covertype_categorical3_loss: 0.1349 - covertype_categorical4_loss: 1.5515 - covertype_categorical5_loss: 2.1145 - covertype_categorical6_loss: 2.5314 - covertype_categorical7_loss: 0.8188 - covertype_categorical8_loss: 0.7807 - covertype_categorical9_loss: 1.1064 - covertype_categorical10_loss: 2.7280 - covertype_cls_categorical_accuracy: 0.9494 - val_loss: 10.0906 - val_covertype_cls_loss: 0.5358 - val_covertype_bernoulli_loss: 0.0506 - val_covertype_categorical1_loss: 3.1671 - val_covertype_categorical2_loss: 1.1813 - val_covertype_categorical3_loss: 0.1518 - val_covertype_categorical4_loss: 1.9564 - val_covertype_categorical5_loss: 2.4865 - val_covertype_categorical6_loss: 3.0895 - val_covertype_categorical7_loss: 0.9554 - val_covertype_categorical8_loss: 0.8831 - val_covertype_categorical9_loss: 1.3161 - val_covertype_categorical10_loss: 3.3323 - val_covertype_cls_categorical_accuracy: 0.8816\n",
      "Epoch 239/1000\n",
      "129/129 [==============================] - 28s 220ms/step - loss: 8.1053 - covertype_cls_loss: 0.4047 - covertype_bernoulli_loss: 0.0347 - covertype_categorical1_loss: 1.9332 - covertype_categorical2_loss: 1.0339 - covertype_categorical3_loss: 0.1477 - covertype_categorical4_loss: 1.5644 - covertype_categorical5_loss: 2.1131 - covertype_categorical6_loss: 2.5292 - covertype_categorical7_loss: 0.8381 - covertype_categorical8_loss: 0.7975 - covertype_categorical9_loss: 1.1155 - covertype_categorical10_loss: 2.7382 - covertype_cls_categorical_accuracy: 0.9461 - val_loss: 10.6458 - val_covertype_cls_loss: 0.5544 - val_covertype_bernoulli_loss: 0.0552 - val_covertype_categorical1_loss: 3.2891 - val_covertype_categorical2_loss: 1.2445 - val_covertype_categorical3_loss: 0.2607 - val_covertype_categorical4_loss: 2.0345 - val_covertype_categorical5_loss: 2.6054 - val_covertype_categorical6_loss: 3.1967 - val_covertype_categorical7_loss: 1.1258 - val_covertype_categorical8_loss: 0.9452 - val_covertype_categorical9_loss: 1.4278 - val_covertype_categorical10_loss: 3.4575 - val_covertype_cls_categorical_accuracy: 0.8714\n",
      "Epoch 240/1000\n",
      "129/129 [==============================] - 29s 227ms/step - loss: 8.0721 - covertype_cls_loss: 0.4010 - covertype_bernoulli_loss: 0.0351 - covertype_categorical1_loss: 1.9331 - covertype_categorical2_loss: 1.0193 - covertype_categorical3_loss: 0.1304 - covertype_categorical4_loss: 1.5662 - covertype_categorical5_loss: 2.1267 - covertype_categorical6_loss: 2.5380 - covertype_categorical7_loss: 0.8245 - covertype_categorical8_loss: 0.7879 - covertype_categorical9_loss: 1.0991 - covertype_categorical10_loss: 2.7268 - covertype_cls_categorical_accuracy: 0.9480 - val_loss: 10.0484 - val_covertype_cls_loss: 0.5349 - val_covertype_bernoulli_loss: 0.0511 - val_covertype_categorical1_loss: 3.1396 - val_covertype_categorical2_loss: 1.1880 - val_covertype_categorical3_loss: 0.1443 - val_covertype_categorical4_loss: 1.9461 - val_covertype_categorical5_loss: 2.4647 - val_covertype_categorical6_loss: 3.0575 - val_covertype_categorical7_loss: 0.9559 - val_covertype_categorical8_loss: 0.8991 - val_covertype_categorical9_loss: 1.3183 - val_covertype_categorical10_loss: 3.3233 - val_covertype_cls_categorical_accuracy: 0.8826\n",
      "Epoch 241/1000\n",
      "129/129 [==============================] - 29s 228ms/step - loss: 8.0356 - covertype_cls_loss: 0.4002 - covertype_bernoulli_loss: 0.0350 - covertype_categorical1_loss: 1.9221 - covertype_categorical2_loss: 1.0277 - covertype_categorical3_loss: 0.1277 - covertype_categorical4_loss: 1.5469 - covertype_categorical5_loss: 2.1058 - covertype_categorical6_loss: 2.5231 - covertype_categorical7_loss: 0.8226 - covertype_categorical8_loss: 0.7883 - covertype_categorical9_loss: 1.1004 - covertype_categorical10_loss: 2.7151 - covertype_cls_categorical_accuracy: 0.9483 - val_loss: 10.4762 - val_covertype_cls_loss: 0.5544 - val_covertype_bernoulli_loss: 0.0546 - val_covertype_categorical1_loss: 3.2490 - val_covertype_categorical2_loss: 1.2668 - val_covertype_categorical3_loss: 0.1789 - val_covertype_categorical4_loss: 2.0472 - val_covertype_categorical5_loss: 2.5460 - val_covertype_categorical6_loss: 3.1873 - val_covertype_categorical7_loss: 1.0164 - val_covertype_categorical8_loss: 0.9647 - val_covertype_categorical9_loss: 1.3563 - val_covertype_categorical10_loss: 3.4360 - val_covertype_cls_categorical_accuracy: 0.8690\n",
      "Epoch 242/1000\n",
      "129/129 [==============================] - 29s 223ms/step - loss: 8.0931 - covertype_cls_loss: 0.4045 - covertype_bernoulli_loss: 0.0379 - covertype_categorical1_loss: 1.9346 - covertype_categorical2_loss: 1.0226 - covertype_categorical3_loss: 0.1335 - covertype_categorical4_loss: 1.5722 - covertype_categorical5_loss: 2.1197 - covertype_categorical6_loss: 2.5322 - covertype_categorical7_loss: 0.8217 - covertype_categorical8_loss: 0.7946 - covertype_categorical9_loss: 1.1082 - covertype_categorical10_loss: 2.7441 - covertype_cls_categorical_accuracy: 0.9465 - val_loss: 10.1279 - val_covertype_cls_loss: 0.5402 - val_covertype_bernoulli_loss: 0.0499 - val_covertype_categorical1_loss: 3.1486 - val_covertype_categorical2_loss: 1.2129 - val_covertype_categorical3_loss: 0.1503 - val_covertype_categorical4_loss: 1.9525 - val_covertype_categorical5_loss: 2.4900 - val_covertype_categorical6_loss: 3.0725 - val_covertype_categorical7_loss: 0.9803 - val_covertype_categorical8_loss: 0.9028 - val_covertype_categorical9_loss: 1.3422 - val_covertype_categorical10_loss: 3.3346 - val_covertype_cls_categorical_accuracy: 0.8802\n",
      "Epoch 243/1000\n",
      "129/129 [==============================] - 29s 223ms/step - loss: 8.0516 - covertype_cls_loss: 0.3993 - covertype_bernoulli_loss: 0.0347 - covertype_categorical1_loss: 1.9184 - covertype_categorical2_loss: 1.0326 - covertype_categorical3_loss: 0.1283 - covertype_categorical4_loss: 1.5500 - covertype_categorical5_loss: 2.1043 - covertype_categorical6_loss: 2.5186 - covertype_categorical7_loss: 0.8295 - covertype_categorical8_loss: 0.7965 - covertype_categorical9_loss: 1.1141 - covertype_categorical10_loss: 2.7220 - covertype_cls_categorical_accuracy: 0.9487 - val_loss: 10.4140 - val_covertype_cls_loss: 0.5392 - val_covertype_bernoulli_loss: 0.0536 - val_covertype_categorical1_loss: 3.2606 - val_covertype_categorical2_loss: 1.2572 - val_covertype_categorical3_loss: 0.1645 - val_covertype_categorical4_loss: 2.0260 - val_covertype_categorical5_loss: 2.5422 - val_covertype_categorical6_loss: 3.1632 - val_covertype_categorical7_loss: 1.0386 - val_covertype_categorical8_loss: 0.9178 - val_covertype_categorical9_loss: 1.3717 - val_covertype_categorical10_loss: 3.4145 - val_covertype_cls_categorical_accuracy: 0.8793bernoulli_loss: 0.0345 - covertype_categorical1_loss: 1.9174 - covertype_categorical2_loss: 1.0654 - covertype_categorical3_loss: 0.1344 - covertype_categorical4_loss: 1.5579 - covertype_categorical5_loss: 2.1121 - covertype_categorical6_loss: 2.5135 - covertype_categorical7_loss: 0.8497 - covertype_categorical8_loss: 0.8052 - covertype_categorical9_loss: 1.1364 -\n",
      "Epoch 244/1000\n",
      "129/129 [==============================] - 29s 225ms/step - loss: 8.0269 - covertype_cls_loss: 0.3984 - covertype_bernoulli_loss: 0.0354 - covertype_categorical1_loss: 1.9184 - covertype_categorical2_loss: 1.0085 - covertype_categorical3_loss: 0.1357 - covertype_categorical4_loss: 1.5447 - covertype_categorical5_loss: 2.1151 - covertype_categorical6_loss: 2.5232 - covertype_categorical7_loss: 0.8116 - covertype_categorical8_loss: 0.7891 - covertype_categorical9_loss: 1.1027 - covertype_categorical10_loss: 2.7172 - covertype_cls_categorical_accuracy: 0.9491 - val_loss: 10.0766 - val_covertype_cls_loss: 0.5351 - val_covertype_bernoulli_loss: 0.0472 - val_covertype_categorical1_loss: 3.1497 - val_covertype_categorical2_loss: 1.1770 - val_covertype_categorical3_loss: 0.1482 - val_covertype_categorical4_loss: 1.9570 - val_covertype_categorical5_loss: 2.4731 - val_covertype_categorical6_loss: 3.0855 - val_covertype_categorical7_loss: 0.9624 - val_covertype_categorical8_loss: 0.9017 - val_covertype_categorical9_loss: 1.3127 - val_covertype_categorical10_loss: 3.3275 - val_covertype_cls_categorical_accuracy: 0.8811\n",
      "Epoch 245/1000\n",
      "129/129 [==============================] - 29s 222ms/step - loss: 8.2024 - covertype_cls_loss: 0.4080 - covertype_bernoulli_loss: 0.0362 - covertype_categorical1_loss: 1.9408 - covertype_categorical2_loss: 1.0330 - covertype_categorical3_loss: 0.1520 - covertype_categorical4_loss: 1.6523 - covertype_categorical5_loss: 2.1730 - covertype_categorical6_loss: 2.5270 - covertype_categorical7_loss: 0.8421 - covertype_categorical8_loss: 0.8158 - covertype_categorical9_loss: 1.1277 - covertype_categorical10_loss: 2.7337 - covertype_cls_categorical_accuracy: 0.9445 - val_loss: 10.3949 - val_covertype_cls_loss: 0.5575 - val_covertype_bernoulli_loss: 0.0542 - val_covertype_categorical1_loss: 3.2518 - val_covertype_categorical2_loss: 1.2515 - val_covertype_categorical3_loss: 0.1628 - val_covertype_categorical4_loss: 2.0040 - val_covertype_categorical5_loss: 2.5225 - val_covertype_categorical6_loss: 3.1562 - val_covertype_categorical7_loss: 1.0396 - val_covertype_categorical8_loss: 0.9338 - val_covertype_categorical9_loss: 1.3608 - val_covertype_categorical10_loss: 3.3985 - val_covertype_cls_categorical_accuracy: 0.8678\n",
      "Epoch 246/1000\n",
      "129/129 [==============================] - 29s 223ms/step - loss: 7.9670 - covertype_cls_loss: 0.3978 - covertype_bernoulli_loss: 0.0353 - covertype_categorical1_loss: 1.9169 - covertype_categorical2_loss: 0.9925 - covertype_categorical3_loss: 0.1222 - covertype_categorical4_loss: 1.5485 - covertype_categorical5_loss: 2.1004 - covertype_categorical6_loss: 2.5046 - covertype_categorical7_loss: 0.7901 - covertype_categorical8_loss: 0.7807 - covertype_categorical9_loss: 1.0773 - covertype_categorical10_loss: 2.7142 - covertype_cls_categorical_accuracy: 0.9498 - val_loss: 10.0259 - val_covertype_cls_loss: 0.5317 - val_covertype_bernoulli_loss: 0.0473 - val_covertype_categorical1_loss: 3.1286 - val_covertype_categorical2_loss: 1.1785 - val_covertype_categorical3_loss: 0.1404 - val_covertype_categorical4_loss: 1.9402 - val_covertype_categorical5_loss: 2.4632 - val_covertype_categorical6_loss: 3.0610 - val_covertype_categorical7_loss: 0.9542 - val_covertype_categorical8_loss: 0.8806 - val_covertype_categorical9_loss: 1.3109 - val_covertype_categorical10_loss: 3.3449 - val_covertype_cls_categorical_accuracy: 0.8847\n",
      "Epoch 247/1000\n",
      "129/129 [==============================] - 29s 224ms/step - loss: 8.0060 - covertype_cls_loss: 0.4013 - covertype_bernoulli_loss: 0.0340 - covertype_categorical1_loss: 1.9110 - covertype_categorical2_loss: 1.0154 - covertype_categorical3_loss: 0.1301 - covertype_categorical4_loss: 1.5404 - covertype_categorical5_loss: 2.0971 - covertype_categorical6_loss: 2.5119 - covertype_categorical7_loss: 0.8144 - covertype_categorical8_loss: 0.7844 - covertype_categorical9_loss: 1.0977 - covertype_categorical10_loss: 2.7168 - covertype_cls_categorical_accuracy: 0.9474 - val_loss: 10.4993 - val_covertype_cls_loss: 0.5405 - val_covertype_bernoulli_loss: 0.0517 - val_covertype_categorical1_loss: 3.2850 - val_covertype_categorical2_loss: 1.2825 - val_covertype_categorical3_loss: 0.1706 - val_covertype_categorical4_loss: 2.0385 - val_covertype_categorical5_loss: 2.5706 - val_covertype_categorical6_loss: 3.1478 - val_covertype_categorical7_loss: 1.0201 - val_covertype_categorical8_loss: 0.9752 - val_covertype_categorical9_loss: 1.3893 - val_covertype_categorical10_loss: 3.4455 - val_covertype_cls_categorical_accuracy: 0.8809\n",
      "Epoch 248/1000\n",
      "129/129 [==============================] - 28s 221ms/step - loss: 7.9781 - covertype_cls_loss: 0.3984 - covertype_bernoulli_loss: 0.0342 - covertype_categorical1_loss: 1.9190 - covertype_categorical2_loss: 1.0047 - covertype_categorical3_loss: 0.1255 - covertype_categorical4_loss: 1.5412 - covertype_categorical5_loss: 2.0981 - covertype_categorical6_loss: 2.4988 - covertype_categorical7_loss: 0.7978 - covertype_categorical8_loss: 0.7764 - covertype_categorical9_loss: 1.0931 - covertype_categorical10_loss: 2.7144 - covertype_cls_categorical_accuracy: 0.9488 - val_loss: 10.0289 - val_covertype_cls_loss: 0.5298 - val_covertype_bernoulli_loss: 0.0487 - val_covertype_categorical1_loss: 3.1198 - val_covertype_categorical2_loss: 1.1915 - val_covertype_categorical3_loss: 0.1408 - val_covertype_categorical4_loss: 1.9466 - val_covertype_categorical5_loss: 2.4657 - val_covertype_categorical6_loss: 3.0588 - val_covertype_categorical7_loss: 0.9497 - val_covertype_categorical8_loss: 0.8937 - val_covertype_categorical9_loss: 1.3094 - val_covertype_categorical10_loss: 3.3328 - val_covertype_cls_categorical_accuracy: 0.8841\n",
      "Epoch 249/1000\n",
      "129/129 [==============================] - 29s 224ms/step - loss: 8.0086 - covertype_cls_loss: 0.3997 - covertype_bernoulli_loss: 0.0354 - covertype_categorical1_loss: 1.9148 - covertype_categorical2_loss: 1.0095 - covertype_categorical3_loss: 0.1334 - covertype_categorical4_loss: 1.5493 - covertype_categorical5_loss: 2.1040 - covertype_categorical6_loss: 2.5085 - covertype_categorical7_loss: 0.8087 - covertype_categorical8_loss: 0.7854 - covertype_categorical9_loss: 1.0947 - covertype_categorical10_loss: 2.7183 - covertype_cls_categorical_accuracy: 0.9484 - val_loss: 10.6412 - val_covertype_cls_loss: 0.5390 - val_covertype_bernoulli_loss: 0.0524 - val_covertype_categorical1_loss: 3.3227 - val_covertype_categorical2_loss: 1.2362 - val_covertype_categorical3_loss: 0.3103 - val_covertype_categorical4_loss: 2.0616 - val_covertype_categorical5_loss: 2.5995 - val_covertype_categorical6_loss: 3.2023 - val_covertype_categorical7_loss: 1.0749 - val_covertype_categorical8_loss: 0.9650 - val_covertype_categorical9_loss: 1.3913 - val_covertype_categorical10_loss: 3.4486 - val_covertype_cls_categorical_accuracy: 0.8801\n"
     ]
    },
    {
     "name": "stdout",
     "output_type": "stream",
     "text": [
      "Epoch 250/1000\n",
      "129/129 [==============================] - 28s 218ms/step - loss: 8.0350 - covertype_cls_loss: 0.3996 - covertype_bernoulli_loss: 0.0341 - covertype_categorical1_loss: 1.9194 - covertype_categorical2_loss: 1.0025 - covertype_categorical3_loss: 0.1304 - covertype_categorical4_loss: 1.6100 - covertype_categorical5_loss: 2.1278 - covertype_categorical6_loss: 2.5165 - covertype_categorical7_loss: 0.8001 - covertype_categorical8_loss: 0.7777 - covertype_categorical9_loss: 1.0892 - covertype_categorical10_loss: 2.7075 - covertype_cls_categorical_accuracy: 0.9484 - val_loss: 10.0256 - val_covertype_cls_loss: 0.5277 - val_covertype_bernoulli_loss: 0.0464 - val_covertype_categorical1_loss: 3.1467 - val_covertype_categorical2_loss: 1.1698 - val_covertype_categorical3_loss: 0.1641 - val_covertype_categorical4_loss: 1.9218 - val_covertype_categorical5_loss: 2.4815 - val_covertype_categorical6_loss: 3.0655 - val_covertype_categorical7_loss: 0.9477 - val_covertype_categorical8_loss: 0.8838 - val_covertype_categorical9_loss: 1.3019 - val_covertype_categorical10_loss: 3.3271 - val_covertype_cls_categorical_accuracy: 0.8858\n",
      "Epoch 251/1000\n",
      "129/129 [==============================] - 29s 225ms/step - loss: 7.9543 - covertype_cls_loss: 0.3983 - covertype_bernoulli_loss: 0.0352 - covertype_categorical1_loss: 1.9118 - covertype_categorical2_loss: 0.9962 - covertype_categorical3_loss: 0.1240 - covertype_categorical4_loss: 1.5428 - covertype_categorical5_loss: 2.0927 - covertype_categorical6_loss: 2.4944 - covertype_categorical7_loss: 0.7952 - covertype_categorical8_loss: 0.7716 - covertype_categorical9_loss: 1.0883 - covertype_categorical10_loss: 2.7040 - covertype_cls_categorical_accuracy: 0.9495 - val_loss: 10.4141 - val_covertype_cls_loss: 0.5514 - val_covertype_bernoulli_loss: 0.0493 - val_covertype_categorical1_loss: 3.2809 - val_covertype_categorical2_loss: 1.2298 - val_covertype_categorical3_loss: 0.1548 - val_covertype_categorical4_loss: 2.0256 - val_covertype_categorical5_loss: 2.5407 - val_covertype_categorical6_loss: 3.1702 - val_covertype_categorical7_loss: 0.9821 - val_covertype_categorical8_loss: 0.9301 - val_covertype_categorical9_loss: 1.3854 - val_covertype_categorical10_loss: 3.4363 - val_covertype_cls_categorical_accuracy: 0.8738\n",
      "Epoch 252/1000\n",
      "129/129 [==============================] - 29s 227ms/step - loss: 8.0335 - covertype_cls_loss: 0.3974 - covertype_bernoulli_loss: 0.0335 - covertype_categorical1_loss: 1.9131 - covertype_categorical2_loss: 1.0290 - covertype_categorical3_loss: 0.1431 - covertype_categorical4_loss: 1.5473 - covertype_categorical5_loss: 2.1047 - covertype_categorical6_loss: 2.5171 - covertype_categorical7_loss: 0.8247 - covertype_categorical8_loss: 0.7898 - covertype_categorical9_loss: 1.1089 - covertype_categorical10_loss: 2.7052 - covertype_cls_categorical_accuracy: 0.9497 - val_loss: 10.0711 - val_covertype_cls_loss: 0.5279 - val_covertype_bernoulli_loss: 0.0451 - val_covertype_categorical1_loss: 3.1252 - val_covertype_categorical2_loss: 1.1733 - val_covertype_categorical3_loss: 0.1847 - val_covertype_categorical4_loss: 1.9403 - val_covertype_categorical5_loss: 2.5069 - val_covertype_categorical6_loss: 3.0672 - val_covertype_categorical7_loss: 0.9631 - val_covertype_categorical8_loss: 0.8950 - val_covertype_categorical9_loss: 1.3198 - val_covertype_categorical10_loss: 3.3259 - val_covertype_cls_categorical_accuracy: 0.8864\n",
      "Epoch 253/1000\n",
      "129/129 [==============================] - 30s 229ms/step - loss: 7.9935 - covertype_cls_loss: 0.4015 - covertype_bernoulli_loss: 0.0343 - covertype_categorical1_loss: 1.9138 - covertype_categorical2_loss: 1.0045 - covertype_categorical3_loss: 0.1357 - covertype_categorical4_loss: 1.5485 - covertype_categorical5_loss: 2.0897 - covertype_categorical6_loss: 2.5030 - covertype_categorical7_loss: 0.8054 - covertype_categorical8_loss: 0.7875 - covertype_categorical9_loss: 1.0942 - covertype_categorical10_loss: 2.7112 - covertype_cls_categorical_accuracy: 0.9477 - val_loss: 10.3833 - val_covertype_cls_loss: 0.5314 - val_covertype_bernoulli_loss: 0.0551 - val_covertype_categorical1_loss: 3.2463 - val_covertype_categorical2_loss: 1.2164 - val_covertype_categorical3_loss: 0.1618 - val_covertype_categorical4_loss: 1.9819 - val_covertype_categorical5_loss: 2.5878 - val_covertype_categorical6_loss: 3.1872 - val_covertype_categorical7_loss: 0.9772 - val_covertype_categorical8_loss: 0.9182 - val_covertype_categorical9_loss: 1.4252 - val_covertype_categorical10_loss: 3.4065 - val_covertype_cls_categorical_accuracy: 0.8826\n",
      "Epoch 254/1000\n",
      "129/129 [==============================] - 29s 228ms/step - loss: 8.0869 - covertype_cls_loss: 0.3969 - covertype_bernoulli_loss: 0.0344 - covertype_categorical1_loss: 1.9117 - covertype_categorical2_loss: 1.0407 - covertype_categorical3_loss: 0.1441 - covertype_categorical4_loss: 1.5986 - covertype_categorical5_loss: 2.1147 - covertype_categorical6_loss: 2.5036 - covertype_categorical7_loss: 0.8434 - covertype_categorical8_loss: 0.7988 - covertype_categorical9_loss: 1.1289 - covertype_categorical10_loss: 2.7047 - covertype_cls_categorical_accuracy: 0.9501 - val_loss: 9.9736 - val_covertype_cls_loss: 0.5284 - val_covertype_bernoulli_loss: 0.0499 - val_covertype_categorical1_loss: 3.1184 - val_covertype_categorical2_loss: 1.1750 - val_covertype_categorical3_loss: 0.1357 - val_covertype_categorical4_loss: 1.9313 - val_covertype_categorical5_loss: 2.4647 - val_covertype_categorical6_loss: 3.0501 - val_covertype_categorical7_loss: 0.9552 - val_covertype_categorical8_loss: 0.8726 - val_covertype_categorical9_loss: 1.2988 - val_covertype_categorical10_loss: 3.2983 - val_covertype_cls_categorical_accuracy: 0.8846\n",
      "Epoch 255/1000\n",
      "129/129 [==============================] - 29s 227ms/step - loss: 7.8975 - covertype_cls_loss: 0.3986 - covertype_bernoulli_loss: 0.0338 - covertype_categorical1_loss: 1.8974 - covertype_categorical2_loss: 0.9865 - covertype_categorical3_loss: 0.1173 - covertype_categorical4_loss: 1.5311 - covertype_categorical5_loss: 2.0775 - covertype_categorical6_loss: 2.4795 - covertype_categorical7_loss: 0.7843 - covertype_categorical8_loss: 0.7694 - covertype_categorical9_loss: 1.0778 - covertype_categorical10_loss: 2.6864 - covertype_cls_categorical_accuracy: 0.9488 - val_loss: 10.4136 - val_covertype_cls_loss: 0.5396 - val_covertype_bernoulli_loss: 0.0573 - val_covertype_categorical1_loss: 3.2598 - val_covertype_categorical2_loss: 1.2184 - val_covertype_categorical3_loss: 0.1542 - val_covertype_categorical4_loss: 2.0396 - val_covertype_categorical5_loss: 2.5683 - val_covertype_categorical6_loss: 3.1896 - val_covertype_categorical7_loss: 0.9877 - val_covertype_categorical8_loss: 0.9128 - val_covertype_categorical9_loss: 1.3653 - val_covertype_categorical10_loss: 3.4558 - val_covertype_cls_categorical_accuracy: 0.8780\n",
      "Epoch 256/1000\n",
      "129/129 [==============================] - 29s 226ms/step - loss: 7.9562 - covertype_cls_loss: 0.3967 - covertype_bernoulli_loss: 0.0337 - covertype_categorical1_loss: 1.9115 - covertype_categorical2_loss: 0.9953 - covertype_categorical3_loss: 0.1243 - covertype_categorical4_loss: 1.5299 - covertype_categorical5_loss: 2.0907 - covertype_categorical6_loss: 2.4999 - covertype_categorical7_loss: 0.7951 - covertype_categorical8_loss: 0.7725 - covertype_categorical9_loss: 1.0899 - covertype_categorical10_loss: 2.7208 - covertype_cls_categorical_accuracy: 0.9498 - val_loss: 10.0041 - val_covertype_cls_loss: 0.5287 - val_covertype_bernoulli_loss: 0.0469 - val_covertype_categorical1_loss: 3.1165 - val_covertype_categorical2_loss: 1.1867 - val_covertype_categorical3_loss: 0.1404 - val_covertype_categorical4_loss: 1.9470 - val_covertype_categorical5_loss: 2.4615 - val_covertype_categorical6_loss: 3.0527 - val_covertype_categorical7_loss: 0.9613 - val_covertype_categorical8_loss: 0.8800 - val_covertype_categorical9_loss: 1.3096 - val_covertype_categorical10_loss: 3.3091 - val_covertype_cls_categorical_accuracy: 0.8849\n",
      "Epoch 257/1000\n",
      "129/129 [==============================] - 29s 222ms/step - loss: 7.9439 - covertype_cls_loss: 0.3989 - covertype_bernoulli_loss: 0.0345 - covertype_categorical1_loss: 1.9016 - covertype_categorical2_loss: 1.0079 - covertype_categorical3_loss: 0.1214 - covertype_categorical4_loss: 1.5264 - covertype_categorical5_loss: 2.0921 - covertype_categorical6_loss: 2.4909 - covertype_categorical7_loss: 0.7994 - covertype_categorical8_loss: 0.7759 - covertype_categorical9_loss: 1.0916 - covertype_categorical10_loss: 2.6923 - covertype_cls_categorical_accuracy: 0.9489 - val_loss: 10.4013 - val_covertype_cls_loss: 0.5397 - val_covertype_bernoulli_loss: 0.0536 - val_covertype_categorical1_loss: 3.2319 - val_covertype_categorical2_loss: 1.2648 - val_covertype_categorical3_loss: 0.1666 - val_covertype_categorical4_loss: 1.9758 - val_covertype_categorical5_loss: 2.5622 - val_covertype_categorical6_loss: 3.1626 - val_covertype_categorical7_loss: 1.0008 - val_covertype_categorical8_loss: 0.9744 - val_covertype_categorical9_loss: 1.3795 - val_covertype_categorical10_loss: 3.4107 - val_covertype_cls_categorical_accuracy: 0.8817\n",
      "Epoch 258/1000\n",
      "129/129 [==============================] - 28s 220ms/step - loss: 7.9643 - covertype_cls_loss: 0.3976 - covertype_bernoulli_loss: 0.0342 - covertype_categorical1_loss: 1.9033 - covertype_categorical2_loss: 1.0046 - covertype_categorical3_loss: 0.1465 - covertype_categorical4_loss: 1.5285 - covertype_categorical5_loss: 2.0816 - covertype_categorical6_loss: 2.4874 - covertype_categorical7_loss: 0.8075 - covertype_categorical8_loss: 0.7802 - covertype_categorical9_loss: 1.1026 - covertype_categorical10_loss: 2.7008 - covertype_cls_categorical_accuracy: 0.9494 - val_loss: 9.9565 - val_covertype_cls_loss: 0.5348 - val_covertype_bernoulli_loss: 0.0472 - val_covertype_categorical1_loss: 3.1135 - val_covertype_categorical2_loss: 1.1696 - val_covertype_categorical3_loss: 0.1379 - val_covertype_categorical4_loss: 1.9261 - val_covertype_categorical5_loss: 2.4551 - val_covertype_categorical6_loss: 3.0466 - val_covertype_categorical7_loss: 0.9428 - val_covertype_categorical8_loss: 0.8566 - val_covertype_categorical9_loss: 1.3136 - val_covertype_categorical10_loss: 3.2943 - val_covertype_cls_categorical_accuracy: 0.8832\n",
      "Epoch 259/1000\n",
      "129/129 [==============================] - 29s 228ms/step - loss: 7.9523 - covertype_cls_loss: 0.3977 - covertype_bernoulli_loss: 0.0333 - covertype_categorical1_loss: 1.9052 - covertype_categorical2_loss: 0.9897 - covertype_categorical3_loss: 0.1234 - covertype_categorical4_loss: 1.5805 - covertype_categorical5_loss: 2.1128 - covertype_categorical6_loss: 2.4914 - covertype_categorical7_loss: 0.7873 - covertype_categorical8_loss: 0.7660 - covertype_categorical9_loss: 1.0717 - covertype_categorical10_loss: 2.6916 - covertype_cls_categorical_accuracy: 0.9494 - val_loss: 10.4383 - val_covertype_cls_loss: 0.5357 - val_covertype_bernoulli_loss: 0.0528 - val_covertype_categorical1_loss: 3.2219 - val_covertype_categorical2_loss: 1.2503 - val_covertype_categorical3_loss: 0.1599 - val_covertype_categorical4_loss: 2.0264 - val_covertype_categorical5_loss: 2.6102 - val_covertype_categorical6_loss: 3.1954 - val_covertype_categorical7_loss: 0.9958 - val_covertype_categorical8_loss: 0.9699 - val_covertype_categorical9_loss: 1.3697 - val_covertype_categorical10_loss: 3.4125 - val_covertype_cls_categorical_accuracy: 0.8802\n",
      "Epoch 260/1000\n",
      "129/129 [==============================] - 28s 218ms/step - loss: 7.9077 - covertype_cls_loss: 0.3977 - covertype_bernoulli_loss: 0.0337 - covertype_categorical1_loss: 1.8973 - covertype_categorical2_loss: 0.9889 - covertype_categorical3_loss: 0.1159 - covertype_categorical4_loss: 1.5273 - covertype_categorical5_loss: 2.0813 - covertype_categorical6_loss: 2.4830 - covertype_categorical7_loss: 0.7868 - covertype_categorical8_loss: 0.7671 - covertype_categorical9_loss: 1.0804 - covertype_categorical10_loss: 2.7023 - covertype_cls_categorical_accuracy: 0.9490 - val_loss: 9.9834 - val_covertype_cls_loss: 0.5237 - val_covertype_bernoulli_loss: 0.0489 - val_covertype_categorical1_loss: 3.1140 - val_covertype_categorical2_loss: 1.1874 - val_covertype_categorical3_loss: 0.1407 - val_covertype_categorical4_loss: 1.9203 - val_covertype_categorical5_loss: 2.4784 - val_covertype_categorical6_loss: 3.0383 - val_covertype_categorical7_loss: 0.9451 - val_covertype_categorical8_loss: 0.8840 - val_covertype_categorical9_loss: 1.3059 - val_covertype_categorical10_loss: 3.3164 - val_covertype_cls_categorical_accuracy: 0.8880ype_bernoulli_loss: 0.0337 - covertype_categorical1_loss: 1.8980 - covertype_categorical2_loss: 0.9874 - covertype_categorical3_loss: 0.1150 - covertype_categorical4_loss: 1.5315 - covertype_categorical5_loss: 2.0814 - covertype_categorical6_loss: 2.4820 - covertype_categorical7_loss: 0.7854 - covertype_categorical8_loss: 0.7664 - covertype_categorical9_loss: 1.0780 - covertype_categorical10_loss: 2.6987 - covertype_cls_categorical_\n",
      "Epoch 261/1000\n",
      "129/129 [==============================] - 29s 225ms/step - loss: 7.8952 - covertype_cls_loss: 0.3952 - covertype_bernoulli_loss: 0.0334 - covertype_categorical1_loss: 1.8954 - covertype_categorical2_loss: 0.9988 - covertype_categorical3_loss: 0.1212 - covertype_categorical4_loss: 1.5194 - covertype_categorical5_loss: 2.0686 - covertype_categorical6_loss: 2.4693 - covertype_categorical7_loss: 0.7929 - covertype_categorical8_loss: 0.7713 - covertype_categorical9_loss: 1.0813 - covertype_categorical10_loss: 2.6916 - covertype_cls_categorical_accuracy: 0.9502 - val_loss: 10.3319 - val_covertype_cls_loss: 0.5324 - val_covertype_bernoulli_loss: 0.0553 - val_covertype_categorical1_loss: 3.2371 - val_covertype_categorical2_loss: 1.2191 - val_covertype_categorical3_loss: 0.1571 - val_covertype_categorical4_loss: 1.9768 - val_covertype_categorical5_loss: 2.5652 - val_covertype_categorical6_loss: 3.1397 - val_covertype_categorical7_loss: 0.9922 - val_covertype_categorical8_loss: 0.9299 - val_covertype_categorical9_loss: 1.3526 - val_covertype_categorical10_loss: 3.4326 - val_covertype_cls_categorical_accuracy: 0.8804\n",
      "Epoch 262/1000\n",
      "129/129 [==============================] - 29s 226ms/step - loss: 7.8986 - covertype_cls_loss: 0.3940 - covertype_bernoulli_loss: 0.0338 - covertype_categorical1_loss: 1.8954 - covertype_categorical2_loss: 0.9894 - covertype_categorical3_loss: 0.1199 - covertype_categorical4_loss: 1.5347 - covertype_categorical5_loss: 2.0776 - covertype_categorical6_loss: 2.4793 - covertype_categorical7_loss: 0.7815 - covertype_categorical8_loss: 0.7748 - covertype_categorical9_loss: 1.0761 - covertype_categorical10_loss: 2.6905 - covertype_cls_categorical_accuracy: 0.9509 - val_loss: 9.9287 - val_covertype_cls_loss: 0.5226 - val_covertype_bernoulli_loss: 0.0508 - val_covertype_categorical1_loss: 3.1207 - val_covertype_categorical2_loss: 1.1510 - val_covertype_categorical3_loss: 0.1364 - val_covertype_categorical4_loss: 1.9404 - val_covertype_categorical5_loss: 2.4573 - val_covertype_categorical6_loss: 3.0585 - val_covertype_categorical7_loss: 0.9197 - val_covertype_categorical8_loss: 0.8588 - val_covertype_categorical9_loss: 1.2852 - val_covertype_categorical10_loss: 3.2926 - val_covertype_cls_categorical_accuracy: 0.8881\n",
      "Epoch 263/1000\n"
     ]
    },
    {
     "name": "stdout",
     "output_type": "stream",
     "text": [
      "129/129 [==============================] - 29s 229ms/step - loss: 7.9040 - covertype_cls_loss: 0.3997 - covertype_bernoulli_loss: 0.0331 - covertype_categorical1_loss: 1.8988 - covertype_categorical2_loss: 0.9894 - covertype_categorical3_loss: 0.1264 - covertype_categorical4_loss: 1.5276 - covertype_categorical5_loss: 2.0715 - covertype_categorical6_loss: 2.4734 - covertype_categorical7_loss: 0.7854 - covertype_categorical8_loss: 0.7621 - covertype_categorical9_loss: 1.0906 - covertype_categorical10_loss: 2.6934 - covertype_cls_categorical_accuracy: 0.9482 - val_loss: 10.3100 - val_covertype_cls_loss: 0.5357 - val_covertype_bernoulli_loss: 0.0546 - val_covertype_categorical1_loss: 3.2597 - val_covertype_categorical2_loss: 1.1988 - val_covertype_categorical3_loss: 0.1507 - val_covertype_categorical4_loss: 1.9754 - val_covertype_categorical5_loss: 2.5463 - val_covertype_categorical6_loss: 3.1555 - val_covertype_categorical7_loss: 0.9977 - val_covertype_categorical8_loss: 0.9076 - val_covertype_categorical9_loss: 1.3711 - val_covertype_categorical10_loss: 3.3910 - val_covertype_cls_categorical_accuracy: 0.8816\n",
      "Epoch 264/1000\n",
      "129/129 [==============================] - 29s 225ms/step - loss: 7.8997 - covertype_cls_loss: 0.3973 - covertype_bernoulli_loss: 0.0336 - covertype_categorical1_loss: 1.8962 - covertype_categorical2_loss: 0.9915 - covertype_categorical3_loss: 0.1224 - covertype_categorical4_loss: 1.5227 - covertype_categorical5_loss: 2.0829 - covertype_categorical6_loss: 2.4792 - covertype_categorical7_loss: 0.7915 - covertype_categorical8_loss: 0.7670 - covertype_categorical9_loss: 1.0778 - covertype_categorical10_loss: 2.6839 - covertype_cls_categorical_accuracy: 0.9492 - val_loss: 9.9647 - val_covertype_cls_loss: 0.5238 - val_covertype_bernoulli_loss: 0.0497 - val_covertype_categorical1_loss: 3.1141 - val_covertype_categorical2_loss: 1.1664 - val_covertype_categorical3_loss: 0.1313 - val_covertype_categorical4_loss: 1.9316 - val_covertype_categorical5_loss: 2.4517 - val_covertype_categorical6_loss: 3.0542 - val_covertype_categorical7_loss: 0.9345 - val_covertype_categorical8_loss: 0.8730 - val_covertype_categorical9_loss: 1.3078 - val_covertype_categorical10_loss: 3.3279 - val_covertype_cls_categorical_accuracy: 0.8880\n",
      "Epoch 265/1000\n",
      "129/129 [==============================] - 29s 226ms/step - loss: 7.9330 - covertype_cls_loss: 0.3946 - covertype_bernoulli_loss: 0.0338 - covertype_categorical1_loss: 1.8914 - covertype_categorical2_loss: 1.0076 - covertype_categorical3_loss: 0.1409 - covertype_categorical4_loss: 1.5293 - covertype_categorical5_loss: 2.0698 - covertype_categorical6_loss: 2.4768 - covertype_categorical7_loss: 0.8107 - covertype_categorical8_loss: 0.7760 - covertype_categorical9_loss: 1.1031 - covertype_categorical10_loss: 2.6809 - covertype_cls_categorical_accuracy: 0.9507 - val_loss: 10.9788 - val_covertype_cls_loss: 0.5375 - val_covertype_bernoulli_loss: 0.0549 - val_covertype_categorical1_loss: 3.2731 - val_covertype_categorical2_loss: 1.4036 - val_covertype_categorical3_loss: 0.5705 - val_covertype_categorical4_loss: 2.0563 - val_covertype_categorical5_loss: 2.5560 - val_covertype_categorical6_loss: 3.1563 - val_covertype_categorical7_loss: 1.1356 - val_covertype_categorical8_loss: 1.1032 - val_covertype_categorical9_loss: 1.5583 - val_covertype_categorical10_loss: 3.4748 - val_covertype_cls_categorical_accuracy: 0.8830\n",
      "Epoch 266/1000\n",
      "129/129 [==============================] - 29s 226ms/step - loss: 8.0456 - covertype_cls_loss: 0.3979 - covertype_bernoulli_loss: 0.0346 - covertype_categorical1_loss: 1.8942 - covertype_categorical2_loss: 1.0073 - covertype_categorical3_loss: 0.2022 - covertype_categorical4_loss: 1.6061 - covertype_categorical5_loss: 2.1051 - covertype_categorical6_loss: 2.4683 - covertype_categorical7_loss: 0.8216 - covertype_categorical8_loss: 0.8029 - covertype_categorical9_loss: 1.1119 - covertype_categorical10_loss: 2.6848 - covertype_cls_categorical_accuracy: 0.9492 - val_loss: 9.8840 - val_covertype_cls_loss: 0.5268 - val_covertype_bernoulli_loss: 0.0443 - val_covertype_categorical1_loss: 3.1036 - val_covertype_categorical2_loss: 1.1649 - val_covertype_categorical3_loss: 0.1272 - val_covertype_categorical4_loss: 1.9306 - val_covertype_categorical5_loss: 2.4270 - val_covertype_categorical6_loss: 3.0323 - val_covertype_categorical7_loss: 0.9156 - val_covertype_categorical8_loss: 0.8684 - val_covertype_categorical9_loss: 1.2836 - val_covertype_categorical10_loss: 3.2762 - val_covertype_cls_categorical_accuracy: 0.8858\n",
      "Epoch 267/1000\n",
      "129/129 [==============================] - 29s 225ms/step - loss: 7.8375 - covertype_cls_loss: 0.3929 - covertype_bernoulli_loss: 0.0322 - covertype_categorical1_loss: 1.8826 - covertype_categorical2_loss: 0.9773 - covertype_categorical3_loss: 0.1128 - covertype_categorical4_loss: 1.5262 - covertype_categorical5_loss: 2.0606 - covertype_categorical6_loss: 2.4572 - covertype_categorical7_loss: 0.7733 - covertype_categorical8_loss: 0.7464 - covertype_categorical9_loss: 1.0647 - covertype_categorical10_loss: 2.6993 - covertype_cls_categorical_accuracy: 0.9516 - val_loss: 10.2987 - val_covertype_cls_loss: 0.5360 - val_covertype_bernoulli_loss: 0.0511 - val_covertype_categorical1_loss: 3.2043 - val_covertype_categorical2_loss: 1.2510 - val_covertype_categorical3_loss: 0.1589 - val_covertype_categorical4_loss: 2.0264 - val_covertype_categorical5_loss: 2.4972 - val_covertype_categorical6_loss: 3.1059 - val_covertype_categorical7_loss: 0.9934 - val_covertype_categorical8_loss: 0.9053 - val_covertype_categorical9_loss: 1.3823 - val_covertype_categorical10_loss: 3.4088 - val_covertype_cls_categorical_accuracy: 0.8838\n",
      "Epoch 268/1000\n",
      "129/129 [==============================] - 30s 229ms/step - loss: 7.8933 - covertype_cls_loss: 0.3938 - covertype_bernoulli_loss: 0.0334 - covertype_categorical1_loss: 1.8829 - covertype_categorical2_loss: 1.0079 - covertype_categorical3_loss: 0.1206 - covertype_categorical4_loss: 1.5258 - covertype_categorical5_loss: 2.0693 - covertype_categorical6_loss: 2.4706 - covertype_categorical7_loss: 0.8068 - covertype_categorical8_loss: 0.7663 - covertype_categorical9_loss: 1.0817 - covertype_categorical10_loss: 2.6771 - covertype_cls_categorical_accuracy: 0.9509 - val_loss: 9.9720 - val_covertype_cls_loss: 0.5254 - val_covertype_bernoulli_loss: 0.0458 - val_covertype_categorical1_loss: 3.1256 - val_covertype_categorical2_loss: 1.1738 - val_covertype_categorical3_loss: 0.1361 - val_covertype_categorical4_loss: 1.9265 - val_covertype_categorical5_loss: 2.4753 - val_covertype_categorical6_loss: 3.0570 - val_covertype_categorical7_loss: 0.9306 - val_covertype_categorical8_loss: 0.8817 - val_covertype_categorical9_loss: 1.3064 - val_covertype_categorical10_loss: 3.2931 - val_covertype_cls_categorical_accuracy: 0.8885\n",
      "Epoch 269/1000\n",
      "129/129 [==============================] - 29s 228ms/step - loss: 7.8461 - covertype_cls_loss: 0.3934 - covertype_bernoulli_loss: 0.0336 - covertype_categorical1_loss: 1.8865 - covertype_categorical2_loss: 0.9916 - covertype_categorical3_loss: 0.1167 - covertype_categorical4_loss: 1.5148 - covertype_categorical5_loss: 2.0544 - covertype_categorical6_loss: 2.4560 - covertype_categorical7_loss: 0.7844 - covertype_categorical8_loss: 0.7635 - covertype_categorical9_loss: 1.0753 - covertype_categorical10_loss: 2.6718 - covertype_cls_categorical_accuracy: 0.9510 - val_loss: 10.3100 - val_covertype_cls_loss: 0.5309 - val_covertype_bernoulli_loss: 0.0506 - val_covertype_categorical1_loss: 3.2366 - val_covertype_categorical2_loss: 1.2525 - val_covertype_categorical3_loss: 0.1501 - val_covertype_categorical4_loss: 1.9702 - val_covertype_categorical5_loss: 2.5457 - val_covertype_categorical6_loss: 3.1239 - val_covertype_categorical7_loss: 0.9841 - val_covertype_categorical8_loss: 0.9305 - val_covertype_categorical9_loss: 1.3509 - val_covertype_categorical10_loss: 3.4225 - val_covertype_cls_categorical_accuracy: 0.8855\n",
      "Epoch 270/1000\n",
      "129/129 [==============================] - 29s 227ms/step - loss: 7.8559 - covertype_cls_loss: 0.3932 - covertype_bernoulli_loss: 0.0331 - covertype_categorical1_loss: 1.8874 - covertype_categorical2_loss: 0.9833 - covertype_categorical3_loss: 0.1235 - covertype_categorical4_loss: 1.5202 - covertype_categorical5_loss: 2.0558 - covertype_categorical6_loss: 2.4621 - covertype_categorical7_loss: 0.7813 - covertype_categorical8_loss: 0.7578 - covertype_categorical9_loss: 1.0831 - covertype_categorical10_loss: 2.6802 - covertype_cls_categorical_accuracy: 0.9515 - val_loss: 9.9545 - val_covertype_cls_loss: 0.5232 - val_covertype_bernoulli_loss: 0.0448 - val_covertype_categorical1_loss: 3.1037 - val_covertype_categorical2_loss: 1.1424 - val_covertype_categorical3_loss: 0.1352 - val_covertype_categorical4_loss: 1.9242 - val_covertype_categorical5_loss: 2.4554 - val_covertype_categorical6_loss: 3.0440 - val_covertype_categorical7_loss: 0.9255 - val_covertype_categorical8_loss: 0.8984 - val_covertype_categorical9_loss: 1.2970 - val_covertype_categorical10_loss: 3.3516 - val_covertype_cls_categorical_accuracy: 0.8876\n",
      "Epoch 271/1000\n",
      "129/129 [==============================] - 30s 230ms/step - loss: 7.8510 - covertype_cls_loss: 0.3963 - covertype_bernoulli_loss: 0.0381 - covertype_categorical1_loss: 1.8934 - covertype_categorical2_loss: 0.9864 - covertype_categorical3_loss: 0.1190 - covertype_categorical4_loss: 1.5109 - covertype_categorical5_loss: 2.0670 - covertype_categorical6_loss: 2.4593 - covertype_categorical7_loss: 0.7674 - covertype_categorical8_loss: 0.7593 - covertype_categorical9_loss: 1.0725 - covertype_categorical10_loss: 2.6791 - covertype_cls_categorical_accuracy: 0.9494 - val_loss: 10.2860 - val_covertype_cls_loss: 0.5447 - val_covertype_bernoulli_loss: 0.0527 - val_covertype_categorical1_loss: 3.2316 - val_covertype_categorical2_loss: 1.1987 - val_covertype_categorical3_loss: 0.1478 - val_covertype_categorical4_loss: 1.9762 - val_covertype_categorical5_loss: 2.5122 - val_covertype_categorical6_loss: 3.1223 - val_covertype_categorical7_loss: 1.0008 - val_covertype_categorical8_loss: 0.9209 - val_covertype_categorical9_loss: 1.3434 - val_covertype_categorical10_loss: 3.4361 - val_covertype_cls_categorical_accuracy: 0.8808\n",
      "Epoch 272/1000\n",
      "129/129 [==============================] - 29s 224ms/step - loss: 7.8403 - covertype_cls_loss: 0.3945 - covertype_bernoulli_loss: 0.0317 - covertype_categorical1_loss: 1.8839 - covertype_categorical2_loss: 0.9796 - covertype_categorical3_loss: 0.1140 - covertype_categorical4_loss: 1.5172 - covertype_categorical5_loss: 2.0699 - covertype_categorical6_loss: 2.4658 - covertype_categorical7_loss: 0.7812 - covertype_categorical8_loss: 0.7520 - covertype_categorical9_loss: 1.0614 - covertype_categorical10_loss: 2.6783 - covertype_cls_categorical_accuracy: 0.9502 - val_loss: 9.9396 - val_covertype_cls_loss: 0.5251 - val_covertype_bernoulli_loss: 0.0453 - val_covertype_categorical1_loss: 3.1025 - val_covertype_categorical2_loss: 1.1644 - val_covertype_categorical3_loss: 0.1365 - val_covertype_categorical4_loss: 1.9364 - val_covertype_categorical5_loss: 2.4585 - val_covertype_categorical6_loss: 3.0233 - val_covertype_categorical7_loss: 0.9293 - val_covertype_categorical8_loss: 0.8793 - val_covertype_categorical9_loss: 1.3131 - val_covertype_categorical10_loss: 3.2999 - val_covertype_cls_categorical_accuracy: 0.8870\n",
      "Epoch 273/1000\n",
      "129/129 [==============================] - 29s 226ms/step - loss: 7.8358 - covertype_cls_loss: 0.3959 - covertype_bernoulli_loss: 0.0334 - covertype_categorical1_loss: 1.8806 - covertype_categorical2_loss: 0.9759 - covertype_categorical3_loss: 0.1148 - covertype_categorical4_loss: 1.5218 - covertype_categorical5_loss: 2.0589 - covertype_categorical6_loss: 2.4661 - covertype_categorical7_loss: 0.7712 - covertype_categorical8_loss: 0.7664 - covertype_categorical9_loss: 1.0693 - covertype_categorical10_loss: 2.6647 - covertype_cls_categorical_accuracy: 0.9497 - val_loss: 10.4784 - val_covertype_cls_loss: 0.5317 - val_covertype_bernoulli_loss: 0.0476 - val_covertype_categorical1_loss: 3.2620 - val_covertype_categorical2_loss: 1.2673 - val_covertype_categorical3_loss: 0.1867 - val_covertype_categorical4_loss: 2.0286 - val_covertype_categorical5_loss: 2.5716 - val_covertype_categorical6_loss: 3.1636 - val_covertype_categorical7_loss: 1.0260 - val_covertype_categorical8_loss: 0.9524 - val_covertype_categorical9_loss: 1.4011 - val_covertype_categorical10_loss: 3.4453 - val_covertype_cls_categorical_accuracy: 0.8845\n",
      "Epoch 274/1000\n",
      "129/129 [==============================] - 29s 226ms/step - loss: 7.8485 - covertype_cls_loss: 0.3917 - covertype_bernoulli_loss: 0.0326 - covertype_categorical1_loss: 1.8802 - covertype_categorical2_loss: 0.9871 - covertype_categorical3_loss: 0.1231 - covertype_categorical4_loss: 1.5158 - covertype_categorical5_loss: 2.0600 - covertype_categorical6_loss: 2.4614 - covertype_categorical7_loss: 0.7910 - covertype_categorical8_loss: 0.7593 - covertype_categorical9_loss: 1.0771 - covertype_categorical10_loss: 2.6692 - covertype_cls_categorical_accuracy: 0.9517 - val_loss: 9.9057 - val_covertype_cls_loss: 0.5293 - val_covertype_bernoulli_loss: 0.0443 - val_covertype_categorical1_loss: 3.1159 - val_covertype_categorical2_loss: 1.1496 - val_covertype_categorical3_loss: 0.1277 - val_covertype_categorical4_loss: 1.9319 - val_covertype_categorical5_loss: 2.4571 - val_covertype_categorical6_loss: 3.0317 - val_covertype_categorical7_loss: 0.8992 - val_covertype_categorical8_loss: 0.8763 - val_covertype_categorical9_loss: 1.2867 - val_covertype_categorical10_loss: 3.2914 - val_covertype_cls_categorical_accuracy: 0.8842\n",
      "Epoch 275/1000\n",
      "129/129 [==============================] - 29s 226ms/step - loss: 7.9726 - covertype_cls_loss: 0.3944 - covertype_bernoulli_loss: 0.0334 - covertype_categorical1_loss: 1.8890 - covertype_categorical2_loss: 0.9913 - covertype_categorical3_loss: 0.1278 - covertype_categorical4_loss: 1.6347 - covertype_categorical5_loss: 2.1288 - covertype_categorical6_loss: 2.4701 - covertype_categorical7_loss: 0.7968 - covertype_categorical8_loss: 0.7726 - covertype_categorical9_loss: 1.0859 - covertype_categorical10_loss: 2.6702 - covertype_cls_categorical_accuracy: 0.9506 - val_loss: 10.3185 - val_covertype_cls_loss: 0.5325 - val_covertype_bernoulli_loss: 0.0490 - val_covertype_categorical1_loss: 3.2326 - val_covertype_categorical2_loss: 1.2331 - val_covertype_categorical3_loss: 0.1649 - val_covertype_categorical4_loss: 2.0129 - val_covertype_categorical5_loss: 2.5400 - val_covertype_categorical6_loss: 3.1532 - val_covertype_categorical7_loss: 0.9951 - val_covertype_categorical8_loss: 0.9280 - val_covertype_categorical9_loss: 1.3552 - val_covertype_categorical10_loss: 3.3667 - val_covertype_cls_categorical_accuracy: 0.8843\n",
      "Epoch 276/1000\n",
      "129/129 [==============================] - 29s 226ms/step - loss: 7.7903 - covertype_cls_loss: 0.3911 - covertype_bernoulli_loss: 0.0320 - covertype_categorical1_loss: 1.8721 - covertype_categorical2_loss: 0.9874 - covertype_categorical3_loss: 0.1159 - covertype_categorical4_loss: 1.4999 - covertype_categorical5_loss: 2.0336 - covertype_categorical6_loss: 2.4395 - covertype_categorical7_loss: 0.7803 - covertype_categorical8_loss: 0.7544 - covertype_categorical9_loss: 1.0746 - covertype_categorical10_loss: 2.6515 - covertype_cls_categorical_accuracy: 0.9522 - val_loss: 9.9252 - val_covertype_cls_loss: 0.5225 - val_covertype_bernoulli_loss: 0.0475 - val_covertype_categorical1_loss: 3.1004 - val_covertype_categorical2_loss: 1.1941 - val_covertype_categorical3_loss: 0.1361 - val_covertype_categorical4_loss: 1.9110 - val_covertype_categorical5_loss: 2.4344 - val_covertype_categorical6_loss: 3.0297 - val_covertype_categorical7_loss: 0.9518 - val_covertype_categorical8_loss: 0.8737 - val_covertype_categorical9_loss: 1.2982 - val_covertype_categorical10_loss: 3.2871 - val_covertype_cls_categorical_accuracy: 0.8889\n"
     ]
    }
   ],
   "source": [
    "model_history = trainable_nn.fit(trainset_gen, validation_data=validset_gen,\n",
    "                                 epochs=MAX_TRAINING_EPOCHS, callbacks=callbacks,\n",
    "                                 verbose=1)"
   ]
  },
  {
   "cell_type": "code",
   "execution_count": 44,
   "metadata": {
    "id": "tg2TlJsd6B8Q"
   },
   "outputs": [],
   "source": [
    "trainable_nn.load_weights(nn_fname)"
   ]
  },
  {
   "cell_type": "code",
   "execution_count": 45,
   "metadata": {
    "id": "WZxVYvkm6diP"
   },
   "outputs": [
    {
     "data": {
      "image/png": "[encoded data removed]",
      "text/plain": [
       "<Figure size 360x360 with 1 Axes>"
      ]
     },
     "metadata": {
      "needs_background": "light"
     },
     "output_type": "display_data"
    }
   ],
   "source": [
    "show_training_process(history=model_history, metric_name='loss',\n",
    "                      figure_id=1)"
   ]
  },
  {
   "cell_type": "code",
   "execution_count": 46,
   "metadata": {
    "id": "DMNeqB866o7e"
   },
   "outputs": [
    {
     "data": {
      "image/png": "[encoded data removed]",
      "text/plain": [
       "<Figure size 360x360 with 1 Axes>"
      ]
     },
     "metadata": {
      "needs_background": "light"
     },
     "output_type": "display_data"
    }
   ],
   "source": [
    "show_training_process(history=model_history, metric_name='covertype_cls_loss',\n",
    "                      figure_id=2)"
   ]
  },
  {
   "cell_type": "code",
   "execution_count": 47,
   "metadata": {
    "id": "kd3SKKEZ6kgl"
   },
   "outputs": [
    {
     "data": {
      "image/png": "[encoded data removed]",
      "text/plain": [
       "<Figure size 360x360 with 1 Axes>"
      ]
     },
     "metadata": {
      "needs_background": "light"
     },
     "output_type": "display_data"
    }
   ],
   "source": [
    "show_training_process(history=model_history,\n",
    "                      metric_name='covertype_cls_categorical_accuracy',\n",
    "                      figure_id=3)"
   ]
  },
  {
   "cell_type": "code",
   "execution_count": 48,
   "metadata": {
    "id": "mNMlYkPu7Ic_"
   },
   "outputs": [],
   "source": [
    "del trainset_gen, validset_gen"
   ]
  },
  {
   "cell_type": "code",
   "execution_count": 49,
   "metadata": {
    "id": "igS2mcBB7Kzd"
   },
   "outputs": [],
   "source": [
    "del X_train, y_train, X_valid_quantized, X_train_quantized"
   ]
  },
  {
   "cell_type": "code",
   "execution_count": 50,
   "metadata": {
    "id": "yoPbBlKyG9Xb"
   },
   "outputs": [],
   "source": [
    "del trainable_nn"
   ]
  },
  {
   "cell_type": "code",
   "execution_count": 51,
   "metadata": {
    "id": "36JzbsBtHGdv"
   },
   "outputs": [
    {
     "data": {
      "text/plain": [
       "10210"
      ]
     },
     "execution_count": 51,
     "metadata": {},
     "output_type": "execute_result"
    }
   ],
   "source": [
    "gc.collect()"
   ]
  },
  {
   "cell_type": "code",
   "execution_count": 52,
   "metadata": {
    "id": "JxQCcMG26ws1"
   },
   "outputs": [
    {
     "data": {
      "application/vnd.jupyter.widget-view+json": {
       "model_id": "0be1cc34243142e28e0071a472cae046",
       "version_major": 2,
       "version_minor": 0
      },
      "text/plain": [
       "  0%|          | 0/432 [00:00<?, ?it/s]"
      ]
     },
     "metadata": {},
     "output_type": "display_data"
    }
   ],
   "source": [
    "valid_probas = predict_proba(\n",
    "    X=X_valid, encoder=encoding_nn, classifier=classification_nn,\n",
    "    n_samples=1, batch_size=MINIBATCH_SIZE_FOR_INFERENCE\n",
    ")"
   ]
  },
  {
   "cell_type": "code",
   "execution_count": 53,
   "metadata": {
    "id": "NmZLiXLT719Q"
   },
   "outputs": [
    {
     "name": "stdout",
     "output_type": "stream",
     "text": [
      "              precision    recall  f1-score   support\n",
      "\n",
      "           0     0.8952    0.8909    0.8930     10063\n",
      "           1     0.9316    0.8661    0.8976     13457\n",
      "           2     0.8922    0.9311    0.9112      1698\n",
      "           3     0.5129    0.9667    0.6703       451\n",
      "           4     0.7127    0.9382    0.8100       825\n",
      "           5     0.7982    0.9867    0.8825       974\n",
      "           6     0.7578    0.9313    0.8356       131\n",
      "\n",
      "    accuracy                         0.8875     27599\n",
      "   macro avg     0.7858    0.9301    0.8429     27599\n",
      "weighted avg     0.8970    0.8875    0.8896     27599\n",
      "\n"
     ]
    }
   ],
   "source": [
    "print(classification_report(y_true=y_valid, y_pred=np.argmax(valid_probas, axis=1),\n",
    "                            digits=4))"
   ]
  },
  {
   "cell_type": "code",
   "execution_count": 54,
   "metadata": {
    "id": "PGYcDvS97-jv"
   },
   "outputs": [
    {
     "data": {
      "application/vnd.jupyter.widget-view+json": {
       "model_id": "0c839144968649fa8f7f65baf6c6d2e1",
       "version_major": 2,
       "version_minor": 0
      },
      "text/plain": [
       "  0%|          | 0/454 [00:00<?, ?it/s]"
      ]
     },
     "metadata": {},
     "output_type": "display_data"
    }
   ],
   "source": [
    "test_probas = predict_proba(\n",
    "    X=X_test, encoder=encoding_nn, classifier=classification_nn,\n",
    "    n_samples=1, batch_size=MINIBATCH_SIZE_FOR_INFERENCE\n",
    ")"
   ]
  },
  {
   "cell_type": "code",
   "execution_count": 55,
   "metadata": {
    "id": "reZKYYG28A3F"
   },
   "outputs": [
    {
     "name": "stdout",
     "output_type": "stream",
     "text": [
      "              precision    recall  f1-score   support\n",
      "\n",
      "           0     0.8930    0.8875    0.8902     10592\n",
      "           1     0.9294    0.8672    0.8972     14165\n",
      "           2     0.8939    0.9279    0.9105      1788\n",
      "           3     0.5326    0.9621    0.6857       475\n",
      "           4     0.7044    0.9528    0.8100       868\n",
      "           5     0.8099    0.9883    0.8903      1026\n",
      "           6     0.7619    0.9343    0.8393       137\n",
      "\n",
      "    accuracy                         0.8870     29051\n",
      "   macro avg     0.7893    0.9314    0.8462     29051\n",
      "weighted avg     0.8957    0.8870    0.8889     29051\n",
      "\n"
     ]
    }
   ],
   "source": [
    "print(classification_report(y_true=y_test, y_pred=np.argmax(test_probas, axis=1),\n",
    "                            digits=4))"
   ]
  },
  {
   "cell_type": "code",
   "execution_count": null,
   "metadata": {},
   "outputs": [],
   "source": [
    "test_probas = predict_proba(\n",
    "    X=X_test, encoder=encoding_nn, classifier=classification_nn,\n",
    "    n_samples=10, batch_size=MINIBATCH_SIZE_FOR_INFERENCE\n",
    ")"
   ]
  },
  {
   "cell_type": "code",
   "execution_count": null,
   "metadata": {},
   "outputs": [],
   "source": [
    "print(classification_report(y_true=y_test, y_pred=np.argmax(test_probas, axis=1),\n",
    "                            digits=4))"
   ]
  },
  {
   "cell_type": "code",
   "execution_count": null,
   "metadata": {},
   "outputs": [],
   "source": [
    "test_probas = predict_proba(\n",
    "    X=X_test, encoder=encoding_nn, classifier=classification_nn,\n",
    "    n_samples=100, batch_size=MINIBATCH_SIZE_FOR_INFERENCE\n",
    ")"
   ]
  },
  {
   "cell_type": "code",
   "execution_count": null,
   "metadata": {},
   "outputs": [],
   "source": [
    "print(classification_report(y_true=y_test, y_pred=np.argmax(test_probas, axis=1),\n",
    "                            digits=4))"
   ]
  }
 ],
 "metadata": {
  "accelerator": "GPU",
  "colab": {
   "collapsed_sections": [],
   "name": "vae_automl.ipynb",
   "provenance": []
  },
  "kernelspec": {
   "display_name": "Python 3 (ipykernel)",
   "language": "python",
   "name": "python3"
  },
  "language_info": {
   "codemirror_mode": {
    "name": "ipython",
    "version": 3
   },
   "file_extension": ".py",
   "mimetype": "text/x-python",
   "name": "python",
   "nbconvert_exporter": "python",
   "pygments_lexer": "ipython3",
   "version": "3.7.11"
  }
 },
 "nbformat": 4,
 "nbformat_minor": 1
}
