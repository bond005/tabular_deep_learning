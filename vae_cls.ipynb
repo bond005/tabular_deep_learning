{
 "cells": [
  {
   "cell_type": "code",
   "execution_count": 1,
   "metadata": {
    "id": "-XY9sNjKSiOL"
   },
   "outputs": [],
   "source": [
    "import gc\n",
    "import os\n",
    "import random\n",
    "from typing import List, Tuple"
   ]
  },
  {
   "cell_type": "code",
   "execution_count": 2,
   "metadata": {
    "id": "Ik_m85IV8RQA"
   },
   "outputs": [],
   "source": [
    "os.environ['TF_CPP_MIN_LOG_LEVEL'] = '2'"
   ]
  },
  {
   "cell_type": "code",
   "execution_count": 3,
   "metadata": {
    "id": "xmdyl8EYRRUJ"
   },
   "outputs": [],
   "source": [
    "import matplotlib.pyplot as plt\n",
    "import numpy as np\n",
    "from sklearn.compose import ColumnTransformer\n",
    "from sklearn.datasets import fetch_covtype\n",
    "from sklearn.decomposition import PCA\n",
    "from sklearn.ensemble import RandomForestClassifier\n",
    "from sklearn.feature_selection import VarianceThreshold\n",
    "from sklearn.impute import SimpleImputer\n",
    "from sklearn.metrics import classification_report\n",
    "from sklearn.metrics import f1_score\n",
    "from sklearn.model_selection import train_test_split\n",
    "from sklearn.pipeline import Pipeline\n",
    "from sklearn.preprocessing import StandardScaler, MinMaxScaler\n",
    "from sklearn.preprocessing import Binarizer, KBinsDiscretizer\n",
    "from skopt import gp_minimize\n",
    "from skopt.utils import use_named_args\n",
    "from skopt.space import Real, Integer\n",
    "from tqdm.notebook import tqdm"
   ]
  },
  {
   "cell_type": "code",
   "execution_count": 4,
   "metadata": {
    "id": "SuVsTybzxhj0"
   },
   "outputs": [],
   "source": [
    "import tensorflow as tf\n",
    "import tensorflow_addons as tfa\n",
    "import tensorflow_probability as tfp"
   ]
  },
  {
   "cell_type": "code",
   "execution_count": 5,
   "metadata": {},
   "outputs": [],
   "source": [
    "def find_best_rf(X: np.ndarray, y: np.ndarray) -> RandomForestClassifier:\n",
    "    space = [\n",
    "        Real(0.000001, 0.01, 'log-uniform', name='ccp_alpha'),\n",
    "        Real(0.5, 0.85, 'uniform', name='max_features'),\n",
    "        Real(0.6, 0.95, 'uniform', name='max_samples'),\n",
    "        Integer(50, 1000, name='n_estimators')\n",
    "    ]\n",
    "    \n",
    "    @use_named_args(space)\n",
    "    def objective_f(ccp_alpha: float, max_features: float,\n",
    "                    max_samples: float, n_estimators: int) -> float:\n",
    "        test_cls = RandomForestClassifier(\n",
    "            min_samples_leaf=5, n_estimators=n_estimators,\n",
    "            random_state=42, verbose=True, n_jobs=-1,\n",
    "            ccp_alpha=ccp_alpha, oob_score=True, bootstrap=True,\n",
    "            max_samples=max_samples, max_features=max_features,\n",
    "        )\n",
    "        test_cls.fit(X, y)\n",
    "        nd = len(test_cls.oob_decision_function_.shape)\n",
    "        if nd != 2:\n",
    "            err_msg = f'`oob_decision_function_` is wrong! ' \\\n",
    "                      f'Expected 2-D array, got {nd}-D one!'\n",
    "            raise ValueError(err_msg)\n",
    "        filtered = list(\n",
    "            filter(\n",
    "                lambda idx: not any(np.isnan(\n",
    "                    test_cls.oob_decision_function_[idx]\n",
    "                )),\n",
    "                range(y.shape[0])\n",
    "            )\n",
    "        )\n",
    "        info_msg = f'OOB score is estimated using {len(filtered)} ' \\\n",
    "                   f'samples from {y.shape[0]}.'\n",
    "        print(info_msg)\n",
    "        if len(filtered) < 3:\n",
    "            err_msg = 'OOB score cannot be estimated!'\n",
    "            raise ValueError(err_msg)\n",
    "        quality = f1_score(\n",
    "            y_true=y[filtered],\n",
    "            y_pred=np.argmax(test_cls.oob_decision_function_[filtered],\n",
    "                             axis=-1),\n",
    "            average='macro'\n",
    "        )\n",
    "        return -quality\n",
    "    \n",
    "    res_gp = gp_minimize(\n",
    "        objective_f, space,\n",
    "        n_calls=32, n_random_starts=8,\n",
    "        n_restarts_optimizer=4, random_state=42,\n",
    "        verbose=True, n_jobs=1\n",
    "    )\n",
    "    best_parameters = {\n",
    "        'ccp_alpha': float(res_gp.x[0]),\n",
    "        'max_features': float(res_gp.x[1]),\n",
    "        'max_samples': float(res_gp.x[2]),\n",
    "        'n_estimators': int(res_gp.x[3]),\n",
    "    }\n",
    "    print(f'Best parameters are: {best_parameters}')\n",
    "    final_cls = RandomForestClassifier(\n",
    "        min_samples_leaf=5, random_state=42, verbose=True, n_jobs=-1,\n",
    "        oob_score=True, bootstrap=True,\n",
    "        ccp_alpha=best_parameters['ccp_alpha'],\n",
    "        n_estimators=best_parameters['n_estimators'],\n",
    "        max_samples=best_parameters['max_samples'],\n",
    "        max_features=best_parameters['max_features'],\n",
    "    )\n",
    "    final_cls.fit(X, y)\n",
    "    return final_cls"
   ]
  },
  {
   "cell_type": "code",
   "execution_count": 6,
   "metadata": {
    "id": "fy9Vu2fiQ3VN"
   },
   "outputs": [],
   "source": [
    "def build_preprocessor(X: np.ndarray, colnames: List[str]) -> Tuple[Pipeline, List[str], \\\n",
    "                                                                    List[int]]:\n",
    "    X_ = Pipeline(steps=[\n",
    "        (\n",
    "            'imputer', SimpleImputer(\n",
    "                missing_values=np.nan, strategy='constant',\n",
    "                fill_value=-1.0\n",
    "            )\n",
    "        ),\n",
    "        (\n",
    "            'scaler',\n",
    "            MinMaxScaler()\n",
    "        )\n",
    "    ]).fit_transform(X)\n",
    "    X_ = np.rint(X_ * 100000.0).astype(np.int32)\n",
    "    binary_features = dict()\n",
    "    categorical_features = dict()\n",
    "    removed_features = []\n",
    "    for col_idx in range(X.shape[1]):\n",
    "        values = set(X_[:, col_idx].tolist())\n",
    "        print(f'Column {col_idx} \"{colnames[col_idx]}\" has ' \\\n",
    "              f'{len(values)} unique values.')\n",
    "        if len(values) > 1:\n",
    "            if len(values) < 3:\n",
    "                binary_features[col_idx] = np.min(X[:, col_idx])\n",
    "            else:\n",
    "                categorical_features[col_idx] = len(values)\n",
    "        else:\n",
    "            removed_features.append(col_idx)\n",
    "        del values\n",
    "    del X_\n",
    "    all_features = set(range(X.shape[1]))\n",
    "    useful_features = sorted(list(all_features - set(removed_features)))\n",
    "    if len(useful_features) == 0:\n",
    "        raise ValueError('Training inputs are bad. All features are removed.')\n",
    "    print(f'There are {X.shape[1]} features.')\n",
    "    if len(removed_features) > 0:\n",
    "        print(f'These features will be removed: ' \\\n",
    "              f'{[colnames[col_idx] for col_idx in removed_features]}.')\n",
    "    transformers = []\n",
    "    if (len(categorical_features) > 0) and (len(binary_features) > 0):\n",
    "        print(f'There are {len(categorical_features)} categorical ' \\\n",
    "              f'features and {len(binary_features)} binary features.')\n",
    "    elif len(categorical_features) > 0:\n",
    "        print(f'There are {len(categorical_features)} categorical features.')\n",
    "    else:\n",
    "        print(f'There are {len(binary_features)} binary features.')\n",
    "    source_features = []\n",
    "    for col_idx in categorical_features:\n",
    "        n_unique_values = categorical_features[col_idx]\n",
    "        transformers.append(\n",
    "            (\n",
    "                colnames[col_idx],\n",
    "                KBinsDiscretizer(\n",
    "                    n_bins=min(max(n_unique_values // 3, 3), 256),\n",
    "                    encode='ordinal',\n",
    "                    strategy=('quantile' if n_unique_values > 50 else 'kmeans')\n",
    "                ),\n",
    "                (col_idx,)\n",
    "            )\n",
    "        )\n",
    "        source_features.append(colnames[col_idx])\n",
    "    for col_idx in binary_features:\n",
    "        transformers.append(\n",
    "            (\n",
    "                colnames[col_idx],\n",
    "                Binarizer(threshold=0.0),\n",
    "                (col_idx,)\n",
    "            )\n",
    "        )\n",
    "        source_features.append(colnames[col_idx])\n",
    "    preprocessor = Pipeline(steps=[\n",
    "        (\n",
    "            'imputer', SimpleImputer(\n",
    "                missing_values=np.nan, strategy='constant',\n",
    "                fill_value=-1.0\n",
    "            )\n",
    "        ),\n",
    "        (\n",
    "            'minmax_scaler',\n",
    "            MinMaxScaler()\n",
    "        ),\n",
    "        (\n",
    "            'composite_transformer', ColumnTransformer(\n",
    "                transformers=transformers,\n",
    "                sparse_threshold=0.0,\n",
    "                n_jobs=1\n",
    "            )\n",
    "        ),\n",
    "        (\n",
    "            'selector',\n",
    "            VarianceThreshold()\n",
    "        )\n",
    "    ])\n",
    "    preprocessor.fit(X)\n",
    "    mask = preprocessor.named_steps['selector'].get_support(indices=False)\n",
    "    assert len(mask) == len(source_features)\n",
    "    selected_features = list(map(\n",
    "        lambda idx2: source_features[idx2],\n",
    "        filter(lambda idx1: mask[idx1], range(len(mask)))\n",
    "    ))\n",
    "    X_trans = preprocessor.transform(X)\n",
    "    assert X_trans.shape[1] == len(selected_features)\n",
    "    unique_values_list = []\n",
    "    for ft_idx in range(X_trans.shape[1]):\n",
    "        unique_values = set(map(lambda it: int(it), X_trans[:, ft_idx].tolist()))\n",
    "        n_unique_values = len(unique_values)\n",
    "        assert n_unique_values > 1\n",
    "        unique_values_list.append(n_unique_values)\n",
    "    return preprocessor, selected_features, unique_values_list"
   ]
  },
  {
   "cell_type": "code",
   "execution_count": 7,
   "metadata": {
    "id": "8BZI96xER4Rj"
   },
   "outputs": [],
   "source": [
    "def build_normalizer(X: np.ndarray) -> Pipeline:\n",
    "    normalizer = Pipeline(steps=[\n",
    "        (\n",
    "            'imputer',\n",
    "            SimpleImputer(missing_values=np.nan, strategy='mean')\n",
    "        ),\n",
    "        (\n",
    "            'standard_scaler',\n",
    "            StandardScaler(with_mean=True, with_std=True)\n",
    "        ),\n",
    "        (\n",
    "            'pca',\n",
    "            PCA(random_state=42)\n",
    "        )\n",
    "    ])\n",
    "    return normalizer.fit(X)"
   ]
  },
  {
   "cell_type": "code",
   "execution_count": 8,
   "metadata": {
    "id": "9yTdSjxYT6B1"
   },
   "outputs": [],
   "source": [
    "def build_neural_network(features: List[int], n_classes: int,\n",
    "                         n_latent: int, n_hidden: int, depth: int,\n",
    "                         dropout_rate: float,\n",
    "                         nn_name: str) -> Tuple[tf.keras.Model, tf.keras.Model, \\\n",
    "                                                tf.keras.Model]:\n",
    "    if n_hidden < 1:\n",
    "        err_msg = f'The hidde layer size = {n_hidden} is too small!'\n",
    "    binary_ft_indices = set()\n",
    "    for ft_idx, ft_size in enumerate(features):\n",
    "        if ft_size < 2:\n",
    "            err_msg = f'Feature {ft_idx} unique values quanity = {ft_size} is too small!'\n",
    "            raise ValueError(err_msg)\n",
    "        if ft_size == 2:\n",
    "            binary_ft_indices.add(ft_idx)\n",
    "    if (len(binary_ft_indices) > 0) and (len(binary_ft_indices) < len(features)):\n",
    "        info_msg = f'There are {len(binary_ft_indices)} binary features and ' \\\n",
    "                   f'{len(features) - len(binary_ft_indices)} categorical features.'\n",
    "    elif len(binary_ft_indices) > 0:\n",
    "        info_msg = f'There are {len(binary_ft_indices)} binary features.'\n",
    "    else:\n",
    "        info_msg = f'There are {len(features)} categorical features.'\n",
    "    print(info_msg)\n",
    "    feature_vector = tf.keras.layers.Input(\n",
    "        shape=(len(features),), dtype=tf.float32,\n",
    "        name=f'{nn_name}_feature_vector'\n",
    "    )\n",
    "    encoder_layer = tf.keras.layers.AlphaDropout(\n",
    "        rate=dropout_rate,\n",
    "        seed=random.randint(0, 2147483647),\n",
    "        name=f'{nn_name}_enc_dropout1'\n",
    "    )(feature_vector)\n",
    "    try:\n",
    "        kernel_initializer = tf.keras.initializers.LecunNormal(\n",
    "            seed=random.randint(0, 2147483647)\n",
    "        )\n",
    "    except:\n",
    "        kernel_initializer = tf.compat.v1.keras.initializers.lecun_normal(\n",
    "            seed=random.randint(0, 2147483647)\n",
    "        )\n",
    "    encoder_layer = tf.keras.layers.Dense(\n",
    "        units=n_hidden,\n",
    "        activation='selu',\n",
    "        kernel_initializer=kernel_initializer,\n",
    "        bias_initializer='zeros',\n",
    "        name=f'{nn_name}_enc_dense1'\n",
    "    )(encoder_layer)\n",
    "    for layer_idx in range(1, depth):\n",
    "        encoder_layer = tf.keras.layers.AlphaDropout(\n",
    "            rate=dropout_rate,\n",
    "            seed=random.randint(0, 2147483647),\n",
    "            name=f'{nn_name}_enc_dropout{layer_idx + 1}'\n",
    "        )(encoder_layer)\n",
    "        try:\n",
    "            kernel_initializer = tf.keras.initializers.LecunNormal(\n",
    "                seed=random.randint(0, 2147483647)\n",
    "            )\n",
    "        except:\n",
    "            kernel_initializer = tf.compat.v1.keras.initializers.lecun_normal(\n",
    "                seed=random.randint(0, 2147483647)\n",
    "            )\n",
    "        encoder_layer = tf.keras.layers.Dense(\n",
    "            units=n_hidden,\n",
    "            activation='selu',\n",
    "            kernel_initializer=kernel_initializer,\n",
    "            bias_initializer='zeros',\n",
    "            name=f'{nn_name}_enc_dense{layer_idx + 1}'\n",
    "        )(encoder_layer)\n",
    "    prior = tfp.distributions.Independent(\n",
    "        distribution=tfp.distributions.Normal(\n",
    "            loc=tf.zeros(n_latent),\n",
    "            scale=1\n",
    "        ),\n",
    "        reinterpreted_batch_ndims=1\n",
    "    )\n",
    "    try:\n",
    "        kernel_initializer = tf.keras.initializers.LecunNormal(\n",
    "            seed=random.randint(0, 2147483647)\n",
    "        )\n",
    "    except:\n",
    "        kernel_initializer = tf.compat.v1.keras.initializers.lecun_normal(\n",
    "            seed=random.randint(0, 2147483647)\n",
    "        )\n",
    "    latent_layer = tf.keras.layers.Dense(\n",
    "        units=tfp.layers.IndependentNormal.params_size(n_latent),\n",
    "        activation=None,\n",
    "        kernel_initializer=kernel_initializer,\n",
    "        bias_initializer='zeros',\n",
    "        name=f'{nn_name}_latent'\n",
    "    )(encoder_layer)\n",
    "    z = tfp.layers.IndependentNormal(\n",
    "        event_shape=n_latent,\n",
    "        convert_to_tensor_fn=tfp.distributions.Distribution.sample,\n",
    "        activity_regularizer=tfp.layers.KLDivergenceRegularizer(\n",
    "            distribution_b=prior,\n",
    "            weight=1e-3\n",
    "        ),\n",
    "        name=f'{nn_name}_z'\n",
    "    )(latent_layer)\n",
    "    classifier_input = tf.keras.layers.Input(\n",
    "        shape=(n_latent,), dtype=tf.float32,\n",
    "        name=f'{nn_name}_feature_vector'\n",
    "    )\n",
    "    try:\n",
    "        kernel_initializer = tf.keras.initializers.LecunNormal(\n",
    "            seed=random.randint(0, 2147483647)\n",
    "        )\n",
    "    except:\n",
    "        kernel_initializer = tf.compat.v1.keras.initializers.lecun_normal(\n",
    "            seed=random.randint(0, 2147483647)\n",
    "        )\n",
    "    hidden_layer = tf.keras.layers.Dense(\n",
    "        units=n_hidden,\n",
    "        activation='selu',\n",
    "        kernel_initializer=kernel_initializer,\n",
    "        bias_initializer='zeros',\n",
    "        name=f'{nn_name}_cls_hidden'\n",
    "    )(classifier_input)\n",
    "    hidden_layer = tf.keras.layers.AlphaDropout(\n",
    "        rate=dropout_rate,\n",
    "        seed=random.randint(0, 2147483647),\n",
    "        name=f'{nn_name}_cls_dropout'\n",
    "    )(hidden_layer)\n",
    "    cls_layer = tf.keras.layers.Dense(\n",
    "        units=n_classes,\n",
    "        activation='softmax',\n",
    "        kernel_initializer=kernel_initializer,\n",
    "        bias_initializer='zeros',\n",
    "        name=f'{nn_name}_cls_output'\n",
    "    )(hidden_layer)\n",
    "    cls_name = f'{nn_name}_cls'\n",
    "    cls_model = tf.keras.Model(\n",
    "        inputs=classifier_input,\n",
    "        outputs=cls_layer,\n",
    "        name=cls_name\n",
    "    )\n",
    "    cls_model.build(input_shape=[None, n_latent])\n",
    "    decoder_layer = tf.keras.layers.AlphaDropout(\n",
    "        rate=dropout_rate,\n",
    "        seed=random.randint(0, 2147483647),\n",
    "        name=f'{nn_name}_dec_dropout1'\n",
    "    )(z)\n",
    "    try:\n",
    "        kernel_initializer = tf.keras.initializers.LecunNormal(\n",
    "            seed=random.randint(0, 2147483647)\n",
    "        )\n",
    "    except:\n",
    "        kernel_initializer = tf.compat.v1.keras.initializers.lecun_normal(\n",
    "            seed=random.randint(0, 2147483647)\n",
    "        )\n",
    "    decoder_layer = tf.keras.layers.Dense(\n",
    "        units=n_hidden,\n",
    "        activation='selu',\n",
    "        kernel_initializer=kernel_initializer,\n",
    "        bias_initializer='zeros',\n",
    "        name=f'{nn_name}_dec_dense1'\n",
    "    )(decoder_layer)\n",
    "    for layer_idx in range(1, depth):\n",
    "        decoder_layer = tf.keras.layers.AlphaDropout(\n",
    "            rate=dropout_rate,\n",
    "            seed=random.randint(0, 2147483647),\n",
    "            name=f'{nn_name}_dec_dropout{layer_idx + 1}'\n",
    "        )(decoder_layer)\n",
    "        try:\n",
    "            kernel_initializer = tf.keras.initializers.LecunNormal(\n",
    "                seed=random.randint(0, 2147483647)\n",
    "            )\n",
    "        except:\n",
    "            kernel_initializer = tf.compat.v1.keras.initializers.lecun_normal(\n",
    "                seed=random.randint(0, 2147483647)\n",
    "            )\n",
    "        decoder_layer = tf.keras.layers.Dense(\n",
    "            units=n_hidden,\n",
    "            activation='selu',\n",
    "            kernel_initializer=kernel_initializer,\n",
    "            bias_initializer='zeros',\n",
    "            name=f'{nn_name}_dec_dense{layer_idx + 1}'\n",
    "        )(decoder_layer)\n",
    "    reconstruction_layers = []\n",
    "    reconstruction_names = []\n",
    "    if len(binary_ft_indices) > 0:\n",
    "        try:\n",
    "            kernel_initializer = tf.keras.initializers.LecunNormal(\n",
    "                seed=random.randint(0, 2147483647)\n",
    "            )\n",
    "        except:\n",
    "            kernel_initializer = tf.compat.v1.keras.initializers.lecun_normal(\n",
    "                seed=random.randint(0, 2147483647)\n",
    "            )\n",
    "        new_reconstruction_layer = tf.keras.layers.Dense(\n",
    "            units=len(binary_ft_indices),\n",
    "            activation=None,\n",
    "            kernel_initializer=kernel_initializer,\n",
    "            bias_initializer='zeros',\n",
    "            name=f'{nn_name}_rec_binary'\n",
    "        )(decoder_layer)\n",
    "        new_reconstruction_name = f'{nn_name}_bernoulli'\n",
    "        new_reconstruction_layer = tfp.layers.IndependentBernoulli(\n",
    "            event_shape=len(binary_ft_indices),\n",
    "            convert_to_tensor_fn=tfp.distributions.Bernoulli.logits,\n",
    "            name=new_reconstruction_name\n",
    "        )(new_reconstruction_layer)\n",
    "        reconstruction_layers.append(new_reconstruction_layer)\n",
    "        reconstruction_names.append(new_reconstruction_name)\n",
    "    counter = 1\n",
    "    for ft_idx, ft_size in enumerate(features):\n",
    "        if ft_size > 2:\n",
    "            try:\n",
    "                kernel_initializer = tf.keras.initializers.LecunNormal(\n",
    "                    seed=random.randint(0, 2147483647)\n",
    "                )\n",
    "            except:\n",
    "                kernel_initializer = tf.compat.v1.keras.initializers.lecun_normal(\n",
    "                    seed=random.randint(0, 2147483647)\n",
    "                )\n",
    "            new_reconstruction_layer = tf.keras.layers.Dense(\n",
    "                units=ft_size,\n",
    "                activation=None,\n",
    "                kernel_initializer=kernel_initializer,\n",
    "                bias_initializer='zeros',\n",
    "                name=f'{nn_name}_rec_cat{counter}'\n",
    "            )(decoder_layer)\n",
    "            new_reconstruction_name = f'{nn_name}_categorical{counter}'\n",
    "            new_reconstruction_layer = tfp.layers.OneHotCategorical(\n",
    "                event_size=ft_size,\n",
    "                convert_to_tensor_fn=tfp.distributions.OneHotCategorical.logits,\n",
    "                name=new_reconstruction_name\n",
    "            )(new_reconstruction_layer)\n",
    "            reconstruction_layers.append(new_reconstruction_layer)\n",
    "            reconstruction_names.append(new_reconstruction_name)\n",
    "            counter += 1\n",
    "    encoder_model = tf.keras.Model(\n",
    "        inputs=feature_vector,\n",
    "        outputs=z,\n",
    "        name=f'{nn_name}_enc'\n",
    "    )\n",
    "    united_model = tf.keras.Model(\n",
    "        inputs=feature_vector,\n",
    "        outputs=[cls_model(z)] + reconstruction_layers,\n",
    "        name=f'{nn_name}_vae'\n",
    "    )\n",
    "    encoder_model.build(input_shape=[None, len(features)])\n",
    "    metrics = {cls_name: [tf.keras.metrics.CategoricalAccuracy()]}\n",
    "    negloglik = lambda y, rv_y: -rv_y.log_prob(y)\n",
    "    losses = {\n",
    "        cls_name: tf.keras.losses.CategoricalCrossentropy(label_smoothing=0.05)\n",
    "    }\n",
    "    loss_weights = {\n",
    "        cls_name: 1.0\n",
    "    }\n",
    "    for cur_name in reconstruction_names:\n",
    "        losses[cur_name] = negloglik\n",
    "        loss_weights[cur_name] = 1.5\n",
    "    radam = tfa.optimizers.RectifiedAdam(learning_rate=1e-3)\n",
    "    ranger = tfa.optimizers.Lookahead(radam, sync_period=6, slow_step_size=0.5)\n",
    "    united_model.compile(optimizer=ranger, loss=losses, loss_weights=loss_weights,\n",
    "                         metrics=metrics)\n",
    "    return united_model, encoder_model, cls_model"
   ]
  },
  {
   "cell_type": "code",
   "execution_count": 9,
   "metadata": {
    "id": "T9Vd3cA0pCX7"
   },
   "outputs": [],
   "source": [
    "def calculate_projections(X: np.ndarray, encoder: tf.keras.Model,\n",
    "                          n_samples: int, batch_size: int) -> List[np.ndarray]:\n",
    "    assert n_samples > 0\n",
    "    n_batches = int(np.ceil(X.shape[0] / float(batch_size)))\n",
    "    projections = [[] for _ in range(n_samples)]\n",
    "    for batch_idx in tqdm(list(range(n_batches))):\n",
    "        batch_start = batch_idx * batch_size\n",
    "        batch_end = min(X.shape[0], batch_start + batch_size)\n",
    "        distr = encoder(X[batch_start:batch_end])\n",
    "        assert isinstance(distr, tfp.distributions.Distribution)\n",
    "        if n_samples > 1:\n",
    "            y_inst = distr.sample()\n",
    "            if not isinstance(y_inst, np.ndarray):\n",
    "                y_inst = y_inst.numpy()\n",
    "            assert len(y_inst.shape) == 2\n",
    "            projections[0].append(y_inst)\n",
    "            del y_inst\n",
    "            for prj_idx in range(1, n_samples):\n",
    "                y_inst = distr.sample()\n",
    "                if not isinstance(y_inst, np.ndarray):\n",
    "                    y_inst = y_inst.numpy()\n",
    "                assert len(y_inst.shape) == 2\n",
    "                projections[prj_idx].append(y_inst)\n",
    "                del y_inst\n",
    "        else:\n",
    "            y_inst = distr.mean()\n",
    "            if not isinstance(y_inst, np.ndarray):\n",
    "                y_inst = y_inst.numpy()\n",
    "            assert len(y_inst.shape) == 2\n",
    "            projections[0].append(y_inst)\n",
    "            del y_inst\n",
    "        del distr\n",
    "    return [np.vstack(cur) for cur in projections]"
   ]
  },
  {
   "cell_type": "code",
   "execution_count": 10,
   "metadata": {
    "id": "Pght_Ba0oy52"
   },
   "outputs": [],
   "source": [
    "def predict_proba(X: np.ndarray, encoder: tf.keras.Model, classifier: tf.keras.Model,\n",
    "                  n_samples: int, batch_size: int) -> np.ndarray:\n",
    "    projections = calculate_projections(X, encoder, n_samples, batch_size)\n",
    "    y = classifier.predict(projections[0], batch_size=batch_size)\n",
    "    assert len(y.shape) == 2\n",
    "    if n_samples > 1:\n",
    "        for prj_idx in range(1, n_samples):\n",
    "            y += classifier.predict(projections[prj_idx], batch_size=batch_size)\n",
    "    proba = y.astype(np.float64) / float(n_samples)\n",
    "    return proba / np.sum(proba, axis=1, keepdims=True)"
   ]
  },
  {
   "cell_type": "code",
   "execution_count": 11,
   "metadata": {
    "id": "QbRSZHmWtj_t"
   },
   "outputs": [],
   "source": [
    "class TrainsetGenerator(tf.keras.utils.Sequence):\n",
    "    def __init__(self, x_src: np.ndarray, x_norm: np.ndarray, y: np.ndarray,\n",
    "                 n_classes: int, batch_size: int, features: List[int]):\n",
    "        self.x_src, self.x_norm, self.y = x_src, x_norm, y\n",
    "        self.batch_size = batch_size\n",
    "        self.features = features\n",
    "        self.n_classes = n_classes\n",
    "        self.indices_ = np.array(list(range(self.x_src.shape[0])), dtype=np.int32)\n",
    "        self.binary_feature_list_ = []\n",
    "        self.cat_feature_list_ = []\n",
    "        for ft_idx, ft_size in enumerate(self.features):\n",
    "            if ft_size < 2:\n",
    "                err_msg = f'Feature {ft_idx} unique values quanity = {ft_size} ' \\\n",
    "                          f'is too small!'\n",
    "                raise ValueError(err_msg)\n",
    "            if ft_size == 2:\n",
    "                self.binary_feature_list_.append(ft_idx)\n",
    "            else:\n",
    "                self.cat_feature_list_.append(ft_idx)\n",
    "        self.class_distr_ = dict()\n",
    "        for sample_idx, class_idx in enumerate(y.tolist()):\n",
    "            if class_idx in self.class_distr_:\n",
    "                self.class_distr_[class_idx].append(sample_idx)\n",
    "            else:\n",
    "                self.class_distr_[class_idx] = [sample_idx]\n",
    "        for class_idx in self.class_distr_:\n",
    "            self.class_distr_[class_idx] = np.array(self.class_distr_[class_idx],\n",
    "                                                    dtype=np.int32)\n",
    "        assert len(self.x_src.shape) == 2\n",
    "        assert self.x_src.shape[0] > self.batch_size\n",
    "        assert self.x_norm.shape == self.x_src.shape\n",
    "        assert len(self.y.shape) == 1\n",
    "        assert self.y.shape[0] == self.x_src.shape[0]\n",
    "        assert self.x_src.shape[1] == len(self.features)\n",
    "    \n",
    "    def __len__(self):\n",
    "        return int(np.ceil(self.x_src.shape[0] / float(self.batch_size)))\n",
    "    \n",
    "    def __getitem__(self, batch_idx: int):\n",
    "        batch_indices = []\n",
    "        selected_classes = sorted(list(self.class_distr_.keys()))\n",
    "        if self.batch_size < len(selected_classes):\n",
    "            selected_classes = random.sample(selected_classes, self.batch_size)\n",
    "        for counter, class_idx in enumerate(selected_classes):\n",
    "            n = int(round(\n",
    "                (self.batch_size - len(batch_indices)) / \n",
    "                (len(selected_classes) - counter)\n",
    "            ))\n",
    "            batch_indices += np.random.choice(\n",
    "                a=self.class_distr_[class_idx],\n",
    "                size=n\n",
    "            ).tolist()\n",
    "        X_batch = np.empty((len(batch_indices), len(self.features)), dtype=np.float32)\n",
    "        y_batch = [\n",
    "            np.zeros((len(batch_indices), self.n_classes), dtype=np.float32),\n",
    "        ]\n",
    "        if len(self.binary_feature_list_) > 0:\n",
    "            y_batch.append(\n",
    "                np.zeros(\n",
    "                    (len(batch_indices), len(self.binary_feature_list_)),\n",
    "                    dtype=np.float32\n",
    "                )\n",
    "            )\n",
    "        for ft_idx in self.cat_feature_list_:\n",
    "            y_batch.append(\n",
    "                np.zeros(\n",
    "                    (len(batch_indices), self.features[ft_idx]),\n",
    "                    dtype=np.float32\n",
    "                )\n",
    "            )\n",
    "        for idx, sample_idx in enumerate(batch_indices):\n",
    "            X_batch[idx] = self.x_norm[sample_idx]\n",
    "            class_idx = self.y[sample_idx]\n",
    "            y_batch[0][idx, class_idx] = 1.0\n",
    "            counter = 1\n",
    "            if len(self.binary_feature_list_) > 0:\n",
    "                for col_idx, ft_idx in enumerate(self.binary_feature_list_):\n",
    "                    class_idx = int(self.x_src[sample_idx, ft_idx])\n",
    "                    if class_idx > 0:\n",
    "                        y_batch[1][idx, col_idx] = 1.0\n",
    "                counter += 1\n",
    "            for ft_idx in self.cat_feature_list_:\n",
    "                class_idx = int(self.x_src[sample_idx, ft_idx])\n",
    "                y_batch[counter][idx, class_idx] = 1.0\n",
    "                counter += 1\n",
    "        return X_batch, y_batch"
   ]
  },
  {
   "cell_type": "code",
   "execution_count": 12,
   "metadata": {
    "id": "Ct0xUl_IwHgF"
   },
   "outputs": [],
   "source": [
    "class ValidsetGenerator(tf.keras.utils.Sequence):\n",
    "    def __init__(self, x_src: np.ndarray, x_norm: np.ndarray, y: np.ndarray,\n",
    "                 n_classes: int, batch_size: int, features: List[int]):\n",
    "        self.x_src, self.x_norm, self.y = x_src, x_norm, y\n",
    "        self.batch_size = batch_size\n",
    "        self.features = features\n",
    "        self.n_classes = n_classes\n",
    "        self.indices_ = np.array(list(range(self.x_src.shape[0])), dtype=np.int32)\n",
    "        self.binary_feature_list_ = []\n",
    "        self.cat_feature_list_ = []\n",
    "        for ft_idx, ft_size in enumerate(self.features):\n",
    "            if ft_size < 2:\n",
    "                err_msg = f'Feature {ft_idx} unique values quanity = {ft_size} ' \\\n",
    "                          f'is too small!'\n",
    "                raise ValueError(err_msg)\n",
    "            if ft_size == 2:\n",
    "                self.binary_feature_list_.append(ft_idx)\n",
    "            else:\n",
    "                self.cat_feature_list_.append(ft_idx)\n",
    "        assert len(self.x_src.shape) == 2\n",
    "        assert self.x_src.shape[0] > self.batch_size\n",
    "        assert self.x_norm.shape == self.x_src.shape\n",
    "        assert len(self.y.shape) == 1\n",
    "        assert self.y.shape[0] == self.x_src.shape[0]\n",
    "        assert self.x_src.shape[1] == len(self.features)\n",
    "    \n",
    "    def __len__(self):\n",
    "        return int(np.ceil(self.x_src.shape[0] / float(self.batch_size)))\n",
    "    \n",
    "    def __getitem__(self, batch_idx: int):\n",
    "        batch_start = batch_idx * self.batch_size\n",
    "        batch_end = min(batch_start + self.batch_size, self.x_src.shape[0])\n",
    "        batch_indices = list(range(batch_start, batch_end))\n",
    "        X_batch = np.empty((len(batch_indices), len(self.features)), dtype=np.float32)\n",
    "        y_batch = [\n",
    "            np.zeros((len(batch_indices), self.n_classes), dtype=np.float32),\n",
    "        ]\n",
    "        if len(self.binary_feature_list_) > 0:\n",
    "            y_batch.append(\n",
    "                np.zeros(\n",
    "                    (len(batch_indices), len(self.binary_feature_list_)),\n",
    "                    dtype=np.float32\n",
    "                )\n",
    "            )\n",
    "        for ft_idx in self.cat_feature_list_:\n",
    "            y_batch.append(\n",
    "                np.zeros(\n",
    "                    (len(batch_indices), self.features[ft_idx]),\n",
    "                    dtype=np.float32\n",
    "                )\n",
    "            )\n",
    "        for idx, sample_idx in enumerate(batch_indices):\n",
    "            X_batch[idx] = self.x_norm[sample_idx]\n",
    "            class_idx = self.y[sample_idx]\n",
    "            y_batch[0][idx, class_idx] = 1.0\n",
    "            counter = 1\n",
    "            if len(self.binary_feature_list_) > 0:\n",
    "                for col_idx, ft_idx in enumerate(self.binary_feature_list_):\n",
    "                    class_idx = int(self.x_src[sample_idx, ft_idx])\n",
    "                    if class_idx > 0:\n",
    "                        y_batch[1][idx, col_idx] = 1.0\n",
    "                counter += 1\n",
    "            for ft_idx in self.cat_feature_list_:\n",
    "                class_idx = int(self.x_src[sample_idx, ft_idx])\n",
    "                y_batch[counter][idx, class_idx] = 1.0\n",
    "                counter += 1\n",
    "        return X_batch, y_batch"
   ]
  },
  {
   "cell_type": "code",
   "execution_count": 13,
   "metadata": {
    "id": "XySEOAZv6PA3"
   },
   "outputs": [],
   "source": [
    "def show_training_process(history: tf.keras.callbacks.History, metric_name: str,\n",
    "                          figure_id: int=1, comment: str=''):\n",
    "    val_metric_name = 'val_' + metric_name\n",
    "    if metric_name not in history.history:\n",
    "        err_msg = f'The metric \"{metric_name}\" is not found! Available metrics are: ' \\\n",
    "                  f'{list(history.history.keys())}.'\n",
    "        raise ValueError(err_msg)\n",
    "    plt.figure(figure_id, figsize=(5, 5))\n",
    "    interesting_metric = history.history[metric_name]\n",
    "    plt.plot(list(range(len(interesting_metric))), interesting_metric,\n",
    "             label=f'Training {metric_name}')\n",
    "    if val_metric_name in history.history:\n",
    "        interesting_val_metric = history.history[val_metric_name]\n",
    "        assert len(interesting_metric) == len(interesting_val_metric)\n",
    "        plt.plot(list(range(len(interesting_val_metric))),\n",
    "                 interesting_val_metric,\n",
    "                 label=f'Validation {metric_name}')\n",
    "    plt.xlabel('Epochs')\n",
    "    plt.ylabel(metric_name)\n",
    "    if len(comment) > 0:\n",
    "        plt.title(f'Training process of {comment}')\n",
    "    else:\n",
    "        plt.title('Training process')\n",
    "    plt.legend(loc='best')\n",
    "    plt.show()"
   ]
  },
  {
   "cell_type": "code",
   "execution_count": 14,
   "metadata": {
    "id": "3-HMveIH1kGs"
   },
   "outputs": [],
   "source": [
    "random.seed(42)\n",
    "np.random.seed(42)\n",
    "tf.random.set_seed(42)"
   ]
  },
  {
   "cell_type": "code",
   "execution_count": 15,
   "metadata": {
    "id": "sFy1uxbg33tm"
   },
   "outputs": [],
   "source": [
    "MINIBATCH_SIZE_FOR_TRAINING = 4096\n",
    "MINIBATCH_SIZE_FOR_INFERENCE = 32\n",
    "MAX_TRAINING_EPOCHS = 1000\n",
    "ES_PATIENCE = 20"
   ]
  },
  {
   "cell_type": "code",
   "execution_count": 16,
   "metadata": {
    "colab": {
     "base_uri": "https://localhost:8080/",
     "height": 450
    },
    "id": "Bj8e6qC11X2d",
    "outputId": "c02f6d0d-10f8-40cd-b711-8e007493b13f"
   },
   "outputs": [],
   "source": [
    "dataset = fetch_covtype(return_X_y=False, random_state=42, shuffle=True)"
   ]
  },
  {
   "cell_type": "code",
   "execution_count": 17,
   "metadata": {
    "id": "2yHzxi3_AVrP"
   },
   "outputs": [],
   "source": [
    "classes_dict = dict()\n",
    "for val in dataset.target.tolist():\n",
    "    if val not in classes_dict:\n",
    "        classes_dict[val] = len(classes_dict)"
   ]
  },
  {
   "cell_type": "code",
   "execution_count": 18,
   "metadata": {
    "id": "Wd2kWW202JXe"
   },
   "outputs": [
    {
     "name": "stdout",
     "output_type": "stream",
     "text": [
      "X.shape = (581012, 54)\n",
      "y.shape = (581012,)\n",
      "Number of classes is 7.\n"
     ]
    }
   ],
   "source": [
    "print(f'X.shape = {dataset.data.shape}')\n",
    "print(f'y.shape = {dataset.target.shape}')\n",
    "print(f'Number of classes is {len(classes_dict)}.')"
   ]
  },
  {
   "cell_type": "code",
   "execution_count": 19,
   "metadata": {
    "id": "_zquwHNA2TNm"
   },
   "outputs": [],
   "source": [
    "X_train, X_test, y_train, y_test = train_test_split(\n",
    "    dataset.data,\n",
    "    np.array([classes_dict[val] for val in dataset.target.tolist()], dtype=np.int32),\n",
    "    test_size=0.05, stratify=dataset.target, random_state=42\n",
    ")"
   ]
  },
  {
   "cell_type": "code",
   "execution_count": 20,
   "metadata": {
    "id": "CGNgEIwD26fc"
   },
   "outputs": [],
   "source": [
    "X_train, X_valid, y_train, y_valid = train_test_split(\n",
    "    X_train,\n",
    "    y_train,\n",
    "    test_size=0.05, stratify=y_train, random_state=42\n",
    ")"
   ]
  },
  {
   "cell_type": "code",
   "execution_count": 21,
   "metadata": {
    "id": "e9k-dk272i3F"
   },
   "outputs": [
    {
     "name": "stdout",
     "output_type": "stream",
     "text": [
      "X_train.shape = (524362, 54)\n",
      "y_train.shape = (524362,)\n",
      "Number of classes is 7.\n"
     ]
    }
   ],
   "source": [
    "print(f'X_train.shape = {X_train.shape}')\n",
    "print(f'y_train.shape = {y_train.shape}')\n",
    "number_of_classes_for_training = len(set(map(lambda it: int(it), y_train.tolist())))\n",
    "print(f'Number of classes is {number_of_classes_for_training}.')"
   ]
  },
  {
   "cell_type": "code",
   "execution_count": 22,
   "metadata": {
    "id": "ueqb35hi2zJ0"
   },
   "outputs": [
    {
     "name": "stdout",
     "output_type": "stream",
     "text": [
      "X_valid.shape = (27599, 54)\n",
      "y_valid.shape = (27599,)\n",
      "Number of classes is 7.\n"
     ]
    }
   ],
   "source": [
    "print(f'X_valid.shape = {X_valid.shape}')\n",
    "print(f'y_valid.shape = {y_valid.shape}')\n",
    "number_of_classes_for_validation = len(set(map(lambda it: int(it), y_valid.tolist())))\n",
    "print(f'Number of classes is {number_of_classes_for_validation}.')"
   ]
  },
  {
   "cell_type": "code",
   "execution_count": 23,
   "metadata": {
    "id": "Qxq0visG2uqA"
   },
   "outputs": [
    {
     "name": "stdout",
     "output_type": "stream",
     "text": [
      "X_test.shape = (29051, 54)\n",
      "y_test.shape = (29051,)\n",
      "Number of classes is 7.\n"
     ]
    }
   ],
   "source": [
    "print(f'X_test.shape = {X_test.shape}')\n",
    "print(f'y_test.shape = {y_test.shape}')\n",
    "number_of_classes_for_testing = len(set(map(lambda it: int(it), y_test.tolist())))\n",
    "print(f'Number of classes is {number_of_classes_for_testing}.')"
   ]
  },
  {
   "cell_type": "code",
   "execution_count": 24,
   "metadata": {},
   "outputs": [],
   "source": [
    "BEST_RF_PARAMS = {'ccp_alpha': 1e-06, 'max_features': 0.85, 'max_samples': 0.95, 'n_estimators': 1000}"
   ]
  },
  {
   "cell_type": "code",
   "execution_count": 25,
   "metadata": {
    "id": "TlZalyDU6n2Z"
   },
   "outputs": [
    {
     "name": "stderr",
     "output_type": "stream",
     "text": [
      "[Parallel(n_jobs=-1)]: Using backend ThreadingBackend with 16 concurrent workers.\n",
      "[Parallel(n_jobs=-1)]: Done  18 tasks      | elapsed:   26.7s\n",
      "[Parallel(n_jobs=-1)]: Done 168 tasks      | elapsed:  2.5min\n",
      "[Parallel(n_jobs=-1)]: Done 418 tasks      | elapsed:  6.2min\n",
      "[Parallel(n_jobs=-1)]: Done 768 tasks      | elapsed: 11.2min\n",
      "[Parallel(n_jobs=-1)]: Done 1000 out of 1000 | elapsed: 14.4min finished\n"
     ]
    }
   ],
   "source": [
    "if BEST_RF_PARAMS is None:\n",
    "    baseline = find_best_rf(X_train, y_train)\n",
    "else:\n",
    "    baseline = RandomForestClassifier(\n",
    "        min_samples_leaf=5, random_state=42, verbose=True, n_jobs=-1,\n",
    "        oob_score=True, bootstrap=True,\n",
    "        ccp_alpha=BEST_RF_PARAMS['ccp_alpha'],\n",
    "        n_estimators=BEST_RF_PARAMS['n_estimators'],\n",
    "        max_samples=BEST_RF_PARAMS['max_samples'],\n",
    "        max_features=BEST_RF_PARAMS['max_features']\n",
    "    ).fit(X_train, y_train)"
   ]
  },
  {
   "cell_type": "code",
   "execution_count": 26,
   "metadata": {
    "id": "DewcTZgA7BVB"
   },
   "outputs": [
    {
     "name": "stderr",
     "output_type": "stream",
     "text": [
      "[Parallel(n_jobs=16)]: Using backend ThreadingBackend with 16 concurrent workers.\n",
      "[Parallel(n_jobs=16)]: Done  18 tasks      | elapsed:    0.0s\n",
      "[Parallel(n_jobs=16)]: Done 168 tasks      | elapsed:    0.1s\n",
      "[Parallel(n_jobs=16)]: Done 418 tasks      | elapsed:    0.4s\n",
      "[Parallel(n_jobs=16)]: Done 768 tasks      | elapsed:    0.7s\n"
     ]
    },
    {
     "name": "stdout",
     "output_type": "stream",
     "text": [
      "              precision    recall  f1-score   support\n",
      "\n",
      "           0     0.9709    0.9592    0.9650     10063\n",
      "           1     0.9647    0.9777    0.9711     13457\n",
      "           2     0.9461    0.9723    0.9590      1698\n",
      "           3     0.9350    0.8293    0.8790       451\n",
      "           4     0.9468    0.9067    0.9263       825\n",
      "           5     0.9688    0.9559    0.9623       974\n",
      "           6     0.9268    0.8702    0.8976       131\n",
      "\n",
      "    accuracy                         0.9648     27599\n",
      "   macro avg     0.9513    0.9245    0.9372     27599\n",
      "weighted avg     0.9648    0.9648    0.9647     27599\n",
      "\n"
     ]
    },
    {
     "name": "stderr",
     "output_type": "stream",
     "text": [
      "[Parallel(n_jobs=16)]: Done 1000 out of 1000 | elapsed:    1.0s finished\n"
     ]
    }
   ],
   "source": [
    "print(classification_report(y_true=y_valid, y_pred=baseline.predict(X_valid),\n",
    "                            digits=4))"
   ]
  },
  {
   "cell_type": "code",
   "execution_count": 27,
   "metadata": {
    "id": "S_86kMn57JFg"
   },
   "outputs": [
    {
     "name": "stderr",
     "output_type": "stream",
     "text": [
      "[Parallel(n_jobs=16)]: Using backend ThreadingBackend with 16 concurrent workers.\n",
      "[Parallel(n_jobs=16)]: Done  18 tasks      | elapsed:    0.0s\n",
      "[Parallel(n_jobs=16)]: Done 168 tasks      | elapsed:    0.1s\n",
      "[Parallel(n_jobs=16)]: Done 418 tasks      | elapsed:    0.4s\n",
      "[Parallel(n_jobs=16)]: Done 768 tasks      | elapsed:    0.8s\n"
     ]
    },
    {
     "name": "stdout",
     "output_type": "stream",
     "text": [
      "              precision    recall  f1-score   support\n",
      "\n",
      "           0     0.9703    0.9576    0.9639     10592\n",
      "           1     0.9630    0.9780    0.9704     14165\n",
      "           2     0.9542    0.9681    0.9611      1788\n",
      "           3     0.9512    0.8211    0.8814       475\n",
      "           4     0.9347    0.9240    0.9293       868\n",
      "           5     0.9729    0.9464    0.9595      1026\n",
      "           6     0.9091    0.8759    0.8922       137\n",
      "\n",
      "    accuracy                         0.9642     29051\n",
      "   macro avg     0.9508    0.9244    0.9368     29051\n",
      "weighted avg     0.9642    0.9642    0.9640     29051\n",
      "\n"
     ]
    },
    {
     "name": "stderr",
     "output_type": "stream",
     "text": [
      "[Parallel(n_jobs=16)]: Done 1000 out of 1000 | elapsed:    1.0s finished\n"
     ]
    }
   ],
   "source": [
    "print(classification_report(y_true=y_test, y_pred=baseline.predict(X_test),\n",
    "                            digits=4))"
   ]
  },
  {
   "cell_type": "code",
   "execution_count": 28,
   "metadata": {
    "id": "UFiN0K1v3ApE"
   },
   "outputs": [
    {
     "name": "stdout",
     "output_type": "stream",
     "text": [
      "Column 0 \"Elevation\" has 1968 unique values.\n",
      "Column 1 \"Aspect\" has 361 unique values.\n",
      "Column 2 \"Slope\" has 66 unique values.\n",
      "Column 3 \"Horizontal_Distance_To_Hydrology\" has 550 unique values.\n",
      "Column 4 \"Vertical_Distance_To_Hydrology\" has 696 unique values.\n",
      "Column 5 \"Horizontal_Distance_To_Roadways\" has 5770 unique values.\n",
      "Column 6 \"Hillshade_9am\" has 207 unique values.\n",
      "Column 7 \"Hillshade_Noon\" has 184 unique values.\n",
      "Column 8 \"Hillshade_3pm\" has 255 unique values.\n",
      "Column 9 \"Horizontal_Distance_To_Fire_Points\" has 5813 unique values.\n",
      "Column 10 \"Wilderness_Area_0\" has 2 unique values.\n",
      "Column 11 \"Wilderness_Area_1\" has 2 unique values.\n",
      "Column 12 \"Wilderness_Area_2\" has 2 unique values.\n",
      "Column 13 \"Wilderness_Area_3\" has 2 unique values.\n",
      "Column 14 \"Soil_Type_0\" has 2 unique values.\n",
      "Column 15 \"Soil_Type_1\" has 2 unique values.\n",
      "Column 16 \"Soil_Type_2\" has 2 unique values.\n",
      "Column 17 \"Soil_Type_3\" has 2 unique values.\n",
      "Column 18 \"Soil_Type_4\" has 2 unique values.\n",
      "Column 19 \"Soil_Type_5\" has 2 unique values.\n",
      "Column 20 \"Soil_Type_6\" has 2 unique values.\n",
      "Column 21 \"Soil_Type_7\" has 2 unique values.\n",
      "Column 22 \"Soil_Type_8\" has 2 unique values.\n",
      "Column 23 \"Soil_Type_9\" has 2 unique values.\n",
      "Column 24 \"Soil_Type_10\" has 2 unique values.\n",
      "Column 25 \"Soil_Type_11\" has 2 unique values.\n",
      "Column 26 \"Soil_Type_12\" has 2 unique values.\n",
      "Column 27 \"Soil_Type_13\" has 2 unique values.\n",
      "Column 28 \"Soil_Type_14\" has 2 unique values.\n",
      "Column 29 \"Soil_Type_15\" has 2 unique values.\n",
      "Column 30 \"Soil_Type_16\" has 2 unique values.\n",
      "Column 31 \"Soil_Type_17\" has 2 unique values.\n",
      "Column 32 \"Soil_Type_18\" has 2 unique values.\n",
      "Column 33 \"Soil_Type_19\" has 2 unique values.\n",
      "Column 34 \"Soil_Type_20\" has 2 unique values.\n",
      "Column 35 \"Soil_Type_21\" has 2 unique values.\n",
      "Column 36 \"Soil_Type_22\" has 2 unique values.\n",
      "Column 37 \"Soil_Type_23\" has 2 unique values.\n",
      "Column 38 \"Soil_Type_24\" has 2 unique values.\n",
      "Column 39 \"Soil_Type_25\" has 2 unique values.\n",
      "Column 40 \"Soil_Type_26\" has 2 unique values.\n",
      "Column 41 \"Soil_Type_27\" has 2 unique values.\n",
      "Column 42 \"Soil_Type_28\" has 2 unique values.\n",
      "Column 43 \"Soil_Type_29\" has 2 unique values.\n",
      "Column 44 \"Soil_Type_30\" has 2 unique values.\n",
      "Column 45 \"Soil_Type_31\" has 2 unique values.\n",
      "Column 46 \"Soil_Type_32\" has 2 unique values.\n",
      "Column 47 \"Soil_Type_33\" has 2 unique values.\n",
      "Column 48 \"Soil_Type_34\" has 2 unique values.\n",
      "Column 49 \"Soil_Type_35\" has 2 unique values.\n",
      "Column 50 \"Soil_Type_36\" has 2 unique values.\n",
      "Column 51 \"Soil_Type_37\" has 2 unique values.\n",
      "Column 52 \"Soil_Type_38\" has 2 unique values.\n",
      "Column 53 \"Soil_Type_39\" has 2 unique values.\n",
      "There are 54 features.\n",
      "There are 10 categorical features and 44 binary features.\n"
     ]
    },
    {
     "name": "stderr",
     "output_type": "stream",
     "text": [
      "C:\\Users\\bond0\\Anaconda3\\envs\\env_for_tf23_gpu\\lib\\site-packages\\sklearn\\preprocessing\\_discretization.py:233: UserWarning: Bins whose width are too small (i.e., <= 1e-8) in feature 0 are removed. Consider decreasing the number of bins.\n",
      "  \"decreasing the number of bins.\" % jj\n",
      "C:\\Users\\bond0\\Anaconda3\\envs\\env_for_tf23_gpu\\lib\\site-packages\\sklearn\\preprocessing\\_discretization.py:233: UserWarning: Bins whose width are too small (i.e., <= 1e-8) in feature 0 are removed. Consider decreasing the number of bins.\n",
      "  \"decreasing the number of bins.\" % jj\n",
      "C:\\Users\\bond0\\Anaconda3\\envs\\env_for_tf23_gpu\\lib\\site-packages\\sklearn\\preprocessing\\_discretization.py:233: UserWarning: Bins whose width are too small (i.e., <= 1e-8) in feature 0 are removed. Consider decreasing the number of bins.\n",
      "  \"decreasing the number of bins.\" % jj\n",
      "C:\\Users\\bond0\\Anaconda3\\envs\\env_for_tf23_gpu\\lib\\site-packages\\sklearn\\preprocessing\\_discretization.py:233: UserWarning: Bins whose width are too small (i.e., <= 1e-8) in feature 0 are removed. Consider decreasing the number of bins.\n",
      "  \"decreasing the number of bins.\" % jj\n",
      "C:\\Users\\bond0\\Anaconda3\\envs\\env_for_tf23_gpu\\lib\\site-packages\\sklearn\\preprocessing\\_discretization.py:233: UserWarning: Bins whose width are too small (i.e., <= 1e-8) in feature 0 are removed. Consider decreasing the number of bins.\n",
      "  \"decreasing the number of bins.\" % jj\n",
      "C:\\Users\\bond0\\Anaconda3\\envs\\env_for_tf23_gpu\\lib\\site-packages\\sklearn\\preprocessing\\_discretization.py:233: UserWarning: Bins whose width are too small (i.e., <= 1e-8) in feature 0 are removed. Consider decreasing the number of bins.\n",
      "  \"decreasing the number of bins.\" % jj\n"
     ]
    }
   ],
   "source": [
    "input_preprocessor, input_names, input_categories = build_preprocessor(\n",
    "    X=X_train,\n",
    "    colnames=dataset.feature_names\n",
    ")"
   ]
  },
  {
   "cell_type": "code",
   "execution_count": 29,
   "metadata": {
    "id": "OZj5Rksa3UrG"
   },
   "outputs": [],
   "source": [
    "del dataset"
   ]
  },
  {
   "cell_type": "code",
   "execution_count": 30,
   "metadata": {
    "id": "zO460Fkq3ax9"
   },
   "outputs": [],
   "source": [
    "X_train_quantized = input_preprocessor.transform(X_train)\n",
    "X_valid_quantized = input_preprocessor.transform(X_valid)"
   ]
  },
  {
   "cell_type": "code",
   "execution_count": 31,
   "metadata": {
    "id": "IDozqM1aBdmv"
   },
   "outputs": [
    {
     "name": "stdout",
     "output_type": "stream",
     "text": [
      "Elevation has 256 unique values.\n",
      "Aspect has 119 unique values.\n",
      "Slope has 21 unique values.\n",
      "Horizontal_Distance_To_Hydrology has 109 unique values.\n",
      "Vertical_Distance_To_Hydrology has 146 unique values.\n",
      "Horizontal_Distance_To_Roadways has 256 unique values.\n",
      "Hillshade_9am has 64 unique values.\n",
      "Hillshade_Noon has 54 unique values.\n",
      "Hillshade_3pm has 85 unique values.\n",
      "Horizontal_Distance_To_Fire_Points has 256 unique values.\n",
      "Wilderness_Area_0 has 2 unique values.\n",
      "Wilderness_Area_1 has 2 unique values.\n",
      "Wilderness_Area_2 has 2 unique values.\n",
      "Wilderness_Area_3 has 2 unique values.\n",
      "Soil_Type_0 has 2 unique values.\n",
      "Soil_Type_1 has 2 unique values.\n",
      "Soil_Type_2 has 2 unique values.\n",
      "Soil_Type_3 has 2 unique values.\n",
      "Soil_Type_4 has 2 unique values.\n",
      "Soil_Type_5 has 2 unique values.\n",
      "Soil_Type_6 has 2 unique values.\n",
      "Soil_Type_7 has 2 unique values.\n",
      "Soil_Type_8 has 2 unique values.\n",
      "Soil_Type_9 has 2 unique values.\n",
      "Soil_Type_10 has 2 unique values.\n",
      "Soil_Type_11 has 2 unique values.\n",
      "Soil_Type_12 has 2 unique values.\n",
      "Soil_Type_13 has 2 unique values.\n",
      "Soil_Type_14 has 2 unique values.\n",
      "Soil_Type_15 has 2 unique values.\n",
      "Soil_Type_16 has 2 unique values.\n",
      "Soil_Type_17 has 2 unique values.\n",
      "Soil_Type_18 has 2 unique values.\n",
      "Soil_Type_19 has 2 unique values.\n",
      "Soil_Type_20 has 2 unique values.\n",
      "Soil_Type_21 has 2 unique values.\n",
      "Soil_Type_22 has 2 unique values.\n",
      "Soil_Type_23 has 2 unique values.\n",
      "Soil_Type_24 has 2 unique values.\n",
      "Soil_Type_25 has 2 unique values.\n",
      "Soil_Type_26 has 2 unique values.\n",
      "Soil_Type_27 has 2 unique values.\n",
      "Soil_Type_28 has 2 unique values.\n",
      "Soil_Type_29 has 2 unique values.\n",
      "Soil_Type_30 has 2 unique values.\n",
      "Soil_Type_31 has 2 unique values.\n",
      "Soil_Type_32 has 2 unique values.\n",
      "Soil_Type_33 has 2 unique values.\n",
      "Soil_Type_34 has 2 unique values.\n",
      "Soil_Type_35 has 2 unique values.\n",
      "Soil_Type_36 has 2 unique values.\n",
      "Soil_Type_37 has 2 unique values.\n",
      "Soil_Type_38 has 2 unique values.\n",
      "Soil_Type_39 has 2 unique values.\n"
     ]
    }
   ],
   "source": [
    "for feature_index, feature_name in enumerate(input_names):\n",
    "    print(f'{feature_name} has {input_categories[feature_index]} unique values.')"
   ]
  },
  {
   "cell_type": "code",
   "execution_count": 32,
   "metadata": {
    "id": "Gk7fbCCQBrY-"
   },
   "outputs": [
    {
     "name": "stdout",
     "output_type": "stream",
     "text": [
      "Total number of unique values is 1454.\n"
     ]
    }
   ],
   "source": [
    "print(f'Total number of unique values is {sum(input_categories)}.')"
   ]
  },
  {
   "cell_type": "code",
   "execution_count": 33,
   "metadata": {
    "id": "2gWkVba73itc"
   },
   "outputs": [],
   "source": [
    "input_normalizer = build_normalizer(X_train)"
   ]
  },
  {
   "cell_type": "code",
   "execution_count": 34,
   "metadata": {
    "id": "9exQnTea3n8m"
   },
   "outputs": [],
   "source": [
    "X_train = input_normalizer.transform(X_train)\n",
    "X_valid = input_normalizer.transform(X_valid)\n",
    "X_test = input_normalizer.transform(X_test)"
   ]
  },
  {
   "cell_type": "code",
   "execution_count": 35,
   "metadata": {
    "id": "nhzatua536gO"
   },
   "outputs": [],
   "source": [
    "trainset_gen = TrainsetGenerator(\n",
    "    x_src=X_train_quantized,\n",
    "    x_norm=X_train,\n",
    "    y=y_train,\n",
    "    n_classes=len(classes_dict),\n",
    "    batch_size=MINIBATCH_SIZE_FOR_TRAINING,\n",
    "    features=input_categories\n",
    ")"
   ]
  },
  {
   "cell_type": "code",
   "execution_count": 36,
   "metadata": {
    "id": "CrZ5546EAESh"
   },
   "outputs": [
    {
     "name": "stdout",
     "output_type": "stream",
     "text": [
      "[ 3.1698352e-01 -1.2436310e+00 -9.8235929e-01 -1.0195646e+00\n",
      "  5.8616734e-01 -1.1568286e+00 -1.5181400e-01  2.4146403e-01\n",
      " -7.7954209e-01  1.8961939e+00 -1.3411260e+00  1.7255381e+00\n",
      " -1.4771707e+00  2.3777629e-01  2.5964335e-01 -7.7618486e-01\n",
      "  2.9072332e-01 -4.9969864e-01 -7.5002897e-01 -4.4066715e-01\n",
      "  1.3812125e-01 -5.5963403e-01 -1.6686271e-01 -1.1624459e-01\n",
      "  1.7178836e-01  6.8602934e-02 -5.8058649e-02 -1.5387362e-01\n",
      "  2.3957362e-02 -7.5299077e-02 -1.4331256e-02 -5.1747737e-03\n",
      " -1.1314893e-02  4.6810280e-03 -3.4542501e-02 -4.7419462e-02\n",
      " -1.7947195e-02  2.9625800e-03 -1.6188375e-03  1.6398565e-01\n",
      "  1.1993968e+00 -2.0458321e-01  6.9995165e-01 -1.7208570e-01\n",
      " -6.1011755e-01 -1.1995329e+00 -9.1859698e-02 -5.2674448e-01\n",
      "  1.0425091e+00  4.5667589e-01  7.8531253e-01  1.3355339e-03\n",
      " -4.3550673e-15 -6.1737050e-16]\n",
      "[1.0, 0.0, 0.0, 0.0, 0.0, 0.0, 0.0]\n",
      "[0.0, 0.0, 1.0, 0.0, 0.0, 0.0, 0.0, 0.0, 0.0, 0.0, 0.0, 0.0, 0.0, 0.0, 0.0, 0.0, 0.0, 0.0, 0.0, 0.0, 0.0, 0.0, 0.0, 0.0, 0.0, 1.0, 0.0, 0.0, 0.0, 0.0, 0.0, 0.0, 0.0, 0.0, 0.0, 0.0, 0.0, 0.0, 0.0, 0.0, 0.0, 0.0, 0.0, 0.0]\n",
      "[0.0, 0.0, 0.0, 0.0, 0.0, 0.0, 0.0, 0.0, 0.0, 0.0, 0.0, 0.0, 0.0, 0.0, 0.0, 0.0, 0.0, 0.0, 0.0, 0.0, 0.0, 0.0, 0.0, 0.0, 0.0, 0.0, 0.0, 0.0, 0.0, 0.0, 0.0, 0.0, 0.0, 0.0, 0.0, 0.0, 0.0, 0.0, 0.0, 0.0, 0.0, 0.0, 0.0, 0.0, 0.0, 0.0, 0.0, 0.0, 0.0, 0.0, 0.0, 0.0, 0.0, 0.0, 0.0, 0.0, 0.0, 0.0, 0.0, 0.0, 0.0, 0.0, 0.0, 0.0, 0.0, 0.0, 0.0, 0.0, 0.0, 0.0, 0.0, 0.0, 0.0, 0.0, 0.0, 0.0, 0.0, 0.0, 0.0, 0.0, 0.0, 0.0, 0.0, 0.0, 0.0, 0.0, 0.0, 0.0, 0.0, 0.0, 0.0, 1.0, 0.0, 0.0, 0.0, 0.0, 0.0, 0.0, 0.0, 0.0, 0.0, 0.0, 0.0, 0.0, 0.0, 0.0, 0.0, 0.0, 0.0, 0.0, 0.0, 0.0, 0.0, 0.0, 0.0, 0.0, 0.0, 0.0, 0.0, 0.0, 0.0, 0.0, 0.0, 0.0, 0.0, 0.0, 0.0, 0.0, 0.0, 0.0, 0.0, 0.0, 0.0, 0.0, 0.0, 0.0, 0.0, 0.0, 0.0, 0.0, 0.0, 0.0, 0.0, 0.0, 0.0, 0.0, 0.0, 0.0, 0.0, 0.0, 0.0, 0.0, 0.0, 0.0, 0.0, 0.0, 0.0, 0.0, 0.0, 0.0, 0.0, 0.0, 0.0, 0.0, 0.0, 0.0, 0.0, 0.0, 0.0, 0.0, 0.0, 0.0, 0.0, 0.0, 0.0, 0.0, 0.0, 0.0, 0.0, 0.0, 0.0, 0.0, 0.0, 0.0, 0.0, 0.0, 0.0, 0.0, 0.0, 0.0, 0.0, 0.0, 0.0, 0.0, 0.0, 0.0, 0.0, 0.0, 0.0, 0.0, 0.0, 0.0, 0.0, 0.0, 0.0, 0.0, 0.0, 0.0, 0.0, 0.0, 0.0, 0.0, 0.0, 0.0, 0.0, 0.0, 0.0, 0.0, 0.0, 0.0, 0.0, 0.0, 0.0, 0.0, 0.0, 0.0, 0.0, 0.0, 0.0, 0.0, 0.0, 0.0, 0.0, 0.0, 0.0, 0.0, 0.0, 0.0, 0.0, 0.0, 0.0, 0.0, 0.0, 0.0, 0.0, 0.0, 0.0, 0.0, 0.0, 0.0, 0.0, 0.0, 0.0, 0.0, 0.0, 0.0]\n",
      "[0.0, 0.0, 0.0, 0.0, 0.0, 0.0, 0.0, 0.0, 0.0, 0.0, 0.0, 0.0, 0.0, 0.0, 0.0, 0.0, 0.0, 0.0, 0.0, 0.0, 0.0, 0.0, 0.0, 0.0, 0.0, 0.0, 0.0, 0.0, 0.0, 0.0, 0.0, 0.0, 0.0, 0.0, 0.0, 0.0, 0.0, 0.0, 0.0, 0.0, 0.0, 0.0, 0.0, 0.0, 0.0, 0.0, 0.0, 0.0, 0.0, 0.0, 0.0, 0.0, 0.0, 0.0, 0.0, 0.0, 0.0, 0.0, 0.0, 0.0, 0.0, 0.0, 0.0, 0.0, 0.0, 0.0, 0.0, 0.0, 0.0, 0.0, 0.0, 0.0, 0.0, 0.0, 0.0, 0.0, 0.0, 0.0, 0.0, 0.0, 0.0, 0.0, 0.0, 0.0, 0.0, 0.0, 0.0, 0.0, 0.0, 0.0, 0.0, 0.0, 0.0, 0.0, 0.0, 0.0, 0.0, 0.0, 0.0, 0.0, 0.0, 0.0, 0.0, 0.0, 0.0, 0.0, 0.0, 0.0, 0.0, 0.0, 0.0, 0.0, 0.0, 0.0, 0.0, 0.0, 1.0, 0.0, 0.0]\n",
      "[0.0, 0.0, 0.0, 0.0, 0.0, 0.0, 1.0, 0.0, 0.0, 0.0, 0.0, 0.0, 0.0, 0.0, 0.0, 0.0, 0.0, 0.0, 0.0, 0.0, 0.0]\n",
      "[0.0, 0.0, 0.0, 0.0, 0.0, 1.0, 0.0, 0.0, 0.0, 0.0, 0.0, 0.0, 0.0, 0.0, 0.0, 0.0, 0.0, 0.0, 0.0, 0.0, 0.0, 0.0, 0.0, 0.0, 0.0, 0.0, 0.0, 0.0, 0.0, 0.0, 0.0, 0.0, 0.0, 0.0, 0.0, 0.0, 0.0, 0.0, 0.0, 0.0, 0.0, 0.0, 0.0, 0.0, 0.0, 0.0, 0.0, 0.0, 0.0, 0.0, 0.0, 0.0, 0.0, 0.0, 0.0, 0.0, 0.0, 0.0, 0.0, 0.0, 0.0, 0.0, 0.0, 0.0, 0.0, 0.0, 0.0, 0.0, 0.0, 0.0, 0.0, 0.0, 0.0, 0.0, 0.0, 0.0, 0.0, 0.0, 0.0, 0.0, 0.0, 0.0, 0.0, 0.0, 0.0, 0.0, 0.0, 0.0, 0.0, 0.0, 0.0, 0.0, 0.0, 0.0, 0.0, 0.0, 0.0, 0.0, 0.0, 0.0, 0.0, 0.0, 0.0, 0.0, 0.0, 0.0, 0.0, 0.0, 0.0]\n",
      "[0.0, 0.0, 0.0, 0.0, 0.0, 0.0, 0.0, 0.0, 0.0, 0.0, 0.0, 0.0, 0.0, 0.0, 0.0, 0.0, 0.0, 0.0, 0.0, 0.0, 0.0, 0.0, 0.0, 0.0, 0.0, 0.0, 0.0, 0.0, 1.0, 0.0, 0.0, 0.0, 0.0, 0.0, 0.0, 0.0, 0.0, 0.0, 0.0, 0.0, 0.0, 0.0, 0.0, 0.0, 0.0, 0.0, 0.0, 0.0, 0.0, 0.0, 0.0, 0.0, 0.0, 0.0, 0.0, 0.0, 0.0, 0.0, 0.0, 0.0, 0.0, 0.0, 0.0, 0.0, 0.0, 0.0, 0.0, 0.0, 0.0, 0.0, 0.0, 0.0, 0.0, 0.0, 0.0, 0.0, 0.0, 0.0, 0.0, 0.0, 0.0, 0.0, 0.0, 0.0, 0.0, 0.0, 0.0, 0.0, 0.0, 0.0, 0.0, 0.0, 0.0, 0.0, 0.0, 0.0, 0.0, 0.0, 0.0, 0.0, 0.0, 0.0, 0.0, 0.0, 0.0, 0.0, 0.0, 0.0, 0.0, 0.0, 0.0, 0.0, 0.0, 0.0, 0.0, 0.0, 0.0, 0.0, 0.0, 0.0, 0.0, 0.0, 0.0, 0.0, 0.0, 0.0, 0.0, 0.0, 0.0, 0.0, 0.0, 0.0, 0.0, 0.0, 0.0, 0.0, 0.0, 0.0, 0.0, 0.0, 0.0, 0.0, 0.0, 0.0, 0.0, 0.0]\n",
      "[0.0, 0.0, 0.0, 0.0, 0.0, 0.0, 0.0, 0.0, 0.0, 0.0, 0.0, 0.0, 0.0, 0.0, 0.0, 0.0, 0.0, 0.0, 0.0, 0.0, 0.0, 0.0, 0.0, 0.0, 0.0, 0.0, 0.0, 0.0, 0.0, 0.0, 0.0, 0.0, 0.0, 0.0, 0.0, 0.0, 0.0, 0.0, 0.0, 0.0, 0.0, 0.0, 0.0, 0.0, 0.0, 0.0, 0.0, 0.0, 0.0, 0.0, 0.0, 0.0, 0.0, 0.0, 0.0, 0.0, 0.0, 0.0, 0.0, 0.0, 0.0, 0.0, 0.0, 0.0, 0.0, 0.0, 0.0, 0.0, 0.0, 0.0, 0.0, 0.0, 0.0, 0.0, 0.0, 0.0, 0.0, 0.0, 0.0, 0.0, 0.0, 0.0, 0.0, 0.0, 0.0, 0.0, 0.0, 0.0, 0.0, 0.0, 0.0, 0.0, 0.0, 0.0, 0.0, 0.0, 0.0, 0.0, 0.0, 0.0, 0.0, 0.0, 0.0, 0.0, 0.0, 0.0, 0.0, 0.0, 0.0, 0.0, 0.0, 0.0, 0.0, 0.0, 0.0, 0.0, 0.0, 0.0, 0.0, 0.0, 0.0, 0.0, 0.0, 0.0, 0.0, 0.0, 0.0, 0.0, 0.0, 0.0, 0.0, 0.0, 0.0, 0.0, 0.0, 0.0, 0.0, 0.0, 0.0, 0.0, 0.0, 0.0, 0.0, 0.0, 0.0, 0.0, 0.0, 0.0, 0.0, 0.0, 0.0, 0.0, 0.0, 0.0, 0.0, 0.0, 0.0, 0.0, 0.0, 0.0, 0.0, 0.0, 0.0, 0.0, 0.0, 0.0, 0.0, 0.0, 0.0, 0.0, 0.0, 0.0, 0.0, 0.0, 0.0, 0.0, 0.0, 0.0, 0.0, 0.0, 0.0, 1.0, 0.0, 0.0, 0.0, 0.0, 0.0, 0.0, 0.0, 0.0, 0.0, 0.0, 0.0, 0.0, 0.0, 0.0, 0.0, 0.0, 0.0, 0.0, 0.0, 0.0, 0.0, 0.0, 0.0, 0.0, 0.0, 0.0, 0.0, 0.0, 0.0, 0.0, 0.0, 0.0, 0.0, 0.0, 0.0, 0.0, 0.0, 0.0, 0.0, 0.0, 0.0, 0.0, 0.0, 0.0, 0.0, 0.0, 0.0, 0.0, 0.0, 0.0, 0.0, 0.0, 0.0, 0.0, 0.0, 0.0, 0.0, 0.0, 0.0, 0.0, 0.0, 0.0, 0.0, 0.0, 0.0, 0.0, 0.0, 0.0, 0.0, 0.0, 0.0, 0.0, 0.0, 0.0]\n",
      "[0.0, 0.0, 0.0, 0.0, 0.0, 0.0, 0.0, 0.0, 0.0, 0.0, 0.0, 0.0, 0.0, 0.0, 0.0, 0.0, 0.0, 0.0, 0.0, 0.0, 0.0, 0.0, 1.0, 0.0, 0.0, 0.0, 0.0, 0.0, 0.0, 0.0, 0.0, 0.0, 0.0, 0.0, 0.0, 0.0, 0.0, 0.0, 0.0, 0.0, 0.0, 0.0, 0.0, 0.0, 0.0, 0.0, 0.0, 0.0, 0.0, 0.0, 0.0, 0.0, 0.0, 0.0, 0.0, 0.0, 0.0, 0.0, 0.0, 0.0, 0.0, 0.0, 0.0, 0.0]\n",
      "[0.0, 0.0, 0.0, 0.0, 0.0, 0.0, 0.0, 0.0, 0.0, 0.0, 0.0, 0.0, 0.0, 0.0, 0.0, 0.0, 0.0, 0.0, 0.0, 0.0, 0.0, 0.0, 0.0, 0.0, 0.0, 0.0, 0.0, 1.0, 0.0, 0.0, 0.0, 0.0, 0.0, 0.0, 0.0, 0.0, 0.0, 0.0, 0.0, 0.0, 0.0, 0.0, 0.0, 0.0, 0.0, 0.0, 0.0, 0.0, 0.0, 0.0, 0.0, 0.0, 0.0, 0.0]\n",
      "[0.0, 0.0, 0.0, 0.0, 0.0, 0.0, 0.0, 0.0, 0.0, 0.0, 0.0, 0.0, 0.0, 0.0, 0.0, 0.0, 0.0, 0.0, 0.0, 0.0, 0.0, 0.0, 0.0, 0.0, 0.0, 0.0, 0.0, 0.0, 0.0, 0.0, 0.0, 0.0, 0.0, 0.0, 0.0, 0.0, 0.0, 0.0, 0.0, 0.0, 0.0, 0.0, 0.0, 0.0, 0.0, 0.0, 0.0, 0.0, 0.0, 0.0, 0.0, 0.0, 0.0, 0.0, 0.0, 0.0, 1.0, 0.0, 0.0, 0.0, 0.0, 0.0, 0.0, 0.0, 0.0, 0.0, 0.0, 0.0, 0.0, 0.0, 0.0, 0.0, 0.0, 0.0, 0.0, 0.0, 0.0, 0.0, 0.0, 0.0, 0.0, 0.0, 0.0, 0.0, 0.0]\n",
      "[0.0, 0.0, 0.0, 0.0, 0.0, 0.0, 0.0, 0.0, 0.0, 0.0, 0.0, 0.0, 0.0, 0.0, 0.0, 0.0, 0.0, 0.0, 0.0, 0.0, 0.0, 0.0, 0.0, 0.0, 0.0, 0.0, 0.0, 0.0, 0.0, 0.0, 0.0, 0.0, 0.0, 0.0, 0.0, 0.0, 0.0, 0.0, 0.0, 0.0, 0.0, 0.0, 0.0, 0.0, 0.0, 0.0, 0.0, 0.0, 0.0, 0.0, 0.0, 0.0, 0.0, 0.0, 0.0, 0.0, 0.0, 0.0, 0.0, 0.0, 0.0, 0.0, 0.0, 0.0, 0.0, 0.0, 0.0, 0.0, 0.0, 0.0, 0.0, 0.0, 0.0, 0.0, 0.0, 0.0, 0.0, 0.0, 0.0, 0.0, 0.0, 0.0, 0.0, 0.0, 0.0, 0.0, 0.0, 0.0, 0.0, 0.0, 0.0, 0.0, 0.0, 0.0, 0.0, 0.0, 0.0, 0.0, 0.0, 0.0, 0.0, 0.0, 0.0, 0.0, 0.0, 0.0, 0.0, 0.0, 0.0, 0.0, 0.0, 0.0, 0.0, 0.0, 0.0, 0.0, 0.0, 0.0, 0.0, 0.0, 0.0, 0.0, 0.0, 0.0, 0.0, 0.0, 0.0, 0.0, 0.0, 0.0, 0.0, 0.0, 0.0, 0.0, 0.0, 0.0, 0.0, 0.0, 0.0, 0.0, 0.0, 0.0, 0.0, 0.0, 0.0, 0.0, 0.0, 0.0, 0.0, 0.0, 0.0, 0.0, 0.0, 0.0, 0.0, 0.0, 0.0, 0.0, 0.0, 0.0, 0.0, 0.0, 0.0, 0.0, 0.0, 0.0, 1.0, 0.0, 0.0, 0.0, 0.0, 0.0, 0.0, 0.0, 0.0, 0.0, 0.0, 0.0, 0.0, 0.0, 0.0, 0.0, 0.0, 0.0, 0.0, 0.0, 0.0, 0.0, 0.0, 0.0, 0.0, 0.0, 0.0, 0.0, 0.0, 0.0, 0.0, 0.0, 0.0, 0.0, 0.0, 0.0, 0.0, 0.0, 0.0, 0.0, 0.0, 0.0, 0.0, 0.0, 0.0, 0.0, 0.0, 0.0, 0.0, 0.0, 0.0, 0.0, 0.0, 0.0, 0.0, 0.0, 0.0, 0.0, 0.0, 0.0, 0.0, 0.0, 0.0, 0.0, 0.0, 0.0, 0.0, 0.0, 0.0, 0.0, 0.0, 0.0, 0.0, 0.0, 0.0, 0.0, 0.0, 0.0, 0.0, 0.0, 0.0, 0.0, 0.0, 0.0, 0.0, 0.0, 0.0, 0.0, 0.0, 0.0]\n"
     ]
    }
   ],
   "source": [
    "X_, y_ = trainset_gen[0]\n",
    "print(X_[0])\n",
    "for it in y_:\n",
    "    print(it[0].tolist() if isinstance(it[0], np.ndarray) else it[0])\n",
    "del X_, y_"
   ]
  },
  {
   "cell_type": "code",
   "execution_count": 37,
   "metadata": {
    "id": "J6E4MUgKLnTz"
   },
   "outputs": [
    {
     "name": "stdout",
     "output_type": "stream",
     "text": [
      "Class 0 frequency is 14%.\n",
      "Class 1 frequency is 14%.\n",
      "Class 2 frequency is 14%.\n",
      "Class 3 frequency is 14%.\n",
      "Class 4 frequency is 14%.\n",
      "Class 5 frequency is 14%.\n",
      "Class 6 frequency is 14%.\n"
     ]
    }
   ],
   "source": [
    "train_class_freq = dict()\n",
    "for idx1 in range(len(trainset_gen)):\n",
    "    X_, y_ = trainset_gen[idx1]\n",
    "    for idx2 in range(X_.shape[0]):\n",
    "        class_idx1 = int(np.argmax(y_[0][idx2]))\n",
    "        if class_idx1 in train_class_freq:\n",
    "            train_class_freq[class_idx1] += 1\n",
    "        else:\n",
    "            train_class_freq[class_idx1] = 1\n",
    "    del X_, y_\n",
    "sum_freq = 0\n",
    "for class_idx1 in sorted(train_class_freq.keys()):\n",
    "    sum_freq += train_class_freq[class_idx1]\n",
    "for class_idx1 in sorted(train_class_freq.keys()):\n",
    "    percent = 100.0 * train_class_freq[class_idx1]\n",
    "    percent /= float(sum_freq)\n",
    "    print(f'Class {class_idx1} frequency is {int(round(percent))}%.')"
   ]
  },
  {
   "cell_type": "code",
   "execution_count": 38,
   "metadata": {
    "id": "5F8l7axU4TY-"
   },
   "outputs": [],
   "source": [
    "validset_gen = ValidsetGenerator(\n",
    "    x_src=X_valid_quantized,\n",
    "    x_norm=X_valid,\n",
    "    y=y_valid,\n",
    "    n_classes=len(classes_dict),\n",
    "    batch_size=MINIBATCH_SIZE_FOR_TRAINING,\n",
    "    features=input_categories\n",
    ")"
   ]
  },
  {
   "cell_type": "code",
   "execution_count": 39,
   "metadata": {
    "id": "SunvCCo5AHDF"
   },
   "outputs": [
    {
     "name": "stdout",
     "output_type": "stream",
     "text": [
      "Class 0 frequency is 36%.\n",
      "Class 1 frequency is 49%.\n",
      "Class 2 frequency is 6%.\n",
      "Class 3 frequency is 2%.\n",
      "Class 4 frequency is 3%.\n",
      "Class 5 frequency is 4%.\n",
      "Class 6 frequency is 0%.\n"
     ]
    }
   ],
   "source": [
    "val_class_freq = dict()\n",
    "for idx1 in range(len(validset_gen)):\n",
    "    X_, y_ = validset_gen[idx1]\n",
    "    for idx2 in range(X_.shape[0]):\n",
    "        class_idx1 = int(np.argmax(y_[0][idx2]))\n",
    "        if class_idx1 in val_class_freq:\n",
    "            val_class_freq[class_idx1] += 1\n",
    "        else:\n",
    "            val_class_freq[class_idx1] = 1\n",
    "    del X_, y_\n",
    "sum_freq = 0\n",
    "for class_idx1 in sorted(val_class_freq.keys()):\n",
    "    sum_freq += val_class_freq[class_idx1]\n",
    "for class_idx1 in sorted(val_class_freq.keys()):\n",
    "    percent = 100.0 * val_class_freq[class_idx1]\n",
    "    percent /= float(sum_freq)\n",
    "    print(f'Class {class_idx1} frequency is {int(round(percent))}%.')"
   ]
  },
  {
   "cell_type": "code",
   "execution_count": 40,
   "metadata": {
    "id": "gD_V0PjA4Wuc"
   },
   "outputs": [
    {
     "name": "stdout",
     "output_type": "stream",
     "text": [
      "There are 44 binary features and 10 categorical features.\n"
     ]
    }
   ],
   "source": [
    "trainable_nn, encoding_nn, classification_nn = build_neural_network(\n",
    "    features=input_categories, n_classes=len(classes_dict), n_latent=64, n_hidden=512,\n",
    "    depth=12, dropout_rate=1e-5, nn_name='covertype'\n",
    ")"
   ]
  },
  {
   "cell_type": "code",
   "execution_count": 41,
   "metadata": {
    "id": "mvAJp-FXBOkH"
   },
   "outputs": [
    {
     "name": "stdout",
     "output_type": "stream",
     "text": [
      "Model: \"covertype_vae\"\n",
      "__________________________________________________________________________________________________\n",
      "Layer (type)                    Output Shape         Param #     Connected to                     \n",
      "==================================================================================================\n",
      "covertype_feature_vector (Input [(None, 54)]         0                                            \n",
      "__________________________________________________________________________________________________\n",
      "covertype_enc_dropout1 (AlphaDr (None, 54)           0           covertype_feature_vector[0][0]   \n",
      "__________________________________________________________________________________________________\n",
      "covertype_enc_dense1 (Dense)    (None, 512)          28160       covertype_enc_dropout1[0][0]     \n",
      "__________________________________________________________________________________________________\n",
      "covertype_enc_dropout2 (AlphaDr (None, 512)          0           covertype_enc_dense1[0][0]       \n",
      "__________________________________________________________________________________________________\n",
      "covertype_enc_dense2 (Dense)    (None, 512)          262656      covertype_enc_dropout2[0][0]     \n",
      "__________________________________________________________________________________________________\n",
      "covertype_enc_dropout3 (AlphaDr (None, 512)          0           covertype_enc_dense2[0][0]       \n",
      "__________________________________________________________________________________________________\n",
      "covertype_enc_dense3 (Dense)    (None, 512)          262656      covertype_enc_dropout3[0][0]     \n",
      "__________________________________________________________________________________________________\n",
      "covertype_enc_dropout4 (AlphaDr (None, 512)          0           covertype_enc_dense3[0][0]       \n",
      "__________________________________________________________________________________________________\n",
      "covertype_enc_dense4 (Dense)    (None, 512)          262656      covertype_enc_dropout4[0][0]     \n",
      "__________________________________________________________________________________________________\n",
      "covertype_enc_dropout5 (AlphaDr (None, 512)          0           covertype_enc_dense4[0][0]       \n",
      "__________________________________________________________________________________________________\n",
      "covertype_enc_dense5 (Dense)    (None, 512)          262656      covertype_enc_dropout5[0][0]     \n",
      "__________________________________________________________________________________________________\n",
      "covertype_enc_dropout6 (AlphaDr (None, 512)          0           covertype_enc_dense5[0][0]       \n",
      "__________________________________________________________________________________________________\n",
      "covertype_enc_dense6 (Dense)    (None, 512)          262656      covertype_enc_dropout6[0][0]     \n",
      "__________________________________________________________________________________________________\n",
      "covertype_enc_dropout7 (AlphaDr (None, 512)          0           covertype_enc_dense6[0][0]       \n",
      "__________________________________________________________________________________________________\n",
      "covertype_enc_dense7 (Dense)    (None, 512)          262656      covertype_enc_dropout7[0][0]     \n",
      "__________________________________________________________________________________________________\n",
      "covertype_enc_dropout8 (AlphaDr (None, 512)          0           covertype_enc_dense7[0][0]       \n",
      "__________________________________________________________________________________________________\n",
      "covertype_enc_dense8 (Dense)    (None, 512)          262656      covertype_enc_dropout8[0][0]     \n",
      "__________________________________________________________________________________________________\n",
      "covertype_enc_dropout9 (AlphaDr (None, 512)          0           covertype_enc_dense8[0][0]       \n",
      "__________________________________________________________________________________________________\n",
      "covertype_enc_dense9 (Dense)    (None, 512)          262656      covertype_enc_dropout9[0][0]     \n",
      "__________________________________________________________________________________________________\n",
      "covertype_enc_dropout10 (AlphaD (None, 512)          0           covertype_enc_dense9[0][0]       \n",
      "__________________________________________________________________________________________________\n",
      "covertype_enc_dense10 (Dense)   (None, 512)          262656      covertype_enc_dropout10[0][0]    \n",
      "__________________________________________________________________________________________________\n",
      "covertype_enc_dropout11 (AlphaD (None, 512)          0           covertype_enc_dense10[0][0]      \n",
      "__________________________________________________________________________________________________\n",
      "covertype_enc_dense11 (Dense)   (None, 512)          262656      covertype_enc_dropout11[0][0]    \n",
      "__________________________________________________________________________________________________\n",
      "covertype_enc_dropout12 (AlphaD (None, 512)          0           covertype_enc_dense11[0][0]      \n",
      "__________________________________________________________________________________________________\n",
      "covertype_enc_dense12 (Dense)   (None, 512)          262656      covertype_enc_dropout12[0][0]    \n",
      "__________________________________________________________________________________________________\n",
      "covertype_latent (Dense)        (None, 128)          65664       covertype_enc_dense12[0][0]      \n",
      "__________________________________________________________________________________________________\n",
      "covertype_z (IndependentNormal) multiple             0           covertype_latent[0][0]           \n",
      "__________________________________________________________________________________________________\n",
      "covertype_dec_dropout1 (AlphaDr multiple             0           covertype_z[0][0]                \n",
      "__________________________________________________________________________________________________\n",
      "covertype_dec_dense1 (Dense)    (None, 512)          33280       covertype_dec_dropout1[0][0]     \n",
      "__________________________________________________________________________________________________\n",
      "covertype_dec_dropout2 (AlphaDr (None, 512)          0           covertype_dec_dense1[0][0]       \n",
      "__________________________________________________________________________________________________\n",
      "covertype_dec_dense2 (Dense)    (None, 512)          262656      covertype_dec_dropout2[0][0]     \n",
      "__________________________________________________________________________________________________\n",
      "covertype_dec_dropout3 (AlphaDr (None, 512)          0           covertype_dec_dense2[0][0]       \n",
      "__________________________________________________________________________________________________\n",
      "covertype_dec_dense3 (Dense)    (None, 512)          262656      covertype_dec_dropout3[0][0]     \n",
      "__________________________________________________________________________________________________\n",
      "covertype_dec_dropout4 (AlphaDr (None, 512)          0           covertype_dec_dense3[0][0]       \n",
      "__________________________________________________________________________________________________\n",
      "covertype_dec_dense4 (Dense)    (None, 512)          262656      covertype_dec_dropout4[0][0]     \n",
      "__________________________________________________________________________________________________\n",
      "covertype_dec_dropout5 (AlphaDr (None, 512)          0           covertype_dec_dense4[0][0]       \n",
      "__________________________________________________________________________________________________\n",
      "covertype_dec_dense5 (Dense)    (None, 512)          262656      covertype_dec_dropout5[0][0]     \n",
      "__________________________________________________________________________________________________\n",
      "covertype_dec_dropout6 (AlphaDr (None, 512)          0           covertype_dec_dense5[0][0]       \n",
      "__________________________________________________________________________________________________\n",
      "covertype_dec_dense6 (Dense)    (None, 512)          262656      covertype_dec_dropout6[0][0]     \n",
      "__________________________________________________________________________________________________\n",
      "covertype_dec_dropout7 (AlphaDr (None, 512)          0           covertype_dec_dense6[0][0]       \n",
      "__________________________________________________________________________________________________\n",
      "covertype_dec_dense7 (Dense)    (None, 512)          262656      covertype_dec_dropout7[0][0]     \n",
      "__________________________________________________________________________________________________\n",
      "covertype_dec_dropout8 (AlphaDr (None, 512)          0           covertype_dec_dense7[0][0]       \n",
      "__________________________________________________________________________________________________\n",
      "covertype_dec_dense8 (Dense)    (None, 512)          262656      covertype_dec_dropout8[0][0]     \n",
      "__________________________________________________________________________________________________\n",
      "covertype_dec_dropout9 (AlphaDr (None, 512)          0           covertype_dec_dense8[0][0]       \n",
      "__________________________________________________________________________________________________\n",
      "covertype_dec_dense9 (Dense)    (None, 512)          262656      covertype_dec_dropout9[0][0]     \n",
      "__________________________________________________________________________________________________\n",
      "covertype_dec_dropout10 (AlphaD (None, 512)          0           covertype_dec_dense9[0][0]       \n",
      "__________________________________________________________________________________________________\n",
      "covertype_dec_dense10 (Dense)   (None, 512)          262656      covertype_dec_dropout10[0][0]    \n",
      "__________________________________________________________________________________________________\n",
      "covertype_dec_dropout11 (AlphaD (None, 512)          0           covertype_dec_dense10[0][0]      \n",
      "__________________________________________________________________________________________________\n",
      "covertype_dec_dense11 (Dense)   (None, 512)          262656      covertype_dec_dropout11[0][0]    \n",
      "__________________________________________________________________________________________________\n",
      "covertype_dec_dropout12 (AlphaD (None, 512)          0           covertype_dec_dense11[0][0]      \n",
      "__________________________________________________________________________________________________\n",
      "covertype_dec_dense12 (Dense)   (None, 512)          262656      covertype_dec_dropout12[0][0]    \n",
      "__________________________________________________________________________________________________\n",
      "covertype_rec_binary (Dense)    (None, 44)           22572       covertype_dec_dense12[0][0]      \n",
      "__________________________________________________________________________________________________\n",
      "covertype_rec_cat1 (Dense)      (None, 256)          131328      covertype_dec_dense12[0][0]      \n",
      "__________________________________________________________________________________________________\n",
      "covertype_rec_cat2 (Dense)      (None, 119)          61047       covertype_dec_dense12[0][0]      \n",
      "__________________________________________________________________________________________________\n",
      "covertype_rec_cat3 (Dense)      (None, 21)           10773       covertype_dec_dense12[0][0]      \n",
      "__________________________________________________________________________________________________\n",
      "covertype_rec_cat4 (Dense)      (None, 109)          55917       covertype_dec_dense12[0][0]      \n",
      "__________________________________________________________________________________________________\n",
      "covertype_rec_cat5 (Dense)      (None, 146)          74898       covertype_dec_dense12[0][0]      \n",
      "__________________________________________________________________________________________________\n",
      "covertype_rec_cat6 (Dense)      (None, 256)          131328      covertype_dec_dense12[0][0]      \n",
      "__________________________________________________________________________________________________\n",
      "covertype_rec_cat7 (Dense)      (None, 64)           32832       covertype_dec_dense12[0][0]      \n",
      "__________________________________________________________________________________________________\n",
      "covertype_rec_cat8 (Dense)      (None, 54)           27702       covertype_dec_dense12[0][0]      \n",
      "__________________________________________________________________________________________________\n",
      "covertype_rec_cat9 (Dense)      (None, 85)           43605       covertype_dec_dense12[0][0]      \n",
      "__________________________________________________________________________________________________\n",
      "covertype_rec_cat10 (Dense)     (None, 256)          131328      covertype_dec_dense12[0][0]      \n",
      "__________________________________________________________________________________________________\n",
      "covertype_cls (Functional)      (None, 7)            36871       covertype_z[0][0]                \n",
      "__________________________________________________________________________________________________\n",
      "covertype_bernoulli (Independen multiple             0           covertype_rec_binary[0][0]       \n",
      "__________________________________________________________________________________________________\n",
      "covertype_categorical1 (OneHotC multiple             0           covertype_rec_cat1[0][0]         \n",
      "__________________________________________________________________________________________________\n",
      "covertype_categorical2 (OneHotC multiple             0           covertype_rec_cat2[0][0]         \n",
      "__________________________________________________________________________________________________\n",
      "covertype_categorical3 (OneHotC multiple             0           covertype_rec_cat3[0][0]         \n",
      "__________________________________________________________________________________________________\n",
      "covertype_categorical4 (OneHotC multiple             0           covertype_rec_cat4[0][0]         \n",
      "__________________________________________________________________________________________________\n",
      "covertype_categorical5 (OneHotC multiple             0           covertype_rec_cat5[0][0]         \n",
      "__________________________________________________________________________________________________\n",
      "covertype_categorical6 (OneHotC multiple             0           covertype_rec_cat6[0][0]         \n",
      "__________________________________________________________________________________________________\n",
      "covertype_categorical7 (OneHotC multiple             0           covertype_rec_cat7[0][0]         \n",
      "__________________________________________________________________________________________________\n",
      "covertype_categorical8 (OneHotC multiple             0           covertype_rec_cat8[0][0]         \n",
      "__________________________________________________________________________________________________\n",
      "covertype_categorical9 (OneHotC multiple             0           covertype_rec_cat9[0][0]         \n",
      "__________________________________________________________________________________________________\n",
      "covertype_categorical10 (OneHot multiple             0           covertype_rec_cat10[0][0]        \n",
      "==================================================================================================\n",
      "Total params: 6,665,737\n",
      "Trainable params: 6,665,737\n",
      "Non-trainable params: 0\n",
      "__________________________________________________________________________________________________\n"
     ]
    }
   ],
   "source": [
    "trainable_nn.summary()"
   ]
  },
  {
   "cell_type": "code",
   "execution_count": 42,
   "metadata": {
    "id": "5F-mTtjB5WrP"
   },
   "outputs": [],
   "source": [
    "nn_fname = 'covertype_united.h5'"
   ]
  },
  {
   "cell_type": "code",
   "execution_count": 43,
   "metadata": {
    "id": "CkUNeVkB4ysG"
   },
   "outputs": [],
   "source": [
    "callbacks = [\n",
    "    tf.keras.callbacks.EarlyStopping(\n",
    "        monitor=\"val_loss\",\n",
    "        patience=ES_PATIENCE,\n",
    "        mode=\"min\",\n",
    "        restore_best_weights=False\n",
    "    ),\n",
    "    tf.keras.callbacks.ModelCheckpoint(\n",
    "        filepath=nn_fname,\n",
    "        monitor=\"val_loss\",\n",
    "        mode=\"min\",\n",
    "        save_best_only=True,\n",
    "        save_weights_only=True\n",
    "    )\n",
    "]"
   ]
  },
  {
   "cell_type": "code",
   "execution_count": 44,
   "metadata": {
    "id": "P5yO4Kj-5n_g"
   },
   "outputs": [
    {
     "name": "stdout",
     "output_type": "stream",
     "text": [
      "Epoch 1/1000\n",
      "129/129 [==============================] - 47s 220ms/step - loss: 73.7943 - covertype_cls_loss: 1.2101 - covertype_bernoulli_loss: 4.0044 - covertype_categorical1_loss: 4.8896 - covertype_categorical2_loss: 4.6832 - covertype_categorical3_loss: 2.5523 - covertype_categorical4_loss: 4.2303 - covertype_categorical5_loss: 4.7577 - covertype_categorical6_loss: 5.6078 - covertype_categorical7_loss: 3.8577 - covertype_categorical8_loss: 3.8207 - covertype_categorical9_loss: 4.1559 - covertype_categorical10_loss: 5.6422 - covertype_cls_categorical_accuracy: 0.5825 - val_loss: 64.5001 - val_covertype_cls_loss: 1.0911 - val_covertype_bernoulli_loss: 0.8075 - val_covertype_categorical1_loss: 5.3048 - val_covertype_categorical2_loss: 3.9638 - val_covertype_categorical3_loss: 2.0860 - val_covertype_categorical4_loss: 4.1449 - val_covertype_categorical5_loss: 4.6012 - val_covertype_categorical6_loss: 5.4959 - val_covertype_categorical7_loss: 3.2637 - val_covertype_categorical8_loss: 3.3224 - val_covertype_categorical9_loss: 3.5002 - val_covertype_categorical10_loss: 5.5550 - val_covertype_cls_categorical_accuracy: 0.5858\n",
      "Epoch 2/1000\n",
      "129/129 [==============================] - 28s 214ms/step - loss: 53.7059 - covertype_cls_loss: 0.8281 - covertype_bernoulli_loss: 0.4531 - covertype_categorical1_loss: 3.8397 - covertype_categorical2_loss: 3.1833 - covertype_categorical3_loss: 1.6551 - covertype_categorical4_loss: 3.4070 - covertype_categorical5_loss: 4.0515 - covertype_categorical6_loss: 4.9534 - covertype_categorical7_loss: 2.6691 - covertype_categorical8_loss: 2.7306 - covertype_categorical9_loss: 2.9134 - covertype_categorical10_loss: 5.1450 - covertype_cls_categorical_accuracy: 0.7357 - val_loss: 54.0298 - val_covertype_cls_loss: 1.0119 - val_covertype_bernoulli_loss: 0.3678 - val_covertype_categorical1_loss: 4.7393 - val_covertype_categorical2_loss: 2.7635 - val_covertype_categorical3_loss: 1.4670 - val_covertype_categorical4_loss: 3.5370 - val_covertype_categorical5_loss: 4.1422 - val_covertype_categorical6_loss: 5.1374 - val_covertype_categorical7_loss: 2.4745 - val_covertype_categorical8_loss: 2.4034 - val_covertype_categorical9_loss: 2.7253 - val_covertype_categorical10_loss: 5.3139 - val_covertype_cls_categorical_accuracy: 0.6381\n",
      "Epoch 3/1000\n",
      "129/129 [==============================] - 30s 230ms/step - loss: 47.3131 - covertype_cls_loss: 0.7616 - covertype_bernoulli_loss: 0.2486 - covertype_categorical1_loss: 3.4531 - covertype_categorical2_loss: 2.5273 - covertype_categorical3_loss: 1.2767 - covertype_categorical4_loss: 3.0750 - covertype_categorical5_loss: 3.7740 - covertype_categorical6_loss: 4.6563 - covertype_categorical7_loss: 2.1965 - covertype_categorical8_loss: 2.1995 - covertype_categorical9_loss: 2.4464 - covertype_categorical10_loss: 4.9015 - covertype_cls_categorical_accuracy: 0.7718 - val_loss: 51.0210 - val_covertype_cls_loss: 0.9485 - val_covertype_bernoulli_loss: 0.2609 - val_covertype_categorical1_loss: 4.5908 - val_covertype_categorical2_loss: 2.4459 - val_covertype_categorical3_loss: 1.2662 - val_covertype_categorical4_loss: 3.4652 - val_covertype_categorical5_loss: 4.1031 - val_covertype_categorical6_loss: 4.9897 - val_covertype_categorical7_loss: 2.2051 - val_covertype_categorical8_loss: 2.1225 - val_covertype_categorical9_loss: 2.4594 - val_covertype_categorical10_loss: 5.1838 - val_covertype_cls_categorical_accuracy: 0.6673\n",
      "Epoch 4/1000\n",
      "129/129 [==============================] - 31s 239ms/step - loss: 44.2592 - covertype_cls_loss: 0.7169 - covertype_bernoulli_loss: 0.1801 - covertype_categorical1_loss: 3.2170 - covertype_categorical2_loss: 2.3095 - covertype_categorical3_loss: 1.1140 - covertype_categorical4_loss: 2.9383 - covertype_categorical5_loss: 3.6431 - covertype_categorical6_loss: 4.3719 - covertype_categorical7_loss: 2.0225 - covertype_categorical8_loss: 1.9999 - covertype_categorical9_loss: 2.2741 - covertype_categorical10_loss: 4.6647 - covertype_cls_categorical_accuracy: 0.7958 - val_loss: 47.3983 - val_covertype_cls_loss: 0.9183 - val_covertype_bernoulli_loss: 0.2117 - val_covertype_categorical1_loss: 4.3085 - val_covertype_categorical2_loss: 2.2089 - val_covertype_categorical3_loss: 1.0550 - val_covertype_categorical4_loss: 3.2235 - val_covertype_categorical5_loss: 3.8788 - val_covertype_categorical6_loss: 4.6565 - val_covertype_categorical7_loss: 2.0149 - val_covertype_categorical8_loss: 1.9097 - val_covertype_categorical9_loss: 2.2963 - val_covertype_categorical10_loss: 4.9233 - val_covertype_cls_categorical_accuracy: 0.6858\n",
      "Epoch 5/1000\n",
      "129/129 [==============================] - 28s 214ms/step - loss: 41.9678 - covertype_cls_loss: 0.6828 - covertype_bernoulli_loss: 0.1510 - covertype_categorical1_loss: 3.0475 - covertype_categorical2_loss: 2.1930 - covertype_categorical3_loss: 1.0398 - covertype_categorical4_loss: 2.8155 - covertype_categorical5_loss: 3.4979 - covertype_categorical6_loss: 4.1143 - covertype_categorical7_loss: 1.9145 - covertype_categorical8_loss: 1.9035 - covertype_categorical9_loss: 2.1668 - covertype_categorical10_loss: 4.3769 - covertype_cls_categorical_accuracy: 0.8134 - val_loss: 46.4152 - val_covertype_cls_loss: 0.9140 - val_covertype_bernoulli_loss: 0.2100 - val_covertype_categorical1_loss: 4.2732 - val_covertype_categorical2_loss: 2.2028 - val_covertype_categorical3_loss: 1.0480 - val_covertype_categorical4_loss: 3.1457 - val_covertype_categorical5_loss: 3.7794 - val_covertype_categorical6_loss: 4.4774 - val_covertype_categorical7_loss: 1.9560 - val_covertype_categorical8_loss: 1.9131 - val_covertype_categorical9_loss: 2.2913 - val_covertype_categorical10_loss: 4.7226 - val_covertype_cls_categorical_accuracy: 0.6879\n",
      "Epoch 6/1000\n",
      "129/129 [==============================] - 30s 233ms/step - loss: 39.8965 - covertype_cls_loss: 0.6570 - covertype_bernoulli_loss: 0.1272 - covertype_categorical1_loss: 2.9043 - covertype_categorical2_loss: 2.0742 - covertype_categorical3_loss: 0.9593 - covertype_categorical4_loss: 2.7010 - covertype_categorical5_loss: 3.3558 - covertype_categorical6_loss: 3.9048 - covertype_categorical7_loss: 1.8312 - covertype_categorical8_loss: 1.7927 - covertype_categorical9_loss: 2.0785 - covertype_categorical10_loss: 4.1187 - covertype_cls_categorical_accuracy: 0.8256 - val_loss: 43.4924 - val_covertype_cls_loss: 0.8612 - val_covertype_bernoulli_loss: 0.1636 - val_covertype_categorical1_loss: 4.0440 - val_covertype_categorical2_loss: 2.0219 - val_covertype_categorical3_loss: 0.9006 - val_covertype_categorical4_loss: 2.9916 - val_covertype_categorical5_loss: 3.6044 - val_covertype_categorical6_loss: 4.2434 - val_covertype_categorical7_loss: 1.8374 - val_covertype_categorical8_loss: 1.7491 - val_covertype_categorical9_loss: 2.1217 - val_covertype_categorical10_loss: 4.4253 - val_covertype_cls_categorical_accuracy: 0.7123\n",
      "Epoch 7/1000\n",
      "129/129 [==============================] - 28s 215ms/step - loss: 38.4099 - covertype_cls_loss: 0.6322 - covertype_bernoulli_loss: 0.1077 - covertype_categorical1_loss: 2.7771 - covertype_categorical2_loss: 2.0206 - covertype_categorical3_loss: 0.9118 - covertype_categorical4_loss: 2.6139 - covertype_categorical5_loss: 3.2481 - covertype_categorical6_loss: 3.7449 - covertype_categorical7_loss: 1.7669 - covertype_categorical8_loss: 1.7516 - covertype_categorical9_loss: 2.0088 - covertype_categorical10_loss: 3.9155 - covertype_cls_categorical_accuracy: 0.8385 - val_loss: 44.9043 - val_covertype_cls_loss: 0.8570 - val_covertype_bernoulli_loss: 0.1549 - val_covertype_categorical1_loss: 4.0729 - val_covertype_categorical2_loss: 2.1777 - val_covertype_categorical3_loss: 1.0824 - val_covertype_categorical4_loss: 3.0436 - val_covertype_categorical5_loss: 3.5805 - val_covertype_categorical6_loss: 4.1968 - val_covertype_categorical7_loss: 2.0380 - val_covertype_categorical8_loss: 1.9191 - val_covertype_categorical9_loss: 2.3545 - val_covertype_categorical10_loss: 4.4231 - val_covertype_cls_categorical_accuracy: 0.7197\n",
      "Epoch 8/1000\n"
     ]
    },
    {
     "name": "stdout",
     "output_type": "stream",
     "text": [
      "129/129 [==============================] - 30s 236ms/step - loss: 37.1145 - covertype_cls_loss: 0.6132 - covertype_bernoulli_loss: 0.0937 - covertype_categorical1_loss: 2.6839 - covertype_categorical2_loss: 1.9333 - covertype_categorical3_loss: 0.8681 - covertype_categorical4_loss: 2.5396 - covertype_categorical5_loss: 3.1418 - covertype_categorical6_loss: 3.6120 - covertype_categorical7_loss: 1.7013 - covertype_categorical8_loss: 1.6962 - covertype_categorical9_loss: 1.9479 - covertype_categorical10_loss: 3.7931 - covertype_cls_categorical_accuracy: 0.8485 - val_loss: 41.3611 - val_covertype_cls_loss: 0.8282 - val_covertype_bernoulli_loss: 0.1214 - val_covertype_categorical1_loss: 3.8583 - val_covertype_categorical2_loss: 1.9167 - val_covertype_categorical3_loss: 0.8548 - val_covertype_categorical4_loss: 2.8540 - val_covertype_categorical5_loss: 3.4293 - val_covertype_categorical6_loss: 4.0259 - val_covertype_categorical7_loss: 1.7661 - val_covertype_categorical8_loss: 1.6441 - val_covertype_categorical9_loss: 2.0424 - val_covertype_categorical10_loss: 4.1851 - val_covertype_cls_categorical_accuracy: 0.7327\n",
      "Epoch 9/1000\n",
      "129/129 [==============================] - 30s 233ms/step - loss: 35.9772 - covertype_cls_loss: 0.5980 - covertype_bernoulli_loss: 0.0818 - covertype_categorical1_loss: 2.5917 - covertype_categorical2_loss: 1.8708 - covertype_categorical3_loss: 0.8373 - covertype_categorical4_loss: 2.4612 - covertype_categorical5_loss: 3.0584 - covertype_categorical6_loss: 3.4891 - covertype_categorical7_loss: 1.6501 - covertype_categorical8_loss: 1.6517 - covertype_categorical9_loss: 1.8968 - covertype_categorical10_loss: 3.6682 - covertype_cls_categorical_accuracy: 0.8563 - val_loss: 42.8674 - val_covertype_cls_loss: 0.8126 - val_covertype_bernoulli_loss: 0.1349 - val_covertype_categorical1_loss: 3.9139 - val_covertype_categorical2_loss: 2.2020 - val_covertype_categorical3_loss: 0.8978 - val_covertype_categorical4_loss: 2.8887 - val_covertype_categorical5_loss: 3.3798 - val_covertype_categorical6_loss: 4.0453 - val_covertype_categorical7_loss: 1.9850 - val_covertype_categorical8_loss: 1.7361 - val_covertype_categorical9_loss: 2.3187 - val_covertype_categorical10_loss: 4.2045 - val_covertype_cls_categorical_accuracy: 0.7396\n",
      "Epoch 10/1000\n",
      "129/129 [==============================] - 29s 222ms/step - loss: 35.1086 - covertype_cls_loss: 0.5836 - covertype_bernoulli_loss: 0.0741 - covertype_categorical1_loss: 2.5161 - covertype_categorical2_loss: 1.8546 - covertype_categorical3_loss: 0.8003 - covertype_categorical4_loss: 2.4129 - covertype_categorical5_loss: 2.9927 - covertype_categorical6_loss: 3.3962 - covertype_categorical7_loss: 1.6183 - covertype_categorical8_loss: 1.6168 - covertype_categorical9_loss: 1.8433 - covertype_categorical10_loss: 3.5583 - covertype_cls_categorical_accuracy: 0.8640 - val_loss: 39.8085 - val_covertype_cls_loss: 0.7885 - val_covertype_bernoulli_loss: 0.0958 - val_covertype_categorical1_loss: 3.7400 - val_covertype_categorical2_loss: 1.8581 - val_covertype_categorical3_loss: 0.7618 - val_covertype_categorical4_loss: 2.7754 - val_covertype_categorical5_loss: 3.2965 - val_covertype_categorical6_loss: 3.8826 - val_covertype_categorical7_loss: 1.6619 - val_covertype_categorical8_loss: 1.6068 - val_covertype_categorical9_loss: 1.9427 - val_covertype_categorical10_loss: 4.0646 - val_covertype_cls_categorical_accuracy: 0.7521\n",
      "Epoch 11/1000\n",
      "129/129 [==============================] - 29s 225ms/step - loss: 34.2239 - covertype_cls_loss: 0.5719 - covertype_bernoulli_loss: 0.0680 - covertype_categorical1_loss: 2.4494 - covertype_categorical2_loss: 1.7949 - covertype_categorical3_loss: 0.7868 - covertype_categorical4_loss: 2.3495 - covertype_categorical5_loss: 2.9226 - covertype_categorical6_loss: 3.3074 - covertype_categorical7_loss: 1.5787 - covertype_categorical8_loss: 1.5564 - covertype_categorical9_loss: 1.8090 - covertype_categorical10_loss: 3.4766 - covertype_cls_categorical_accuracy: 0.8692 - val_loss: 43.4617 - val_covertype_cls_loss: 0.7865 - val_covertype_bernoulli_loss: 0.1170 - val_covertype_categorical1_loss: 3.8487 - val_covertype_categorical2_loss: 2.4389 - val_covertype_categorical3_loss: 1.0017 - val_covertype_categorical4_loss: 2.7863 - val_covertype_categorical5_loss: 3.3030 - val_covertype_categorical6_loss: 3.9349 - val_covertype_categorical7_loss: 2.0430 - val_covertype_categorical8_loss: 2.2371 - val_covertype_categorical9_loss: 2.3182 - val_covertype_categorical10_loss: 4.0935 - val_covertype_cls_categorical_accuracy: 0.7548\n",
      "Epoch 12/1000\n",
      "129/129 [==============================] - 28s 217ms/step - loss: 33.4919 - covertype_cls_loss: 0.5623 - covertype_bernoulli_loss: 0.0660 - covertype_categorical1_loss: 2.4047 - covertype_categorical2_loss: 1.7564 - covertype_categorical3_loss: 0.7383 - covertype_categorical4_loss: 2.2938 - covertype_categorical5_loss: 2.8621 - covertype_categorical6_loss: 3.2527 - covertype_categorical7_loss: 1.5460 - covertype_categorical8_loss: 1.5266 - covertype_categorical9_loss: 1.7654 - covertype_categorical10_loss: 3.4013 - covertype_cls_categorical_accuracy: 0.8742 - val_loss: 38.3299 - val_covertype_cls_loss: 0.7571 - val_covertype_bernoulli_loss: 0.0878 - val_covertype_categorical1_loss: 3.6429 - val_covertype_categorical2_loss: 1.7660 - val_covertype_categorical3_loss: 0.6847 - val_covertype_categorical4_loss: 2.6697 - val_covertype_categorical5_loss: 3.1959 - val_covertype_categorical6_loss: 3.7639 - val_covertype_categorical7_loss: 1.5855 - val_covertype_categorical8_loss: 1.4944 - val_covertype_categorical9_loss: 1.8579 - val_covertype_categorical10_loss: 3.9614 - val_covertype_cls_categorical_accuracy: 0.7684\n",
      "Epoch 13/1000\n",
      "129/129 [==============================] - 27s 210ms/step - loss: 32.6292 - covertype_cls_loss: 0.5512 - covertype_bernoulli_loss: 0.0582 - covertype_categorical1_loss: 2.3388 - covertype_categorical2_loss: 1.7078 - covertype_categorical3_loss: 0.7071 - covertype_categorical4_loss: 2.2563 - covertype_categorical5_loss: 2.8022 - covertype_categorical6_loss: 3.1412 - covertype_categorical7_loss: 1.4913 - covertype_categorical8_loss: 1.4930 - covertype_categorical9_loss: 1.7226 - covertype_categorical10_loss: 3.3248 - covertype_cls_categorical_accuracy: 0.8797 - val_loss: 40.4961 - val_covertype_cls_loss: 0.7672 - val_covertype_bernoulli_loss: 0.1155 - val_covertype_categorical1_loss: 3.7371 - val_covertype_categorical2_loss: 1.8882 - val_covertype_categorical3_loss: 0.9533 - val_covertype_categorical4_loss: 2.8275 - val_covertype_categorical5_loss: 3.3477 - val_covertype_categorical6_loss: 3.8297 - val_covertype_categorical7_loss: 1.7188 - val_covertype_categorical8_loss: 1.7016 - val_covertype_categorical9_loss: 2.0153 - val_covertype_categorical10_loss: 4.0138 - val_covertype_cls_categorical_accuracy: 0.7665\n",
      "Epoch 14/1000\n",
      "129/129 [==============================] - 28s 215ms/step - loss: 31.8786 - covertype_cls_loss: 0.5408 - covertype_bernoulli_loss: 0.0567 - covertype_categorical1_loss: 2.2953 - covertype_categorical2_loss: 1.6582 - covertype_categorical3_loss: 0.6928 - covertype_categorical4_loss: 2.2192 - covertype_categorical5_loss: 2.7544 - covertype_categorical6_loss: 3.0761 - covertype_categorical7_loss: 1.4488 - covertype_categorical8_loss: 1.4342 - covertype_categorical9_loss: 1.6647 - covertype_categorical10_loss: 3.2464 - covertype_cls_categorical_accuracy: 0.8845 - val_loss: 37.5673 - val_covertype_cls_loss: 0.7226 - val_covertype_bernoulli_loss: 0.0791 - val_covertype_categorical1_loss: 3.5763 - val_covertype_categorical2_loss: 1.7631 - val_covertype_categorical3_loss: 0.6563 - val_covertype_categorical4_loss: 2.6091 - val_covertype_categorical5_loss: 3.1171 - val_covertype_categorical6_loss: 3.6984 - val_covertype_categorical7_loss: 1.5732 - val_covertype_categorical8_loss: 1.4775 - val_covertype_categorical9_loss: 1.8253 - val_covertype_categorical10_loss: 3.8491 - val_covertype_cls_categorical_accuracy: 0.7868\n",
      "Epoch 15/1000\n"
     ]
    },
    {
     "name": "stdout",
     "output_type": "stream",
     "text": [
      "129/129 [==============================] - 28s 218ms/step - loss: 31.5264 - covertype_cls_loss: 0.5362 - covertype_bernoulli_loss: 0.0551 - covertype_categorical1_loss: 2.2552 - covertype_categorical2_loss: 1.6410 - covertype_categorical3_loss: 0.7028 - covertype_categorical4_loss: 2.2032 - covertype_categorical5_loss: 2.7371 - covertype_categorical6_loss: 3.0083 - covertype_categorical7_loss: 1.4456 - covertype_categorical8_loss: 1.4461 - covertype_categorical9_loss: 1.6550 - covertype_categorical10_loss: 3.1636 - covertype_cls_categorical_accuracy: 0.8863 - val_loss: 42.1221 - val_covertype_cls_loss: 0.7494 - val_covertype_bernoulli_loss: 0.0858 - val_covertype_categorical1_loss: 3.6486 - val_covertype_categorical2_loss: 2.1683 - val_covertype_categorical3_loss: 1.1574 - val_covertype_categorical4_loss: 2.8194 - val_covertype_categorical5_loss: 3.3154 - val_covertype_categorical6_loss: 3.7480 - val_covertype_categorical7_loss: 1.9580 - val_covertype_categorical8_loss: 2.0616 - val_covertype_categorical9_loss: 2.3424 - val_covertype_categorical10_loss: 3.9368 - val_covertype_cls_categorical_accuracy: 0.7750\n",
      "Epoch 16/1000\n",
      "129/129 [==============================] - 28s 215ms/step - loss: 30.7237 - covertype_cls_loss: 0.5286 - covertype_bernoulli_loss: 0.0505 - covertype_categorical1_loss: 2.2059 - covertype_categorical2_loss: 1.5739 - covertype_categorical3_loss: 0.6819 - covertype_categorical4_loss: 2.1260 - covertype_categorical5_loss: 2.6661 - covertype_categorical6_loss: 2.9405 - covertype_categorical7_loss: 1.3918 - covertype_categorical8_loss: 1.4131 - covertype_categorical9_loss: 1.6152 - covertype_categorical10_loss: 3.1152 - covertype_cls_categorical_accuracy: 0.8900 - val_loss: 36.8072 - val_covertype_cls_loss: 0.7086 - val_covertype_bernoulli_loss: 0.0788 - val_covertype_categorical1_loss: 3.5167 - val_covertype_categorical2_loss: 1.6952 - val_covertype_categorical3_loss: 0.6502 - val_covertype_categorical4_loss: 2.5473 - val_covertype_categorical5_loss: 3.0448 - val_covertype_categorical6_loss: 3.6264 - val_covertype_categorical7_loss: 1.5345 - val_covertype_categorical8_loss: 1.4438 - val_covertype_categorical9_loss: 1.7932 - val_covertype_categorical10_loss: 3.7921 - val_covertype_cls_categorical_accuracy: 0.7934\n",
      "Epoch 17/1000\n",
      "129/129 [==============================] - 30s 230ms/step - loss: 30.2210 - covertype_cls_loss: 0.5202 - covertype_bernoulli_loss: 0.0494 - covertype_categorical1_loss: 2.1674 - covertype_categorical2_loss: 1.5691 - covertype_categorical3_loss: 0.6633 - covertype_categorical4_loss: 2.1082 - covertype_categorical5_loss: 2.6306 - covertype_categorical6_loss: 2.8730 - covertype_categorical7_loss: 1.3766 - covertype_categorical8_loss: 1.3725 - covertype_categorical9_loss: 1.5820 - covertype_categorical10_loss: 3.0565 - covertype_cls_categorical_accuracy: 0.8941 - val_loss: 38.9831 - val_covertype_cls_loss: 0.7282 - val_covertype_bernoulli_loss: 0.0936 - val_covertype_categorical1_loss: 3.5989 - val_covertype_categorical2_loss: 1.8229 - val_covertype_categorical3_loss: 0.9251 - val_covertype_categorical4_loss: 2.6562 - val_covertype_categorical5_loss: 3.1267 - val_covertype_categorical6_loss: 3.6791 - val_covertype_categorical7_loss: 1.8014 - val_covertype_categorical8_loss: 1.5927 - val_covertype_categorical9_loss: 1.9807 - val_covertype_categorical10_loss: 3.8834 - val_covertype_cls_categorical_accuracy: 0.7849\n",
      "Epoch 18/1000\n",
      "129/129 [==============================] - 31s 237ms/step - loss: 29.7015 - covertype_cls_loss: 0.5138 - covertype_bernoulli_loss: 0.0475 - covertype_categorical1_loss: 2.1293 - covertype_categorical2_loss: 1.5515 - covertype_categorical3_loss: 0.6389 - covertype_categorical4_loss: 2.0572 - covertype_categorical5_loss: 2.5745 - covertype_categorical6_loss: 2.8287 - covertype_categorical7_loss: 1.3498 - covertype_categorical8_loss: 1.3580 - covertype_categorical9_loss: 1.5501 - covertype_categorical10_loss: 3.0189 - covertype_cls_categorical_accuracy: 0.8972 - val_loss: 36.6060 - val_covertype_cls_loss: 0.6922 - val_covertype_bernoulli_loss: 0.0740 - val_covertype_categorical1_loss: 3.4560 - val_covertype_categorical2_loss: 1.7429 - val_covertype_categorical3_loss: 0.6531 - val_covertype_categorical4_loss: 2.5253 - val_covertype_categorical5_loss: 3.0130 - val_covertype_categorical6_loss: 3.6062 - val_covertype_categorical7_loss: 1.5115 - val_covertype_categorical8_loss: 1.4806 - val_covertype_categorical9_loss: 1.7788 - val_covertype_categorical10_loss: 3.7576 - val_covertype_cls_categorical_accuracy: 0.8002\n",
      "Epoch 19/1000\n",
      "129/129 [==============================] - 31s 243ms/step - loss: 29.4401 - covertype_cls_loss: 0.5104 - covertype_bernoulli_loss: 0.0495 - covertype_categorical1_loss: 2.1084 - covertype_categorical2_loss: 1.5268 - covertype_categorical3_loss: 0.6180 - covertype_categorical4_loss: 2.0946 - covertype_categorical5_loss: 2.6082 - covertype_categorical6_loss: 2.7820 - covertype_categorical7_loss: 1.3365 - covertype_categorical8_loss: 1.3239 - covertype_categorical9_loss: 1.5374 - covertype_categorical10_loss: 2.9455 - covertype_cls_categorical_accuracy: 0.8993 - val_loss: 38.0072 - val_covertype_cls_loss: 0.7144 - val_covertype_bernoulli_loss: 0.0931 - val_covertype_categorical1_loss: 3.5783 - val_covertype_categorical2_loss: 1.8779 - val_covertype_categorical3_loss: 0.6789 - val_covertype_categorical4_loss: 2.5924 - val_covertype_categorical5_loss: 3.0925 - val_covertype_categorical6_loss: 3.6233 - val_covertype_categorical7_loss: 1.6273 - val_covertype_categorical8_loss: 1.5858 - val_covertype_categorical9_loss: 1.9277 - val_covertype_categorical10_loss: 3.8347 - val_covertype_cls_categorical_accuracy: 0.7928\n",
      "Epoch 20/1000\n",
      "129/129 [==============================] - 30s 233ms/step - loss: 28.4919 - covertype_cls_loss: 0.5006 - covertype_bernoulli_loss: 0.0434 - covertype_categorical1_loss: 2.0584 - covertype_categorical2_loss: 1.4605 - covertype_categorical3_loss: 0.5945 - covertype_categorical4_loss: 2.0038 - covertype_categorical5_loss: 2.5240 - covertype_categorical6_loss: 2.6952 - covertype_categorical7_loss: 1.2664 - covertype_categorical8_loss: 1.2979 - covertype_categorical9_loss: 1.4751 - covertype_categorical10_loss: 2.8841 - covertype_cls_categorical_accuracy: 0.9035 - val_loss: 35.9942 - val_covertype_cls_loss: 0.6815 - val_covertype_bernoulli_loss: 0.0660 - val_covertype_categorical1_loss: 3.4263 - val_covertype_categorical2_loss: 1.6132 - val_covertype_categorical3_loss: 0.6305 - val_covertype_categorical4_loss: 2.5840 - val_covertype_categorical5_loss: 3.0739 - val_covertype_categorical6_loss: 3.5112 - val_covertype_categorical7_loss: 1.4599 - val_covertype_categorical8_loss: 1.3847 - val_covertype_categorical9_loss: 1.7309 - val_covertype_categorical10_loss: 3.7150 - val_covertype_cls_categorical_accuracy: 0.8106\n",
      "Epoch 21/1000\n",
      "129/129 [==============================] - 30s 230ms/step - loss: 28.3603 - covertype_cls_loss: 0.5003 - covertype_bernoulli_loss: 0.0448 - covertype_categorical1_loss: 2.0442 - covertype_categorical2_loss: 1.4967 - covertype_categorical3_loss: 0.5741 - covertype_categorical4_loss: 1.9874 - covertype_categorical5_loss: 2.4903 - covertype_categorical6_loss: 2.6743 - covertype_categorical7_loss: 1.3033 - covertype_categorical8_loss: 1.2793 - covertype_categorical9_loss: 1.4679 - covertype_categorical10_loss: 2.8527 - covertype_cls_categorical_accuracy: 0.9040 - val_loss: 37.8915 - val_covertype_cls_loss: 0.6954 - val_covertype_bernoulli_loss: 0.0837 - val_covertype_categorical1_loss: 3.5328 - val_covertype_categorical2_loss: 1.8633 - val_covertype_categorical3_loss: 0.7460 - val_covertype_categorical4_loss: 2.5950 - val_covertype_categorical5_loss: 3.0448 - val_covertype_categorical6_loss: 3.5939 - val_covertype_categorical7_loss: 1.7251 - val_covertype_categorical8_loss: 1.5065 - val_covertype_categorical9_loss: 1.9787 - val_covertype_categorical10_loss: 3.7778 - val_covertype_cls_categorical_accuracy: 0.8018\n",
      "Epoch 22/1000\n"
     ]
    },
    {
     "name": "stdout",
     "output_type": "stream",
     "text": [
      "129/129 [==============================] - 30s 229ms/step - loss: 27.9267 - covertype_cls_loss: 0.4948 - covertype_bernoulli_loss: 0.0448 - covertype_categorical1_loss: 2.0163 - covertype_categorical2_loss: 1.4384 - covertype_categorical3_loss: 0.5802 - covertype_categorical4_loss: 1.9769 - covertype_categorical5_loss: 2.4864 - covertype_categorical6_loss: 2.6311 - covertype_categorical7_loss: 1.2569 - covertype_categorical8_loss: 1.2594 - covertype_categorical9_loss: 1.4467 - covertype_categorical10_loss: 2.7904 - covertype_cls_categorical_accuracy: 0.9064 - val_loss: 34.9579 - val_covertype_cls_loss: 0.6730 - val_covertype_bernoulli_loss: 0.0603 - val_covertype_categorical1_loss: 3.3763 - val_covertype_categorical2_loss: 1.5854 - val_covertype_categorical3_loss: 0.5281 - val_covertype_categorical4_loss: 2.4824 - val_covertype_categorical5_loss: 2.9937 - val_covertype_categorical6_loss: 3.4514 - val_covertype_categorical7_loss: 1.4130 - val_covertype_categorical8_loss: 1.3407 - val_covertype_categorical9_loss: 1.6421 - val_covertype_categorical10_loss: 3.6313 - val_covertype_cls_categorical_accuracy: 0.8119\n",
      "Epoch 23/1000\n",
      "129/129 [==============================] - 29s 227ms/step - loss: 27.3520 - covertype_cls_loss: 0.4890 - covertype_bernoulli_loss: 0.0416 - covertype_categorical1_loss: 1.9889 - covertype_categorical2_loss: 1.4054 - covertype_categorical3_loss: 0.5307 - covertype_categorical4_loss: 1.9615 - covertype_categorical5_loss: 2.4425 - covertype_categorical6_loss: 2.5861 - covertype_categorical7_loss: 1.2238 - covertype_categorical8_loss: 1.2031 - covertype_categorical9_loss: 1.4077 - covertype_categorical10_loss: 2.7556 - covertype_cls_categorical_accuracy: 0.9093 - val_loss: 38.4308 - val_covertype_cls_loss: 0.6925 - val_covertype_bernoulli_loss: 0.0897 - val_covertype_categorical1_loss: 3.5108 - val_covertype_categorical2_loss: 1.6954 - val_covertype_categorical3_loss: 1.1267 - val_covertype_categorical4_loss: 2.7200 - val_covertype_categorical5_loss: 3.1514 - val_covertype_categorical6_loss: 3.5456 - val_covertype_categorical7_loss: 1.6983 - val_covertype_categorical8_loss: 1.5580 - val_covertype_categorical9_loss: 1.9794 - val_covertype_categorical10_loss: 3.7368 - val_covertype_cls_categorical_accuracy: 0.8028\n",
      "Epoch 24/1000\n",
      "129/129 [==============================] - 30s 233ms/step - loss: 26.8265 - covertype_cls_loss: 0.4815 - covertype_bernoulli_loss: 0.0401 - covertype_categorical1_loss: 1.9499 - covertype_categorical2_loss: 1.3543 - covertype_categorical3_loss: 0.5650 - covertype_categorical4_loss: 1.9072 - covertype_categorical5_loss: 2.4005 - covertype_categorical6_loss: 2.5203 - covertype_categorical7_loss: 1.2009 - covertype_categorical8_loss: 1.2033 - covertype_categorical9_loss: 1.3747 - covertype_categorical10_loss: 2.6852 - covertype_cls_categorical_accuracy: 0.9122 - val_loss: 34.8686 - val_covertype_cls_loss: 0.6597 - val_covertype_bernoulli_loss: 0.0595 - val_covertype_categorical1_loss: 3.3400 - val_covertype_categorical2_loss: 1.5920 - val_covertype_categorical3_loss: 0.5615 - val_covertype_categorical4_loss: 2.4836 - val_covertype_categorical5_loss: 2.9787 - val_covertype_categorical6_loss: 3.4269 - val_covertype_categorical7_loss: 1.4164 - val_covertype_categorical8_loss: 1.3546 - val_covertype_categorical9_loss: 1.6547 - val_covertype_categorical10_loss: 3.5871 - val_covertype_cls_categorical_accuracy: 0.8206\n",
      "Epoch 25/1000\n",
      "129/129 [==============================] - 32s 246ms/step - loss: 26.4960 - covertype_cls_loss: 0.4788 - covertype_bernoulli_loss: 0.0392 - covertype_categorical1_loss: 1.9258 - covertype_categorical2_loss: 1.3692 - covertype_categorical3_loss: 0.5355 - covertype_categorical4_loss: 1.8644 - covertype_categorical5_loss: 2.3637 - covertype_categorical6_loss: 2.4728 - covertype_categorical7_loss: 1.1929 - covertype_categorical8_loss: 1.1872 - covertype_categorical9_loss: 1.3645 - covertype_categorical10_loss: 2.6659 - covertype_cls_categorical_accuracy: 0.9135 - val_loss: 36.6705 - val_covertype_cls_loss: 0.6616 - val_covertype_bernoulli_loss: 0.0736 - val_covertype_categorical1_loss: 3.4910 - val_covertype_categorical2_loss: 1.7921 - val_covertype_categorical3_loss: 0.7001 - val_covertype_categorical4_loss: 2.5190 - val_covertype_categorical5_loss: 3.0134 - val_covertype_categorical6_loss: 3.5533 - val_covertype_categorical7_loss: 1.4960 - val_covertype_categorical8_loss: 1.5096 - val_covertype_categorical9_loss: 1.8192 - val_covertype_categorical10_loss: 3.6855 - val_covertype_cls_categorical_accuracy: 0.8187\n",
      "Epoch 26/1000\n",
      "129/129 [==============================] - 32s 247ms/step - loss: 25.8418 - covertype_cls_loss: 0.4730 - covertype_bernoulli_loss: 0.0372 - covertype_categorical1_loss: 1.8868 - covertype_categorical2_loss: 1.3166 - covertype_categorical3_loss: 0.5136 - covertype_categorical4_loss: 1.8179 - covertype_categorical5_loss: 2.3188 - covertype_categorical6_loss: 2.4325 - covertype_categorical7_loss: 1.1459 - covertype_categorical8_loss: 1.1446 - covertype_categorical9_loss: 1.3211 - covertype_categorical10_loss: 2.6135 - covertype_cls_categorical_accuracy: 0.9163 - val_loss: 33.8490 - val_covertype_cls_loss: 0.6429 - val_covertype_bernoulli_loss: 0.0577 - val_covertype_categorical1_loss: 3.2934 - val_covertype_categorical2_loss: 1.5325 - val_covertype_categorical3_loss: 0.4769 - val_covertype_categorical4_loss: 2.3884 - val_covertype_categorical5_loss: 2.8956 - val_covertype_categorical6_loss: 3.3967 - val_covertype_categorical7_loss: 1.3285 - val_covertype_categorical8_loss: 1.2780 - val_covertype_categorical9_loss: 1.5730 - val_covertype_categorical10_loss: 3.5630 - val_covertype_cls_categorical_accuracy: 0.8277\n",
      "Epoch 27/1000\n",
      "129/129 [==============================] - 32s 250ms/step - loss: 26.3175 - covertype_cls_loss: 0.4758 - covertype_bernoulli_loss: 0.0424 - covertype_categorical1_loss: 1.8915 - covertype_categorical2_loss: 1.3818 - covertype_categorical3_loss: 0.5556 - covertype_categorical4_loss: 1.8493 - covertype_categorical5_loss: 2.3338 - covertype_categorical6_loss: 2.4353 - covertype_categorical7_loss: 1.2141 - covertype_categorical8_loss: 1.1899 - covertype_categorical9_loss: 1.3743 - covertype_categorical10_loss: 2.5951 - covertype_cls_categorical_accuracy: 0.9148 - val_loss: 36.3150 - val_covertype_cls_loss: 0.6695 - val_covertype_bernoulli_loss: 0.0757 - val_covertype_categorical1_loss: 3.4282 - val_covertype_categorical2_loss: 1.6572 - val_covertype_categorical3_loss: 0.7471 - val_covertype_categorical4_loss: 2.5727 - val_covertype_categorical5_loss: 3.0055 - val_covertype_categorical6_loss: 3.4948 - val_covertype_categorical7_loss: 1.5422 - val_covertype_categorical8_loss: 1.4558 - val_covertype_categorical9_loss: 1.7761 - val_covertype_categorical10_loss: 3.6577 - val_covertype_cls_categorical_accuracy: 0.8169\n",
      "Epoch 28/1000\n",
      "129/129 [==============================] - 32s 250ms/step - loss: 25.4781 - covertype_cls_loss: 0.4669 - covertype_bernoulli_loss: 0.0360 - covertype_categorical1_loss: 1.8617 - covertype_categorical2_loss: 1.2835 - covertype_categorical3_loss: 0.5101 - covertype_categorical4_loss: 1.8399 - covertype_categorical5_loss: 2.3134 - covertype_categorical6_loss: 2.3858 - covertype_categorical7_loss: 1.1232 - covertype_categorical8_loss: 1.1233 - covertype_categorical9_loss: 1.2794 - covertype_categorical10_loss: 2.5518 - covertype_cls_categorical_accuracy: 0.9192 - val_loss: 34.0755 - val_covertype_cls_loss: 0.6368 - val_covertype_bernoulli_loss: 0.0601 - val_covertype_categorical1_loss: 3.2764 - val_covertype_categorical2_loss: 1.6095 - val_covertype_categorical3_loss: 0.4799 - val_covertype_categorical4_loss: 2.4244 - val_covertype_categorical5_loss: 2.9230 - val_covertype_categorical6_loss: 3.3557 - val_covertype_categorical7_loss: 1.3703 - val_covertype_categorical8_loss: 1.3502 - val_covertype_categorical9_loss: 1.5673 - val_covertype_categorical10_loss: 3.5233 - val_covertype_cls_categorical_accuracy: 0.8286\n",
      "Epoch 29/1000\n"
     ]
    },
    {
     "name": "stdout",
     "output_type": "stream",
     "text": [
      "129/129 [==============================] - 32s 250ms/step - loss: 25.0727 - covertype_cls_loss: 0.4642 - covertype_bernoulli_loss: 0.0359 - covertype_categorical1_loss: 1.8229 - covertype_categorical2_loss: 1.2761 - covertype_categorical3_loss: 0.4930 - covertype_categorical4_loss: 1.7719 - covertype_categorical5_loss: 2.2548 - covertype_categorical6_loss: 2.3413 - covertype_categorical7_loss: 1.1140 - covertype_categorical8_loss: 1.1178 - covertype_categorical9_loss: 1.2808 - covertype_categorical10_loss: 2.5304 - covertype_cls_categorical_accuracy: 0.9202 - val_loss: 36.7960 - val_covertype_cls_loss: 0.6470 - val_covertype_bernoulli_loss: 0.0738 - val_covertype_categorical1_loss: 3.3924 - val_covertype_categorical2_loss: 1.7827 - val_covertype_categorical3_loss: 0.7104 - val_covertype_categorical4_loss: 2.5075 - val_covertype_categorical5_loss: 2.9888 - val_covertype_categorical6_loss: 3.4801 - val_covertype_categorical7_loss: 1.7474 - val_covertype_categorical8_loss: 1.4676 - val_covertype_categorical9_loss: 1.9231 - val_covertype_categorical10_loss: 3.6720 - val_covertype_cls_categorical_accuracy: 0.8250\n",
      "Epoch 30/1000\n",
      "129/129 [==============================] - 32s 252ms/step - loss: 25.1765 - covertype_cls_loss: 0.4665 - covertype_bernoulli_loss: 0.0417 - covertype_categorical1_loss: 1.8308 - covertype_categorical2_loss: 1.2677 - covertype_categorical3_loss: 0.5224 - covertype_categorical4_loss: 1.7940 - covertype_categorical5_loss: 2.2549 - covertype_categorical6_loss: 2.3474 - covertype_categorical7_loss: 1.1178 - covertype_categorical8_loss: 1.1228 - covertype_categorical9_loss: 1.3065 - covertype_categorical10_loss: 2.4994 - covertype_cls_categorical_accuracy: 0.9195 - val_loss: 33.3918 - val_covertype_cls_loss: 0.6193 - val_covertype_bernoulli_loss: 0.0536 - val_covertype_categorical1_loss: 3.2371 - val_covertype_categorical2_loss: 1.4993 - val_covertype_categorical3_loss: 0.5045 - val_covertype_categorical4_loss: 2.3621 - val_covertype_categorical5_loss: 2.8880 - val_covertype_categorical6_loss: 3.3287 - val_covertype_categorical7_loss: 1.3212 - val_covertype_categorical8_loss: 1.2631 - val_covertype_categorical9_loss: 1.5442 - val_covertype_categorical10_loss: 3.4899 - val_covertype_cls_categorical_accuracy: 0.8382\n",
      "Epoch 31/1000\n",
      "129/129 [==============================] - 30s 233ms/step - loss: 24.1549 - covertype_cls_loss: 0.4547 - covertype_bernoulli_loss: 0.0336 - covertype_categorical1_loss: 1.7720 - covertype_categorical2_loss: 1.2587 - covertype_categorical3_loss: 0.4263 - covertype_categorical4_loss: 1.7011 - covertype_categorical5_loss: 2.1850 - covertype_categorical6_loss: 2.2630 - covertype_categorical7_loss: 1.1039 - covertype_categorical8_loss: 1.0374 - covertype_categorical9_loss: 1.2264 - covertype_categorical10_loss: 2.4246 - covertype_cls_categorical_accuracy: 0.9242 - val_loss: 35.2180 - val_covertype_cls_loss: 0.6246 - val_covertype_bernoulli_loss: 0.0670 - val_covertype_categorical1_loss: 3.3652 - val_covertype_categorical2_loss: 1.6883 - val_covertype_categorical3_loss: 0.5692 - val_covertype_categorical4_loss: 2.4574 - val_covertype_categorical5_loss: 2.9712 - val_covertype_categorical6_loss: 3.4296 - val_covertype_categorical7_loss: 1.4646 - val_covertype_categorical8_loss: 1.3476 - val_covertype_categorical9_loss: 1.5919 - val_covertype_categorical10_loss: 3.7559 - val_covertype_cls_categorical_accuracy: 0.8364\n",
      "Epoch 32/1000\n",
      "129/129 [==============================] - 33s 252ms/step - loss: 24.5911 - covertype_cls_loss: 0.4570 - covertype_bernoulli_loss: 0.0368 - covertype_categorical1_loss: 1.7900 - covertype_categorical2_loss: 1.2243 - covertype_categorical3_loss: 0.4921 - covertype_categorical4_loss: 1.7840 - covertype_categorical5_loss: 2.2534 - covertype_categorical6_loss: 2.3055 - covertype_categorical7_loss: 1.0562 - covertype_categorical8_loss: 1.0970 - covertype_categorical9_loss: 1.2332 - covertype_categorical10_loss: 2.4488 - covertype_cls_categorical_accuracy: 0.9238 - val_loss: 33.5331 - val_covertype_cls_loss: 0.6191 - val_covertype_bernoulli_loss: 0.0589 - val_covertype_categorical1_loss: 3.2334 - val_covertype_categorical2_loss: 1.5657 - val_covertype_categorical3_loss: 0.5212 - val_covertype_categorical4_loss: 2.3439 - val_covertype_categorical5_loss: 2.8756 - val_covertype_categorical6_loss: 3.3099 - val_covertype_categorical7_loss: 1.3197 - val_covertype_categorical8_loss: 1.3141 - val_covertype_categorical9_loss: 1.5725 - val_covertype_categorical10_loss: 3.4722 - val_covertype_cls_categorical_accuracy: 0.8368\n",
      "Epoch 33/1000\n",
      "129/129 [==============================] - 32s 250ms/step - loss: 24.0003 - covertype_cls_loss: 0.4587 - covertype_bernoulli_loss: 0.0371 - covertype_categorical1_loss: 1.7635 - covertype_categorical2_loss: 1.2251 - covertype_categorical3_loss: 0.4502 - covertype_categorical4_loss: 1.7101 - covertype_categorical5_loss: 2.1753 - covertype_categorical6_loss: 2.2346 - covertype_categorical7_loss: 1.0740 - covertype_categorical8_loss: 1.0369 - covertype_categorical9_loss: 1.2173 - covertype_categorical10_loss: 2.4006 - covertype_cls_categorical_accuracy: 0.9232 - val_loss: 34.5768 - val_covertype_cls_loss: 0.6190 - val_covertype_bernoulli_loss: 0.0697 - val_covertype_categorical1_loss: 3.3240 - val_covertype_categorical2_loss: 1.5829 - val_covertype_categorical3_loss: 0.5262 - val_covertype_categorical4_loss: 2.4420 - val_covertype_categorical5_loss: 3.0102 - val_covertype_categorical6_loss: 3.4354 - val_covertype_categorical7_loss: 1.3852 - val_covertype_categorical8_loss: 1.3440 - val_covertype_categorical9_loss: 1.5928 - val_covertype_categorical10_loss: 3.5696 - val_covertype_cls_categorical_accuracy: 0.8393\n",
      "Epoch 34/1000\n",
      "129/129 [==============================] - 32s 250ms/step - loss: 23.5448 - covertype_cls_loss: 0.4473 - covertype_bernoulli_loss: 0.0333 - covertype_categorical1_loss: 1.7237 - covertype_categorical2_loss: 1.2008 - covertype_categorical3_loss: 0.4330 - covertype_categorical4_loss: 1.6650 - covertype_categorical5_loss: 2.1427 - covertype_categorical6_loss: 2.1941 - covertype_categorical7_loss: 1.0473 - covertype_categorical8_loss: 1.0331 - covertype_categorical9_loss: 1.2070 - covertype_categorical10_loss: 2.3485 - covertype_cls_categorical_accuracy: 0.9281 - val_loss: 33.1997 - val_covertype_cls_loss: 0.6070 - val_covertype_bernoulli_loss: 0.0489 - val_covertype_categorical1_loss: 3.1854 - val_covertype_categorical2_loss: 1.5391 - val_covertype_categorical3_loss: 0.4839 - val_covertype_categorical4_loss: 2.3582 - val_covertype_categorical5_loss: 2.8543 - val_covertype_categorical6_loss: 3.2710 - val_covertype_categorical7_loss: 1.3345 - val_covertype_categorical8_loss: 1.2777 - val_covertype_categorical9_loss: 1.5705 - val_covertype_categorical10_loss: 3.4485 - val_covertype_cls_categorical_accuracy: 0.8450\n",
      "Epoch 35/1000\n",
      "129/129 [==============================] - 31s 237ms/step - loss: 23.8601 - covertype_cls_loss: 0.4536 - covertype_bernoulli_loss: 0.0400 - covertype_categorical1_loss: 1.7341 - covertype_categorical2_loss: 1.1703 - covertype_categorical3_loss: 0.4795 - covertype_categorical4_loss: 1.7679 - covertype_categorical5_loss: 2.2048 - covertype_categorical6_loss: 2.2090 - covertype_categorical7_loss: 1.0436 - covertype_categorical8_loss: 1.0292 - covertype_categorical9_loss: 1.1882 - covertype_categorical10_loss: 2.3671 - covertype_cls_categorical_accuracy: 0.9250 - val_loss: 34.1761 - val_covertype_cls_loss: 0.6332 - val_covertype_bernoulli_loss: 0.0699 - val_covertype_categorical1_loss: 3.3328 - val_covertype_categorical2_loss: 1.5418 - val_covertype_categorical3_loss: 0.5103 - val_covertype_categorical4_loss: 2.4252 - val_covertype_categorical5_loss: 2.9409 - val_covertype_categorical6_loss: 3.4066 - val_covertype_categorical7_loss: 1.3533 - val_covertype_categorical8_loss: 1.2868 - val_covertype_categorical9_loss: 1.5748 - val_covertype_categorical10_loss: 3.5621 - val_covertype_cls_categorical_accuracy: 0.8333\n",
      "Epoch 36/1000\n"
     ]
    },
    {
     "name": "stdout",
     "output_type": "stream",
     "text": [
      "129/129 [==============================] - 30s 234ms/step - loss: 23.2018 - covertype_cls_loss: 0.4465 - covertype_bernoulli_loss: 0.0351 - covertype_categorical1_loss: 1.6981 - covertype_categorical2_loss: 1.1841 - covertype_categorical3_loss: 0.4422 - covertype_categorical4_loss: 1.6138 - covertype_categorical5_loss: 2.0920 - covertype_categorical6_loss: 2.1636 - covertype_categorical7_loss: 1.0480 - covertype_categorical8_loss: 1.0201 - covertype_categorical9_loss: 1.2032 - covertype_categorical10_loss: 2.2996 - covertype_cls_categorical_accuracy: 0.9281 - val_loss: 32.7356 - val_covertype_cls_loss: 0.6040 - val_covertype_bernoulli_loss: 0.0558 - val_covertype_categorical1_loss: 3.1696 - val_covertype_categorical2_loss: 1.5071 - val_covertype_categorical3_loss: 0.4503 - val_covertype_categorical4_loss: 2.2862 - val_covertype_categorical5_loss: 2.8280 - val_covertype_categorical6_loss: 3.2680 - val_covertype_categorical7_loss: 1.3126 - val_covertype_categorical8_loss: 1.2279 - val_covertype_categorical9_loss: 1.5317 - val_covertype_categorical10_loss: 3.4255 - val_covertype_cls_categorical_accuracy: 0.8456\n",
      "Epoch 37/1000\n",
      "129/129 [==============================] - 32s 247ms/step - loss: 23.0548 - covertype_cls_loss: 0.4441 - covertype_bernoulli_loss: 0.0340 - covertype_categorical1_loss: 1.6868 - covertype_categorical2_loss: 1.1496 - covertype_categorical3_loss: 0.4353 - covertype_categorical4_loss: 1.6836 - covertype_categorical5_loss: 2.1445 - covertype_categorical6_loss: 2.1241 - covertype_categorical7_loss: 1.0011 - covertype_categorical8_loss: 1.0210 - covertype_categorical9_loss: 1.1397 - covertype_categorical10_loss: 2.2832 - covertype_cls_categorical_accuracy: 0.9292 - val_loss: 34.7477 - val_covertype_cls_loss: 0.6141 - val_covertype_bernoulli_loss: 0.0725 - val_covertype_categorical1_loss: 3.2908 - val_covertype_categorical2_loss: 1.5807 - val_covertype_categorical3_loss: 0.6844 - val_covertype_categorical4_loss: 2.4966 - val_covertype_categorical5_loss: 3.0314 - val_covertype_categorical6_loss: 3.4012 - val_covertype_categorical7_loss: 1.3734 - val_covertype_categorical8_loss: 1.3612 - val_covertype_categorical9_loss: 1.5947 - val_covertype_categorical10_loss: 3.5118 - val_covertype_cls_categorical_accuracy: 0.8412\n",
      "Epoch 38/1000\n",
      "129/129 [==============================] - 32s 250ms/step - loss: 22.7617 - covertype_cls_loss: 0.4394 - covertype_bernoulli_loss: 0.0331 - covertype_categorical1_loss: 1.6609 - covertype_categorical2_loss: 1.1769 - covertype_categorical3_loss: 0.4353 - covertype_categorical4_loss: 1.6155 - covertype_categorical5_loss: 2.0752 - covertype_categorical6_loss: 2.0972 - covertype_categorical7_loss: 1.0223 - covertype_categorical8_loss: 0.9945 - covertype_categorical9_loss: 1.1588 - covertype_categorical10_loss: 2.2406 - covertype_cls_categorical_accuracy: 0.9307 - val_loss: 32.7200 - val_covertype_cls_loss: 0.5919 - val_covertype_bernoulli_loss: 0.0563 - val_covertype_categorical1_loss: 3.1427 - val_covertype_categorical2_loss: 1.5185 - val_covertype_categorical3_loss: 0.4930 - val_covertype_categorical4_loss: 2.3240 - val_covertype_categorical5_loss: 2.8251 - val_covertype_categorical6_loss: 3.2307 - val_covertype_categorical7_loss: 1.2960 - val_covertype_categorical8_loss: 1.2739 - val_covertype_categorical9_loss: 1.5043 - val_covertype_categorical10_loss: 3.3962 - val_covertype_cls_categorical_accuracy: 0.8502\n",
      "Epoch 39/1000\n",
      "129/129 [==============================] - 32s 249ms/step - loss: 21.9589 - covertype_cls_loss: 0.4358 - covertype_bernoulli_loss: 0.0303 - covertype_categorical1_loss: 1.6270 - covertype_categorical2_loss: 1.0889 - covertype_categorical3_loss: 0.3867 - covertype_categorical4_loss: 1.5845 - covertype_categorical5_loss: 2.0368 - covertype_categorical6_loss: 2.0581 - covertype_categorical7_loss: 0.9533 - covertype_categorical8_loss: 0.9376 - covertype_categorical9_loss: 1.0777 - covertype_categorical10_loss: 2.1960 - covertype_cls_categorical_accuracy: 0.9323 - val_loss: 33.6869 - val_covertype_cls_loss: 0.6064 - val_covertype_bernoulli_loss: 0.0650 - val_covertype_categorical1_loss: 3.2682 - val_covertype_categorical2_loss: 1.5333 - val_covertype_categorical3_loss: 0.4904 - val_covertype_categorical4_loss: 2.3647 - val_covertype_categorical5_loss: 2.9092 - val_covertype_categorical6_loss: 3.3802 - val_covertype_categorical7_loss: 1.3184 - val_covertype_categorical8_loss: 1.3015 - val_covertype_categorical9_loss: 1.5366 - val_covertype_categorical10_loss: 3.5257 - val_covertype_cls_categorical_accuracy: 0.8433\n",
      "Epoch 40/1000\n",
      "129/129 [==============================] - 31s 240ms/step - loss: 23.5516 - covertype_cls_loss: 0.4547 - covertype_bernoulli_loss: 0.0475 - covertype_categorical1_loss: 1.6836 - covertype_categorical2_loss: 1.1929 - covertype_categorical3_loss: 0.5248 - covertype_categorical4_loss: 1.6839 - covertype_categorical5_loss: 2.1307 - covertype_categorical6_loss: 2.1303 - covertype_categorical7_loss: 1.0707 - covertype_categorical8_loss: 1.0512 - covertype_categorical9_loss: 1.2135 - covertype_categorical10_loss: 2.2963 - covertype_cls_categorical_accuracy: 0.9251 - val_loss: 33.8893 - val_covertype_cls_loss: 0.6210 - val_covertype_bernoulli_loss: 0.0618 - val_covertype_categorical1_loss: 3.1746 - val_covertype_categorical2_loss: 1.6393 - val_covertype_categorical3_loss: 0.5609 - val_covertype_categorical4_loss: 2.3864 - val_covertype_categorical5_loss: 2.8739 - val_covertype_categorical6_loss: 3.2647 - val_covertype_categorical7_loss: 1.4218 - val_covertype_categorical8_loss: 1.3518 - val_covertype_categorical9_loss: 1.6161 - val_covertype_categorical10_loss: 3.4700 - val_covertype_cls_categorical_accuracy: 0.8380\n",
      "Epoch 41/1000\n",
      "129/129 [==============================] - 31s 240ms/step - loss: 21.9040 - covertype_cls_loss: 0.4386 - covertype_bernoulli_loss: 0.0331 - covertype_categorical1_loss: 1.6116 - covertype_categorical2_loss: 1.1294 - covertype_categorical3_loss: 0.3880 - covertype_categorical4_loss: 1.5322 - covertype_categorical5_loss: 1.9888 - covertype_categorical6_loss: 2.0280 - covertype_categorical7_loss: 0.9523 - covertype_categorical8_loss: 0.9822 - covertype_categorical9_loss: 1.1101 - covertype_categorical10_loss: 2.1817 - covertype_cls_categorical_accuracy: 0.9312 - val_loss: 33.9011 - val_covertype_cls_loss: 0.6055 - val_covertype_bernoulli_loss: 0.0771 - val_covertype_categorical1_loss: 3.2725 - val_covertype_categorical2_loss: 1.5455 - val_covertype_categorical3_loss: 0.5882 - val_covertype_categorical4_loss: 2.3933 - val_covertype_categorical5_loss: 2.8483 - val_covertype_categorical6_loss: 3.3882 - val_covertype_categorical7_loss: 1.3429 - val_covertype_categorical8_loss: 1.3231 - val_covertype_categorical9_loss: 1.5811 - val_covertype_categorical10_loss: 3.4775 - val_covertype_cls_categorical_accuracy: 0.8435\n",
      "Epoch 42/1000\n",
      "129/129 [==============================] - 30s 231ms/step - loss: 21.4913 - covertype_cls_loss: 0.4320 - covertype_bernoulli_loss: 0.0316 - covertype_categorical1_loss: 1.6065 - covertype_categorical2_loss: 1.0643 - covertype_categorical3_loss: 0.3495 - covertype_categorical4_loss: 1.5661 - covertype_categorical5_loss: 2.0211 - covertype_categorical6_loss: 1.9990 - covertype_categorical7_loss: 0.9167 - covertype_categorical8_loss: 0.8956 - covertype_categorical9_loss: 1.0548 - covertype_categorical10_loss: 2.1612 - covertype_cls_categorical_accuracy: 0.9340 - val_loss: 31.8091 - val_covertype_cls_loss: 0.5795 - val_covertype_bernoulli_loss: 0.0525 - val_covertype_categorical1_loss: 3.1302 - val_covertype_categorical2_loss: 1.4439 - val_covertype_categorical3_loss: 0.3902 - val_covertype_categorical4_loss: 2.2644 - val_covertype_categorical5_loss: 2.7969 - val_covertype_categorical6_loss: 3.2102 - val_covertype_categorical7_loss: 1.2272 - val_covertype_categorical8_loss: 1.1580 - val_covertype_categorical9_loss: 1.4246 - val_covertype_categorical10_loss: 3.3614 - val_covertype_cls_categorical_accuracy: 0.8562\n",
      "Epoch 43/1000\n"
     ]
    },
    {
     "name": "stdout",
     "output_type": "stream",
     "text": [
      "129/129 [==============================] - 32s 252ms/step - loss: 21.7959 - covertype_cls_loss: 0.4352 - covertype_bernoulli_loss: 0.0354 - covertype_categorical1_loss: 1.5997 - covertype_categorical2_loss: 1.0890 - covertype_categorical3_loss: 0.4194 - covertype_categorical4_loss: 1.5502 - covertype_categorical5_loss: 2.0132 - covertype_categorical6_loss: 2.0044 - covertype_categorical7_loss: 0.9809 - covertype_categorical8_loss: 0.9314 - covertype_categorical9_loss: 1.0975 - covertype_categorical10_loss: 2.1466 - covertype_cls_categorical_accuracy: 0.9327 - val_loss: 33.0518 - val_covertype_cls_loss: 0.6054 - val_covertype_bernoulli_loss: 0.0597 - val_covertype_categorical1_loss: 3.2172 - val_covertype_categorical2_loss: 1.4829 - val_covertype_categorical3_loss: 0.4361 - val_covertype_categorical4_loss: 2.4272 - val_covertype_categorical5_loss: 2.9019 - val_covertype_categorical6_loss: 3.3091 - val_covertype_categorical7_loss: 1.2672 - val_covertype_categorical8_loss: 1.2230 - val_covertype_categorical9_loss: 1.4838 - val_covertype_categorical10_loss: 3.4613 - val_covertype_cls_categorical_accuracy: 0.8436\n",
      "Epoch 44/1000\n",
      "129/129 [==============================] - 32s 251ms/step - loss: 21.6083 - covertype_cls_loss: 0.4316 - covertype_bernoulli_loss: 0.0335 - covertype_categorical1_loss: 1.5853 - covertype_categorical2_loss: 1.0791 - covertype_categorical3_loss: 0.3979 - covertype_categorical4_loss: 1.5686 - covertype_categorical5_loss: 2.0064 - covertype_categorical6_loss: 1.9805 - covertype_categorical7_loss: 0.9314 - covertype_categorical8_loss: 0.9572 - covertype_categorical9_loss: 1.0890 - covertype_categorical10_loss: 2.1161 - covertype_cls_categorical_accuracy: 0.9344 - val_loss: 31.9295 - val_covertype_cls_loss: 0.5767 - val_covertype_bernoulli_loss: 0.0519 - val_covertype_categorical1_loss: 3.1072 - val_covertype_categorical2_loss: 1.4534 - val_covertype_categorical3_loss: 0.4275 - val_covertype_categorical4_loss: 2.2531 - val_covertype_categorical5_loss: 2.7950 - val_covertype_categorical6_loss: 3.1904 - val_covertype_categorical7_loss: 1.2453 - val_covertype_categorical8_loss: 1.1801 - val_covertype_categorical9_loss: 1.4889 - val_covertype_categorical10_loss: 3.3487 - val_covertype_cls_categorical_accuracy: 0.8573\n",
      "Epoch 45/1000\n",
      "129/129 [==============================] - 29s 227ms/step - loss: 20.6703 - covertype_cls_loss: 0.4235 - covertype_bernoulli_loss: 0.0289 - covertype_categorical1_loss: 1.5382 - covertype_categorical2_loss: 1.0245 - covertype_categorical3_loss: 0.3628 - covertype_categorical4_loss: 1.4654 - covertype_categorical5_loss: 1.8976 - covertype_categorical6_loss: 1.9204 - covertype_categorical7_loss: 0.9124 - covertype_categorical8_loss: 0.8662 - covertype_categorical9_loss: 1.0320 - covertype_categorical10_loss: 2.0758 - covertype_cls_categorical_accuracy: 0.9377 - val_loss: 33.7195 - val_covertype_cls_loss: 0.5906 - val_covertype_bernoulli_loss: 0.0586 - val_covertype_categorical1_loss: 3.2660 - val_covertype_categorical2_loss: 1.4572 - val_covertype_categorical3_loss: 0.4555 - val_covertype_categorical4_loss: 2.6492 - val_covertype_categorical5_loss: 3.0372 - val_covertype_categorical6_loss: 3.3653 - val_covertype_categorical7_loss: 1.2408 - val_covertype_categorical8_loss: 1.2007 - val_covertype_categorical9_loss: 1.5007 - val_covertype_categorical10_loss: 3.4926 - val_covertype_cls_categorical_accuracy: 0.8516\n",
      "Epoch 46/1000\n",
      "129/129 [==============================] - 31s 244ms/step - loss: 22.3533 - covertype_cls_loss: 0.4396 - covertype_bernoulli_loss: 0.1528 - covertype_categorical1_loss: 1.6429 - covertype_categorical2_loss: 1.1017 - covertype_categorical3_loss: 0.4284 - covertype_categorical4_loss: 1.5635 - covertype_categorical5_loss: 2.0375 - covertype_categorical6_loss: 2.0472 - covertype_categorical7_loss: 0.9772 - covertype_categorical8_loss: 0.9677 - covertype_categorical9_loss: 1.1122 - covertype_categorical10_loss: 2.2011 - covertype_cls_categorical_accuracy: 0.9311 - val_loss: 31.5708 - val_covertype_cls_loss: 0.5733 - val_covertype_bernoulli_loss: 0.0498 - val_covertype_categorical1_loss: 3.1021 - val_covertype_categorical2_loss: 1.4321 - val_covertype_categorical3_loss: 0.3689 - val_covertype_categorical4_loss: 2.2136 - val_covertype_categorical5_loss: 2.7755 - val_covertype_categorical6_loss: 3.1901 - val_covertype_categorical7_loss: 1.2258 - val_covertype_categorical8_loss: 1.1571 - val_covertype_categorical9_loss: 1.4267 - val_covertype_categorical10_loss: 3.3611 - val_covertype_cls_categorical_accuracy: 0.8608\n",
      "Epoch 47/1000\n",
      "129/129 [==============================] - 33s 257ms/step - loss: 20.5722 - covertype_cls_loss: 0.4205 - covertype_bernoulli_loss: 0.0262 - covertype_categorical1_loss: 1.5148 - covertype_categorical2_loss: 1.0678 - covertype_categorical3_loss: 0.3432 - covertype_categorical4_loss: 1.4548 - covertype_categorical5_loss: 1.8878 - covertype_categorical6_loss: 1.8869 - covertype_categorical7_loss: 0.9140 - covertype_categorical8_loss: 0.9049 - covertype_categorical9_loss: 1.0273 - covertype_categorical10_loss: 2.0324 - covertype_cls_categorical_accuracy: 0.9390 - val_loss: 33.4149 - val_covertype_cls_loss: 0.6034 - val_covertype_bernoulli_loss: 0.0595 - val_covertype_categorical1_loss: 3.2545 - val_covertype_categorical2_loss: 1.5351 - val_covertype_categorical3_loss: 0.4829 - val_covertype_categorical4_loss: 2.3940 - val_covertype_categorical5_loss: 2.9193 - val_covertype_categorical6_loss: 3.3171 - val_covertype_categorical7_loss: 1.3068 - val_covertype_categorical8_loss: 1.2556 - val_covertype_categorical9_loss: 1.5083 - val_covertype_categorical10_loss: 3.4797 - val_covertype_cls_categorical_accuracy: 0.8456\n",
      "Epoch 48/1000\n",
      "129/129 [==============================] - 33s 252ms/step - loss: 20.7268 - covertype_cls_loss: 0.4291 - covertype_bernoulli_loss: 0.0317 - covertype_categorical1_loss: 1.5340 - covertype_categorical2_loss: 1.0251 - covertype_categorical3_loss: 0.3744 - covertype_categorical4_loss: 1.5185 - covertype_categorical5_loss: 1.9358 - covertype_categorical6_loss: 1.9042 - covertype_categorical7_loss: 0.8852 - covertype_categorical8_loss: 0.8819 - covertype_categorical9_loss: 1.0330 - covertype_categorical10_loss: 2.0344 - covertype_cls_categorical_accuracy: 0.9358 - val_loss: 31.4448 - val_covertype_cls_loss: 0.5674 - val_covertype_bernoulli_loss: 0.0484 - val_covertype_categorical1_loss: 3.0697 - val_covertype_categorical2_loss: 1.4096 - val_covertype_categorical3_loss: 0.3897 - val_covertype_categorical4_loss: 2.2587 - val_covertype_categorical5_loss: 2.7969 - val_covertype_categorical6_loss: 3.1792 - val_covertype_categorical7_loss: 1.1880 - val_covertype_categorical8_loss: 1.1494 - val_covertype_categorical9_loss: 1.4104 - val_covertype_categorical10_loss: 3.3220 - val_covertype_cls_categorical_accuracy: 0.8616\n",
      "Epoch 49/1000\n",
      "129/129 [==============================] - 32s 251ms/step - loss: 20.4271 - covertype_cls_loss: 0.4214 - covertype_bernoulli_loss: 0.0302 - covertype_categorical1_loss: 1.5088 - covertype_categorical2_loss: 1.0410 - covertype_categorical3_loss: 0.3649 - covertype_categorical4_loss: 1.4349 - covertype_categorical5_loss: 1.8600 - covertype_categorical6_loss: 1.8746 - covertype_categorical7_loss: 0.9135 - covertype_categorical8_loss: 0.8782 - covertype_categorical9_loss: 1.0495 - covertype_categorical10_loss: 2.0065 - covertype_cls_categorical_accuracy: 0.9386 - val_loss: 33.3690 - val_covertype_cls_loss: 0.5801 - val_covertype_bernoulli_loss: 0.0571 - val_covertype_categorical1_loss: 3.1863 - val_covertype_categorical2_loss: 1.5795 - val_covertype_categorical3_loss: 0.5202 - val_covertype_categorical4_loss: 2.3310 - val_covertype_categorical5_loss: 2.8458 - val_covertype_categorical6_loss: 3.3033 - val_covertype_categorical7_loss: 1.3515 - val_covertype_categorical8_loss: 1.2285 - val_covertype_categorical9_loss: 1.6006 - val_covertype_categorical10_loss: 3.4921 - val_covertype_cls_categorical_accuracy: 0.8562\n",
      "Epoch 50/1000\n"
     ]
    },
    {
     "name": "stdout",
     "output_type": "stream",
     "text": [
      "129/129 [==============================] - 30s 230ms/step - loss: 20.1610 - covertype_cls_loss: 0.4171 - covertype_bernoulli_loss: 0.0298 - covertype_categorical1_loss: 1.4931 - covertype_categorical2_loss: 0.9849 - covertype_categorical3_loss: 0.3592 - covertype_categorical4_loss: 1.4766 - covertype_categorical5_loss: 1.9068 - covertype_categorical6_loss: 1.8490 - covertype_categorical7_loss: 0.8612 - covertype_categorical8_loss: 0.8574 - covertype_categorical9_loss: 0.9932 - covertype_categorical10_loss: 1.9771 - covertype_cls_categorical_accuracy: 0.9405 - val_loss: 34.9510 - val_covertype_cls_loss: 0.5694 - val_covertype_bernoulli_loss: 0.0788 - val_covertype_categorical1_loss: 3.1088 - val_covertype_categorical2_loss: 1.6782 - val_covertype_categorical3_loss: 0.9048 - val_covertype_categorical4_loss: 2.2633 - val_covertype_categorical5_loss: 2.9824 - val_covertype_categorical6_loss: 3.2052 - val_covertype_categorical7_loss: 1.5739 - val_covertype_categorical8_loss: 1.5889 - val_covertype_categorical9_loss: 1.8292 - val_covertype_categorical10_loss: 3.3446 - val_covertype_cls_categorical_accuracy: 0.8628\n",
      "Epoch 51/1000\n",
      "129/129 [==============================] - 29s 223ms/step - loss: 20.4763 - covertype_cls_loss: 0.4260 - covertype_bernoulli_loss: 0.0365 - covertype_categorical1_loss: 1.5140 - covertype_categorical2_loss: 1.0256 - covertype_categorical3_loss: 0.4121 - covertype_categorical4_loss: 1.4148 - covertype_categorical5_loss: 1.8525 - covertype_categorical6_loss: 1.8716 - covertype_categorical7_loss: 0.8814 - covertype_categorical8_loss: 0.9311 - covertype_categorical9_loss: 1.0320 - covertype_categorical10_loss: 2.0198 - covertype_cls_categorical_accuracy: 0.9370 - val_loss: 32.6494 - val_covertype_cls_loss: 0.5763 - val_covertype_bernoulli_loss: 0.0548 - val_covertype_categorical1_loss: 3.2135 - val_covertype_categorical2_loss: 1.4476 - val_covertype_categorical3_loss: 0.5330 - val_covertype_categorical4_loss: 2.2819 - val_covertype_categorical5_loss: 2.8526 - val_covertype_categorical6_loss: 3.2611 - val_covertype_categorical7_loss: 1.2375 - val_covertype_categorical8_loss: 1.2191 - val_covertype_categorical9_loss: 1.4800 - val_covertype_categorical10_loss: 3.4373 - val_covertype_cls_categorical_accuracy: 0.8581\n",
      "Epoch 52/1000\n",
      "129/129 [==============================] - 29s 224ms/step - loss: 19.9928 - covertype_cls_loss: 0.4191 - covertype_bernoulli_loss: 0.0322 - covertype_categorical1_loss: 1.4777 - covertype_categorical2_loss: 0.9935 - covertype_categorical3_loss: 0.3863 - covertype_categorical4_loss: 1.4178 - covertype_categorical5_loss: 1.8414 - covertype_categorical6_loss: 1.8248 - covertype_categorical7_loss: 0.8613 - covertype_categorical8_loss: 0.8904 - covertype_categorical9_loss: 0.9910 - covertype_categorical10_loss: 1.9571 - covertype_cls_categorical_accuracy: 0.9396 - val_loss: 31.3809 - val_covertype_cls_loss: 0.5632 - val_covertype_bernoulli_loss: 0.0513 - val_covertype_categorical1_loss: 3.0598 - val_covertype_categorical2_loss: 1.4537 - val_covertype_categorical3_loss: 0.3766 - val_covertype_categorical4_loss: 2.1817 - val_covertype_categorical5_loss: 2.7567 - val_covertype_categorical6_loss: 3.1560 - val_covertype_categorical7_loss: 1.2327 - val_covertype_categorical8_loss: 1.1395 - val_covertype_categorical9_loss: 1.4626 - val_covertype_categorical10_loss: 3.3090 - val_covertype_cls_categorical_accuracy: 0.8633\n",
      "Epoch 53/1000\n",
      "129/129 [==============================] - 32s 246ms/step - loss: 19.8306 - covertype_cls_loss: 0.4177 - covertype_bernoulli_loss: 0.0352 - covertype_categorical1_loss: 1.4842 - covertype_categorical2_loss: 0.9947 - covertype_categorical3_loss: 0.3098 - covertype_categorical4_loss: 1.3993 - covertype_categorical5_loss: 1.8156 - covertype_categorical6_loss: 1.8194 - covertype_categorical7_loss: 0.8439 - covertype_categorical8_loss: 0.8269 - covertype_categorical9_loss: 0.9769 - covertype_categorical10_loss: 2.0608 - covertype_cls_categorical_accuracy: 0.9406 - val_loss: 36.2454 - val_covertype_cls_loss: 0.6503 - val_covertype_bernoulli_loss: 0.0837 - val_covertype_categorical1_loss: 3.2348 - val_covertype_categorical2_loss: 1.7327 - val_covertype_categorical3_loss: 0.8684 - val_covertype_categorical4_loss: 2.6100 - val_covertype_categorical5_loss: 3.0847 - val_covertype_categorical6_loss: 3.3217 - val_covertype_categorical7_loss: 1.6185 - val_covertype_categorical8_loss: 1.5100 - val_covertype_categorical9_loss: 1.7694 - val_covertype_categorical10_loss: 3.5345 - val_covertype_cls_categorical_accuracy: 0.8301\n",
      "Epoch 54/1000\n",
      "129/129 [==============================] - 27s 207ms/step - loss: 19.8116 - covertype_cls_loss: 0.4200 - covertype_bernoulli_loss: 0.0308 - covertype_categorical1_loss: 1.4632 - covertype_categorical2_loss: 0.9637 - covertype_categorical3_loss: 0.3662 - covertype_categorical4_loss: 1.4582 - covertype_categorical5_loss: 1.8500 - covertype_categorical6_loss: 1.7996 - covertype_categorical7_loss: 0.8624 - covertype_categorical8_loss: 0.8371 - covertype_categorical9_loss: 0.9962 - covertype_categorical10_loss: 1.9249 - covertype_cls_categorical_accuracy: 0.9396 - val_loss: 31.4572 - val_covertype_cls_loss: 0.5600 - val_covertype_bernoulli_loss: 0.0510 - val_covertype_categorical1_loss: 3.0589 - val_covertype_categorical2_loss: 1.3647 - val_covertype_categorical3_loss: 0.3951 - val_covertype_categorical4_loss: 2.3493 - val_covertype_categorical5_loss: 2.8797 - val_covertype_categorical6_loss: 3.1430 - val_covertype_categorical7_loss: 1.1682 - val_covertype_categorical8_loss: 1.1361 - val_covertype_categorical9_loss: 1.3925 - val_covertype_categorical10_loss: 3.2963 - val_covertype_cls_categorical_accuracy: 0.8666\n",
      "Epoch 55/1000\n",
      "129/129 [==============================] - 30s 229ms/step - loss: 19.2587 - covertype_cls_loss: 0.4111 - covertype_bernoulli_loss: 0.0288 - covertype_categorical1_loss: 1.4342 - covertype_categorical2_loss: 0.9315 - covertype_categorical3_loss: 0.3738 - covertype_categorical4_loss: 1.3607 - covertype_categorical5_loss: 1.7701 - covertype_categorical6_loss: 1.7597 - covertype_categorical7_loss: 0.8383 - covertype_categorical8_loss: 0.8392 - covertype_categorical9_loss: 0.9596 - covertype_categorical10_loss: 1.8937 - covertype_cls_categorical_accuracy: 0.9428 - val_loss: 33.3071 - val_covertype_cls_loss: 0.5740 - val_covertype_bernoulli_loss: 0.0644 - val_covertype_categorical1_loss: 3.1914 - val_covertype_categorical2_loss: 1.5290 - val_covertype_categorical3_loss: 0.5914 - val_covertype_categorical4_loss: 2.3008 - val_covertype_categorical5_loss: 2.8805 - val_covertype_categorical6_loss: 3.2596 - val_covertype_categorical7_loss: 1.3828 - val_covertype_categorical8_loss: 1.2538 - val_covertype_categorical9_loss: 1.5396 - val_covertype_categorical10_loss: 3.4635 - val_covertype_cls_categorical_accuracy: 0.8609\n",
      "Epoch 56/1000\n",
      "129/129 [==============================] - 30s 233ms/step - loss: 19.6013 - covertype_cls_loss: 0.4149 - covertype_bernoulli_loss: 0.0348 - covertype_categorical1_loss: 1.4529 - covertype_categorical2_loss: 0.9194 - covertype_categorical3_loss: 0.3465 - covertype_categorical4_loss: 1.4825 - covertype_categorical5_loss: 1.9236 - covertype_categorical6_loss: 1.7788 - covertype_categorical7_loss: 0.8238 - covertype_categorical8_loss: 0.8032 - covertype_categorical9_loss: 0.9349 - covertype_categorical10_loss: 1.9147 - covertype_cls_categorical_accuracy: 0.9418 - val_loss: 31.8101 - val_covertype_cls_loss: 0.5695 - val_covertype_bernoulli_loss: 0.0596 - val_covertype_categorical1_loss: 3.0671 - val_covertype_categorical2_loss: 1.4155 - val_covertype_categorical3_loss: 0.4293 - val_covertype_categorical4_loss: 2.3060 - val_covertype_categorical5_loss: 2.8892 - val_covertype_categorical6_loss: 3.1607 - val_covertype_categorical7_loss: 1.2151 - val_covertype_categorical8_loss: 1.1642 - val_covertype_categorical9_loss: 1.4166 - val_covertype_categorical10_loss: 3.3417 - val_covertype_cls_categorical_accuracy: 0.8644\n",
      "Epoch 57/1000\n"
     ]
    },
    {
     "name": "stdout",
     "output_type": "stream",
     "text": [
      "129/129 [==============================] - 32s 248ms/step - loss: 18.4456 - covertype_cls_loss: 0.4060 - covertype_bernoulli_loss: 0.0254 - covertype_categorical1_loss: 1.3888 - covertype_categorical2_loss: 0.9506 - covertype_categorical3_loss: 0.2662 - covertype_categorical4_loss: 1.3067 - covertype_categorical5_loss: 1.7064 - covertype_categorical6_loss: 1.6963 - covertype_categorical7_loss: 0.8278 - covertype_categorical8_loss: 0.7459 - covertype_categorical9_loss: 0.9156 - covertype_categorical10_loss: 1.8213 - covertype_cls_categorical_accuracy: 0.9452 - val_loss: 32.9858 - val_covertype_cls_loss: 0.5826 - val_covertype_bernoulli_loss: 0.0653 - val_covertype_categorical1_loss: 3.1884 - val_covertype_categorical2_loss: 1.5105 - val_covertype_categorical3_loss: 0.5264 - val_covertype_categorical4_loss: 2.2877 - val_covertype_categorical5_loss: 2.8461 - val_covertype_categorical6_loss: 3.2743 - val_covertype_categorical7_loss: 1.2760 - val_covertype_categorical8_loss: 1.2942 - val_covertype_categorical9_loss: 1.5391 - val_covertype_categorical10_loss: 3.4310 - val_covertype_cls_categorical_accuracy: 0.8577\n",
      "Epoch 58/1000\n",
      "129/129 [==============================] - 32s 247ms/step - loss: 19.1396 - covertype_cls_loss: 0.4143 - covertype_bernoulli_loss: 0.0341 - covertype_categorical1_loss: 1.4156 - covertype_categorical2_loss: 0.9520 - covertype_categorical3_loss: 0.3662 - covertype_categorical4_loss: 1.3518 - covertype_categorical5_loss: 1.7383 - covertype_categorical6_loss: 1.7361 - covertype_categorical7_loss: 0.8427 - covertype_categorical8_loss: 0.8446 - covertype_categorical9_loss: 0.9640 - covertype_categorical10_loss: 1.8612 - covertype_cls_categorical_accuracy: 0.9420 - val_loss: 30.7843 - val_covertype_cls_loss: 0.5520 - val_covertype_bernoulli_loss: 0.0494 - val_covertype_categorical1_loss: 3.0442 - val_covertype_categorical2_loss: 1.3658 - val_covertype_categorical3_loss: 0.3235 - val_covertype_categorical4_loss: 2.2080 - val_covertype_categorical5_loss: 2.7853 - val_covertype_categorical6_loss: 3.1416 - val_covertype_categorical7_loss: 1.1383 - val_covertype_categorical8_loss: 1.0883 - val_covertype_categorical9_loss: 1.3500 - val_covertype_categorical10_loss: 3.2958 - val_covertype_cls_categorical_accuracy: 0.8705\n",
      "Epoch 59/1000\n",
      "129/129 [==============================] - 32s 249ms/step - loss: 19.1587 - covertype_cls_loss: 0.4121 - covertype_bernoulli_loss: 0.0340 - covertype_categorical1_loss: 1.4216 - covertype_categorical2_loss: 0.9196 - covertype_categorical3_loss: 0.3478 - covertype_categorical4_loss: 1.4416 - covertype_categorical5_loss: 1.8067 - covertype_categorical6_loss: 1.7362 - covertype_categorical7_loss: 0.8035 - covertype_categorical8_loss: 0.8252 - covertype_categorical9_loss: 0.9236 - covertype_categorical10_loss: 1.8616 - covertype_cls_categorical_accuracy: 0.9432 - val_loss: 32.3513 - val_covertype_cls_loss: 0.5627 - val_covertype_bernoulli_loss: 0.0606 - val_covertype_categorical1_loss: 3.1528 - val_covertype_categorical2_loss: 1.4576 - val_covertype_categorical3_loss: 0.4114 - val_covertype_categorical4_loss: 2.3122 - val_covertype_categorical5_loss: 2.9424 - val_covertype_categorical6_loss: 3.2497 - val_covertype_categorical7_loss: 1.2261 - val_covertype_categorical8_loss: 1.1993 - val_covertype_categorical9_loss: 1.4220 - val_covertype_categorical10_loss: 3.3940 - val_covertype_cls_categorical_accuracy: 0.8679\n",
      "Epoch 60/1000\n",
      "129/129 [==============================] - 32s 247ms/step - loss: 18.2701 - covertype_cls_loss: 0.4038 - covertype_bernoulli_loss: 0.0271 - covertype_categorical1_loss: 1.3767 - covertype_categorical2_loss: 0.9301 - covertype_categorical3_loss: 0.2958 - covertype_categorical4_loss: 1.2803 - covertype_categorical5_loss: 1.6768 - covertype_categorical6_loss: 1.6730 - covertype_categorical7_loss: 0.7924 - covertype_categorical8_loss: 0.7852 - covertype_categorical9_loss: 0.9003 - covertype_categorical10_loss: 1.7972 - covertype_cls_categorical_accuracy: 0.9460 - val_loss: 30.6575 - val_covertype_cls_loss: 0.5426 - val_covertype_bernoulli_loss: 0.0509 - val_covertype_categorical1_loss: 3.0321 - val_covertype_categorical2_loss: 1.3616 - val_covertype_categorical3_loss: 0.3272 - val_covertype_categorical4_loss: 2.1742 - val_covertype_categorical5_loss: 2.7600 - val_covertype_categorical6_loss: 3.1355 - val_covertype_categorical7_loss: 1.1356 - val_covertype_categorical8_loss: 1.0951 - val_covertype_categorical9_loss: 1.3397 - val_covertype_categorical10_loss: 3.2998 - val_covertype_cls_categorical_accuracy: 0.8733\n",
      "Epoch 61/1000\n",
      "129/129 [==============================] - 31s 242ms/step - loss: 18.9789 - covertype_cls_loss: 0.4100 - covertype_bernoulli_loss: 0.0331 - covertype_categorical1_loss: 1.3978 - covertype_categorical2_loss: 0.9284 - covertype_categorical3_loss: 0.3982 - covertype_categorical4_loss: 1.3163 - covertype_categorical5_loss: 1.7390 - covertype_categorical6_loss: 1.7290 - covertype_categorical7_loss: 0.8355 - covertype_categorical8_loss: 0.8328 - covertype_categorical9_loss: 0.9588 - covertype_categorical10_loss: 1.8331 - covertype_cls_categorical_accuracy: 0.9439 - val_loss: 33.4479 - val_covertype_cls_loss: 0.5845 - val_covertype_bernoulli_loss: 0.0833 - val_covertype_categorical1_loss: 3.1633 - val_covertype_categorical2_loss: 1.5548 - val_covertype_categorical3_loss: 0.6245 - val_covertype_categorical4_loss: 2.2771 - val_covertype_categorical5_loss: 2.8842 - val_covertype_categorical6_loss: 3.3338 - val_covertype_categorical7_loss: 1.3215 - val_covertype_categorical8_loss: 1.3332 - val_covertype_categorical9_loss: 1.5425 - val_covertype_categorical10_loss: 3.4273 - val_covertype_cls_categorical_accuracy: 0.8560\n",
      "Epoch 62/1000\n",
      "129/129 [==============================] - 33s 253ms/step - loss: 17.9601 - covertype_cls_loss: 0.4021 - covertype_bernoulli_loss: 0.0280 - covertype_categorical1_loss: 1.3513 - covertype_categorical2_loss: 0.8660 - covertype_categorical3_loss: 0.3123 - covertype_categorical4_loss: 1.3209 - covertype_categorical5_loss: 1.6936 - covertype_categorical6_loss: 1.6373 - covertype_categorical7_loss: 0.7498 - covertype_categorical8_loss: 0.7596 - covertype_categorical9_loss: 0.8640 - covertype_categorical10_loss: 1.7450 - covertype_cls_categorical_accuracy: 0.9468 - val_loss: 35.9058 - val_covertype_cls_loss: 0.5592 - val_covertype_bernoulli_loss: 0.0957 - val_covertype_categorical1_loss: 3.1452 - val_covertype_categorical2_loss: 1.6214 - val_covertype_categorical3_loss: 0.8726 - val_covertype_categorical4_loss: 2.9451 - val_covertype_categorical5_loss: 3.2426 - val_covertype_categorical6_loss: 3.2402 - val_covertype_categorical7_loss: 1.4385 - val_covertype_categorical8_loss: 1.6222 - val_covertype_categorical9_loss: 1.5919 - val_covertype_categorical10_loss: 3.3847 - val_covertype_cls_categorical_accuracy: 0.8655\n",
      "Epoch 63/1000\n",
      "129/129 [==============================] - 32s 247ms/step - loss: 19.1485 - covertype_cls_loss: 0.4199 - covertype_bernoulli_loss: 0.0412 - covertype_categorical1_loss: 1.4165 - covertype_categorical2_loss: 0.9795 - covertype_categorical3_loss: 0.3592 - covertype_categorical4_loss: 1.3520 - covertype_categorical5_loss: 1.7338 - covertype_categorical6_loss: 1.7397 - covertype_categorical7_loss: 0.8485 - covertype_categorical8_loss: 0.8147 - covertype_categorical9_loss: 0.9761 - covertype_categorical10_loss: 1.8482 - covertype_cls_categorical_accuracy: 0.9401 - val_loss: 32.2078 - val_covertype_cls_loss: 0.5576 - val_covertype_bernoulli_loss: 0.0586 - val_covertype_categorical1_loss: 3.1208 - val_covertype_categorical2_loss: 1.5159 - val_covertype_categorical3_loss: 0.4215 - val_covertype_categorical4_loss: 2.2295 - val_covertype_categorical5_loss: 2.8197 - val_covertype_categorical6_loss: 3.2574 - val_covertype_categorical7_loss: 1.2811 - val_covertype_categorical8_loss: 1.1483 - val_covertype_categorical9_loss: 1.4795 - val_covertype_categorical10_loss: 3.4037 - val_covertype_cls_categorical_accuracy: 0.8682\n",
      "Epoch 64/1000\n"
     ]
    },
    {
     "name": "stdout",
     "output_type": "stream",
     "text": [
      "129/129 [==============================] - 32s 248ms/step - loss: 17.8683 - covertype_cls_loss: 0.4004 - covertype_bernoulli_loss: 0.0291 - covertype_categorical1_loss: 1.3458 - covertype_categorical2_loss: 0.9106 - covertype_categorical3_loss: 0.2847 - covertype_categorical4_loss: 1.2783 - covertype_categorical5_loss: 1.6676 - covertype_categorical6_loss: 1.6273 - covertype_categorical7_loss: 0.7510 - covertype_categorical8_loss: 0.7917 - covertype_categorical9_loss: 0.8509 - covertype_categorical10_loss: 1.7333 - covertype_cls_categorical_accuracy: 0.9476 - val_loss: 31.7072 - val_covertype_cls_loss: 0.5677 - val_covertype_bernoulli_loss: 0.0575 - val_covertype_categorical1_loss: 3.0355 - val_covertype_categorical2_loss: 1.4888 - val_covertype_categorical3_loss: 0.4571 - val_covertype_categorical4_loss: 2.2279 - val_covertype_categorical5_loss: 2.8104 - val_covertype_categorical6_loss: 3.1194 - val_covertype_categorical7_loss: 1.2463 - val_covertype_categorical8_loss: 1.2322 - val_covertype_categorical9_loss: 1.4595 - val_covertype_categorical10_loss: 3.2624 - val_covertype_cls_categorical_accuracy: 0.8662\n",
      "Epoch 65/1000\n",
      "129/129 [==============================] - 32s 245ms/step - loss: 17.5167 - covertype_cls_loss: 0.3981 - covertype_bernoulli_loss: 0.0261 - covertype_categorical1_loss: 1.3285 - covertype_categorical2_loss: 0.8612 - covertype_categorical3_loss: 0.2928 - covertype_categorical4_loss: 1.2394 - covertype_categorical5_loss: 1.6212 - covertype_categorical6_loss: 1.6044 - covertype_categorical7_loss: 0.7506 - covertype_categorical8_loss: 0.7234 - covertype_categorical9_loss: 0.8678 - covertype_categorical10_loss: 1.7200 - covertype_cls_categorical_accuracy: 0.9488 - val_loss: 36.9181 - val_covertype_cls_loss: 0.5581 - val_covertype_bernoulli_loss: 0.0633 - val_covertype_categorical1_loss: 3.2868 - val_covertype_categorical2_loss: 1.5177 - val_covertype_categorical3_loss: 0.5704 - val_covertype_categorical4_loss: 3.3866 - val_covertype_categorical5_loss: 4.1496 - val_covertype_categorical6_loss: 3.2949 - val_covertype_categorical7_loss: 1.2986 - val_covertype_categorical8_loss: 1.3133 - val_covertype_categorical9_loss: 1.5394 - val_covertype_categorical10_loss: 3.4542 - val_covertype_cls_categorical_accuracy: 0.8677\n",
      "Epoch 66/1000\n",
      "129/129 [==============================] - 31s 241ms/step - loss: 18.3899 - covertype_cls_loss: 0.4107 - covertype_bernoulli_loss: 0.0370 - covertype_categorical1_loss: 1.3741 - covertype_categorical2_loss: 0.9417 - covertype_categorical3_loss: 0.3129 - covertype_categorical4_loss: 1.3171 - covertype_categorical5_loss: 1.6959 - covertype_categorical6_loss: 1.6585 - covertype_categorical7_loss: 0.8103 - covertype_categorical8_loss: 0.7842 - covertype_categorical9_loss: 0.9050 - covertype_categorical10_loss: 1.7719 - covertype_cls_categorical_accuracy: 0.9435 - val_loss: 30.5960 - val_covertype_cls_loss: 0.5369 - val_covertype_bernoulli_loss: 0.0482 - val_covertype_categorical1_loss: 3.0081 - val_covertype_categorical2_loss: 1.3396 - val_covertype_categorical3_loss: 0.3171 - val_covertype_categorical4_loss: 2.2450 - val_covertype_categorical5_loss: 2.8116 - val_covertype_categorical6_loss: 3.1131 - val_covertype_categorical7_loss: 1.1179 - val_covertype_categorical8_loss: 1.0669 - val_covertype_categorical9_loss: 1.3354 - val_covertype_categorical10_loss: 3.2693 - val_covertype_cls_categorical_accuracy: 0.8777\n",
      "Epoch 67/1000\n",
      "129/129 [==============================] - 32s 247ms/step - loss: 17.7719 - covertype_cls_loss: 0.3975 - covertype_bernoulli_loss: 0.0285 - covertype_categorical1_loss: 1.3290 - covertype_categorical2_loss: 0.8468 - covertype_categorical3_loss: 0.3412 - covertype_categorical4_loss: 1.2959 - covertype_categorical5_loss: 1.6560 - covertype_categorical6_loss: 1.5953 - covertype_categorical7_loss: 0.7501 - covertype_categorical8_loss: 0.7696 - covertype_categorical9_loss: 0.8770 - covertype_categorical10_loss: 1.7161 - covertype_cls_categorical_accuracy: 0.9487 - val_loss: 32.5205 - val_covertype_cls_loss: 0.5494 - val_covertype_bernoulli_loss: 0.0624 - val_covertype_categorical1_loss: 3.1387 - val_covertype_categorical2_loss: 1.5106 - val_covertype_categorical3_loss: 0.4987 - val_covertype_categorical4_loss: 2.2509 - val_covertype_categorical5_loss: 2.8418 - val_covertype_categorical6_loss: 3.2583 - val_covertype_categorical7_loss: 1.2121 - val_covertype_categorical8_loss: 1.2925 - val_covertype_categorical9_loss: 1.4771 - val_covertype_categorical10_loss: 3.4055 - val_covertype_cls_categorical_accuracy: 0.8732\n",
      "Epoch 68/1000\n",
      "129/129 [==============================] - 32s 250ms/step - loss: 16.7923 - covertype_cls_loss: 0.3922 - covertype_bernoulli_loss: 0.0237 - covertype_categorical1_loss: 1.2796 - covertype_categorical2_loss: 0.8314 - covertype_categorical3_loss: 0.2646 - covertype_categorical4_loss: 1.1929 - covertype_categorical5_loss: 1.5572 - covertype_categorical6_loss: 1.5361 - covertype_categorical7_loss: 0.7126 - covertype_categorical8_loss: 0.6877 - covertype_categorical9_loss: 0.8219 - covertype_categorical10_loss: 1.6486 - covertype_cls_categorical_accuracy: 0.9510 - val_loss: 30.5778 - val_covertype_cls_loss: 0.5305 - val_covertype_bernoulli_loss: 0.0495 - val_covertype_categorical1_loss: 2.9881 - val_covertype_categorical2_loss: 1.3558 - val_covertype_categorical3_loss: 0.3232 - val_covertype_categorical4_loss: 2.1829 - val_covertype_categorical5_loss: 2.8352 - val_covertype_categorical6_loss: 3.1226 - val_covertype_categorical7_loss: 1.1258 - val_covertype_categorical8_loss: 1.0747 - val_covertype_categorical9_loss: 1.3274 - val_covertype_categorical10_loss: 3.2802 - val_covertype_cls_categorical_accuracy: 0.8802\n",
      "Epoch 69/1000\n",
      "129/129 [==============================] - 32s 249ms/step - loss: 18.2903 - covertype_cls_loss: 0.4058 - covertype_bernoulli_loss: 0.0352 - covertype_categorical1_loss: 1.3526 - covertype_categorical2_loss: 0.9075 - covertype_categorical3_loss: 0.3653 - covertype_categorical4_loss: 1.3100 - covertype_categorical5_loss: 1.7200 - covertype_categorical6_loss: 1.6247 - covertype_categorical7_loss: 0.8063 - covertype_categorical8_loss: 0.7941 - covertype_categorical9_loss: 0.8975 - covertype_categorical10_loss: 1.7319 - covertype_cls_categorical_accuracy: 0.9455 - val_loss: 31.9836 - val_covertype_cls_loss: 0.5473 - val_covertype_bernoulli_loss: 0.0649 - val_covertype_categorical1_loss: 3.1272 - val_covertype_categorical2_loss: 1.4976 - val_covertype_categorical3_loss: 0.3767 - val_covertype_categorical4_loss: 2.2289 - val_covertype_categorical5_loss: 2.8298 - val_covertype_categorical6_loss: 3.2421 - val_covertype_categorical7_loss: 1.2444 - val_covertype_categorical8_loss: 1.1711 - val_covertype_categorical9_loss: 1.4469 - val_covertype_categorical10_loss: 3.3633 - val_covertype_cls_categorical_accuracy: 0.8714\n",
      "Epoch 70/1000\n",
      "129/129 [==============================] - 33s 256ms/step - loss: 16.3383 - covertype_cls_loss: 0.3888 - covertype_bernoulli_loss: 0.0227 - covertype_categorical1_loss: 1.2621 - covertype_categorical2_loss: 0.7982 - covertype_categorical3_loss: 0.2367 - covertype_categorical4_loss: 1.1542 - covertype_categorical5_loss: 1.5137 - covertype_categorical6_loss: 1.5077 - covertype_categorical7_loss: 0.6943 - covertype_categorical8_loss: 0.6786 - covertype_categorical9_loss: 0.7781 - covertype_categorical10_loss: 1.6091 - covertype_cls_categorical_accuracy: 0.9523 - val_loss: 30.7944 - val_covertype_cls_loss: 0.5329 - val_covertype_bernoulli_loss: 0.0484 - val_covertype_categorical1_loss: 3.0066 - val_covertype_categorical2_loss: 1.4118 - val_covertype_categorical3_loss: 0.3408 - val_covertype_categorical4_loss: 2.1611 - val_covertype_categorical5_loss: 2.7777 - val_covertype_categorical6_loss: 3.1378 - val_covertype_categorical7_loss: 1.1291 - val_covertype_categorical8_loss: 1.1465 - val_covertype_categorical9_loss: 1.3669 - val_covertype_categorical10_loss: 3.2802 - val_covertype_cls_categorical_accuracy: 0.8809\n",
      "Epoch 71/1000\n"
     ]
    },
    {
     "name": "stdout",
     "output_type": "stream",
     "text": [
      "129/129 [==============================] - 33s 258ms/step - loss: 18.0112 - covertype_cls_loss: 0.4137 - covertype_bernoulli_loss: 0.0479 - covertype_categorical1_loss: 1.3439 - covertype_categorical2_loss: 0.8382 - covertype_categorical3_loss: 0.3432 - covertype_categorical4_loss: 1.3250 - covertype_categorical5_loss: 1.7645 - covertype_categorical6_loss: 1.6128 - covertype_categorical7_loss: 0.7380 - covertype_categorical8_loss: 0.7563 - covertype_categorical9_loss: 0.8647 - covertype_categorical10_loss: 1.7201 - covertype_cls_categorical_accuracy: 0.9433 - val_loss: 33.9987 - val_covertype_cls_loss: 0.5596 - val_covertype_bernoulli_loss: 0.0748 - val_covertype_categorical1_loss: 3.1514 - val_covertype_categorical2_loss: 1.6059 - val_covertype_categorical3_loss: 0.7290 - val_covertype_categorical4_loss: 2.2800 - val_covertype_categorical5_loss: 2.8673 - val_covertype_categorical6_loss: 3.2827 - val_covertype_categorical7_loss: 1.3811 - val_covertype_categorical8_loss: 1.4589 - val_covertype_categorical9_loss: 1.7081 - val_covertype_categorical10_loss: 3.3863 - val_covertype_cls_categorical_accuracy: 0.8698\n",
      "Epoch 72/1000\n",
      "129/129 [==============================] - 33s 258ms/step - loss: 16.3343 - covertype_cls_loss: 0.3890 - covertype_bernoulli_loss: 0.0245 - covertype_categorical1_loss: 1.2630 - covertype_categorical2_loss: 0.7873 - covertype_categorical3_loss: 0.2585 - covertype_categorical4_loss: 1.1604 - covertype_categorical5_loss: 1.5033 - covertype_categorical6_loss: 1.5086 - covertype_categorical7_loss: 0.6680 - covertype_categorical8_loss: 0.6903 - covertype_categorical9_loss: 0.7810 - covertype_categorical10_loss: 1.6069 - covertype_cls_categorical_accuracy: 0.9524 - val_loss: 30.2960 - val_covertype_cls_loss: 0.5278 - val_covertype_bernoulli_loss: 0.0480 - val_covertype_categorical1_loss: 2.9916 - val_covertype_categorical2_loss: 1.3264 - val_covertype_categorical3_loss: 0.2966 - val_covertype_categorical4_loss: 2.1671 - val_covertype_categorical5_loss: 2.7777 - val_covertype_categorical6_loss: 3.1364 - val_covertype_categorical7_loss: 1.1032 - val_covertype_categorical8_loss: 1.0419 - val_covertype_categorical9_loss: 1.3096 - val_covertype_categorical10_loss: 3.2794 - val_covertype_cls_categorical_accuracy: 0.8812\n",
      "Epoch 73/1000\n",
      "129/129 [==============================] - 33s 256ms/step - loss: 18.2506 - covertype_cls_loss: 0.4138 - covertype_bernoulli_loss: 0.0462 - covertype_categorical1_loss: 1.3534 - covertype_categorical2_loss: 0.9392 - covertype_categorical3_loss: 0.3382 - covertype_categorical4_loss: 1.2819 - covertype_categorical5_loss: 1.6327 - covertype_categorical6_loss: 1.6266 - covertype_categorical7_loss: 0.8587 - covertype_categorical8_loss: 0.7627 - covertype_categorical9_loss: 0.9202 - covertype_categorical10_loss: 1.7539 - covertype_cls_categorical_accuracy: 0.9431 - val_loss: 40.5751 - val_covertype_cls_loss: 0.5438 - val_covertype_bernoulli_loss: 0.1346 - val_covertype_categorical1_loss: 3.2647 - val_covertype_categorical2_loss: 2.6269 - val_covertype_categorical3_loss: 1.1910 - val_covertype_categorical4_loss: 2.6620 - val_covertype_categorical5_loss: 3.1264 - val_covertype_categorical6_loss: 3.3329 - val_covertype_categorical7_loss: 2.4290 - val_covertype_categorical8_loss: 1.5118 - val_covertype_categorical9_loss: 2.5116 - val_covertype_categorical10_loss: 3.5284 - val_covertype_cls_categorical_accuracy: 0.8712\n",
      "Epoch 74/1000\n",
      "129/129 [==============================] - 34s 260ms/step - loss: 17.2482 - covertype_cls_loss: 0.3993 - covertype_bernoulli_loss: 0.0352 - covertype_categorical1_loss: 1.2928 - covertype_categorical2_loss: 0.8399 - covertype_categorical3_loss: 0.3507 - covertype_categorical4_loss: 1.2325 - covertype_categorical5_loss: 1.5757 - covertype_categorical6_loss: 1.5441 - covertype_categorical7_loss: 0.7138 - covertype_categorical8_loss: 0.7668 - covertype_categorical9_loss: 0.8474 - covertype_categorical10_loss: 1.6563 - covertype_cls_categorical_accuracy: 0.9479 - val_loss: 34.1499 - val_covertype_cls_loss: 0.5869 - val_covertype_bernoulli_loss: 0.0683 - val_covertype_categorical1_loss: 3.0957 - val_covertype_categorical2_loss: 1.6551 - val_covertype_categorical3_loss: 0.7687 - val_covertype_categorical4_loss: 2.2974 - val_covertype_categorical5_loss: 2.8600 - val_covertype_categorical6_loss: 3.1630 - val_covertype_categorical7_loss: 1.4526 - val_covertype_categorical8_loss: 1.5385 - val_covertype_categorical9_loss: 1.7074 - val_covertype_categorical10_loss: 3.4024 - val_covertype_cls_categorical_accuracy: 0.8594\n",
      "Epoch 75/1000\n",
      "129/129 [==============================] - 33s 257ms/step - loss: 16.7637 - covertype_cls_loss: 0.3969 - covertype_bernoulli_loss: 0.0315 - covertype_categorical1_loss: 1.2755 - covertype_categorical2_loss: 0.8605 - covertype_categorical3_loss: 0.2697 - covertype_categorical4_loss: 1.1449 - covertype_categorical5_loss: 1.5006 - covertype_categorical6_loss: 1.5222 - covertype_categorical7_loss: 0.7370 - covertype_categorical8_loss: 0.7176 - covertype_categorical9_loss: 0.8442 - covertype_categorical10_loss: 1.6290 - covertype_cls_categorical_accuracy: 0.9495 - val_loss: 32.2912 - val_covertype_cls_loss: 0.5381 - val_covertype_bernoulli_loss: 0.0576 - val_covertype_categorical1_loss: 3.1371 - val_covertype_categorical2_loss: 1.4616 - val_covertype_categorical3_loss: 0.4387 - val_covertype_categorical4_loss: 2.3920 - val_covertype_categorical5_loss: 2.8681 - val_covertype_categorical6_loss: 3.2302 - val_covertype_categorical7_loss: 1.2444 - val_covertype_categorical8_loss: 1.1676 - val_covertype_categorical9_loss: 1.4300 - val_covertype_categorical10_loss: 3.3735 - val_covertype_cls_categorical_accuracy: 0.8765\n",
      "Epoch 76/1000\n",
      "129/129 [==============================] - 32s 251ms/step - loss: 16.3693 - covertype_cls_loss: 0.3910 - covertype_bernoulli_loss: 0.0269 - covertype_categorical1_loss: 1.2666 - covertype_categorical2_loss: 0.7586 - covertype_categorical3_loss: 0.2412 - covertype_categorical4_loss: 1.2598 - covertype_categorical5_loss: 1.5726 - covertype_categorical6_loss: 1.5021 - covertype_categorical7_loss: 0.6477 - covertype_categorical8_loss: 0.6512 - covertype_categorical9_loss: 0.7532 - covertype_categorical10_loss: 1.5945 - covertype_cls_categorical_accuracy: 0.9516 - val_loss: 30.6608 - val_covertype_cls_loss: 0.5294 - val_covertype_bernoulli_loss: 0.0500 - val_covertype_categorical1_loss: 2.9889 - val_covertype_categorical2_loss: 1.4115 - val_covertype_categorical3_loss: 0.3398 - val_covertype_categorical4_loss: 2.1343 - val_covertype_categorical5_loss: 2.7679 - val_covertype_categorical6_loss: 3.1099 - val_covertype_categorical7_loss: 1.1461 - val_covertype_categorical8_loss: 1.1399 - val_covertype_categorical9_loss: 1.3728 - val_covertype_categorical10_loss: 3.2580 - val_covertype_cls_categorical_accuracy: 0.8821\n",
      "Epoch 77/1000\n",
      "129/129 [==============================] - 30s 233ms/step - loss: 17.0390 - covertype_cls_loss: 0.3952 - covertype_bernoulli_loss: 0.0333 - covertype_categorical1_loss: 1.2890 - covertype_categorical2_loss: 0.7851 - covertype_categorical3_loss: 0.3154 - covertype_categorical4_loss: 1.3094 - covertype_categorical5_loss: 1.6139 - covertype_categorical6_loss: 1.5144 - covertype_categorical7_loss: 0.6952 - covertype_categorical8_loss: 0.7121 - covertype_categorical9_loss: 0.8229 - covertype_categorical10_loss: 1.6269 - covertype_cls_categorical_accuracy: 0.9501 - val_loss: 32.7553 - val_covertype_cls_loss: 0.5405 - val_covertype_bernoulli_loss: 0.0639 - val_covertype_categorical1_loss: 3.1513 - val_covertype_categorical2_loss: 1.4664 - val_covertype_categorical3_loss: 0.5332 - val_covertype_categorical4_loss: 2.2840 - val_covertype_categorical5_loss: 2.8594 - val_covertype_categorical6_loss: 3.2190 - val_covertype_categorical7_loss: 1.3326 - val_covertype_categorical8_loss: 1.2587 - val_covertype_categorical9_loss: 1.5768 - val_covertype_categorical10_loss: 3.3629 - val_covertype_cls_categorical_accuracy: 0.8772\n",
      "Epoch 78/1000\n"
     ]
    },
    {
     "name": "stdout",
     "output_type": "stream",
     "text": [
      "129/129 [==============================] - 29s 228ms/step - loss: 15.7127 - covertype_cls_loss: 0.3843 - covertype_bernoulli_loss: 0.0234 - covertype_categorical1_loss: 1.2165 - covertype_categorical2_loss: 0.7935 - covertype_categorical3_loss: 0.2378 - covertype_categorical4_loss: 1.0810 - covertype_categorical5_loss: 1.4277 - covertype_categorical6_loss: 1.4342 - covertype_categorical7_loss: 0.6844 - covertype_categorical8_loss: 0.6406 - covertype_categorical9_loss: 0.7701 - covertype_categorical10_loss: 1.5324 - covertype_cls_categorical_accuracy: 0.9542 - val_loss: 30.4408 - val_covertype_cls_loss: 0.5215 - val_covertype_bernoulli_loss: 0.0490 - val_covertype_categorical1_loss: 2.9736 - val_covertype_categorical2_loss: 1.3845 - val_covertype_categorical3_loss: 0.3111 - val_covertype_categorical4_loss: 2.1234 - val_covertype_categorical5_loss: 2.7818 - val_covertype_categorical6_loss: 3.1112 - val_covertype_categorical7_loss: 1.1273 - val_covertype_categorical8_loss: 1.0676 - val_covertype_categorical9_loss: 1.3706 - val_covertype_categorical10_loss: 3.2771 - val_covertype_cls_categorical_accuracy: 0.8842\n",
      "Epoch 79/1000\n",
      "129/129 [==============================] - 29s 228ms/step - loss: 19.2300 - covertype_cls_loss: 0.4336 - covertype_bernoulli_loss: 0.0833 - covertype_categorical1_loss: 1.4076 - covertype_categorical2_loss: 0.9562 - covertype_categorical3_loss: 0.4807 - covertype_categorical4_loss: 1.2708 - covertype_categorical5_loss: 1.6551 - covertype_categorical6_loss: 1.7117 - covertype_categorical7_loss: 0.8397 - covertype_categorical8_loss: 0.9303 - covertype_categorical9_loss: 0.9833 - covertype_categorical10_loss: 1.8341 - covertype_cls_categorical_accuracy: 0.9368 - val_loss: 31.4159 - val_covertype_cls_loss: 0.5503 - val_covertype_bernoulli_loss: 0.0761 - val_covertype_categorical1_loss: 3.1128 - val_covertype_categorical2_loss: 1.3893 - val_covertype_categorical3_loss: 0.3507 - val_covertype_categorical4_loss: 2.1903 - val_covertype_categorical5_loss: 2.8303 - val_covertype_categorical6_loss: 3.2299 - val_covertype_categorical7_loss: 1.1649 - val_covertype_categorical8_loss: 1.1029 - val_covertype_categorical9_loss: 1.3683 - val_covertype_categorical10_loss: 3.3975 - val_covertype_cls_categorical_accuracy: 0.8700\n",
      "Epoch 80/1000\n",
      "129/129 [==============================] - 29s 224ms/step - loss: 15.8717 - covertype_cls_loss: 0.3885 - covertype_bernoulli_loss: 0.0246 - covertype_categorical1_loss: 1.2397 - covertype_categorical2_loss: 0.7341 - covertype_categorical3_loss: 0.2255 - covertype_categorical4_loss: 1.1841 - covertype_categorical5_loss: 1.5381 - covertype_categorical6_loss: 1.4564 - covertype_categorical7_loss: 0.6395 - covertype_categorical8_loss: 0.6172 - covertype_categorical9_loss: 0.7361 - covertype_categorical10_loss: 1.5544 - covertype_cls_categorical_accuracy: 0.9528 - val_loss: 31.0176 - val_covertype_cls_loss: 0.5181 - val_covertype_bernoulli_loss: 0.0512 - val_covertype_categorical1_loss: 2.9691 - val_covertype_categorical2_loss: 1.4134 - val_covertype_categorical3_loss: 0.4363 - val_covertype_categorical4_loss: 2.1216 - val_covertype_categorical5_loss: 2.7860 - val_covertype_categorical6_loss: 3.0928 - val_covertype_categorical7_loss: 1.2063 - val_covertype_categorical8_loss: 1.1823 - val_covertype_categorical9_loss: 1.4487 - val_covertype_categorical10_loss: 3.2573 - val_covertype_cls_categorical_accuracy: 0.8864\n",
      "Epoch 81/1000\n",
      "129/129 [==============================] - 30s 232ms/step - loss: 16.4178 - covertype_cls_loss: 0.3884 - covertype_bernoulli_loss: 0.0267 - covertype_categorical1_loss: 1.2340 - covertype_categorical2_loss: 0.8330 - covertype_categorical3_loss: 0.3169 - covertype_categorical4_loss: 1.1337 - covertype_categorical5_loss: 1.4856 - covertype_categorical6_loss: 1.4675 - covertype_categorical7_loss: 0.7453 - covertype_categorical8_loss: 0.6893 - covertype_categorical9_loss: 0.8157 - covertype_categorical10_loss: 1.5619 - covertype_cls_categorical_accuracy: 0.9525 - val_loss: 31.7525 - val_covertype_cls_loss: 0.5348 - val_covertype_bernoulli_loss: 0.0600 - val_covertype_categorical1_loss: 3.0836 - val_covertype_categorical2_loss: 1.4415 - val_covertype_categorical3_loss: 0.3949 - val_covertype_categorical4_loss: 2.1914 - val_covertype_categorical5_loss: 2.8721 - val_covertype_categorical6_loss: 3.2219 - val_covertype_categorical7_loss: 1.2597 - val_covertype_categorical8_loss: 1.1022 - val_covertype_categorical9_loss: 1.4317 - val_covertype_categorical10_loss: 3.3843 - val_covertype_cls_categorical_accuracy: 0.8802\n",
      "Epoch 82/1000\n",
      "129/129 [==============================] - 31s 238ms/step - loss: 15.0520 - covertype_cls_loss: 0.3815 - covertype_bernoulli_loss: 0.0215 - covertype_categorical1_loss: 1.1879 - covertype_categorical2_loss: 0.6939 - covertype_categorical3_loss: 0.1960 - covertype_categorical4_loss: 1.1250 - covertype_categorical5_loss: 1.4348 - covertype_categorical6_loss: 1.3906 - covertype_categorical7_loss: 0.5946 - covertype_categorical8_loss: 0.5841 - covertype_categorical9_loss: 0.6869 - covertype_categorical10_loss: 1.4897 - covertype_cls_categorical_accuracy: 0.9555 - val_loss: 30.7384 - val_covertype_cls_loss: 0.5203 - val_covertype_bernoulli_loss: 0.0469 - val_covertype_categorical1_loss: 2.9642 - val_covertype_categorical2_loss: 1.4367 - val_covertype_categorical3_loss: 0.3498 - val_covertype_categorical4_loss: 2.1211 - val_covertype_categorical5_loss: 2.7853 - val_covertype_categorical6_loss: 3.0968 - val_covertype_categorical7_loss: 1.1560 - val_covertype_categorical8_loss: 1.1605 - val_covertype_categorical9_loss: 1.3852 - val_covertype_categorical10_loss: 3.2744 - val_covertype_cls_categorical_accuracy: 0.8858\n",
      "Epoch 83/1000\n",
      "129/129 [==============================] - 30s 236ms/step - loss: 15.9644 - covertype_cls_loss: 0.3866 - covertype_bernoulli_loss: 0.0290 - covertype_categorical1_loss: 1.2148 - covertype_categorical2_loss: 0.7877 - covertype_categorical3_loss: 0.3102 - covertype_categorical4_loss: 1.0848 - covertype_categorical5_loss: 1.4167 - covertype_categorical6_loss: 1.4266 - covertype_categorical7_loss: 0.6852 - covertype_categorical8_loss: 0.7038 - covertype_categorical9_loss: 0.8236 - covertype_categorical10_loss: 1.5256 - covertype_cls_categorical_accuracy: 0.9532 - val_loss: 31.5373 - val_covertype_cls_loss: 0.5370 - val_covertype_bernoulli_loss: 0.0561 - val_covertype_categorical1_loss: 3.1196 - val_covertype_categorical2_loss: 1.4042 - val_covertype_categorical3_loss: 0.3386 - val_covertype_categorical4_loss: 2.1895 - val_covertype_categorical5_loss: 2.8817 - val_covertype_categorical6_loss: 3.2453 - val_covertype_categorical7_loss: 1.1594 - val_covertype_categorical8_loss: 1.1247 - val_covertype_categorical9_loss: 1.3755 - val_covertype_categorical10_loss: 3.4036 - val_covertype_cls_categorical_accuracy: 0.8765\n",
      "Epoch 84/1000\n",
      "129/129 [==============================] - 31s 237ms/step - loss: 16.0851 - covertype_cls_loss: 0.3868 - covertype_bernoulli_loss: 0.0294 - covertype_categorical1_loss: 1.2137 - covertype_categorical2_loss: 0.8210 - covertype_categorical3_loss: 0.3134 - covertype_categorical4_loss: 1.0771 - covertype_categorical5_loss: 1.4258 - covertype_categorical6_loss: 1.4391 - covertype_categorical7_loss: 0.7148 - covertype_categorical8_loss: 0.7198 - covertype_categorical9_loss: 0.8021 - covertype_categorical10_loss: 1.5321 - covertype_cls_categorical_accuracy: 0.9533 - val_loss: 30.6311 - val_covertype_cls_loss: 0.5193 - val_covertype_bernoulli_loss: 0.0494 - val_covertype_categorical1_loss: 2.9547 - val_covertype_categorical2_loss: 1.4212 - val_covertype_categorical3_loss: 0.3664 - val_covertype_categorical4_loss: 2.1190 - val_covertype_categorical5_loss: 2.7735 - val_covertype_categorical6_loss: 3.0947 - val_covertype_categorical7_loss: 1.2003 - val_covertype_categorical8_loss: 1.1121 - val_covertype_categorical9_loss: 1.3566 - val_covertype_categorical10_loss: 3.2576 - val_covertype_cls_categorical_accuracy: 0.8868\n",
      "Epoch 85/1000\n"
     ]
    },
    {
     "name": "stdout",
     "output_type": "stream",
     "text": [
      "129/129 [==============================] - 31s 238ms/step - loss: 16.3653 - covertype_cls_loss: 0.3904 - covertype_bernoulli_loss: 0.0313 - covertype_categorical1_loss: 1.2276 - covertype_categorical2_loss: 0.8001 - covertype_categorical3_loss: 0.2735 - covertype_categorical4_loss: 1.2137 - covertype_categorical5_loss: 1.5811 - covertype_categorical6_loss: 1.4484 - covertype_categorical7_loss: 0.6854 - covertype_categorical8_loss: 0.6751 - covertype_categorical9_loss: 0.7942 - covertype_categorical10_loss: 1.5413 - covertype_cls_categorical_accuracy: 0.9520 - val_loss: 31.6234 - val_covertype_cls_loss: 0.5274 - val_covertype_bernoulli_loss: 0.0642 - val_covertype_categorical1_loss: 3.0803 - val_covertype_categorical2_loss: 1.4486 - val_covertype_categorical3_loss: 0.3384 - val_covertype_categorical4_loss: 2.2001 - val_covertype_categorical5_loss: 2.8749 - val_covertype_categorical6_loss: 3.2344 - val_covertype_categorical7_loss: 1.2059 - val_covertype_categorical8_loss: 1.1087 - val_covertype_categorical9_loss: 1.4047 - val_covertype_categorical10_loss: 3.4015 - val_covertype_cls_categorical_accuracy: 0.8823\n",
      "Epoch 86/1000\n",
      "129/129 [==============================] - 31s 237ms/step - loss: 14.2084 - covertype_cls_loss: 0.3754 - covertype_bernoulli_loss: 0.0198 - covertype_categorical1_loss: 1.1476 - covertype_categorical2_loss: 0.6388 - covertype_categorical3_loss: 0.1768 - covertype_categorical4_loss: 1.0371 - covertype_categorical5_loss: 1.3355 - covertype_categorical6_loss: 1.3278 - covertype_categorical7_loss: 0.5518 - covertype_categorical8_loss: 0.5454 - covertype_categorical9_loss: 0.6402 - covertype_categorical10_loss: 1.4256 - covertype_cls_categorical_accuracy: 0.9579 - val_loss: 30.6200 - val_covertype_cls_loss: 0.5120 - val_covertype_bernoulli_loss: 0.0508 - val_covertype_categorical1_loss: 2.9613 - val_covertype_categorical2_loss: 1.3666 - val_covertype_categorical3_loss: 0.3579 - val_covertype_categorical4_loss: 2.1199 - val_covertype_categorical5_loss: 2.8085 - val_covertype_categorical6_loss: 3.1071 - val_covertype_categorical7_loss: 1.2016 - val_covertype_categorical8_loss: 1.0715 - val_covertype_categorical9_loss: 1.3846 - val_covertype_categorical10_loss: 3.2722 - val_covertype_cls_categorical_accuracy: 0.8888\n",
      "Epoch 87/1000\n",
      "129/129 [==============================] - 30s 235ms/step - loss: 17.2943 - covertype_cls_loss: 0.4045 - covertype_bernoulli_loss: 0.0538 - covertype_categorical1_loss: 1.2939 - covertype_categorical2_loss: 0.8890 - covertype_categorical3_loss: 0.3311 - covertype_categorical4_loss: 1.2392 - covertype_categorical5_loss: 1.5472 - covertype_categorical6_loss: 1.5317 - covertype_categorical7_loss: 0.8080 - covertype_categorical8_loss: 0.7037 - covertype_categorical9_loss: 0.8457 - covertype_categorical10_loss: 1.6392 - covertype_cls_categorical_accuracy: 0.9471 - val_loss: 33.0752 - val_covertype_cls_loss: 0.5292 - val_covertype_bernoulli_loss: 0.0646 - val_covertype_categorical1_loss: 3.0973 - val_covertype_categorical2_loss: 1.4980 - val_covertype_categorical3_loss: 0.4720 - val_covertype_categorical4_loss: 2.4238 - val_covertype_categorical5_loss: 3.0202 - val_covertype_categorical6_loss: 3.2914 - val_covertype_categorical7_loss: 1.2479 - val_covertype_categorical8_loss: 1.3061 - val_covertype_categorical9_loss: 1.4499 - val_covertype_categorical10_loss: 3.4581 - val_covertype_cls_categorical_accuracy: 0.8826\n",
      "Epoch 88/1000\n",
      "129/129 [==============================] - 31s 243ms/step - loss: 15.3119 - covertype_cls_loss: 0.3827 - covertype_bernoulli_loss: 0.0265 - covertype_categorical1_loss: 1.1824 - covertype_categorical2_loss: 0.7718 - covertype_categorical3_loss: 0.2506 - covertype_categorical4_loss: 1.0502 - covertype_categorical5_loss: 1.3724 - covertype_categorical6_loss: 1.3804 - covertype_categorical7_loss: 0.6439 - covertype_categorical8_loss: 0.6510 - covertype_categorical9_loss: 0.7731 - covertype_categorical10_loss: 1.4729 - covertype_cls_categorical_accuracy: 0.9553 - val_loss: 30.0117 - val_covertype_cls_loss: 0.5128 - val_covertype_bernoulli_loss: 0.0467 - val_covertype_categorical1_loss: 2.9527 - val_covertype_categorical2_loss: 1.3227 - val_covertype_categorical3_loss: 0.2671 - val_covertype_categorical4_loss: 2.1285 - val_covertype_categorical5_loss: 2.8190 - val_covertype_categorical6_loss: 3.1113 - val_covertype_categorical7_loss: 1.0697 - val_covertype_categorical8_loss: 1.0235 - val_covertype_categorical9_loss: 1.2861 - val_covertype_categorical10_loss: 3.2693 - val_covertype_cls_categorical_accuracy: 0.8892\n",
      "Epoch 89/1000\n",
      "129/129 [==============================] - 31s 243ms/step - loss: 16.1525 - covertype_cls_loss: 0.3980 - covertype_bernoulli_loss: 0.0422 - covertype_categorical1_loss: 1.2467 - covertype_categorical2_loss: 0.7398 - covertype_categorical3_loss: 0.2507 - covertype_categorical4_loss: 1.3008 - covertype_categorical5_loss: 1.4970 - covertype_categorical6_loss: 1.4624 - covertype_categorical7_loss: 0.6429 - covertype_categorical8_loss: 0.6315 - covertype_categorical9_loss: 0.7471 - covertype_categorical10_loss: 1.5654 - covertype_cls_categorical_accuracy: 0.9494 - val_loss: 31.3863 - val_covertype_cls_loss: 0.5227 - val_covertype_bernoulli_loss: 0.0569 - val_covertype_categorical1_loss: 3.0610 - val_covertype_categorical2_loss: 1.4639 - val_covertype_categorical3_loss: 0.3114 - val_covertype_categorical4_loss: 2.1841 - val_covertype_categorical5_loss: 2.8521 - val_covertype_categorical6_loss: 3.2126 - val_covertype_categorical7_loss: 1.1461 - val_covertype_categorical8_loss: 1.1027 - val_covertype_categorical9_loss: 1.4151 - val_covertype_categorical10_loss: 3.4015 - val_covertype_cls_categorical_accuracy: 0.8854\n",
      "Epoch 90/1000\n",
      "129/129 [==============================] - 31s 237ms/step - loss: 15.0180 - covertype_cls_loss: 0.3787 - covertype_bernoulli_loss: 0.0243 - covertype_categorical1_loss: 1.1590 - covertype_categorical2_loss: 0.7431 - covertype_categorical3_loss: 0.2896 - covertype_categorical4_loss: 1.0208 - covertype_categorical5_loss: 1.3474 - covertype_categorical6_loss: 1.3488 - covertype_categorical7_loss: 0.6215 - covertype_categorical8_loss: 0.6603 - covertype_categorical9_loss: 0.7249 - covertype_categorical10_loss: 1.4433 - covertype_cls_categorical_accuracy: 0.9567 - val_loss: 30.0233 - val_covertype_cls_loss: 0.5203 - val_covertype_bernoulli_loss: 0.0462 - val_covertype_categorical1_loss: 2.9528 - val_covertype_categorical2_loss: 1.3333 - val_covertype_categorical3_loss: 0.2736 - val_covertype_categorical4_loss: 2.1044 - val_covertype_categorical5_loss: 2.8015 - val_covertype_categorical6_loss: 3.1013 - val_covertype_categorical7_loss: 1.0915 - val_covertype_categorical8_loss: 1.0301 - val_covertype_categorical9_loss: 1.3011 - val_covertype_categorical10_loss: 3.2636 - val_covertype_cls_categorical_accuracy: 0.8849\n",
      "Epoch 91/1000\n",
      "129/129 [==============================] - 30s 235ms/step - loss: 15.4039 - covertype_cls_loss: 0.3814 - covertype_bernoulli_loss: 0.0273 - covertype_categorical1_loss: 1.1826 - covertype_categorical2_loss: 0.7632 - covertype_categorical3_loss: 0.3040 - covertype_categorical4_loss: 1.0424 - covertype_categorical5_loss: 1.3582 - covertype_categorical6_loss: 1.3709 - covertype_categorical7_loss: 0.6684 - covertype_categorical8_loss: 0.6734 - covertype_categorical9_loss: 0.7807 - covertype_categorical10_loss: 1.4657 - covertype_cls_categorical_accuracy: 0.9556 - val_loss: 32.3853 - val_covertype_cls_loss: 0.5307 - val_covertype_bernoulli_loss: 0.0671 - val_covertype_categorical1_loss: 3.0795 - val_covertype_categorical2_loss: 1.4533 - val_covertype_categorical3_loss: 0.4081 - val_covertype_categorical4_loss: 2.4181 - val_covertype_categorical5_loss: 3.0033 - val_covertype_categorical6_loss: 3.2361 - val_covertype_categorical7_loss: 1.2185 - val_covertype_categorical8_loss: 1.1720 - val_covertype_categorical9_loss: 1.4054 - val_covertype_categorical10_loss: 3.4046 - val_covertype_cls_categorical_accuracy: 0.8804\n",
      "Epoch 92/1000\n"
     ]
    },
    {
     "name": "stdout",
     "output_type": "stream",
     "text": [
      "129/129 [==============================] - 31s 239ms/step - loss: 14.9029 - covertype_cls_loss: 0.3784 - covertype_bernoulli_loss: 0.0251 - covertype_categorical1_loss: 1.1569 - covertype_categorical2_loss: 0.7129 - covertype_categorical3_loss: 0.2904 - covertype_categorical4_loss: 1.0179 - covertype_categorical5_loss: 1.3351 - covertype_categorical6_loss: 1.3342 - covertype_categorical7_loss: 0.6385 - covertype_categorical8_loss: 0.6420 - covertype_categorical9_loss: 0.7309 - covertype_categorical10_loss: 1.4215 - covertype_cls_categorical_accuracy: 0.9569 - val_loss: 30.4752 - val_covertype_cls_loss: 0.5118 - val_covertype_bernoulli_loss: 0.0456 - val_covertype_categorical1_loss: 2.9537 - val_covertype_categorical2_loss: 1.4278 - val_covertype_categorical3_loss: 0.2895 - val_covertype_categorical4_loss: 2.1062 - val_covertype_categorical5_loss: 2.7867 - val_covertype_categorical6_loss: 3.0943 - val_covertype_categorical7_loss: 1.1856 - val_covertype_categorical8_loss: 1.0733 - val_covertype_categorical9_loss: 1.3701 - val_covertype_categorical10_loss: 3.2746 - val_covertype_cls_categorical_accuracy: 0.8884\n",
      "Epoch 93/1000\n",
      "129/129 [==============================] - 31s 237ms/step - loss: 14.8827 - covertype_cls_loss: 0.3772 - covertype_bernoulli_loss: 0.0251 - covertype_categorical1_loss: 1.1621 - covertype_categorical2_loss: 0.7212 - covertype_categorical3_loss: 0.2117 - covertype_categorical4_loss: 1.1068 - covertype_categorical5_loss: 1.3709 - covertype_categorical6_loss: 1.3397 - covertype_categorical7_loss: 0.6291 - covertype_categorical8_loss: 0.5858 - covertype_categorical9_loss: 0.7143 - covertype_categorical10_loss: 1.4264 - covertype_cls_categorical_accuracy: 0.9571 - val_loss: 43.3742 - val_covertype_cls_loss: 0.5721 - val_covertype_bernoulli_loss: 0.1072 - val_covertype_categorical1_loss: 3.2071 - val_covertype_categorical2_loss: 2.3950 - val_covertype_categorical3_loss: 2.2356 - val_covertype_categorical4_loss: 2.2568 - val_covertype_categorical5_loss: 3.0508 - val_covertype_categorical6_loss: 3.2707 - val_covertype_categorical7_loss: 3.0391 - val_covertype_categorical8_loss: 2.1294 - val_covertype_categorical9_loss: 2.9574 - val_covertype_categorical10_loss: 3.5186 - val_covertype_cls_categorical_accuracy: 0.8663\n",
      "Epoch 94/1000\n",
      "129/129 [==============================] - 30s 233ms/step - loss: 14.8846 - covertype_cls_loss: 0.3799 - covertype_bernoulli_loss: 0.0295 - covertype_categorical1_loss: 1.1637 - covertype_categorical2_loss: 0.7032 - covertype_categorical3_loss: 0.2592 - covertype_categorical4_loss: 1.0169 - covertype_categorical5_loss: 1.3364 - covertype_categorical6_loss: 1.3529 - covertype_categorical7_loss: 0.6200 - covertype_categorical8_loss: 0.6286 - covertype_categorical9_loss: 0.7159 - covertype_categorical10_loss: 1.4661 - covertype_cls_categorical_accuracy: 0.9564 - val_loss: 30.1772 - val_covertype_cls_loss: 0.5070 - val_covertype_bernoulli_loss: 0.0471 - val_covertype_categorical1_loss: 2.9403 - val_covertype_categorical2_loss: 1.3639 - val_covertype_categorical3_loss: 0.2938 - val_covertype_categorical4_loss: 2.0965 - val_covertype_categorical5_loss: 2.8025 - val_covertype_categorical6_loss: 3.1174 - val_covertype_categorical7_loss: 1.0949 - val_covertype_categorical8_loss: 1.0537 - val_covertype_categorical9_loss: 1.3123 - val_covertype_categorical10_loss: 3.2868 - val_covertype_cls_categorical_accuracy: 0.8938\n",
      "Epoch 95/1000\n",
      "129/129 [==============================] - 30s 235ms/step - loss: 20.3931 - covertype_cls_loss: 0.4698 - covertype_bernoulli_loss: 0.1094 - covertype_categorical1_loss: 1.4696 - covertype_categorical2_loss: 0.9765 - covertype_categorical3_loss: 0.6289 - covertype_categorical4_loss: 1.3433 - covertype_categorical5_loss: 1.7601 - covertype_categorical6_loss: 1.7959 - covertype_categorical7_loss: 0.9276 - covertype_categorical8_loss: 0.9538 - covertype_categorical9_loss: 1.0260 - covertype_categorical10_loss: 1.9111 - covertype_cls_categorical_accuracy: 0.9253 - val_loss: 32.0804 - val_covertype_cls_loss: 0.5583 - val_covertype_bernoulli_loss: 0.0686 - val_covertype_categorical1_loss: 3.1168 - val_covertype_categorical2_loss: 1.4827 - val_covertype_categorical3_loss: 0.3946 - val_covertype_categorical4_loss: 2.1781 - val_covertype_categorical5_loss: 2.8983 - val_covertype_categorical6_loss: 3.3033 - val_covertype_categorical7_loss: 1.1735 - val_covertype_categorical8_loss: 1.2058 - val_covertype_categorical9_loss: 1.3878 - val_covertype_categorical10_loss: 3.4402 - val_covertype_cls_categorical_accuracy: 0.8702\n",
      "Epoch 96/1000\n",
      "129/129 [==============================] - 30s 236ms/step - loss: 15.1595 - covertype_cls_loss: 0.3903 - covertype_bernoulli_loss: 0.0244 - covertype_categorical1_loss: 1.1770 - covertype_categorical2_loss: 0.7479 - covertype_categorical3_loss: 0.2201 - covertype_categorical4_loss: 1.1104 - covertype_categorical5_loss: 1.4070 - covertype_categorical6_loss: 1.3629 - covertype_categorical7_loss: 0.6363 - covertype_categorical8_loss: 0.6104 - covertype_categorical9_loss: 0.7224 - covertype_categorical10_loss: 1.4557 - covertype_cls_categorical_accuracy: 0.9530 - val_loss: 30.6238 - val_covertype_cls_loss: 0.5285 - val_covertype_bernoulli_loss: 0.0529 - val_covertype_categorical1_loss: 2.9388 - val_covertype_categorical2_loss: 1.3899 - val_covertype_categorical3_loss: 0.3853 - val_covertype_categorical4_loss: 2.1580 - val_covertype_categorical5_loss: 2.8161 - val_covertype_categorical6_loss: 3.0856 - val_covertype_categorical7_loss: 1.1193 - val_covertype_categorical8_loss: 1.1589 - val_covertype_categorical9_loss: 1.3424 - val_covertype_categorical10_loss: 3.2472 - val_covertype_cls_categorical_accuracy: 0.8822\n",
      "Epoch 97/1000\n",
      "129/129 [==============================] - 30s 234ms/step - loss: 14.0074 - covertype_cls_loss: 0.3772 - covertype_bernoulli_loss: 0.0204 - covertype_categorical1_loss: 1.1176 - covertype_categorical2_loss: 0.6753 - covertype_categorical3_loss: 0.1945 - covertype_categorical4_loss: 0.9766 - covertype_categorical5_loss: 1.2768 - covertype_categorical6_loss: 1.2808 - covertype_categorical7_loss: 0.5693 - covertype_categorical8_loss: 0.5733 - covertype_categorical9_loss: 0.6618 - covertype_categorical10_loss: 1.3682 - covertype_cls_categorical_accuracy: 0.9578 - val_loss: 33.5547 - val_covertype_cls_loss: 0.5191 - val_covertype_bernoulli_loss: 0.0701 - val_covertype_categorical1_loss: 3.0668 - val_covertype_categorical2_loss: 1.7709 - val_covertype_categorical3_loss: 0.6157 - val_covertype_categorical4_loss: 2.2378 - val_covertype_categorical5_loss: 2.9154 - val_covertype_categorical6_loss: 3.2293 - val_covertype_categorical7_loss: 1.2798 - val_covertype_categorical8_loss: 1.4813 - val_covertype_categorical9_loss: 1.5439 - val_covertype_categorical10_loss: 3.4434 - val_covertype_cls_categorical_accuracy: 0.8861\n",
      "Epoch 98/1000\n",
      "129/129 [==============================] - 31s 237ms/step - loss: 14.9077 - covertype_cls_loss: 0.3792 - covertype_bernoulli_loss: 0.0254 - covertype_categorical1_loss: 1.1444 - covertype_categorical2_loss: 0.7596 - covertype_categorical3_loss: 0.2808 - covertype_categorical4_loss: 1.0005 - covertype_categorical5_loss: 1.3034 - covertype_categorical6_loss: 1.3189 - covertype_categorical7_loss: 0.6554 - covertype_categorical8_loss: 0.6516 - covertype_categorical9_loss: 0.7554 - covertype_categorical10_loss: 1.4154 - covertype_cls_categorical_accuracy: 0.9563 - val_loss: 30.8919 - val_covertype_cls_loss: 0.5070 - val_covertype_bernoulli_loss: 0.0525 - val_covertype_categorical1_loss: 2.9222 - val_covertype_categorical2_loss: 1.4444 - val_covertype_categorical3_loss: 0.4296 - val_covertype_categorical4_loss: 2.1259 - val_covertype_categorical5_loss: 2.8323 - val_covertype_categorical6_loss: 3.0865 - val_covertype_categorical7_loss: 1.1916 - val_covertype_categorical8_loss: 1.1372 - val_covertype_categorical9_loss: 1.4137 - val_covertype_categorical10_loss: 3.2502 - val_covertype_cls_categorical_accuracy: 0.8923\n",
      "Epoch 99/1000\n"
     ]
    },
    {
     "name": "stdout",
     "output_type": "stream",
     "text": [
      "129/129 [==============================] - 31s 238ms/step - loss: 14.4518 - covertype_cls_loss: 0.3760 - covertype_bernoulli_loss: 0.0264 - covertype_categorical1_loss: 1.1371 - covertype_categorical2_loss: 0.6838 - covertype_categorical3_loss: 0.2262 - covertype_categorical4_loss: 1.0462 - covertype_categorical5_loss: 1.3263 - covertype_categorical6_loss: 1.3057 - covertype_categorical7_loss: 0.5919 - covertype_categorical8_loss: 0.5900 - covertype_categorical9_loss: 0.6754 - covertype_categorical10_loss: 1.3999 - covertype_cls_categorical_accuracy: 0.9578 - val_loss: 48.0382 - val_covertype_cls_loss: 0.5189 - val_covertype_bernoulli_loss: 0.1071 - val_covertype_categorical1_loss: 3.1556 - val_covertype_categorical2_loss: 3.1458 - val_covertype_categorical3_loss: 2.3333 - val_covertype_categorical4_loss: 2.3486 - val_covertype_categorical5_loss: 2.9588 - val_covertype_categorical6_loss: 3.3431 - val_covertype_categorical7_loss: 3.9448 - val_covertype_categorical8_loss: 2.4203 - val_covertype_categorical9_loss: 4.1199 - val_covertype_categorical10_loss: 3.4282 - val_covertype_cls_categorical_accuracy: 0.8872\n",
      "Epoch 100/1000\n",
      "129/129 [==============================] - 30s 233ms/step - loss: 17.5777 - covertype_cls_loss: 0.4155 - covertype_bernoulli_loss: 0.0772 - covertype_categorical1_loss: 1.3266 - covertype_categorical2_loss: 0.8146 - covertype_categorical3_loss: 0.3133 - covertype_categorical4_loss: 1.4064 - covertype_categorical5_loss: 1.7085 - covertype_categorical6_loss: 1.5548 - covertype_categorical7_loss: 0.7043 - covertype_categorical8_loss: 0.7179 - covertype_categorical9_loss: 0.8098 - covertype_categorical10_loss: 1.6309 - covertype_cls_categorical_accuracy: 0.9431 - val_loss: 31.4618 - val_covertype_cls_loss: 0.5613 - val_covertype_bernoulli_loss: 0.0686 - val_covertype_categorical1_loss: 3.0308 - val_covertype_categorical2_loss: 1.3699 - val_covertype_categorical3_loss: 0.3825 - val_covertype_categorical4_loss: 2.3277 - val_covertype_categorical5_loss: 2.9601 - val_covertype_categorical6_loss: 3.1821 - val_covertype_categorical7_loss: 1.1348 - val_covertype_categorical8_loss: 1.1114 - val_covertype_categorical9_loss: 1.3366 - val_covertype_categorical10_loss: 3.3296 - val_covertype_cls_categorical_accuracy: 0.8718\n",
      "Epoch 101/1000\n",
      "129/129 [==============================] - 31s 239ms/step - loss: 14.8485 - covertype_cls_loss: 0.3820 - covertype_bernoulli_loss: 0.0272 - covertype_categorical1_loss: 1.1526 - covertype_categorical2_loss: 0.7332 - covertype_categorical3_loss: 0.2562 - covertype_categorical4_loss: 1.0186 - covertype_categorical5_loss: 1.3334 - covertype_categorical6_loss: 1.3347 - covertype_categorical7_loss: 0.6701 - covertype_categorical8_loss: 0.5993 - covertype_categorical9_loss: 0.7284 - covertype_categorical10_loss: 1.4202 - covertype_cls_categorical_accuracy: 0.9561 - val_loss: 31.1126 - val_covertype_cls_loss: 0.5139 - val_covertype_bernoulli_loss: 0.0577 - val_covertype_categorical1_loss: 3.0321 - val_covertype_categorical2_loss: 1.4092 - val_covertype_categorical3_loss: 0.3258 - val_covertype_categorical4_loss: 2.1631 - val_covertype_categorical5_loss: 2.8678 - val_covertype_categorical6_loss: 3.1881 - val_covertype_categorical7_loss: 1.1264 - val_covertype_categorical8_loss: 1.1268 - val_covertype_categorical9_loss: 1.3391 - val_covertype_categorical10_loss: 3.3972 - val_covertype_cls_categorical_accuracy: 0.8895\n",
      "Epoch 102/1000\n",
      "129/129 [==============================] - 31s 237ms/step - loss: 13.9473 - covertype_cls_loss: 0.3722 - covertype_bernoulli_loss: 0.0215 - covertype_categorical1_loss: 1.1075 - covertype_categorical2_loss: 0.6481 - covertype_categorical3_loss: 0.2625 - covertype_categorical4_loss: 0.9369 - covertype_categorical5_loss: 1.2365 - covertype_categorical6_loss: 1.2621 - covertype_categorical7_loss: 0.5725 - covertype_categorical8_loss: 0.6083 - covertype_categorical9_loss: 0.6814 - covertype_categorical10_loss: 1.3403 - covertype_cls_categorical_accuracy: 0.9592 - val_loss: 29.8504 - val_covertype_cls_loss: 0.5077 - val_covertype_bernoulli_loss: 0.0439 - val_covertype_categorical1_loss: 2.9316 - val_covertype_categorical2_loss: 1.3030 - val_covertype_categorical3_loss: 0.2798 - val_covertype_categorical4_loss: 2.0844 - val_covertype_categorical5_loss: 2.7990 - val_covertype_categorical6_loss: 3.0936 - val_covertype_categorical7_loss: 1.0616 - val_covertype_categorical8_loss: 1.0342 - val_covertype_categorical9_loss: 1.2787 - val_covertype_categorical10_loss: 3.2842 - val_covertype_cls_categorical_accuracy: 0.8916\n",
      "Epoch 103/1000\n",
      "129/129 [==============================] - 31s 239ms/step - loss: 13.9744 - covertype_cls_loss: 0.3724 - covertype_bernoulli_loss: 0.0232 - covertype_categorical1_loss: 1.1113 - covertype_categorical2_loss: 0.6689 - covertype_categorical3_loss: 0.1862 - covertype_categorical4_loss: 1.0440 - covertype_categorical5_loss: 1.3132 - covertype_categorical6_loss: 1.2641 - covertype_categorical7_loss: 0.5432 - covertype_categorical8_loss: 0.5481 - covertype_categorical9_loss: 0.6479 - covertype_categorical10_loss: 1.3447 - covertype_cls_categorical_accuracy: 0.9593 - val_loss: 33.0163 - val_covertype_cls_loss: 0.5170 - val_covertype_bernoulli_loss: 0.0623 - val_covertype_categorical1_loss: 3.0654 - val_covertype_categorical2_loss: 1.5049 - val_covertype_categorical3_loss: 0.7266 - val_covertype_categorical4_loss: 2.2014 - val_covertype_categorical5_loss: 2.8745 - val_covertype_categorical6_loss: 3.2325 - val_covertype_categorical7_loss: 1.3758 - val_covertype_categorical8_loss: 1.3599 - val_covertype_categorical9_loss: 1.5012 - val_covertype_categorical10_loss: 3.3945 - val_covertype_cls_categorical_accuracy: 0.8863\n",
      "Epoch 104/1000\n",
      "129/129 [==============================] - 31s 240ms/step - loss: 13.9660 - covertype_cls_loss: 0.3711 - covertype_bernoulli_loss: 0.0230 - covertype_categorical1_loss: 1.1060 - covertype_categorical2_loss: 0.6724 - covertype_categorical3_loss: 0.2728 - covertype_categorical4_loss: 0.9326 - covertype_categorical5_loss: 1.2241 - covertype_categorical6_loss: 1.2559 - covertype_categorical7_loss: 0.6090 - covertype_categorical8_loss: 0.5890 - covertype_categorical9_loss: 0.6730 - covertype_categorical10_loss: 1.3305 - covertype_cls_categorical_accuracy: 0.9600 - val_loss: 30.2020 - val_covertype_cls_loss: 0.5045 - val_covertype_bernoulli_loss: 0.0482 - val_covertype_categorical1_loss: 2.9319 - val_covertype_categorical2_loss: 1.3582 - val_covertype_categorical3_loss: 0.3081 - val_covertype_categorical4_loss: 2.0925 - val_covertype_categorical5_loss: 2.8121 - val_covertype_categorical6_loss: 3.1041 - val_covertype_categorical7_loss: 1.1131 - val_covertype_categorical8_loss: 1.0682 - val_covertype_categorical9_loss: 1.3181 - val_covertype_categorical10_loss: 3.2761 - val_covertype_cls_categorical_accuracy: 0.8933\n",
      "Epoch 105/1000\n",
      "129/129 [==============================] - 30s 236ms/step - loss: 14.6371 - covertype_cls_loss: 0.3737 - covertype_bernoulli_loss: 0.0257 - covertype_categorical1_loss: 1.1311 - covertype_categorical2_loss: 0.7200 - covertype_categorical3_loss: 0.2698 - covertype_categorical4_loss: 1.0371 - covertype_categorical5_loss: 1.3041 - covertype_categorical6_loss: 1.2879 - covertype_categorical7_loss: 0.6164 - covertype_categorical8_loss: 0.6551 - covertype_categorical9_loss: 0.7207 - covertype_categorical10_loss: 1.3645 - covertype_cls_categorical_accuracy: 0.9588 - val_loss: 31.8638 - val_covertype_cls_loss: 0.5181 - val_covertype_bernoulli_loss: 0.0629 - val_covertype_categorical1_loss: 3.0505 - val_covertype_categorical2_loss: 1.4980 - val_covertype_categorical3_loss: 0.3739 - val_covertype_categorical4_loss: 2.1656 - val_covertype_categorical5_loss: 2.8989 - val_covertype_categorical6_loss: 3.2330 - val_covertype_categorical7_loss: 1.2434 - val_covertype_categorical8_loss: 1.1454 - val_covertype_categorical9_loss: 1.4423 - val_covertype_categorical10_loss: 3.4154 - val_covertype_cls_categorical_accuracy: 0.8868\n",
      "Epoch 106/1000\n"
     ]
    },
    {
     "name": "stdout",
     "output_type": "stream",
     "text": [
      "129/129 [==============================] - 30s 234ms/step - loss: 13.3708 - covertype_cls_loss: 0.3678 - covertype_bernoulli_loss: 0.0213 - covertype_categorical1_loss: 1.0793 - covertype_categorical2_loss: 0.6158 - covertype_categorical3_loss: 0.1650 - covertype_categorical4_loss: 1.0095 - covertype_categorical5_loss: 1.2440 - covertype_categorical6_loss: 1.2170 - covertype_categorical7_loss: 0.5244 - covertype_categorical8_loss: 0.5161 - covertype_categorical9_loss: 0.6030 - covertype_categorical10_loss: 1.2998 - covertype_cls_categorical_accuracy: 0.9613 - val_loss: 30.1324 - val_covertype_cls_loss: 0.5060 - val_covertype_bernoulli_loss: 0.0479 - val_covertype_categorical1_loss: 2.9294 - val_covertype_categorical2_loss: 1.3454 - val_covertype_categorical3_loss: 0.2696 - val_covertype_categorical4_loss: 2.1279 - val_covertype_categorical5_loss: 2.8486 - val_covertype_categorical6_loss: 3.1125 - val_covertype_categorical7_loss: 1.0721 - val_covertype_categorical8_loss: 1.0482 - val_covertype_categorical9_loss: 1.2910 - val_covertype_categorical10_loss: 3.2897 - val_covertype_cls_categorical_accuracy: 0.8917\n",
      "Epoch 107/1000\n",
      "129/129 [==============================] - 31s 237ms/step - loss: 14.3808 - covertype_cls_loss: 0.3770 - covertype_bernoulli_loss: 0.0322 - covertype_categorical1_loss: 1.1202 - covertype_categorical2_loss: 0.7960 - covertype_categorical3_loss: 0.2094 - covertype_categorical4_loss: 0.9675 - covertype_categorical5_loss: 1.2532 - covertype_categorical6_loss: 1.2811 - covertype_categorical7_loss: 0.6701 - covertype_categorical8_loss: 0.5764 - covertype_categorical9_loss: 0.6786 - covertype_categorical10_loss: 1.3766 - covertype_cls_categorical_accuracy: 0.9578 - val_loss: 31.9438 - val_covertype_cls_loss: 0.5177 - val_covertype_bernoulli_loss: 0.0576 - val_covertype_categorical1_loss: 3.0647 - val_covertype_categorical2_loss: 1.4471 - val_covertype_categorical3_loss: 0.3518 - val_covertype_categorical4_loss: 2.2924 - val_covertype_categorical5_loss: 3.0630 - val_covertype_categorical6_loss: 3.2210 - val_covertype_categorical7_loss: 1.1656 - val_covertype_categorical8_loss: 1.1182 - val_covertype_categorical9_loss: 1.3784 - val_covertype_categorical10_loss: 3.4225 - val_covertype_cls_categorical_accuracy: 0.8885\n",
      "Epoch 108/1000\n",
      "129/129 [==============================] - 30s 231ms/step - loss: 14.7141 - covertype_cls_loss: 0.3786 - covertype_bernoulli_loss: 0.0358 - covertype_categorical1_loss: 1.1370 - covertype_categorical2_loss: 0.6854 - covertype_categorical3_loss: 0.3597 - covertype_categorical4_loss: 0.9707 - covertype_categorical5_loss: 1.2756 - covertype_categorical6_loss: 1.3006 - covertype_categorical7_loss: 0.5929 - covertype_categorical8_loss: 0.7283 - covertype_categorical9_loss: 0.7133 - covertype_categorical10_loss: 1.3828 - covertype_cls_categorical_accuracy: 0.9572 - val_loss: 29.9770 - val_covertype_cls_loss: 0.4997 - val_covertype_bernoulli_loss: 0.0464 - val_covertype_categorical1_loss: 2.9356 - val_covertype_categorical2_loss: 1.3164 - val_covertype_categorical3_loss: 0.2772 - val_covertype_categorical4_loss: 2.1047 - val_covertype_categorical5_loss: 2.8460 - val_covertype_categorical6_loss: 3.1104 - val_covertype_categorical7_loss: 1.0642 - val_covertype_categorical8_loss: 1.0336 - val_covertype_categorical9_loss: 1.2682 - val_covertype_categorical10_loss: 3.2808 - val_covertype_cls_categorical_accuracy: 0.8952\n",
      "Epoch 109/1000\n",
      "129/129 [==============================] - 30s 234ms/step - loss: 14.0260 - covertype_cls_loss: 0.3746 - covertype_bernoulli_loss: 0.0278 - covertype_categorical1_loss: 1.1012 - covertype_categorical2_loss: 0.7170 - covertype_categorical3_loss: 0.1990 - covertype_categorical4_loss: 0.9935 - covertype_categorical5_loss: 1.2722 - covertype_categorical6_loss: 1.2471 - covertype_categorical7_loss: 0.5976 - covertype_categorical8_loss: 0.5459 - covertype_categorical9_loss: 0.6900 - covertype_categorical10_loss: 1.3361 - covertype_cls_categorical_accuracy: 0.9587 - val_loss: 33.3125 - val_covertype_cls_loss: 0.5098 - val_covertype_bernoulli_loss: 0.0677 - val_covertype_categorical1_loss: 3.0420 - val_covertype_categorical2_loss: 1.5725 - val_covertype_categorical3_loss: 0.7045 - val_covertype_categorical4_loss: 2.1828 - val_covertype_categorical5_loss: 2.8866 - val_covertype_categorical6_loss: 3.2355 - val_covertype_categorical7_loss: 1.2140 - val_covertype_categorical8_loss: 1.5570 - val_covertype_categorical9_loss: 1.6199 - val_covertype_categorical10_loss: 3.4151 - val_covertype_cls_categorical_accuracy: 0.8915\n",
      "Epoch 110/1000\n",
      "129/129 [==============================] - 31s 239ms/step - loss: 15.0341 - covertype_cls_loss: 0.3791 - covertype_bernoulli_loss: 0.0372 - covertype_categorical1_loss: 1.1407 - covertype_categorical2_loss: 0.7374 - covertype_categorical3_loss: 0.3798 - covertype_categorical4_loss: 0.9984 - covertype_categorical5_loss: 1.2804 - covertype_categorical6_loss: 1.3058 - covertype_categorical7_loss: 0.6946 - covertype_categorical8_loss: 0.6463 - covertype_categorical9_loss: 0.7855 - covertype_categorical10_loss: 1.3889 - covertype_cls_categorical_accuracy: 0.9570 - val_loss: 32.0083 - val_covertype_cls_loss: 0.5337 - val_covertype_bernoulli_loss: 0.0721 - val_covertype_categorical1_loss: 2.9648 - val_covertype_categorical2_loss: 1.6072 - val_covertype_categorical3_loss: 0.4680 - val_covertype_categorical4_loss: 2.1359 - val_covertype_categorical5_loss: 2.9132 - val_covertype_categorical6_loss: 3.0799 - val_covertype_categorical7_loss: 1.3520 - val_covertype_categorical8_loss: 1.2590 - val_covertype_categorical9_loss: 1.5129 - val_covertype_categorical10_loss: 3.2442 - val_covertype_cls_categorical_accuracy: 0.8815\n",
      "Epoch 111/1000\n",
      "129/129 [==============================] - 31s 238ms/step - loss: 13.6269 - covertype_cls_loss: 0.3710 - covertype_bernoulli_loss: 0.0252 - covertype_categorical1_loss: 1.0878 - covertype_categorical2_loss: 0.6198 - covertype_categorical3_loss: 0.1819 - covertype_categorical4_loss: 1.0583 - covertype_categorical5_loss: 1.3036 - covertype_categorical6_loss: 1.2302 - covertype_categorical7_loss: 0.5208 - covertype_categorical8_loss: 0.5208 - covertype_categorical9_loss: 0.6070 - covertype_categorical10_loss: 1.3070 - covertype_cls_categorical_accuracy: 0.9597 - val_loss: 45.8127 - val_covertype_cls_loss: 0.6421 - val_covertype_bernoulli_loss: 0.1561 - val_covertype_categorical1_loss: 3.4573 - val_covertype_categorical2_loss: 1.7544 - val_covertype_categorical3_loss: 2.8103 - val_covertype_categorical4_loss: 3.4258 - val_covertype_categorical5_loss: 3.7796 - val_covertype_categorical6_loss: 3.3999 - val_covertype_categorical7_loss: 2.4965 - val_covertype_categorical8_loss: 2.1801 - val_covertype_categorical9_loss: 2.5955 - val_covertype_categorical10_loss: 3.6849 - val_covertype_cls_categorical_accuracy: 0.8480\n",
      "Epoch 112/1000\n",
      "129/129 [==============================] - 30s 235ms/step - loss: 15.3694 - covertype_cls_loss: 0.3826 - covertype_bernoulli_loss: 0.0420 - covertype_categorical1_loss: 1.1632 - covertype_categorical2_loss: 0.8009 - covertype_categorical3_loss: 0.3161 - covertype_categorical4_loss: 1.0226 - covertype_categorical5_loss: 1.3125 - covertype_categorical6_loss: 1.3360 - covertype_categorical7_loss: 0.7088 - covertype_categorical8_loss: 0.6690 - covertype_categorical9_loss: 0.8229 - covertype_categorical10_loss: 1.4206 - covertype_cls_categorical_accuracy: 0.9559 - val_loss: 30.7780 - val_covertype_cls_loss: 0.5205 - val_covertype_bernoulli_loss: 0.0591 - val_covertype_categorical1_loss: 2.9163 - val_covertype_categorical2_loss: 1.4325 - val_covertype_categorical3_loss: 0.4028 - val_covertype_categorical4_loss: 2.1270 - val_covertype_categorical5_loss: 2.7991 - val_covertype_categorical6_loss: 3.0751 - val_covertype_categorical7_loss: 1.1957 - val_covertype_categorical8_loss: 1.1446 - val_covertype_categorical9_loss: 1.3935 - val_covertype_categorical10_loss: 3.2546 - val_covertype_cls_categorical_accuracy: 0.8874\n",
      "Epoch 113/1000\n"
     ]
    },
    {
     "name": "stdout",
     "output_type": "stream",
     "text": [
      "129/129 [==============================] - 30s 235ms/step - loss: 13.1907 - covertype_cls_loss: 0.3676 - covertype_bernoulli_loss: 0.0234 - covertype_categorical1_loss: 1.0745 - covertype_categorical2_loss: 0.5894 - covertype_categorical3_loss: 0.1612 - covertype_categorical4_loss: 1.0069 - covertype_categorical5_loss: 1.2824 - covertype_categorical6_loss: 1.1949 - covertype_categorical7_loss: 0.5000 - covertype_categorical8_loss: 0.4956 - covertype_categorical9_loss: 0.5713 - covertype_categorical10_loss: 1.2757 - covertype_cls_categorical_accuracy: 0.9614 - val_loss: 32.5712 - val_covertype_cls_loss: 0.5122 - val_covertype_bernoulli_loss: 0.0635 - val_covertype_categorical1_loss: 3.0529 - val_covertype_categorical2_loss: 1.5411 - val_covertype_categorical3_loss: 0.4674 - val_covertype_categorical4_loss: 2.2857 - val_covertype_categorical5_loss: 2.9850 - val_covertype_categorical6_loss: 3.2339 - val_covertype_categorical7_loss: 1.2888 - val_covertype_categorical8_loss: 1.2380 - val_covertype_categorical9_loss: 1.4490 - val_covertype_categorical10_loss: 3.3991 - val_covertype_cls_categorical_accuracy: 0.8918\n",
      "Epoch 114/1000\n",
      "129/129 [==============================] - 31s 237ms/step - loss: 12.7856 - covertype_cls_loss: 0.3631 - covertype_bernoulli_loss: 0.0188 - covertype_categorical1_loss: 1.0433 - covertype_categorical2_loss: 0.5909 - covertype_categorical3_loss: 0.1819 - covertype_categorical4_loss: 0.9227 - covertype_categorical5_loss: 1.1591 - covertype_categorical6_loss: 1.1652 - covertype_categorical7_loss: 0.5011 - covertype_categorical8_loss: 0.5105 - covertype_categorical9_loss: 0.5818 - covertype_categorical10_loss: 1.2327 - covertype_cls_categorical_accuracy: 0.9633 - val_loss: 30.0152 - val_covertype_cls_loss: 0.4931 - val_covertype_bernoulli_loss: 0.0458 - val_covertype_categorical1_loss: 2.9106 - val_covertype_categorical2_loss: 1.3180 - val_covertype_categorical3_loss: 0.2855 - val_covertype_categorical4_loss: 2.1044 - val_covertype_categorical5_loss: 2.8493 - val_covertype_categorical6_loss: 3.1096 - val_covertype_categorical7_loss: 1.0736 - val_covertype_categorical8_loss: 1.0434 - val_covertype_categorical9_loss: 1.2839 - val_covertype_categorical10_loss: 3.2880 - val_covertype_cls_categorical_accuracy: 0.8996\n",
      "Epoch 115/1000\n",
      "129/129 [==============================] - 31s 244ms/step - loss: 14.2740 - covertype_cls_loss: 0.3714 - covertype_bernoulli_loss: 0.0327 - covertype_categorical1_loss: 1.1045 - covertype_categorical2_loss: 0.6910 - covertype_categorical3_loss: 0.3219 - covertype_categorical4_loss: 0.9458 - covertype_categorical5_loss: 1.2306 - covertype_categorical6_loss: 1.2441 - covertype_categorical7_loss: 0.6319 - covertype_categorical8_loss: 0.6347 - covertype_categorical9_loss: 0.7217 - covertype_categorical10_loss: 1.3335 - covertype_cls_categorical_accuracy: 0.9600 - val_loss: 31.0770 - val_covertype_cls_loss: 0.5026 - val_covertype_bernoulli_loss: 0.0608 - val_covertype_categorical1_loss: 3.0399 - val_covertype_categorical2_loss: 1.3874 - val_covertype_categorical3_loss: 0.3053 - val_covertype_categorical4_loss: 2.1572 - val_covertype_categorical5_loss: 2.8950 - val_covertype_categorical6_loss: 3.2374 - val_covertype_categorical7_loss: 1.1392 - val_covertype_categorical8_loss: 1.0617 - val_covertype_categorical9_loss: 1.3263 - val_covertype_categorical10_loss: 3.4057 - val_covertype_cls_categorical_accuracy: 0.8944\n",
      "Epoch 116/1000\n",
      "129/129 [==============================] - 31s 240ms/step - loss: 13.5871 - covertype_cls_loss: 0.3681 - covertype_bernoulli_loss: 0.0277 - covertype_categorical1_loss: 1.0763 - covertype_categorical2_loss: 0.7088 - covertype_categorical3_loss: 0.2161 - covertype_categorical4_loss: 0.9186 - covertype_categorical5_loss: 1.1892 - covertype_categorical6_loss: 1.2059 - covertype_categorical7_loss: 0.5663 - covertype_categorical8_loss: 0.5807 - covertype_categorical9_loss: 0.6684 - covertype_categorical10_loss: 1.2819 - covertype_cls_categorical_accuracy: 0.9614 - val_loss: 30.7624 - val_covertype_cls_loss: 0.5077 - val_covertype_bernoulli_loss: 0.0628 - val_covertype_categorical1_loss: 2.9330 - val_covertype_categorical2_loss: 1.4260 - val_covertype_categorical3_loss: 0.3946 - val_covertype_categorical4_loss: 2.1186 - val_covertype_categorical5_loss: 2.8385 - val_covertype_categorical6_loss: 3.0771 - val_covertype_categorical7_loss: 1.1753 - val_covertype_categorical8_loss: 1.1420 - val_covertype_categorical9_loss: 1.3770 - val_covertype_categorical10_loss: 3.2537 - val_covertype_cls_categorical_accuracy: 0.8912\n",
      "Epoch 117/1000\n",
      "129/129 [==============================] - 30s 234ms/step - loss: 14.6169 - covertype_cls_loss: 0.3822 - covertype_bernoulli_loss: 0.0518 - covertype_categorical1_loss: 1.1497 - covertype_categorical2_loss: 0.6194 - covertype_categorical3_loss: 0.2438 - covertype_categorical4_loss: 1.1717 - covertype_categorical5_loss: 1.4186 - covertype_categorical6_loss: 1.3051 - covertype_categorical7_loss: 0.5453 - covertype_categorical8_loss: 0.5644 - covertype_categorical9_loss: 0.6398 - covertype_categorical10_loss: 1.4039 - covertype_cls_categorical_accuracy: 0.9561 - val_loss: 31.7132 - val_covertype_cls_loss: 0.5238 - val_covertype_bernoulli_loss: 0.0738 - val_covertype_categorical1_loss: 3.0227 - val_covertype_categorical2_loss: 1.4283 - val_covertype_categorical3_loss: 0.3779 - val_covertype_categorical4_loss: 2.2912 - val_covertype_categorical5_loss: 2.9369 - val_covertype_categorical6_loss: 3.2246 - val_covertype_categorical7_loss: 1.1877 - val_covertype_categorical8_loss: 1.1046 - val_covertype_categorical9_loss: 1.3881 - val_covertype_categorical10_loss: 3.3901 - val_covertype_cls_categorical_accuracy: 0.8866\n",
      "Epoch 118/1000\n",
      "129/129 [==============================] - 30s 231ms/step - loss: 14.0902 - covertype_cls_loss: 0.3720 - covertype_bernoulli_loss: 0.0313 - covertype_categorical1_loss: 1.0920 - covertype_categorical2_loss: 0.7517 - covertype_categorical3_loss: 0.2402 - covertype_categorical4_loss: 0.9268 - covertype_categorical5_loss: 1.2069 - covertype_categorical6_loss: 1.2345 - covertype_categorical7_loss: 0.6621 - covertype_categorical8_loss: 0.5985 - covertype_categorical9_loss: 0.7068 - covertype_categorical10_loss: 1.3205 - covertype_cls_categorical_accuracy: 0.9598 - val_loss: 29.8702 - val_covertype_cls_loss: 0.4996 - val_covertype_bernoulli_loss: 0.0498 - val_covertype_categorical1_loss: 2.8977 - val_covertype_categorical2_loss: 1.3443 - val_covertype_categorical3_loss: 0.2926 - val_covertype_categorical4_loss: 2.0814 - val_covertype_categorical5_loss: 2.8105 - val_covertype_categorical6_loss: 3.0710 - val_covertype_categorical7_loss: 1.0879 - val_covertype_categorical8_loss: 1.0354 - val_covertype_categorical9_loss: 1.2936 - val_covertype_categorical10_loss: 3.2491 - val_covertype_cls_categorical_accuracy: 0.8960\n",
      "Epoch 119/1000\n",
      "129/129 [==============================] - 31s 240ms/step - loss: 13.5900 - covertype_cls_loss: 0.3726 - covertype_bernoulli_loss: 0.0283 - covertype_categorical1_loss: 1.0760 - covertype_categorical2_loss: 0.6052 - covertype_categorical3_loss: 0.3292 - covertype_categorical4_loss: 0.9099 - covertype_categorical5_loss: 1.1764 - covertype_categorical6_loss: 1.2110 - covertype_categorical7_loss: 0.5695 - covertype_categorical8_loss: 0.5821 - covertype_categorical9_loss: 0.6577 - covertype_categorical10_loss: 1.2931 - covertype_cls_categorical_accuracy: 0.9597 - val_loss: 31.0491 - val_covertype_cls_loss: 0.5018 - val_covertype_bernoulli_loss: 0.0536 - val_covertype_categorical1_loss: 3.0149 - val_covertype_categorical2_loss: 1.4222 - val_covertype_categorical3_loss: 0.3007 - val_covertype_categorical4_loss: 2.1585 - val_covertype_categorical5_loss: 2.9144 - val_covertype_categorical6_loss: 3.2006 - val_covertype_categorical7_loss: 1.1313 - val_covertype_categorical8_loss: 1.0687 - val_covertype_categorical9_loss: 1.3432 - val_covertype_categorical10_loss: 3.3902 - val_covertype_cls_categorical_accuracy: 0.8957\n",
      "Epoch 120/1000\n"
     ]
    },
    {
     "name": "stdout",
     "output_type": "stream",
     "text": [
      "129/129 [==============================] - 30s 232ms/step - loss: 13.0140 - covertype_cls_loss: 0.3645 - covertype_bernoulli_loss: 0.0229 - covertype_categorical1_loss: 1.0396 - covertype_categorical2_loss: 0.6669 - covertype_categorical3_loss: 0.1950 - covertype_categorical4_loss: 0.8718 - covertype_categorical5_loss: 1.1330 - covertype_categorical6_loss: 1.1596 - covertype_categorical7_loss: 0.5538 - covertype_categorical8_loss: 0.5386 - covertype_categorical9_loss: 0.6473 - covertype_categorical10_loss: 1.2321 - covertype_cls_categorical_accuracy: 0.9628 - val_loss: 29.9268 - val_covertype_cls_loss: 0.4923 - val_covertype_bernoulli_loss: 0.0458 - val_covertype_categorical1_loss: 2.8961 - val_covertype_categorical2_loss: 1.3466 - val_covertype_categorical3_loss: 0.2774 - val_covertype_categorical4_loss: 2.0658 - val_covertype_categorical5_loss: 2.8342 - val_covertype_categorical6_loss: 3.0916 - val_covertype_categorical7_loss: 1.1060 - val_covertype_categorical8_loss: 1.0122 - val_covertype_categorical9_loss: 1.2943 - val_covertype_categorical10_loss: 3.2854 - val_covertype_cls_categorical_accuracy: 0.8988\n",
      "Epoch 121/1000\n",
      "129/129 [==============================] - 30s 230ms/step - loss: 22.9050 - covertype_cls_loss: 0.5082 - covertype_bernoulli_loss: 0.2430 - covertype_categorical1_loss: 1.7304 - covertype_categorical2_loss: 0.9423 - covertype_categorical3_loss: 0.3688 - covertype_categorical4_loss: 2.0270 - covertype_categorical5_loss: 2.3321 - covertype_categorical6_loss: 2.1010 - covertype_categorical7_loss: 0.8118 - covertype_categorical8_loss: 0.8229 - covertype_categorical9_loss: 0.9277 - covertype_categorical10_loss: 2.2391 - covertype_cls_categorical_accuracy: 0.9130 - val_loss: 32.5739 - val_covertype_cls_loss: 0.5856 - val_covertype_bernoulli_loss: 0.1039 - val_covertype_categorical1_loss: 3.1766 - val_covertype_categorical2_loss: 1.3980 - val_covertype_categorical3_loss: 0.3517 - val_covertype_categorical4_loss: 2.3584 - val_covertype_categorical5_loss: 3.0441 - val_covertype_categorical6_loss: 3.3699 - val_covertype_categorical7_loss: 1.1439 - val_covertype_categorical8_loss: 1.0951 - val_covertype_categorical9_loss: 1.3491 - val_covertype_categorical10_loss: 3.5666 - val_covertype_cls_categorical_accuracy: 0.8590\n",
      "Epoch 122/1000\n",
      "129/129 [==============================] - 30s 232ms/step - loss: 14.9186 - covertype_cls_loss: 0.3978 - covertype_bernoulli_loss: 0.0296 - covertype_categorical1_loss: 1.1916 - covertype_categorical2_loss: 0.7238 - covertype_categorical3_loss: 0.1937 - covertype_categorical4_loss: 1.0628 - covertype_categorical5_loss: 1.3749 - covertype_categorical6_loss: 1.3872 - covertype_categorical7_loss: 0.6156 - covertype_categorical8_loss: 0.5812 - covertype_categorical9_loss: 0.6662 - covertype_categorical10_loss: 1.4861 - covertype_cls_categorical_accuracy: 0.9522 - val_loss: 30.6687 - val_covertype_cls_loss: 0.5303 - val_covertype_bernoulli_loss: 0.0653 - val_covertype_categorical1_loss: 2.9655 - val_covertype_categorical2_loss: 1.3491 - val_covertype_categorical3_loss: 0.2886 - val_covertype_categorical4_loss: 2.2161 - val_covertype_categorical5_loss: 2.9058 - val_covertype_categorical6_loss: 3.1535 - val_covertype_categorical7_loss: 1.1025 - val_covertype_categorical8_loss: 1.0258 - val_covertype_categorical9_loss: 1.3196 - val_covertype_categorical10_loss: 3.3342 - val_covertype_cls_categorical_accuracy: 0.8836\n"
     ]
    }
   ],
   "source": [
    "model_history = trainable_nn.fit(trainset_gen, validation_data=validset_gen,\n",
    "                                 epochs=MAX_TRAINING_EPOCHS, callbacks=callbacks,\n",
    "                                 verbose=1)"
   ]
  },
  {
   "cell_type": "code",
   "execution_count": 45,
   "metadata": {
    "id": "tg2TlJsd6B8Q"
   },
   "outputs": [],
   "source": [
    "trainable_nn.load_weights(nn_fname)"
   ]
  },
  {
   "cell_type": "code",
   "execution_count": 46,
   "metadata": {
    "id": "WZxVYvkm6diP"
   },
   "outputs": [
    {
     "data": {
      "image/png": "[encoded data removed]",
      "text/plain": [
       "<Figure size 360x360 with 1 Axes>"
      ]
     },
     "metadata": {
      "needs_background": "light"
     },
     "output_type": "display_data"
    }
   ],
   "source": [
    "show_training_process(history=model_history, metric_name='loss',\n",
    "                      figure_id=1)"
   ]
  },
  {
   "cell_type": "code",
   "execution_count": 47,
   "metadata": {
    "id": "DMNeqB866o7e"
   },
   "outputs": [
    {
     "data": {
      "image/png": "[encoded data removed]",
      "text/plain": [
       "<Figure size 360x360 with 1 Axes>"
      ]
     },
     "metadata": {
      "needs_background": "light"
     },
     "output_type": "display_data"
    }
   ],
   "source": [
    "show_training_process(history=model_history, metric_name='covertype_cls_loss',\n",
    "                      figure_id=2)"
   ]
  },
  {
   "cell_type": "code",
   "execution_count": 48,
   "metadata": {
    "id": "kd3SKKEZ6kgl"
   },
   "outputs": [
    {
     "data": {
      "image/png": "[encoded data removed]",
      "text/plain": [
       "<Figure size 360x360 with 1 Axes>"
      ]
     },
     "metadata": {
      "needs_background": "light"
     },
     "output_type": "display_data"
    }
   ],
   "source": [
    "show_training_process(history=model_history,\n",
    "                      metric_name='covertype_cls_categorical_accuracy',\n",
    "                      figure_id=3)"
   ]
  },
  {
   "cell_type": "code",
   "execution_count": 49,
   "metadata": {
    "id": "mNMlYkPu7Ic_"
   },
   "outputs": [],
   "source": [
    "del trainset_gen, validset_gen"
   ]
  },
  {
   "cell_type": "code",
   "execution_count": 50,
   "metadata": {
    "id": "igS2mcBB7Kzd"
   },
   "outputs": [],
   "source": [
    "del X_train, y_train, X_valid_quantized, X_train_quantized"
   ]
  },
  {
   "cell_type": "code",
   "execution_count": 51,
   "metadata": {
    "id": "yoPbBlKyG9Xb"
   },
   "outputs": [],
   "source": [
    "del trainable_nn"
   ]
  },
  {
   "cell_type": "code",
   "execution_count": 52,
   "metadata": {
    "id": "36JzbsBtHGdv"
   },
   "outputs": [
    {
     "data": {
      "text/plain": [
       "10416"
      ]
     },
     "execution_count": 52,
     "metadata": {},
     "output_type": "execute_result"
    }
   ],
   "source": [
    "gc.collect()"
   ]
  },
  {
   "cell_type": "code",
   "execution_count": 53,
   "metadata": {},
   "outputs": [
    {
     "data": {
      "application/vnd.jupyter.widget-view+json": {
       "model_id": "3ae033b2bf81472f92826661b03df193",
       "version_major": 2,
       "version_minor": 0
      },
      "text/plain": [
       "  0%|          | 0/863 [00:00<?, ?it/s]"
      ]
     },
     "metadata": {},
     "output_type": "display_data"
    }
   ],
   "source": [
    "valid_probas = predict_proba(\n",
    "    X=X_valid, encoder=encoding_nn, classifier=classification_nn,\n",
    "    n_samples=1, batch_size=MINIBATCH_SIZE_FOR_INFERENCE\n",
    ")"
   ]
  },
  {
   "cell_type": "code",
   "execution_count": 54,
   "metadata": {},
   "outputs": [
    {
     "name": "stdout",
     "output_type": "stream",
     "text": [
      "              precision    recall  f1-score   support\n",
      "\n",
      "           0     0.8879    0.8867    0.8873     10063\n",
      "           1     0.9247    0.8785    0.9010     13457\n",
      "           2     0.9035    0.9482    0.9253      1698\n",
      "           3     0.6153    0.9645    0.7513       451\n",
      "           4     0.7856    0.9370    0.8546       825\n",
      "           5     0.8405    0.9846    0.9069       974\n",
      "           6     0.8133    0.9313    0.8683       131\n",
      "\n",
      "    accuracy                         0.8929     27599\n",
      "   macro avg     0.8244    0.9330    0.8707     27599\n",
      "weighted avg     0.8972    0.8929    0.8937     27599\n",
      "\n"
     ]
    }
   ],
   "source": [
    "print(classification_report(y_true=y_valid, y_pred=np.argmax(valid_probas, axis=1),\n",
    "                            digits=4))"
   ]
  },
  {
   "cell_type": "code",
   "execution_count": 55,
   "metadata": {
    "id": "PGYcDvS97-jv"
   },
   "outputs": [
    {
     "data": {
      "application/vnd.jupyter.widget-view+json": {
       "model_id": "2c36f959694849feae5686654c8ed6e2",
       "version_major": 2,
       "version_minor": 0
      },
      "text/plain": [
       "  0%|          | 0/908 [00:00<?, ?it/s]"
      ]
     },
     "metadata": {},
     "output_type": "display_data"
    }
   ],
   "source": [
    "test_probas = predict_proba(\n",
    "    X=X_test, encoder=encoding_nn, classifier=classification_nn,\n",
    "    n_samples=1, batch_size=MINIBATCH_SIZE_FOR_INFERENCE\n",
    ")"
   ]
  },
  {
   "cell_type": "code",
   "execution_count": 56,
   "metadata": {
    "id": "reZKYYG28A3F"
   },
   "outputs": [
    {
     "name": "stdout",
     "output_type": "stream",
     "text": [
      "              precision    recall  f1-score   support\n",
      "\n",
      "           0     0.8888    0.8849    0.8868     10592\n",
      "           1     0.9226    0.8815    0.9016     14165\n",
      "           2     0.9094    0.9430    0.9259      1788\n",
      "           3     0.6331    0.9516    0.7603       475\n",
      "           4     0.7893    0.9493    0.8619       868\n",
      "           5     0.8467    0.9903    0.9128      1026\n",
      "           6     0.8176    0.9489    0.8784       137\n",
      "\n",
      "    accuracy                         0.8939     29051\n",
      "   macro avg     0.8296    0.9356    0.8754     29051\n",
      "weighted avg     0.8976    0.8939    0.8945     29051\n",
      "\n"
     ]
    }
   ],
   "source": [
    "print(classification_report(y_true=y_test, y_pred=np.argmax(test_probas, axis=1),\n",
    "                            digits=4))"
   ]
  },
  {
   "cell_type": "code",
   "execution_count": 57,
   "metadata": {},
   "outputs": [
    {
     "data": {
      "application/vnd.jupyter.widget-view+json": {
       "model_id": "4d551fec264b4a77b6902ef525d512bf",
       "version_major": 2,
       "version_minor": 0
      },
      "text/plain": [
       "  0%|          | 0/908 [00:00<?, ?it/s]"
      ]
     },
     "metadata": {},
     "output_type": "display_data"
    }
   ],
   "source": [
    "test_probas = predict_proba(\n",
    "    X=X_test, encoder=encoding_nn, classifier=classification_nn,\n",
    "    n_samples=10, batch_size=MINIBATCH_SIZE_FOR_INFERENCE\n",
    ")"
   ]
  },
  {
   "cell_type": "code",
   "execution_count": 58,
   "metadata": {},
   "outputs": [
    {
     "name": "stdout",
     "output_type": "stream",
     "text": [
      "              precision    recall  f1-score   support\n",
      "\n",
      "           0     0.8881    0.8852    0.8867     10592\n",
      "           1     0.9229    0.8810    0.9014     14165\n",
      "           2     0.9089    0.9430    0.9256      1788\n",
      "           3     0.6339    0.9516    0.7609       475\n",
      "           4     0.7900    0.9493    0.8624       868\n",
      "           5     0.8453    0.9903    0.9120      1026\n",
      "           6     0.8176    0.9489    0.8784       137\n",
      "\n",
      "    accuracy                         0.8937     29051\n",
      "   macro avg     0.8295    0.9356    0.8753     29051\n",
      "weighted avg     0.8974    0.8937    0.8943     29051\n",
      "\n"
     ]
    }
   ],
   "source": [
    "print(classification_report(y_true=y_test, y_pred=np.argmax(test_probas, axis=1),\n",
    "                            digits=4))"
   ]
  },
  {
   "cell_type": "code",
   "execution_count": 59,
   "metadata": {},
   "outputs": [
    {
     "data": {
      "application/vnd.jupyter.widget-view+json": {
       "model_id": "f780021d761c467c9d7aaed6850fab11",
       "version_major": 2,
       "version_minor": 0
      },
      "text/plain": [
       "  0%|          | 0/908 [00:00<?, ?it/s]"
      ]
     },
     "metadata": {},
     "output_type": "display_data"
    }
   ],
   "source": [
    "test_probas = predict_proba(\n",
    "    X=X_test, encoder=encoding_nn, classifier=classification_nn,\n",
    "    n_samples=100, batch_size=MINIBATCH_SIZE_FOR_INFERENCE\n",
    ")"
   ]
  },
  {
   "cell_type": "code",
   "execution_count": 60,
   "metadata": {},
   "outputs": [
    {
     "name": "stdout",
     "output_type": "stream",
     "text": [
      "              precision    recall  f1-score   support\n",
      "\n",
      "           0     0.8886    0.8845    0.8865     10592\n",
      "           1     0.9224    0.8814    0.9014     14165\n",
      "           2     0.9089    0.9435    0.9259      1788\n",
      "           3     0.6322    0.9516    0.7597       475\n",
      "           4     0.7906    0.9482    0.8622       868\n",
      "           5     0.8467    0.9903    0.9128      1026\n",
      "           6     0.8176    0.9489    0.8784       137\n",
      "\n",
      "    accuracy                         0.8937     29051\n",
      "   macro avg     0.8296    0.9355    0.8753     29051\n",
      "weighted avg     0.8974    0.8937    0.8943     29051\n",
      "\n"
     ]
    }
   ],
   "source": [
    "print(classification_report(y_true=y_test, y_pred=np.argmax(test_probas, axis=1),\n",
    "                            digits=4))"
   ]
  }
 ],
 "metadata": {
  "accelerator": "GPU",
  "colab": {
   "collapsed_sections": [],
   "name": "vae_automl.ipynb",
   "provenance": []
  },
  "kernelspec": {
   "display_name": "Python 3 (ipykernel)",
   "language": "python",
   "name": "python3"
  },
  "language_info": {
   "codemirror_mode": {
    "name": "ipython",
    "version": 3
   },
   "file_extension": ".py",
   "mimetype": "text/x-python",
   "name": "python",
   "nbconvert_exporter": "python",
   "pygments_lexer": "ipython3",
   "version": "3.7.11"
  }
 },
 "nbformat": 4,
 "nbformat_minor": 1
}
