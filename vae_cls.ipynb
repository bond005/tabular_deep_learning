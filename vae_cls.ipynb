{
 "cells": [
  {
   "cell_type": "code",
   "execution_count": 1,
   "metadata": {
    "id": "-XY9sNjKSiOL"
   },
   "outputs": [],
   "source": [
    "import gc\n",
    "import os\n",
    "import random\n",
    "from typing import List, Tuple"
   ]
  },
  {
   "cell_type": "code",
   "execution_count": 2,
   "metadata": {
    "id": "Ik_m85IV8RQA"
   },
   "outputs": [],
   "source": [
    "os.environ['TF_CPP_MIN_LOG_LEVEL'] = '2'"
   ]
  },
  {
   "cell_type": "code",
   "execution_count": 3,
   "metadata": {
    "id": "xmdyl8EYRRUJ"
   },
   "outputs": [],
   "source": [
    "import matplotlib.pyplot as plt\n",
    "import numpy as np\n",
    "from sklearn.compose import ColumnTransformer\n",
    "from sklearn.datasets import fetch_covtype\n",
    "from sklearn.decomposition import PCA\n",
    "from sklearn.ensemble import RandomForestClassifier\n",
    "from sklearn.feature_selection import VarianceThreshold\n",
    "from sklearn.impute import SimpleImputer\n",
    "from sklearn.metrics import classification_report\n",
    "from sklearn.model_selection import train_test_split\n",
    "from sklearn.pipeline import Pipeline\n",
    "from sklearn.preprocessing import StandardScaler, MinMaxScaler\n",
    "from sklearn.preprocessing import Binarizer, KBinsDiscretizer\n",
    "from tqdm.notebook import tqdm"
   ]
  },
  {
   "cell_type": "code",
   "execution_count": 4,
   "metadata": {
    "id": "SuVsTybzxhj0"
   },
   "outputs": [],
   "source": [
    "import tensorflow as tf\n",
    "import tensorflow_addons as tfa\n",
    "import tensorflow_probability as tfp"
   ]
  },
  {
   "cell_type": "code",
   "execution_count": 5,
   "metadata": {
    "id": "fy9Vu2fiQ3VN"
   },
   "outputs": [],
   "source": [
    "def build_preprocessor(X: np.ndarray, colnames: List[str]) -> Tuple[Pipeline, List[str], \\\n",
    "                                                                    List[int]]:\n",
    "    X_ = Pipeline(steps=[\n",
    "        (\n",
    "            'imputer', SimpleImputer(\n",
    "                missing_values=np.nan, strategy='constant',\n",
    "                fill_value=-1.0\n",
    "            )\n",
    "        ),\n",
    "        (\n",
    "            'scaler',\n",
    "            MinMaxScaler()\n",
    "        )\n",
    "    ]).fit_transform(X)\n",
    "    X_ = np.rint(X_ * 100000.0).astype(np.int32)\n",
    "    binary_features = dict()\n",
    "    categorical_features = dict()\n",
    "    removed_features = []\n",
    "    for col_idx in range(X.shape[1]):\n",
    "        values = set(X_[:, col_idx].tolist())\n",
    "        print(f'Column {col_idx} \"{colnames[col_idx]}\" has ' \\\n",
    "              f'{len(values)} unique values.')\n",
    "        if len(values) > 1:\n",
    "            if len(values) < 3:\n",
    "                binary_features[col_idx] = np.min(X[:, col_idx])\n",
    "            else:\n",
    "                categorical_features[col_idx] = len(values)\n",
    "        else:\n",
    "            removed_features.append(col_idx)\n",
    "        del values\n",
    "    del X_\n",
    "    all_features = set(range(X.shape[1]))\n",
    "    useful_features = sorted(list(all_features - set(removed_features)))\n",
    "    if len(useful_features) == 0:\n",
    "        raise ValueError('Training inputs are bad. All features are removed.')\n",
    "    print(f'There are {X.shape[1]} features.')\n",
    "    if len(removed_features) > 0:\n",
    "        print(f'These features will be removed: ' \\\n",
    "              f'{[colnames[col_idx] for col_idx in removed_features]}.')\n",
    "    transformers = []\n",
    "    if (len(categorical_features) > 0) and (len(binary_features) > 0):\n",
    "        print(f'There are {len(categorical_features)} categorical ' \\\n",
    "              f'features and {len(binary_features)} binary features.')\n",
    "    elif len(categorical_features) > 0:\n",
    "        print(f'There are {len(categorical_features)} categorical features.')\n",
    "    else:\n",
    "        print(f'There are {len(binary_features)} binary features.')\n",
    "    source_features = []\n",
    "    for col_idx in categorical_features:\n",
    "        n_unique_values = categorical_features[col_idx]\n",
    "        transformers.append(\n",
    "            (\n",
    "                colnames[col_idx],\n",
    "                KBinsDiscretizer(\n",
    "                    n_bins=min(max(n_unique_values // 3, 3), 256),\n",
    "                    encode='ordinal',\n",
    "                    strategy=('quantile' if n_unique_values > 50 else 'kmeans')\n",
    "                ),\n",
    "                (col_idx,)\n",
    "            )\n",
    "        )\n",
    "        source_features.append(colnames[col_idx])\n",
    "    for col_idx in binary_features:\n",
    "        transformers.append(\n",
    "            (\n",
    "                colnames[col_idx],\n",
    "                Binarizer(threshold=0.0),\n",
    "                (col_idx,)\n",
    "            )\n",
    "        )\n",
    "        source_features.append(colnames[col_idx])\n",
    "    preprocessor = Pipeline(steps=[\n",
    "        (\n",
    "            'imputer', SimpleImputer(\n",
    "                missing_values=np.nan, strategy='constant',\n",
    "                fill_value=-1.0\n",
    "            )\n",
    "        ),\n",
    "        (\n",
    "            'minmax_scaler',\n",
    "            MinMaxScaler()\n",
    "        ),\n",
    "        (\n",
    "            'composite_transformer', ColumnTransformer(\n",
    "                transformers=transformers,\n",
    "                sparse_threshold=0.0,\n",
    "                n_jobs=1\n",
    "            )\n",
    "        ),\n",
    "        (\n",
    "            'selector',\n",
    "            VarianceThreshold()\n",
    "        )\n",
    "    ])\n",
    "    preprocessor.fit(X)\n",
    "    mask = preprocessor.named_steps['selector'].get_support(indices=False)\n",
    "    assert len(mask) == len(source_features)\n",
    "    selected_features = list(map(\n",
    "        lambda idx2: source_features[idx2],\n",
    "        filter(lambda idx1: mask[idx1], range(len(mask)))\n",
    "    ))\n",
    "    X_trans = preprocessor.transform(X)\n",
    "    assert X_trans.shape[1] == len(selected_features)\n",
    "    unique_values_list = []\n",
    "    for ft_idx in range(X_trans.shape[1]):\n",
    "        unique_values = set(map(lambda it: int(it), X_trans[:, ft_idx].tolist()))\n",
    "        n_unique_values = len(unique_values)\n",
    "        assert n_unique_values > 1\n",
    "        unique_values_list.append(n_unique_values)\n",
    "    return preprocessor, selected_features, unique_values_list"
   ]
  },
  {
   "cell_type": "code",
   "execution_count": 6,
   "metadata": {
    "id": "8BZI96xER4Rj"
   },
   "outputs": [],
   "source": [
    "def build_normalizer(X: np.ndarray) -> Pipeline:\n",
    "    normalizer = Pipeline(steps=[\n",
    "        (\n",
    "            'imputer',\n",
    "            SimpleImputer(missing_values=np.nan, strategy='mean')\n",
    "        ),\n",
    "        (\n",
    "            'standard_scaler',\n",
    "            StandardScaler(with_mean=True, with_std=True)\n",
    "        ),\n",
    "        (\n",
    "            'pca',\n",
    "            PCA(random_state=42)\n",
    "        )\n",
    "    ])\n",
    "    return normalizer.fit(X)"
   ]
  },
  {
   "cell_type": "code",
   "execution_count": 7,
   "metadata": {
    "id": "9yTdSjxYT6B1"
   },
   "outputs": [],
   "source": [
    "def build_neural_network(features: List[int], n_classes: int,\n",
    "                         n_latent: int, n_hidden: int, depth: int,\n",
    "                         dropout_rate: float,\n",
    "                         nn_name: str) -> Tuple[tf.keras.Model, tf.keras.Model, \\\n",
    "                                                tf.keras.Model]:\n",
    "    if n_hidden < 1:\n",
    "        err_msg = f'The hidde layer size = {n_hidden} is too small!'\n",
    "    binary_ft_indices = set()\n",
    "    for ft_idx, ft_size in enumerate(features):\n",
    "        if ft_size < 2:\n",
    "            err_msg = f'Feature {ft_idx} unique values quanity = {ft_size} is too small!'\n",
    "            raise ValueError(err_msg)\n",
    "        if ft_size == 2:\n",
    "            binary_ft_indices.add(ft_idx)\n",
    "    if (len(binary_ft_indices) > 0) and (len(binary_ft_indices) < len(features)):\n",
    "        info_msg = f'There are {len(binary_ft_indices)} binary features and ' \\\n",
    "                   f'{len(features) - len(binary_ft_indices)} categorical features.'\n",
    "    elif len(binary_ft_indices) > 0:\n",
    "        info_msg = f'There are {len(binary_ft_indices)} binary features.'\n",
    "    else:\n",
    "        info_msg = f'There are {len(features)} categorical features.'\n",
    "    print(info_msg)\n",
    "    feature_vector = tf.keras.layers.Input(\n",
    "        shape=(len(features),), dtype=tf.float32,\n",
    "        name=f'{nn_name}_feature_vector'\n",
    "    )\n",
    "    encoder_layer = tf.keras.layers.AlphaDropout(\n",
    "        rate=dropout_rate,\n",
    "        seed=random.randint(0, 2147483647),\n",
    "        name=f'{nn_name}_enc_dropout1'\n",
    "    )(feature_vector)\n",
    "    try:\n",
    "        kernel_initializer = tf.keras.initializers.LecunNormal(\n",
    "            seed=random.randint(0, 2147483647)\n",
    "        )\n",
    "    except:\n",
    "        kernel_initializer = tf.compat.v1.keras.initializers.lecun_normal(\n",
    "            seed=random.randint(0, 2147483647)\n",
    "        )\n",
    "    encoder_layer = tf.keras.layers.Dense(\n",
    "        units=n_hidden,\n",
    "        activation='selu',\n",
    "        kernel_initializer=kernel_initializer,\n",
    "        bias_initializer='zeros',\n",
    "        name=f'{nn_name}_enc_dense1'\n",
    "    )(encoder_layer)\n",
    "    for layer_idx in range(1, depth):\n",
    "        encoder_layer = tf.keras.layers.AlphaDropout(\n",
    "            rate=dropout_rate,\n",
    "            seed=random.randint(0, 2147483647),\n",
    "            name=f'{nn_name}_enc_dropout{layer_idx + 1}'\n",
    "        )(encoder_layer)\n",
    "        try:\n",
    "            kernel_initializer = tf.keras.initializers.LecunNormal(\n",
    "                seed=random.randint(0, 2147483647)\n",
    "            )\n",
    "        except:\n",
    "            kernel_initializer = tf.compat.v1.keras.initializers.lecun_normal(\n",
    "                seed=random.randint(0, 2147483647)\n",
    "            )\n",
    "        encoder_layer = tf.keras.layers.Dense(\n",
    "            units=n_hidden,\n",
    "            activation='selu',\n",
    "            kernel_initializer=kernel_initializer,\n",
    "            bias_initializer='zeros',\n",
    "            name=f'{nn_name}_enc_dense{layer_idx + 1}'\n",
    "        )(encoder_layer)\n",
    "    prior = tfp.distributions.Independent(\n",
    "        distribution=tfp.distributions.Normal(\n",
    "            loc=tf.zeros(n_latent),\n",
    "            scale=1\n",
    "        ),\n",
    "        reinterpreted_batch_ndims=1\n",
    "    )\n",
    "    try:\n",
    "        kernel_initializer = tf.keras.initializers.LecunNormal(\n",
    "            seed=random.randint(0, 2147483647)\n",
    "        )\n",
    "    except:\n",
    "        kernel_initializer = tf.compat.v1.keras.initializers.lecun_normal(\n",
    "            seed=random.randint(0, 2147483647)\n",
    "        )\n",
    "    latent_layer = tf.keras.layers.Dense(\n",
    "        units=tfp.layers.IndependentNormal.params_size(n_latent),\n",
    "        activation=None,\n",
    "        kernel_initializer=kernel_initializer,\n",
    "        bias_initializer='zeros',\n",
    "        name=f'{nn_name}_latent'\n",
    "    )(encoder_layer)\n",
    "    z = tfp.layers.IndependentNormal(\n",
    "        event_shape=n_latent,\n",
    "        convert_to_tensor_fn=tfp.distributions.Distribution.sample,\n",
    "        activity_regularizer=tfp.layers.KLDivergenceRegularizer(\n",
    "            distribution_b=prior,\n",
    "            weight=1e-3\n",
    "        ),\n",
    "        name=f'{nn_name}_z'\n",
    "    )(latent_layer)\n",
    "    classifier_input = tf.keras.layers.Input(\n",
    "        shape=(n_latent,), dtype=tf.float32,\n",
    "        name=f'{nn_name}_feature_vector'\n",
    "    )\n",
    "    try:\n",
    "        kernel_initializer = tf.keras.initializers.LecunNormal(\n",
    "            seed=random.randint(0, 2147483647)\n",
    "        )\n",
    "    except:\n",
    "        kernel_initializer = tf.compat.v1.keras.initializers.lecun_normal(\n",
    "            seed=random.randint(0, 2147483647)\n",
    "        )\n",
    "    hidden_layer = tf.keras.layers.Dense(\n",
    "        units=n_hidden,\n",
    "        activation='selu',\n",
    "        kernel_initializer=kernel_initializer,\n",
    "        bias_initializer='zeros',\n",
    "        name=f'{nn_name}_cls_hidden'\n",
    "    )(classifier_input)\n",
    "    hidden_layer = tf.keras.layers.AlphaDropout(\n",
    "        rate=dropout_rate,\n",
    "        seed=random.randint(0, 2147483647),\n",
    "        name=f'{nn_name}_cls_dropout'\n",
    "    )(hidden_layer)\n",
    "    cls_layer = tf.keras.layers.Dense(\n",
    "        units=n_classes,\n",
    "        activation='softmax',\n",
    "        kernel_initializer=kernel_initializer,\n",
    "        bias_initializer='zeros',\n",
    "        name=f'{nn_name}_cls_output'\n",
    "    )(hidden_layer)\n",
    "    cls_name = f'{nn_name}_cls'\n",
    "    cls_model = tf.keras.Model(\n",
    "        inputs=classifier_input,\n",
    "        outputs=cls_layer,\n",
    "        name=cls_name\n",
    "    )\n",
    "    cls_model.build(input_shape=[None, n_latent])\n",
    "    decoder_layer = tf.keras.layers.AlphaDropout(\n",
    "        rate=dropout_rate,\n",
    "        seed=random.randint(0, 2147483647),\n",
    "        name=f'{nn_name}_dec_dropout1'\n",
    "    )(z)\n",
    "    try:\n",
    "        kernel_initializer = tf.keras.initializers.LecunNormal(\n",
    "            seed=random.randint(0, 2147483647)\n",
    "        )\n",
    "    except:\n",
    "        kernel_initializer = tf.compat.v1.keras.initializers.lecun_normal(\n",
    "            seed=random.randint(0, 2147483647)\n",
    "        )\n",
    "    decoder_layer = tf.keras.layers.Dense(\n",
    "        units=n_hidden,\n",
    "        activation='selu',\n",
    "        kernel_initializer=kernel_initializer,\n",
    "        bias_initializer='zeros',\n",
    "        name=f'{nn_name}_dec_dense1'\n",
    "    )(decoder_layer)\n",
    "    for layer_idx in range(1, depth):\n",
    "        decoder_layer = tf.keras.layers.AlphaDropout(\n",
    "            rate=dropout_rate,\n",
    "            seed=random.randint(0, 2147483647),\n",
    "            name=f'{nn_name}_dec_dropout{layer_idx + 1}'\n",
    "        )(decoder_layer)\n",
    "        try:\n",
    "            kernel_initializer = tf.keras.initializers.LecunNormal(\n",
    "                seed=random.randint(0, 2147483647)\n",
    "            )\n",
    "        except:\n",
    "            kernel_initializer = tf.compat.v1.keras.initializers.lecun_normal(\n",
    "                seed=random.randint(0, 2147483647)\n",
    "            )\n",
    "        decoder_layer = tf.keras.layers.Dense(\n",
    "            units=n_hidden,\n",
    "            activation='selu',\n",
    "            kernel_initializer=kernel_initializer,\n",
    "            bias_initializer='zeros',\n",
    "            name=f'{nn_name}_dec_dense{layer_idx + 1}'\n",
    "        )(decoder_layer)\n",
    "    reconstruction_layers = []\n",
    "    reconstruction_names = []\n",
    "    if len(binary_ft_indices) > 0:\n",
    "        try:\n",
    "            kernel_initializer = tf.keras.initializers.LecunNormal(\n",
    "                seed=random.randint(0, 2147483647)\n",
    "            )\n",
    "        except:\n",
    "            kernel_initializer = tf.compat.v1.keras.initializers.lecun_normal(\n",
    "                seed=random.randint(0, 2147483647)\n",
    "            )\n",
    "        new_reconstruction_layer = tf.keras.layers.Dense(\n",
    "            units=len(binary_ft_indices),\n",
    "            activation=None,\n",
    "            kernel_initializer=kernel_initializer,\n",
    "            bias_initializer='zeros',\n",
    "            name=f'{nn_name}_rec_binary'\n",
    "        )(decoder_layer)\n",
    "        new_reconstruction_name = f'{nn_name}_bernoulli'\n",
    "        new_reconstruction_layer = tfp.layers.IndependentBernoulli(\n",
    "            event_shape=len(binary_ft_indices),\n",
    "            convert_to_tensor_fn=tfp.distributions.Bernoulli.logits,\n",
    "            name=new_reconstruction_name\n",
    "        )(new_reconstruction_layer)\n",
    "        reconstruction_layers.append(new_reconstruction_layer)\n",
    "        reconstruction_names.append(new_reconstruction_name)\n",
    "    counter = 1\n",
    "    for ft_idx, ft_size in enumerate(features):\n",
    "        if ft_size > 2:\n",
    "            try:\n",
    "                kernel_initializer = tf.keras.initializers.LecunNormal(\n",
    "                    seed=random.randint(0, 2147483647)\n",
    "                )\n",
    "            except:\n",
    "                kernel_initializer = tf.compat.v1.keras.initializers.lecun_normal(\n",
    "                    seed=random.randint(0, 2147483647)\n",
    "                )\n",
    "            new_reconstruction_layer = tf.keras.layers.Dense(\n",
    "                units=ft_size,\n",
    "                activation=None,\n",
    "                kernel_initializer=kernel_initializer,\n",
    "                bias_initializer='zeros',\n",
    "                name=f'{nn_name}_rec_cat{counter}'\n",
    "            )(decoder_layer)\n",
    "            new_reconstruction_name = f'{nn_name}_categorical{counter}'\n",
    "            new_reconstruction_layer = tfp.layers.OneHotCategorical(\n",
    "                event_size=ft_size,\n",
    "                convert_to_tensor_fn=tfp.distributions.OneHotCategorical.logits,\n",
    "                name=new_reconstruction_name\n",
    "            )(new_reconstruction_layer)\n",
    "            reconstruction_layers.append(new_reconstruction_layer)\n",
    "            reconstruction_names.append(new_reconstruction_name)\n",
    "            counter += 1\n",
    "    encoder_model = tf.keras.Model(\n",
    "        inputs=feature_vector,\n",
    "        outputs=z,\n",
    "        name=f'{nn_name}_enc'\n",
    "    )\n",
    "    united_model = tf.keras.Model(\n",
    "        inputs=feature_vector,\n",
    "        outputs=[cls_model(z)] + reconstruction_layers,\n",
    "        name=f'{nn_name}_vae'\n",
    "    )\n",
    "    encoder_model.build(input_shape=[None, len(features)])\n",
    "    metrics = {cls_name: [tf.keras.metrics.CategoricalAccuracy()]}\n",
    "    negloglik = lambda y, rv_y: -rv_y.log_prob(y)\n",
    "    losses = {\n",
    "        cls_name: tf.keras.losses.CategoricalCrossentropy(label_smoothing=0.05)\n",
    "    }\n",
    "    loss_weights = {\n",
    "        cls_name: 1.0\n",
    "    }\n",
    "    for cur_name in reconstruction_names:\n",
    "        losses[cur_name] = negloglik\n",
    "        loss_weights[cur_name] = 0.5\n",
    "    radam = tfa.optimizers.RectifiedAdam(learning_rate=1e-4)\n",
    "    ranger = tfa.optimizers.Lookahead(radam, sync_period=6, slow_step_size=0.5)\n",
    "    united_model.compile(optimizer=ranger, loss=losses, loss_weights=loss_weights,\n",
    "                         metrics=metrics)\n",
    "    return united_model, encoder_model, cls_model"
   ]
  },
  {
   "cell_type": "code",
   "execution_count": 8,
   "metadata": {
    "id": "T9Vd3cA0pCX7"
   },
   "outputs": [],
   "source": [
    "def calculate_projections(X: np.ndarray, encoder: tf.keras.Model,\n",
    "                          n_samples: int, batch_size: int) -> List[np.ndarray]:\n",
    "    n_batches = int(np.ceil(X.shape[0] / float(batch_size)))\n",
    "    projections = [[] for _ in range(n_samples)]\n",
    "    for batch_idx in tqdm(list(range(n_batches))):\n",
    "        batch_start = batch_idx * batch_size\n",
    "        batch_end = min(X.shape[0], batch_start + batch_size)\n",
    "        distr = encoder(X[batch_start:batch_end])\n",
    "        assert isinstance(distr, tfp.distributions.Distribution)\n",
    "        y_inst = distr.sample()\n",
    "        if not isinstance(y_inst, np.ndarray):\n",
    "            y_inst = y_inst.numpy()\n",
    "        assert len(y_inst.shape) == 2\n",
    "        projections[0].append(y_inst)\n",
    "        del y_inst\n",
    "        for prj_idx in range(1, n_samples):\n",
    "            y_inst = distr.sample()\n",
    "            if not isinstance(y_inst, np.ndarray):\n",
    "                y_inst = y_inst.numpy()\n",
    "            assert len(y_inst.shape) == 2\n",
    "            projections[prj_idx].append(y_inst)\n",
    "            del y_inst\n",
    "        del distr\n",
    "    return [np.vstack(cur) for cur in projections]"
   ]
  },
  {
   "cell_type": "code",
   "execution_count": 9,
   "metadata": {
    "id": "Pght_Ba0oy52"
   },
   "outputs": [],
   "source": [
    "def predict_proba(X: np.ndarray, encoder: tf.keras.Model, classifier: tf.keras.Model,\n",
    "                  n_samples: int, batch_size: int) -> np.ndarray:\n",
    "    projections = calculate_projections(X, encoder, n_samples, batch_size)\n",
    "    y = classifier.predict(projections[0], batch_size=batch_size)\n",
    "    assert len(y.shape) == 2\n",
    "    for prj_idx in range(1, n_samples):\n",
    "        y += classifier.predict(projections[prj_idx], batch_size=batch_size)\n",
    "    proba = y.astype(np.float64) / float(n_samples)\n",
    "    return proba / np.sum(proba, axis=1, keepdims=True)"
   ]
  },
  {
   "cell_type": "code",
   "execution_count": 10,
   "metadata": {
    "id": "QbRSZHmWtj_t"
   },
   "outputs": [],
   "source": [
    "class TrainsetGenerator(tf.keras.utils.Sequence):\n",
    "    def __init__(self, x_src: np.ndarray, x_norm: np.ndarray, y: np.ndarray,\n",
    "                 n_classes: int, batch_size: int, features: List[int]):\n",
    "        self.x_src, self.x_norm, self.y = x_src, x_norm, y\n",
    "        self.batch_size = batch_size\n",
    "        self.features = features\n",
    "        self.n_classes = n_classes\n",
    "        self.indices_ = np.array(list(range(self.x_src.shape[0])), dtype=np.int32)\n",
    "        self.binary_feature_list_ = []\n",
    "        self.cat_feature_list_ = []\n",
    "        for ft_idx, ft_size in enumerate(self.features):\n",
    "            if ft_size < 2:\n",
    "                err_msg = f'Feature {ft_idx} unique values quanity = {ft_size} ' \\\n",
    "                          f'is too small!'\n",
    "                raise ValueError(err_msg)\n",
    "            if ft_size == 2:\n",
    "                self.binary_feature_list_.append(ft_idx)\n",
    "            else:\n",
    "                self.cat_feature_list_.append(ft_idx)\n",
    "        self.class_distr_ = dict()\n",
    "        for sample_idx, class_idx in enumerate(y.tolist()):\n",
    "            if class_idx in self.class_distr_:\n",
    "                self.class_distr_[class_idx].append(sample_idx)\n",
    "            else:\n",
    "                self.class_distr_[class_idx] = [sample_idx]\n",
    "        for class_idx in self.class_distr_:\n",
    "            self.class_distr_[class_idx] = np.array(self.class_distr_[class_idx],\n",
    "                                                    dtype=np.int32)\n",
    "        assert len(self.x_src.shape) == 2\n",
    "        assert self.x_src.shape[0] > self.batch_size\n",
    "        assert self.x_norm.shape == self.x_src.shape\n",
    "        assert len(self.y.shape) == 1\n",
    "        assert self.y.shape[0] == self.x_src.shape[0]\n",
    "        assert self.x_src.shape[1] == len(self.features)\n",
    "    \n",
    "    def __len__(self):\n",
    "        return int(np.ceil(self.x_src.shape[0] / float(self.batch_size)))\n",
    "    \n",
    "    def __getitem__(self, batch_idx: int):\n",
    "        batch_indices = []\n",
    "        selected_classes = sorted(list(self.class_distr_.keys()))\n",
    "        if self.batch_size < len(selected_classes):\n",
    "            selected_classes = random.sample(selected_classes, self.batch_size)\n",
    "        for counter, class_idx in enumerate(selected_classes):\n",
    "            n = int(round(\n",
    "                (self.batch_size - len(batch_indices)) / \n",
    "                (len(selected_classes) - counter)\n",
    "            ))\n",
    "            batch_indices += np.random.choice(\n",
    "                a=self.class_distr_[class_idx],\n",
    "                size=n\n",
    "            ).tolist()\n",
    "        X_batch = np.empty((len(batch_indices), len(self.features)), dtype=np.float32)\n",
    "        y_batch = [\n",
    "            np.zeros((len(batch_indices), self.n_classes), dtype=np.float32),\n",
    "        ]\n",
    "        if len(self.binary_feature_list_) > 0:\n",
    "            y_batch.append(\n",
    "                np.zeros(\n",
    "                    (len(batch_indices), len(self.binary_feature_list_)),\n",
    "                    dtype=np.float32\n",
    "                )\n",
    "            )\n",
    "        for ft_idx in self.cat_feature_list_:\n",
    "            y_batch.append(\n",
    "                np.zeros(\n",
    "                    (len(batch_indices), self.features[ft_idx]),\n",
    "                    dtype=np.float32\n",
    "                )\n",
    "            )\n",
    "        for idx, sample_idx in enumerate(batch_indices):\n",
    "            X_batch[idx] = self.x_norm[sample_idx]\n",
    "            class_idx = self.y[sample_idx]\n",
    "            y_batch[0][idx, class_idx] = 1.0\n",
    "            counter = 1\n",
    "            if len(self.binary_feature_list_) > 0:\n",
    "                for col_idx, ft_idx in enumerate(self.binary_feature_list_):\n",
    "                    class_idx = int(self.x_src[sample_idx, ft_idx])\n",
    "                    if class_idx > 0:\n",
    "                        y_batch[1][idx, col_idx] = 1.0\n",
    "                counter += 1\n",
    "            for ft_idx in self.cat_feature_list_:\n",
    "                class_idx = int(self.x_src[sample_idx, ft_idx])\n",
    "                y_batch[counter][idx, class_idx] = 1.0\n",
    "                counter += 1\n",
    "        return X_batch, y_batch"
   ]
  },
  {
   "cell_type": "code",
   "execution_count": 11,
   "metadata": {
    "id": "Ct0xUl_IwHgF"
   },
   "outputs": [],
   "source": [
    "class ValidsetGenerator(tf.keras.utils.Sequence):\n",
    "    def __init__(self, x_src: np.ndarray, x_norm: np.ndarray, y: np.ndarray,\n",
    "                 n_classes: int, batch_size: int, features: List[int]):\n",
    "        self.x_src, self.x_norm, self.y = x_src, x_norm, y\n",
    "        self.batch_size = batch_size\n",
    "        self.features = features\n",
    "        self.n_classes = n_classes\n",
    "        self.indices_ = np.array(list(range(self.x_src.shape[0])), dtype=np.int32)\n",
    "        self.binary_feature_list_ = []\n",
    "        self.cat_feature_list_ = []\n",
    "        for ft_idx, ft_size in enumerate(self.features):\n",
    "            if ft_size < 2:\n",
    "                err_msg = f'Feature {ft_idx} unique values quanity = {ft_size} ' \\\n",
    "                          f'is too small!'\n",
    "                raise ValueError(err_msg)\n",
    "            if ft_size == 2:\n",
    "                self.binary_feature_list_.append(ft_idx)\n",
    "            else:\n",
    "                self.cat_feature_list_.append(ft_idx)\n",
    "        assert len(self.x_src.shape) == 2\n",
    "        assert self.x_src.shape[0] > self.batch_size\n",
    "        assert self.x_norm.shape == self.x_src.shape\n",
    "        assert len(self.y.shape) == 1\n",
    "        assert self.y.shape[0] == self.x_src.shape[0]\n",
    "        assert self.x_src.shape[1] == len(self.features)\n",
    "    \n",
    "    def __len__(self):\n",
    "        return int(np.ceil(self.x_src.shape[0] / float(self.batch_size)))\n",
    "    \n",
    "    def __getitem__(self, batch_idx: int):\n",
    "        batch_start = batch_idx * self.batch_size\n",
    "        batch_end = min(batch_start + self.batch_size, self.x_src.shape[0])\n",
    "        batch_indices = list(range(batch_start, batch_end))\n",
    "        X_batch = np.empty((len(batch_indices), len(self.features)), dtype=np.float32)\n",
    "        y_batch = [\n",
    "            np.zeros((len(batch_indices), self.n_classes), dtype=np.float32),\n",
    "        ]\n",
    "        if len(self.binary_feature_list_) > 0:\n",
    "            y_batch.append(\n",
    "                np.zeros(\n",
    "                    (len(batch_indices), len(self.binary_feature_list_)),\n",
    "                    dtype=np.float32\n",
    "                )\n",
    "            )\n",
    "        for ft_idx in self.cat_feature_list_:\n",
    "            y_batch.append(\n",
    "                np.zeros(\n",
    "                    (len(batch_indices), self.features[ft_idx]),\n",
    "                    dtype=np.float32\n",
    "                )\n",
    "            )\n",
    "        for idx, sample_idx in enumerate(batch_indices):\n",
    "            X_batch[idx] = self.x_norm[sample_idx]\n",
    "            class_idx = self.y[sample_idx]\n",
    "            y_batch[0][idx, class_idx] = 1.0\n",
    "            counter = 1\n",
    "            if len(self.binary_feature_list_) > 0:\n",
    "                for col_idx, ft_idx in enumerate(self.binary_feature_list_):\n",
    "                    class_idx = int(self.x_src[sample_idx, ft_idx])\n",
    "                    if class_idx > 0:\n",
    "                        y_batch[1][idx, col_idx] = 1.0\n",
    "                counter += 1\n",
    "            for ft_idx in self.cat_feature_list_:\n",
    "                class_idx = int(self.x_src[sample_idx, ft_idx])\n",
    "                y_batch[counter][idx, class_idx] = 1.0\n",
    "                counter += 1\n",
    "        return X_batch, y_batch"
   ]
  },
  {
   "cell_type": "code",
   "execution_count": 12,
   "metadata": {
    "id": "XySEOAZv6PA3"
   },
   "outputs": [],
   "source": [
    "def show_training_process(history: tf.keras.callbacks.History, metric_name: str,\n",
    "                          figure_id: int=1, comment: str=''):\n",
    "    val_metric_name = 'val_' + metric_name\n",
    "    if metric_name not in history.history:\n",
    "        err_msg = f'The metric \"{metric_name}\" is not found! Available metrics are: ' \\\n",
    "                  f'{list(history.history.keys())}.'\n",
    "        raise ValueError(err_msg)\n",
    "    plt.figure(figure_id, figsize=(5, 5))\n",
    "    interesting_metric = history.history[metric_name]\n",
    "    plt.plot(list(range(len(interesting_metric))), interesting_metric,\n",
    "             label=f'Training {metric_name}')\n",
    "    if val_metric_name in history.history:\n",
    "        interesting_val_metric = history.history[val_metric_name]\n",
    "        assert len(interesting_metric) == len(interesting_val_metric)\n",
    "        plt.plot(list(range(len(interesting_val_metric))),\n",
    "                 interesting_val_metric,\n",
    "                 label=f'Validation {metric_name}')\n",
    "    plt.xlabel('Epochs')\n",
    "    plt.ylabel(metric_name)\n",
    "    if len(comment) > 0:\n",
    "        plt.title(f'Training process of {comment}')\n",
    "    else:\n",
    "        plt.title('Training process')\n",
    "    plt.legend(loc='best')\n",
    "    plt.show()"
   ]
  },
  {
   "cell_type": "code",
   "execution_count": 13,
   "metadata": {
    "id": "3-HMveIH1kGs"
   },
   "outputs": [],
   "source": [
    "random.seed(42)\n",
    "np.random.seed(42)\n",
    "tf.random.set_seed(42)"
   ]
  },
  {
   "cell_type": "code",
   "execution_count": 14,
   "metadata": {
    "id": "sFy1uxbg33tm"
   },
   "outputs": [],
   "source": [
    "MINIBATCH_SIZE_FOR_TRAINING = 4096\n",
    "MINIBATCH_SIZE_FOR_INFERENCE = 64\n",
    "MAX_TRAINING_EPOCHS = 1000\n",
    "ES_PATIENCE = 10\n",
    "NUMBER_OF_SAMPLES = 10"
   ]
  },
  {
   "cell_type": "code",
   "execution_count": 15,
   "metadata": {
    "colab": {
     "base_uri": "https://localhost:8080/",
     "height": 450
    },
    "id": "Bj8e6qC11X2d",
    "outputId": "c02f6d0d-10f8-40cd-b711-8e007493b13f"
   },
   "outputs": [],
   "source": [
    "dataset = fetch_covtype(return_X_y=False, random_state=42, shuffle=True)"
   ]
  },
  {
   "cell_type": "code",
   "execution_count": 16,
   "metadata": {
    "id": "2yHzxi3_AVrP"
   },
   "outputs": [],
   "source": [
    "classes_dict = dict()\n",
    "for val in dataset.target.tolist():\n",
    "    if val not in classes_dict:\n",
    "        classes_dict[val] = len(classes_dict)"
   ]
  },
  {
   "cell_type": "code",
   "execution_count": 17,
   "metadata": {
    "id": "Wd2kWW202JXe"
   },
   "outputs": [
    {
     "name": "stdout",
     "output_type": "stream",
     "text": [
      "X.shape = (581012, 54)\n",
      "y.shape = (581012,)\n",
      "Number of classes is 7.\n"
     ]
    }
   ],
   "source": [
    "print(f'X.shape = {dataset.data.shape}')\n",
    "print(f'y.shape = {dataset.target.shape}')\n",
    "print(f'Number of classes is {len(classes_dict)}.')"
   ]
  },
  {
   "cell_type": "code",
   "execution_count": 18,
   "metadata": {
    "id": "_zquwHNA2TNm"
   },
   "outputs": [],
   "source": [
    "X_train, X_test, y_train, y_test = train_test_split(\n",
    "    dataset.data,\n",
    "    np.array([classes_dict[val] for val in dataset.target.tolist()], dtype=np.int32),\n",
    "    test_size=0.05, stratify=dataset.target, random_state=42\n",
    ")"
   ]
  },
  {
   "cell_type": "code",
   "execution_count": 19,
   "metadata": {
    "id": "CGNgEIwD26fc"
   },
   "outputs": [],
   "source": [
    "X_train, X_valid, y_train, y_valid = train_test_split(\n",
    "    X_train,\n",
    "    y_train,\n",
    "    test_size=0.05, stratify=y_train, random_state=42\n",
    ")"
   ]
  },
  {
   "cell_type": "code",
   "execution_count": 20,
   "metadata": {
    "id": "e9k-dk272i3F"
   },
   "outputs": [
    {
     "name": "stdout",
     "output_type": "stream",
     "text": [
      "X_train.shape = (524362, 54)\n",
      "y_train.shape = (524362,)\n",
      "Number of classes is 7.\n"
     ]
    }
   ],
   "source": [
    "print(f'X_train.shape = {X_train.shape}')\n",
    "print(f'y_train.shape = {y_train.shape}')\n",
    "number_of_classes_for_training = len(set(map(lambda it: int(it), y_train.tolist())))\n",
    "print(f'Number of classes is {number_of_classes_for_training}.')"
   ]
  },
  {
   "cell_type": "code",
   "execution_count": 21,
   "metadata": {
    "id": "ueqb35hi2zJ0"
   },
   "outputs": [
    {
     "name": "stdout",
     "output_type": "stream",
     "text": [
      "X_valid.shape = (27599, 54)\n",
      "y_valid.shape = (27599,)\n",
      "Number of classes is 7.\n"
     ]
    }
   ],
   "source": [
    "print(f'X_valid.shape = {X_valid.shape}')\n",
    "print(f'y_valid.shape = {y_valid.shape}')\n",
    "number_of_classes_for_validation = len(set(map(lambda it: int(it), y_valid.tolist())))\n",
    "print(f'Number of classes is {number_of_classes_for_validation}.')"
   ]
  },
  {
   "cell_type": "code",
   "execution_count": 22,
   "metadata": {
    "id": "Qxq0visG2uqA"
   },
   "outputs": [
    {
     "name": "stdout",
     "output_type": "stream",
     "text": [
      "X_test.shape = (29051, 54)\n",
      "y_test.shape = (29051,)\n",
      "Number of classes is 7.\n"
     ]
    }
   ],
   "source": [
    "print(f'X_test.shape = {X_test.shape}')\n",
    "print(f'y_test.shape = {y_test.shape}')\n",
    "number_of_classes_for_testing = len(set(map(lambda it: int(it), y_test.tolist())))\n",
    "print(f'Number of classes is {number_of_classes_for_testing}.')"
   ]
  },
  {
   "cell_type": "code",
   "execution_count": 23,
   "metadata": {
    "id": "TlZalyDU6n2Z"
   },
   "outputs": [
    {
     "name": "stderr",
     "output_type": "stream",
     "text": [
      "[Parallel(n_jobs=-1)]: Using backend ThreadingBackend with 16 concurrent workers.\n",
      "[Parallel(n_jobs=-1)]: Done  18 tasks      | elapsed:    4.5s\n",
      "[Parallel(n_jobs=-1)]: Done 100 out of 100 | elapsed:   14.5s finished\n"
     ]
    },
    {
     "data": {
      "text/plain": [
       "RandomForestClassifier(class_weight='balanced_subsample', max_depth=5,\n",
       "                       n_jobs=-1, random_state=42, verbose=True)"
      ]
     },
     "execution_count": 23,
     "metadata": {},
     "output_type": "execute_result"
    }
   ],
   "source": [
    "baseline = RandomForestClassifier(n_estimators=100, max_depth=5, random_state=42,\n",
    "                                  class_weight='balanced_subsample',\n",
    "                                  verbose=True, n_jobs=-1)\n",
    "baseline.fit(X_train, y_train)"
   ]
  },
  {
   "cell_type": "code",
   "execution_count": 24,
   "metadata": {
    "id": "DewcTZgA7BVB"
   },
   "outputs": [
    {
     "name": "stderr",
     "output_type": "stream",
     "text": [
      "[Parallel(n_jobs=16)]: Using backend ThreadingBackend with 16 concurrent workers.\n",
      "[Parallel(n_jobs=16)]: Done  18 tasks      | elapsed:    0.0s\n",
      "[Parallel(n_jobs=16)]: Done 100 out of 100 | elapsed:    0.0s finished\n"
     ]
    },
    {
     "name": "stdout",
     "output_type": "stream",
     "text": [
      "              precision    recall  f1-score   support\n",
      "\n",
      "           0     0.5975    0.6189    0.6080     10063\n",
      "           1     0.8251    0.3638    0.5050     13457\n",
      "           2     0.6856    0.5200    0.5914      1698\n",
      "           3     0.0864    0.8581    0.1570       451\n",
      "           4     0.3525    0.6461    0.4561       825\n",
      "           5     0.2667    0.9292    0.4145       974\n",
      "           6     0.2228    0.9695    0.3623       131\n",
      "\n",
      "    accuracy                         0.5058     27599\n",
      "   macro avg     0.4338    0.7008    0.4421     27599\n",
      "weighted avg     0.6848    0.5058    0.5369     27599\n",
      "\n"
     ]
    }
   ],
   "source": [
    "print(classification_report(y_true=y_valid, y_pred=baseline.predict(X_valid),\n",
    "                            digits=4))"
   ]
  },
  {
   "cell_type": "code",
   "execution_count": 25,
   "metadata": {
    "id": "S_86kMn57JFg"
   },
   "outputs": [
    {
     "name": "stderr",
     "output_type": "stream",
     "text": [
      "[Parallel(n_jobs=16)]: Using backend ThreadingBackend with 16 concurrent workers.\n",
      "[Parallel(n_jobs=16)]: Done  18 tasks      | elapsed:    0.0s\n"
     ]
    },
    {
     "name": "stdout",
     "output_type": "stream",
     "text": [
      "              precision    recall  f1-score   support\n",
      "\n",
      "           0     0.5942    0.6168    0.6053     10592\n",
      "           1     0.8315    0.3634    0.5057     14165\n",
      "           2     0.6692    0.4911    0.5665      1788\n",
      "           3     0.0852    0.8526    0.1550       475\n",
      "           4     0.3431    0.6486    0.4488       868\n",
      "           5     0.2646    0.9162    0.4106      1026\n",
      "           6     0.2188    0.9708    0.3570       137\n",
      "\n",
      "    accuracy                         0.5025     29051\n",
      "   macro avg     0.4295    0.6942    0.4355     29051\n",
      "weighted avg     0.6853    0.5025    0.5343     29051\n",
      "\n"
     ]
    },
    {
     "name": "stderr",
     "output_type": "stream",
     "text": [
      "[Parallel(n_jobs=16)]: Done 100 out of 100 | elapsed:    0.0s finished\n"
     ]
    }
   ],
   "source": [
    "print(classification_report(y_true=y_test, y_pred=baseline.predict(X_test),\n",
    "                            digits=4))"
   ]
  },
  {
   "cell_type": "code",
   "execution_count": 26,
   "metadata": {
    "id": "UFiN0K1v3ApE"
   },
   "outputs": [
    {
     "name": "stdout",
     "output_type": "stream",
     "text": [
      "Column 0 \"Elevation\" has 1968 unique values.\n",
      "Column 1 \"Aspect\" has 361 unique values.\n",
      "Column 2 \"Slope\" has 66 unique values.\n",
      "Column 3 \"Horizontal_Distance_To_Hydrology\" has 550 unique values.\n",
      "Column 4 \"Vertical_Distance_To_Hydrology\" has 696 unique values.\n",
      "Column 5 \"Horizontal_Distance_To_Roadways\" has 5770 unique values.\n",
      "Column 6 \"Hillshade_9am\" has 207 unique values.\n",
      "Column 7 \"Hillshade_Noon\" has 184 unique values.\n",
      "Column 8 \"Hillshade_3pm\" has 255 unique values.\n",
      "Column 9 \"Horizontal_Distance_To_Fire_Points\" has 5813 unique values.\n",
      "Column 10 \"Wilderness_Area_0\" has 2 unique values.\n",
      "Column 11 \"Wilderness_Area_1\" has 2 unique values.\n",
      "Column 12 \"Wilderness_Area_2\" has 2 unique values.\n",
      "Column 13 \"Wilderness_Area_3\" has 2 unique values.\n",
      "Column 14 \"Soil_Type_0\" has 2 unique values.\n",
      "Column 15 \"Soil_Type_1\" has 2 unique values.\n",
      "Column 16 \"Soil_Type_2\" has 2 unique values.\n",
      "Column 17 \"Soil_Type_3\" has 2 unique values.\n",
      "Column 18 \"Soil_Type_4\" has 2 unique values.\n",
      "Column 19 \"Soil_Type_5\" has 2 unique values.\n",
      "Column 20 \"Soil_Type_6\" has 2 unique values.\n",
      "Column 21 \"Soil_Type_7\" has 2 unique values.\n",
      "Column 22 \"Soil_Type_8\" has 2 unique values.\n",
      "Column 23 \"Soil_Type_9\" has 2 unique values.\n",
      "Column 24 \"Soil_Type_10\" has 2 unique values.\n",
      "Column 25 \"Soil_Type_11\" has 2 unique values.\n",
      "Column 26 \"Soil_Type_12\" has 2 unique values.\n",
      "Column 27 \"Soil_Type_13\" has 2 unique values.\n",
      "Column 28 \"Soil_Type_14\" has 2 unique values.\n",
      "Column 29 \"Soil_Type_15\" has 2 unique values.\n",
      "Column 30 \"Soil_Type_16\" has 2 unique values.\n",
      "Column 31 \"Soil_Type_17\" has 2 unique values.\n",
      "Column 32 \"Soil_Type_18\" has 2 unique values.\n",
      "Column 33 \"Soil_Type_19\" has 2 unique values.\n",
      "Column 34 \"Soil_Type_20\" has 2 unique values.\n",
      "Column 35 \"Soil_Type_21\" has 2 unique values.\n",
      "Column 36 \"Soil_Type_22\" has 2 unique values.\n",
      "Column 37 \"Soil_Type_23\" has 2 unique values.\n",
      "Column 38 \"Soil_Type_24\" has 2 unique values.\n",
      "Column 39 \"Soil_Type_25\" has 2 unique values.\n",
      "Column 40 \"Soil_Type_26\" has 2 unique values.\n",
      "Column 41 \"Soil_Type_27\" has 2 unique values.\n",
      "Column 42 \"Soil_Type_28\" has 2 unique values.\n",
      "Column 43 \"Soil_Type_29\" has 2 unique values.\n",
      "Column 44 \"Soil_Type_30\" has 2 unique values.\n",
      "Column 45 \"Soil_Type_31\" has 2 unique values.\n",
      "Column 46 \"Soil_Type_32\" has 2 unique values.\n",
      "Column 47 \"Soil_Type_33\" has 2 unique values.\n",
      "Column 48 \"Soil_Type_34\" has 2 unique values.\n",
      "Column 49 \"Soil_Type_35\" has 2 unique values.\n",
      "Column 50 \"Soil_Type_36\" has 2 unique values.\n",
      "Column 51 \"Soil_Type_37\" has 2 unique values.\n",
      "Column 52 \"Soil_Type_38\" has 2 unique values.\n",
      "Column 53 \"Soil_Type_39\" has 2 unique values.\n",
      "There are 54 features.\n",
      "There are 10 categorical features and 44 binary features.\n"
     ]
    },
    {
     "name": "stderr",
     "output_type": "stream",
     "text": [
      "C:\\Users\\bond0\\Anaconda3\\envs\\env_for_tf23_gpu\\lib\\site-packages\\sklearn\\preprocessing\\_discretization.py:233: UserWarning: Bins whose width are too small (i.e., <= 1e-8) in feature 0 are removed. Consider decreasing the number of bins.\n",
      "  \"decreasing the number of bins.\" % jj\n",
      "C:\\Users\\bond0\\Anaconda3\\envs\\env_for_tf23_gpu\\lib\\site-packages\\sklearn\\preprocessing\\_discretization.py:233: UserWarning: Bins whose width are too small (i.e., <= 1e-8) in feature 0 are removed. Consider decreasing the number of bins.\n",
      "  \"decreasing the number of bins.\" % jj\n",
      "C:\\Users\\bond0\\Anaconda3\\envs\\env_for_tf23_gpu\\lib\\site-packages\\sklearn\\preprocessing\\_discretization.py:233: UserWarning: Bins whose width are too small (i.e., <= 1e-8) in feature 0 are removed. Consider decreasing the number of bins.\n",
      "  \"decreasing the number of bins.\" % jj\n",
      "C:\\Users\\bond0\\Anaconda3\\envs\\env_for_tf23_gpu\\lib\\site-packages\\sklearn\\preprocessing\\_discretization.py:233: UserWarning: Bins whose width are too small (i.e., <= 1e-8) in feature 0 are removed. Consider decreasing the number of bins.\n",
      "  \"decreasing the number of bins.\" % jj\n",
      "C:\\Users\\bond0\\Anaconda3\\envs\\env_for_tf23_gpu\\lib\\site-packages\\sklearn\\preprocessing\\_discretization.py:233: UserWarning: Bins whose width are too small (i.e., <= 1e-8) in feature 0 are removed. Consider decreasing the number of bins.\n",
      "  \"decreasing the number of bins.\" % jj\n",
      "C:\\Users\\bond0\\Anaconda3\\envs\\env_for_tf23_gpu\\lib\\site-packages\\sklearn\\preprocessing\\_discretization.py:233: UserWarning: Bins whose width are too small (i.e., <= 1e-8) in feature 0 are removed. Consider decreasing the number of bins.\n",
      "  \"decreasing the number of bins.\" % jj\n"
     ]
    }
   ],
   "source": [
    "input_preprocessor, input_names, input_categories = build_preprocessor(\n",
    "    X=X_train,\n",
    "    colnames=dataset.feature_names\n",
    ")"
   ]
  },
  {
   "cell_type": "code",
   "execution_count": 27,
   "metadata": {
    "id": "OZj5Rksa3UrG"
   },
   "outputs": [],
   "source": [
    "del dataset"
   ]
  },
  {
   "cell_type": "code",
   "execution_count": 28,
   "metadata": {
    "id": "zO460Fkq3ax9"
   },
   "outputs": [],
   "source": [
    "X_train_quantized = input_preprocessor.transform(X_train)\n",
    "X_valid_quantized = input_preprocessor.transform(X_valid)"
   ]
  },
  {
   "cell_type": "code",
   "execution_count": 29,
   "metadata": {
    "id": "IDozqM1aBdmv"
   },
   "outputs": [
    {
     "name": "stdout",
     "output_type": "stream",
     "text": [
      "Elevation has 256 unique values.\n",
      "Aspect has 119 unique values.\n",
      "Slope has 21 unique values.\n",
      "Horizontal_Distance_To_Hydrology has 109 unique values.\n",
      "Vertical_Distance_To_Hydrology has 146 unique values.\n",
      "Horizontal_Distance_To_Roadways has 256 unique values.\n",
      "Hillshade_9am has 64 unique values.\n",
      "Hillshade_Noon has 54 unique values.\n",
      "Hillshade_3pm has 85 unique values.\n",
      "Horizontal_Distance_To_Fire_Points has 256 unique values.\n",
      "Wilderness_Area_0 has 2 unique values.\n",
      "Wilderness_Area_1 has 2 unique values.\n",
      "Wilderness_Area_2 has 2 unique values.\n",
      "Wilderness_Area_3 has 2 unique values.\n",
      "Soil_Type_0 has 2 unique values.\n",
      "Soil_Type_1 has 2 unique values.\n",
      "Soil_Type_2 has 2 unique values.\n",
      "Soil_Type_3 has 2 unique values.\n",
      "Soil_Type_4 has 2 unique values.\n",
      "Soil_Type_5 has 2 unique values.\n",
      "Soil_Type_6 has 2 unique values.\n",
      "Soil_Type_7 has 2 unique values.\n",
      "Soil_Type_8 has 2 unique values.\n",
      "Soil_Type_9 has 2 unique values.\n",
      "Soil_Type_10 has 2 unique values.\n",
      "Soil_Type_11 has 2 unique values.\n",
      "Soil_Type_12 has 2 unique values.\n",
      "Soil_Type_13 has 2 unique values.\n",
      "Soil_Type_14 has 2 unique values.\n",
      "Soil_Type_15 has 2 unique values.\n",
      "Soil_Type_16 has 2 unique values.\n",
      "Soil_Type_17 has 2 unique values.\n",
      "Soil_Type_18 has 2 unique values.\n",
      "Soil_Type_19 has 2 unique values.\n",
      "Soil_Type_20 has 2 unique values.\n",
      "Soil_Type_21 has 2 unique values.\n",
      "Soil_Type_22 has 2 unique values.\n",
      "Soil_Type_23 has 2 unique values.\n",
      "Soil_Type_24 has 2 unique values.\n",
      "Soil_Type_25 has 2 unique values.\n",
      "Soil_Type_26 has 2 unique values.\n",
      "Soil_Type_27 has 2 unique values.\n",
      "Soil_Type_28 has 2 unique values.\n",
      "Soil_Type_29 has 2 unique values.\n",
      "Soil_Type_30 has 2 unique values.\n",
      "Soil_Type_31 has 2 unique values.\n",
      "Soil_Type_32 has 2 unique values.\n",
      "Soil_Type_33 has 2 unique values.\n",
      "Soil_Type_34 has 2 unique values.\n",
      "Soil_Type_35 has 2 unique values.\n",
      "Soil_Type_36 has 2 unique values.\n",
      "Soil_Type_37 has 2 unique values.\n",
      "Soil_Type_38 has 2 unique values.\n",
      "Soil_Type_39 has 2 unique values.\n"
     ]
    }
   ],
   "source": [
    "for feature_index, feature_name in enumerate(input_names):\n",
    "    print(f'{feature_name} has {input_categories[feature_index]} unique values.')"
   ]
  },
  {
   "cell_type": "code",
   "execution_count": 30,
   "metadata": {
    "id": "Gk7fbCCQBrY-"
   },
   "outputs": [
    {
     "name": "stdout",
     "output_type": "stream",
     "text": [
      "Total number of unique values is 1454.\n"
     ]
    }
   ],
   "source": [
    "print(f'Total number of unique values is {sum(input_categories)}.')"
   ]
  },
  {
   "cell_type": "code",
   "execution_count": 31,
   "metadata": {
    "id": "2gWkVba73itc"
   },
   "outputs": [],
   "source": [
    "input_normalizer = build_normalizer(X_train)"
   ]
  },
  {
   "cell_type": "code",
   "execution_count": 32,
   "metadata": {
    "id": "9exQnTea3n8m"
   },
   "outputs": [],
   "source": [
    "X_train = input_normalizer.transform(X_train)\n",
    "X_valid = input_normalizer.transform(X_valid)\n",
    "X_test = input_normalizer.transform(X_test)"
   ]
  },
  {
   "cell_type": "code",
   "execution_count": 33,
   "metadata": {
    "id": "nhzatua536gO"
   },
   "outputs": [],
   "source": [
    "trainset_gen = TrainsetGenerator(\n",
    "    x_src=X_train_quantized,\n",
    "    x_norm=X_train,\n",
    "    y=y_train,\n",
    "    n_classes=len(classes_dict),\n",
    "    batch_size=MINIBATCH_SIZE_FOR_TRAINING,\n",
    "    features=input_categories\n",
    ")"
   ]
  },
  {
   "cell_type": "code",
   "execution_count": 34,
   "metadata": {
    "id": "CrZ5546EAESh"
   },
   "outputs": [
    {
     "name": "stdout",
     "output_type": "stream",
     "text": [
      "[ 3.1698352e-01 -1.2436310e+00 -9.8235929e-01 -1.0195646e+00\n",
      "  5.8616734e-01 -1.1568286e+00 -1.5181400e-01  2.4146403e-01\n",
      " -7.7954209e-01  1.8961939e+00 -1.3411260e+00  1.7255381e+00\n",
      " -1.4771707e+00  2.3777629e-01  2.5964335e-01 -7.7618486e-01\n",
      "  2.9072332e-01 -4.9969864e-01 -7.5002897e-01 -4.4066715e-01\n",
      "  1.3812125e-01 -5.5963403e-01 -1.6686271e-01 -1.1624459e-01\n",
      "  1.7178836e-01  6.8602934e-02 -5.8058649e-02 -1.5387362e-01\n",
      "  2.3957362e-02 -7.5299077e-02 -1.4331256e-02 -5.1747737e-03\n",
      " -1.1314893e-02  4.6810280e-03 -3.4542501e-02 -4.7419462e-02\n",
      " -1.7947195e-02  2.9625800e-03 -1.6188375e-03  1.6398565e-01\n",
      "  1.1993968e+00 -2.0458321e-01  6.9995165e-01 -1.7208570e-01\n",
      " -6.1011755e-01 -1.1995329e+00 -9.1859698e-02 -5.2674448e-01\n",
      "  1.0425091e+00  4.5667589e-01  7.8531253e-01  1.3355339e-03\n",
      " -4.3550673e-15 -6.1737050e-16]\n",
      "[1.0, 0.0, 0.0, 0.0, 0.0, 0.0, 0.0]\n",
      "[0.0, 0.0, 1.0, 0.0, 0.0, 0.0, 0.0, 0.0, 0.0, 0.0, 0.0, 0.0, 0.0, 0.0, 0.0, 0.0, 0.0, 0.0, 0.0, 0.0, 0.0, 0.0, 0.0, 0.0, 0.0, 1.0, 0.0, 0.0, 0.0, 0.0, 0.0, 0.0, 0.0, 0.0, 0.0, 0.0, 0.0, 0.0, 0.0, 0.0, 0.0, 0.0, 0.0, 0.0]\n",
      "[0.0, 0.0, 0.0, 0.0, 0.0, 0.0, 0.0, 0.0, 0.0, 0.0, 0.0, 0.0, 0.0, 0.0, 0.0, 0.0, 0.0, 0.0, 0.0, 0.0, 0.0, 0.0, 0.0, 0.0, 0.0, 0.0, 0.0, 0.0, 0.0, 0.0, 0.0, 0.0, 0.0, 0.0, 0.0, 0.0, 0.0, 0.0, 0.0, 0.0, 0.0, 0.0, 0.0, 0.0, 0.0, 0.0, 0.0, 0.0, 0.0, 0.0, 0.0, 0.0, 0.0, 0.0, 0.0, 0.0, 0.0, 0.0, 0.0, 0.0, 0.0, 0.0, 0.0, 0.0, 0.0, 0.0, 0.0, 0.0, 0.0, 0.0, 0.0, 0.0, 0.0, 0.0, 0.0, 0.0, 0.0, 0.0, 0.0, 0.0, 0.0, 0.0, 0.0, 0.0, 0.0, 0.0, 0.0, 0.0, 0.0, 0.0, 0.0, 1.0, 0.0, 0.0, 0.0, 0.0, 0.0, 0.0, 0.0, 0.0, 0.0, 0.0, 0.0, 0.0, 0.0, 0.0, 0.0, 0.0, 0.0, 0.0, 0.0, 0.0, 0.0, 0.0, 0.0, 0.0, 0.0, 0.0, 0.0, 0.0, 0.0, 0.0, 0.0, 0.0, 0.0, 0.0, 0.0, 0.0, 0.0, 0.0, 0.0, 0.0, 0.0, 0.0, 0.0, 0.0, 0.0, 0.0, 0.0, 0.0, 0.0, 0.0, 0.0, 0.0, 0.0, 0.0, 0.0, 0.0, 0.0, 0.0, 0.0, 0.0, 0.0, 0.0, 0.0, 0.0, 0.0, 0.0, 0.0, 0.0, 0.0, 0.0, 0.0, 0.0, 0.0, 0.0, 0.0, 0.0, 0.0, 0.0, 0.0, 0.0, 0.0, 0.0, 0.0, 0.0, 0.0, 0.0, 0.0, 0.0, 0.0, 0.0, 0.0, 0.0, 0.0, 0.0, 0.0, 0.0, 0.0, 0.0, 0.0, 0.0, 0.0, 0.0, 0.0, 0.0, 0.0, 0.0, 0.0, 0.0, 0.0, 0.0, 0.0, 0.0, 0.0, 0.0, 0.0, 0.0, 0.0, 0.0, 0.0, 0.0, 0.0, 0.0, 0.0, 0.0, 0.0, 0.0, 0.0, 0.0, 0.0, 0.0, 0.0, 0.0, 0.0, 0.0, 0.0, 0.0, 0.0, 0.0, 0.0, 0.0, 0.0, 0.0, 0.0, 0.0, 0.0, 0.0, 0.0, 0.0, 0.0, 0.0, 0.0, 0.0, 0.0, 0.0, 0.0, 0.0, 0.0, 0.0, 0.0, 0.0, 0.0, 0.0, 0.0, 0.0]\n",
      "[0.0, 0.0, 0.0, 0.0, 0.0, 0.0, 0.0, 0.0, 0.0, 0.0, 0.0, 0.0, 0.0, 0.0, 0.0, 0.0, 0.0, 0.0, 0.0, 0.0, 0.0, 0.0, 0.0, 0.0, 0.0, 0.0, 0.0, 0.0, 0.0, 0.0, 0.0, 0.0, 0.0, 0.0, 0.0, 0.0, 0.0, 0.0, 0.0, 0.0, 0.0, 0.0, 0.0, 0.0, 0.0, 0.0, 0.0, 0.0, 0.0, 0.0, 0.0, 0.0, 0.0, 0.0, 0.0, 0.0, 0.0, 0.0, 0.0, 0.0, 0.0, 0.0, 0.0, 0.0, 0.0, 0.0, 0.0, 0.0, 0.0, 0.0, 0.0, 0.0, 0.0, 0.0, 0.0, 0.0, 0.0, 0.0, 0.0, 0.0, 0.0, 0.0, 0.0, 0.0, 0.0, 0.0, 0.0, 0.0, 0.0, 0.0, 0.0, 0.0, 0.0, 0.0, 0.0, 0.0, 0.0, 0.0, 0.0, 0.0, 0.0, 0.0, 0.0, 0.0, 0.0, 0.0, 0.0, 0.0, 0.0, 0.0, 0.0, 0.0, 0.0, 0.0, 0.0, 0.0, 1.0, 0.0, 0.0]\n",
      "[0.0, 0.0, 0.0, 0.0, 0.0, 0.0, 1.0, 0.0, 0.0, 0.0, 0.0, 0.0, 0.0, 0.0, 0.0, 0.0, 0.0, 0.0, 0.0, 0.0, 0.0]\n",
      "[0.0, 0.0, 0.0, 0.0, 0.0, 1.0, 0.0, 0.0, 0.0, 0.0, 0.0, 0.0, 0.0, 0.0, 0.0, 0.0, 0.0, 0.0, 0.0, 0.0, 0.0, 0.0, 0.0, 0.0, 0.0, 0.0, 0.0, 0.0, 0.0, 0.0, 0.0, 0.0, 0.0, 0.0, 0.0, 0.0, 0.0, 0.0, 0.0, 0.0, 0.0, 0.0, 0.0, 0.0, 0.0, 0.0, 0.0, 0.0, 0.0, 0.0, 0.0, 0.0, 0.0, 0.0, 0.0, 0.0, 0.0, 0.0, 0.0, 0.0, 0.0, 0.0, 0.0, 0.0, 0.0, 0.0, 0.0, 0.0, 0.0, 0.0, 0.0, 0.0, 0.0, 0.0, 0.0, 0.0, 0.0, 0.0, 0.0, 0.0, 0.0, 0.0, 0.0, 0.0, 0.0, 0.0, 0.0, 0.0, 0.0, 0.0, 0.0, 0.0, 0.0, 0.0, 0.0, 0.0, 0.0, 0.0, 0.0, 0.0, 0.0, 0.0, 0.0, 0.0, 0.0, 0.0, 0.0, 0.0, 0.0]\n",
      "[0.0, 0.0, 0.0, 0.0, 0.0, 0.0, 0.0, 0.0, 0.0, 0.0, 0.0, 0.0, 0.0, 0.0, 0.0, 0.0, 0.0, 0.0, 0.0, 0.0, 0.0, 0.0, 0.0, 0.0, 0.0, 0.0, 0.0, 0.0, 1.0, 0.0, 0.0, 0.0, 0.0, 0.0, 0.0, 0.0, 0.0, 0.0, 0.0, 0.0, 0.0, 0.0, 0.0, 0.0, 0.0, 0.0, 0.0, 0.0, 0.0, 0.0, 0.0, 0.0, 0.0, 0.0, 0.0, 0.0, 0.0, 0.0, 0.0, 0.0, 0.0, 0.0, 0.0, 0.0, 0.0, 0.0, 0.0, 0.0, 0.0, 0.0, 0.0, 0.0, 0.0, 0.0, 0.0, 0.0, 0.0, 0.0, 0.0, 0.0, 0.0, 0.0, 0.0, 0.0, 0.0, 0.0, 0.0, 0.0, 0.0, 0.0, 0.0, 0.0, 0.0, 0.0, 0.0, 0.0, 0.0, 0.0, 0.0, 0.0, 0.0, 0.0, 0.0, 0.0, 0.0, 0.0, 0.0, 0.0, 0.0, 0.0, 0.0, 0.0, 0.0, 0.0, 0.0, 0.0, 0.0, 0.0, 0.0, 0.0, 0.0, 0.0, 0.0, 0.0, 0.0, 0.0, 0.0, 0.0, 0.0, 0.0, 0.0, 0.0, 0.0, 0.0, 0.0, 0.0, 0.0, 0.0, 0.0, 0.0, 0.0, 0.0, 0.0, 0.0, 0.0, 0.0]\n",
      "[0.0, 0.0, 0.0, 0.0, 0.0, 0.0, 0.0, 0.0, 0.0, 0.0, 0.0, 0.0, 0.0, 0.0, 0.0, 0.0, 0.0, 0.0, 0.0, 0.0, 0.0, 0.0, 0.0, 0.0, 0.0, 0.0, 0.0, 0.0, 0.0, 0.0, 0.0, 0.0, 0.0, 0.0, 0.0, 0.0, 0.0, 0.0, 0.0, 0.0, 0.0, 0.0, 0.0, 0.0, 0.0, 0.0, 0.0, 0.0, 0.0, 0.0, 0.0, 0.0, 0.0, 0.0, 0.0, 0.0, 0.0, 0.0, 0.0, 0.0, 0.0, 0.0, 0.0, 0.0, 0.0, 0.0, 0.0, 0.0, 0.0, 0.0, 0.0, 0.0, 0.0, 0.0, 0.0, 0.0, 0.0, 0.0, 0.0, 0.0, 0.0, 0.0, 0.0, 0.0, 0.0, 0.0, 0.0, 0.0, 0.0, 0.0, 0.0, 0.0, 0.0, 0.0, 0.0, 0.0, 0.0, 0.0, 0.0, 0.0, 0.0, 0.0, 0.0, 0.0, 0.0, 0.0, 0.0, 0.0, 0.0, 0.0, 0.0, 0.0, 0.0, 0.0, 0.0, 0.0, 0.0, 0.0, 0.0, 0.0, 0.0, 0.0, 0.0, 0.0, 0.0, 0.0, 0.0, 0.0, 0.0, 0.0, 0.0, 0.0, 0.0, 0.0, 0.0, 0.0, 0.0, 0.0, 0.0, 0.0, 0.0, 0.0, 0.0, 0.0, 0.0, 0.0, 0.0, 0.0, 0.0, 0.0, 0.0, 0.0, 0.0, 0.0, 0.0, 0.0, 0.0, 0.0, 0.0, 0.0, 0.0, 0.0, 0.0, 0.0, 0.0, 0.0, 0.0, 0.0, 0.0, 0.0, 0.0, 0.0, 0.0, 0.0, 0.0, 0.0, 0.0, 0.0, 0.0, 0.0, 0.0, 1.0, 0.0, 0.0, 0.0, 0.0, 0.0, 0.0, 0.0, 0.0, 0.0, 0.0, 0.0, 0.0, 0.0, 0.0, 0.0, 0.0, 0.0, 0.0, 0.0, 0.0, 0.0, 0.0, 0.0, 0.0, 0.0, 0.0, 0.0, 0.0, 0.0, 0.0, 0.0, 0.0, 0.0, 0.0, 0.0, 0.0, 0.0, 0.0, 0.0, 0.0, 0.0, 0.0, 0.0, 0.0, 0.0, 0.0, 0.0, 0.0, 0.0, 0.0, 0.0, 0.0, 0.0, 0.0, 0.0, 0.0, 0.0, 0.0, 0.0, 0.0, 0.0, 0.0, 0.0, 0.0, 0.0, 0.0, 0.0, 0.0, 0.0, 0.0, 0.0, 0.0, 0.0, 0.0]\n",
      "[0.0, 0.0, 0.0, 0.0, 0.0, 0.0, 0.0, 0.0, 0.0, 0.0, 0.0, 0.0, 0.0, 0.0, 0.0, 0.0, 0.0, 0.0, 0.0, 0.0, 0.0, 0.0, 1.0, 0.0, 0.0, 0.0, 0.0, 0.0, 0.0, 0.0, 0.0, 0.0, 0.0, 0.0, 0.0, 0.0, 0.0, 0.0, 0.0, 0.0, 0.0, 0.0, 0.0, 0.0, 0.0, 0.0, 0.0, 0.0, 0.0, 0.0, 0.0, 0.0, 0.0, 0.0, 0.0, 0.0, 0.0, 0.0, 0.0, 0.0, 0.0, 0.0, 0.0, 0.0]\n",
      "[0.0, 0.0, 0.0, 0.0, 0.0, 0.0, 0.0, 0.0, 0.0, 0.0, 0.0, 0.0, 0.0, 0.0, 0.0, 0.0, 0.0, 0.0, 0.0, 0.0, 0.0, 0.0, 0.0, 0.0, 0.0, 0.0, 0.0, 1.0, 0.0, 0.0, 0.0, 0.0, 0.0, 0.0, 0.0, 0.0, 0.0, 0.0, 0.0, 0.0, 0.0, 0.0, 0.0, 0.0, 0.0, 0.0, 0.0, 0.0, 0.0, 0.0, 0.0, 0.0, 0.0, 0.0]\n",
      "[0.0, 0.0, 0.0, 0.0, 0.0, 0.0, 0.0, 0.0, 0.0, 0.0, 0.0, 0.0, 0.0, 0.0, 0.0, 0.0, 0.0, 0.0, 0.0, 0.0, 0.0, 0.0, 0.0, 0.0, 0.0, 0.0, 0.0, 0.0, 0.0, 0.0, 0.0, 0.0, 0.0, 0.0, 0.0, 0.0, 0.0, 0.0, 0.0, 0.0, 0.0, 0.0, 0.0, 0.0, 0.0, 0.0, 0.0, 0.0, 0.0, 0.0, 0.0, 0.0, 0.0, 0.0, 0.0, 0.0, 1.0, 0.0, 0.0, 0.0, 0.0, 0.0, 0.0, 0.0, 0.0, 0.0, 0.0, 0.0, 0.0, 0.0, 0.0, 0.0, 0.0, 0.0, 0.0, 0.0, 0.0, 0.0, 0.0, 0.0, 0.0, 0.0, 0.0, 0.0, 0.0]\n",
      "[0.0, 0.0, 0.0, 0.0, 0.0, 0.0, 0.0, 0.0, 0.0, 0.0, 0.0, 0.0, 0.0, 0.0, 0.0, 0.0, 0.0, 0.0, 0.0, 0.0, 0.0, 0.0, 0.0, 0.0, 0.0, 0.0, 0.0, 0.0, 0.0, 0.0, 0.0, 0.0, 0.0, 0.0, 0.0, 0.0, 0.0, 0.0, 0.0, 0.0, 0.0, 0.0, 0.0, 0.0, 0.0, 0.0, 0.0, 0.0, 0.0, 0.0, 0.0, 0.0, 0.0, 0.0, 0.0, 0.0, 0.0, 0.0, 0.0, 0.0, 0.0, 0.0, 0.0, 0.0, 0.0, 0.0, 0.0, 0.0, 0.0, 0.0, 0.0, 0.0, 0.0, 0.0, 0.0, 0.0, 0.0, 0.0, 0.0, 0.0, 0.0, 0.0, 0.0, 0.0, 0.0, 0.0, 0.0, 0.0, 0.0, 0.0, 0.0, 0.0, 0.0, 0.0, 0.0, 0.0, 0.0, 0.0, 0.0, 0.0, 0.0, 0.0, 0.0, 0.0, 0.0, 0.0, 0.0, 0.0, 0.0, 0.0, 0.0, 0.0, 0.0, 0.0, 0.0, 0.0, 0.0, 0.0, 0.0, 0.0, 0.0, 0.0, 0.0, 0.0, 0.0, 0.0, 0.0, 0.0, 0.0, 0.0, 0.0, 0.0, 0.0, 0.0, 0.0, 0.0, 0.0, 0.0, 0.0, 0.0, 0.0, 0.0, 0.0, 0.0, 0.0, 0.0, 0.0, 0.0, 0.0, 0.0, 0.0, 0.0, 0.0, 0.0, 0.0, 0.0, 0.0, 0.0, 0.0, 0.0, 0.0, 0.0, 0.0, 0.0, 0.0, 0.0, 1.0, 0.0, 0.0, 0.0, 0.0, 0.0, 0.0, 0.0, 0.0, 0.0, 0.0, 0.0, 0.0, 0.0, 0.0, 0.0, 0.0, 0.0, 0.0, 0.0, 0.0, 0.0, 0.0, 0.0, 0.0, 0.0, 0.0, 0.0, 0.0, 0.0, 0.0, 0.0, 0.0, 0.0, 0.0, 0.0, 0.0, 0.0, 0.0, 0.0, 0.0, 0.0, 0.0, 0.0, 0.0, 0.0, 0.0, 0.0, 0.0, 0.0, 0.0, 0.0, 0.0, 0.0, 0.0, 0.0, 0.0, 0.0, 0.0, 0.0, 0.0, 0.0, 0.0, 0.0, 0.0, 0.0, 0.0, 0.0, 0.0, 0.0, 0.0, 0.0, 0.0, 0.0, 0.0, 0.0, 0.0, 0.0, 0.0, 0.0, 0.0, 0.0, 0.0, 0.0, 0.0, 0.0, 0.0, 0.0, 0.0, 0.0]\n"
     ]
    }
   ],
   "source": [
    "X_, y_ = trainset_gen[0]\n",
    "print(X_[0])\n",
    "for it in y_:\n",
    "    print(it[0].tolist() if isinstance(it[0], np.ndarray) else it[0])\n",
    "del X_, y_"
   ]
  },
  {
   "cell_type": "code",
   "execution_count": 35,
   "metadata": {
    "id": "J6E4MUgKLnTz"
   },
   "outputs": [
    {
     "name": "stdout",
     "output_type": "stream",
     "text": [
      "Class 0 frequency is 14%.\n",
      "Class 1 frequency is 14%.\n",
      "Class 2 frequency is 14%.\n",
      "Class 3 frequency is 14%.\n",
      "Class 4 frequency is 14%.\n",
      "Class 5 frequency is 14%.\n",
      "Class 6 frequency is 14%.\n"
     ]
    }
   ],
   "source": [
    "train_class_freq = dict()\n",
    "for idx1 in range(len(trainset_gen)):\n",
    "    X_, y_ = trainset_gen[idx1]\n",
    "    for idx2 in range(X_.shape[0]):\n",
    "        class_idx1 = int(np.argmax(y_[0][idx2]))\n",
    "        if class_idx1 in train_class_freq:\n",
    "            train_class_freq[class_idx1] += 1\n",
    "        else:\n",
    "            train_class_freq[class_idx1] = 1\n",
    "    del X_, y_\n",
    "sum_freq = 0\n",
    "for class_idx1 in sorted(train_class_freq.keys()):\n",
    "    sum_freq += train_class_freq[class_idx1]\n",
    "for class_idx1 in sorted(train_class_freq.keys()):\n",
    "    percent = 100.0 * train_class_freq[class_idx1]\n",
    "    percent /= float(sum_freq)\n",
    "    print(f'Class {class_idx1} frequency is {int(round(percent))}%.')"
   ]
  },
  {
   "cell_type": "code",
   "execution_count": 36,
   "metadata": {
    "id": "5F8l7axU4TY-"
   },
   "outputs": [],
   "source": [
    "validset_gen = ValidsetGenerator(\n",
    "    x_src=X_valid_quantized,\n",
    "    x_norm=X_valid,\n",
    "    y=y_valid,\n",
    "    n_classes=len(classes_dict),\n",
    "    batch_size=MINIBATCH_SIZE_FOR_TRAINING,\n",
    "    features=input_categories\n",
    ")"
   ]
  },
  {
   "cell_type": "code",
   "execution_count": 37,
   "metadata": {
    "id": "SunvCCo5AHDF"
   },
   "outputs": [
    {
     "name": "stdout",
     "output_type": "stream",
     "text": [
      "Class 0 frequency is 36%.\n",
      "Class 1 frequency is 49%.\n",
      "Class 2 frequency is 6%.\n",
      "Class 3 frequency is 2%.\n",
      "Class 4 frequency is 3%.\n",
      "Class 5 frequency is 4%.\n",
      "Class 6 frequency is 0%.\n"
     ]
    }
   ],
   "source": [
    "val_class_freq = dict()\n",
    "for idx1 in range(len(validset_gen)):\n",
    "    X_, y_ = validset_gen[idx1]\n",
    "    for idx2 in range(X_.shape[0]):\n",
    "        class_idx1 = int(np.argmax(y_[0][idx2]))\n",
    "        if class_idx1 in val_class_freq:\n",
    "            val_class_freq[class_idx1] += 1\n",
    "        else:\n",
    "            val_class_freq[class_idx1] = 1\n",
    "    del X_, y_\n",
    "sum_freq = 0\n",
    "for class_idx1 in sorted(val_class_freq.keys()):\n",
    "    sum_freq += val_class_freq[class_idx1]\n",
    "for class_idx1 in sorted(val_class_freq.keys()):\n",
    "    percent = 100.0 * val_class_freq[class_idx1]\n",
    "    percent /= float(sum_freq)\n",
    "    print(f'Class {class_idx1} frequency is {int(round(percent))}%.')"
   ]
  },
  {
   "cell_type": "code",
   "execution_count": 38,
   "metadata": {
    "id": "gD_V0PjA4Wuc"
   },
   "outputs": [
    {
     "name": "stdout",
     "output_type": "stream",
     "text": [
      "There are 44 binary features and 10 categorical features.\n"
     ]
    }
   ],
   "source": [
    "trainable_nn, encoding_nn, classification_nn = build_neural_network(\n",
    "    features=input_categories, n_classes=len(classes_dict), n_latent=32, n_hidden=512,\n",
    "    depth=9, dropout_rate=1e-5, nn_name='covertype'\n",
    ")"
   ]
  },
  {
   "cell_type": "code",
   "execution_count": 39,
   "metadata": {
    "id": "mvAJp-FXBOkH"
   },
   "outputs": [
    {
     "name": "stdout",
     "output_type": "stream",
     "text": [
      "Model: \"covertype_vae\"\n",
      "__________________________________________________________________________________________________\n",
      "Layer (type)                    Output Shape         Param #     Connected to                     \n",
      "==================================================================================================\n",
      "covertype_feature_vector (Input [(None, 54)]         0                                            \n",
      "__________________________________________________________________________________________________\n",
      "covertype_enc_dropout1 (AlphaDr (None, 54)           0           covertype_feature_vector[0][0]   \n",
      "__________________________________________________________________________________________________\n",
      "covertype_enc_dense1 (Dense)    (None, 512)          28160       covertype_enc_dropout1[0][0]     \n",
      "__________________________________________________________________________________________________\n",
      "covertype_enc_dropout2 (AlphaDr (None, 512)          0           covertype_enc_dense1[0][0]       \n",
      "__________________________________________________________________________________________________\n",
      "covertype_enc_dense2 (Dense)    (None, 512)          262656      covertype_enc_dropout2[0][0]     \n",
      "__________________________________________________________________________________________________\n",
      "covertype_enc_dropout3 (AlphaDr (None, 512)          0           covertype_enc_dense2[0][0]       \n",
      "__________________________________________________________________________________________________\n",
      "covertype_enc_dense3 (Dense)    (None, 512)          262656      covertype_enc_dropout3[0][0]     \n",
      "__________________________________________________________________________________________________\n",
      "covertype_enc_dropout4 (AlphaDr (None, 512)          0           covertype_enc_dense3[0][0]       \n",
      "__________________________________________________________________________________________________\n",
      "covertype_enc_dense4 (Dense)    (None, 512)          262656      covertype_enc_dropout4[0][0]     \n",
      "__________________________________________________________________________________________________\n",
      "covertype_enc_dropout5 (AlphaDr (None, 512)          0           covertype_enc_dense4[0][0]       \n",
      "__________________________________________________________________________________________________\n",
      "covertype_enc_dense5 (Dense)    (None, 512)          262656      covertype_enc_dropout5[0][0]     \n",
      "__________________________________________________________________________________________________\n",
      "covertype_enc_dropout6 (AlphaDr (None, 512)          0           covertype_enc_dense5[0][0]       \n",
      "__________________________________________________________________________________________________\n",
      "covertype_enc_dense6 (Dense)    (None, 512)          262656      covertype_enc_dropout6[0][0]     \n",
      "__________________________________________________________________________________________________\n",
      "covertype_enc_dropout7 (AlphaDr (None, 512)          0           covertype_enc_dense6[0][0]       \n",
      "__________________________________________________________________________________________________\n",
      "covertype_enc_dense7 (Dense)    (None, 512)          262656      covertype_enc_dropout7[0][0]     \n",
      "__________________________________________________________________________________________________\n",
      "covertype_enc_dropout8 (AlphaDr (None, 512)          0           covertype_enc_dense7[0][0]       \n",
      "__________________________________________________________________________________________________\n",
      "covertype_enc_dense8 (Dense)    (None, 512)          262656      covertype_enc_dropout8[0][0]     \n",
      "__________________________________________________________________________________________________\n",
      "covertype_enc_dropout9 (AlphaDr (None, 512)          0           covertype_enc_dense8[0][0]       \n",
      "__________________________________________________________________________________________________\n",
      "covertype_enc_dense9 (Dense)    (None, 512)          262656      covertype_enc_dropout9[0][0]     \n",
      "__________________________________________________________________________________________________\n",
      "covertype_latent (Dense)        (None, 64)           32832       covertype_enc_dense9[0][0]       \n",
      "__________________________________________________________________________________________________\n",
      "covertype_z (IndependentNormal) multiple             0           covertype_latent[0][0]           \n",
      "__________________________________________________________________________________________________\n",
      "covertype_dec_dropout1 (AlphaDr multiple             0           covertype_z[0][0]                \n",
      "__________________________________________________________________________________________________\n",
      "covertype_dec_dense1 (Dense)    (None, 512)          16896       covertype_dec_dropout1[0][0]     \n",
      "__________________________________________________________________________________________________\n",
      "covertype_dec_dropout2 (AlphaDr (None, 512)          0           covertype_dec_dense1[0][0]       \n",
      "__________________________________________________________________________________________________\n",
      "covertype_dec_dense2 (Dense)    (None, 512)          262656      covertype_dec_dropout2[0][0]     \n",
      "__________________________________________________________________________________________________\n",
      "covertype_dec_dropout3 (AlphaDr (None, 512)          0           covertype_dec_dense2[0][0]       \n",
      "__________________________________________________________________________________________________\n",
      "covertype_dec_dense3 (Dense)    (None, 512)          262656      covertype_dec_dropout3[0][0]     \n",
      "__________________________________________________________________________________________________\n",
      "covertype_dec_dropout4 (AlphaDr (None, 512)          0           covertype_dec_dense3[0][0]       \n",
      "__________________________________________________________________________________________________\n",
      "covertype_dec_dense4 (Dense)    (None, 512)          262656      covertype_dec_dropout4[0][0]     \n",
      "__________________________________________________________________________________________________\n",
      "covertype_dec_dropout5 (AlphaDr (None, 512)          0           covertype_dec_dense4[0][0]       \n",
      "__________________________________________________________________________________________________\n",
      "covertype_dec_dense5 (Dense)    (None, 512)          262656      covertype_dec_dropout5[0][0]     \n",
      "__________________________________________________________________________________________________\n",
      "covertype_dec_dropout6 (AlphaDr (None, 512)          0           covertype_dec_dense5[0][0]       \n",
      "__________________________________________________________________________________________________\n",
      "covertype_dec_dense6 (Dense)    (None, 512)          262656      covertype_dec_dropout6[0][0]     \n",
      "__________________________________________________________________________________________________\n",
      "covertype_dec_dropout7 (AlphaDr (None, 512)          0           covertype_dec_dense6[0][0]       \n",
      "__________________________________________________________________________________________________\n",
      "covertype_dec_dense7 (Dense)    (None, 512)          262656      covertype_dec_dropout7[0][0]     \n",
      "__________________________________________________________________________________________________\n",
      "covertype_dec_dropout8 (AlphaDr (None, 512)          0           covertype_dec_dense7[0][0]       \n",
      "__________________________________________________________________________________________________\n",
      "covertype_dec_dense8 (Dense)    (None, 512)          262656      covertype_dec_dropout8[0][0]     \n",
      "__________________________________________________________________________________________________\n",
      "covertype_dec_dropout9 (AlphaDr (None, 512)          0           covertype_dec_dense8[0][0]       \n",
      "__________________________________________________________________________________________________\n",
      "covertype_dec_dense9 (Dense)    (None, 512)          262656      covertype_dec_dropout9[0][0]     \n",
      "__________________________________________________________________________________________________\n",
      "covertype_rec_binary (Dense)    (None, 44)           22572       covertype_dec_dense9[0][0]       \n",
      "__________________________________________________________________________________________________\n",
      "covertype_rec_cat1 (Dense)      (None, 256)          131328      covertype_dec_dense9[0][0]       \n",
      "__________________________________________________________________________________________________\n",
      "covertype_rec_cat2 (Dense)      (None, 119)          61047       covertype_dec_dense9[0][0]       \n",
      "__________________________________________________________________________________________________\n",
      "covertype_rec_cat3 (Dense)      (None, 21)           10773       covertype_dec_dense9[0][0]       \n",
      "__________________________________________________________________________________________________\n",
      "covertype_rec_cat4 (Dense)      (None, 109)          55917       covertype_dec_dense9[0][0]       \n",
      "__________________________________________________________________________________________________\n",
      "covertype_rec_cat5 (Dense)      (None, 146)          74898       covertype_dec_dense9[0][0]       \n",
      "__________________________________________________________________________________________________\n",
      "covertype_rec_cat6 (Dense)      (None, 256)          131328      covertype_dec_dense9[0][0]       \n",
      "__________________________________________________________________________________________________\n",
      "covertype_rec_cat7 (Dense)      (None, 64)           32832       covertype_dec_dense9[0][0]       \n",
      "__________________________________________________________________________________________________\n",
      "covertype_rec_cat8 (Dense)      (None, 54)           27702       covertype_dec_dense9[0][0]       \n",
      "__________________________________________________________________________________________________\n",
      "covertype_rec_cat9 (Dense)      (None, 85)           43605       covertype_dec_dense9[0][0]       \n",
      "__________________________________________________________________________________________________\n",
      "covertype_rec_cat10 (Dense)     (None, 256)          131328      covertype_dec_dense9[0][0]       \n",
      "__________________________________________________________________________________________________\n",
      "covertype_cls (Functional)      (None, 7)            20487       covertype_z[0][0]                \n",
      "__________________________________________________________________________________________________\n",
      "covertype_bernoulli (Independen multiple             0           covertype_rec_binary[0][0]       \n",
      "__________________________________________________________________________________________________\n",
      "covertype_categorical1 (OneHotC multiple             0           covertype_rec_cat1[0][0]         \n",
      "__________________________________________________________________________________________________\n",
      "covertype_categorical2 (OneHotC multiple             0           covertype_rec_cat2[0][0]         \n",
      "__________________________________________________________________________________________________\n",
      "covertype_categorical3 (OneHotC multiple             0           covertype_rec_cat3[0][0]         \n",
      "__________________________________________________________________________________________________\n",
      "covertype_categorical4 (OneHotC multiple             0           covertype_rec_cat4[0][0]         \n",
      "__________________________________________________________________________________________________\n",
      "covertype_categorical5 (OneHotC multiple             0           covertype_rec_cat5[0][0]         \n",
      "__________________________________________________________________________________________________\n",
      "covertype_categorical6 (OneHotC multiple             0           covertype_rec_cat6[0][0]         \n",
      "__________________________________________________________________________________________________\n",
      "covertype_categorical7 (OneHotC multiple             0           covertype_rec_cat7[0][0]         \n",
      "__________________________________________________________________________________________________\n",
      "covertype_categorical8 (OneHotC multiple             0           covertype_rec_cat8[0][0]         \n",
      "__________________________________________________________________________________________________\n",
      "covertype_categorical9 (OneHotC multiple             0           covertype_rec_cat9[0][0]         \n",
      "__________________________________________________________________________________________________\n",
      "covertype_categorical10 (OneHot multiple             0           covertype_rec_cat10[0][0]        \n",
      "==================================================================================================\n",
      "Total params: 5,024,201\n",
      "Trainable params: 5,024,201\n",
      "Non-trainable params: 0\n",
      "__________________________________________________________________________________________________\n"
     ]
    }
   ],
   "source": [
    "trainable_nn.summary()"
   ]
  },
  {
   "cell_type": "code",
   "execution_count": 40,
   "metadata": {
    "id": "5F-mTtjB5WrP"
   },
   "outputs": [],
   "source": [
    "nn_fname = 'covertype_united.h5'"
   ]
  },
  {
   "cell_type": "code",
   "execution_count": 41,
   "metadata": {
    "id": "CkUNeVkB4ysG"
   },
   "outputs": [],
   "source": [
    "callbacks = [\n",
    "    tf.keras.callbacks.EarlyStopping(\n",
    "        monitor=\"val_loss\",\n",
    "        patience=ES_PATIENCE,\n",
    "        mode=\"min\",\n",
    "        restore_best_weights=False\n",
    "    ),\n",
    "    tf.keras.callbacks.ModelCheckpoint(\n",
    "        filepath=nn_fname,\n",
    "        monitor=\"val_loss\",\n",
    "        mode=\"min\",\n",
    "        save_best_only=True,\n",
    "        save_weights_only=True\n",
    "    )\n",
    "]"
   ]
  },
  {
   "cell_type": "code",
   "execution_count": 42,
   "metadata": {
    "id": "P5yO4Kj-5n_g"
   },
   "outputs": [
    {
     "name": "stdout",
     "output_type": "stream",
     "text": [
      "Epoch 1/1000\n",
      "129/129 [==============================] - 43s 214ms/step - loss: 35.3418 - covertype_cls_loss: 1.7408 - covertype_bernoulli_loss: 16.7267 - covertype_categorical1_loss: 5.8998 - covertype_categorical2_loss: 5.2521 - covertype_categorical3_loss: 3.2562 - covertype_categorical4_loss: 4.8951 - covertype_categorical5_loss: 5.2592 - covertype_categorical6_loss: 6.0318 - covertype_categorical7_loss: 4.4853 - covertype_categorical8_loss: 4.3424 - covertype_categorical9_loss: 4.8388 - covertype_categorical10_loss: 6.0421 - covertype_cls_categorical_accuracy: 0.3833 - val_loss: 28.7587 - val_covertype_cls_loss: 1.6694 - val_covertype_bernoulli_loss: 4.5468 - val_covertype_categorical1_loss: 5.9907 - val_covertype_categorical2_loss: 5.1057 - val_covertype_categorical3_loss: 3.0205 - val_covertype_categorical4_loss: 4.8026 - val_covertype_categorical5_loss: 5.1850 - val_covertype_categorical6_loss: 6.0103 - val_covertype_categorical7_loss: 4.4360 - val_covertype_categorical8_loss: 4.1806 - val_covertype_categorical9_loss: 4.6815 - val_covertype_categorical10_loss: 5.9993 - val_covertype_cls_categorical_accuracy: 0.3838ertype_categorical4_loss: 5.0394 - covertype_categorical5_loss: 5.3572 - covertype_categorical6_loss: 6.0724 - covertype_categorical7_loss: 4.5481 - covertype_categorical8_loss: 4.4242 - covertype_categorical9_loss: 4.9178 - covertype_categorical10_loss: 6.0744 - covertype_cls_cate - ETA: 3s - loss: 36.6076 - covertype_cls_loss: 1.8145 - covertype_bernoulli_loss: 18.7243 - covertype_categorical1_loss: 5.9641 - covertype_categorical2_loss: 5.2724 - covertype_categorical3_loss: 3.3111 - covertype_categorical4_loss: 4.9584 - covertype_categorical5_loss: 5.3026 - covertype_categorical6_loss: 6.0567 - covertype_categorical7_loss: 4.5164 - covertype_categorical8_loss: 4.3794 - covertype_categorical9_loss: 4.8777 - covertype_categorical10_loss: 6.0615 - covertype_cls_categoric\n",
      "Epoch 2/1000\n",
      "129/129 [==============================] - 27s 205ms/step - loss: 25.0994 - covertype_cls_loss: 1.0773 - covertype_bernoulli_loss: 2.5664 - covertype_categorical1_loss: 5.0081 - covertype_categorical2_loss: 4.8941 - covertype_categorical3_loss: 2.7103 - covertype_categorical4_loss: 4.2272 - covertype_categorical5_loss: 4.7626 - covertype_categorical6_loss: 5.6090 - covertype_categorical7_loss: 4.0379 - covertype_categorical8_loss: 3.9232 - covertype_categorical9_loss: 4.3472 - covertype_categorical10_loss: 5.6769 - covertype_cls_categorical_accuracy: 0.6299 - val_loss: 25.5352 - val_covertype_cls_loss: 1.2278 - val_covertype_bernoulli_loss: 1.9771 - val_covertype_categorical1_loss: 5.6963 - val_covertype_categorical2_loss: 4.8150 - val_covertype_categorical3_loss: 2.6881 - val_covertype_categorical4_loss: 4.4854 - val_covertype_categorical5_loss: 4.8969 - val_covertype_categorical6_loss: 5.7266 - val_covertype_categorical7_loss: 4.0494 - val_covertype_categorical8_loss: 3.8962 - val_covertype_categorical9_loss: 4.3650 - val_covertype_categorical10_loss: 5.7431 - val_covertype_cls_categorical_accuracy: 0.5430\n",
      "Epoch 3/1000\n",
      "129/129 [==============================] - 26s 201ms/step - loss: 22.9664 - covertype_cls_loss: 0.9295 - covertype_bernoulli_loss: 1.3361 - covertype_categorical1_loss: 4.5645 - covertype_categorical2_loss: 4.6108 - covertype_categorical3_loss: 2.3753 - covertype_categorical4_loss: 4.0233 - covertype_categorical5_loss: 4.5875 - covertype_categorical6_loss: 5.3921 - covertype_categorical7_loss: 3.7025 - covertype_categorical8_loss: 3.6693 - covertype_categorical9_loss: 3.9985 - covertype_categorical10_loss: 5.4917 - covertype_cls_categorical_accuracy: 0.6862 - val_loss: 23.9758 - val_covertype_cls_loss: 1.1101 - val_covertype_bernoulli_loss: 1.2528 - val_covertype_categorical1_loss: 5.5063 - val_covertype_categorical2_loss: 4.5095 - val_covertype_categorical3_loss: 2.3888 - val_covertype_categorical4_loss: 4.3494 - val_covertype_categorical5_loss: 4.7793 - val_covertype_categorical6_loss: 5.6158 - val_covertype_categorical7_loss: 3.7094 - val_covertype_categorical8_loss: 3.6501 - val_covertype_categorical9_loss: 3.9992 - val_covertype_categorical10_loss: 5.6550 - val_covertype_cls_categorical_accuracy: 0.5803\n",
      "Epoch 4/1000\n",
      "129/129 [==============================] - 26s 201ms/step - loss: 21.4486 - covertype_cls_loss: 0.8573 - covertype_bernoulli_loss: 0.8944 - covertype_categorical1_loss: 4.2971 - covertype_categorical2_loss: 4.2074 - covertype_categorical3_loss: 2.1110 - covertype_categorical4_loss: 3.8589 - covertype_categorical5_loss: 4.4543 - covertype_categorical6_loss: 5.2609 - covertype_categorical7_loss: 3.3659 - covertype_categorical8_loss: 3.3991 - covertype_categorical9_loss: 3.5995 - covertype_categorical10_loss: 5.3880 - covertype_cls_categorical_accuracy: 0.7188 - val_loss: 22.6702 - val_covertype_cls_loss: 1.0499 - val_covertype_bernoulli_loss: 0.9222 - val_covertype_categorical1_loss: 5.3367 - val_covertype_categorical2_loss: 4.0957 - val_covertype_categorical3_loss: 2.1722 - val_covertype_categorical4_loss: 4.1948 - val_covertype_categorical5_loss: 4.6542 - val_covertype_categorical6_loss: 5.5376 - val_covertype_categorical7_loss: 3.3921 - val_covertype_categorical8_loss: 3.3810 - val_covertype_categorical9_loss: 3.6243 - val_covertype_categorical10_loss: 5.5846 - val_covertype_cls_categorical_accuracy: 0.6103\n",
      "Epoch 5/1000\n",
      "129/129 [==============================] - 26s 205ms/step - loss: 20.1098 - covertype_cls_loss: 0.8085 - covertype_bernoulli_loss: 0.6633 - covertype_categorical1_loss: 4.0705 - covertype_categorical2_loss: 3.7509 - covertype_categorical3_loss: 1.9142 - covertype_categorical4_loss: 3.6723 - covertype_categorical5_loss: 4.3010 - covertype_categorical6_loss: 5.1368 - covertype_categorical7_loss: 3.0562 - covertype_categorical8_loss: 3.1203 - covertype_categorical9_loss: 3.2605 - covertype_categorical10_loss: 5.2917 - covertype_cls_categorical_accuracy: 0.7449 - val_loss: 21.4122 - val_covertype_cls_loss: 1.0087 - val_covertype_bernoulli_loss: 0.7149 - val_covertype_categorical1_loss: 5.1690 - val_covertype_categorical2_loss: 3.6314 - val_covertype_categorical3_loss: 1.9723 - val_covertype_categorical4_loss: 3.9951 - val_covertype_categorical5_loss: 4.5036 - val_covertype_categorical6_loss: 5.4443 - val_covertype_categorical7_loss: 3.0774 - val_covertype_categorical8_loss: 3.0898 - val_covertype_categorical9_loss: 3.3095 - val_covertype_categorical10_loss: 5.5279 - val_covertype_cls_categorical_accuracy: 0.6318\n",
      "Epoch 6/1000\n",
      "129/129 [==============================] - 25s 190ms/step - loss: 18.8841 - covertype_cls_loss: 0.7765 - covertype_bernoulli_loss: 0.5109 - covertype_categorical1_loss: 3.8813 - covertype_categorical2_loss: 3.3163 - covertype_categorical3_loss: 1.7172 - covertype_categorical4_loss: 3.4691 - covertype_categorical5_loss: 4.1266 - covertype_categorical6_loss: 5.0182 - covertype_categorical7_loss: 2.7666 - covertype_categorical8_loss: 2.8359 - covertype_categorical9_loss: 2.9841 - covertype_categorical10_loss: 5.2048 - covertype_cls_categorical_accuracy: 0.7609 - val_loss: 20.3030 - val_covertype_cls_loss: 0.9874 - val_covertype_bernoulli_loss: 0.5767 - val_covertype_categorical1_loss: 5.0263 - val_covertype_categorical2_loss: 3.2305 - val_covertype_categorical3_loss: 1.7708 - val_covertype_categorical4_loss: 3.7965 - val_covertype_categorical5_loss: 4.3536 - val_covertype_categorical6_loss: 5.3471 - val_covertype_categorical7_loss: 2.8041 - val_covertype_categorical8_loss: 2.8092 - val_covertype_categorical9_loss: 3.0534 - val_covertype_categorical10_loss: 5.4683 - val_covertype_cls_categorical_accuracy: 0.6394\n",
      "Epoch 7/1000\n",
      "129/129 [==============================] - 25s 195ms/step - loss: 17.7778 - covertype_cls_loss: 0.7494 - covertype_bernoulli_loss: 0.4074 - covertype_categorical1_loss: 3.7243 - covertype_categorical2_loss: 2.9521 - covertype_categorical3_loss: 1.5151 - covertype_categorical4_loss: 3.2717 - covertype_categorical5_loss: 3.9578 - covertype_categorical6_loss: 4.8959 - covertype_categorical7_loss: 2.5118 - covertype_categorical8_loss: 2.5599 - covertype_categorical9_loss: 2.7396 - covertype_categorical10_loss: 5.1148 - covertype_cls_categorical_accuracy: 0.7760 - val_loss: 19.2957 - val_covertype_cls_loss: 0.9635 - val_covertype_bernoulli_loss: 0.4717 - val_covertype_categorical1_loss: 4.8826 - val_covertype_categorical2_loss: 2.9028 - val_covertype_categorical3_loss: 1.5605 - val_covertype_categorical4_loss: 3.6062 - val_covertype_categorical5_loss: 4.2360 - val_covertype_categorical6_loss: 5.2486 - val_covertype_categorical7_loss: 2.5685 - val_covertype_categorical8_loss: 2.5406 - val_covertype_categorical9_loss: 2.8193 - val_covertype_categorical10_loss: 5.4058 - val_covertype_cls_categorical_accuracy: 0.6542rical3_loss: 1.5298 - covertype_categorical4_loss: 3.2853 - covertype_categorical5_loss: 3.9684 - covertype_categorical6_loss: 4.9039 - covertype_categorical7_loss: 2.5291 - covertype_categorical8_loss: 2.5794 - covertype_categorical9_loss: 2.7571 - covertype_categorical10_loss: 5.1215 - co\n",
      "Epoch 8/1000\n",
      "129/129 [==============================] - 27s 206ms/step - loss: 16.8552 - covertype_cls_loss: 0.7279 - covertype_bernoulli_loss: 0.3338 - covertype_categorical1_loss: 3.5876 - covertype_categorical2_loss: 2.6650 - covertype_categorical3_loss: 1.3230 - covertype_categorical4_loss: 3.1182 - covertype_categorical5_loss: 3.8437 - covertype_categorical6_loss: 4.7902 - covertype_categorical7_loss: 2.2919 - covertype_categorical8_loss: 2.3213 - covertype_categorical9_loss: 2.5257 - covertype_categorical10_loss: 5.0256 - covertype_cls_categorical_accuracy: 0.7873 - val_loss: 18.4204 - val_covertype_cls_loss: 0.9425 - val_covertype_bernoulli_loss: 0.4053 - val_covertype_categorical1_loss: 4.7444 - val_covertype_categorical2_loss: 2.6343 - val_covertype_categorical3_loss: 1.3708 - val_covertype_categorical4_loss: 3.4513 - val_covertype_categorical5_loss: 4.1403 - val_covertype_categorical6_loss: 5.1651 - val_covertype_categorical7_loss: 2.3468 - val_covertype_categorical8_loss: 2.3092 - val_covertype_categorical9_loss: 2.6149 - val_covertype_categorical10_loss: 5.3303 - val_covertype_cls_categorical_accuracy: 0.6681\n",
      "Epoch 9/1000\n",
      "129/129 [==============================] - 25s 197ms/step - loss: 16.1536 - covertype_cls_loss: 0.7122 - covertype_bernoulli_loss: 0.2860 - covertype_categorical1_loss: 3.4840 - covertype_categorical2_loss: 2.4547 - covertype_categorical3_loss: 1.1687 - covertype_categorical4_loss: 3.0010 - covertype_categorical5_loss: 3.7702 - covertype_categorical6_loss: 4.7044 - covertype_categorical7_loss: 2.1165 - covertype_categorical8_loss: 2.1329 - covertype_categorical9_loss: 2.3574 - covertype_categorical10_loss: 4.9601 - covertype_cls_categorical_accuracy: 0.7961 - val_loss: 17.8996 - val_covertype_cls_loss: 0.9323 - val_covertype_bernoulli_loss: 0.3588 - val_covertype_categorical1_loss: 4.6684 - val_covertype_categorical2_loss: 2.4665 - val_covertype_categorical3_loss: 1.2340 - val_covertype_categorical4_loss: 3.3730 - val_covertype_categorical5_loss: 4.1257 - val_covertype_categorical6_loss: 5.1262 - val_covertype_categorical7_loss: 2.1977 - val_covertype_categorical8_loss: 2.1462 - val_covertype_categorical9_loss: 2.4774 - val_covertype_categorical10_loss: 5.3008 - val_covertype_cls_categorical_accuracy: 0.6712: 3.4933 - covertype_categorical2_loss: 2.4764 - covertype_categorical3_loss: 1.1837 - covertype_categorical4_loss: 3.0130 - covertype_categorical5_loss: 3.7772 - covertype_categorical6_loss: 4.7156 - covertype_categorical7_loss: 2.1349 - covertype_categorical8_loss: 2.1520 - covertype_categorical9_loss: 2.3770 - covertype_categorical\n",
      "Epoch 10/1000\n",
      "129/129 [==============================] - 26s 202ms/step - loss: 15.6179 - covertype_cls_loss: 0.6982 - covertype_bernoulli_loss: 0.2503 - covertype_categorical1_loss: 3.4052 - covertype_categorical2_loss: 2.2966 - covertype_categorical3_loss: 1.0525 - covertype_categorical4_loss: 2.9334 - covertype_categorical5_loss: 3.7254 - covertype_categorical6_loss: 4.6281 - covertype_categorical7_loss: 1.9768 - covertype_categorical8_loss: 1.9917 - covertype_categorical9_loss: 2.2174 - covertype_categorical10_loss: 4.9003 - covertype_cls_categorical_accuracy: 0.8036 - val_loss: 17.2900 - val_covertype_cls_loss: 0.9137 - val_covertype_bernoulli_loss: 0.3170 - val_covertype_categorical1_loss: 4.5697 - val_covertype_categorical2_loss: 2.3048 - val_covertype_categorical3_loss: 1.1076 - val_covertype_categorical4_loss: 3.3011 - val_covertype_categorical5_loss: 4.0520 - val_covertype_categorical6_loss: 5.0312 - val_covertype_categorical7_loss: 2.0542 - val_covertype_categorical8_loss: 2.0000 - val_covertype_categorical9_loss: 2.3279 - val_covertype_categorical10_loss: 5.2147 - val_covertype_cls_categorical_accuracy: 0.6862\n",
      "Epoch 11/1000\n",
      "129/129 [==============================] - 26s 205ms/step - loss: 15.2108 - covertype_cls_loss: 0.6867 - covertype_bernoulli_loss: 0.2266 - covertype_categorical1_loss: 3.3422 - covertype_categorical2_loss: 2.1800 - covertype_categorical3_loss: 0.9576 - covertype_categorical4_loss: 2.8921 - covertype_categorical5_loss: 3.6914 - covertype_categorical6_loss: 4.5628 - covertype_categorical7_loss: 1.8740 - covertype_categorical8_loss: 1.8806 - covertype_categorical9_loss: 2.1148 - covertype_categorical10_loss: 4.8550 - covertype_cls_categorical_accuracy: 0.8100 - val_loss: 17.0930 - val_covertype_cls_loss: 0.8995 - val_covertype_bernoulli_loss: 0.2928 - val_covertype_categorical1_loss: 4.5539 - val_covertype_categorical2_loss: 2.2303 - val_covertype_categorical3_loss: 1.0325 - val_covertype_categorical4_loss: 3.3012 - val_covertype_categorical5_loss: 4.0726 - val_covertype_categorical6_loss: 5.0428 - val_covertype_categorical7_loss: 1.9880 - val_covertype_categorical8_loss: 1.9180 - val_covertype_categorical9_loss: 2.2565 - val_covertype_categorical10_loss: 5.2176 - val_covertype_cls_categorical_accuracy: 0.6945\n",
      "Epoch 12/1000\n",
      "129/129 [==============================] - 26s 202ms/step - loss: 14.8992 - covertype_cls_loss: 0.6774 - covertype_bernoulli_loss: 0.2091 - covertype_categorical1_loss: 3.2838 - covertype_categorical2_loss: 2.1025 - covertype_categorical3_loss: 0.8919 - covertype_categorical4_loss: 2.8460 - covertype_categorical5_loss: 3.6667 - covertype_categorical6_loss: 4.5028 - covertype_categorical7_loss: 1.8026 - covertype_categorical8_loss: 1.8007 - covertype_categorical9_loss: 2.0454 - covertype_categorical10_loss: 4.8135 - covertype_cls_categorical_accuracy: 0.8145 - val_loss: 16.6088 - val_covertype_cls_loss: 0.8893 - val_covertype_bernoulli_loss: 0.2734 - val_covertype_categorical1_loss: 4.4558 - val_covertype_categorical2_loss: 2.1214 - val_covertype_categorical3_loss: 0.9471 - val_covertype_categorical4_loss: 3.2106 - val_covertype_categorical5_loss: 4.0012 - val_covertype_categorical6_loss: 4.9323 - val_covertype_categorical7_loss: 1.8880 - val_covertype_categorical8_loss: 1.8265 - val_covertype_categorical9_loss: 2.1646 - val_covertype_categorical10_loss: 5.1322 - val_covertype_cls_categorical_accuracy: 0.6989\n",
      "Epoch 13/1000\n",
      "129/129 [==============================] - 25s 196ms/step - loss: 14.6034 - covertype_cls_loss: 0.6674 - covertype_bernoulli_loss: 0.1957 - covertype_categorical1_loss: 3.2343 - covertype_categorical2_loss: 2.0196 - covertype_categorical3_loss: 0.8292 - covertype_categorical4_loss: 2.8260 - covertype_categorical5_loss: 3.6367 - covertype_categorical6_loss: 4.4461 - covertype_categorical7_loss: 1.7280 - covertype_categorical8_loss: 1.7279 - covertype_categorical9_loss: 1.9745 - covertype_categorical10_loss: 4.7697 - covertype_cls_categorical_accuracy: 0.8205 - val_loss: 16.5135 - val_covertype_cls_loss: 0.8739 - val_covertype_bernoulli_loss: 0.2613 - val_covertype_categorical1_loss: 4.4848 - val_covertype_categorical2_loss: 2.0770 - val_covertype_categorical3_loss: 0.8973 - val_covertype_categorical4_loss: 3.2125 - val_covertype_categorical5_loss: 4.0059 - val_covertype_categorical6_loss: 4.9579 - val_covertype_categorical7_loss: 1.8476 - val_covertype_categorical8_loss: 1.7686 - val_covertype_categorical9_loss: 2.1199 - val_covertype_categorical10_loss: 5.1535 - val_covertype_cls_categorical_accuracy: 0.7070\n"
     ]
    },
    {
     "name": "stdout",
     "output_type": "stream",
     "text": [
      "Epoch 14/1000\n",
      "129/129 [==============================] - 26s 199ms/step - loss: 14.3769 - covertype_cls_loss: 0.6575 - covertype_bernoulli_loss: 0.1853 - covertype_categorical1_loss: 3.1987 - covertype_categorical2_loss: 1.9652 - covertype_categorical3_loss: 0.7830 - covertype_categorical4_loss: 2.8041 - covertype_categorical5_loss: 3.6176 - covertype_categorical6_loss: 4.3941 - covertype_categorical7_loss: 1.6788 - covertype_categorical8_loss: 1.6695 - covertype_categorical9_loss: 1.9232 - covertype_categorical10_loss: 4.7307 - covertype_cls_categorical_accuracy: 0.8260 - val_loss: 16.1163 - val_covertype_cls_loss: 0.8701 - val_covertype_bernoulli_loss: 0.2469 - val_covertype_categorical1_loss: 4.3802 - val_covertype_categorical2_loss: 2.0078 - val_covertype_categorical3_loss: 0.8318 - val_covertype_categorical4_loss: 3.1518 - val_covertype_categorical5_loss: 3.9482 - val_covertype_categorical6_loss: 4.8440 - val_covertype_categorical7_loss: 1.7764 - val_covertype_categorical8_loss: 1.7053 - val_covertype_categorical9_loss: 2.0481 - val_covertype_categorical10_loss: 5.0571 - val_covertype_cls_categorical_accuracy: 0.7089\n",
      "Epoch 15/1000\n",
      "129/129 [==============================] - 25s 196ms/step - loss: 14.1583 - covertype_cls_loss: 0.6499 - covertype_bernoulli_loss: 0.1773 - covertype_categorical1_loss: 3.1587 - covertype_categorical2_loss: 1.9152 - covertype_categorical3_loss: 0.7403 - covertype_categorical4_loss: 2.7629 - covertype_categorical5_loss: 3.5954 - covertype_categorical6_loss: 4.3480 - covertype_categorical7_loss: 1.6315 - covertype_categorical8_loss: 1.6253 - covertype_categorical9_loss: 1.8785 - covertype_categorical10_loss: 4.6900 - covertype_cls_categorical_accuracy: 0.8300 - val_loss: 16.1609 - val_covertype_cls_loss: 0.8630 - val_covertype_bernoulli_loss: 0.2447 - val_covertype_categorical1_loss: 4.4327 - val_covertype_categorical2_loss: 1.9891 - val_covertype_categorical3_loss: 0.8073 - val_covertype_categorical4_loss: 3.1868 - val_covertype_categorical5_loss: 3.9944 - val_covertype_categorical6_loss: 4.8705 - val_covertype_categorical7_loss: 1.7534 - val_covertype_categorical8_loss: 1.6895 - val_covertype_categorical9_loss: 2.0365 - val_covertype_categorical10_loss: 5.0939 - val_covertype_cls_categorical_accuracy: 0.7139\n",
      "Epoch 16/1000\n",
      "129/129 [==============================] - 23s 181ms/step - loss: 13.9879 - covertype_cls_loss: 0.6430 - covertype_bernoulli_loss: 0.1698 - covertype_categorical1_loss: 3.1319 - covertype_categorical2_loss: 1.8793 - covertype_categorical3_loss: 0.7121 - covertype_categorical4_loss: 2.7455 - covertype_categorical5_loss: 3.5703 - covertype_categorical6_loss: 4.3046 - covertype_categorical7_loss: 1.5991 - covertype_categorical8_loss: 1.5879 - covertype_categorical9_loss: 1.8448 - covertype_categorical10_loss: 4.6488 - covertype_cls_categorical_accuracy: 0.8338 - val_loss: 15.7485 - val_covertype_cls_loss: 0.8529 - val_covertype_bernoulli_loss: 0.2276 - val_covertype_categorical1_loss: 4.3317 - val_covertype_categorical2_loss: 1.9181 - val_covertype_categorical3_loss: 0.7548 - val_covertype_categorical4_loss: 3.1032 - val_covertype_categorical5_loss: 3.9086 - val_covertype_categorical6_loss: 4.7702 - val_covertype_categorical7_loss: 1.6936 - val_covertype_categorical8_loss: 1.6232 - val_covertype_categorical9_loss: 1.9674 - val_covertype_categorical10_loss: 4.9919 - val_covertype_cls_categorical_accuracy: 0.7171\n",
      "Epoch 17/1000\n",
      "129/129 [==============================] - 24s 183ms/step - loss: 13.8278 - covertype_cls_loss: 0.6346 - covertype_bernoulli_loss: 0.1632 - covertype_categorical1_loss: 3.0993 - covertype_categorical2_loss: 1.8534 - covertype_categorical3_loss: 0.6923 - covertype_categorical4_loss: 2.7123 - covertype_categorical5_loss: 3.5409 - covertype_categorical6_loss: 4.2626 - covertype_categorical7_loss: 1.5729 - covertype_categorical8_loss: 1.5567 - covertype_categorical9_loss: 1.8213 - covertype_categorical10_loss: 4.6128 - covertype_cls_categorical_accuracy: 0.8377 - val_loss: 15.8366 - val_covertype_cls_loss: 0.8454 - val_covertype_bernoulli_loss: 0.2285 - val_covertype_categorical1_loss: 4.3940 - val_covertype_categorical2_loss: 1.9153 - val_covertype_categorical3_loss: 0.7788 - val_covertype_categorical4_loss: 3.1318 - val_covertype_categorical5_loss: 3.9407 - val_covertype_categorical6_loss: 4.8071 - val_covertype_categorical7_loss: 1.6874 - val_covertype_categorical8_loss: 1.6238 - val_covertype_categorical9_loss: 1.9559 - val_covertype_categorical10_loss: 5.0170 - val_covertype_cls_categorical_accuracy: 0.7212\n",
      "Epoch 18/1000\n",
      "129/129 [==============================] - 25s 195ms/step - loss: 13.6610 - covertype_cls_loss: 0.6277 - covertype_bernoulli_loss: 0.1581 - covertype_categorical1_loss: 3.0747 - covertype_categorical2_loss: 1.8177 - covertype_categorical3_loss: 0.6547 - covertype_categorical4_loss: 2.6874 - covertype_categorical5_loss: 3.5245 - covertype_categorical6_loss: 4.2244 - covertype_categorical7_loss: 1.5399 - covertype_categorical8_loss: 1.5241 - covertype_categorical9_loss: 1.7859 - covertype_categorical10_loss: 4.5736 - covertype_cls_categorical_accuracy: 0.8421 - val_loss: 15.4566 - val_covertype_cls_loss: 0.8407 - val_covertype_bernoulli_loss: 0.2159 - val_covertype_categorical1_loss: 4.2842 - val_covertype_categorical2_loss: 1.8507 - val_covertype_categorical3_loss: 0.6980 - val_covertype_categorical4_loss: 3.0680 - val_covertype_categorical5_loss: 3.8726 - val_covertype_categorical6_loss: 4.7026 - val_covertype_categorical7_loss: 1.6375 - val_covertype_categorical8_loss: 1.5534 - val_covertype_categorical9_loss: 1.9104 - val_covertype_categorical10_loss: 4.9344 - val_covertype_cls_categorical_accuracy: 0.7251\n",
      "Epoch 19/1000\n",
      "129/129 [==============================] - 23s 181ms/step - loss: 13.5140 - covertype_cls_loss: 0.6223 - covertype_bernoulli_loss: 0.1531 - covertype_categorical1_loss: 3.0466 - covertype_categorical2_loss: 1.7809 - covertype_categorical3_loss: 0.6351 - covertype_categorical4_loss: 2.6775 - covertype_categorical5_loss: 3.5088 - covertype_categorical6_loss: 4.1876 - covertype_categorical7_loss: 1.5068 - covertype_categorical8_loss: 1.4890 - covertype_categorical9_loss: 1.7545 - covertype_categorical10_loss: 4.5395 - covertype_cls_categorical_accuracy: 0.8443 - val_loss: 15.5663 - val_covertype_cls_loss: 0.8228 - val_covertype_bernoulli_loss: 0.2223 - val_covertype_categorical1_loss: 4.3505 - val_covertype_categorical2_loss: 1.8806 - val_covertype_categorical3_loss: 0.7096 - val_covertype_categorical4_loss: 3.0964 - val_covertype_categorical5_loss: 3.8971 - val_covertype_categorical6_loss: 4.7328 - val_covertype_categorical7_loss: 1.6512 - val_covertype_categorical8_loss: 1.5677 - val_covertype_categorical9_loss: 1.9227 - val_covertype_categorical10_loss: 4.9511 - val_covertype_cls_categorical_accuracy: 0.7359\n",
      "Epoch 20/1000\n",
      "129/129 [==============================] - 23s 180ms/step - loss: 13.3832 - covertype_cls_loss: 0.6157 - covertype_bernoulli_loss: 0.1497 - covertype_categorical1_loss: 3.0278 - covertype_categorical2_loss: 1.7581 - covertype_categorical3_loss: 0.6162 - covertype_categorical4_loss: 2.6603 - covertype_categorical5_loss: 3.4871 - covertype_categorical6_loss: 4.1524 - covertype_categorical7_loss: 1.4821 - covertype_categorical8_loss: 1.4655 - covertype_categorical9_loss: 1.7329 - covertype_categorical10_loss: 4.4986 - covertype_cls_categorical_accuracy: 0.8482 - val_loss: 15.2030 - val_covertype_cls_loss: 0.8233 - val_covertype_bernoulli_loss: 0.2068 - val_covertype_categorical1_loss: 4.2548 - val_covertype_categorical2_loss: 1.8132 - val_covertype_categorical3_loss: 0.6631 - val_covertype_categorical4_loss: 3.0331 - val_covertype_categorical5_loss: 3.8345 - val_covertype_categorical6_loss: 4.6391 - val_covertype_categorical7_loss: 1.5837 - val_covertype_categorical8_loss: 1.5005 - val_covertype_categorical9_loss: 1.8590 - val_covertype_categorical10_loss: 4.8654 - val_covertype_cls_categorical_accuracy: 0.7339\n",
      "Epoch 21/1000\n",
      "129/129 [==============================] - 23s 181ms/step - loss: 13.2462 - covertype_cls_loss: 0.6110 - covertype_bernoulli_loss: 0.1453 - covertype_categorical1_loss: 3.0048 - covertype_categorical2_loss: 1.7347 - covertype_categorical3_loss: 0.5957 - covertype_categorical4_loss: 2.6315 - covertype_categorical5_loss: 3.4605 - covertype_categorical6_loss: 4.1188 - covertype_categorical7_loss: 1.4584 - covertype_categorical8_loss: 1.4438 - covertype_categorical9_loss: 1.7050 - covertype_categorical10_loss: 4.4648 - covertype_cls_categorical_accuracy: 0.8504 - val_loss: 15.3021 - val_covertype_cls_loss: 0.8187 - val_covertype_bernoulli_loss: 0.2038 - val_covertype_categorical1_loss: 4.3129 - val_covertype_categorical2_loss: 1.8279 - val_covertype_categorical3_loss: 0.6602 - val_covertype_categorical4_loss: 3.0491 - val_covertype_categorical5_loss: 3.8617 - val_covertype_categorical6_loss: 4.6591 - val_covertype_categorical7_loss: 1.6071 - val_covertype_categorical8_loss: 1.5163 - val_covertype_categorical9_loss: 1.8758 - val_covertype_categorical10_loss: 4.8861 - val_covertype_cls_categorical_accuracy: 0.7358\n",
      "Epoch 22/1000\n",
      "129/129 [==============================] - 24s 185ms/step - loss: 13.1619 - covertype_cls_loss: 0.6048 - covertype_bernoulli_loss: 0.1412 - covertype_categorical1_loss: 2.9892 - covertype_categorical2_loss: 1.7210 - covertype_categorical3_loss: 0.5889 - covertype_categorical4_loss: 2.6252 - covertype_categorical5_loss: 3.4560 - covertype_categorical6_loss: 4.0839 - covertype_categorical7_loss: 1.4465 - covertype_categorical8_loss: 1.4331 - covertype_categorical9_loss: 1.6921 - covertype_categorical10_loss: 4.4300 - covertype_cls_categorical_accuracy: 0.8540 - val_loss: 14.9619 - val_covertype_cls_loss: 0.8133 - val_covertype_bernoulli_loss: 0.1980 - val_covertype_categorical1_loss: 4.2258 - val_covertype_categorical2_loss: 1.7616 - val_covertype_categorical3_loss: 0.6173 - val_covertype_categorical4_loss: 2.9997 - val_covertype_categorical5_loss: 3.7848 - val_covertype_categorical6_loss: 4.5711 - val_covertype_categorical7_loss: 1.5472 - val_covertype_categorical8_loss: 1.4611 - val_covertype_categorical9_loss: 1.8275 - val_covertype_categorical10_loss: 4.7945 - val_covertype_cls_categorical_accuracy: 0.7380\n",
      "Epoch 23/1000\n",
      "129/129 [==============================] - 25s 196ms/step - loss: 13.0197 - covertype_cls_loss: 0.6001 - covertype_bernoulli_loss: 0.1388 - covertype_categorical1_loss: 2.9661 - covertype_categorical2_loss: 1.6933 - covertype_categorical3_loss: 0.5604 - covertype_categorical4_loss: 2.5998 - covertype_categorical5_loss: 3.4350 - covertype_categorical6_loss: 4.0550 - covertype_categorical7_loss: 1.4187 - covertype_categorical8_loss: 1.4014 - covertype_categorical9_loss: 1.6692 - covertype_categorical10_loss: 4.3924 - covertype_cls_categorical_accuracy: 0.8555 - val_loss: 15.1799 - val_covertype_cls_loss: 0.8185 - val_covertype_bernoulli_loss: 0.2024 - val_covertype_categorical1_loss: 4.3013 - val_covertype_categorical2_loss: 1.8296 - val_covertype_categorical3_loss: 0.6188 - val_covertype_categorical4_loss: 3.0181 - val_covertype_categorical5_loss: 3.8200 - val_covertype_categorical6_loss: 4.6246 - val_covertype_categorical7_loss: 1.5897 - val_covertype_categorical8_loss: 1.4834 - val_covertype_categorical9_loss: 1.8832 - val_covertype_categorical10_loss: 4.8437 - val_covertype_cls_categorical_accuracy: 0.7352\n",
      "Epoch 24/1000\n",
      "129/129 [==============================] - 27s 211ms/step - loss: 12.9317 - covertype_cls_loss: 0.5954 - covertype_bernoulli_loss: 0.1359 - covertype_categorical1_loss: 2.9500 - covertype_categorical2_loss: 1.6910 - covertype_categorical3_loss: 0.5481 - covertype_categorical4_loss: 2.5753 - covertype_categorical5_loss: 3.4029 - covertype_categorical6_loss: 4.0268 - covertype_categorical7_loss: 1.4149 - covertype_categorical8_loss: 1.3942 - covertype_categorical9_loss: 1.6657 - covertype_categorical10_loss: 4.3571 - covertype_cls_categorical_accuracy: 0.8579 - val_loss: 14.7553 - val_covertype_cls_loss: 0.7997 - val_covertype_bernoulli_loss: 0.1861 - val_covertype_categorical1_loss: 4.1851 - val_covertype_categorical2_loss: 1.7334 - val_covertype_categorical3_loss: 0.5902 - val_covertype_categorical4_loss: 2.9641 - val_covertype_categorical5_loss: 3.7529 - val_covertype_categorical6_loss: 4.5191 - val_covertype_categorical7_loss: 1.5161 - val_covertype_categorical8_loss: 1.4285 - val_covertype_categorical9_loss: 1.7906 - val_covertype_categorical10_loss: 4.7358 - val_covertype_cls_categorical_accuracy: 0.7451\n",
      "Epoch 25/1000\n",
      "129/129 [==============================] - 28s 215ms/step - loss: 12.8321 - covertype_cls_loss: 0.5909 - covertype_bernoulli_loss: 0.1332 - covertype_categorical1_loss: 2.9303 - covertype_categorical2_loss: 1.6686 - covertype_categorical3_loss: 0.5386 - covertype_categorical4_loss: 2.5706 - covertype_categorical5_loss: 3.3964 - covertype_categorical6_loss: 3.9940 - covertype_categorical7_loss: 1.3982 - covertype_categorical8_loss: 1.3728 - covertype_categorical9_loss: 1.6474 - covertype_categorical10_loss: 4.3206 - covertype_cls_categorical_accuracy: 0.8607 - val_loss: 14.9728 - val_covertype_cls_loss: 0.8030 - val_covertype_bernoulli_loss: 0.1998 - val_covertype_categorical1_loss: 4.2924 - val_covertype_categorical2_loss: 1.7663 - val_covertype_categorical3_loss: 0.5964 - val_covertype_categorical4_loss: 3.0190 - val_covertype_categorical5_loss: 3.7919 - val_covertype_categorical6_loss: 4.5769 - val_covertype_categorical7_loss: 1.5501 - val_covertype_categorical8_loss: 1.4493 - val_covertype_categorical9_loss: 1.8067 - val_covertype_categorical10_loss: 4.7804 - val_covertype_cls_categorical_accuracy: 0.7435\n",
      "Epoch 26/1000\n",
      "129/129 [==============================] - 28s 213ms/step - loss: 12.7212 - covertype_cls_loss: 0.5867 - covertype_bernoulli_loss: 0.1304 - covertype_categorical1_loss: 2.9100 - covertype_categorical2_loss: 1.6587 - covertype_categorical3_loss: 0.5203 - covertype_categorical4_loss: 2.5435 - covertype_categorical5_loss: 3.3742 - covertype_categorical6_loss: 3.9624 - covertype_categorical7_loss: 1.3835 - covertype_categorical8_loss: 1.3602 - covertype_categorical9_loss: 1.6313 - covertype_categorical10_loss: 4.2816 - covertype_cls_categorical_accuracy: 0.8628 - val_loss: 14.5391 - val_covertype_cls_loss: 0.7879 - val_covertype_bernoulli_loss: 0.1817 - val_covertype_categorical1_loss: 4.1524 - val_covertype_categorical2_loss: 1.7018 - val_covertype_categorical3_loss: 0.5546 - val_covertype_categorical4_loss: 2.9289 - val_covertype_categorical5_loss: 3.7192 - val_covertype_categorical6_loss: 4.4613 - val_covertype_categorical7_loss: 1.4852 - val_covertype_categorical8_loss: 1.3858 - val_covertype_categorical9_loss: 1.7561 - val_covertype_categorical10_loss: 4.6633 - val_covertype_cls_categorical_accuracy: 0.7519type_categorical2_loss: 1.6588 - covertype_categorical3_loss: 0.5216 - covertype_categorical4_loss: 2.5447 - covertype_categorical5_loss: 3.3754 - covertype_categorical6_loss: 3.9642 - covertype_categorical7_loss: 1.3834 - covertype_categorical8_loss: 1.3610 - covertype_categorical9_loss: 1.6320 - covertype_categorical10_loss: 4.2816 - covertype_cls_categorical_ac\n",
      "Epoch 27/1000\n",
      "129/129 [==============================] - 28s 218ms/step - loss: 12.6877 - covertype_cls_loss: 0.5827 - covertype_bernoulli_loss: 0.1283 - covertype_categorical1_loss: 2.8993 - covertype_categorical2_loss: 1.6656 - covertype_categorical3_loss: 0.5126 - covertype_categorical4_loss: 2.5441 - covertype_categorical5_loss: 3.3659 - covertype_categorical6_loss: 3.9401 - covertype_categorical7_loss: 1.3901 - covertype_categorical8_loss: 1.3541 - covertype_categorical9_loss: 1.6451 - covertype_categorical10_loss: 4.2514 - covertype_cls_categorical_accuracy: 0.8645 - val_loss: 14.7812 - val_covertype_cls_loss: 0.7864 - val_covertype_bernoulli_loss: 0.1939 - val_covertype_categorical1_loss: 4.2389 - val_covertype_categorical2_loss: 1.7352 - val_covertype_categorical3_loss: 0.5908 - val_covertype_categorical4_loss: 2.9782 - val_covertype_categorical5_loss: 3.7493 - val_covertype_categorical6_loss: 4.4983 - val_covertype_categorical7_loss: 1.5238 - val_covertype_categorical8_loss: 1.4340 - val_covertype_categorical9_loss: 1.8128 - val_covertype_categorical10_loss: 4.7221 - val_covertype_cls_categorical_accuracy: 0.7524\n"
     ]
    },
    {
     "name": "stdout",
     "output_type": "stream",
     "text": [
      "Epoch 28/1000\n",
      "129/129 [==============================] - 28s 218ms/step - loss: 12.5261 - covertype_cls_loss: 0.5782 - covertype_bernoulli_loss: 0.1255 - covertype_categorical1_loss: 2.8761 - covertype_categorical2_loss: 1.6242 - covertype_categorical3_loss: 0.4967 - covertype_categorical4_loss: 2.5114 - covertype_categorical5_loss: 3.3336 - covertype_categorical6_loss: 3.9073 - covertype_categorical7_loss: 1.3551 - covertype_categorical8_loss: 1.3305 - covertype_categorical9_loss: 1.6044 - covertype_categorical10_loss: 4.2148 - covertype_cls_categorical_accuracy: 0.8668 - val_loss: 14.4232 - val_covertype_cls_loss: 0.7790 - val_covertype_bernoulli_loss: 0.1740 - val_covertype_categorical1_loss: 4.1221 - val_covertype_categorical2_loss: 1.6854 - val_covertype_categorical3_loss: 0.5936 - val_covertype_categorical4_loss: 2.9028 - val_covertype_categorical5_loss: 3.6889 - val_covertype_categorical6_loss: 4.4076 - val_covertype_categorical7_loss: 1.4835 - val_covertype_categorical8_loss: 1.3828 - val_covertype_categorical9_loss: 1.7351 - val_covertype_categorical10_loss: 4.5988 - val_covertype_cls_categorical_accuracy: 0.7558\n",
      "Epoch 29/1000\n",
      "129/129 [==============================] - 27s 210ms/step - loss: 12.4600 - covertype_cls_loss: 0.5740 - covertype_bernoulli_loss: 0.1238 - covertype_categorical1_loss: 2.8636 - covertype_categorical2_loss: 1.6248 - covertype_categorical3_loss: 0.4974 - covertype_categorical4_loss: 2.4957 - covertype_categorical5_loss: 3.3143 - covertype_categorical6_loss: 3.8788 - covertype_categorical7_loss: 1.3579 - covertype_categorical8_loss: 1.3200 - covertype_categorical9_loss: 1.6033 - covertype_categorical10_loss: 4.1765 - covertype_cls_categorical_accuracy: 0.8685 - val_loss: 14.5829 - val_covertype_cls_loss: 0.7773 - val_covertype_bernoulli_loss: 0.1786 - val_covertype_categorical1_loss: 4.2163 - val_covertype_categorical2_loss: 1.7160 - val_covertype_categorical3_loss: 0.5529 - val_covertype_categorical4_loss: 2.9281 - val_covertype_categorical5_loss: 3.7112 - val_covertype_categorical6_loss: 4.4598 - val_covertype_categorical7_loss: 1.5045 - val_covertype_categorical8_loss: 1.4259 - val_covertype_categorical9_loss: 1.7630 - val_covertype_categorical10_loss: 4.6407 - val_covertype_cls_categorical_accuracy: 0.7549\n",
      "Epoch 30/1000\n",
      "129/129 [==============================] - 28s 215ms/step - loss: 12.3770 - covertype_cls_loss: 0.5697 - covertype_bernoulli_loss: 0.1215 - covertype_categorical1_loss: 2.8452 - covertype_categorical2_loss: 1.6048 - covertype_categorical3_loss: 0.4941 - covertype_categorical4_loss: 2.4811 - covertype_categorical5_loss: 3.2983 - covertype_categorical6_loss: 3.8541 - covertype_categorical7_loss: 1.3436 - covertype_categorical8_loss: 1.3145 - covertype_categorical9_loss: 1.5934 - covertype_categorical10_loss: 4.1461 - covertype_cls_categorical_accuracy: 0.8708 - val_loss: 14.2069 - val_covertype_cls_loss: 0.7655 - val_covertype_bernoulli_loss: 0.1684 - val_covertype_categorical1_loss: 4.1004 - val_covertype_categorical2_loss: 1.6550 - val_covertype_categorical3_loss: 0.5205 - val_covertype_categorical4_loss: 2.8708 - val_covertype_categorical5_loss: 3.6497 - val_covertype_categorical6_loss: 4.3503 - val_covertype_categorical7_loss: 1.4514 - val_covertype_categorical8_loss: 1.3483 - val_covertype_categorical9_loss: 1.7207 - val_covertype_categorical10_loss: 4.5316 - val_covertype_cls_categorical_accuracy: 0.7631\n",
      "Epoch 31/1000\n",
      "129/129 [==============================] - 28s 214ms/step - loss: 12.2960 - covertype_cls_loss: 0.5662 - covertype_bernoulli_loss: 0.1189 - covertype_categorical1_loss: 2.8345 - covertype_categorical2_loss: 1.6076 - covertype_categorical3_loss: 0.4732 - covertype_categorical4_loss: 2.4645 - covertype_categorical5_loss: 3.2821 - covertype_categorical6_loss: 3.8311 - covertype_categorical7_loss: 1.3367 - covertype_categorical8_loss: 1.3019 - covertype_categorical9_loss: 1.5798 - covertype_categorical10_loss: 4.1112 - covertype_cls_categorical_accuracy: 0.8722 - val_loss: 14.4070 - val_covertype_cls_loss: 0.7729 - val_covertype_bernoulli_loss: 0.1711 - val_covertype_categorical1_loss: 4.1698 - val_covertype_categorical2_loss: 1.6966 - val_covertype_categorical3_loss: 0.5332 - val_covertype_categorical4_loss: 2.9097 - val_covertype_categorical5_loss: 3.7032 - val_covertype_categorical6_loss: 4.3872 - val_covertype_categorical7_loss: 1.4804 - val_covertype_categorical8_loss: 1.3687 - val_covertype_categorical9_loss: 1.7660 - val_covertype_categorical10_loss: 4.5671 - val_covertype_cls_categorical_accuracy: 0.7599\n",
      "Epoch 32/1000\n",
      "129/129 [==============================] - 26s 203ms/step - loss: 12.2017 - covertype_cls_loss: 0.5639 - covertype_bernoulli_loss: 0.1167 - covertype_categorical1_loss: 2.8200 - covertype_categorical2_loss: 1.5795 - covertype_categorical3_loss: 0.4695 - covertype_categorical4_loss: 2.4499 - covertype_categorical5_loss: 3.2702 - covertype_categorical6_loss: 3.8053 - covertype_categorical7_loss: 1.3145 - covertype_categorical8_loss: 1.2933 - covertype_categorical9_loss: 1.5618 - covertype_categorical10_loss: 4.0760 - covertype_cls_categorical_accuracy: 0.8736 - val_loss: 14.0286 - val_covertype_cls_loss: 0.7647 - val_covertype_bernoulli_loss: 0.1666 - val_covertype_categorical1_loss: 4.0580 - val_covertype_categorical2_loss: 1.6456 - val_covertype_categorical3_loss: 0.4916 - val_covertype_categorical4_loss: 2.8439 - val_covertype_categorical5_loss: 3.6080 - val_covertype_categorical6_loss: 4.2917 - val_covertype_categorical7_loss: 1.4347 - val_covertype_categorical8_loss: 1.3164 - val_covertype_categorical9_loss: 1.6973 - val_covertype_categorical10_loss: 4.4590 - val_covertype_cls_categorical_accuracy: 0.7634\n",
      "Epoch 33/1000\n",
      "129/129 [==============================] - 23s 174ms/step - loss: 12.1869 - covertype_cls_loss: 0.5632 - covertype_bernoulli_loss: 0.1145 - covertype_categorical1_loss: 2.8103 - covertype_categorical2_loss: 1.5858 - covertype_categorical3_loss: 0.4628 - covertype_categorical4_loss: 2.4859 - covertype_categorical5_loss: 3.2714 - covertype_categorical6_loss: 3.7826 - covertype_categorical7_loss: 1.3114 - covertype_categorical8_loss: 1.2891 - covertype_categorical9_loss: 1.5643 - covertype_categorical10_loss: 4.0499 - covertype_cls_categorical_accuracy: 0.8730 - val_loss: 14.3945 - val_covertype_cls_loss: 0.7611 - val_covertype_bernoulli_loss: 0.1755 - val_covertype_categorical1_loss: 4.1557 - val_covertype_categorical2_loss: 1.6870 - val_covertype_categorical3_loss: 0.5103 - val_covertype_categorical4_loss: 2.9610 - val_covertype_categorical5_loss: 3.7712 - val_covertype_categorical6_loss: 4.3487 - val_covertype_categorical7_loss: 1.5066 - val_covertype_categorical8_loss: 1.3572 - val_covertype_categorical9_loss: 1.7689 - val_covertype_categorical10_loss: 4.5116 - val_covertype_cls_categorical_accuracy: 0.7664\n",
      "Epoch 34/1000\n",
      "129/129 [==============================] - 26s 198ms/step - loss: 12.0198 - covertype_cls_loss: 0.5571 - covertype_bernoulli_loss: 0.1128 - covertype_categorical1_loss: 2.7820 - covertype_categorical2_loss: 1.5571 - covertype_categorical3_loss: 0.4361 - covertype_categorical4_loss: 2.4247 - covertype_categorical5_loss: 3.2314 - covertype_categorical6_loss: 3.7502 - covertype_categorical7_loss: 1.2930 - covertype_categorical8_loss: 1.2629 - covertype_categorical9_loss: 1.5448 - covertype_categorical10_loss: 4.0092 - covertype_cls_categorical_accuracy: 0.8764 - val_loss: 13.8294 - val_covertype_cls_loss: 0.7486 - val_covertype_bernoulli_loss: 0.1634 - val_covertype_categorical1_loss: 4.0268 - val_covertype_categorical2_loss: 1.6174 - val_covertype_categorical3_loss: 0.4582 - val_covertype_categorical4_loss: 2.8143 - val_covertype_categorical5_loss: 3.5687 - val_covertype_categorical6_loss: 4.2363 - val_covertype_categorical7_loss: 1.4000 - val_covertype_categorical8_loss: 1.2978 - val_covertype_categorical9_loss: 1.6734 - val_covertype_categorical10_loss: 4.3874 - val_covertype_cls_categorical_accuracy: 0.7707\n",
      "Epoch 35/1000\n",
      "129/129 [==============================] - 26s 202ms/step - loss: 11.9658 - covertype_cls_loss: 0.5548 - covertype_bernoulli_loss: 0.1102 - covertype_categorical1_loss: 2.7700 - covertype_categorical2_loss: 1.5561 - covertype_categorical3_loss: 0.4424 - covertype_categorical4_loss: 2.4017 - covertype_categorical5_loss: 3.2113 - covertype_categorical6_loss: 3.7328 - covertype_categorical7_loss: 1.2920 - covertype_categorical8_loss: 1.2632 - covertype_categorical9_loss: 1.5431 - covertype_categorical10_loss: 3.9760 - covertype_cls_categorical_accuracy: 0.8779 - val_loss: 14.0933 - val_covertype_cls_loss: 0.7528 - val_covertype_bernoulli_loss: 0.1687 - val_covertype_categorical1_loss: 4.1271 - val_covertype_categorical2_loss: 1.6472 - val_covertype_categorical3_loss: 0.5343 - val_covertype_categorical4_loss: 2.8372 - val_covertype_categorical5_loss: 3.6015 - val_covertype_categorical6_loss: 4.3008 - val_covertype_categorical7_loss: 1.4469 - val_covertype_categorical8_loss: 1.3323 - val_covertype_categorical9_loss: 1.7258 - val_covertype_categorical10_loss: 4.4390 - val_covertype_cls_categorical_accuracy: 0.7716\n",
      "Epoch 36/1000\n",
      "129/129 [==============================] - 28s 213ms/step - loss: 11.9429 - covertype_cls_loss: 0.5504 - covertype_bernoulli_loss: 0.1100 - covertype_categorical1_loss: 2.7632 - covertype_categorical2_loss: 1.5604 - covertype_categorical3_loss: 0.4459 - covertype_categorical4_loss: 2.4023 - covertype_categorical5_loss: 3.2059 - covertype_categorical6_loss: 3.7189 - covertype_categorical7_loss: 1.2988 - covertype_categorical8_loss: 1.2611 - covertype_categorical9_loss: 1.5471 - covertype_categorical10_loss: 3.9492 - covertype_cls_categorical_accuracy: 0.8802 - val_loss: 13.7098 - val_covertype_cls_loss: 0.7473 - val_covertype_bernoulli_loss: 0.1556 - val_covertype_categorical1_loss: 3.9960 - val_covertype_categorical2_loss: 1.6147 - val_covertype_categorical3_loss: 0.4514 - val_covertype_categorical4_loss: 2.7888 - val_covertype_categorical5_loss: 3.5497 - val_covertype_categorical6_loss: 4.1852 - val_covertype_categorical7_loss: 1.3917 - val_covertype_categorical8_loss: 1.2858 - val_covertype_categorical9_loss: 1.6685 - val_covertype_categorical10_loss: 4.3209 - val_covertype_cls_categorical_accuracy: 0.7735\n",
      "Epoch 37/1000\n",
      "129/129 [==============================] - 27s 212ms/step - loss: 11.8299 - covertype_cls_loss: 0.5492 - covertype_bernoulli_loss: 0.1074 - covertype_categorical1_loss: 2.7418 - covertype_categorical2_loss: 1.5369 - covertype_categorical3_loss: 0.4336 - covertype_categorical4_loss: 2.3658 - covertype_categorical5_loss: 3.1859 - covertype_categorical6_loss: 3.6893 - covertype_categorical7_loss: 1.2776 - covertype_categorical8_loss: 1.2483 - covertype_categorical9_loss: 1.5296 - covertype_categorical10_loss: 3.9211 - covertype_cls_categorical_accuracy: 0.8809 - val_loss: 13.9404 - val_covertype_cls_loss: 0.7464 - val_covertype_bernoulli_loss: 0.1565 - val_covertype_categorical1_loss: 4.1052 - val_covertype_categorical2_loss: 1.6491 - val_covertype_categorical3_loss: 0.4968 - val_covertype_categorical4_loss: 2.8298 - val_covertype_categorical5_loss: 3.5922 - val_covertype_categorical6_loss: 4.2515 - val_covertype_categorical7_loss: 1.4184 - val_covertype_categorical8_loss: 1.3054 - val_covertype_categorical9_loss: 1.6856 - val_covertype_categorical10_loss: 4.3782 - val_covertype_cls_categorical_accuracy: 0.7738\n",
      "Epoch 38/1000\n",
      "129/129 [==============================] - 27s 211ms/step - loss: 11.7675 - covertype_cls_loss: 0.5456 - covertype_bernoulli_loss: 0.1059 - covertype_categorical1_loss: 2.7359 - covertype_categorical2_loss: 1.5344 - covertype_categorical3_loss: 0.4138 - covertype_categorical4_loss: 2.3639 - covertype_categorical5_loss: 3.1742 - covertype_categorical6_loss: 3.6644 - covertype_categorical7_loss: 1.2736 - covertype_categorical8_loss: 1.2352 - covertype_categorical9_loss: 1.5212 - covertype_categorical10_loss: 3.8968 - covertype_cls_categorical_accuracy: 0.8818 - val_loss: 13.5604 - val_covertype_cls_loss: 0.7391 - val_covertype_bernoulli_loss: 0.1467 - val_covertype_categorical1_loss: 3.9717 - val_covertype_categorical2_loss: 1.5925 - val_covertype_categorical3_loss: 0.4323 - val_covertype_categorical4_loss: 2.7579 - val_covertype_categorical5_loss: 3.5081 - val_covertype_categorical6_loss: 4.1322 - val_covertype_categorical7_loss: 1.3878 - val_covertype_categorical8_loss: 1.2745 - val_covertype_categorical9_loss: 1.6591 - val_covertype_categorical10_loss: 4.2612 - val_covertype_cls_categorical_accuracy: 0.7780\n",
      "Epoch 39/1000\n",
      "129/129 [==============================] - 27s 209ms/step - loss: 11.7166 - covertype_cls_loss: 0.5462 - covertype_bernoulli_loss: 0.1041 - covertype_categorical1_loss: 2.7194 - covertype_categorical2_loss: 1.5127 - covertype_categorical3_loss: 0.4228 - covertype_categorical4_loss: 2.3644 - covertype_categorical5_loss: 3.1653 - covertype_categorical6_loss: 3.6506 - covertype_categorical7_loss: 1.2615 - covertype_categorical8_loss: 1.2358 - covertype_categorical9_loss: 1.5083 - covertype_categorical10_loss: 3.8710 - covertype_cls_categorical_accuracy: 0.8816 - val_loss: 13.9267 - val_covertype_cls_loss: 0.7390 - val_covertype_bernoulli_loss: 0.1592 - val_covertype_categorical1_loss: 4.0748 - val_covertype_categorical2_loss: 1.6480 - val_covertype_categorical3_loss: 0.4958 - val_covertype_categorical4_loss: 2.8373 - val_covertype_categorical5_loss: 3.5715 - val_covertype_categorical6_loss: 4.2185 - val_covertype_categorical7_loss: 1.4398 - val_covertype_categorical8_loss: 1.3717 - val_covertype_categorical9_loss: 1.6985 - val_covertype_categorical10_loss: 4.3421 - val_covertype_cls_categorical_accuracy: 0.7783\n",
      "Epoch 40/1000\n",
      "129/129 [==============================] - 27s 212ms/step - loss: 11.6359 - covertype_cls_loss: 0.5430 - covertype_bernoulli_loss: 0.1028 - covertype_categorical1_loss: 2.7028 - covertype_categorical2_loss: 1.5112 - covertype_categorical3_loss: 0.4088 - covertype_categorical4_loss: 2.3510 - covertype_categorical5_loss: 3.1430 - covertype_categorical6_loss: 3.6247 - covertype_categorical7_loss: 1.2477 - covertype_categorical8_loss: 1.2249 - covertype_categorical9_loss: 1.4997 - covertype_categorical10_loss: 3.8438 - covertype_cls_categorical_accuracy: 0.8832 - val_loss: 13.4562 - val_covertype_cls_loss: 0.7236 - val_covertype_bernoulli_loss: 0.1469 - val_covertype_categorical1_loss: 3.9518 - val_covertype_categorical2_loss: 1.5770 - val_covertype_categorical3_loss: 0.4342 - val_covertype_categorical4_loss: 2.7383 - val_covertype_categorical5_loss: 3.4820 - val_covertype_categorical6_loss: 4.1022 - val_covertype_categorical7_loss: 1.3593 - val_covertype_categorical8_loss: 1.2731 - val_covertype_categorical9_loss: 1.6659 - val_covertype_categorical10_loss: 4.2151 - val_covertype_cls_categorical_accuracy: 0.7855\n",
      "Epoch 41/1000\n",
      "129/129 [==============================] - 28s 213ms/step - loss: 11.6215 - covertype_cls_loss: 0.5402 - covertype_bernoulli_loss: 0.1019 - covertype_categorical1_loss: 2.6937 - covertype_categorical2_loss: 1.5240 - covertype_categorical3_loss: 0.4104 - covertype_categorical4_loss: 2.3400 - covertype_categorical5_loss: 3.1426 - covertype_categorical6_loss: 3.6101 - covertype_categorical7_loss: 1.2557 - covertype_categorical8_loss: 1.2222 - covertype_categorical9_loss: 1.5143 - covertype_categorical10_loss: 3.8219 - covertype_cls_categorical_accuracy: 0.8845 - val_loss: 13.7472 - val_covertype_cls_loss: 0.7333 - val_covertype_bernoulli_loss: 0.1485 - val_covertype_categorical1_loss: 4.0165 - val_covertype_categorical2_loss: 1.6455 - val_covertype_categorical3_loss: 0.4669 - val_covertype_categorical4_loss: 2.7999 - val_covertype_categorical5_loss: 3.5411 - val_covertype_categorical6_loss: 4.1683 - val_covertype_categorical7_loss: 1.4321 - val_covertype_categorical8_loss: 1.3155 - val_covertype_categorical9_loss: 1.6989 - val_covertype_categorical10_loss: 4.2762 - val_covertype_cls_categorical_accuracy: 0.7795\n",
      "Epoch 42/1000\n"
     ]
    },
    {
     "name": "stdout",
     "output_type": "stream",
     "text": [
      "129/129 [==============================] - 27s 211ms/step - loss: 11.5364 - covertype_cls_loss: 0.5372 - covertype_bernoulli_loss: 0.0999 - covertype_categorical1_loss: 2.6756 - covertype_categorical2_loss: 1.5094 - covertype_categorical3_loss: 0.3989 - covertype_categorical4_loss: 2.3237 - covertype_categorical5_loss: 3.1214 - covertype_categorical6_loss: 3.5887 - covertype_categorical7_loss: 1.2491 - covertype_categorical8_loss: 1.2115 - covertype_categorical9_loss: 1.4993 - covertype_categorical10_loss: 3.7945 - covertype_cls_categorical_accuracy: 0.8861 - val_loss: 13.2827 - val_covertype_cls_loss: 0.7220 - val_covertype_bernoulli_loss: 0.1435 - val_covertype_categorical1_loss: 3.9175 - val_covertype_categorical2_loss: 1.5651 - val_covertype_categorical3_loss: 0.4127 - val_covertype_categorical4_loss: 2.6979 - val_covertype_categorical5_loss: 3.4581 - val_covertype_categorical6_loss: 4.0494 - val_covertype_categorical7_loss: 1.3404 - val_covertype_categorical8_loss: 1.2308 - val_covertype_categorical9_loss: 1.6213 - val_covertype_categorical10_loss: 4.1631 - val_covertype_cls_categorical_accuracy: 0.7856loss: 0.0996 - covertype_categorical1_loss: 2.6788 - covertype_categorical2_loss: 1.5178 - covertype_categorical3_loss: 0.3999 - covertype_categorical4_loss: 2.3288 - covertype_categorical5_loss: 3.1226 - covertype_categorical6_loss: 3.5932 - covertype_categorical7_loss: 1.2554 - covertype_categorical8_loss: 1.2161 - covertype_categorical9_loss: 1.5011 - covertype_categorical10_loss: 3.7989 - covertype_cls_categorical_ - ETA: 8s - loss: 11.5530 - covertype_cls_loss: 0.5375 - covertype_bernoulli_loss: 0.0996 - covertype_categorical1_loss: 2.6792 - covertype_categorical2_loss: 1.5151 - covertype_categorical3_loss: 0.3990 - covertype_categorical4_loss: 2.3278 - covertype_categorical5_loss: 3.1231 - covertype_categorical6_loss: 3.5923 - covertype_categorical7_loss: 1.2534 - covertype_categorical8_loss: 1.2164 - covertype_categorical9_loss: 1.50\n",
      "Epoch 43/1000\n",
      "129/129 [==============================] - 28s 215ms/step - loss: 11.4826 - covertype_cls_loss: 0.5353 - covertype_bernoulli_loss: 0.0996 - covertype_categorical1_loss: 2.6694 - covertype_categorical2_loss: 1.4960 - covertype_categorical3_loss: 0.3865 - covertype_categorical4_loss: 2.3233 - covertype_categorical5_loss: 3.1123 - covertype_categorical6_loss: 3.5849 - covertype_categorical7_loss: 1.2357 - covertype_categorical8_loss: 1.1961 - covertype_categorical9_loss: 1.4886 - covertype_categorical10_loss: 3.7746 - covertype_cls_categorical_accuracy: 0.8868 - val_loss: 13.5525 - val_covertype_cls_loss: 0.7291 - val_covertype_bernoulli_loss: 0.1486 - val_covertype_categorical1_loss: 3.9968 - val_covertype_categorical2_loss: 1.6113 - val_covertype_categorical3_loss: 0.4473 - val_covertype_categorical4_loss: 2.7771 - val_covertype_categorical5_loss: 3.4819 - val_covertype_categorical6_loss: 4.1280 - val_covertype_categorical7_loss: 1.3923 - val_covertype_categorical8_loss: 1.2845 - val_covertype_categorical9_loss: 1.6530 - val_covertype_categorical10_loss: 4.2069 - val_covertype_cls_categorical_accuracy: 0.7826_bernoulli_loss: 0.0998 - covertype_categorical1_loss: 2.6707 - covertype_categorical2_loss: 1.4974 - covertype_categorical3_loss: 0.3861 - covertype_categorical4_loss: 2.3239 - covertype_categorical5_loss: 3.1127 - covertype_categorical6_loss: 3.5851 - covertype_categorical7_loss: 1.2368 - covertype_categorical8_loss: 1.1973 - covertype_categorical9_loss: 1.4889 - covertype_categorical10_loss: 3.7747 - covertype_cls_categorical_\n",
      "Epoch 44/1000\n",
      "129/129 [==============================] - 27s 212ms/step - loss: 11.4004 - covertype_cls_loss: 0.5322 - covertype_bernoulli_loss: 0.0963 - covertype_categorical1_loss: 2.6534 - covertype_categorical2_loss: 1.4787 - covertype_categorical3_loss: 0.3797 - covertype_categorical4_loss: 2.3051 - covertype_categorical5_loss: 3.0930 - covertype_categorical6_loss: 3.5573 - covertype_categorical7_loss: 1.2227 - covertype_categorical8_loss: 1.1947 - covertype_categorical9_loss: 1.4746 - covertype_categorical10_loss: 3.7533 - covertype_cls_categorical_accuracy: 0.8884 - val_loss: 13.1964 - val_covertype_cls_loss: 0.7209 - val_covertype_bernoulli_loss: 0.1428 - val_covertype_categorical1_loss: 3.8884 - val_covertype_categorical2_loss: 1.5570 - val_covertype_categorical3_loss: 0.3911 - val_covertype_categorical4_loss: 2.6788 - val_covertype_categorical5_loss: 3.4422 - val_covertype_categorical6_loss: 4.0177 - val_covertype_categorical7_loss: 1.3393 - val_covertype_categorical8_loss: 1.2339 - val_covertype_categorical9_loss: 1.6067 - val_covertype_categorical10_loss: 4.1327 - val_covertype_cls_categorical_accuracy: 0.7860\n",
      "Epoch 45/1000\n",
      "129/129 [==============================] - 27s 213ms/step - loss: 11.3682 - covertype_cls_loss: 0.5293 - covertype_bernoulli_loss: 0.0966 - covertype_categorical1_loss: 2.6407 - covertype_categorical2_loss: 1.4871 - covertype_categorical3_loss: 0.3895 - covertype_categorical4_loss: 2.2907 - covertype_categorical5_loss: 3.0724 - covertype_categorical6_loss: 3.5410 - covertype_categorical7_loss: 1.2260 - covertype_categorical8_loss: 1.1971 - covertype_categorical9_loss: 1.4747 - covertype_categorical10_loss: 3.7339 - covertype_cls_categorical_accuracy: 0.8899 - val_loss: 13.4182 - val_covertype_cls_loss: 0.7137 - val_covertype_bernoulli_loss: 0.1451 - val_covertype_categorical1_loss: 3.9924 - val_covertype_categorical2_loss: 1.5978 - val_covertype_categorical3_loss: 0.4055 - val_covertype_categorical4_loss: 2.7187 - val_covertype_categorical5_loss: 3.4487 - val_covertype_categorical6_loss: 4.0633 - val_covertype_categorical7_loss: 1.3876 - val_covertype_categorical8_loss: 1.2833 - val_covertype_categorical9_loss: 1.6529 - val_covertype_categorical10_loss: 4.1923 - val_covertype_cls_categorical_accuracy: 0.7915\n",
      "Epoch 46/1000\n",
      "129/129 [==============================] - 28s 214ms/step - loss: 11.3367 - covertype_cls_loss: 0.5275 - covertype_bernoulli_loss: 0.0950 - covertype_categorical1_loss: 2.6344 - covertype_categorical2_loss: 1.4863 - covertype_categorical3_loss: 0.3827 - covertype_categorical4_loss: 2.2777 - covertype_categorical5_loss: 3.0728 - covertype_categorical6_loss: 3.5220 - covertype_categorical7_loss: 1.2306 - covertype_categorical8_loss: 1.1894 - covertype_categorical9_loss: 1.4848 - covertype_categorical10_loss: 3.7130 - covertype_cls_categorical_accuracy: 0.8909 - val_loss: 13.1077 - val_covertype_cls_loss: 0.7051 - val_covertype_bernoulli_loss: 0.1377 - val_covertype_categorical1_loss: 3.8750 - val_covertype_categorical2_loss: 1.5375 - val_covertype_categorical3_loss: 0.4307 - val_covertype_categorical4_loss: 2.6674 - val_covertype_categorical5_loss: 3.4128 - val_covertype_categorical6_loss: 3.9948 - val_covertype_categorical7_loss: 1.3183 - val_covertype_categorical8_loss: 1.2226 - val_covertype_categorical9_loss: 1.5960 - val_covertype_categorical10_loss: 4.0895 - val_covertype_cls_categorical_accuracy: 0.7946\n",
      "Epoch 47/1000\n",
      "129/129 [==============================] - 27s 208ms/step - loss: 11.2267 - covertype_cls_loss: 0.5252 - covertype_bernoulli_loss: 0.0937 - covertype_categorical1_loss: 2.6223 - covertype_categorical2_loss: 1.4573 - covertype_categorical3_loss: 0.3676 - covertype_categorical4_loss: 2.2591 - covertype_categorical5_loss: 3.0408 - covertype_categorical6_loss: 3.5102 - covertype_categorical7_loss: 1.2055 - covertype_categorical8_loss: 1.1680 - covertype_categorical9_loss: 1.4496 - covertype_categorical10_loss: 3.6992 - covertype_cls_categorical_accuracy: 0.8917 - val_loss: 13.2985 - val_covertype_cls_loss: 0.7141 - val_covertype_bernoulli_loss: 0.1410 - val_covertype_categorical1_loss: 3.9824 - val_covertype_categorical2_loss: 1.5602 - val_covertype_categorical3_loss: 0.4033 - val_covertype_categorical4_loss: 2.7220 - val_covertype_categorical5_loss: 3.4235 - val_covertype_categorical6_loss: 4.0470 - val_covertype_categorical7_loss: 1.3606 - val_covertype_categorical8_loss: 1.2329 - val_covertype_categorical9_loss: 1.6216 - val_covertype_categorical10_loss: 4.1510 - val_covertype_cls_categorical_accuracy: 0.7916\n",
      "Epoch 48/1000\n",
      "129/129 [==============================] - 27s 209ms/step - loss: 11.1912 - covertype_cls_loss: 0.5257 - covertype_bernoulli_loss: 0.0931 - covertype_categorical1_loss: 2.6119 - covertype_categorical2_loss: 1.4617 - covertype_categorical3_loss: 0.3532 - covertype_categorical4_loss: 2.2521 - covertype_categorical5_loss: 3.0306 - covertype_categorical6_loss: 3.4962 - covertype_categorical7_loss: 1.2087 - covertype_categorical8_loss: 1.1658 - covertype_categorical9_loss: 1.4504 - covertype_categorical10_loss: 3.6760 - covertype_cls_categorical_accuracy: 0.8914 - val_loss: 13.0089 - val_covertype_cls_loss: 0.7132 - val_covertype_bernoulli_loss: 0.1329 - val_covertype_categorical1_loss: 3.8507 - val_covertype_categorical2_loss: 1.5438 - val_covertype_categorical3_loss: 0.3833 - val_covertype_categorical4_loss: 2.6533 - val_covertype_categorical5_loss: 3.3752 - val_covertype_categorical6_loss: 3.9563 - val_covertype_categorical7_loss: 1.3228 - val_covertype_categorical8_loss: 1.2044 - val_covertype_categorical9_loss: 1.5915 - val_covertype_categorical10_loss: 4.0543 - val_covertype_cls_categorical_accuracy: 0.7905\n",
      "Epoch 49/1000\n",
      "129/129 [==============================] - 28s 214ms/step - loss: 11.1965 - covertype_cls_loss: 0.5223 - covertype_bernoulli_loss: 0.0912 - covertype_categorical1_loss: 2.6032 - covertype_categorical2_loss: 1.4767 - covertype_categorical3_loss: 0.3707 - covertype_categorical4_loss: 2.2466 - covertype_categorical5_loss: 3.0164 - covertype_categorical6_loss: 3.4820 - covertype_categorical7_loss: 1.2254 - covertype_categorical8_loss: 1.1725 - covertype_categorical9_loss: 1.4753 - covertype_categorical10_loss: 3.6576 - covertype_cls_categorical_accuracy: 0.8928 - val_loss: 13.2157 - val_covertype_cls_loss: 0.7135 - val_covertype_bernoulli_loss: 0.1358 - val_covertype_categorical1_loss: 3.9409 - val_covertype_categorical2_loss: 1.5568 - val_covertype_categorical3_loss: 0.4007 - val_covertype_categorical4_loss: 2.6693 - val_covertype_categorical5_loss: 3.3778 - val_covertype_categorical6_loss: 4.0098 - val_covertype_categorical7_loss: 1.3886 - val_covertype_categorical8_loss: 1.2242 - val_covertype_categorical9_loss: 1.6517 - val_covertype_categorical10_loss: 4.1269 - val_covertype_cls_categorical_accuracy: 0.7912li_loss: 0.0914 - covertype_categorical1_loss: 2.6042 - covertype_categorical2_loss: 1.4808 - covertype_categorical3_loss: 0.3726 - covertype_categorical4_loss: 2.2473 - covertype_categorical5_loss: 3.0167 - covertype_categorical6_loss: 3.4839 - covertype_categorical7_loss: 1.2286 - covertype_categorical8_loss: 1.1763 - covertype_categorical9_loss: 1.4791 - covertype_categorical10_loss: 3.6599 - covertype_cls_\n",
      "Epoch 50/1000\n",
      "129/129 [==============================] - 27s 211ms/step - loss: 11.0808 - covertype_cls_loss: 0.5196 - covertype_bernoulli_loss: 0.0901 - covertype_categorical1_loss: 2.5943 - covertype_categorical2_loss: 1.4437 - covertype_categorical3_loss: 0.3540 - covertype_categorical4_loss: 2.2237 - covertype_categorical5_loss: 3.0059 - covertype_categorical6_loss: 3.4700 - covertype_categorical7_loss: 1.1806 - covertype_categorical8_loss: 1.1506 - covertype_categorical9_loss: 1.4333 - covertype_categorical10_loss: 3.6446 - covertype_cls_categorical_accuracy: 0.8951 - val_loss: 12.8999 - val_covertype_cls_loss: 0.7026 - val_covertype_bernoulli_loss: 0.1283 - val_covertype_categorical1_loss: 3.8235 - val_covertype_categorical2_loss: 1.5182 - val_covertype_categorical3_loss: 0.4053 - val_covertype_categorical4_loss: 2.6099 - val_covertype_categorical5_loss: 3.3370 - val_covertype_categorical6_loss: 3.9268 - val_covertype_categorical7_loss: 1.3083 - val_covertype_categorical8_loss: 1.2041 - val_covertype_categorical9_loss: 1.5951 - val_covertype_categorical10_loss: 4.0155 - val_covertype_cls_categorical_accuracy: 0.7968oulli_loss: 0.0907 - covertype_categorical1_loss: 2.5936 - covertype_categorical2_loss: 1.4441 - covertype_categorical3_loss: 0.3507 - covertype_categorical4_loss: 2.2229 - covertype_categorical5_loss: 3.0072 - covertype_categorical6_loss: 3.4706 - covertype_categorical7_loss: 1.1824 - covertype_categorical8_loss: 1.1511 - covertype_categorical9_loss: 1.431 - ETA: 1s - loss: 11.0794 - covertype_cls_loss: 0.5196 - covertype_bernoulli_loss: 0.0902 - covertype_categorical1_loss: 2.5935 - covertype_categorical2_loss: 1.4445 - covertype_categorical3_loss: 0.3532 - covertype_categorical4_loss: 2.2233 - covertype_categorical5_loss: 3.0054 - covertype_categorical6_loss: 3.4704 - covertype_categorical7_loss: 1.1808 - covertype_categorical8_loss: 1.1497 - covertype_categorical9_loss: 1.4319 - covertype_categorical10_loss: 3.6449 - covertype_cls_categori\n",
      "Epoch 51/1000\n",
      "129/129 [==============================] - 28s 217ms/step - loss: 11.0690 - covertype_cls_loss: 0.5191 - covertype_bernoulli_loss: 0.0895 - covertype_categorical1_loss: 2.5886 - covertype_categorical2_loss: 1.4491 - covertype_categorical3_loss: 0.3519 - covertype_categorical4_loss: 2.2237 - covertype_categorical5_loss: 2.9930 - covertype_categorical6_loss: 3.4525 - covertype_categorical7_loss: 1.1990 - covertype_categorical8_loss: 1.1550 - covertype_categorical9_loss: 1.4422 - covertype_categorical10_loss: 3.6239 - covertype_cls_categorical_accuracy: 0.8943 - val_loss: 13.1857 - val_covertype_cls_loss: 0.6999 - val_covertype_bernoulli_loss: 0.1299 - val_covertype_categorical1_loss: 3.9125 - val_covertype_categorical2_loss: 1.5567 - val_covertype_categorical3_loss: 0.4180 - val_covertype_categorical4_loss: 2.6823 - val_covertype_categorical5_loss: 3.3952 - val_covertype_categorical6_loss: 3.9988 - val_covertype_categorical7_loss: 1.3524 - val_covertype_categorical8_loss: 1.2520 - val_covertype_categorical9_loss: 1.6341 - val_covertype_categorical10_loss: 4.1177 - val_covertype_cls_categorical_accuracy: 0.7973\n",
      "Epoch 52/1000\n",
      "129/129 [==============================] - 28s 216ms/step - loss: 11.1326 - covertype_cls_loss: 0.5169 - covertype_bernoulli_loss: 0.0899 - covertype_categorical1_loss: 2.5800 - covertype_categorical2_loss: 1.4495 - covertype_categorical3_loss: 0.3719 - covertype_categorical4_loss: 2.2829 - covertype_categorical5_loss: 3.0394 - covertype_categorical6_loss: 3.4502 - covertype_categorical7_loss: 1.1990 - covertype_categorical8_loss: 1.1659 - covertype_categorical9_loss: 1.4562 - covertype_categorical10_loss: 3.6165 - covertype_cls_categorical_accuracy: 0.8963 - val_loss: 12.8115 - val_covertype_cls_loss: 0.6973 - val_covertype_bernoulli_loss: 0.1334 - val_covertype_categorical1_loss: 3.7956 - val_covertype_categorical2_loss: 1.5265 - val_covertype_categorical3_loss: 0.3899 - val_covertype_categorical4_loss: 2.5874 - val_covertype_categorical5_loss: 3.3103 - val_covertype_categorical6_loss: 3.8982 - val_covertype_categorical7_loss: 1.3077 - val_covertype_categorical8_loss: 1.1951 - val_covertype_categorical9_loss: 1.5856 - val_covertype_categorical10_loss: 3.9756 - val_covertype_cls_categorical_accuracy: 0.7998\n",
      "Epoch 53/1000\n",
      "129/129 [==============================] - 28s 214ms/step - loss: 10.9646 - covertype_cls_loss: 0.5137 - covertype_bernoulli_loss: 0.0865 - covertype_categorical1_loss: 2.5650 - covertype_categorical2_loss: 1.4380 - covertype_categorical3_loss: 0.3412 - covertype_categorical4_loss: 2.1930 - covertype_categorical5_loss: 2.9674 - covertype_categorical6_loss: 3.4218 - covertype_categorical7_loss: 1.1900 - covertype_categorical8_loss: 1.1421 - covertype_categorical9_loss: 1.4349 - covertype_categorical10_loss: 3.5893 - covertype_cls_categorical_accuracy: 0.8976 - val_loss: 13.1219 - val_covertype_cls_loss: 0.6953 - val_covertype_bernoulli_loss: 0.1323 - val_covertype_categorical1_loss: 3.8864 - val_covertype_categorical2_loss: 1.5515 - val_covertype_categorical3_loss: 0.4438 - val_covertype_categorical4_loss: 2.6488 - val_covertype_categorical5_loss: 3.3689 - val_covertype_categorical6_loss: 3.9947 - val_covertype_categorical7_loss: 1.3371 - val_covertype_categorical8_loss: 1.2528 - val_covertype_categorical9_loss: 1.6557 - val_covertype_categorical10_loss: 4.0583 - val_covertype_cls_categorical_accuracy: 0.8004\n",
      "Epoch 54/1000\n"
     ]
    },
    {
     "name": "stdout",
     "output_type": "stream",
     "text": [
      "129/129 [==============================] - 28s 215ms/step - loss: 10.9382 - covertype_cls_loss: 0.5141 - covertype_bernoulli_loss: 0.0862 - covertype_categorical1_loss: 2.5544 - covertype_categorical2_loss: 1.4297 - covertype_categorical3_loss: 0.3454 - covertype_categorical4_loss: 2.1881 - covertype_categorical5_loss: 2.9566 - covertype_categorical6_loss: 3.4187 - covertype_categorical7_loss: 1.1831 - covertype_categorical8_loss: 1.1381 - covertype_categorical9_loss: 1.4354 - covertype_categorical10_loss: 3.5795 - covertype_cls_categorical_accuracy: 0.8972 - val_loss: 12.6902 - val_covertype_cls_loss: 0.6941 - val_covertype_bernoulli_loss: 0.1214 - val_covertype_categorical1_loss: 3.7872 - val_covertype_categorical2_loss: 1.5114 - val_covertype_categorical3_loss: 0.3593 - val_covertype_categorical4_loss: 2.5593 - val_covertype_categorical5_loss: 3.2833 - val_covertype_categorical6_loss: 3.8628 - val_covertype_categorical7_loss: 1.2955 - val_covertype_categorical8_loss: 1.1736 - val_covertype_categorical9_loss: 1.5603 - val_covertype_categorical10_loss: 3.9528 - val_covertype_cls_categorical_accuracy: 0.8021\n",
      "Epoch 55/1000\n",
      "129/129 [==============================] - 27s 208ms/step - loss: 10.8840 - covertype_cls_loss: 0.5126 - covertype_bernoulli_loss: 0.0847 - covertype_categorical1_loss: 2.5440 - covertype_categorical2_loss: 1.4273 - covertype_categorical3_loss: 0.3390 - covertype_categorical4_loss: 2.1731 - covertype_categorical5_loss: 2.9401 - covertype_categorical6_loss: 3.4005 - covertype_categorical7_loss: 1.1728 - covertype_categorical8_loss: 1.1357 - covertype_categorical9_loss: 1.4222 - covertype_categorical10_loss: 3.5699 - covertype_cls_categorical_accuracy: 0.8973 - val_loss: 13.0858 - val_covertype_cls_loss: 0.6934 - val_covertype_bernoulli_loss: 0.1320 - val_covertype_categorical1_loss: 3.8819 - val_covertype_categorical2_loss: 1.5675 - val_covertype_categorical3_loss: 0.4739 - val_covertype_categorical4_loss: 2.6192 - val_covertype_categorical5_loss: 3.3637 - val_covertype_categorical6_loss: 3.9286 - val_covertype_categorical7_loss: 1.3748 - val_covertype_categorical8_loss: 1.2267 - val_covertype_categorical9_loss: 1.6554 - val_covertype_categorical10_loss: 4.0354 - val_covertype_cls_categorical_accuracy: 0.8024\n",
      "Epoch 56/1000\n",
      "129/129 [==============================] - 28s 217ms/step - loss: 10.8951 - covertype_cls_loss: 0.5082 - covertype_bernoulli_loss: 0.0844 - covertype_categorical1_loss: 2.5432 - covertype_categorical2_loss: 1.4281 - covertype_categorical3_loss: 0.3537 - covertype_categorical4_loss: 2.1751 - covertype_categorical5_loss: 2.9342 - covertype_categorical6_loss: 3.4028 - covertype_categorical7_loss: 1.1847 - covertype_categorical8_loss: 1.1411 - covertype_categorical9_loss: 1.4373 - covertype_categorical10_loss: 3.5559 - covertype_cls_categorical_accuracy: 0.9006 - val_loss: 12.5980 - val_covertype_cls_loss: 0.6860 - val_covertype_bernoulli_loss: 0.1157 - val_covertype_categorical1_loss: 3.7520 - val_covertype_categorical2_loss: 1.4848 - val_covertype_categorical3_loss: 0.3574 - val_covertype_categorical4_loss: 2.5533 - val_covertype_categorical5_loss: 3.2465 - val_covertype_categorical6_loss: 3.8384 - val_covertype_categorical7_loss: 1.2989 - val_covertype_categorical8_loss: 1.1760 - val_covertype_categorical9_loss: 1.5503 - val_covertype_categorical10_loss: 3.9274 - val_covertype_cls_categorical_accuracy: 0.8043\n",
      "Epoch 57/1000\n",
      "129/129 [==============================] - 27s 209ms/step - loss: 10.7643 - covertype_cls_loss: 0.5071 - covertype_bernoulli_loss: 0.0837 - covertype_categorical1_loss: 2.5259 - covertype_categorical2_loss: 1.4036 - covertype_categorical3_loss: 0.3160 - covertype_categorical4_loss: 2.1547 - covertype_categorical5_loss: 2.9138 - covertype_categorical6_loss: 3.3796 - covertype_categorical7_loss: 1.1537 - covertype_categorical8_loss: 1.1154 - covertype_categorical9_loss: 1.4017 - covertype_categorical10_loss: 3.5309 - covertype_cls_categorical_accuracy: 0.9009 - val_loss: 12.8720 - val_covertype_cls_loss: 0.6870 - val_covertype_bernoulli_loss: 0.1280 - val_covertype_categorical1_loss: 3.8910 - val_covertype_categorical2_loss: 1.5483 - val_covertype_categorical3_loss: 0.3784 - val_covertype_categorical4_loss: 2.5954 - val_covertype_categorical5_loss: 3.2977 - val_covertype_categorical6_loss: 3.9038 - val_covertype_categorical7_loss: 1.3104 - val_covertype_categorical8_loss: 1.1881 - val_covertype_categorical9_loss: 1.6136 - val_covertype_categorical10_loss: 3.9914 - val_covertype_cls_categorical_accuracy: 0.8064\n",
      "Epoch 58/1000\n",
      "129/129 [==============================] - 26s 203ms/step - loss: 10.7823 - covertype_cls_loss: 0.5065 - covertype_bernoulli_loss: 0.0825 - covertype_categorical1_loss: 2.5249 - covertype_categorical2_loss: 1.4204 - covertype_categorical3_loss: 0.3231 - covertype_categorical4_loss: 2.1575 - covertype_categorical5_loss: 2.9099 - covertype_categorical6_loss: 3.3725 - covertype_categorical7_loss: 1.1667 - covertype_categorical8_loss: 1.1196 - covertype_categorical9_loss: 1.4169 - covertype_categorical10_loss: 3.5232 - covertype_cls_categorical_accuracy: 0.9010 - val_loss: 12.5553 - val_covertype_cls_loss: 0.6837 - val_covertype_bernoulli_loss: 0.1136 - val_covertype_categorical1_loss: 3.7492 - val_covertype_categorical2_loss: 1.5006 - val_covertype_categorical3_loss: 0.3469 - val_covertype_categorical4_loss: 2.5418 - val_covertype_categorical5_loss: 3.2393 - val_covertype_categorical6_loss: 3.8208 - val_covertype_categorical7_loss: 1.2799 - val_covertype_categorical8_loss: 1.1545 - val_covertype_categorical9_loss: 1.5540 - val_covertype_categorical10_loss: 3.9180 - val_covertype_cls_categorical_accuracy: 0.8059vertype_categorical1_loss: 2.5277 - covertype_categorical2_loss: 1.4228 - covertype_categorical3_loss: 0.3144 - covertype_categorical4_loss: 2.1461 - covertype_categorical5_loss: 2.9032 - covertype_categorical6_loss: 3.3768 - covertype_categorical7_loss: 1.1677 - covertype_categorical8_loss: 1.1190 - covertype_categorical9_loss: - ETA: 3s - loss: 10.7817 - covertype_cls_loss: 0.5065 - covertype_bernoulli_loss: 0.0827 - covertype_categorical1_loss: 2.5261 - covertype_categorical2_loss: 1.4197 - covertype_categorical3_loss: 0.3223 - covertype_categorical4_loss: 2.1578 - covertype_categorical5_loss: 2.9087 - covertype_categorical6_loss: 3.3749 - covertype_categorical7_loss: 1.1677 - covertype_categorical8_loss: 1.1177 - covertype_categorical9_loss: 1.4156 - covertype_categorical10_loss: 3.5226 - covertyp\n",
      "Epoch 59/1000\n",
      "129/129 [==============================] - 27s 210ms/step - loss: 10.7214 - covertype_cls_loss: 0.5063 - covertype_bernoulli_loss: 0.0809 - covertype_categorical1_loss: 2.5110 - covertype_categorical2_loss: 1.4036 - covertype_categorical3_loss: 0.3162 - covertype_categorical4_loss: 2.1484 - covertype_categorical5_loss: 2.8986 - covertype_categorical6_loss: 3.3572 - covertype_categorical7_loss: 1.1580 - covertype_categorical8_loss: 1.1113 - covertype_categorical9_loss: 1.4069 - covertype_categorical10_loss: 3.5025 - covertype_cls_categorical_accuracy: 0.9001 - val_loss: 12.8488 - val_covertype_cls_loss: 0.6838 - val_covertype_bernoulli_loss: 0.1194 - val_covertype_categorical1_loss: 3.8558 - val_covertype_categorical2_loss: 1.5488 - val_covertype_categorical3_loss: 0.3426 - val_covertype_categorical4_loss: 2.5981 - val_covertype_categorical5_loss: 3.3052 - val_covertype_categorical6_loss: 3.8949 - val_covertype_categorical7_loss: 1.3027 - val_covertype_categorical8_loss: 1.2404 - val_covertype_categorical9_loss: 1.6167 - val_covertype_categorical10_loss: 3.9811 - val_covertype_cls_categorical_accuracy: 0.8074\n",
      "Epoch 60/1000\n",
      "129/129 [==============================] - 27s 211ms/step - loss: 10.6874 - covertype_cls_loss: 0.5028 - covertype_bernoulli_loss: 0.0812 - covertype_categorical1_loss: 2.5044 - covertype_categorical2_loss: 1.3958 - covertype_categorical3_loss: 0.3269 - covertype_categorical4_loss: 2.1343 - covertype_categorical5_loss: 2.8876 - covertype_categorical6_loss: 3.3431 - covertype_categorical7_loss: 1.1484 - covertype_categorical8_loss: 1.1113 - covertype_categorical9_loss: 1.4008 - covertype_categorical10_loss: 3.5003 - covertype_cls_categorical_accuracy: 0.9027 - val_loss: 12.4439 - val_covertype_cls_loss: 0.6765 - val_covertype_bernoulli_loss: 0.1135 - val_covertype_categorical1_loss: 3.7458 - val_covertype_categorical2_loss: 1.4877 - val_covertype_categorical3_loss: 0.3334 - val_covertype_categorical4_loss: 2.5079 - val_covertype_categorical5_loss: 3.1973 - val_covertype_categorical6_loss: 3.7843 - val_covertype_categorical7_loss: 1.2614 - val_covertype_categorical8_loss: 1.1506 - val_covertype_categorical9_loss: 1.5328 - val_covertype_categorical10_loss: 3.8946 - val_covertype_cls_categorical_accuracy: 0.8103\n",
      "Epoch 61/1000\n",
      "129/129 [==============================] - 27s 210ms/step - loss: 10.6933 - covertype_cls_loss: 0.5041 - covertype_bernoulli_loss: 0.0792 - covertype_categorical1_loss: 2.5021 - covertype_categorical2_loss: 1.3930 - covertype_categorical3_loss: 0.3110 - covertype_categorical4_loss: 2.1753 - covertype_categorical5_loss: 2.8949 - covertype_categorical6_loss: 3.3405 - covertype_categorical7_loss: 1.1476 - covertype_categorical8_loss: 1.1073 - covertype_categorical9_loss: 1.4000 - covertype_categorical10_loss: 3.4926 - covertype_cls_categorical_accuracy: 0.9019 - val_loss: 12.6247 - val_covertype_cls_loss: 0.6803 - val_covertype_bernoulli_loss: 0.1207 - val_covertype_categorical1_loss: 3.8079 - val_covertype_categorical2_loss: 1.4958 - val_covertype_categorical3_loss: 0.3383 - val_covertype_categorical4_loss: 2.5543 - val_covertype_categorical5_loss: 3.2478 - val_covertype_categorical6_loss: 3.8647 - val_covertype_categorical7_loss: 1.2721 - val_covertype_categorical8_loss: 1.1726 - val_covertype_categorical9_loss: 1.5646 - val_covertype_categorical10_loss: 3.9242 - val_covertype_cls_categorical_accuracy: 0.8087\n",
      "Epoch 62/1000\n",
      "129/129 [==============================] - 27s 209ms/step - loss: 10.6083 - covertype_cls_loss: 0.4997 - covertype_bernoulli_loss: 0.0792 - covertype_categorical1_loss: 2.4859 - covertype_categorical2_loss: 1.3947 - covertype_categorical3_loss: 0.3125 - covertype_categorical4_loss: 2.1075 - covertype_categorical5_loss: 2.8575 - covertype_categorical6_loss: 3.3245 - covertype_categorical7_loss: 1.1438 - covertype_categorical8_loss: 1.0994 - covertype_categorical9_loss: 1.4015 - covertype_categorical10_loss: 3.4741 - covertype_cls_categorical_accuracy: 0.9039 - val_loss: 12.3501 - val_covertype_cls_loss: 0.6739 - val_covertype_bernoulli_loss: 0.1150 - val_covertype_categorical1_loss: 3.7146 - val_covertype_categorical2_loss: 1.4755 - val_covertype_categorical3_loss: 0.3171 - val_covertype_categorical4_loss: 2.4805 - val_covertype_categorical5_loss: 3.1818 - val_covertype_categorical6_loss: 3.7643 - val_covertype_categorical7_loss: 1.2565 - val_covertype_categorical8_loss: 1.1359 - val_covertype_categorical9_loss: 1.5224 - val_covertype_categorical10_loss: 3.8620 - val_covertype_cls_categorical_accuracy: 0.8122\n",
      "Epoch 63/1000\n",
      "129/129 [==============================] - 27s 213ms/step - loss: 10.5705 - covertype_cls_loss: 0.5005 - covertype_bernoulli_loss: 0.0786 - covertype_categorical1_loss: 2.4781 - covertype_categorical2_loss: 1.3888 - covertype_categorical3_loss: 0.3056 - covertype_categorical4_loss: 2.1030 - covertype_categorical5_loss: 2.8477 - covertype_categorical6_loss: 3.3222 - covertype_categorical7_loss: 1.1362 - covertype_categorical8_loss: 1.0940 - covertype_categorical9_loss: 1.3799 - covertype_categorical10_loss: 3.4686 - covertype_cls_categorical_accuracy: 0.9028 - val_loss: 12.7353 - val_covertype_cls_loss: 0.6834 - val_covertype_bernoulli_loss: 0.1210 - val_covertype_categorical1_loss: 3.8226 - val_covertype_categorical2_loss: 1.5316 - val_covertype_categorical3_loss: 0.3673 - val_covertype_categorical4_loss: 2.5648 - val_covertype_categorical5_loss: 3.2496 - val_covertype_categorical6_loss: 3.8713 - val_covertype_categorical7_loss: 1.3228 - val_covertype_categorical8_loss: 1.1873 - val_covertype_categorical9_loss: 1.5908 - val_covertype_categorical10_loss: 3.9484 - val_covertype_cls_categorical_accuracy: 0.8065\n",
      "Epoch 64/1000\n",
      "129/129 [==============================] - 28s 215ms/step - loss: 10.5664 - covertype_cls_loss: 0.4971 - covertype_bernoulli_loss: 0.0780 - covertype_categorical1_loss: 2.4728 - covertype_categorical2_loss: 1.3921 - covertype_categorical3_loss: 0.3175 - covertype_categorical4_loss: 2.1014 - covertype_categorical5_loss: 2.8430 - covertype_categorical6_loss: 3.3060 - covertype_categorical7_loss: 1.1461 - covertype_categorical8_loss: 1.0994 - covertype_categorical9_loss: 1.3957 - covertype_categorical10_loss: 3.4504 - covertype_cls_categorical_accuracy: 0.9049 - val_loss: 12.3075 - val_covertype_cls_loss: 0.6685 - val_covertype_bernoulli_loss: 0.1097 - val_covertype_categorical1_loss: 3.7048 - val_covertype_categorical2_loss: 1.4627 - val_covertype_categorical3_loss: 0.3201 - val_covertype_categorical4_loss: 2.4822 - val_covertype_categorical5_loss: 3.1700 - val_covertype_categorical6_loss: 3.7522 - val_covertype_categorical7_loss: 1.2385 - val_covertype_categorical8_loss: 1.1348 - val_covertype_categorical9_loss: 1.5306 - val_covertype_categorical10_loss: 3.8456 - val_covertype_cls_categorical_accuracy: 0.8151\n",
      "Epoch 65/1000\n",
      "129/129 [==============================] - 27s 210ms/step - loss: 10.4964 - covertype_cls_loss: 0.4966 - covertype_bernoulli_loss: 0.0764 - covertype_categorical1_loss: 2.4648 - covertype_categorical2_loss: 1.3752 - covertype_categorical3_loss: 0.2949 - covertype_categorical4_loss: 2.0961 - covertype_categorical5_loss: 2.8353 - covertype_categorical6_loss: 3.2890 - covertype_categorical7_loss: 1.1297 - covertype_categorical8_loss: 1.0808 - covertype_categorical9_loss: 1.3813 - covertype_categorical10_loss: 3.4383 - covertype_cls_categorical_accuracy: 0.9052 - val_loss: 12.7051 - val_covertype_cls_loss: 0.6730 - val_covertype_bernoulli_loss: 0.1244 - val_covertype_categorical1_loss: 3.8227 - val_covertype_categorical2_loss: 1.5339 - val_covertype_categorical3_loss: 0.3439 - val_covertype_categorical4_loss: 2.5443 - val_covertype_categorical5_loss: 3.2361 - val_covertype_categorical6_loss: 3.8485 - val_covertype_categorical7_loss: 1.3452 - val_covertype_categorical8_loss: 1.1948 - val_covertype_categorical9_loss: 1.6172 - val_covertype_categorical10_loss: 3.9267 - val_covertype_cls_categorical_accuracy: 0.8089\n",
      "Epoch 66/1000\n",
      "129/129 [==============================] - 28s 214ms/step - loss: 10.4384 - covertype_cls_loss: 0.4960 - covertype_bernoulli_loss: 0.0760 - covertype_categorical1_loss: 2.4556 - covertype_categorical2_loss: 1.3666 - covertype_categorical3_loss: 0.2926 - covertype_categorical4_loss: 2.0709 - covertype_categorical5_loss: 2.8165 - covertype_categorical6_loss: 3.2789 - covertype_categorical7_loss: 1.1194 - covertype_categorical8_loss: 1.0760 - covertype_categorical9_loss: 1.3720 - covertype_categorical10_loss: 3.4223 - covertype_cls_categorical_accuracy: 0.9057 - val_loss: 12.2052 - val_covertype_cls_loss: 0.6599 - val_covertype_bernoulli_loss: 0.1085 - val_covertype_categorical1_loss: 3.6693 - val_covertype_categorical2_loss: 1.4509 - val_covertype_categorical3_loss: 0.3100 - val_covertype_categorical4_loss: 2.4739 - val_covertype_categorical5_loss: 3.1382 - val_covertype_categorical6_loss: 3.7288 - val_covertype_categorical7_loss: 1.2194 - val_covertype_categorical8_loss: 1.1254 - val_covertype_categorical9_loss: 1.5213 - val_covertype_categorical10_loss: 3.8169 - val_covertype_cls_categorical_accuracy: 0.8192\n",
      "Epoch 67/1000\n"
     ]
    },
    {
     "name": "stdout",
     "output_type": "stream",
     "text": [
      "129/129 [==============================] - 27s 205ms/step - loss: 10.4769 - covertype_cls_loss: 0.4963 - covertype_bernoulli_loss: 0.0756 - covertype_categorical1_loss: 2.4481 - covertype_categorical2_loss: 1.3908 - covertype_categorical3_loss: 0.3099 - covertype_categorical4_loss: 2.0643 - covertype_categorical5_loss: 2.8057 - covertype_categorical6_loss: 3.2778 - covertype_categorical7_loss: 1.1422 - covertype_categorical8_loss: 1.0919 - covertype_categorical9_loss: 1.3920 - covertype_categorical10_loss: 3.4248 - covertype_cls_categorical_accuracy: 0.9053 - val_loss: 12.4842 - val_covertype_cls_loss: 0.6717 - val_covertype_bernoulli_loss: 0.1107 - val_covertype_categorical1_loss: 3.7780 - val_covertype_categorical2_loss: 1.4994 - val_covertype_categorical3_loss: 0.3270 - val_covertype_categorical4_loss: 2.5313 - val_covertype_categorical5_loss: 3.1872 - val_covertype_categorical6_loss: 3.7821 - val_covertype_categorical7_loss: 1.2755 - val_covertype_categorical8_loss: 1.1677 - val_covertype_categorical9_loss: 1.5440 - val_covertype_categorical10_loss: 3.8937 - val_covertype_cls_categorical_accuracy: 0.8118\n",
      "Epoch 68/1000\n",
      "129/129 [==============================] - 26s 201ms/step - loss: 10.4989 - covertype_cls_loss: 0.4938 - covertype_bernoulli_loss: 0.0754 - covertype_categorical1_loss: 2.4429 - covertype_categorical2_loss: 1.3711 - covertype_categorical3_loss: 0.2939 - covertype_categorical4_loss: 2.1554 - covertype_categorical5_loss: 2.8526 - covertype_categorical6_loss: 3.2709 - covertype_categorical7_loss: 1.1238 - covertype_categorical8_loss: 1.0854 - covertype_categorical9_loss: 1.3785 - covertype_categorical10_loss: 3.4230 - covertype_cls_categorical_accuracy: 0.9068 - val_loss: 12.1439 - val_covertype_cls_loss: 0.6652 - val_covertype_bernoulli_loss: 0.1061 - val_covertype_categorical1_loss: 3.6562 - val_covertype_categorical2_loss: 1.4359 - val_covertype_categorical3_loss: 0.3063 - val_covertype_categorical4_loss: 2.4458 - val_covertype_categorical5_loss: 3.1101 - val_covertype_categorical6_loss: 3.7013 - val_covertype_categorical7_loss: 1.2326 - val_covertype_categorical8_loss: 1.1255 - val_covertype_categorical9_loss: 1.5076 - val_covertype_categorical10_loss: 3.8030 - val_covertype_cls_categorical_accuracy: 0.8161\n",
      "Epoch 69/1000\n",
      "129/129 [==============================] - 27s 209ms/step - loss: 10.3877 - covertype_cls_loss: 0.4907 - covertype_bernoulli_loss: 0.0734 - covertype_categorical1_loss: 2.4342 - covertype_categorical2_loss: 1.3632 - covertype_categorical3_loss: 0.3024 - covertype_categorical4_loss: 2.0596 - covertype_categorical5_loss: 2.7839 - covertype_categorical6_loss: 3.2520 - covertype_categorical7_loss: 1.1277 - covertype_categorical8_loss: 1.0822 - covertype_categorical9_loss: 1.3797 - covertype_categorical10_loss: 3.3973 - covertype_cls_categorical_accuracy: 0.9083 - val_loss: 12.6361 - val_covertype_cls_loss: 0.6628 - val_covertype_bernoulli_loss: 0.1106 - val_covertype_categorical1_loss: 3.8148 - val_covertype_categorical2_loss: 1.5163 - val_covertype_categorical3_loss: 0.3944 - val_covertype_categorical4_loss: 2.5207 - val_covertype_categorical5_loss: 3.2122 - val_covertype_categorical6_loss: 3.8093 - val_covertype_categorical7_loss: 1.2977 - val_covertype_categorical8_loss: 1.1957 - val_covertype_categorical9_loss: 1.5922 - val_covertype_categorical10_loss: 3.9567 - val_covertype_cls_categorical_accuracy: 0.8172\n",
      "Epoch 70/1000\n",
      "129/129 [==============================] - 26s 199ms/step - loss: 10.3204 - covertype_cls_loss: 0.4876 - covertype_bernoulli_loss: 0.0728 - covertype_categorical1_loss: 2.4277 - covertype_categorical2_loss: 1.3514 - covertype_categorical3_loss: 0.2891 - covertype_categorical4_loss: 2.0469 - covertype_categorical5_loss: 2.7723 - covertype_categorical6_loss: 3.2426 - covertype_categorical7_loss: 1.1116 - covertype_categorical8_loss: 1.0631 - covertype_categorical9_loss: 1.3637 - covertype_categorical10_loss: 3.3853 - covertype_cls_categorical_accuracy: 0.9099 - val_loss: 12.0811 - val_covertype_cls_loss: 0.6564 - val_covertype_bernoulli_loss: 0.1066 - val_covertype_categorical1_loss: 3.6538 - val_covertype_categorical2_loss: 1.4266 - val_covertype_categorical3_loss: 0.2951 - val_covertype_categorical4_loss: 2.4289 - val_covertype_categorical5_loss: 3.0868 - val_covertype_categorical6_loss: 3.6964 - val_covertype_categorical7_loss: 1.2363 - val_covertype_categorical8_loss: 1.1165 - val_covertype_categorical9_loss: 1.4933 - val_covertype_categorical10_loss: 3.7813 - val_covertype_cls_categorical_accuracy: 0.8204pe_categorical2_loss: 1.3509 - covertype_categorical3_loss: 0.2998 - covertype_categorical4_loss: 2.0516 - covertype_categorical5_loss: 2.7776 - covertype_categorical6_loss: 3.2455 - covertype_categorical7_loss: 1.1141 - covertype_categorical8_loss: 1.0647 - covertype_categorical9_loss: 1.3675 - cover\n",
      "Epoch 71/1000\n",
      "129/129 [==============================] - 27s 206ms/step - loss: 10.3147 - covertype_cls_loss: 0.4882 - covertype_bernoulli_loss: 0.0721 - covertype_categorical1_loss: 2.4207 - covertype_categorical2_loss: 1.3582 - covertype_categorical3_loss: 0.2805 - covertype_categorical4_loss: 2.0419 - covertype_categorical5_loss: 2.7693 - covertype_categorical6_loss: 3.2375 - covertype_categorical7_loss: 1.1131 - covertype_categorical8_loss: 1.0765 - covertype_categorical9_loss: 1.3613 - covertype_categorical10_loss: 3.3829 - covertype_cls_categorical_accuracy: 0.9095 - val_loss: 12.3774 - val_covertype_cls_loss: 0.6712 - val_covertype_bernoulli_loss: 0.1045 - val_covertype_categorical1_loss: 3.7384 - val_covertype_categorical2_loss: 1.4857 - val_covertype_categorical3_loss: 0.3184 - val_covertype_categorical4_loss: 2.4670 - val_covertype_categorical5_loss: 3.1449 - val_covertype_categorical6_loss: 3.7675 - val_covertype_categorical7_loss: 1.2659 - val_covertype_categorical8_loss: 1.1622 - val_covertype_categorical9_loss: 1.5544 - val_covertype_categorical10_loss: 3.8766 - val_covertype_cls_categorical_accuracy: 0.8131 covertype_categorical3_loss: 0.2809 - covertype_categorical4_loss: 2.0431 - covertype_categorical5_loss: 2.7701 - covertype_categorical6_loss: 3.2372 - covertype_categorical7_loss: 1.1133 - covertype_categorical8_loss: 1.0778 - covertype_categorical9_loss: 1.3610 - covertype_categorical10_loss: 3.3834 - covertype_cls_categorical_accu\n",
      "Epoch 72/1000\n",
      "129/129 [==============================] - 21s 166ms/step - loss: 10.3234 - covertype_cls_loss: 0.4862 - covertype_bernoulli_loss: 0.0714 - covertype_categorical1_loss: 2.4146 - covertype_categorical2_loss: 1.3581 - covertype_categorical3_loss: 0.2860 - covertype_categorical4_loss: 2.0620 - covertype_categorical5_loss: 2.7876 - covertype_categorical6_loss: 3.2325 - covertype_categorical7_loss: 1.1098 - covertype_categorical8_loss: 1.0716 - covertype_categorical9_loss: 1.3638 - covertype_categorical10_loss: 3.3786 - covertype_cls_categorical_accuracy: 0.9106 - val_loss: 12.1080 - val_covertype_cls_loss: 0.6529 - val_covertype_bernoulli_loss: 0.1001 - val_covertype_categorical1_loss: 3.6548 - val_covertype_categorical2_loss: 1.4487 - val_covertype_categorical3_loss: 0.3110 - val_covertype_categorical4_loss: 2.4200 - val_covertype_categorical5_loss: 3.1218 - val_covertype_categorical6_loss: 3.6942 - val_covertype_categorical7_loss: 1.2247 - val_covertype_categorical8_loss: 1.1177 - val_covertype_categorical9_loss: 1.5155 - val_covertype_categorical10_loss: 3.7753 - val_covertype_cls_categorical_accuracy: 0.8214\n",
      "Epoch 73/1000\n",
      "129/129 [==============================] - 24s 187ms/step - loss: 10.2373 - covertype_cls_loss: 0.4886 - covertype_bernoulli_loss: 0.0713 - covertype_categorical1_loss: 2.4057 - covertype_categorical2_loss: 1.3434 - covertype_categorical3_loss: 0.2707 - covertype_categorical4_loss: 2.0419 - covertype_categorical5_loss: 2.7547 - covertype_categorical6_loss: 3.2186 - covertype_categorical7_loss: 1.1000 - covertype_categorical8_loss: 1.0482 - covertype_categorical9_loss: 1.3468 - covertype_categorical10_loss: 3.3573 - covertype_cls_categorical_accuracy: 0.9091 - val_loss: 12.2834 - val_covertype_cls_loss: 0.6546 - val_covertype_bernoulli_loss: 0.1057 - val_covertype_categorical1_loss: 3.7660 - val_covertype_categorical2_loss: 1.4749 - val_covertype_categorical3_loss: 0.3168 - val_covertype_categorical4_loss: 2.4513 - val_covertype_categorical5_loss: 3.1025 - val_covertype_categorical6_loss: 3.7342 - val_covertype_categorical7_loss: 1.2491 - val_covertype_categorical8_loss: 1.1321 - val_covertype_categorical9_loss: 1.5467 - val_covertype_categorical10_loss: 3.8506 - val_covertype_cls_categorical_accuracy: 0.8218\n"
     ]
    },
    {
     "name": "stdout",
     "output_type": "stream",
     "text": [
      "Epoch 74/1000\n",
      "129/129 [==============================] - 26s 204ms/step - loss: 10.2350 - covertype_cls_loss: 0.4872 - covertype_bernoulli_loss: 0.0716 - covertype_categorical1_loss: 2.3995 - covertype_categorical2_loss: 1.3500 - covertype_categorical3_loss: 0.2864 - covertype_categorical4_loss: 2.0191 - covertype_categorical5_loss: 2.7357 - covertype_categorical6_loss: 3.2098 - covertype_categorical7_loss: 1.1080 - covertype_categorical8_loss: 1.0582 - covertype_categorical9_loss: 1.3620 - covertype_categorical10_loss: 3.3559 - covertype_cls_categorical_accuracy: 0.9093 - val_loss: 11.9955 - val_covertype_cls_loss: 0.6561 - val_covertype_bernoulli_loss: 0.0966 - val_covertype_categorical1_loss: 3.6300 - val_covertype_categorical2_loss: 1.4381 - val_covertype_categorical3_loss: 0.2865 - val_covertype_categorical4_loss: 2.3869 - val_covertype_categorical5_loss: 3.0624 - val_covertype_categorical6_loss: 3.6506 - val_covertype_categorical7_loss: 1.2298 - val_covertype_categorical8_loss: 1.0964 - val_covertype_categorical9_loss: 1.5108 - val_covertype_categorical10_loss: 3.7618 - val_covertype_cls_categorical_accuracy: 0.8227\n",
      "Epoch 75/1000\n",
      "129/129 [==============================] - 25s 191ms/step - loss: 10.2357 - covertype_cls_loss: 0.4854 - covertype_bernoulli_loss: 0.0700 - covertype_categorical1_loss: 2.3903 - covertype_categorical2_loss: 1.3557 - covertype_categorical3_loss: 0.2870 - covertype_categorical4_loss: 2.0101 - covertype_categorical5_loss: 2.7321 - covertype_categorical6_loss: 3.1977 - covertype_categorical7_loss: 1.1174 - covertype_categorical8_loss: 1.0717 - covertype_categorical9_loss: 1.3798 - covertype_categorical10_loss: 3.3482 - covertype_cls_categorical_accuracy: 0.9107 - val_loss: 12.3237 - val_covertype_cls_loss: 0.6562 - val_covertype_bernoulli_loss: 0.0993 - val_covertype_categorical1_loss: 3.7510 - val_covertype_categorical2_loss: 1.4648 - val_covertype_categorical3_loss: 0.3123 - val_covertype_categorical4_loss: 2.4308 - val_covertype_categorical5_loss: 3.1215 - val_covertype_categorical6_loss: 3.7551 - val_covertype_categorical7_loss: 1.2732 - val_covertype_categorical8_loss: 1.1539 - val_covertype_categorical9_loss: 1.5844 - val_covertype_categorical10_loss: 3.8603 - val_covertype_cls_categorical_accuracy: 0.8209\n",
      "Epoch 76/1000\n",
      "129/129 [==============================] - 24s 189ms/step - loss: 10.1920 - covertype_cls_loss: 0.4835 - covertype_bernoulli_loss: 0.0688 - covertype_categorical1_loss: 2.3869 - covertype_categorical2_loss: 1.3424 - covertype_categorical3_loss: 0.2760 - covertype_categorical4_loss: 2.0099 - covertype_categorical5_loss: 2.7343 - covertype_categorical6_loss: 3.1918 - covertype_categorical7_loss: 1.1080 - covertype_categorical8_loss: 1.0504 - covertype_categorical9_loss: 1.3648 - covertype_categorical10_loss: 3.3434 - covertype_cls_categorical_accuracy: 0.9114 - val_loss: 11.9705 - val_covertype_cls_loss: 0.6498 - val_covertype_bernoulli_loss: 0.0980 - val_covertype_categorical1_loss: 3.6251 - val_covertype_categorical2_loss: 1.4380 - val_covertype_categorical3_loss: 0.2942 - val_covertype_categorical4_loss: 2.3991 - val_covertype_categorical5_loss: 3.0331 - val_covertype_categorical6_loss: 3.6421 - val_covertype_categorical7_loss: 1.2174 - val_covertype_categorical8_loss: 1.1074 - val_covertype_categorical9_loss: 1.5031 - val_covertype_categorical10_loss: 3.7533 - val_covertype_cls_categorical_accuracy: 0.8238vertype_categorical1_loss: 2.3859 - covertype_categorical2_loss: 1.3365 - covertype_categorical3_loss: 0.2820 - covertype_categorical4_loss: 2.0162 - covertype_categorical5_loss: 2.7382 - covertype_categorical6_loss: 3.1939 - covertype_categorical7_loss: 1.1034 - covertype_categorical8_loss: 1.0440 - covertype_categoric\n",
      "Epoch 77/1000\n",
      "129/129 [==============================] - 26s 201ms/step - loss: 10.1525 - covertype_cls_loss: 0.4836 - covertype_bernoulli_loss: 0.0691 - covertype_categorical1_loss: 2.3805 - covertype_categorical2_loss: 1.3301 - covertype_categorical3_loss: 0.2744 - covertype_categorical4_loss: 2.0072 - covertype_categorical5_loss: 2.7236 - covertype_categorical6_loss: 3.1904 - covertype_categorical7_loss: 1.0999 - covertype_categorical8_loss: 1.0450 - covertype_categorical9_loss: 1.3458 - covertype_categorical10_loss: 3.3316 - covertype_cls_categorical_accuracy: 0.9116 - val_loss: 12.3501 - val_covertype_cls_loss: 0.6515 - val_covertype_bernoulli_loss: 0.1003 - val_covertype_categorical1_loss: 3.7376 - val_covertype_categorical2_loss: 1.4962 - val_covertype_categorical3_loss: 0.3893 - val_covertype_categorical4_loss: 2.4773 - val_covertype_categorical5_loss: 3.0933 - val_covertype_categorical6_loss: 3.7377 - val_covertype_categorical7_loss: 1.2680 - val_covertype_categorical8_loss: 1.1536 - val_covertype_categorical9_loss: 1.5602 - val_covertype_categorical10_loss: 3.8558 - val_covertype_cls_categorical_accuracy: 0.8237\n",
      "Epoch 78/1000\n",
      "129/129 [==============================] - 25s 193ms/step - loss: 10.1602 - covertype_cls_loss: 0.4795 - covertype_bernoulli_loss: 0.0684 - covertype_categorical1_loss: 2.3827 - covertype_categorical2_loss: 1.3395 - covertype_categorical3_loss: 0.2794 - covertype_categorical4_loss: 2.0068 - covertype_categorical5_loss: 2.7080 - covertype_categorical6_loss: 3.1783 - covertype_categorical7_loss: 1.1035 - covertype_categorical8_loss: 1.0610 - covertype_categorical9_loss: 1.3612 - covertype_categorical10_loss: 3.3325 - covertype_cls_categorical_accuracy: 0.9134 - val_loss: 11.9036 - val_covertype_cls_loss: 0.6527 - val_covertype_bernoulli_loss: 0.0967 - val_covertype_categorical1_loss: 3.6091 - val_covertype_categorical2_loss: 1.4255 - val_covertype_categorical3_loss: 0.2768 - val_covertype_categorical4_loss: 2.3734 - val_covertype_categorical5_loss: 3.0072 - val_covertype_categorical6_loss: 3.6220 - val_covertype_categorical7_loss: 1.2100 - val_covertype_categorical8_loss: 1.1021 - val_covertype_categorical9_loss: 1.5150 - val_covertype_categorical10_loss: 3.7371 - val_covertype_cls_categorical_accuracy: 0.8235rtype_categorical1_loss: 2.3799 - covertype_categorical2_loss: 1.3285 - covertype_categorical3_loss: 0.2931 - covertype_categorical4_loss: 2.0138 - covertype_categorical5_loss: 2.6976 - covertype_categorical6_loss: 3.1835 - covertype_categorical7_loss: 1.1026 - covertype_categorical8_loss: 1.0691 - covertype_categorical9_loss: 1.3606 - covertype_categorical10_loss: 3.3397 - covertype_cls_categorical_accu - ETA: 12s - loss: 10.1721 - covertype_cls_loss: 0.4798 - covertype_bernoulli_loss: 0.0689 - covertype_categorical1_loss: 2.3796 - covertype_categorical2_loss: 1.3339 - covertype_categorical3_loss: 0.2903 - covertype_categorical4_loss: 2.0192 - covertype_categorical5_loss: 2.7039 - covertype_categorical6_loss: 3.1822 - covertype_categorical7_loss: 1.1021 - covertype_categorical8_loss: 1.0677 - cove\n",
      "Epoch 79/1000\n",
      "129/129 [==============================] - 26s 199ms/step - loss: 10.0626 - covertype_cls_loss: 0.4788 - covertype_bernoulli_loss: 0.0672 - covertype_categorical1_loss: 2.3771 - covertype_categorical2_loss: 1.3221 - covertype_categorical3_loss: 0.2579 - covertype_categorical4_loss: 1.9814 - covertype_categorical5_loss: 2.6928 - covertype_categorical6_loss: 3.1668 - covertype_categorical7_loss: 1.0857 - covertype_categorical8_loss: 1.0325 - covertype_categorical9_loss: 1.3363 - covertype_categorical10_loss: 3.3072 - covertype_cls_categorical_accuracy: 0.9137 - val_loss: 12.1960 - val_covertype_cls_loss: 0.6602 - val_covertype_bernoulli_loss: 0.1063 - val_covertype_categorical1_loss: 3.6966 - val_covertype_categorical2_loss: 1.4908 - val_covertype_categorical3_loss: 0.3110 - val_covertype_categorical4_loss: 2.4085 - val_covertype_categorical5_loss: 3.0800 - val_covertype_categorical6_loss: 3.7102 - val_covertype_categorical7_loss: 1.2436 - val_covertype_categorical8_loss: 1.1962 - val_covertype_categorical9_loss: 1.5144 - val_covertype_categorical10_loss: 3.7852 - val_covertype_cls_categorical_accuracy: 0.8183\n",
      "Epoch 80/1000\n",
      "129/129 [==============================] - 25s 194ms/step - loss: 10.0740 - covertype_cls_loss: 0.4780 - covertype_bernoulli_loss: 0.0674 - covertype_categorical1_loss: 2.3645 - covertype_categorical2_loss: 1.3231 - covertype_categorical3_loss: 0.2704 - covertype_categorical4_loss: 1.9952 - covertype_categorical5_loss: 2.6984 - covertype_categorical6_loss: 3.1531 - covertype_categorical7_loss: 1.0871 - covertype_categorical8_loss: 1.0440 - covertype_categorical9_loss: 1.3369 - covertype_categorical10_loss: 3.3109 - covertype_cls_categorical_accuracy: 0.9141 - val_loss: 11.8403 - val_covertype_cls_loss: 0.6496 - val_covertype_bernoulli_loss: 0.0966 - val_covertype_categorical1_loss: 3.5812 - val_covertype_categorical2_loss: 1.4131 - val_covertype_categorical3_loss: 0.2975 - val_covertype_categorical4_loss: 2.3434 - val_covertype_categorical5_loss: 3.0013 - val_covertype_categorical6_loss: 3.5985 - val_covertype_categorical7_loss: 1.2061 - val_covertype_categorical8_loss: 1.0797 - val_covertype_categorical9_loss: 1.4928 - val_covertype_categorical10_loss: 3.7420 - val_covertype_cls_categorical_accuracy: 0.8251\n",
      "Epoch 81/1000\n",
      "129/129 [==============================] - 26s 198ms/step - loss: 10.0554 - covertype_cls_loss: 0.4807 - covertype_bernoulli_loss: 0.0663 - covertype_categorical1_loss: 2.3547 - covertype_categorical2_loss: 1.3311 - covertype_categorical3_loss: 0.2785 - covertype_categorical4_loss: 1.9698 - covertype_categorical5_loss: 2.6797 - covertype_categorical6_loss: 3.1458 - covertype_categorical7_loss: 1.0973 - covertype_categorical8_loss: 1.0436 - covertype_categorical9_loss: 1.3444 - covertype_categorical10_loss: 3.2965 - covertype_cls_categorical_accuracy: 0.9122 - val_loss: 12.2378 - val_covertype_cls_loss: 0.6506 - val_covertype_bernoulli_loss: 0.0961 - val_covertype_categorical1_loss: 3.7133 - val_covertype_categorical2_loss: 1.4926 - val_covertype_categorical3_loss: 0.3889 - val_covertype_categorical4_loss: 2.4219 - val_covertype_categorical5_loss: 3.0806 - val_covertype_categorical6_loss: 3.6652 - val_covertype_categorical7_loss: 1.2741 - val_covertype_categorical8_loss: 1.1412 - val_covertype_categorical9_loss: 1.5584 - val_covertype_categorical10_loss: 3.8120 - val_covertype_cls_categorical_accuracy: 0.8226\n",
      "Epoch 82/1000\n",
      "129/129 [==============================] - 25s 197ms/step - loss: 10.0401 - covertype_cls_loss: 0.4770 - covertype_bernoulli_loss: 0.0664 - covertype_categorical1_loss: 2.3615 - covertype_categorical2_loss: 1.3181 - covertype_categorical3_loss: 0.2715 - covertype_categorical4_loss: 1.9791 - covertype_categorical5_loss: 2.6747 - covertype_categorical6_loss: 3.1502 - covertype_categorical7_loss: 1.0852 - covertype_categorical8_loss: 1.0384 - covertype_categorical9_loss: 1.3483 - covertype_categorical10_loss: 3.2911 - covertype_cls_categorical_accuracy: 0.9145 - val_loss: 11.8322 - val_covertype_cls_loss: 0.6368 - val_covertype_bernoulli_loss: 0.0924 - val_covertype_categorical1_loss: 3.5612 - val_covertype_categorical2_loss: 1.4308 - val_covertype_categorical3_loss: 0.2734 - val_covertype_categorical4_loss: 2.3559 - val_covertype_categorical5_loss: 3.0299 - val_covertype_categorical6_loss: 3.6032 - val_covertype_categorical7_loss: 1.1968 - val_covertype_categorical8_loss: 1.0963 - val_covertype_categorical9_loss: 1.4938 - val_covertype_categorical10_loss: 3.7291 - val_covertype_cls_categorical_accuracy: 0.8314\n",
      "Epoch 83/1000\n",
      "129/129 [==============================] - 24s 189ms/step - loss: 9.9746 - covertype_cls_loss: 0.4764 - covertype_bernoulli_loss: 0.0662 - covertype_categorical1_loss: 2.3451 - covertype_categorical2_loss: 1.3139 - covertype_categorical3_loss: 0.2493 - covertype_categorical4_loss: 1.9700 - covertype_categorical5_loss: 2.6795 - covertype_categorical6_loss: 3.1331 - covertype_categorical7_loss: 1.0722 - covertype_categorical8_loss: 1.0215 - covertype_categorical9_loss: 1.3201 - covertype_categorical10_loss: 3.2836 - covertype_cls_categorical_accuracy: 0.9145 - val_loss: 12.1094 - val_covertype_cls_loss: 0.6562 - val_covertype_bernoulli_loss: 0.0936 - val_covertype_categorical1_loss: 3.6836 - val_covertype_categorical2_loss: 1.4481 - val_covertype_categorical3_loss: 0.2963 - val_covertype_categorical4_loss: 2.4018 - val_covertype_categorical5_loss: 3.0274 - val_covertype_categorical6_loss: 3.7165 - val_covertype_categorical7_loss: 1.2392 - val_covertype_categorical8_loss: 1.1595 - val_covertype_categorical9_loss: 1.5492 - val_covertype_categorical10_loss: 3.7625 - val_covertype_cls_categorical_accuracy: 0.8216\n",
      "Epoch 84/1000\n",
      "129/129 [==============================] - 25s 193ms/step - loss: 10.0522 - covertype_cls_loss: 0.4751 - covertype_bernoulli_loss: 0.0654 - covertype_categorical1_loss: 2.3523 - covertype_categorical2_loss: 1.3205 - covertype_categorical3_loss: 0.2529 - covertype_categorical4_loss: 2.0454 - covertype_categorical5_loss: 2.7113 - covertype_categorical6_loss: 3.1409 - covertype_categorical7_loss: 1.0773 - covertype_categorical8_loss: 1.0346 - covertype_categorical9_loss: 1.3319 - covertype_categorical10_loss: 3.2807 - covertype_cls_categorical_accuracy: 0.9154 - val_loss: 11.7186 - val_covertype_cls_loss: 0.6366 - val_covertype_bernoulli_loss: 0.0911 - val_covertype_categorical1_loss: 3.5440 - val_covertype_categorical2_loss: 1.4301 - val_covertype_categorical3_loss: 0.2724 - val_covertype_categorical4_loss: 2.3391 - val_covertype_categorical5_loss: 2.9623 - val_covertype_categorical6_loss: 3.5619 - val_covertype_categorical7_loss: 1.1901 - val_covertype_categorical8_loss: 1.0796 - val_covertype_categorical9_loss: 1.4878 - val_covertype_categorical10_loss: 3.6784 - val_covertype_cls_categorical_accuracy: 0.8323\n",
      "Epoch 85/1000\n",
      "129/129 [==============================] - 26s 198ms/step - loss: 9.9070 - covertype_cls_loss: 0.4747 - covertype_bernoulli_loss: 0.0648 - covertype_categorical1_loss: 2.3282 - covertype_categorical2_loss: 1.3144 - covertype_categorical3_loss: 0.2476 - covertype_categorical4_loss: 1.9379 - covertype_categorical5_loss: 2.6330 - covertype_categorical6_loss: 3.1106 - covertype_categorical7_loss: 1.0755 - covertype_categorical8_loss: 1.0252 - covertype_categorical9_loss: 1.3302 - covertype_categorical10_loss: 3.2544 - covertype_cls_categorical_accuracy: 0.9156 - val_loss: 12.0572 - val_covertype_cls_loss: 0.6323 - val_covertype_bernoulli_loss: 0.1002 - val_covertype_categorical1_loss: 3.6891 - val_covertype_categorical2_loss: 1.4783 - val_covertype_categorical3_loss: 0.2877 - val_covertype_categorical4_loss: 2.3912 - val_covertype_categorical5_loss: 3.0168 - val_covertype_categorical6_loss: 3.6746 - val_covertype_categorical7_loss: 1.2209 - val_covertype_categorical8_loss: 1.1450 - val_covertype_categorical9_loss: 1.5315 - val_covertype_categorical10_loss: 3.7836 - val_covertype_cls_categorical_accuracy: 0.8335\n",
      "Epoch 86/1000\n",
      "129/129 [==============================] - 26s 197ms/step - loss: 9.9387 - covertype_cls_loss: 0.4712 - covertype_bernoulli_loss: 0.0643 - covertype_categorical1_loss: 2.3326 - covertype_categorical2_loss: 1.3135 - covertype_categorical3_loss: 0.2672 - covertype_categorical4_loss: 1.9476 - covertype_categorical5_loss: 2.6456 - covertype_categorical6_loss: 3.1160 - covertype_categorical7_loss: 1.0738 - covertype_categorical8_loss: 1.0352 - covertype_categorical9_loss: 1.3289 - covertype_categorical10_loss: 3.2673 - covertype_cls_categorical_accuracy: 0.9175 - val_loss: 11.7018 - val_covertype_cls_loss: 0.6364 - val_covertype_bernoulli_loss: 0.0849 - val_covertype_categorical1_loss: 3.5390 - val_covertype_categorical2_loss: 1.4044 - val_covertype_categorical3_loss: 0.2917 - val_covertype_categorical4_loss: 2.3097 - val_covertype_categorical5_loss: 2.9603 - val_covertype_categorical6_loss: 3.5671 - val_covertype_categorical7_loss: 1.1901 - val_covertype_categorical8_loss: 1.0870 - val_covertype_categorical9_loss: 1.4943 - val_covertype_categorical10_loss: 3.6714 - val_covertype_cls_categorical_accuracy: 0.8327\n",
      "Epoch 87/1000\n"
     ]
    },
    {
     "name": "stdout",
     "output_type": "stream",
     "text": [
      "129/129 [==============================] - 24s 185ms/step - loss: 9.8995 - covertype_cls_loss: 0.4716 - covertype_bernoulli_loss: 0.0639 - covertype_categorical1_loss: 2.3217 - covertype_categorical2_loss: 1.3099 - covertype_categorical3_loss: 0.2644 - covertype_categorical4_loss: 1.9375 - covertype_categorical5_loss: 2.6351 - covertype_categorical6_loss: 3.1090 - covertype_categorical7_loss: 1.0660 - covertype_categorical8_loss: 1.0219 - covertype_categorical9_loss: 1.3251 - covertype_categorical10_loss: 3.2588 - covertype_cls_categorical_accuracy: 0.9168 - val_loss: 12.0044 - val_covertype_cls_loss: 0.6353 - val_covertype_bernoulli_loss: 0.0988 - val_covertype_categorical1_loss: 3.6219 - val_covertype_categorical2_loss: 1.4465 - val_covertype_categorical3_loss: 0.2895 - val_covertype_categorical4_loss: 2.4081 - val_covertype_categorical5_loss: 3.0333 - val_covertype_categorical6_loss: 3.6528 - val_covertype_categorical7_loss: 1.2472 - val_covertype_categorical8_loss: 1.1179 - val_covertype_categorical9_loss: 1.5367 - val_covertype_categorical10_loss: 3.7561 - val_covertype_cls_categorical_accuracy: 0.8334\n",
      "Epoch 88/1000\n",
      "129/129 [==============================] - 24s 188ms/step - loss: 9.8698 - covertype_cls_loss: 0.4698 - covertype_bernoulli_loss: 0.0633 - covertype_categorical1_loss: 2.3215 - covertype_categorical2_loss: 1.3000 - covertype_categorical3_loss: 0.2498 - covertype_categorical4_loss: 1.9364 - covertype_categorical5_loss: 2.6281 - covertype_categorical6_loss: 3.0982 - covertype_categorical7_loss: 1.0676 - covertype_categorical8_loss: 1.0217 - covertype_categorical9_loss: 1.3246 - covertype_categorical10_loss: 3.2461 - covertype_cls_categorical_accuracy: 0.9186 - val_loss: 11.6089 - val_covertype_cls_loss: 0.6302 - val_covertype_bernoulli_loss: 0.0853 - val_covertype_categorical1_loss: 3.5351 - val_covertype_categorical2_loss: 1.3787 - val_covertype_categorical3_loss: 0.2718 - val_covertype_categorical4_loss: 2.2901 - val_covertype_categorical5_loss: 2.9455 - val_covertype_categorical6_loss: 3.5359 - val_covertype_categorical7_loss: 1.1718 - val_covertype_categorical8_loss: 1.0699 - val_covertype_categorical9_loss: 1.4657 - val_covertype_categorical10_loss: 3.6777 - val_covertype_cls_categorical_accuracy: 0.83490.0623 - covertype_categorical1_loss: 2.3114 - covertype_categorical2_loss: 1.3029 - covertype_categorical3_loss: 0.2513 - covertype_categorical4_loss: 1.9351 - covertype_categorical5_loss: 2.6237 - covertype_categorical6_loss: 3.0962 - covertype_categorical7_loss: 1.0675 - covertype_categorical8_loss: 1.0225 - covertype_categorical9_loss: 1.327\n",
      "Epoch 89/1000\n",
      "129/129 [==============================] - 26s 202ms/step - loss: 9.9098 - covertype_cls_loss: 0.4715 - covertype_bernoulli_loss: 0.0622 - covertype_categorical1_loss: 2.3269 - covertype_categorical2_loss: 1.3101 - covertype_categorical3_loss: 0.2732 - covertype_categorical4_loss: 1.9388 - covertype_categorical5_loss: 2.6189 - covertype_categorical6_loss: 3.0985 - covertype_categorical7_loss: 1.0729 - covertype_categorical8_loss: 1.0410 - covertype_categorical9_loss: 1.3339 - covertype_categorical10_loss: 3.2580 - covertype_cls_categorical_accuracy: 0.9170 - val_loss: 11.9596 - val_covertype_cls_loss: 0.6342 - val_covertype_bernoulli_loss: 0.0857 - val_covertype_categorical1_loss: 3.6563 - val_covertype_categorical2_loss: 1.4412 - val_covertype_categorical3_loss: 0.3075 - val_covertype_categorical4_loss: 2.3520 - val_covertype_categorical5_loss: 2.9707 - val_covertype_categorical6_loss: 3.6316 - val_covertype_categorical7_loss: 1.2375 - val_covertype_categorical8_loss: 1.1075 - val_covertype_categorical9_loss: 1.5287 - val_covertype_categorical10_loss: 3.8013 - val_covertype_cls_categorical_accuracy: 0.8346\n",
      "Epoch 90/1000\n",
      "129/129 [==============================] - 26s 200ms/step - loss: 9.8135 - covertype_cls_loss: 0.4695 - covertype_bernoulli_loss: 0.0618 - covertype_categorical1_loss: 2.3112 - covertype_categorical2_loss: 1.2838 - covertype_categorical3_loss: 0.2437 - covertype_categorical4_loss: 1.9331 - covertype_categorical5_loss: 2.6221 - covertype_categorical6_loss: 3.0875 - covertype_categorical7_loss: 1.0495 - covertype_categorical8_loss: 1.0080 - covertype_categorical9_loss: 1.3028 - covertype_categorical10_loss: 3.2418 - covertype_cls_categorical_accuracy: 0.9185 - val_loss: 11.5897 - val_covertype_cls_loss: 0.6326 - val_covertype_bernoulli_loss: 0.0879 - val_covertype_categorical1_loss: 3.5114 - val_covertype_categorical2_loss: 1.3997 - val_covertype_categorical3_loss: 0.2649 - val_covertype_categorical4_loss: 2.2823 - val_covertype_categorical5_loss: 2.9385 - val_covertype_categorical6_loss: 3.5406 - val_covertype_categorical7_loss: 1.1529 - val_covertype_categorical8_loss: 1.0581 - val_covertype_categorical9_loss: 1.4755 - val_covertype_categorical10_loss: 3.6705 - val_covertype_cls_categorical_accuracy: 0.8337overtype_categorical4_loss: 1.9487 - covertype_categorical5_loss: 2.6305 - covertype_categorical6_loss: 3.0920 - covertype_categorical7_loss: 1.0542 - covertype_categorical8_loss: 1.0096 - covertype_categorical9_loss: 1.3010 - covertype_categorical10_loss: 3.2485 - c\n",
      "Epoch 91/1000\n",
      "129/129 [==============================] - 24s 189ms/step - loss: 9.8061 - covertype_cls_loss: 0.4713 - covertype_bernoulli_loss: 0.0616 - covertype_categorical1_loss: 2.2986 - covertype_categorical2_loss: 1.2913 - covertype_categorical3_loss: 0.2385 - covertype_categorical4_loss: 1.9431 - covertype_categorical5_loss: 2.6167 - covertype_categorical6_loss: 3.0783 - covertype_categorical7_loss: 1.0517 - covertype_categorical8_loss: 1.0090 - covertype_categorical9_loss: 1.3057 - covertype_categorical10_loss: 3.2314 - covertype_cls_categorical_accuracy: 0.9168 - val_loss: 12.1317 - val_covertype_cls_loss: 0.6363 - val_covertype_bernoulli_loss: 0.0973 - val_covertype_categorical1_loss: 3.7153 - val_covertype_categorical2_loss: 1.4514 - val_covertype_categorical3_loss: 0.2927 - val_covertype_categorical4_loss: 2.4143 - val_covertype_categorical5_loss: 3.1197 - val_covertype_categorical6_loss: 3.6626 - val_covertype_categorical7_loss: 1.2296 - val_covertype_categorical8_loss: 1.1068 - val_covertype_categorical9_loss: 1.5862 - val_covertype_categorical10_loss: 3.7842 - val_covertype_cls_categorical_accuracy: 0.8311ype_bernoulli_loss: 0.0625 - covertype_categorical1_loss: 2.3069 - covertype_categorical2_loss: 1.2819 - covertype_categorical3_loss: 0.2395 - covertype_categorical4_loss: 1.9153 - covertype_categorical5_loss: 2.6185 - covertype_categorical6_loss: 3.0809 - covertype_categorical7_loss: 1.0531 - covertype_categorical - ETA: 0s - loss: 9.8027 - covertype_cls_loss: 0.4715 - covertype_bernoulli_loss: 0.0615 - covertype_categorical1_loss: 2.2980 - covertype_categorical2_loss: 1.2908 - covertype_categorical3_loss: 0.2380 - covertype_categorical4_loss: 1.9411 - covertype_categorical5_loss: 2.6151 - covertype_categorical6_loss: 3.0772 - covertype_categorical7_loss: 1.0526 - covertype_categorical8_loss: 1.0087 - covertype_categorical9_loss: 1.3048 - covertype_categorical10_loss: 3.2306 - covertype_cls_categorical_accuracy: \n",
      "Epoch 92/1000\n",
      "129/129 [==============================] - 26s 198ms/step - loss: 9.8234 - covertype_cls_loss: 0.4670 - covertype_bernoulli_loss: 0.0624 - covertype_categorical1_loss: 2.3146 - covertype_categorical2_loss: 1.2986 - covertype_categorical3_loss: 0.2491 - covertype_categorical4_loss: 1.9207 - covertype_categorical5_loss: 2.6168 - covertype_categorical6_loss: 3.0860 - covertype_categorical7_loss: 1.0662 - covertype_categorical8_loss: 1.0097 - covertype_categorical9_loss: 1.3170 - covertype_categorical10_loss: 3.2285 - covertype_cls_categorical_accuracy: 0.9194 - val_loss: 11.5592 - val_covertype_cls_loss: 0.6313 - val_covertype_bernoulli_loss: 0.0822 - val_covertype_categorical1_loss: 3.5285 - val_covertype_categorical2_loss: 1.3669 - val_covertype_categorical3_loss: 0.2630 - val_covertype_categorical4_loss: 2.3050 - val_covertype_categorical5_loss: 2.9094 - val_covertype_categorical6_loss: 3.5171 - val_covertype_categorical7_loss: 1.1764 - val_covertype_categorical8_loss: 1.0548 - val_covertype_categorical9_loss: 1.4701 - val_covertype_categorical10_loss: 3.6528 - val_covertype_cls_categorical_accuracy: 0.8350\n"
     ]
    },
    {
     "name": "stdout",
     "output_type": "stream",
     "text": [
      "Epoch 93/1000\n",
      "129/129 [==============================] - 24s 187ms/step - loss: 9.7453 - covertype_cls_loss: 0.4680 - covertype_bernoulli_loss: 0.0606 - covertype_categorical1_loss: 2.2975 - covertype_categorical2_loss: 1.2786 - covertype_categorical3_loss: 0.2338 - covertype_categorical4_loss: 1.9134 - covertype_categorical5_loss: 2.5940 - covertype_categorical6_loss: 3.0648 - covertype_categorical7_loss: 1.0446 - covertype_categorical8_loss: 0.9984 - covertype_categorical9_loss: 1.3019 - covertype_categorical10_loss: 3.2238 - covertype_cls_categorical_accuracy: 0.9186 - val_loss: 11.8352 - val_covertype_cls_loss: 0.6371 - val_covertype_bernoulli_loss: 0.0956 - val_covertype_categorical1_loss: 3.6099 - val_covertype_categorical2_loss: 1.4326 - val_covertype_categorical3_loss: 0.2873 - val_covertype_categorical4_loss: 2.3407 - val_covertype_categorical5_loss: 2.9917 - val_covertype_categorical6_loss: 3.5897 - val_covertype_categorical7_loss: 1.1993 - val_covertype_categorical8_loss: 1.0953 - val_covertype_categorical9_loss: 1.5080 - val_covertype_categorical10_loss: 3.7152 - val_covertype_cls_categorical_accuracy: 0.8317\n",
      "Epoch 94/1000\n",
      "129/129 [==============================] - 26s 204ms/step - loss: 9.8173 - covertype_cls_loss: 0.4659 - covertype_bernoulli_loss: 0.0622 - covertype_categorical1_loss: 2.2957 - covertype_categorical2_loss: 1.3109 - covertype_categorical3_loss: 0.2532 - covertype_categorical4_loss: 1.9323 - covertype_categorical5_loss: 2.6045 - covertype_categorical6_loss: 3.0595 - covertype_categorical7_loss: 1.0761 - covertype_categorical8_loss: 1.0238 - covertype_categorical9_loss: 1.3308 - covertype_categorical10_loss: 3.2108 - covertype_cls_categorical_accuracy: 0.9199 - val_loss: 11.4935 - val_covertype_cls_loss: 0.6247 - val_covertype_bernoulli_loss: 0.0851 - val_covertype_categorical1_loss: 3.4932 - val_covertype_categorical2_loss: 1.3717 - val_covertype_categorical3_loss: 0.2433 - val_covertype_categorical4_loss: 2.2952 - val_covertype_categorical5_loss: 2.9012 - val_covertype_categorical6_loss: 3.4861 - val_covertype_categorical7_loss: 1.1663 - val_covertype_categorical8_loss: 1.0406 - val_covertype_categorical9_loss: 1.4637 - val_covertype_categorical10_loss: 3.6598 - val_covertype_cls_categorical_accuracy: 0.8394rtype_bernoulli_loss: 0.0629 - covertype_categorical1_loss: 2.3085 - covertype_categorical2_loss: 1.3027 - covertype_categorical3_loss: 0.2392 - covertype_categorical4_loss: 1.9543 - covertype_categorical5_loss: 2.6231 - covertype_categorical6_loss: 3.0768 - covertype_categorical7_loss: 1.0740 - covertype_categorical8_loss: 1.0108 - covertype_categorical9_\n",
      "Epoch 95/1000\n",
      "129/129 [==============================] - 23s 178ms/step - loss: 9.6887 - covertype_cls_loss: 0.4647 - covertype_bernoulli_loss: 0.0604 - covertype_categorical1_loss: 2.2830 - covertype_categorical2_loss: 1.2641 - covertype_categorical3_loss: 0.2331 - covertype_categorical4_loss: 1.8932 - covertype_categorical5_loss: 2.5723 - covertype_categorical6_loss: 3.0555 - covertype_categorical7_loss: 1.0463 - covertype_categorical8_loss: 0.9921 - covertype_categorical9_loss: 1.3023 - covertype_categorical10_loss: 3.2010 - covertype_cls_categorical_accuracy: 0.9201 - val_loss: 11.8428 - val_covertype_cls_loss: 0.6315 - val_covertype_bernoulli_loss: 0.0958 - val_covertype_categorical1_loss: 3.6463 - val_covertype_categorical2_loss: 1.4108 - val_covertype_categorical3_loss: 0.2689 - val_covertype_categorical4_loss: 2.3219 - val_covertype_categorical5_loss: 2.9953 - val_covertype_categorical6_loss: 3.5865 - val_covertype_categorical7_loss: 1.2234 - val_covertype_categorical8_loss: 1.0856 - val_covertype_categorical9_loss: 1.5173 - val_covertype_categorical10_loss: 3.7389 - val_covertype_cls_categorical_accuracy: 0.8319\n",
      "Epoch 96/1000\n",
      "129/129 [==============================] - 25s 193ms/step - loss: 9.7078 - covertype_cls_loss: 0.4668 - covertype_bernoulli_loss: 0.0596 - covertype_categorical1_loss: 2.2810 - covertype_categorical2_loss: 1.2797 - covertype_categorical3_loss: 0.2463 - covertype_categorical4_loss: 1.8933 - covertype_categorical5_loss: 2.5827 - covertype_categorical6_loss: 3.0446 - covertype_categorical7_loss: 1.0469 - covertype_categorical8_loss: 0.9912 - covertype_categorical9_loss: 1.2965 - covertype_categorical10_loss: 3.2162 - covertype_cls_categorical_accuracy: 0.9193 - val_loss: 11.4237 - val_covertype_cls_loss: 0.6224 - val_covertype_bernoulli_loss: 0.0820 - val_covertype_categorical1_loss: 3.4777 - val_covertype_categorical2_loss: 1.3710 - val_covertype_categorical3_loss: 0.2569 - val_covertype_categorical4_loss: 2.2475 - val_covertype_categorical5_loss: 2.8944 - val_covertype_categorical6_loss: 3.4947 - val_covertype_categorical7_loss: 1.1592 - val_covertype_categorical8_loss: 1.0354 - val_covertype_categorical9_loss: 1.4343 - val_covertype_categorical10_loss: 3.6185 - val_covertype_cls_categorical_accuracy: 0.8395ype_bernoulli_loss: 0.0594 - covertype_categorical1_loss: 2.2819 - covertype_categorical2_loss: 1.2747 - covertype_categorical3_loss: 0.2437 - covertype_categorical4_loss: 1.9013 - covertype_categorical5_loss: 2.5890 - covertype_categorical6_loss: 3.0407 - covertype_categorical7_loss: 1.0413 - covertype_categorical8_loss: 0.9850 - covertype_categorical9_loss: 1.2911 - covertype_categorical10_loss: 3.2205 - covertyp - ETA: 0s - loss: 9.7053 - covertype_cls_loss: 0.4669 - covertype_bernoulli_loss: 0.0595 - covertype_categorical1_loss: 2.2808 - covertype_categorical2_loss: 1.2777 - covertype_categorical3_loss: 0.2463 - covertype_categorical4_loss: 1.8936 - covertype_categorical5_loss: 2.5829 - covertype_categorical6_loss: 3.0440 - covertype_categorical7_loss: 1.0455 - covertype_categorical8_loss: 0.9904 - covertype_categorical9_loss: 1.2953 - covertype_categorical10_loss: 3.2167 - covertype_cls_categorical_accuracy: 0\n",
      "Epoch 97/1000\n",
      "129/129 [==============================] - 26s 204ms/step - loss: 9.6649 - covertype_cls_loss: 0.4639 - covertype_bernoulli_loss: 0.0592 - covertype_categorical1_loss: 2.2802 - covertype_categorical2_loss: 1.2773 - covertype_categorical3_loss: 0.2312 - covertype_categorical4_loss: 1.8822 - covertype_categorical5_loss: 2.5660 - covertype_categorical6_loss: 3.0406 - covertype_categorical7_loss: 1.0439 - covertype_categorical8_loss: 0.9866 - covertype_categorical9_loss: 1.2985 - covertype_categorical10_loss: 3.1913 - covertype_cls_categorical_accuracy: 0.9210 - val_loss: 11.8728 - val_covertype_cls_loss: 0.6179 - val_covertype_bernoulli_loss: 0.0841 - val_covertype_categorical1_loss: 3.5959 - val_covertype_categorical2_loss: 1.4430 - val_covertype_categorical3_loss: 0.3276 - val_covertype_categorical4_loss: 2.3092 - val_covertype_categorical5_loss: 2.9534 - val_covertype_categorical6_loss: 3.6123 - val_covertype_categorical7_loss: 1.2622 - val_covertype_categorical8_loss: 1.1086 - val_covertype_categorical9_loss: 1.5201 - val_covertype_categorical10_loss: 3.7620 - val_covertype_cls_categorical_accuracy: 0.8421\n",
      "Epoch 98/1000\n",
      "129/129 [==============================] - 26s 203ms/step - loss: 9.6715 - covertype_cls_loss: 0.4638 - covertype_bernoulli_loss: 0.0589 - covertype_categorical1_loss: 2.2754 - covertype_categorical2_loss: 1.2786 - covertype_categorical3_loss: 0.2268 - covertype_categorical4_loss: 1.8926 - covertype_categorical5_loss: 2.5702 - covertype_categorical6_loss: 3.0303 - covertype_categorical7_loss: 1.0499 - covertype_categorical8_loss: 0.9936 - covertype_categorical9_loss: 1.2973 - covertype_categorical10_loss: 3.1976 - covertype_cls_categorical_accuracy: 0.9203 - val_loss: 11.4537 - val_covertype_cls_loss: 0.6137 - val_covertype_bernoulli_loss: 0.0807 - val_covertype_categorical1_loss: 3.5124 - val_covertype_categorical2_loss: 1.3787 - val_covertype_categorical3_loss: 0.2499 - val_covertype_categorical4_loss: 2.2703 - val_covertype_categorical5_loss: 2.8876 - val_covertype_categorical6_loss: 3.4799 - val_covertype_categorical7_loss: 1.1519 - val_covertype_categorical8_loss: 1.0592 - val_covertype_categorical9_loss: 1.4548 - val_covertype_categorical10_loss: 3.6233 - val_covertype_cls_categorical_accuracy: 0.8430\n",
      "Epoch 99/1000\n",
      "129/129 [==============================] - 26s 199ms/step - loss: 9.6867 - covertype_cls_loss: 0.4633 - covertype_bernoulli_loss: 0.0584 - covertype_categorical1_loss: 2.2737 - covertype_categorical2_loss: 1.2754 - covertype_categorical3_loss: 0.2378 - covertype_categorical4_loss: 1.8962 - covertype_categorical5_loss: 2.5734 - covertype_categorical6_loss: 3.0350 - covertype_categorical7_loss: 1.0464 - covertype_categorical8_loss: 1.0062 - covertype_categorical9_loss: 1.3119 - covertype_categorical10_loss: 3.1885 - covertype_cls_categorical_accuracy: 0.9203 - val_loss: 11.8581 - val_covertype_cls_loss: 0.6246 - val_covertype_bernoulli_loss: 0.0871 - val_covertype_categorical1_loss: 3.6087 - val_covertype_categorical2_loss: 1.4209 - val_covertype_categorical3_loss: 0.2811 - val_covertype_categorical4_loss: 2.3113 - val_covertype_categorical5_loss: 3.0190 - val_covertype_categorical6_loss: 3.5815 - val_covertype_categorical7_loss: 1.2095 - val_covertype_categorical8_loss: 1.1388 - val_covertype_categorical9_loss: 1.5311 - val_covertype_categorical10_loss: 3.7478 - val_covertype_cls_categorical_accuracy: 0.8391 covertype_categorical2_loss: 1.2754 - covertype_categorical3_loss: 0.2378 - covertype_categorical4_loss: 1.8962 - covertype_categorical5_loss: 2.5734 - covertype_categorical6_loss: 3.0350 - covertype_categorical7_loss: 1.0464 - covertype_categorical8_loss: 1.0062 - covertype_categorical9_loss: 1.3119 - covertype_categorical10_loss: 3.1885 - covertype_cls_categorical_accuracy: 0.920\n",
      "Epoch 100/1000\n",
      "129/129 [==============================] - 26s 200ms/step - loss: 9.7261 - covertype_cls_loss: 0.4618 - covertype_bernoulli_loss: 0.0591 - covertype_categorical1_loss: 2.2742 - covertype_categorical2_loss: 1.2832 - covertype_categorical3_loss: 0.2349 - covertype_categorical4_loss: 1.9640 - covertype_categorical5_loss: 2.5907 - covertype_categorical6_loss: 3.0308 - covertype_categorical7_loss: 1.0516 - covertype_categorical8_loss: 0.9956 - covertype_categorical9_loss: 1.3124 - covertype_categorical10_loss: 3.1884 - covertype_cls_categorical_accuracy: 0.9217 - val_loss: 11.3174 - val_covertype_cls_loss: 0.6199 - val_covertype_bernoulli_loss: 0.0810 - val_covertype_categorical1_loss: 3.4641 - val_covertype_categorical2_loss: 1.3558 - val_covertype_categorical3_loss: 0.2351 - val_covertype_categorical4_loss: 2.2312 - val_covertype_categorical5_loss: 2.8444 - val_covertype_categorical6_loss: 3.4489 - val_covertype_categorical7_loss: 1.1437 - val_covertype_categorical8_loss: 1.0243 - val_covertype_categorical9_loss: 1.4210 - val_covertype_categorical10_loss: 3.6149 - val_covertype_cls_categorical_accuracy: 0.839786 - covertype_categorical1_loss: 2.2697 - covertype_categorical2_loss: 1.2944 - covertype_categorical3_loss: 0.2304 - covertype_categorical4_loss: 1.8688 - covertype_categorical5_loss: 2.5647 - covertype_categorical6_loss: 3.0326 - covertype_categorical7_loss: 1.0572 - covertype_ca\n",
      "Epoch 101/1000\n",
      "129/129 [==============================] - 25s 192ms/step - loss: 9.5640 - covertype_cls_loss: 0.4583 - covertype_bernoulli_loss: 0.0580 - covertype_categorical1_loss: 2.2504 - covertype_categorical2_loss: 1.2503 - covertype_categorical3_loss: 0.2315 - covertype_categorical4_loss: 1.8753 - covertype_categorical5_loss: 2.5414 - covertype_categorical6_loss: 3.0089 - covertype_categorical7_loss: 1.0192 - covertype_categorical8_loss: 0.9806 - covertype_categorical9_loss: 1.2768 - covertype_categorical10_loss: 3.1738 - covertype_cls_categorical_accuracy: 0.9238 - val_loss: 11.8148 - val_covertype_cls_loss: 0.6276 - val_covertype_bernoulli_loss: 0.0851 - val_covertype_categorical1_loss: 3.6000 - val_covertype_categorical2_loss: 1.4350 - val_covertype_categorical3_loss: 0.3294 - val_covertype_categorical4_loss: 2.3052 - val_covertype_categorical5_loss: 2.9431 - val_covertype_categorical6_loss: 3.5344 - val_covertype_categorical7_loss: 1.2457 - val_covertype_categorical8_loss: 1.1288 - val_covertype_categorical9_loss: 1.5418 - val_covertype_categorical10_loss: 3.6950 - val_covertype_cls_categorical_accuracy: 0.8370\n",
      "Epoch 102/1000\n",
      "129/129 [==============================] - 25s 193ms/step - loss: 9.5493 - covertype_cls_loss: 0.4602 - covertype_bernoulli_loss: 0.0580 - covertype_categorical1_loss: 2.2551 - covertype_categorical2_loss: 1.2572 - covertype_categorical3_loss: 0.2228 - covertype_categorical4_loss: 1.8584 - covertype_categorical5_loss: 2.5336 - covertype_categorical6_loss: 2.9996 - covertype_categorical7_loss: 1.0253 - covertype_categorical8_loss: 0.9742 - covertype_categorical9_loss: 1.2794 - covertype_categorical10_loss: 3.1688 - covertype_cls_categorical_accuracy: 0.9219 - val_loss: 11.3577 - val_covertype_cls_loss: 0.6163 - val_covertype_bernoulli_loss: 0.0822 - val_covertype_categorical1_loss: 3.5087 - val_covertype_categorical2_loss: 1.3436 - val_covertype_categorical3_loss: 0.2495 - val_covertype_categorical4_loss: 2.2305 - val_covertype_categorical5_loss: 2.8464 - val_covertype_categorical6_loss: 3.4627 - val_covertype_categorical7_loss: 1.1640 - val_covertype_categorical8_loss: 1.0256 - val_covertype_categorical9_loss: 1.4405 - val_covertype_categorical10_loss: 3.5970 - val_covertype_cls_categorical_accuracy: 0.8437\n",
      "Epoch 103/1000\n",
      "129/129 [==============================] - 25s 193ms/step - loss: 9.6194 - covertype_cls_loss: 0.4608 - covertype_bernoulli_loss: 0.0576 - covertype_categorical1_loss: 2.2612 - covertype_categorical2_loss: 1.2565 - covertype_categorical3_loss: 0.2468 - covertype_categorical4_loss: 1.8817 - covertype_categorical5_loss: 2.5536 - covertype_categorical6_loss: 3.0232 - covertype_categorical7_loss: 1.0394 - covertype_categorical8_loss: 0.9894 - covertype_categorical9_loss: 1.2967 - covertype_categorical10_loss: 3.1660 - covertype_cls_categorical_accuracy: 0.9218 - val_loss: 11.7801 - val_covertype_cls_loss: 0.6194 - val_covertype_bernoulli_loss: 0.0783 - val_covertype_categorical1_loss: 3.5627 - val_covertype_categorical2_loss: 1.4845 - val_covertype_categorical3_loss: 0.2694 - val_covertype_categorical4_loss: 2.3065 - val_covertype_categorical5_loss: 2.9469 - val_covertype_categorical6_loss: 3.5848 - val_covertype_categorical7_loss: 1.2652 - val_covertype_categorical8_loss: 1.0981 - val_covertype_categorical9_loss: 1.4979 - val_covertype_categorical10_loss: 3.6956 - val_covertype_cls_categorical_accuracy: 0.8425\n",
      "Epoch 104/1000\n",
      "129/129 [==============================] - 25s 192ms/step - loss: 9.5490 - covertype_cls_loss: 0.4572 - covertype_bernoulli_loss: 0.0569 - covertype_categorical1_loss: 2.2471 - covertype_categorical2_loss: 1.2656 - covertype_categorical3_loss: 0.2251 - covertype_categorical4_loss: 1.8567 - covertype_categorical5_loss: 2.5290 - covertype_categorical6_loss: 2.9982 - covertype_categorical7_loss: 1.0377 - covertype_categorical8_loss: 0.9831 - covertype_categorical9_loss: 1.2909 - covertype_categorical10_loss: 3.1473 - covertype_cls_categorical_accuracy: 0.9235 - val_loss: 11.3632 - val_covertype_cls_loss: 0.6134 - val_covertype_bernoulli_loss: 0.0743 - val_covertype_categorical1_loss: 3.4638 - val_covertype_categorical2_loss: 1.3589 - val_covertype_categorical3_loss: 0.2401 - val_covertype_categorical4_loss: 2.2581 - val_covertype_categorical5_loss: 2.8614 - val_covertype_categorical6_loss: 3.4685 - val_covertype_categorical7_loss: 1.1470 - val_covertype_categorical8_loss: 1.0346 - val_covertype_categorical9_loss: 1.4536 - val_covertype_categorical10_loss: 3.6073 - val_covertype_cls_categorical_accuracy: 0.8449\n",
      "Epoch 105/1000\n",
      "129/129 [==============================] - 26s 205ms/step - loss: 9.5426 - covertype_cls_loss: 0.4580 - covertype_bernoulli_loss: 0.0566 - covertype_categorical1_loss: 2.2462 - covertype_categorical2_loss: 1.2503 - covertype_categorical3_loss: 0.2295 - covertype_categorical4_loss: 1.8677 - covertype_categorical5_loss: 2.5342 - covertype_categorical6_loss: 3.0006 - covertype_categorical7_loss: 1.0221 - covertype_categorical8_loss: 0.9780 - covertype_categorical9_loss: 1.2855 - covertype_categorical10_loss: 3.1534 - covertype_cls_categorical_accuracy: 0.9234 - val_loss: 11.8233 - val_covertype_cls_loss: 0.6177 - val_covertype_bernoulli_loss: 0.0820 - val_covertype_categorical1_loss: 3.5960 - val_covertype_categorical2_loss: 1.4014 - val_covertype_categorical3_loss: 0.3663 - val_covertype_categorical4_loss: 2.2949 - val_covertype_categorical5_loss: 2.9546 - val_covertype_categorical6_loss: 3.5836 - val_covertype_categorical7_loss: 1.2216 - val_covertype_categorical8_loss: 1.1191 - val_covertype_categorical9_loss: 1.5338 - val_covertype_categorical10_loss: 3.7263 - val_covertype_cls_categorical_accuracy: 0.8403\n"
     ]
    },
    {
     "name": "stdout",
     "output_type": "stream",
     "text": [
      "Epoch 106/1000\n",
      "129/129 [==============================] - 25s 191ms/step - loss: 9.5238 - covertype_cls_loss: 0.4595 - covertype_bernoulli_loss: 0.0567 - covertype_categorical1_loss: 2.2426 - covertype_categorical2_loss: 1.2568 - covertype_categorical3_loss: 0.2268 - covertype_categorical4_loss: 1.8560 - covertype_categorical5_loss: 2.5145 - covertype_categorical6_loss: 2.9924 - covertype_categorical7_loss: 1.0312 - covertype_categorical8_loss: 0.9733 - covertype_categorical9_loss: 1.2885 - covertype_categorical10_loss: 3.1445 - covertype_cls_categorical_accuracy: 0.9221 - val_loss: 11.3156 - val_covertype_cls_loss: 0.6178 - val_covertype_bernoulli_loss: 0.0793 - val_covertype_categorical1_loss: 3.4569 - val_covertype_categorical2_loss: 1.3584 - val_covertype_categorical3_loss: 0.2322 - val_covertype_categorical4_loss: 2.2205 - val_covertype_categorical5_loss: 2.8303 - val_covertype_categorical6_loss: 3.4293 - val_covertype_categorical7_loss: 1.1533 - val_covertype_categorical8_loss: 1.0373 - val_covertype_categorical9_loss: 1.4715 - val_covertype_categorical10_loss: 3.5945 - val_covertype_cls_categorical_accuracy: 0.8409overtype_categorical2_loss: 1.2541 - covertype_categorical3_loss: 0.2456 - covertype_categorical4_loss: 1.8587 - covertype_categorical5_loss: 2.5227 - covertype_categorical6_loss: 3.0047 - covertype_categorical7_loss: 1.0340 - covertype_categorical8_loss: 0.9814 - covertype_categorical9_loss: 1.2884 - covertype_categorical10_loss: 3.1505 - covertype_cls_cate - ETA: 11s - loss: 9.5283 - covertype_cls_loss: 0.4587 - covertype_bernoulli_loss: 0.0568 - covertype_categorical1_loss: 2.2335 - covertype_categorical2_loss: 1.2529 - covertype_categorical3_loss: 0.2387 - covertype_categorical4_loss: 1.8568 - covertype_categorical5_loss: 2.5180 - covertype_categorical6_loss: 2.9999 - covertype_categorical7_loss: 1.0273 - covertype_categorical8_loss: 0.9821 - covertype_categorical9_loss: 1.2844 - covertype\n",
      "Epoch 107/1000\n",
      "129/129 [==============================] - 25s 192ms/step - loss: 9.5025 - covertype_cls_loss: 0.4569 - covertype_bernoulli_loss: 0.0558 - covertype_categorical1_loss: 2.2420 - covertype_categorical2_loss: 1.2601 - covertype_categorical3_loss: 0.2223 - covertype_categorical4_loss: 1.8394 - covertype_categorical5_loss: 2.5103 - covertype_categorical6_loss: 2.9791 - covertype_categorical7_loss: 1.0323 - covertype_categorical8_loss: 0.9732 - covertype_categorical9_loss: 1.2873 - covertype_categorical10_loss: 3.1440 - covertype_cls_categorical_accuracy: 0.9236 - val_loss: 11.5841 - val_covertype_cls_loss: 0.6237 - val_covertype_bernoulli_loss: 0.0848 - val_covertype_categorical1_loss: 3.5360 - val_covertype_categorical2_loss: 1.3862 - val_covertype_categorical3_loss: 0.2674 - val_covertype_categorical4_loss: 2.2503 - val_covertype_categorical5_loss: 2.9145 - val_covertype_categorical6_loss: 3.5164 - val_covertype_categorical7_loss: 1.1737 - val_covertype_categorical8_loss: 1.1010 - val_covertype_categorical9_loss: 1.4711 - val_covertype_categorical10_loss: 3.6865 - val_covertype_cls_categorical_accuracy: 0.8378\n",
      "Epoch 108/1000\n",
      "129/129 [==============================] - 26s 201ms/step - loss: 9.5092 - covertype_cls_loss: 0.4562 - covertype_bernoulli_loss: 0.0554 - covertype_categorical1_loss: 2.2344 - covertype_categorical2_loss: 1.2483 - covertype_categorical3_loss: 0.2357 - covertype_categorical4_loss: 1.8732 - covertype_categorical5_loss: 2.5168 - covertype_categorical6_loss: 2.9780 - covertype_categorical7_loss: 1.0245 - covertype_categorical8_loss: 0.9726 - covertype_categorical9_loss: 1.2694 - covertype_categorical10_loss: 3.1523 - covertype_cls_categorical_accuracy: 0.9246 - val_loss: 11.2463 - val_covertype_cls_loss: 0.6123 - val_covertype_bernoulli_loss: 0.0793 - val_covertype_categorical1_loss: 3.4445 - val_covertype_categorical2_loss: 1.3482 - val_covertype_categorical3_loss: 0.2361 - val_covertype_categorical4_loss: 2.2098 - val_covertype_categorical5_loss: 2.8358 - val_covertype_categorical6_loss: 3.4249 - val_covertype_categorical7_loss: 1.1233 - val_covertype_categorical8_loss: 1.0242 - val_covertype_categorical9_loss: 1.4338 - val_covertype_categorical10_loss: 3.5766 - val_covertype_cls_categorical_accuracy: 0.8423ertype_categorical2_loss: 1.2560 - covertype_categorical3_loss: 0.2555 - covertype_categorical4_loss: 1.8736 - covertype_categorical5_loss: 2.5297 - covertype_categorical6_loss: 2.9933 - covertype_categorical7_loss: 1.0362 - covertype_categorical8_loss: 0.9762 - covertype_cat\n",
      "Epoch 109/1000\n",
      "129/129 [==============================] - 26s 199ms/step - loss: 9.4801 - covertype_cls_loss: 0.4544 - covertype_bernoulli_loss: 0.0546 - covertype_categorical1_loss: 2.2252 - covertype_categorical2_loss: 1.2409 - covertype_categorical3_loss: 0.2248 - covertype_categorical4_loss: 1.8657 - covertype_categorical5_loss: 2.5200 - covertype_categorical6_loss: 2.9686 - covertype_categorical7_loss: 1.0174 - covertype_categorical8_loss: 0.9715 - covertype_categorical9_loss: 1.2743 - covertype_categorical10_loss: 3.1432 - covertype_cls_categorical_accuracy: 0.9254 - val_loss: 11.5752 - val_covertype_cls_loss: 0.6248 - val_covertype_bernoulli_loss: 0.0864 - val_covertype_categorical1_loss: 3.5736 - val_covertype_categorical2_loss: 1.3877 - val_covertype_categorical3_loss: 0.2595 - val_covertype_categorical4_loss: 2.2650 - val_covertype_categorical5_loss: 2.8949 - val_covertype_categorical6_loss: 3.5033 - val_covertype_categorical7_loss: 1.1839 - val_covertype_categorical8_loss: 1.0539 - val_covertype_categorical9_loss: 1.4670 - val_covertype_categorical10_loss: 3.6927 - val_covertype_cls_categorical_accuracy: 0.8392\n",
      "Epoch 110/1000\n",
      "129/129 [==============================] - 25s 196ms/step - loss: 9.4638 - covertype_cls_loss: 0.4533 - covertype_bernoulli_loss: 0.0555 - covertype_categorical1_loss: 2.2200 - covertype_categorical2_loss: 1.2469 - covertype_categorical3_loss: 0.2275 - covertype_categorical4_loss: 1.8433 - covertype_categorical5_loss: 2.5040 - covertype_categorical6_loss: 2.9649 - covertype_categorical7_loss: 1.0213 - covertype_categorical8_loss: 0.9833 - covertype_categorical9_loss: 1.2824 - covertype_categorical10_loss: 3.1262 - covertype_cls_categorical_accuracy: 0.9258 - val_loss: 11.2557 - val_covertype_cls_loss: 0.6060 - val_covertype_bernoulli_loss: 0.0753 - val_covertype_categorical1_loss: 3.4398 - val_covertype_categorical2_loss: 1.3445 - val_covertype_categorical3_loss: 0.2404 - val_covertype_categorical4_loss: 2.2192 - val_covertype_categorical5_loss: 2.8164 - val_covertype_categorical6_loss: 3.4307 - val_covertype_categorical7_loss: 1.1476 - val_covertype_categorical8_loss: 1.0293 - val_covertype_categorical9_loss: 1.4415 - val_covertype_categorical10_loss: 3.5818 - val_covertype_cls_categorical_accuracy: 0.8480\n",
      "Epoch 111/1000\n",
      "129/129 [==============================] - 25s 190ms/step - loss: 9.4365 - covertype_cls_loss: 0.4542 - covertype_bernoulli_loss: 0.0546 - covertype_categorical1_loss: 2.2238 - covertype_categorical2_loss: 1.2383 - covertype_categorical3_loss: 0.2233 - covertype_categorical4_loss: 1.8404 - covertype_categorical5_loss: 2.4959 - covertype_categorical6_loss: 2.9635 - covertype_categorical7_loss: 1.0148 - covertype_categorical8_loss: 0.9691 - covertype_categorical9_loss: 1.2718 - covertype_categorical10_loss: 3.1231 - covertype_cls_categorical_accuracy: 0.9250 - val_loss: 11.5923 - val_covertype_cls_loss: 0.6096 - val_covertype_bernoulli_loss: 0.0822 - val_covertype_categorical1_loss: 3.5704 - val_covertype_categorical2_loss: 1.3878 - val_covertype_categorical3_loss: 0.2465 - val_covertype_categorical4_loss: 2.3107 - val_covertype_categorical5_loss: 2.8835 - val_covertype_categorical6_loss: 3.5173 - val_covertype_categorical7_loss: 1.1889 - val_covertype_categorical8_loss: 1.0766 - val_covertype_categorical9_loss: 1.4769 - val_covertype_categorical10_loss: 3.6923 - val_covertype_cls_categorical_accuracy: 0.8430\n",
      "Epoch 112/1000\n",
      "129/129 [==============================] - 26s 202ms/step - loss: 9.4781 - covertype_cls_loss: 0.4561 - covertype_bernoulli_loss: 0.0562 - covertype_categorical1_loss: 2.2206 - covertype_categorical2_loss: 1.2435 - covertype_categorical3_loss: 0.2148 - covertype_categorical4_loss: 1.9211 - covertype_categorical5_loss: 2.5251 - covertype_categorical6_loss: 2.9545 - covertype_categorical7_loss: 1.0121 - covertype_categorical8_loss: 0.9619 - covertype_categorical9_loss: 1.2682 - covertype_categorical10_loss: 3.1195 - covertype_cls_categorical_accuracy: 0.9242 - val_loss: 11.2120 - val_covertype_cls_loss: 0.6053 - val_covertype_bernoulli_loss: 0.0733 - val_covertype_categorical1_loss: 3.4574 - val_covertype_categorical2_loss: 1.3216 - val_covertype_categorical3_loss: 0.2161 - val_covertype_categorical4_loss: 2.1964 - val_covertype_categorical5_loss: 2.8024 - val_covertype_categorical6_loss: 3.4268 - val_covertype_categorical7_loss: 1.1607 - val_covertype_categorical8_loss: 1.0200 - val_covertype_categorical9_loss: 1.4418 - val_covertype_categorical10_loss: 3.5646 - val_covertype_cls_categorical_accuracy: 0.8498\n",
      "Epoch 113/1000\n",
      "129/129 [==============================] - 26s 199ms/step - loss: 9.3713 - covertype_cls_loss: 0.4502 - covertype_bernoulli_loss: 0.0532 - covertype_categorical1_loss: 2.2208 - covertype_categorical2_loss: 1.2277 - covertype_categorical3_loss: 0.2071 - covertype_categorical4_loss: 1.8201 - covertype_categorical5_loss: 2.4892 - covertype_categorical6_loss: 2.9479 - covertype_categorical7_loss: 1.0016 - covertype_categorical8_loss: 0.9538 - covertype_categorical9_loss: 1.2598 - covertype_categorical10_loss: 3.1149 - covertype_cls_categorical_accuracy: 0.9271 - val_loss: 11.6027 - val_covertype_cls_loss: 0.6121 - val_covertype_bernoulli_loss: 0.0813 - val_covertype_categorical1_loss: 3.5451 - val_covertype_categorical2_loss: 1.3941 - val_covertype_categorical3_loss: 0.2707 - val_covertype_categorical4_loss: 2.2891 - val_covertype_categorical5_loss: 2.8659 - val_covertype_categorical6_loss: 3.5234 - val_covertype_categorical7_loss: 1.2423 - val_covertype_categorical8_loss: 1.0653 - val_covertype_categorical9_loss: 1.5170 - val_covertype_categorical10_loss: 3.6529 - val_covertype_cls_categorical_accuracy: 0.8466e_bernoulli_loss: 0.0531 - covertype_categorical1_loss: 2.2216 - covertype_categorical2_loss: 1.2299 - covertype_categorical3_loss: 0.2072 - covertype_categorical4_loss: 1.8217 - covertype_categorical5_loss: 2.4946 - covertype_categorical6_loss: 2.9508 - covertype_categorical7_loss: 1.0052 - covertype_categorical8_loss: 0.9557 - covertype_categorical9_loss: 1.2645 - covertype_categorical10_loss: 3.1177 - covertype_cls_categ\n",
      "Epoch 114/1000\n",
      "129/129 [==============================] - 26s 199ms/step - loss: 9.4110 - covertype_cls_loss: 0.4526 - covertype_bernoulli_loss: 0.0545 - covertype_categorical1_loss: 2.2182 - covertype_categorical2_loss: 1.2365 - covertype_categorical3_loss: 0.2151 - covertype_categorical4_loss: 1.8324 - covertype_categorical5_loss: 2.4822 - covertype_categorical6_loss: 2.9586 - covertype_categorical7_loss: 1.0164 - covertype_categorical8_loss: 0.9694 - covertype_categorical9_loss: 1.2751 - covertype_categorical10_loss: 3.1123 - covertype_cls_categorical_accuracy: 0.9259 - val_loss: 11.2115 - val_covertype_cls_loss: 0.6053 - val_covertype_bernoulli_loss: 0.0734 - val_covertype_categorical1_loss: 3.4309 - val_covertype_categorical2_loss: 1.3445 - val_covertype_categorical3_loss: 0.2258 - val_covertype_categorical4_loss: 2.2166 - val_covertype_categorical5_loss: 2.8082 - val_covertype_categorical6_loss: 3.4051 - val_covertype_categorical7_loss: 1.1382 - val_covertype_categorical8_loss: 1.0215 - val_covertype_categorical9_loss: 1.4374 - val_covertype_categorical10_loss: 3.5785 - val_covertype_cls_categorical_accuracy: 0.8474\n",
      "Epoch 115/1000\n",
      "129/129 [==============================] - 26s 201ms/step - loss: 9.3862 - covertype_cls_loss: 0.4523 - covertype_bernoulli_loss: 0.0534 - covertype_categorical1_loss: 2.2102 - covertype_categorical2_loss: 1.2394 - covertype_categorical3_loss: 0.2263 - covertype_categorical4_loss: 1.8192 - covertype_categorical5_loss: 2.4743 - covertype_categorical6_loss: 2.9453 - covertype_categorical7_loss: 1.0169 - covertype_categorical8_loss: 0.9624 - covertype_categorical9_loss: 1.2716 - covertype_categorical10_loss: 3.1019 - covertype_cls_categorical_accuracy: 0.9256 - val_loss: 11.6802 - val_covertype_cls_loss: 0.6073 - val_covertype_bernoulli_loss: 0.0822 - val_covertype_categorical1_loss: 3.5888 - val_covertype_categorical2_loss: 1.4646 - val_covertype_categorical3_loss: 0.2521 - val_covertype_categorical4_loss: 2.2608 - val_covertype_categorical5_loss: 2.8891 - val_covertype_categorical6_loss: 3.5120 - val_covertype_categorical7_loss: 1.2478 - val_covertype_categorical8_loss: 1.0849 - val_covertype_categorical9_loss: 1.5741 - val_covertype_categorical10_loss: 3.6575 - val_covertype_cls_categorical_accuracy: 0.8476\n",
      "Epoch 116/1000\n",
      "129/129 [==============================] - 25s 194ms/step - loss: 9.4064 - covertype_cls_loss: 0.4515 - covertype_bernoulli_loss: 0.0530 - covertype_categorical1_loss: 2.2107 - covertype_categorical2_loss: 1.2489 - covertype_categorical3_loss: 0.2289 - covertype_categorical4_loss: 1.8201 - covertype_categorical5_loss: 2.4803 - covertype_categorical6_loss: 2.9293 - covertype_categorical7_loss: 1.0197 - covertype_categorical8_loss: 0.9767 - covertype_categorical9_loss: 1.2879 - covertype_categorical10_loss: 3.1089 - covertype_cls_categorical_accuracy: 0.9264 - val_loss: 11.0886 - val_covertype_cls_loss: 0.6048 - val_covertype_bernoulli_loss: 0.0767 - val_covertype_categorical1_loss: 3.4001 - val_covertype_categorical2_loss: 1.3100 - val_covertype_categorical3_loss: 0.2138 - val_covertype_categorical4_loss: 2.1720 - val_covertype_categorical5_loss: 2.7863 - val_covertype_categorical6_loss: 3.3842 - val_covertype_categorical7_loss: 1.1164 - val_covertype_categorical8_loss: 1.0198 - val_covertype_categorical9_loss: 1.3980 - val_covertype_categorical10_loss: 3.5574 - val_covertype_cls_categorical_accuracy: 0.8492\n",
      "Epoch 117/1000\n",
      "129/129 [==============================] - 25s 197ms/step - loss: 9.2846 - covertype_cls_loss: 0.4502 - covertype_bernoulli_loss: 0.0530 - covertype_categorical1_loss: 2.1963 - covertype_categorical2_loss: 1.2149 - covertype_categorical3_loss: 0.1932 - covertype_categorical4_loss: 1.8017 - covertype_categorical5_loss: 2.4595 - covertype_categorical6_loss: 2.9231 - covertype_categorical7_loss: 0.9932 - covertype_categorical8_loss: 0.9472 - covertype_categorical9_loss: 1.2530 - covertype_categorical10_loss: 3.0864 - covertype_cls_categorical_accuracy: 0.9269 - val_loss: 11.3967 - val_covertype_cls_loss: 0.6103 - val_covertype_bernoulli_loss: 0.0728 - val_covertype_categorical1_loss: 3.4801 - val_covertype_categorical2_loss: 1.3924 - val_covertype_categorical3_loss: 0.2248 - val_covertype_categorical4_loss: 2.2138 - val_covertype_categorical5_loss: 2.8532 - val_covertype_categorical6_loss: 3.4705 - val_covertype_categorical7_loss: 1.1394 - val_covertype_categorical8_loss: 1.0646 - val_covertype_categorical9_loss: 1.5043 - val_covertype_categorical10_loss: 3.6231 - val_covertype_cls_categorical_accuracy: 0.8460\n",
      "Epoch 118/1000\n",
      "129/129 [==============================] - 25s 192ms/step - loss: 9.3532 - covertype_cls_loss: 0.4484 - covertype_bernoulli_loss: 0.0529 - covertype_categorical1_loss: 2.1965 - covertype_categorical2_loss: 1.2122 - covertype_categorical3_loss: 0.2263 - covertype_categorical4_loss: 1.8209 - covertype_categorical5_loss: 2.4868 - covertype_categorical6_loss: 2.9380 - covertype_categorical7_loss: 1.0030 - covertype_categorical8_loss: 0.9646 - covertype_categorical9_loss: 1.2660 - covertype_categorical10_loss: 3.0952 - covertype_cls_categorical_accuracy: 0.9279 - val_loss: 11.0247 - val_covertype_cls_loss: 0.5989 - val_covertype_bernoulli_loss: 0.0716 - val_covertype_categorical1_loss: 3.3952 - val_covertype_categorical2_loss: 1.3062 - val_covertype_categorical3_loss: 0.2195 - val_covertype_categorical4_loss: 2.1580 - val_covertype_categorical5_loss: 2.7530 - val_covertype_categorical6_loss: 3.3730 - val_covertype_categorical7_loss: 1.0976 - val_covertype_categorical8_loss: 1.0005 - val_covertype_categorical9_loss: 1.4136 - val_covertype_categorical10_loss: 3.5310 - val_covertype_cls_categorical_accuracy: 0.8527\n"
     ]
    },
    {
     "name": "stdout",
     "output_type": "stream",
     "text": [
      "Epoch 119/1000\n",
      "129/129 [==============================] - 24s 183ms/step - loss: 9.2743 - covertype_cls_loss: 0.4513 - covertype_bernoulli_loss: 0.0534 - covertype_categorical1_loss: 2.1925 - covertype_categorical2_loss: 1.2186 - covertype_categorical3_loss: 0.1971 - covertype_categorical4_loss: 1.8047 - covertype_categorical5_loss: 2.4494 - covertype_categorical6_loss: 2.9193 - covertype_categorical7_loss: 0.9963 - covertype_categorical8_loss: 0.9446 - covertype_categorical9_loss: 1.2468 - covertype_categorical10_loss: 3.0760 - covertype_cls_categorical_accuracy: 0.9265 - val_loss: 11.4935 - val_covertype_cls_loss: 0.6088 - val_covertype_bernoulli_loss: 0.0706 - val_covertype_categorical1_loss: 3.5185 - val_covertype_categorical2_loss: 1.4043 - val_covertype_categorical3_loss: 0.2403 - val_covertype_categorical4_loss: 2.2526 - val_covertype_categorical5_loss: 2.8716 - val_covertype_categorical6_loss: 3.4872 - val_covertype_categorical7_loss: 1.1994 - val_covertype_categorical8_loss: 1.0552 - val_covertype_categorical9_loss: 1.4798 - val_covertype_categorical10_loss: 3.6576 - val_covertype_cls_categorical_accuracy: 0.8475\n",
      "Epoch 120/1000\n",
      "129/129 [==============================] - 25s 191ms/step - loss: 9.3209 - covertype_cls_loss: 0.4471 - covertype_bernoulli_loss: 0.0528 - covertype_categorical1_loss: 2.1916 - covertype_categorical2_loss: 1.2406 - covertype_categorical3_loss: 0.2048 - covertype_categorical4_loss: 1.8100 - covertype_categorical5_loss: 2.4533 - covertype_categorical6_loss: 2.9253 - covertype_categorical7_loss: 1.0133 - covertype_categorical8_loss: 0.9565 - covertype_categorical9_loss: 1.2688 - covertype_categorical10_loss: 3.0841 - covertype_cls_categorical_accuracy: 0.9284 - val_loss: 11.1316 - val_covertype_cls_loss: 0.5981 - val_covertype_bernoulli_loss: 0.0714 - val_covertype_categorical1_loss: 3.3909 - val_covertype_categorical2_loss: 1.3513 - val_covertype_categorical3_loss: 0.2198 - val_covertype_categorical4_loss: 2.1722 - val_covertype_categorical5_loss: 2.7904 - val_covertype_categorical6_loss: 3.4075 - val_covertype_categorical7_loss: 1.1522 - val_covertype_categorical8_loss: 1.0142 - val_covertype_categorical9_loss: 1.4372 - val_covertype_categorical10_loss: 3.5267 - val_covertype_cls_categorical_accuracy: 0.8516\n",
      "Epoch 121/1000\n",
      "129/129 [==============================] - 25s 193ms/step - loss: 9.2605 - covertype_cls_loss: 0.4470 - covertype_bernoulli_loss: 0.0516 - covertype_categorical1_loss: 2.1902 - covertype_categorical2_loss: 1.2176 - covertype_categorical3_loss: 0.2042 - covertype_categorical4_loss: 1.8013 - covertype_categorical5_loss: 2.4427 - covertype_categorical6_loss: 2.9104 - covertype_categorical7_loss: 0.9891 - covertype_categorical8_loss: 0.9495 - covertype_categorical9_loss: 1.2461 - covertype_categorical10_loss: 3.0774 - covertype_cls_categorical_accuracy: 0.9284 - val_loss: 11.4529 - val_covertype_cls_loss: 0.6086 - val_covertype_bernoulli_loss: 0.0793 - val_covertype_categorical1_loss: 3.5409 - val_covertype_categorical2_loss: 1.3992 - val_covertype_categorical3_loss: 0.2415 - val_covertype_categorical4_loss: 2.2252 - val_covertype_categorical5_loss: 2.8359 - val_covertype_categorical6_loss: 3.4492 - val_covertype_categorical7_loss: 1.1889 - val_covertype_categorical8_loss: 1.0632 - val_covertype_categorical9_loss: 1.4972 - val_covertype_categorical10_loss: 3.6349 - val_covertype_cls_categorical_accuracy: 0.8484ype_categorical2_loss: 1.2250 - covertype_categorical3_loss: 0.2068 - covertype_categorical4_loss: 1.8043 - covertype_categorical5_loss: 2.4505 - covertype_categorical6_loss: 2.9170 - covertype_categorical7_loss: 0.9942 - covertype_categorical8_loss: 0.9509 - covertype_categorical9_loss: 1.2524 - covertype_categorical10_loss: 3.0831 - c\n",
      "Epoch 122/1000\n",
      "129/129 [==============================] - 25s 194ms/step - loss: 9.3123 - covertype_cls_loss: 0.4479 - covertype_bernoulli_loss: 0.0538 - covertype_categorical1_loss: 2.1901 - covertype_categorical2_loss: 1.2249 - covertype_categorical3_loss: 0.2111 - covertype_categorical4_loss: 1.8279 - covertype_categorical5_loss: 2.4645 - covertype_categorical6_loss: 2.9100 - covertype_categorical7_loss: 1.0026 - covertype_categorical8_loss: 0.9542 - covertype_categorical9_loss: 1.2631 - covertype_categorical10_loss: 3.0798 - covertype_cls_categorical_accuracy: 0.9275 - val_loss: 11.0293 - val_covertype_cls_loss: 0.5990 - val_covertype_bernoulli_loss: 0.0703 - val_covertype_categorical1_loss: 3.3912 - val_covertype_categorical2_loss: 1.3130 - val_covertype_categorical3_loss: 0.2155 - val_covertype_categorical4_loss: 2.1775 - val_covertype_categorical5_loss: 2.7725 - val_covertype_categorical6_loss: 3.3659 - val_covertype_categorical7_loss: 1.1024 - val_covertype_categorical8_loss: 0.9931 - val_covertype_categorical9_loss: 1.4048 - val_covertype_categorical10_loss: 3.5212 - val_covertype_cls_categorical_accuracy: 0.8499\n",
      "Epoch 123/1000\n",
      "129/129 [==============================] - 25s 195ms/step - loss: 9.2185 - covertype_cls_loss: 0.4469 - covertype_bernoulli_loss: 0.0513 - covertype_categorical1_loss: 2.1803 - covertype_categorical2_loss: 1.2022 - covertype_categorical3_loss: 0.2010 - covertype_categorical4_loss: 1.8022 - covertype_categorical5_loss: 2.4326 - covertype_categorical6_loss: 2.9035 - covertype_categorical7_loss: 0.9824 - covertype_categorical8_loss: 0.9375 - covertype_categorical9_loss: 1.2394 - covertype_categorical10_loss: 3.0626 - covertype_cls_categorical_accuracy: 0.9277 - val_loss: 11.4759 - val_covertype_cls_loss: 0.6068 - val_covertype_bernoulli_loss: 0.0749 - val_covertype_categorical1_loss: 3.5079 - val_covertype_categorical2_loss: 1.3952 - val_covertype_categorical3_loss: 0.2684 - val_covertype_categorical4_loss: 2.2344 - val_covertype_categorical5_loss: 2.8660 - val_covertype_categorical6_loss: 3.4836 - val_covertype_categorical7_loss: 1.1440 - val_covertype_categorical8_loss: 1.0815 - val_covertype_categorical9_loss: 1.4758 - val_covertype_categorical10_loss: 3.6723 - val_covertype_cls_categorical_accuracy: 0.84822_loss: 1.2027 - covertype_categorical3_loss: 0.1997 - covertype_categorical4_loss: 1.8047 - covertype_categorical5_loss: 2.4288 - covertype_categorical6_loss: 2.8994 - covertype_categorical7_loss: 0.9813 - covertype_categorical8_loss: 0.9319 - covertype_categorical9_loss: 1.2384 - covertype_categorical10_loss: 3.0598 - covertype_cls\n",
      "Epoch 124/1000\n",
      "129/129 [==============================] - 25s 197ms/step - loss: 9.2269 - covertype_cls_loss: 0.4444 - covertype_bernoulli_loss: 0.0509 - covertype_categorical1_loss: 2.1743 - covertype_categorical2_loss: 1.2016 - covertype_categorical3_loss: 0.2110 - covertype_categorical4_loss: 1.7842 - covertype_categorical5_loss: 2.4391 - covertype_categorical6_loss: 2.8970 - covertype_categorical7_loss: 0.9911 - covertype_categorical8_loss: 0.9415 - covertype_categorical9_loss: 1.2483 - covertype_categorical10_loss: 3.0779 - covertype_cls_categorical_accuracy: 0.9295 - val_loss: 11.0086 - val_covertype_cls_loss: 0.5945 - val_covertype_bernoulli_loss: 0.0757 - val_covertype_categorical1_loss: 3.3750 - val_covertype_categorical2_loss: 1.3087 - val_covertype_categorical3_loss: 0.2092 - val_covertype_categorical4_loss: 2.1570 - val_covertype_categorical5_loss: 2.7410 - val_covertype_categorical6_loss: 3.3535 - val_covertype_categorical7_loss: 1.1106 - val_covertype_categorical8_loss: 1.0036 - val_covertype_categorical9_loss: 1.4204 - val_covertype_categorical10_loss: 3.5398 - val_covertype_cls_categorical_accuracy: 0.8537\n",
      "Epoch 125/1000\n",
      "129/129 [==============================] - 27s 206ms/step - loss: 9.2522 - covertype_cls_loss: 0.4460 - covertype_bernoulli_loss: 0.0514 - covertype_categorical1_loss: 2.1711 - covertype_categorical2_loss: 1.2063 - covertype_categorical3_loss: 0.2207 - covertype_categorical4_loss: 1.8067 - covertype_categorical5_loss: 2.4340 - covertype_categorical6_loss: 2.9027 - covertype_categorical7_loss: 1.0034 - covertype_categorical8_loss: 0.9422 - covertype_categorical9_loss: 1.2595 - covertype_categorical10_loss: 3.0669 - covertype_cls_categorical_accuracy: 0.9286 - val_loss: 11.3525 - val_covertype_cls_loss: 0.6102 - val_covertype_bernoulli_loss: 0.0796 - val_covertype_categorical1_loss: 3.4525 - val_covertype_categorical2_loss: 1.3582 - val_covertype_categorical3_loss: 0.2750 - val_covertype_categorical4_loss: 2.2103 - val_covertype_categorical5_loss: 2.7990 - val_covertype_categorical6_loss: 3.4730 - val_covertype_categorical7_loss: 1.1758 - val_covertype_categorical8_loss: 1.0421 - val_covertype_categorical9_loss: 1.4718 - val_covertype_categorical10_loss: 3.6124 - val_covertype_cls_categorical_accuracy: 0.8458\n",
      "Epoch 126/1000\n",
      "129/129 [==============================] - 27s 207ms/step - loss: 9.2147 - covertype_cls_loss: 0.4419 - covertype_bernoulli_loss: 0.0500 - covertype_categorical1_loss: 2.1753 - covertype_categorical2_loss: 1.2097 - covertype_categorical3_loss: 0.2151 - covertype_categorical4_loss: 1.7910 - covertype_categorical5_loss: 2.4269 - covertype_categorical6_loss: 2.8949 - covertype_categorical7_loss: 0.9890 - covertype_categorical8_loss: 0.9382 - covertype_categorical9_loss: 1.2474 - covertype_categorical10_loss: 3.0597 - covertype_cls_categorical_accuracy: 0.9308 - val_loss: 11.0134 - val_covertype_cls_loss: 0.5907 - val_covertype_bernoulli_loss: 0.0706 - val_covertype_categorical1_loss: 3.3804 - val_covertype_categorical2_loss: 1.3281 - val_covertype_categorical3_loss: 0.2209 - val_covertype_categorical4_loss: 2.1653 - val_covertype_categorical5_loss: 2.7387 - val_covertype_categorical6_loss: 3.3560 - val_covertype_categorical7_loss: 1.1218 - val_covertype_categorical8_loss: 1.0093 - val_covertype_categorical9_loss: 1.3930 - val_covertype_categorical10_loss: 3.5268 - val_covertype_cls_categorical_accuracy: 0.8539\n",
      "Epoch 127/1000\n",
      "129/129 [==============================] - 26s 200ms/step - loss: 9.1773 - covertype_cls_loss: 0.4470 - covertype_bernoulli_loss: 0.0503 - covertype_categorical1_loss: 2.1677 - covertype_categorical2_loss: 1.2067 - covertype_categorical3_loss: 0.1965 - covertype_categorical4_loss: 1.7775 - covertype_categorical5_loss: 2.4174 - covertype_categorical6_loss: 2.8747 - covertype_categorical7_loss: 0.9916 - covertype_categorical8_loss: 0.9328 - covertype_categorical9_loss: 1.2479 - covertype_categorical10_loss: 3.0490 - covertype_cls_categorical_accuracy: 0.9283 - val_loss: 11.4946 - val_covertype_cls_loss: 0.6093 - val_covertype_bernoulli_loss: 0.0713 - val_covertype_categorical1_loss: 3.5863 - val_covertype_categorical2_loss: 1.3963 - val_covertype_categorical3_loss: 0.2346 - val_covertype_categorical4_loss: 2.2115 - val_covertype_categorical5_loss: 2.8547 - val_covertype_categorical6_loss: 3.4501 - val_covertype_categorical7_loss: 1.1872 - val_covertype_categorical8_loss: 1.0587 - val_covertype_categorical9_loss: 1.5323 - val_covertype_categorical10_loss: 3.6536 - val_covertype_cls_categorical_accuracy: 0.8463\n",
      "Epoch 128/1000\n",
      "129/129 [==============================] - 26s 201ms/step - loss: 9.2824 - covertype_cls_loss: 0.4437 - covertype_bernoulli_loss: 0.0514 - covertype_categorical1_loss: 2.1797 - covertype_categorical2_loss: 1.2101 - covertype_categorical3_loss: 0.2056 - covertype_categorical4_loss: 1.8547 - covertype_categorical5_loss: 2.4761 - covertype_categorical6_loss: 2.8954 - covertype_categorical7_loss: 0.9957 - covertype_categorical8_loss: 0.9379 - covertype_categorical9_loss: 1.2579 - covertype_categorical10_loss: 3.0655 - covertype_cls_categorical_accuracy: 0.9304 - val_loss: 11.1000 - val_covertype_cls_loss: 0.5920 - val_covertype_bernoulli_loss: 0.0702 - val_covertype_categorical1_loss: 3.3996 - val_covertype_categorical2_loss: 1.3485 - val_covertype_categorical3_loss: 0.2387 - val_covertype_categorical4_loss: 2.1985 - val_covertype_categorical5_loss: 2.8034 - val_covertype_categorical6_loss: 3.3567 - val_covertype_categorical7_loss: 1.1040 - val_covertype_categorical8_loss: 1.0082 - val_covertype_categorical9_loss: 1.4227 - val_covertype_categorical10_loss: 3.5338 - val_covertype_cls_categorical_accuracy: 0.8537\n",
      "Epoch 129/1000\n",
      "129/129 [==============================] - 26s 200ms/step - loss: 9.1294 - covertype_cls_loss: 0.4407 - covertype_bernoulli_loss: 0.0504 - covertype_categorical1_loss: 2.1535 - covertype_categorical2_loss: 1.1970 - covertype_categorical3_loss: 0.1927 - covertype_categorical4_loss: 1.7683 - covertype_categorical5_loss: 2.4141 - covertype_categorical6_loss: 2.8670 - covertype_categorical7_loss: 0.9768 - covertype_categorical8_loss: 0.9281 - covertype_categorical9_loss: 1.2360 - covertype_categorical10_loss: 3.0454 - covertype_cls_categorical_accuracy: 0.9317 - val_loss: 11.4076 - val_covertype_cls_loss: 0.5974 - val_covertype_bernoulli_loss: 0.0741 - val_covertype_categorical1_loss: 3.5001 - val_covertype_categorical2_loss: 1.3879 - val_covertype_categorical3_loss: 0.2496 - val_covertype_categorical4_loss: 2.2307 - val_covertype_categorical5_loss: 2.8268 - val_covertype_categorical6_loss: 3.4600 - val_covertype_categorical7_loss: 1.1592 - val_covertype_categorical8_loss: 1.0578 - val_covertype_categorical9_loss: 1.4831 - val_covertype_categorical10_loss: 3.6584 - val_covertype_cls_categorical_accuracy: 0.8523\n",
      "Epoch 130/1000\n",
      "129/129 [==============================] - 26s 201ms/step - loss: 9.1755 - covertype_cls_loss: 0.4450 - covertype_bernoulli_loss: 0.0494 - covertype_categorical1_loss: 2.1654 - covertype_categorical2_loss: 1.2005 - covertype_categorical3_loss: 0.2136 - covertype_categorical4_loss: 1.7841 - covertype_categorical5_loss: 2.4103 - covertype_categorical6_loss: 2.8707 - covertype_categorical7_loss: 0.9772 - covertype_categorical8_loss: 0.9476 - covertype_categorical9_loss: 1.2485 - covertype_categorical10_loss: 3.0466 - covertype_cls_categorical_accuracy: 0.9286 - val_loss: 11.0266 - val_covertype_cls_loss: 0.5939 - val_covertype_bernoulli_loss: 0.0706 - val_covertype_categorical1_loss: 3.3816 - val_covertype_categorical2_loss: 1.3149 - val_covertype_categorical3_loss: 0.2262 - val_covertype_categorical4_loss: 2.1682 - val_covertype_categorical5_loss: 2.7586 - val_covertype_categorical6_loss: 3.3398 - val_covertype_categorical7_loss: 1.1168 - val_covertype_categorical8_loss: 1.0250 - val_covertype_categorical9_loss: 1.4249 - val_covertype_categorical10_loss: 3.5049 - val_covertype_cls_categorical_accuracy: 0.8518\n",
      "Epoch 131/1000\n",
      "129/129 [==============================] - 25s 191ms/step - loss: 9.1369 - covertype_cls_loss: 0.4394 - covertype_bernoulli_loss: 0.0492 - covertype_categorical1_loss: 2.1576 - covertype_categorical2_loss: 1.2023 - covertype_categorical3_loss: 0.1932 - covertype_categorical4_loss: 1.7818 - covertype_categorical5_loss: 2.4191 - covertype_categorical6_loss: 2.8649 - covertype_categorical7_loss: 0.9802 - covertype_categorical8_loss: 0.9237 - covertype_categorical9_loss: 1.2422 - covertype_categorical10_loss: 3.0328 - covertype_cls_categorical_accuracy: 0.9321 - val_loss: 11.2261 - val_covertype_cls_loss: 0.5972 - val_covertype_bernoulli_loss: 0.0695 - val_covertype_categorical1_loss: 3.4856 - val_covertype_categorical2_loss: 1.3552 - val_covertype_categorical3_loss: 0.2143 - val_covertype_categorical4_loss: 2.1927 - val_covertype_categorical5_loss: 2.8118 - val_covertype_categorical6_loss: 3.4020 - val_covertype_categorical7_loss: 1.1379 - val_covertype_categorical8_loss: 1.0198 - val_covertype_categorical9_loss: 1.4510 - val_covertype_categorical10_loss: 3.5846 - val_covertype_cls_categorical_accuracy: 0.8525\n",
      "Epoch 132/1000\n"
     ]
    },
    {
     "name": "stdout",
     "output_type": "stream",
     "text": [
      "129/129 [==============================] - 26s 203ms/step - loss: 9.1247 - covertype_cls_loss: 0.4392 - covertype_bernoulli_loss: 0.0497 - covertype_categorical1_loss: 2.1545 - covertype_categorical2_loss: 1.1962 - covertype_categorical3_loss: 0.2020 - covertype_categorical4_loss: 1.7724 - covertype_categorical5_loss: 2.4026 - covertype_categorical6_loss: 2.8644 - covertype_categorical7_loss: 0.9769 - covertype_categorical8_loss: 0.9289 - covertype_categorical9_loss: 1.2485 - covertype_categorical10_loss: 3.0265 - covertype_cls_categorical_accuracy: 0.9321 - val_loss: 10.9620 - val_covertype_cls_loss: 0.5887 - val_covertype_bernoulli_loss: 0.0645 - val_covertype_categorical1_loss: 3.3680 - val_covertype_categorical2_loss: 1.3082 - val_covertype_categorical3_loss: 0.2075 - val_covertype_categorical4_loss: 2.1780 - val_covertype_categorical5_loss: 2.7318 - val_covertype_categorical6_loss: 3.3247 - val_covertype_categorical7_loss: 1.1064 - val_covertype_categorical8_loss: 0.9943 - val_covertype_categorical9_loss: 1.4045 - val_covertype_categorical10_loss: 3.5254 - val_covertype_cls_categorical_accuracy: 0.8559vertype_bernoulli_loss: 0.0493 - covertype_categorical1_loss: 2.1574 - covertype_categorical2_loss: 1.1961 - covertype_categorical3_loss: 0.2046 - covertype_categorical4_loss: 1.7740 - covertype_categorical5_loss: 2.4035 - covertype_categorical6_loss: 2.8620 - covertype_categorical7_loss: 0.9731 - covertype_categorical8_loss: 0.9241 - covertype_categorical9_loss: 1.2428 - covertype_categorical10_\n",
      "Epoch 133/1000\n",
      "129/129 [==============================] - 28s 213ms/step - loss: 9.1278 - covertype_cls_loss: 0.4403 - covertype_bernoulli_loss: 0.0487 - covertype_categorical1_loss: 2.1459 - covertype_categorical2_loss: 1.2051 - covertype_categorical3_loss: 0.2021 - covertype_categorical4_loss: 1.7673 - covertype_categorical5_loss: 2.3983 - covertype_categorical6_loss: 2.8596 - covertype_categorical7_loss: 0.9846 - covertype_categorical8_loss: 0.9340 - covertype_categorical9_loss: 1.2562 - covertype_categorical10_loss: 3.0249 - covertype_cls_categorical_accuracy: 0.9312 - val_loss: 11.2784 - val_covertype_cls_loss: 0.5877 - val_covertype_bernoulli_loss: 0.0719 - val_covertype_categorical1_loss: 3.4707 - val_covertype_categorical2_loss: 1.3638 - val_covertype_categorical3_loss: 0.2059 - val_covertype_categorical4_loss: 2.1978 - val_covertype_categorical5_loss: 2.8161 - val_covertype_categorical6_loss: 3.4306 - val_covertype_categorical7_loss: 1.1546 - val_covertype_categorical8_loss: 1.0710 - val_covertype_categorical9_loss: 1.4729 - val_covertype_categorical10_loss: 3.5920 - val_covertype_cls_categorical_accuracy: 0.8555\n",
      "Epoch 134/1000\n",
      "129/129 [==============================] - 25s 195ms/step - loss: 9.0698 - covertype_cls_loss: 0.4383 - covertype_bernoulli_loss: 0.0492 - covertype_categorical1_loss: 2.1491 - covertype_categorical2_loss: 1.1859 - covertype_categorical3_loss: 0.1862 - covertype_categorical4_loss: 1.7733 - covertype_categorical5_loss: 2.3904 - covertype_categorical6_loss: 2.8491 - covertype_categorical7_loss: 0.9640 - covertype_categorical8_loss: 0.9178 - covertype_categorical9_loss: 1.2216 - covertype_categorical10_loss: 3.0275 - covertype_cls_categorical_accuracy: 0.9323 - val_loss: 10.8387 - val_covertype_cls_loss: 0.5894 - val_covertype_bernoulli_loss: 0.0681 - val_covertype_categorical1_loss: 3.3378 - val_covertype_categorical2_loss: 1.2944 - val_covertype_categorical3_loss: 0.2120 - val_covertype_categorical4_loss: 2.1183 - val_covertype_categorical5_loss: 2.6865 - val_covertype_categorical6_loss: 3.3061 - val_covertype_categorical7_loss: 1.0744 - val_covertype_categorical8_loss: 0.9774 - val_covertype_categorical9_loss: 1.3905 - val_covertype_categorical10_loss: 3.4987 - val_covertype_cls_categorical_accuracy: 0.8553\n",
      "Epoch 135/1000\n",
      "129/129 [==============================] - 27s 210ms/step - loss: 9.0843 - covertype_cls_loss: 0.4417 - covertype_bernoulli_loss: 0.0490 - covertype_categorical1_loss: 2.1382 - covertype_categorical2_loss: 1.1973 - covertype_categorical3_loss: 0.1953 - covertype_categorical4_loss: 1.7599 - covertype_categorical5_loss: 2.3891 - covertype_categorical6_loss: 2.8586 - covertype_categorical7_loss: 0.9590 - covertype_categorical8_loss: 0.9273 - covertype_categorical9_loss: 1.2358 - covertype_categorical10_loss: 3.0267 - covertype_cls_categorical_accuracy: 0.9306 - val_loss: 11.2624 - val_covertype_cls_loss: 0.6045 - val_covertype_bernoulli_loss: 0.0834 - val_covertype_categorical1_loss: 3.4371 - val_covertype_categorical2_loss: 1.3946 - val_covertype_categorical3_loss: 0.2308 - val_covertype_categorical4_loss: 2.1813 - val_covertype_categorical5_loss: 2.7755 - val_covertype_categorical6_loss: 3.4109 - val_covertype_categorical7_loss: 1.1210 - val_covertype_categorical8_loss: 1.0720 - val_covertype_categorical9_loss: 1.4802 - val_covertype_categorical10_loss: 3.5949 - val_covertype_cls_categorical_accuracy: 0.8493\n",
      "Epoch 136/1000\n",
      "129/129 [==============================] - 26s 202ms/step - loss: 9.0855 - covertype_cls_loss: 0.4396 - covertype_bernoulli_loss: 0.0490 - covertype_categorical1_loss: 2.1484 - covertype_categorical2_loss: 1.1823 - covertype_categorical3_loss: 0.2099 - covertype_categorical4_loss: 1.7582 - covertype_categorical5_loss: 2.3872 - covertype_categorical6_loss: 2.8611 - covertype_categorical7_loss: 0.9716 - covertype_categorical8_loss: 0.9198 - covertype_categorical9_loss: 1.2343 - covertype_categorical10_loss: 3.0212 - covertype_cls_categorical_accuracy: 0.9312 - val_loss: 10.9777 - val_covertype_cls_loss: 0.5824 - val_covertype_bernoulli_loss: 0.0650 - val_covertype_categorical1_loss: 3.3737 - val_covertype_categorical2_loss: 1.3158 - val_covertype_categorical3_loss: 0.2153 - val_covertype_categorical4_loss: 2.1701 - val_covertype_categorical5_loss: 2.7127 - val_covertype_categorical6_loss: 3.3340 - val_covertype_categorical7_loss: 1.1107 - val_covertype_categorical8_loss: 1.0173 - val_covertype_categorical9_loss: 1.4080 - val_covertype_categorical10_loss: 3.5348 - val_covertype_cls_categorical_accuracy: 0.8592\n",
      "Epoch 137/1000\n",
      "129/129 [==============================] - 25s 194ms/step - loss: 9.0639 - covertype_cls_loss: 0.4376 - covertype_bernoulli_loss: 0.0478 - covertype_categorical1_loss: 2.1376 - covertype_categorical2_loss: 1.1863 - covertype_categorical3_loss: 0.2046 - covertype_categorical4_loss: 1.7545 - covertype_categorical5_loss: 2.3864 - covertype_categorical6_loss: 2.8441 - covertype_categorical7_loss: 0.9741 - covertype_categorical8_loss: 0.9196 - covertype_categorical9_loss: 1.2403 - covertype_categorical10_loss: 3.0088 - covertype_cls_categorical_accuracy: 0.9328 - val_loss: 11.3458 - val_covertype_cls_loss: 0.5997 - val_covertype_bernoulli_loss: 0.0716 - val_covertype_categorical1_loss: 3.4986 - val_covertype_categorical2_loss: 1.3493 - val_covertype_categorical3_loss: 0.2290 - val_covertype_categorical4_loss: 2.2382 - val_covertype_categorical5_loss: 2.8365 - val_covertype_categorical6_loss: 3.3793 - val_covertype_categorical7_loss: 1.1744 - val_covertype_categorical8_loss: 1.0618 - val_covertype_categorical9_loss: 1.5376 - val_covertype_categorical10_loss: 3.5827 - val_covertype_cls_categorical_accuracy: 0.8516\n",
      "Epoch 138/1000\n",
      "129/129 [==============================] - 27s 207ms/step - loss: 9.0823 - covertype_cls_loss: 0.4370 - covertype_bernoulli_loss: 0.0490 - covertype_categorical1_loss: 2.1385 - covertype_categorical2_loss: 1.1802 - covertype_categorical3_loss: 0.1928 - covertype_categorical4_loss: 1.8271 - covertype_categorical5_loss: 2.4050 - covertype_categorical6_loss: 2.8263 - covertype_categorical7_loss: 0.9629 - covertype_categorical8_loss: 0.9207 - covertype_categorical9_loss: 1.2305 - covertype_categorical10_loss: 3.0091 - covertype_cls_categorical_accuracy: 0.9325 - val_loss: 10.8000 - val_covertype_cls_loss: 0.5831 - val_covertype_bernoulli_loss: 0.0645 - val_covertype_categorical1_loss: 3.3373 - val_covertype_categorical2_loss: 1.2998 - val_covertype_categorical3_loss: 0.2027 - val_covertype_categorical4_loss: 2.1117 - val_covertype_categorical5_loss: 2.6719 - val_covertype_categorical6_loss: 3.2768 - val_covertype_categorical7_loss: 1.0982 - val_covertype_categorical8_loss: 0.9715 - val_covertype_categorical9_loss: 1.3801 - val_covertype_categorical10_loss: 3.4852 - val_covertype_cls_categorical_accuracy: 0.8590\n",
      "Epoch 139/1000\n",
      "129/129 [==============================] - 26s 200ms/step - loss: 9.0242 - covertype_cls_loss: 0.4372 - covertype_bernoulli_loss: 0.0480 - covertype_categorical1_loss: 2.1307 - covertype_categorical2_loss: 1.1848 - covertype_categorical3_loss: 0.1919 - covertype_categorical4_loss: 1.7462 - covertype_categorical5_loss: 2.3638 - covertype_categorical6_loss: 2.8399 - covertype_categorical7_loss: 0.9697 - covertype_categorical8_loss: 0.9227 - covertype_categorical9_loss: 1.2289 - covertype_categorical10_loss: 2.9982 - covertype_cls_categorical_accuracy: 0.9328 - val_loss: 11.2180 - val_covertype_cls_loss: 0.5844 - val_covertype_bernoulli_loss: 0.0706 - val_covertype_categorical1_loss: 3.4825 - val_covertype_categorical2_loss: 1.3664 - val_covertype_categorical3_loss: 0.2203 - val_covertype_categorical4_loss: 2.2118 - val_covertype_categorical5_loss: 2.7664 - val_covertype_categorical6_loss: 3.4065 - val_covertype_categorical7_loss: 1.1636 - val_covertype_categorical8_loss: 1.0071 - val_covertype_categorical9_loss: 1.4482 - val_covertype_categorical10_loss: 3.5905 - val_covertype_cls_categorical_accuracy: 0.8602: 0.0489 - covertype_categorical1_loss: 2.1089 - covertype_categorical2_loss: 1.1912 - covertype_categorical3_loss: 0.1772 - covertype_categorical4_loss: 1.7200 - covertype_categorical5_loss: 2.3516 - covertype_categorical6_loss: 2.8098 - covertype_categorical7_loss: 0.9516 - covertype_categorical8_loss: 0.8973 - covertype_categorical9_loss: 1. - ETA: 12s - loss: 8.9999 - covertype_cls_loss: 0.4392 - covertype_bernoulli_loss: 0.0484 - covertype_categorical1_loss: 2.1266 - covertype_categorical2_loss: 1.1878 - covertype_categorical3_loss: 0.1890 - covertype_categorical4_loss: 1.7383 - covertype_categorical5_loss: 2.3582 - covertype_categorical6_loss: 2.8223 - covertype_categorical7_loss: 0.9603 - covertype_categorical8_loss: 0.9175 - covertype_categorical9_loss: 1.2308 - covertype_categorical10_loss: 2.9924 - covertype_cls_categorical_accura - ETA: 11s - loss: 8.9988 - covertype_cls_loss: 0.4388 - covertype_bernoulli_loss: 0.0486 - covertype_categorical1_loss: 2.1265 - covertype_categorical2_loss: 1.1854 - covertype_categorical3_loss: 0.1892 - covertype_categorical4_loss: 1.7380 - covertype_categorical5_loss: 2.3589 - covertype_categorical6_loss: 2.8231 - covertype_categorical7_loss: 0.9601 - covertype_categorical8_loss: 0.9173 - covertype_categorical9_loss: 1.2301 - covertype_catego\n",
      "Epoch 140/1000\n",
      "129/129 [==============================] - 27s 208ms/step - loss: 9.0146 - covertype_cls_loss: 0.4354 - covertype_bernoulli_loss: 0.0475 - covertype_categorical1_loss: 2.1256 - covertype_categorical2_loss: 1.1920 - covertype_categorical3_loss: 0.1807 - covertype_categorical4_loss: 1.7546 - covertype_categorical5_loss: 2.3682 - covertype_categorical6_loss: 2.8249 - covertype_categorical7_loss: 0.9690 - covertype_categorical8_loss: 0.9127 - covertype_categorical9_loss: 1.2323 - covertype_categorical10_loss: 3.0019 - covertype_cls_categorical_accuracy: 0.9335 - val_loss: 10.8860 - val_covertype_cls_loss: 0.5893 - val_covertype_bernoulli_loss: 0.0669 - val_covertype_categorical1_loss: 3.3332 - val_covertype_categorical2_loss: 1.3052 - val_covertype_categorical3_loss: 0.2101 - val_covertype_categorical4_loss: 2.1248 - val_covertype_categorical5_loss: 2.6889 - val_covertype_categorical6_loss: 3.2891 - val_covertype_categorical7_loss: 1.1042 - val_covertype_categorical8_loss: 0.9826 - val_covertype_categorical9_loss: 1.4182 - val_covertype_categorical10_loss: 3.5354 - val_covertype_cls_categorical_accuracy: 0.8566\n",
      "Epoch 141/1000\n",
      "129/129 [==============================] - 26s 201ms/step - loss: 9.0472 - covertype_cls_loss: 0.4397 - covertype_bernoulli_loss: 0.0473 - covertype_categorical1_loss: 2.1318 - covertype_categorical2_loss: 1.1902 - covertype_categorical3_loss: 0.2102 - covertype_categorical4_loss: 1.7372 - covertype_categorical5_loss: 2.3759 - covertype_categorical6_loss: 2.8145 - covertype_categorical7_loss: 0.9738 - covertype_categorical8_loss: 0.9257 - covertype_categorical9_loss: 1.2450 - covertype_categorical10_loss: 3.0146 - covertype_cls_categorical_accuracy: 0.9310 - val_loss: 11.2493 - val_covertype_cls_loss: 0.5964 - val_covertype_bernoulli_loss: 0.0683 - val_covertype_categorical1_loss: 3.4360 - val_covertype_categorical2_loss: 1.3525 - val_covertype_categorical3_loss: 0.2423 - val_covertype_categorical4_loss: 2.1749 - val_covertype_categorical5_loss: 2.7536 - val_covertype_categorical6_loss: 3.4092 - val_covertype_categorical7_loss: 1.1426 - val_covertype_categorical8_loss: 1.0937 - val_covertype_categorical9_loss: 1.4850 - val_covertype_categorical10_loss: 3.6139 - val_covertype_cls_categorical_accuracy: 0.8514\n",
      "Epoch 142/1000\n",
      "129/129 [==============================] - 25s 195ms/step - loss: 8.9783 - covertype_cls_loss: 0.4365 - covertype_bernoulli_loss: 0.0475 - covertype_categorical1_loss: 2.1279 - covertype_categorical2_loss: 1.1624 - covertype_categorical3_loss: 0.1833 - covertype_categorical4_loss: 1.7409 - covertype_categorical5_loss: 2.3626 - covertype_categorical6_loss: 2.8227 - covertype_categorical7_loss: 0.9501 - covertype_categorical8_loss: 0.9051 - covertype_categorical9_loss: 1.2275 - covertype_categorical10_loss: 3.0042 - covertype_cls_categorical_accuracy: 0.9333 - val_loss: 10.8260 - val_covertype_cls_loss: 0.5804 - val_covertype_bernoulli_loss: 0.0607 - val_covertype_categorical1_loss: 3.3310 - val_covertype_categorical2_loss: 1.2991 - val_covertype_categorical3_loss: 0.2041 - val_covertype_categorical4_loss: 2.1163 - val_covertype_categorical5_loss: 2.6892 - val_covertype_categorical6_loss: 3.2801 - val_covertype_categorical7_loss: 1.0731 - val_covertype_categorical8_loss: 0.9951 - val_covertype_categorical9_loss: 1.3955 - val_covertype_categorical10_loss: 3.5141 - val_covertype_cls_categorical_accuracy: 0.8604pe_categorical4_loss: 1.7390 - covertype_categorical5_loss: 2.3598 - covertype_categorical6_loss: 2.8145 - covertype_categorical7_loss: 0.9496 - covertype_categorical8_loss: 0.9028 - covertype_categorical9_loss: 1.2266 - covertype_categorical10_loss: 2.9965 - covertype_cls_categ\n",
      "Epoch 143/1000\n",
      "129/129 [==============================] - 25s 195ms/step - loss: 9.0185 - covertype_cls_loss: 0.4368 - covertype_bernoulli_loss: 0.0470 - covertype_categorical1_loss: 2.1298 - covertype_categorical2_loss: 1.1744 - covertype_categorical3_loss: 0.1985 - covertype_categorical4_loss: 1.7504 - covertype_categorical5_loss: 2.3657 - covertype_categorical6_loss: 2.8170 - covertype_categorical7_loss: 0.9720 - covertype_categorical8_loss: 0.9239 - covertype_categorical9_loss: 1.2411 - covertype_categorical10_loss: 2.9944 - covertype_cls_categorical_accuracy: 0.9329 - val_loss: 11.2186 - val_covertype_cls_loss: 0.5995 - val_covertype_bernoulli_loss: 0.0657 - val_covertype_categorical1_loss: 3.4909 - val_covertype_categorical2_loss: 1.3336 - val_covertype_categorical3_loss: 0.2255 - val_covertype_categorical4_loss: 2.2340 - val_covertype_categorical5_loss: 2.7603 - val_covertype_categorical6_loss: 3.3973 - val_covertype_categorical7_loss: 1.1172 - val_covertype_categorical8_loss: 1.0328 - val_covertype_categorical9_loss: 1.4775 - val_covertype_categorical10_loss: 3.5696 - val_covertype_cls_categorical_accuracy: 0.8492\n"
     ]
    },
    {
     "name": "stdout",
     "output_type": "stream",
     "text": [
      "Epoch 144/1000\n",
      "129/129 [==============================] - 21s 166ms/step - loss: 8.9476 - covertype_cls_loss: 0.4344 - covertype_bernoulli_loss: 0.0473 - covertype_categorical1_loss: 2.1232 - covertype_categorical2_loss: 1.1656 - covertype_categorical3_loss: 0.1800 - covertype_categorical4_loss: 1.7356 - covertype_categorical5_loss: 2.3604 - covertype_categorical6_loss: 2.8142 - covertype_categorical7_loss: 0.9507 - covertype_categorical8_loss: 0.9103 - covertype_categorical9_loss: 1.2108 - covertype_categorical10_loss: 2.9795 - covertype_cls_categorical_accuracy: 0.9342 - val_loss: 10.7966 - val_covertype_cls_loss: 0.5835 - val_covertype_bernoulli_loss: 0.0637 - val_covertype_categorical1_loss: 3.3358 - val_covertype_categorical2_loss: 1.2820 - val_covertype_categorical3_loss: 0.1911 - val_covertype_categorical4_loss: 2.0862 - val_covertype_categorical5_loss: 2.6928 - val_covertype_categorical6_loss: 3.3027 - val_covertype_categorical7_loss: 1.0741 - val_covertype_categorical8_loss: 0.9749 - val_covertype_categorical9_loss: 1.3978 - val_covertype_categorical10_loss: 3.4914 - val_covertype_cls_categorical_accuracy: 0.8592\n",
      "Epoch 145/1000\n",
      "129/129 [==============================] - 24s 185ms/step - loss: 8.9443 - covertype_cls_loss: 0.4334 - covertype_bernoulli_loss: 0.0469 - covertype_categorical1_loss: 2.1179 - covertype_categorical2_loss: 1.1664 - covertype_categorical3_loss: 0.1820 - covertype_categorical4_loss: 1.7326 - covertype_categorical5_loss: 2.3585 - covertype_categorical6_loss: 2.8055 - covertype_categorical7_loss: 0.9579 - covertype_categorical8_loss: 0.9078 - covertype_categorical9_loss: 1.2132 - covertype_categorical10_loss: 2.9832 - covertype_cls_categorical_accuracy: 0.9343 - val_loss: 11.2296 - val_covertype_cls_loss: 0.5892 - val_covertype_bernoulli_loss: 0.0676 - val_covertype_categorical1_loss: 3.4489 - val_covertype_categorical2_loss: 1.3979 - val_covertype_categorical3_loss: 0.2235 - val_covertype_categorical4_loss: 2.2466 - val_covertype_categorical5_loss: 2.7519 - val_covertype_categorical6_loss: 3.3678 - val_covertype_categorical7_loss: 1.1692 - val_covertype_categorical8_loss: 1.0474 - val_covertype_categorical9_loss: 1.4491 - val_covertype_categorical10_loss: 3.5754 - val_covertype_cls_categorical_accuracy: 0.8570ategorical1_loss: 2.1088 - covertype_categorical2_loss: 1.1587 - covertype_categorical3_loss: 0.1725 - covertype_categorical4_loss: 1.7150 - covertype_categorical5_loss: 2.3507 - covertype_categorical6_loss: 2.7985 - covertype_categorical7_loss: 0.9594 - covertype_categorical8_loss: 0.8993 - covertype_categorical9_loss: 1.2132 - covertype_categorical10_loss:  - ETA: 3s - loss: 8.9572 - covertype_cls_loss: 0.4331 - covertype_bernoulli_loss: 0.0465 - covertype_categorical1_loss: 2.1189 - covertype_categorical2_loss: 1.1680 - covertype_categorical3_loss: 0.1827 - covertype_categorical4_loss: 1.7353 - covertype_categorical5_loss: 2.3631 - covertype_categorical6_loss: 2.8087 - covertype_categorical7_loss: 0.9599 - covertype_categorical8_loss: 0.9110 - covertype_categorical9_loss: 1.2164 - covertype_categorical10_loss: 2.9878 - covertype_cls_categ\n",
      "Epoch 146/1000\n",
      "129/129 [==============================] - 25s 192ms/step - loss: 9.0047 - covertype_cls_loss: 0.4364 - covertype_bernoulli_loss: 0.0466 - covertype_categorical1_loss: 2.1217 - covertype_categorical2_loss: 1.1821 - covertype_categorical3_loss: 0.2131 - covertype_categorical4_loss: 1.7550 - covertype_categorical5_loss: 2.3760 - covertype_categorical6_loss: 2.8061 - covertype_categorical7_loss: 0.9522 - covertype_categorical8_loss: 0.9161 - covertype_categorical9_loss: 1.2291 - covertype_categorical10_loss: 2.9892 - covertype_cls_categorical_accuracy: 0.9326 - val_loss: 10.7720 - val_covertype_cls_loss: 0.5809 - val_covertype_bernoulli_loss: 0.0659 - val_covertype_categorical1_loss: 3.3369 - val_covertype_categorical2_loss: 1.2817 - val_covertype_categorical3_loss: 0.1897 - val_covertype_categorical4_loss: 2.0988 - val_covertype_categorical5_loss: 2.6780 - val_covertype_categorical6_loss: 3.2659 - val_covertype_categorical7_loss: 1.0817 - val_covertype_categorical8_loss: 0.9768 - val_covertype_categorical9_loss: 1.4013 - val_covertype_categorical10_loss: 3.4716 - val_covertype_cls_categorical_accuracy: 0.8592\n",
      "Epoch 147/1000\n",
      "129/129 [==============================] - 22s 174ms/step - loss: 8.9500 - covertype_cls_loss: 0.4324 - covertype_bernoulli_loss: 0.0501 - covertype_categorical1_loss: 2.1141 - covertype_categorical2_loss: 1.1623 - covertype_categorical3_loss: 0.1853 - covertype_categorical4_loss: 1.7717 - covertype_categorical5_loss: 2.3585 - covertype_categorical6_loss: 2.7969 - covertype_categorical7_loss: 0.9495 - covertype_categorical8_loss: 0.9037 - covertype_categorical9_loss: 1.2086 - covertype_categorical10_loss: 2.9849 - covertype_cls_categorical_accuracy: 0.9350 - val_loss: 11.2814 - val_covertype_cls_loss: 0.5826 - val_covertype_bernoulli_loss: 0.0709 - val_covertype_categorical1_loss: 3.4824 - val_covertype_categorical2_loss: 1.3897 - val_covertype_categorical3_loss: 0.2209 - val_covertype_categorical4_loss: 2.1596 - val_covertype_categorical5_loss: 2.8111 - val_covertype_categorical6_loss: 3.4460 - val_covertype_categorical7_loss: 1.1214 - val_covertype_categorical8_loss: 1.0413 - val_covertype_categorical9_loss: 1.4870 - val_covertype_categorical10_loss: 3.6337 - val_covertype_cls_categorical_accuracy: 0.8606\n",
      "Epoch 148/1000\n",
      "129/129 [==============================] - 24s 189ms/step - loss: 8.9064 - covertype_cls_loss: 0.4341 - covertype_bernoulli_loss: 0.0461 - covertype_categorical1_loss: 2.1085 - covertype_categorical2_loss: 1.1691 - covertype_categorical3_loss: 0.1779 - covertype_categorical4_loss: 1.7083 - covertype_categorical5_loss: 2.3382 - covertype_categorical6_loss: 2.7891 - covertype_categorical7_loss: 0.9548 - covertype_categorical8_loss: 0.9062 - covertype_categorical9_loss: 1.2190 - covertype_categorical10_loss: 2.9778 - covertype_cls_categorical_accuracy: 0.9336 - val_loss: 10.7095 - val_covertype_cls_loss: 0.5820 - val_covertype_bernoulli_loss: 0.0616 - val_covertype_categorical1_loss: 3.2956 - val_covertype_categorical2_loss: 1.2930 - val_covertype_categorical3_loss: 0.1911 - val_covertype_categorical4_loss: 2.0794 - val_covertype_categorical5_loss: 2.6549 - val_covertype_categorical6_loss: 3.2593 - val_covertype_categorical7_loss: 1.0877 - val_covertype_categorical8_loss: 0.9634 - val_covertype_categorical9_loss: 1.3860 - val_covertype_categorical10_loss: 3.4482 - val_covertype_cls_categorical_accuracy: 0.8609s: 2.1118 - covertype_categorical2_loss: 1.1712 - covertype_categorical3_loss: 0.1762 - covertype_categorical4_loss: 1.7120 - covertype_categorical5_loss: 2.3439 - covertype_categorical6_loss: 2.7944 - covertype_categorical7_loss: 0.9540 - covertype_categorical8_loss: 0.9093 - covertype_categorical9_loss: 1.2207 - covertype_categorical10_loss: 2.9846 - covertype_cls_categorica\n",
      "Epoch 149/1000\n",
      "129/129 [==============================] - 26s 205ms/step - loss: 8.9202 - covertype_cls_loss: 0.4338 - covertype_bernoulli_loss: 0.0451 - covertype_categorical1_loss: 2.1208 - covertype_categorical2_loss: 1.1607 - covertype_categorical3_loss: 0.1798 - covertype_categorical4_loss: 1.7296 - covertype_categorical5_loss: 2.3518 - covertype_categorical6_loss: 2.8040 - covertype_categorical7_loss: 0.9431 - covertype_categorical8_loss: 0.8992 - covertype_categorical9_loss: 1.2006 - covertype_categorical10_loss: 2.9883 - covertype_cls_categorical_accuracy: 0.9336 - val_loss: 11.1447 - val_covertype_cls_loss: 0.5866 - val_covertype_bernoulli_loss: 0.0677 - val_covertype_categorical1_loss: 3.4674 - val_covertype_categorical2_loss: 1.3495 - val_covertype_categorical3_loss: 0.2140 - val_covertype_categorical4_loss: 2.1917 - val_covertype_categorical5_loss: 2.7416 - val_covertype_categorical6_loss: 3.3569 - val_covertype_categorical7_loss: 1.1367 - val_covertype_categorical8_loss: 1.0346 - val_covertype_categorical9_loss: 1.4555 - val_covertype_categorical10_loss: 3.5660 - val_covertype_cls_categorical_accuracy: 0.8598.1600 - covertype_categorical3_loss: 0.1793 - covertype_categorical4_loss: 1.7256 - covertype_categorical5_loss: 2.3524 - covertype_categorical6_loss: 2.8044 - covertype_categorical7_loss: 0.9424 - covertype_categorical8_loss: 0.8985 - covertype_categorical9_loss: 1.2001 - covertype_categorical10_loss: 2.9891 - covertype_cls_categorical_accuracy: 0\n",
      "Epoch 150/1000\n",
      "129/129 [==============================] - 26s 202ms/step - loss: 8.9022 - covertype_cls_loss: 0.4319 - covertype_bernoulli_loss: 0.0451 - covertype_categorical1_loss: 2.1098 - covertype_categorical2_loss: 1.1562 - covertype_categorical3_loss: 0.1796 - covertype_categorical4_loss: 1.7491 - covertype_categorical5_loss: 2.3450 - covertype_categorical6_loss: 2.7937 - covertype_categorical7_loss: 0.9316 - covertype_categorical8_loss: 0.9062 - covertype_categorical9_loss: 1.1983 - covertype_categorical10_loss: 2.9766 - covertype_cls_categorical_accuracy: 0.9354 - val_loss: 10.7123 - val_covertype_cls_loss: 0.5723 - val_covertype_bernoulli_loss: 0.0646 - val_covertype_categorical1_loss: 3.3111 - val_covertype_categorical2_loss: 1.2754 - val_covertype_categorical3_loss: 0.1891 - val_covertype_categorical4_loss: 2.0843 - val_covertype_categorical5_loss: 2.6723 - val_covertype_categorical6_loss: 3.2763 - val_covertype_categorical7_loss: 1.0700 - val_covertype_categorical8_loss: 0.9662 - val_covertype_categorical9_loss: 1.3789 - val_covertype_categorical10_loss: 3.4576 - val_covertype_cls_categorical_accuracy: 0.8650\n",
      "Epoch 151/1000\n",
      "129/129 [==============================] - 25s 196ms/step - loss: 8.9367 - covertype_cls_loss: 0.4324 - covertype_bernoulli_loss: 0.0455 - covertype_categorical1_loss: 2.1023 - covertype_categorical2_loss: 1.1607 - covertype_categorical3_loss: 0.2042 - covertype_categorical4_loss: 1.7305 - covertype_categorical5_loss: 2.3433 - covertype_categorical6_loss: 2.8000 - covertype_categorical7_loss: 0.9573 - covertype_categorical8_loss: 0.9143 - covertype_categorical9_loss: 1.2314 - covertype_categorical10_loss: 2.9699 - covertype_cls_categorical_accuracy: 0.9346 - val_loss: 11.0632 - val_covertype_cls_loss: 0.5855 - val_covertype_bernoulli_loss: 0.0677 - val_covertype_categorical1_loss: 3.3893 - val_covertype_categorical2_loss: 1.3689 - val_covertype_categorical3_loss: 0.2143 - val_covertype_categorical4_loss: 2.1596 - val_covertype_categorical5_loss: 2.7189 - val_covertype_categorical6_loss: 3.3465 - val_covertype_categorical7_loss: 1.1517 - val_covertype_categorical8_loss: 1.0267 - val_covertype_categorical9_loss: 1.4295 - val_covertype_categorical10_loss: 3.5475 - val_covertype_cls_categorical_accuracy: 0.8595\n",
      "Epoch 152/1000\n",
      "129/129 [==============================] - 26s 202ms/step - loss: 8.8579 - covertype_cls_loss: 0.4347 - covertype_bernoulli_loss: 0.0460 - covertype_categorical1_loss: 2.0974 - covertype_categorical2_loss: 1.1579 - covertype_categorical3_loss: 0.1791 - covertype_categorical4_loss: 1.7146 - covertype_categorical5_loss: 2.3232 - covertype_categorical6_loss: 2.7876 - covertype_categorical7_loss: 0.9445 - covertype_categorical8_loss: 0.8952 - covertype_categorical9_loss: 1.2071 - covertype_categorical10_loss: 2.9433 - covertype_cls_categorical_accuracy: 0.9333 - val_loss: 10.6775 - val_covertype_cls_loss: 0.5711 - val_covertype_bernoulli_loss: 0.0694 - val_covertype_categorical1_loss: 3.3040 - val_covertype_categorical2_loss: 1.2763 - val_covertype_categorical3_loss: 0.1829 - val_covertype_categorical4_loss: 2.0793 - val_covertype_categorical5_loss: 2.6492 - val_covertype_categorical6_loss: 3.2610 - val_covertype_categorical7_loss: 1.0696 - val_covertype_categorical8_loss: 0.9543 - val_covertype_categorical9_loss: 1.3793 - val_covertype_categorical10_loss: 3.4520 - val_covertype_cls_categorical_accuracy: 0.8655\n",
      "Epoch 153/1000\n",
      "129/129 [==============================] - 26s 204ms/step - loss: 8.8820 - covertype_cls_loss: 0.4283 - covertype_bernoulli_loss: 0.0451 - covertype_categorical1_loss: 2.1040 - covertype_categorical2_loss: 1.1718 - covertype_categorical3_loss: 0.1813 - covertype_categorical4_loss: 1.7188 - covertype_categorical5_loss: 2.3256 - covertype_categorical6_loss: 2.7726 - covertype_categorical7_loss: 0.9581 - covertype_categorical8_loss: 0.9072 - covertype_categorical9_loss: 1.2244 - covertype_categorical10_loss: 2.9485 - covertype_cls_categorical_accuracy: 0.9367 - val_loss: 11.1027 - val_covertype_cls_loss: 0.5880 - val_covertype_bernoulli_loss: 0.0625 - val_covertype_categorical1_loss: 3.4611 - val_covertype_categorical2_loss: 1.3260 - val_covertype_categorical3_loss: 0.1961 - val_covertype_categorical4_loss: 2.1597 - val_covertype_categorical5_loss: 2.7421 - val_covertype_categorical6_loss: 3.3463 - val_covertype_categorical7_loss: 1.1408 - val_covertype_categorical8_loss: 1.0383 - val_covertype_categorical9_loss: 1.4613 - val_covertype_categorical10_loss: 3.5604 - val_covertype_cls_categorical_accuracy: 0.8576\n",
      "Epoch 154/1000\n",
      "129/129 [==============================] - 26s 204ms/step - loss: 8.8383 - covertype_cls_loss: 0.4291 - covertype_bernoulli_loss: 0.0453 - covertype_categorical1_loss: 2.0972 - covertype_categorical2_loss: 1.1423 - covertype_categorical3_loss: 0.1711 - covertype_categorical4_loss: 1.7137 - covertype_categorical5_loss: 2.3347 - covertype_categorical6_loss: 2.7858 - covertype_categorical7_loss: 0.9270 - covertype_categorical8_loss: 0.8892 - covertype_categorical9_loss: 1.1992 - covertype_categorical10_loss: 2.9629 - covertype_cls_categorical_accuracy: 0.9364 - val_loss: 10.6716 - val_covertype_cls_loss: 0.5733 - val_covertype_bernoulli_loss: 0.0604 - val_covertype_categorical1_loss: 3.3092 - val_covertype_categorical2_loss: 1.2731 - val_covertype_categorical3_loss: 0.1826 - val_covertype_categorical4_loss: 2.0731 - val_covertype_categorical5_loss: 2.6764 - val_covertype_categorical6_loss: 3.2572 - val_covertype_categorical7_loss: 1.0556 - val_covertype_categorical8_loss: 0.9520 - val_covertype_categorical9_loss: 1.3754 - val_covertype_categorical10_loss: 3.4470 - val_covertype_cls_categorical_accuracy: 0.8649rical2_loss: 1.1447 - covertype_categorical3_loss: 0.1739 - covertype_categorical4_loss: 1.7174 - covertype_categorical5_loss: 2.3318 - covertype_categorical6_loss: 2.7842 - covertype_categorical7_loss: 0.9281 - covertype_categorical8_loss: 0.8935 - covertype_categorical9_loss: 1.2026 - covertype_categorical10_loss: 2.9666 - covertype_cls_ca\n",
      "Epoch 155/1000\n",
      "129/129 [==============================] - 27s 212ms/step - loss: 8.8012 - covertype_cls_loss: 0.4303 - covertype_bernoulli_loss: 0.0447 - covertype_categorical1_loss: 2.0859 - covertype_categorical2_loss: 1.1420 - covertype_categorical3_loss: 0.1737 - covertype_categorical4_loss: 1.7059 - covertype_categorical5_loss: 2.3230 - covertype_categorical6_loss: 2.7680 - covertype_categorical7_loss: 0.9255 - covertype_categorical8_loss: 0.8757 - covertype_categorical9_loss: 1.1937 - covertype_categorical10_loss: 2.9532 - covertype_cls_categorical_accuracy: 0.9354 - val_loss: 11.0102 - val_covertype_cls_loss: 0.5779 - val_covertype_bernoulli_loss: 0.0706 - val_covertype_categorical1_loss: 3.4399 - val_covertype_categorical2_loss: 1.3358 - val_covertype_categorical3_loss: 0.2035 - val_covertype_categorical4_loss: 2.1293 - val_covertype_categorical5_loss: 2.6970 - val_covertype_categorical6_loss: 3.3104 - val_covertype_categorical7_loss: 1.1197 - val_covertype_categorical8_loss: 1.0031 - val_covertype_categorical9_loss: 1.4674 - val_covertype_categorical10_loss: 3.5522 - val_covertype_cls_categorical_accuracy: 0.8631\n"
     ]
    },
    {
     "name": "stdout",
     "output_type": "stream",
     "text": [
      "Epoch 156/1000\n",
      "129/129 [==============================] - 26s 202ms/step - loss: 8.8312 - covertype_cls_loss: 0.4267 - covertype_bernoulli_loss: 0.0455 - covertype_categorical1_loss: 2.0967 - covertype_categorical2_loss: 1.1565 - covertype_categorical3_loss: 0.1776 - covertype_categorical4_loss: 1.7063 - covertype_categorical5_loss: 2.3133 - covertype_categorical6_loss: 2.7664 - covertype_categorical7_loss: 0.9381 - covertype_categorical8_loss: 0.8910 - covertype_categorical9_loss: 1.2091 - covertype_categorical10_loss: 2.9581 - covertype_cls_categorical_accuracy: 0.9377 - val_loss: 10.6832 - val_covertype_cls_loss: 0.5711 - val_covertype_bernoulli_loss: 0.0609 - val_covertype_categorical1_loss: 3.3136 - val_covertype_categorical2_loss: 1.2712 - val_covertype_categorical3_loss: 0.1893 - val_covertype_categorical4_loss: 2.0755 - val_covertype_categorical5_loss: 2.6299 - val_covertype_categorical6_loss: 3.2512 - val_covertype_categorical7_loss: 1.0808 - val_covertype_categorical8_loss: 0.9718 - val_covertype_categorical9_loss: 1.3870 - val_covertype_categorical10_loss: 3.4575 - val_covertype_cls_categorical_accuracy: 0.8664\n",
      "Epoch 157/1000\n",
      "129/129 [==============================] - 25s 197ms/step - loss: 8.8409 - covertype_cls_loss: 0.4316 - covertype_bernoulli_loss: 0.0445 - covertype_categorical1_loss: 2.0887 - covertype_categorical2_loss: 1.1592 - covertype_categorical3_loss: 0.1890 - covertype_categorical4_loss: 1.7057 - covertype_categorical5_loss: 2.3140 - covertype_categorical6_loss: 2.7690 - covertype_categorical7_loss: 0.9440 - covertype_categorical8_loss: 0.8899 - covertype_categorical9_loss: 1.2085 - covertype_categorical10_loss: 2.9558 - covertype_cls_categorical_accuracy: 0.9352 - val_loss: 11.0270 - val_covertype_cls_loss: 0.5749 - val_covertype_bernoulli_loss: 0.0647 - val_covertype_categorical1_loss: 3.4058 - val_covertype_categorical2_loss: 1.3098 - val_covertype_categorical3_loss: 0.2096 - val_covertype_categorical4_loss: 2.1329 - val_covertype_categorical5_loss: 2.7257 - val_covertype_categorical6_loss: 3.3635 - val_covertype_categorical7_loss: 1.1203 - val_covertype_categorical8_loss: 1.0055 - val_covertype_categorical9_loss: 1.5007 - val_covertype_categorical10_loss: 3.5307 - val_covertype_cls_categorical_accuracy: 0.8646\n",
      "Epoch 158/1000\n",
      "129/129 [==============================] - 27s 207ms/step - loss: 8.7715 - covertype_cls_loss: 0.4277 - covertype_bernoulli_loss: 0.0442 - covertype_categorical1_loss: 2.0855 - covertype_categorical2_loss: 1.1383 - covertype_categorical3_loss: 0.1689 - covertype_categorical4_loss: 1.6911 - covertype_categorical5_loss: 2.3081 - covertype_categorical6_loss: 2.7646 - covertype_categorical7_loss: 0.9206 - covertype_categorical8_loss: 0.8772 - covertype_categorical9_loss: 1.1904 - covertype_categorical10_loss: 2.9475 - covertype_cls_categorical_accuracy: 0.9371 - val_loss: 10.6453 - val_covertype_cls_loss: 0.5701 - val_covertype_bernoulli_loss: 0.0611 - val_covertype_categorical1_loss: 3.2965 - val_covertype_categorical2_loss: 1.2690 - val_covertype_categorical3_loss: 0.1903 - val_covertype_categorical4_loss: 2.0739 - val_covertype_categorical5_loss: 2.6516 - val_covertype_categorical6_loss: 3.2388 - val_covertype_categorical7_loss: 1.0558 - val_covertype_categorical8_loss: 0.9678 - val_covertype_categorical9_loss: 1.3788 - val_covertype_categorical10_loss: 3.4315 - val_covertype_cls_categorical_accuracy: 0.8668 covertype_categorical1_loss: 2.0853 - covertype_categorical2_loss: 1.1366 - covertype_categorical3_loss: 0.1678 - covertype_categorical4_loss: 1.6894 - covertype_categorical5_loss: 2.3065 - covertype_categorical6_loss: 2.7645 - covertype_categorical7_loss: 0.9188 - covertype_categorical8_loss: 0.8776 - covertype_categorical9_loss: 1.1902 - covertype_categorical10_loss: 2.9485 - covertype_cls_categorical_acc\n",
      "Epoch 159/1000\n",
      "129/129 [==============================] - 26s 199ms/step - loss: 8.8380 - covertype_cls_loss: 0.4322 - covertype_bernoulli_loss: 0.0443 - covertype_categorical1_loss: 2.0935 - covertype_categorical2_loss: 1.1465 - covertype_categorical3_loss: 0.1796 - covertype_categorical4_loss: 1.7263 - covertype_categorical5_loss: 2.3303 - covertype_categorical6_loss: 2.7754 - covertype_categorical7_loss: 0.9279 - covertype_categorical8_loss: 0.8984 - covertype_categorical9_loss: 1.1987 - covertype_categorical10_loss: 2.9399 - covertype_cls_categorical_accuracy: 0.9343 - val_loss: 11.1164 - val_covertype_cls_loss: 0.5807 - val_covertype_bernoulli_loss: 0.0631 - val_covertype_categorical1_loss: 3.4327 - val_covertype_categorical2_loss: 1.3223 - val_covertype_categorical3_loss: 0.2200 - val_covertype_categorical4_loss: 2.2159 - val_covertype_categorical5_loss: 2.7996 - val_covertype_categorical6_loss: 3.3588 - val_covertype_categorical7_loss: 1.0879 - val_covertype_categorical8_loss: 1.0076 - val_covertype_categorical9_loss: 1.4764 - val_covertype_categorical10_loss: 3.5525 - val_covertype_cls_categorical_accuracy: 0.8590\n",
      "Epoch 160/1000\n",
      "129/129 [==============================] - 26s 199ms/step - loss: 8.9009 - covertype_cls_loss: 0.4297 - covertype_bernoulli_loss: 0.0452 - covertype_categorical1_loss: 2.0849 - covertype_categorical2_loss: 1.1448 - covertype_categorical3_loss: 0.1719 - covertype_categorical4_loss: 1.8396 - covertype_categorical5_loss: 2.3888 - covertype_categorical6_loss: 2.7565 - covertype_categorical7_loss: 0.9256 - covertype_categorical8_loss: 0.8841 - covertype_categorical9_loss: 1.1999 - covertype_categorical10_loss: 2.9515 - covertype_cls_categorical_accuracy: 0.9359 - val_loss: 10.6369 - val_covertype_cls_loss: 0.5708 - val_covertype_bernoulli_loss: 0.0581 - val_covertype_categorical1_loss: 3.2863 - val_covertype_categorical2_loss: 1.2578 - val_covertype_categorical3_loss: 0.1804 - val_covertype_categorical4_loss: 2.0832 - val_covertype_categorical5_loss: 2.6481 - val_covertype_categorical6_loss: 3.2396 - val_covertype_categorical7_loss: 1.0580 - val_covertype_categorical8_loss: 0.9568 - val_covertype_categorical9_loss: 1.3932 - val_covertype_categorical10_loss: 3.4352 - val_covertype_cls_categorical_accuracy: 0.8656\n",
      "Epoch 161/1000\n",
      "129/129 [==============================] - 27s 206ms/step - loss: 8.7531 - covertype_cls_loss: 0.4254 - covertype_bernoulli_loss: 0.0441 - covertype_categorical1_loss: 2.0693 - covertype_categorical2_loss: 1.1386 - covertype_categorical3_loss: 0.1726 - covertype_categorical4_loss: 1.6953 - covertype_categorical5_loss: 2.3110 - covertype_categorical6_loss: 2.7401 - covertype_categorical7_loss: 0.9289 - covertype_categorical8_loss: 0.8857 - covertype_categorical9_loss: 1.1960 - covertype_categorical10_loss: 2.9230 - covertype_cls_categorical_accuracy: 0.9383 - val_loss: 11.0586 - val_covertype_cls_loss: 0.5812 - val_covertype_bernoulli_loss: 0.0706 - val_covertype_categorical1_loss: 3.4329 - val_covertype_categorical2_loss: 1.3280 - val_covertype_categorical3_loss: 0.2330 - val_covertype_categorical4_loss: 2.1170 - val_covertype_categorical5_loss: 2.7045 - val_covertype_categorical6_loss: 3.3558 - val_covertype_categorical7_loss: 1.1120 - val_covertype_categorical8_loss: 1.0548 - val_covertype_categorical9_loss: 1.4545 - val_covertype_categorical10_loss: 3.5573 - val_covertype_cls_categorical_accuracy: 0.8629\n",
      "Epoch 162/1000\n",
      "129/129 [==============================] - 25s 196ms/step - loss: 8.7258 - covertype_cls_loss: 0.4262 - covertype_bernoulli_loss: 0.0438 - covertype_categorical1_loss: 2.0772 - covertype_categorical2_loss: 1.1304 - covertype_categorical3_loss: 0.1681 - covertype_categorical4_loss: 1.6951 - covertype_categorical5_loss: 2.2952 - covertype_categorical6_loss: 2.7412 - covertype_categorical7_loss: 0.9187 - covertype_categorical8_loss: 0.8771 - covertype_categorical9_loss: 1.1821 - covertype_categorical10_loss: 2.9194 - covertype_cls_categorical_accuracy: 0.9376 - val_loss: 10.5952 - val_covertype_cls_loss: 0.5712 - val_covertype_bernoulli_loss: 0.0579 - val_covertype_categorical1_loss: 3.2771 - val_covertype_categorical2_loss: 1.2720 - val_covertype_categorical3_loss: 0.1870 - val_covertype_categorical4_loss: 2.0543 - val_covertype_categorical5_loss: 2.6363 - val_covertype_categorical6_loss: 3.2374 - val_covertype_categorical7_loss: 1.0517 - val_covertype_categorical8_loss: 0.9420 - val_covertype_categorical9_loss: 1.3670 - val_covertype_categorical10_loss: 3.4290 - val_covertype_cls_categorical_accuracy: 0.8645\n",
      "Epoch 163/1000\n",
      "129/129 [==============================] - 25s 194ms/step - loss: 8.7466 - covertype_cls_loss: 0.4271 - covertype_bernoulli_loss: 0.0436 - covertype_categorical1_loss: 2.0832 - covertype_categorical2_loss: 1.1308 - covertype_categorical3_loss: 0.1675 - covertype_categorical4_loss: 1.6985 - covertype_categorical5_loss: 2.2927 - covertype_categorical6_loss: 2.7480 - covertype_categorical7_loss: 0.9187 - covertype_categorical8_loss: 0.8799 - covertype_categorical9_loss: 1.1902 - covertype_categorical10_loss: 2.9346 - covertype_cls_categorical_accuracy: 0.9373 - val_loss: 11.0802 - val_covertype_cls_loss: 0.5841 - val_covertype_bernoulli_loss: 0.0664 - val_covertype_categorical1_loss: 3.4090 - val_covertype_categorical2_loss: 1.3660 - val_covertype_categorical3_loss: 0.2230 - val_covertype_categorical4_loss: 2.1635 - val_covertype_categorical5_loss: 2.7153 - val_covertype_categorical6_loss: 3.3397 - val_covertype_categorical7_loss: 1.1223 - val_covertype_categorical8_loss: 1.0929 - val_covertype_categorical9_loss: 1.4307 - val_covertype_categorical10_loss: 3.5284 - val_covertype_cls_categorical_accuracy: 0.8585\n",
      "Epoch 164/1000\n",
      "129/129 [==============================] - 27s 205ms/step - loss: 8.7319 - covertype_cls_loss: 0.4276 - covertype_bernoulli_loss: 0.0425 - covertype_categorical1_loss: 2.0664 - covertype_categorical2_loss: 1.1391 - covertype_categorical3_loss: 0.1760 - covertype_categorical4_loss: 1.6957 - covertype_categorical5_loss: 2.2929 - covertype_categorical6_loss: 2.7354 - covertype_categorical7_loss: 0.9241 - covertype_categorical8_loss: 0.8808 - covertype_categorical9_loss: 1.1909 - covertype_categorical10_loss: 2.9134 - covertype_cls_categorical_accuracy: 0.9364 - val_loss: 10.6135 - val_covertype_cls_loss: 0.5693 - val_covertype_bernoulli_loss: 0.0588 - val_covertype_categorical1_loss: 3.2896 - val_covertype_categorical2_loss: 1.2831 - val_covertype_categorical3_loss: 0.1825 - val_covertype_categorical4_loss: 2.0581 - val_covertype_categorical5_loss: 2.6241 - val_covertype_categorical6_loss: 3.2147 - val_covertype_categorical7_loss: 1.0696 - val_covertype_categorical8_loss: 0.9508 - val_covertype_categorical9_loss: 1.3916 - val_covertype_categorical10_loss: 3.4308 - val_covertype_cls_categorical_accuracy: 0.8663 - covertype_categorical3_loss: 0.1773 - covertype_categorical4_loss: 1.6873 - covertype_categorical5_loss: 2.2876 - covertype_categorical6_loss: 2.7360 - covertype_categorical7_loss: 0.9215 - covertype_categorical8_loss: 0.8815 - covertype_categorical9_loss: 1.18\n",
      "Epoch 165/1000\n",
      "129/129 [==============================] - 25s 195ms/step - loss: 8.7344 - covertype_cls_loss: 0.4240 - covertype_bernoulli_loss: 0.0444 - covertype_categorical1_loss: 2.0724 - covertype_categorical2_loss: 1.1425 - covertype_categorical3_loss: 0.1706 - covertype_categorical4_loss: 1.6809 - covertype_categorical5_loss: 2.2886 - covertype_categorical6_loss: 2.7351 - covertype_categorical7_loss: 0.9291 - covertype_categorical8_loss: 0.8933 - covertype_categorical9_loss: 1.1900 - covertype_categorical10_loss: 2.9230 - covertype_cls_categorical_accuracy: 0.9385 - val_loss: 10.9845 - val_covertype_cls_loss: 0.5816 - val_covertype_bernoulli_loss: 0.0630 - val_covertype_categorical1_loss: 3.3952 - val_covertype_categorical2_loss: 1.3300 - val_covertype_categorical3_loss: 0.2003 - val_covertype_categorical4_loss: 2.1103 - val_covertype_categorical5_loss: 2.6924 - val_covertype_categorical6_loss: 3.2960 - val_covertype_categorical7_loss: 1.0978 - val_covertype_categorical8_loss: 1.0114 - val_covertype_categorical9_loss: 1.4951 - val_covertype_categorical10_loss: 3.5786 - val_covertype_cls_categorical_accuracy: 0.8614al4_loss: 1.6823 - covertype_categorical5_loss: 2.2851 - covertype_categorical6_loss: 2.7346 - covertype_categorical7_loss: 0.9267 - covertype_categorical8_loss: 0.8924 - covertype_categorical9_loss: 1.1856 - covertype_categorical10_loss: 2.9215 - covertype_cls_\n",
      "Epoch 166/1000\n",
      "129/129 [==============================] - 28s 215ms/step - loss: 8.7224 - covertype_cls_loss: 0.4299 - covertype_bernoulli_loss: 0.0445 - covertype_categorical1_loss: 2.0706 - covertype_categorical2_loss: 1.1228 - covertype_categorical3_loss: 0.1706 - covertype_categorical4_loss: 1.6881 - covertype_categorical5_loss: 2.2865 - covertype_categorical6_loss: 2.7505 - covertype_categorical7_loss: 0.9154 - covertype_categorical8_loss: 0.8749 - covertype_categorical9_loss: 1.1897 - covertype_categorical10_loss: 2.9204 - covertype_cls_categorical_accuracy: 0.9360 - val_loss: 10.6176 - val_covertype_cls_loss: 0.5628 - val_covertype_bernoulli_loss: 0.0573 - val_covertype_categorical1_loss: 3.2832 - val_covertype_categorical2_loss: 1.2577 - val_covertype_categorical3_loss: 0.1930 - val_covertype_categorical4_loss: 2.0898 - val_covertype_categorical5_loss: 2.6222 - val_covertype_categorical6_loss: 3.2399 - val_covertype_categorical7_loss: 1.0545 - val_covertype_categorical8_loss: 0.9579 - val_covertype_categorical9_loss: 1.3809 - val_covertype_categorical10_loss: 3.4376 - val_covertype_cls_categorical_accuracy: 0.8683gorical3_loss: 0.1694 - covertype_categorical4_loss: 1.6864 - covertype_categorical5_loss: 2.2877 - covertype_categorical6_loss: 2.7516 - covertype_categorical7_loss: 0.9115 - covertype_categorical8_loss: 0.8699 - covertype_categorical9_loss: 1.1854 - covertype_categorical10_loss: 2.9222 - covertype_cls_\n",
      "Epoch 167/1000\n",
      "129/129 [==============================] - 28s 220ms/step - loss: 8.7759 - covertype_cls_loss: 0.4236 - covertype_bernoulli_loss: 0.0426 - covertype_categorical1_loss: 2.0658 - covertype_categorical2_loss: 1.1501 - covertype_categorical3_loss: 0.1902 - covertype_categorical4_loss: 1.7111 - covertype_categorical5_loss: 2.2895 - covertype_categorical6_loss: 2.7343 - covertype_categorical7_loss: 0.9503 - covertype_categorical8_loss: 0.8876 - covertype_categorical9_loss: 1.2136 - covertype_categorical10_loss: 2.9186 - covertype_cls_categorical_accuracy: 0.9390 - val_loss: 11.0828 - val_covertype_cls_loss: 0.5645 - val_covertype_bernoulli_loss: 0.0662 - val_covertype_categorical1_loss: 3.4005 - val_covertype_categorical2_loss: 1.3530 - val_covertype_categorical3_loss: 0.2687 - val_covertype_categorical4_loss: 2.1599 - val_covertype_categorical5_loss: 2.7272 - val_covertype_categorical6_loss: 3.3838 - val_covertype_categorical7_loss: 1.1072 - val_covertype_categorical8_loss: 1.0163 - val_covertype_categorical9_loss: 1.4398 - val_covertype_categorical10_loss: 3.5777 - val_covertype_cls_categorical_accuracy: 0.8669\n",
      "Epoch 168/1000\n"
     ]
    },
    {
     "name": "stdout",
     "output_type": "stream",
     "text": [
      "129/129 [==============================] - 24s 187ms/step - loss: 8.6848 - covertype_cls_loss: 0.4234 - covertype_bernoulli_loss: 0.0434 - covertype_categorical1_loss: 2.0629 - covertype_categorical2_loss: 1.1305 - covertype_categorical3_loss: 0.1806 - covertype_categorical4_loss: 1.6599 - covertype_categorical5_loss: 2.2748 - covertype_categorical6_loss: 2.7219 - covertype_categorical7_loss: 0.9228 - covertype_categorical8_loss: 0.8768 - covertype_categorical9_loss: 1.1938 - covertype_categorical10_loss: 2.9040 - covertype_cls_categorical_accuracy: 0.9388 - val_loss: 10.6205 - val_covertype_cls_loss: 0.5639 - val_covertype_bernoulli_loss: 0.0588 - val_covertype_categorical1_loss: 3.2954 - val_covertype_categorical2_loss: 1.2436 - val_covertype_categorical3_loss: 0.2066 - val_covertype_categorical4_loss: 2.0681 - val_covertype_categorical5_loss: 2.6283 - val_covertype_categorical6_loss: 3.2164 - val_covertype_categorical7_loss: 1.0537 - val_covertype_categorical8_loss: 0.9748 - val_covertype_categorical9_loss: 1.3911 - val_covertype_categorical10_loss: 3.4384 - val_covertype_cls_categorical_accuracy: 0.8696\n",
      "Epoch 169/1000\n",
      "129/129 [==============================] - 25s 195ms/step - loss: 8.6998 - covertype_cls_loss: 0.4247 - covertype_bernoulli_loss: 0.0423 - covertype_categorical1_loss: 2.0693 - covertype_categorical2_loss: 1.1264 - covertype_categorical3_loss: 0.1707 - covertype_categorical4_loss: 1.6760 - covertype_categorical5_loss: 2.2754 - covertype_categorical6_loss: 2.7267 - covertype_categorical7_loss: 0.9206 - covertype_categorical8_loss: 0.8811 - covertype_categorical9_loss: 1.1927 - covertype_categorical10_loss: 2.9179 - covertype_cls_categorical_accuracy: 0.9378 - val_loss: 10.9991 - val_covertype_cls_loss: 0.5787 - val_covertype_bernoulli_loss: 0.0615 - val_covertype_categorical1_loss: 3.4065 - val_covertype_categorical2_loss: 1.3021 - val_covertype_categorical3_loss: 0.1948 - val_covertype_categorical4_loss: 2.1207 - val_covertype_categorical5_loss: 2.7365 - val_covertype_categorical6_loss: 3.3176 - val_covertype_categorical7_loss: 1.1362 - val_covertype_categorical8_loss: 1.0526 - val_covertype_categorical9_loss: 1.4399 - val_covertype_categorical10_loss: 3.5365 - val_covertype_cls_categorical_accuracy: 0.8585\n",
      "Epoch 170/1000\n",
      "129/129 [==============================] - 26s 198ms/step - loss: 8.6719 - covertype_cls_loss: 0.4217 - covertype_bernoulli_loss: 0.0428 - covertype_categorical1_loss: 2.0548 - covertype_categorical2_loss: 1.1253 - covertype_categorical3_loss: 0.1613 - covertype_categorical4_loss: 1.6765 - covertype_categorical5_loss: 2.2758 - covertype_categorical6_loss: 2.7244 - covertype_categorical7_loss: 0.9098 - covertype_categorical8_loss: 0.8784 - covertype_categorical9_loss: 1.1892 - covertype_categorical10_loss: 2.9109 - covertype_cls_categorical_accuracy: 0.9397 - val_loss: 10.5808 - val_covertype_cls_loss: 0.5687 - val_covertype_bernoulli_loss: 0.0567 - val_covertype_categorical1_loss: 3.2641 - val_covertype_categorical2_loss: 1.2674 - val_covertype_categorical3_loss: 0.1851 - val_covertype_categorical4_loss: 2.0366 - val_covertype_categorical5_loss: 2.6128 - val_covertype_categorical6_loss: 3.2139 - val_covertype_categorical7_loss: 1.0709 - val_covertype_categorical8_loss: 0.9494 - val_covertype_categorical9_loss: 1.3820 - val_covertype_categorical10_loss: 3.4499 - val_covertype_cls_categorical_accuracy: 0.8675\n",
      "Epoch 171/1000\n",
      "129/129 [==============================] - 24s 184ms/step - loss: 8.7072 - covertype_cls_loss: 0.4224 - covertype_bernoulli_loss: 0.0424 - covertype_categorical1_loss: 2.0583 - covertype_categorical2_loss: 1.1316 - covertype_categorical3_loss: 0.1843 - covertype_categorical4_loss: 1.6743 - covertype_categorical5_loss: 2.2764 - covertype_categorical6_loss: 2.7302 - covertype_categorical7_loss: 0.9320 - covertype_categorical8_loss: 0.8848 - covertype_categorical9_loss: 1.1991 - covertype_categorical10_loss: 2.9052 - covertype_cls_categorical_accuracy: 0.9393 - val_loss: 11.0040 - val_covertype_cls_loss: 0.5698 - val_covertype_bernoulli_loss: 0.0650 - val_covertype_categorical1_loss: 3.3945 - val_covertype_categorical2_loss: 1.3230 - val_covertype_categorical3_loss: 0.1942 - val_covertype_categorical4_loss: 2.1513 - val_covertype_categorical5_loss: 2.7310 - val_covertype_categorical6_loss: 3.3109 - val_covertype_categorical7_loss: 1.1389 - val_covertype_categorical8_loss: 1.0279 - val_covertype_categorical9_loss: 1.4419 - val_covertype_categorical10_loss: 3.5535 - val_covertype_cls_categorical_accuracy: 0.8658\n",
      "Epoch 172/1000\n",
      "129/129 [==============================] - 27s 206ms/step - loss: 8.6528 - covertype_cls_loss: 0.4225 - covertype_bernoulli_loss: 0.0418 - covertype_categorical1_loss: 2.0546 - covertype_categorical2_loss: 1.1132 - covertype_categorical3_loss: 0.1708 - covertype_categorical4_loss: 1.6757 - covertype_categorical5_loss: 2.2766 - covertype_categorical6_loss: 2.7178 - covertype_categorical7_loss: 0.9068 - covertype_categorical8_loss: 0.8713 - covertype_categorical9_loss: 1.1819 - covertype_categorical10_loss: 2.8982 - covertype_cls_categorical_accuracy: 0.9391 - val_loss: 10.5471 - val_covertype_cls_loss: 0.5593 - val_covertype_bernoulli_loss: 0.0579 - val_covertype_categorical1_loss: 3.2790 - val_covertype_categorical2_loss: 1.2427 - val_covertype_categorical3_loss: 0.1792 - val_covertype_categorical4_loss: 2.0526 - val_covertype_categorical5_loss: 2.5970 - val_covertype_categorical6_loss: 3.2280 - val_covertype_categorical7_loss: 1.0427 - val_covertype_categorical8_loss: 0.9502 - val_covertype_categorical9_loss: 1.3804 - val_covertype_categorical10_loss: 3.4303 - val_covertype_cls_categorical_accuracy: 0.8727\n",
      "Epoch 173/1000\n",
      "129/129 [==============================] - 27s 206ms/step - loss: 8.6401 - covertype_cls_loss: 0.4222 - covertype_bernoulli_loss: 0.0415 - covertype_categorical1_loss: 2.0469 - covertype_categorical2_loss: 1.1152 - covertype_categorical3_loss: 0.1617 - covertype_categorical4_loss: 1.6752 - covertype_categorical5_loss: 2.2798 - covertype_categorical6_loss: 2.7129 - covertype_categorical7_loss: 0.9030 - covertype_categorical8_loss: 0.8691 - covertype_categorical9_loss: 1.1741 - covertype_categorical10_loss: 2.9049 - covertype_cls_categorical_accuracy: 0.9389 - val_loss: 10.8354 - val_covertype_cls_loss: 0.5716 - val_covertype_bernoulli_loss: 0.0583 - val_covertype_categorical1_loss: 3.3508 - val_covertype_categorical2_loss: 1.2965 - val_covertype_categorical3_loss: 0.1906 - val_covertype_categorical4_loss: 2.0928 - val_covertype_categorical5_loss: 2.6717 - val_covertype_categorical6_loss: 3.3165 - val_covertype_categorical7_loss: 1.0940 - val_covertype_categorical8_loss: 0.9936 - val_covertype_categorical9_loss: 1.4534 - val_covertype_categorical10_loss: 3.4728 - val_covertype_cls_categorical_accuracy: 0.8643\n",
      "Epoch 174/1000\n",
      "129/129 [==============================] - 25s 197ms/step - loss: 8.6396 - covertype_cls_loss: 0.4191 - covertype_bernoulli_loss: 0.0420 - covertype_categorical1_loss: 2.0439 - covertype_categorical2_loss: 1.1329 - covertype_categorical3_loss: 0.1625 - covertype_categorical4_loss: 1.6634 - covertype_categorical5_loss: 2.2703 - covertype_categorical6_loss: 2.7157 - covertype_categorical7_loss: 0.9170 - covertype_categorical8_loss: 0.8648 - covertype_categorical9_loss: 1.1853 - covertype_categorical10_loss: 2.8911 - covertype_cls_categorical_accuracy: 0.9408 - val_loss: 10.5010 - val_covertype_cls_loss: 0.5587 - val_covertype_bernoulli_loss: 0.0571 - val_covertype_categorical1_loss: 3.2404 - val_covertype_categorical2_loss: 1.2613 - val_covertype_categorical3_loss: 0.1787 - val_covertype_categorical4_loss: 2.0367 - val_covertype_categorical5_loss: 2.6111 - val_covertype_categorical6_loss: 3.1916 - val_covertype_categorical7_loss: 1.0370 - val_covertype_categorical8_loss: 0.9336 - val_covertype_categorical9_loss: 1.3844 - val_covertype_categorical10_loss: 3.4163 - val_covertype_cls_categorical_accuracy: 0.8711\n",
      "Epoch 175/1000\n",
      "129/129 [==============================] - 24s 187ms/step - loss: 8.6239 - covertype_cls_loss: 0.4262 - covertype_bernoulli_loss: 0.0413 - covertype_categorical1_loss: 2.0407 - covertype_categorical2_loss: 1.1113 - covertype_categorical3_loss: 0.1660 - covertype_categorical4_loss: 1.6765 - covertype_categorical5_loss: 2.2568 - covertype_categorical6_loss: 2.7014 - covertype_categorical7_loss: 0.9093 - covertype_categorical8_loss: 0.8663 - covertype_categorical9_loss: 1.1781 - covertype_categorical10_loss: 2.8949 - covertype_cls_categorical_accuracy: 0.9368 - val_loss: 11.0891 - val_covertype_cls_loss: 0.5620 - val_covertype_bernoulli_loss: 0.0724 - val_covertype_categorical1_loss: 3.4421 - val_covertype_categorical2_loss: 1.3241 - val_covertype_categorical3_loss: 0.1850 - val_covertype_categorical4_loss: 2.2142 - val_covertype_categorical5_loss: 2.7804 - val_covertype_categorical6_loss: 3.3572 - val_covertype_categorical7_loss: 1.0808 - val_covertype_categorical8_loss: 1.0426 - val_covertype_categorical9_loss: 1.4557 - val_covertype_categorical10_loss: 3.5634 - val_covertype_cls_categorical_accuracy: 0.8692\n",
      "Epoch 176/1000\n",
      "129/129 [==============================] - 25s 197ms/step - loss: 8.6138 - covertype_cls_loss: 0.4188 - covertype_bernoulli_loss: 0.0437 - covertype_categorical1_loss: 2.0508 - covertype_categorical2_loss: 1.1096 - covertype_categorical3_loss: 0.1675 - covertype_categorical4_loss: 1.6708 - covertype_categorical5_loss: 2.2645 - covertype_categorical6_loss: 2.7042 - covertype_categorical7_loss: 0.8980 - covertype_categorical8_loss: 0.8705 - covertype_categorical9_loss: 1.1734 - covertype_categorical10_loss: 2.8852 - covertype_cls_categorical_accuracy: 0.9408 - val_loss: 10.5372 - val_covertype_cls_loss: 0.5609 - val_covertype_bernoulli_loss: 0.0591 - val_covertype_categorical1_loss: 3.2427 - val_covertype_categorical2_loss: 1.2540 - val_covertype_categorical3_loss: 0.1758 - val_covertype_categorical4_loss: 2.0568 - val_covertype_categorical5_loss: 2.5999 - val_covertype_categorical6_loss: 3.1930 - val_covertype_categorical7_loss: 1.0624 - val_covertype_categorical8_loss: 0.9512 - val_covertype_categorical9_loss: 1.3889 - val_covertype_categorical10_loss: 3.4321 - val_covertype_cls_categorical_accuracy: 0.8708 covertype_categorical1_loss: 2.0542 - covertype_categorical2_loss: 1.1166 - covertype_categorical3_loss: 0.2072 - covertype_categorical4_loss: 1.7124 - covertype_categorical5_loss: 2.2873 - covertype_categorical6_loss: 2.7221 - covertype_categorical7_loss: 0.9216 \n",
      "Epoch 177/1000\n",
      "129/129 [==============================] - 24s 183ms/step - loss: 8.5959 - covertype_cls_loss: 0.4195 - covertype_bernoulli_loss: 0.0416 - covertype_categorical1_loss: 2.0361 - covertype_categorical2_loss: 1.1137 - covertype_categorical3_loss: 0.1682 - covertype_categorical4_loss: 1.6704 - covertype_categorical5_loss: 2.2431 - covertype_categorical6_loss: 2.6910 - covertype_categorical7_loss: 0.9052 - covertype_categorical8_loss: 0.8701 - covertype_categorical9_loss: 1.1760 - covertype_categorical10_loss: 2.8857 - covertype_cls_categorical_accuracy: 0.9405 - val_loss: 10.8694 - val_covertype_cls_loss: 0.5653 - val_covertype_bernoulli_loss: 0.0611 - val_covertype_categorical1_loss: 3.3673 - val_covertype_categorical2_loss: 1.3239 - val_covertype_categorical3_loss: 0.2065 - val_covertype_categorical4_loss: 2.0948 - val_covertype_categorical5_loss: 2.6824 - val_covertype_categorical6_loss: 3.2877 - val_covertype_categorical7_loss: 1.0934 - val_covertype_categorical8_loss: 1.0141 - val_covertype_categorical9_loss: 1.4174 - val_covertype_categorical10_loss: 3.5220 - val_covertype_cls_categorical_accuracy: 0.8684\n",
      "Epoch 178/1000\n",
      "129/129 [==============================] - 25s 193ms/step - loss: 8.6297 - covertype_cls_loss: 0.4214 - covertype_bernoulli_loss: 0.0420 - covertype_categorical1_loss: 2.0527 - covertype_categorical2_loss: 1.1134 - covertype_categorical3_loss: 0.1688 - covertype_categorical4_loss: 1.6780 - covertype_categorical5_loss: 2.2675 - covertype_categorical6_loss: 2.7016 - covertype_categorical7_loss: 0.9091 - covertype_categorical8_loss: 0.8619 - covertype_categorical9_loss: 1.1797 - covertype_categorical10_loss: 2.8894 - covertype_cls_categorical_accuracy: 0.9396 - val_loss: 10.4907 - val_covertype_cls_loss: 0.5584 - val_covertype_bernoulli_loss: 0.0553 - val_covertype_categorical1_loss: 3.2833 - val_covertype_categorical2_loss: 1.2393 - val_covertype_categorical3_loss: 0.1825 - val_covertype_categorical4_loss: 2.0448 - val_covertype_categorical5_loss: 2.5855 - val_covertype_categorical6_loss: 3.2149 - val_covertype_categorical7_loss: 1.0295 - val_covertype_categorical8_loss: 0.9277 - val_covertype_categorical9_loss: 1.3573 - val_covertype_categorical10_loss: 3.4080 - val_covertype_cls_categorical_accuracy: 0.8720\n",
      "Epoch 179/1000\n",
      "129/129 [==============================] - 25s 190ms/step - loss: 8.6065 - covertype_cls_loss: 0.4197 - covertype_bernoulli_loss: 0.0414 - covertype_categorical1_loss: 2.0410 - covertype_categorical2_loss: 1.1095 - covertype_categorical3_loss: 0.1677 - covertype_categorical4_loss: 1.6808 - covertype_categorical5_loss: 2.2558 - covertype_categorical6_loss: 2.6994 - covertype_categorical7_loss: 0.9043 - covertype_categorical8_loss: 0.8662 - covertype_categorical9_loss: 1.1743 - covertype_categorical10_loss: 2.8812 - covertype_cls_categorical_accuracy: 0.9405 - val_loss: 10.9449 - val_covertype_cls_loss: 0.5669 - val_covertype_bernoulli_loss: 0.0584 - val_covertype_categorical1_loss: 3.3903 - val_covertype_categorical2_loss: 1.3508 - val_covertype_categorical3_loss: 0.2037 - val_covertype_categorical4_loss: 2.1394 - val_covertype_categorical5_loss: 2.6449 - val_covertype_categorical6_loss: 3.3046 - val_covertype_categorical7_loss: 1.1224 - val_covertype_categorical8_loss: 1.0371 - val_covertype_categorical9_loss: 1.4322 - val_covertype_categorical10_loss: 3.5366 - val_covertype_cls_categorical_accuracy: 0.8696ss: 0.0408 - covertype_categorical1_loss: 2.0394 - covertype_categorical2_loss: 1.1045 - covertype_categorical3_loss: 0.1620 - covertype_categorical4_loss: 1.6947 - covertype_categorical5_loss: 2.2525 - covertype_categorical6_loss: 2.6956 - covertype_categorical7_loss: 0.8997 - covertype_categorical8_loss: 0.8582 - covertype_categorical9_loss: 1.1657 -\n",
      "Epoch 180/1000\n",
      "129/129 [==============================] - 25s 193ms/step - loss: 8.5777 - covertype_cls_loss: 0.4197 - covertype_bernoulli_loss: 0.0412 - covertype_categorical1_loss: 2.0384 - covertype_categorical2_loss: 1.1065 - covertype_categorical3_loss: 0.1648 - covertype_categorical4_loss: 1.6734 - covertype_categorical5_loss: 2.2487 - covertype_categorical6_loss: 2.6856 - covertype_categorical7_loss: 0.8953 - covertype_categorical8_loss: 0.8646 - covertype_categorical9_loss: 1.1653 - covertype_categorical10_loss: 2.8801 - covertype_cls_categorical_accuracy: 0.9405 - val_loss: 10.4534 - val_covertype_cls_loss: 0.5579 - val_covertype_bernoulli_loss: 0.0557 - val_covertype_categorical1_loss: 3.2381 - val_covertype_categorical2_loss: 1.2517 - val_covertype_categorical3_loss: 0.1705 - val_covertype_categorical4_loss: 2.0385 - val_covertype_categorical5_loss: 2.5771 - val_covertype_categorical6_loss: 3.1770 - val_covertype_categorical7_loss: 1.0394 - val_covertype_categorical8_loss: 0.9319 - val_covertype_categorical9_loss: 1.3523 - val_covertype_categorical10_loss: 3.4229 - val_covertype_cls_categorical_accuracy: 0.8723\n",
      "Epoch 181/1000\n"
     ]
    },
    {
     "name": "stdout",
     "output_type": "stream",
     "text": [
      "129/129 [==============================] - 25s 190ms/step - loss: 8.6806 - covertype_cls_loss: 0.4221 - covertype_bernoulli_loss: 0.0411 - covertype_categorical1_loss: 2.0331 - covertype_categorical2_loss: 1.1133 - covertype_categorical3_loss: 0.1652 - covertype_categorical4_loss: 1.7784 - covertype_categorical5_loss: 2.3166 - covertype_categorical6_loss: 2.6819 - covertype_categorical7_loss: 0.9135 - covertype_categorical8_loss: 0.8606 - covertype_categorical9_loss: 1.1786 - covertype_categorical10_loss: 2.8838 - covertype_cls_categorical_accuracy: 0.9389 - val_loss: 10.7417 - val_covertype_cls_loss: 0.5761 - val_covertype_bernoulli_loss: 0.0611 - val_covertype_categorical1_loss: 3.3488 - val_covertype_categorical2_loss: 1.2769 - val_covertype_categorical3_loss: 0.1857 - val_covertype_categorical4_loss: 2.0861 - val_covertype_categorical5_loss: 2.6311 - val_covertype_categorical6_loss: 3.2471 - val_covertype_categorical7_loss: 1.0939 - val_covertype_categorical8_loss: 0.9966 - val_covertype_categorical9_loss: 1.3816 - val_covertype_categorical10_loss: 3.4854 - val_covertype_cls_categorical_accuracy: 0.8656ss: 0.0417 - covertype_categorical1_loss: 2.0432 - covertype_categorical2_loss: 1.1217 - covertype_categorical3_loss: 0.1678 - covertype_categorical4_loss: 1.8410 - covertype_categorical5_loss: 2.3545 - covertype_categorical6_loss: 2.6976 - covertype_categorical7_loss: 0.9270 - covertype_categorical8_loss: 0.8652 - covertype_categorical9_loss: 1.1902 - covertype_categorical10_loss: 2.8985 - covertype_cls_categorical_accuracy: 0.9 - ETA: 7s - loss: 8.7691 - covertype_cls_loss: 0.4208 - covertype_bernoulli_loss: 0.0417 - covertype_categorical1_loss: 2.0430 - covertype_categorical2_loss: 1.1219 - covertype_categorical3_loss: 0.1685 - covertype_categorical4_loss: 1.8365 - covertype_categorical5_loss: 2.3543 - covertype_categorical6_loss: 2.6985 - covertype_categorical7_loss: 0.9272 - covertype_categorical8_loss: 0.8651 - covertype_categorical9_loss: 1.1899 - covertype_categorical10_loss: 2.8993 - co\n",
      "Epoch 182/1000\n",
      "129/129 [==============================] - 24s 187ms/step - loss: 8.5232 - covertype_cls_loss: 0.4191 - covertype_bernoulli_loss: 0.0404 - covertype_categorical1_loss: 2.0351 - covertype_categorical2_loss: 1.0921 - covertype_categorical3_loss: 0.1499 - covertype_categorical4_loss: 1.6506 - covertype_categorical5_loss: 2.2443 - covertype_categorical6_loss: 2.6736 - covertype_categorical7_loss: 0.8914 - covertype_categorical8_loss: 0.8500 - covertype_categorical9_loss: 1.1650 - covertype_categorical10_loss: 2.8633 - covertype_cls_categorical_accuracy: 0.9403 - val_loss: 10.5206 - val_covertype_cls_loss: 0.5615 - val_covertype_bernoulli_loss: 0.0548 - val_covertype_categorical1_loss: 3.2616 - val_covertype_categorical2_loss: 1.2607 - val_covertype_categorical3_loss: 0.1672 - val_covertype_categorical4_loss: 2.0219 - val_covertype_categorical5_loss: 2.6373 - val_covertype_categorical6_loss: 3.1794 - val_covertype_categorical7_loss: 1.0385 - val_covertype_categorical8_loss: 0.9624 - val_covertype_categorical9_loss: 1.3824 - val_covertype_categorical10_loss: 3.4152 - val_covertype_cls_categorical_accuracy: 0.8704\n",
      "Epoch 183/1000\n",
      "129/129 [==============================] - 22s 171ms/step - loss: 8.5698 - covertype_cls_loss: 0.4165 - covertype_bernoulli_loss: 0.0406 - covertype_categorical1_loss: 2.0308 - covertype_categorical2_loss: 1.1379 - covertype_categorical3_loss: 0.1527 - covertype_categorical4_loss: 1.6435 - covertype_categorical5_loss: 2.2414 - covertype_categorical6_loss: 2.6793 - covertype_categorical7_loss: 0.9165 - covertype_categorical8_loss: 0.8620 - covertype_categorical9_loss: 1.1835 - covertype_categorical10_loss: 2.8661 - covertype_cls_categorical_accuracy: 0.9419 - val_loss: 10.8297 - val_covertype_cls_loss: 0.5649 - val_covertype_bernoulli_loss: 0.0614 - val_covertype_categorical1_loss: 3.3552 - val_covertype_categorical2_loss: 1.3065 - val_covertype_categorical3_loss: 0.1864 - val_covertype_categorical4_loss: 2.0771 - val_covertype_categorical5_loss: 2.6680 - val_covertype_categorical6_loss: 3.2822 - val_covertype_categorical7_loss: 1.0799 - val_covertype_categorical8_loss: 1.0187 - val_covertype_categorical9_loss: 1.4241 - val_covertype_categorical10_loss: 3.5339 - val_covertype_cls_categorical_accuracy: 0.8693\n",
      "Epoch 184/1000\n",
      "129/129 [==============================] - 24s 189ms/step - loss: 8.4980 - covertype_cls_loss: 0.4149 - covertype_bernoulli_loss: 0.0408 - covertype_categorical1_loss: 2.0288 - covertype_categorical2_loss: 1.0884 - covertype_categorical3_loss: 0.1575 - covertype_categorical4_loss: 1.6514 - covertype_categorical5_loss: 2.2341 - covertype_categorical6_loss: 2.6670 - covertype_categorical7_loss: 0.8750 - covertype_categorical8_loss: 0.8542 - covertype_categorical9_loss: 1.1519 - covertype_categorical10_loss: 2.8643 - covertype_cls_categorical_accuracy: 0.9430 - val_loss: 10.3834 - val_covertype_cls_loss: 0.5584 - val_covertype_bernoulli_loss: 0.0535 - val_covertype_categorical1_loss: 3.2209 - val_covertype_categorical2_loss: 1.2339 - val_covertype_categorical3_loss: 0.1642 - val_covertype_categorical4_loss: 2.0326 - val_covertype_categorical5_loss: 2.5735 - val_covertype_categorical6_loss: 3.1696 - val_covertype_categorical7_loss: 1.0092 - val_covertype_categorical8_loss: 0.9285 - val_covertype_categorical9_loss: 1.3275 - val_covertype_categorical10_loss: 3.3999 - val_covertype_cls_categorical_accuracy: 0.8717\n",
      "Epoch 185/1000\n",
      "129/129 [==============================] - 26s 199ms/step - loss: 8.5672 - covertype_cls_loss: 0.4234 - covertype_bernoulli_loss: 0.0413 - covertype_categorical1_loss: 2.0288 - covertype_categorical2_loss: 1.1127 - covertype_categorical3_loss: 0.1770 - covertype_categorical4_loss: 1.6460 - covertype_categorical5_loss: 2.2352 - covertype_categorical6_loss: 2.6741 - covertype_categorical7_loss: 0.9083 - covertype_categorical8_loss: 0.8642 - covertype_categorical9_loss: 1.1806 - covertype_categorical10_loss: 2.8666 - covertype_cls_categorical_accuracy: 0.9383 - val_loss: 10.8967 - val_covertype_cls_loss: 0.5631 - val_covertype_bernoulli_loss: 0.0583 - val_covertype_categorical1_loss: 3.3814 - val_covertype_categorical2_loss: 1.3544 - val_covertype_categorical3_loss: 0.2614 - val_covertype_categorical4_loss: 2.0914 - val_covertype_categorical5_loss: 2.6408 - val_covertype_categorical6_loss: 3.2679 - val_covertype_categorical7_loss: 1.1184 - val_covertype_categorical8_loss: 0.9745 - val_covertype_categorical9_loss: 1.4666 - val_covertype_categorical10_loss: 3.5148 - val_covertype_cls_categorical_accuracy: 0.8705\n",
      "Epoch 186/1000\n",
      "129/129 [==============================] - 24s 189ms/step - loss: 8.4972 - covertype_cls_loss: 0.4165 - covertype_bernoulli_loss: 0.0405 - covertype_categorical1_loss: 2.0323 - covertype_categorical2_loss: 1.0922 - covertype_categorical3_loss: 0.1611 - covertype_categorical4_loss: 1.6463 - covertype_categorical5_loss: 2.2302 - covertype_categorical6_loss: 2.6703 - covertype_categorical7_loss: 0.8782 - covertype_categorical8_loss: 0.8438 - covertype_categorical9_loss: 1.1470 - covertype_categorical10_loss: 2.8665 - covertype_cls_categorical_accuracy: 0.9413 - val_loss: 10.4373 - val_covertype_cls_loss: 0.5605 - val_covertype_bernoulli_loss: 0.0586 - val_covertype_categorical1_loss: 3.2302 - val_covertype_categorical2_loss: 1.2368 - val_covertype_categorical3_loss: 0.1670 - val_covertype_categorical4_loss: 2.0116 - val_covertype_categorical5_loss: 2.6011 - val_covertype_categorical6_loss: 3.1951 - val_covertype_categorical7_loss: 1.0274 - val_covertype_categorical8_loss: 0.9266 - val_covertype_categorical9_loss: 1.3465 - val_covertype_categorical10_loss: 3.4160 - val_covertype_cls_categorical_accuracy: 0.8723covertype_bernoulli_loss: 0.0400 - covertype_categorical1_loss: 2.0267 - covertype_categorical2_loss: 1.0897 - covertype_categorical3_loss: 0.1933 - covertype_categorical4_loss: 1.6369 - covertype_categorical5_loss: 2.2292 - covertype_categorical6_loss: 2.6557 - covertype_categorical7_loss: 0.9144 - covertype_categorical8_loss: 0.8491 - covertype_categorical9_loss: 1.1747 - covertype_categorical - ETA: 16s - loss: 8.4587 - covertype_cls_loss: 0.4171 - covertype_bernoulli_loss: 0.0410 - covertype_categorical1_loss: 2.0289 - covertype_categorical2_loss: 1.0823 - covertype_categorical3_loss: 0.1625 - covertype_categorical4_loss: 1.6374 - covertype_categorical5_loss: 2.2231 - covertype_categorical6_loss: 2.6500 - covertype_categorical7_loss: 0.8713 - covertype_categorical8_loss: 0.836\n",
      "Epoch 187/1000\n",
      "129/129 [==============================] - 25s 197ms/step - loss: 8.5177 - covertype_cls_loss: 0.4171 - covertype_bernoulli_loss: 0.0401 - covertype_categorical1_loss: 2.0222 - covertype_categorical2_loss: 1.1032 - covertype_categorical3_loss: 0.1568 - covertype_categorical4_loss: 1.6364 - covertype_categorical5_loss: 2.2464 - covertype_categorical6_loss: 2.6695 - covertype_categorical7_loss: 0.8949 - covertype_categorical8_loss: 0.8479 - covertype_categorical9_loss: 1.1600 - covertype_categorical10_loss: 2.8720 - covertype_cls_categorical_accuracy: 0.9415 - val_loss: 10.9069 - val_covertype_cls_loss: 0.5594 - val_covertype_bernoulli_loss: 0.0567 - val_covertype_categorical1_loss: 3.3697 - val_covertype_categorical2_loss: 1.3103 - val_covertype_categorical3_loss: 0.2055 - val_covertype_categorical4_loss: 2.1323 - val_covertype_categorical5_loss: 2.7097 - val_covertype_categorical6_loss: 3.3165 - val_covertype_categorical7_loss: 1.0800 - val_covertype_categorical8_loss: 1.0183 - val_covertype_categorical9_loss: 1.4596 - val_covertype_categorical10_loss: 3.5003 - val_covertype_cls_categorical_accuracy: 0.8678\n",
      "Epoch 188/1000\n",
      "129/129 [==============================] - 23s 181ms/step - loss: 8.5273 - covertype_cls_loss: 0.4155 - covertype_bernoulli_loss: 0.0408 - covertype_categorical1_loss: 2.0204 - covertype_categorical2_loss: 1.1041 - covertype_categorical3_loss: 0.1596 - covertype_categorical4_loss: 1.6660 - covertype_categorical5_loss: 2.2419 - covertype_categorical6_loss: 2.6792 - covertype_categorical7_loss: 0.8860 - covertype_categorical8_loss: 0.8493 - covertype_categorical9_loss: 1.1633 - covertype_categorical10_loss: 2.8606 - covertype_cls_categorical_accuracy: 0.9421 - val_loss: 10.3794 - val_covertype_cls_loss: 0.5542 - val_covertype_bernoulli_loss: 0.0545 - val_covertype_categorical1_loss: 3.2243 - val_covertype_categorical2_loss: 1.2230 - val_covertype_categorical3_loss: 0.1571 - val_covertype_categorical4_loss: 2.0266 - val_covertype_categorical5_loss: 2.5746 - val_covertype_categorical6_loss: 3.1713 - val_covertype_categorical7_loss: 1.0138 - val_covertype_categorical8_loss: 0.9266 - val_covertype_categorical9_loss: 1.3498 - val_covertype_categorical10_loss: 3.3916 - val_covertype_cls_categorical_accuracy: 0.8730\n",
      "Epoch 189/1000\n",
      "129/129 [==============================] - 25s 192ms/step - loss: 8.4708 - covertype_cls_loss: 0.4203 - covertype_bernoulli_loss: 0.0398 - covertype_categorical1_loss: 2.0207 - covertype_categorical2_loss: 1.0824 - covertype_categorical3_loss: 0.1567 - covertype_categorical4_loss: 1.6358 - covertype_categorical5_loss: 2.2237 - covertype_categorical6_loss: 2.6552 - covertype_categorical7_loss: 0.8771 - covertype_categorical8_loss: 0.8487 - covertype_categorical9_loss: 1.1501 - covertype_categorical10_loss: 2.8581 - covertype_cls_categorical_accuracy: 0.9394 - val_loss: 10.8738 - val_covertype_cls_loss: 0.5994 - val_covertype_bernoulli_loss: 0.0582 - val_covertype_categorical1_loss: 3.3498 - val_covertype_categorical2_loss: 1.2777 - val_covertype_categorical3_loss: 0.1697 - val_covertype_categorical4_loss: 2.0914 - val_covertype_categorical5_loss: 2.6880 - val_covertype_categorical6_loss: 3.2863 - val_covertype_categorical7_loss: 1.0730 - val_covertype_categorical8_loss: 1.0083 - val_covertype_categorical9_loss: 1.4547 - val_covertype_categorical10_loss: 3.5548 - val_covertype_cls_categorical_accuracy: 0.8517\n",
      "Epoch 190/1000\n",
      "129/129 [==============================] - 28s 219ms/step - loss: 8.6051 - covertype_cls_loss: 0.4197 - covertype_bernoulli_loss: 0.0410 - covertype_categorical1_loss: 2.0263 - covertype_categorical2_loss: 1.1022 - covertype_categorical3_loss: 0.1659 - covertype_categorical4_loss: 1.7403 - covertype_categorical5_loss: 2.2809 - covertype_categorical6_loss: 2.6658 - covertype_categorical7_loss: 0.8924 - covertype_categorical8_loss: 0.8649 - covertype_categorical9_loss: 1.1732 - covertype_categorical10_loss: 2.8655 - covertype_cls_categorical_accuracy: 0.9399 - val_loss: 10.2910 - val_covertype_cls_loss: 0.5539 - val_covertype_bernoulli_loss: 0.0539 - val_covertype_categorical1_loss: 3.2022 - val_covertype_categorical2_loss: 1.2144 - val_covertype_categorical3_loss: 0.1634 - val_covertype_categorical4_loss: 1.9983 - val_covertype_categorical5_loss: 2.5517 - val_covertype_categorical6_loss: 3.1318 - val_covertype_categorical7_loss: 1.0074 - val_covertype_categorical8_loss: 0.9164 - val_covertype_categorical9_loss: 1.3307 - val_covertype_categorical10_loss: 3.3672 - val_covertype_cls_categorical_accuracy: 0.8744\n",
      "Epoch 191/1000\n",
      "129/129 [==============================] - 28s 217ms/step - loss: 8.4369 - covertype_cls_loss: 0.4147 - covertype_bernoulli_loss: 0.0396 - covertype_categorical1_loss: 2.0196 - covertype_categorical2_loss: 1.0841 - covertype_categorical3_loss: 0.1449 - covertype_categorical4_loss: 1.6184 - covertype_categorical5_loss: 2.2137 - covertype_categorical6_loss: 2.6579 - covertype_categorical7_loss: 0.8767 - covertype_categorical8_loss: 0.8407 - covertype_categorical9_loss: 1.1588 - covertype_categorical10_loss: 2.8369 - covertype_cls_categorical_accuracy: 0.9422 - val_loss: 10.7484 - val_covertype_cls_loss: 0.5582 - val_covertype_bernoulli_loss: 0.0570 - val_covertype_categorical1_loss: 3.3536 - val_covertype_categorical2_loss: 1.2835 - val_covertype_categorical3_loss: 0.2144 - val_covertype_categorical4_loss: 2.0645 - val_covertype_categorical5_loss: 2.6346 - val_covertype_categorical6_loss: 3.2662 - val_covertype_categorical7_loss: 1.0832 - val_covertype_categorical8_loss: 0.9792 - val_covertype_categorical9_loss: 1.4348 - val_covertype_categorical10_loss: 3.4712 - val_covertype_cls_categorical_accuracy: 0.8724\n",
      "Epoch 192/1000\n",
      "129/129 [==============================] - 28s 216ms/step - loss: 8.4917 - covertype_cls_loss: 0.4163 - covertype_bernoulli_loss: 0.0401 - covertype_categorical1_loss: 2.0115 - covertype_categorical2_loss: 1.1071 - covertype_categorical3_loss: 0.1558 - covertype_categorical4_loss: 1.6464 - covertype_categorical5_loss: 2.2187 - covertype_categorical6_loss: 2.6559 - covertype_categorical7_loss: 0.8953 - covertype_categorical8_loss: 0.8530 - covertype_categorical9_loss: 1.1751 - covertype_categorical10_loss: 2.8388 - covertype_cls_categorical_accuracy: 0.9419 - val_loss: 10.3786 - val_covertype_cls_loss: 0.5508 - val_covertype_bernoulli_loss: 0.0548 - val_covertype_categorical1_loss: 3.2160 - val_covertype_categorical2_loss: 1.2163 - val_covertype_categorical3_loss: 0.1713 - val_covertype_categorical4_loss: 2.0180 - val_covertype_categorical5_loss: 2.5678 - val_covertype_categorical6_loss: 3.1621 - val_covertype_categorical7_loss: 1.0256 - val_covertype_categorical8_loss: 0.9298 - val_covertype_categorical9_loss: 1.3438 - val_covertype_categorical10_loss: 3.4125 - val_covertype_cls_categorical_accuracy: 0.8745\n"
     ]
    },
    {
     "name": "stdout",
     "output_type": "stream",
     "text": [
      "Epoch 193/1000\n",
      "129/129 [==============================] - 28s 214ms/step - loss: 8.4432 - covertype_cls_loss: 0.4149 - covertype_bernoulli_loss: 0.0400 - covertype_categorical1_loss: 2.0059 - covertype_categorical2_loss: 1.0943 - covertype_categorical3_loss: 0.1599 - covertype_categorical4_loss: 1.6216 - covertype_categorical5_loss: 2.2200 - covertype_categorical6_loss: 2.6451 - covertype_categorical7_loss: 0.8808 - covertype_categorical8_loss: 0.8468 - covertype_categorical9_loss: 1.1574 - covertype_categorical10_loss: 2.8311 - covertype_cls_categorical_accuracy: 0.9426 - val_loss: 10.8208 - val_covertype_cls_loss: 0.5679 - val_covertype_bernoulli_loss: 0.0603 - val_covertype_categorical1_loss: 3.3544 - val_covertype_categorical2_loss: 1.3397 - val_covertype_categorical3_loss: 0.1769 - val_covertype_categorical4_loss: 2.0664 - val_covertype_categorical5_loss: 2.6570 - val_covertype_categorical6_loss: 3.2831 - val_covertype_categorical7_loss: 1.1245 - val_covertype_categorical8_loss: 1.0054 - val_covertype_categorical9_loss: 1.4183 - val_covertype_categorical10_loss: 3.4814 - val_covertype_cls_categorical_accuracy: 0.8622\n",
      "Epoch 194/1000\n",
      "129/129 [==============================] - 28s 218ms/step - loss: 8.4488 - covertype_cls_loss: 0.4136 - covertype_bernoulli_loss: 0.0401 - covertype_categorical1_loss: 2.0033 - covertype_categorical2_loss: 1.0927 - covertype_categorical3_loss: 0.1533 - covertype_categorical4_loss: 1.6246 - covertype_categorical5_loss: 2.2224 - covertype_categorical6_loss: 2.6482 - covertype_categorical7_loss: 0.8837 - covertype_categorical8_loss: 0.8427 - covertype_categorical9_loss: 1.1581 - covertype_categorical10_loss: 2.8477 - covertype_cls_categorical_accuracy: 0.9427 - val_loss: 10.3871 - val_covertype_cls_loss: 0.5472 - val_covertype_bernoulli_loss: 0.0628 - val_covertype_categorical1_loss: 3.2285 - val_covertype_categorical2_loss: 1.2373 - val_covertype_categorical3_loss: 0.1762 - val_covertype_categorical4_loss: 2.0141 - val_covertype_categorical5_loss: 2.5569 - val_covertype_categorical6_loss: 3.1500 - val_covertype_categorical7_loss: 1.0222 - val_covertype_categorical8_loss: 0.9310 - val_covertype_categorical9_loss: 1.3494 - val_covertype_categorical10_loss: 3.4142 - val_covertype_cls_categorical_accuracy: 0.8766\n",
      "Epoch 195/1000\n",
      "129/129 [==============================] - 28s 213ms/step - loss: 8.4288 - covertype_cls_loss: 0.4165 - covertype_bernoulli_loss: 0.0389 - covertype_categorical1_loss: 2.0090 - covertype_categorical2_loss: 1.0784 - covertype_categorical3_loss: 0.1588 - covertype_categorical4_loss: 1.6289 - covertype_categorical5_loss: 2.2109 - covertype_categorical6_loss: 2.6393 - covertype_categorical7_loss: 0.8736 - covertype_categorical8_loss: 0.8343 - covertype_categorical9_loss: 1.1595 - covertype_categorical10_loss: 2.8397 - covertype_cls_categorical_accuracy: 0.9411 - val_loss: 10.9193 - val_covertype_cls_loss: 0.5698 - val_covertype_bernoulli_loss: 0.0590 - val_covertype_categorical1_loss: 3.3613 - val_covertype_categorical2_loss: 1.3246 - val_covertype_categorical3_loss: 0.1987 - val_covertype_categorical4_loss: 2.1227 - val_covertype_categorical5_loss: 2.7126 - val_covertype_categorical6_loss: 3.2811 - val_covertype_categorical7_loss: 1.1155 - val_covertype_categorical8_loss: 0.9898 - val_covertype_categorical9_loss: 1.4620 - val_covertype_categorical10_loss: 3.5336 - val_covertype_cls_categorical_accuracy: 0.8612\n",
      "Epoch 196/1000\n",
      "129/129 [==============================] - 28s 219ms/step - loss: 8.5363 - covertype_cls_loss: 0.4149 - covertype_bernoulli_loss: 0.0393 - covertype_categorical1_loss: 2.0172 - covertype_categorical2_loss: 1.0866 - covertype_categorical3_loss: 0.1775 - covertype_categorical4_loss: 1.7022 - covertype_categorical5_loss: 2.2578 - covertype_categorical6_loss: 2.6577 - covertype_categorical7_loss: 0.8928 - covertype_categorical8_loss: 0.8519 - covertype_categorical9_loss: 1.1589 - covertype_categorical10_loss: 2.8484 - covertype_cls_categorical_accuracy: 0.9423 - val_loss: 10.3364 - val_covertype_cls_loss: 0.5555 - val_covertype_bernoulli_loss: 0.0549 - val_covertype_categorical1_loss: 3.2013 - val_covertype_categorical2_loss: 1.2498 - val_covertype_categorical3_loss: 0.1767 - val_covertype_categorical4_loss: 2.0123 - val_covertype_categorical5_loss: 2.5625 - val_covertype_categorical6_loss: 3.1330 - val_covertype_categorical7_loss: 1.0004 - val_covertype_categorical8_loss: 0.9180 - val_covertype_categorical9_loss: 1.3378 - val_covertype_categorical10_loss: 3.3787 - val_covertype_cls_categorical_accuracy: 0.8746\n",
      "Epoch 197/1000\n",
      "129/129 [==============================] - 28s 214ms/step - loss: 8.3692 - covertype_cls_loss: 0.4140 - covertype_bernoulli_loss: 0.0384 - covertype_categorical1_loss: 2.0059 - covertype_categorical2_loss: 1.0700 - covertype_categorical3_loss: 0.1507 - covertype_categorical4_loss: 1.6043 - covertype_categorical5_loss: 2.1971 - covertype_categorical6_loss: 2.6294 - covertype_categorical7_loss: 0.8648 - covertype_categorical8_loss: 0.8369 - covertype_categorical9_loss: 1.1416 - covertype_categorical10_loss: 2.8181 - covertype_cls_categorical_accuracy: 0.9426 - val_loss: 10.8442 - val_covertype_cls_loss: 0.5554 - val_covertype_bernoulli_loss: 0.0622 - val_covertype_categorical1_loss: 3.3245 - val_covertype_categorical2_loss: 1.3491 - val_covertype_categorical3_loss: 0.1842 - val_covertype_categorical4_loss: 2.1467 - val_covertype_categorical5_loss: 2.6292 - val_covertype_categorical6_loss: 3.3237 - val_covertype_categorical7_loss: 1.1390 - val_covertype_categorical8_loss: 0.9979 - val_covertype_categorical9_loss: 1.4114 - val_covertype_categorical10_loss: 3.4723 - val_covertype_cls_categorical_accuracy: 0.8717\n",
      "Epoch 198/1000\n",
      "129/129 [==============================] - 28s 215ms/step - loss: 8.4258 - covertype_cls_loss: 0.4136 - covertype_bernoulli_loss: 0.0394 - covertype_categorical1_loss: 2.0032 - covertype_categorical2_loss: 1.0904 - covertype_categorical3_loss: 0.1593 - covertype_categorical4_loss: 1.6351 - covertype_categorical5_loss: 2.1993 - covertype_categorical6_loss: 2.6259 - covertype_categorical7_loss: 0.8863 - covertype_categorical8_loss: 0.8410 - covertype_categorical9_loss: 1.1649 - covertype_categorical10_loss: 2.8263 - covertype_cls_categorical_accuracy: 0.9425 - val_loss: 10.3229 - val_covertype_cls_loss: 0.5496 - val_covertype_bernoulli_loss: 0.0562 - val_covertype_categorical1_loss: 3.2087 - val_covertype_categorical2_loss: 1.2234 - val_covertype_categorical3_loss: 0.1531 - val_covertype_categorical4_loss: 2.0372 - val_covertype_categorical5_loss: 2.5459 - val_covertype_categorical6_loss: 3.1447 - val_covertype_categorical7_loss: 1.0000 - val_covertype_categorical8_loss: 0.9159 - val_covertype_categorical9_loss: 1.3307 - val_covertype_categorical10_loss: 3.3922 - val_covertype_cls_categorical_accuracy: 0.8754\n",
      "Epoch 199/1000\n",
      "129/129 [==============================] - 29s 223ms/step - loss: 8.3746 - covertype_cls_loss: 0.4113 - covertype_bernoulli_loss: 0.0409 - covertype_categorical1_loss: 1.9980 - covertype_categorical2_loss: 1.0702 - covertype_categorical3_loss: 0.1532 - covertype_categorical4_loss: 1.6242 - covertype_categorical5_loss: 2.1979 - covertype_categorical6_loss: 2.6310 - covertype_categorical7_loss: 0.8643 - covertype_categorical8_loss: 0.8280 - covertype_categorical9_loss: 1.1384 - covertype_categorical10_loss: 2.8270 - covertype_cls_categorical_accuracy: 0.9441 - val_loss: 10.7934 - val_covertype_cls_loss: 0.5577 - val_covertype_bernoulli_loss: 0.0613 - val_covertype_categorical1_loss: 3.3572 - val_covertype_categorical2_loss: 1.2896 - val_covertype_categorical3_loss: 0.2315 - val_covertype_categorical4_loss: 2.0466 - val_covertype_categorical5_loss: 2.7065 - val_covertype_categorical6_loss: 3.2526 - val_covertype_categorical7_loss: 1.0869 - val_covertype_categorical8_loss: 1.0034 - val_covertype_categorical9_loss: 1.3893 - val_covertype_categorical10_loss: 3.5094 - val_covertype_cls_categorical_accuracy: 0.8737\n",
      "Epoch 200/1000\n",
      "129/129 [==============================] - 28s 220ms/step - loss: 8.3997 - covertype_cls_loss: 0.4151 - covertype_bernoulli_loss: 0.0394 - covertype_categorical1_loss: 1.9985 - covertype_categorical2_loss: 1.0787 - covertype_categorical3_loss: 0.1541 - covertype_categorical4_loss: 1.6266 - covertype_categorical5_loss: 2.2110 - covertype_categorical6_loss: 2.6256 - covertype_categorical7_loss: 0.8720 - covertype_categorical8_loss: 0.8375 - covertype_categorical9_loss: 1.1476 - covertype_categorical10_loss: 2.8250 - covertype_cls_categorical_accuracy: 0.9420 - val_loss: 10.3077 - val_covertype_cls_loss: 0.5451 - val_covertype_bernoulli_loss: 0.0498 - val_covertype_categorical1_loss: 3.2394 - val_covertype_categorical2_loss: 1.2068 - val_covertype_categorical3_loss: 0.1568 - val_covertype_categorical4_loss: 2.0001 - val_covertype_categorical5_loss: 2.5455 - val_covertype_categorical6_loss: 3.1397 - val_covertype_categorical7_loss: 1.0081 - val_covertype_categorical8_loss: 0.9112 - val_covertype_categorical9_loss: 1.3476 - val_covertype_categorical10_loss: 3.3826 - val_covertype_cls_categorical_accuracy: 0.8782\n"
     ]
    }
   ],
   "source": [
    "model_history = trainable_nn.fit(trainset_gen, validation_data=validset_gen,\n",
    "                                 epochs=MAX_TRAINING_EPOCHS, callbacks=callbacks,\n",
    "                                 verbose=1)"
   ]
  },
  {
   "cell_type": "code",
   "execution_count": 43,
   "metadata": {
    "id": "tg2TlJsd6B8Q"
   },
   "outputs": [],
   "source": [
    "trainable_nn.load_weights(nn_fname)"
   ]
  },
  {
   "cell_type": "code",
   "execution_count": 44,
   "metadata": {
    "id": "WZxVYvkm6diP"
   },
   "outputs": [
    {
     "data": {
      "image/png": "[encoded data removed]",
      "text/plain": [
       "<Figure size 360x360 with 1 Axes>"
      ]
     },
     "metadata": {
      "needs_background": "light"
     },
     "output_type": "display_data"
    }
   ],
   "source": [
    "show_training_process(history=model_history, metric_name='loss',\n",
    "                      figure_id=1)"
   ]
  },
  {
   "cell_type": "code",
   "execution_count": 45,
   "metadata": {
    "id": "DMNeqB866o7e"
   },
   "outputs": [
    {
     "data": {
      "image/png": "[encoded data removed]",
      "text/plain": [
       "<Figure size 360x360 with 1 Axes>"
      ]
     },
     "metadata": {
      "needs_background": "light"
     },
     "output_type": "display_data"
    }
   ],
   "source": [
    "show_training_process(history=model_history, metric_name='covertype_cls_loss',\n",
    "                      figure_id=2)"
   ]
  },
  {
   "cell_type": "code",
   "execution_count": 46,
   "metadata": {
    "id": "kd3SKKEZ6kgl"
   },
   "outputs": [
    {
     "data": {
      "image/png": "[encoded data removed]",
      "text/plain": [
       "<Figure size 360x360 with 1 Axes>"
      ]
     },
     "metadata": {
      "needs_background": "light"
     },
     "output_type": "display_data"
    }
   ],
   "source": [
    "show_training_process(history=model_history,\n",
    "                      metric_name='covertype_cls_categorical_accuracy',\n",
    "                      figure_id=3)"
   ]
  },
  {
   "cell_type": "code",
   "execution_count": 47,
   "metadata": {
    "id": "mNMlYkPu7Ic_"
   },
   "outputs": [],
   "source": [
    "del trainset_gen, validset_gen"
   ]
  },
  {
   "cell_type": "code",
   "execution_count": 48,
   "metadata": {
    "id": "igS2mcBB7Kzd"
   },
   "outputs": [],
   "source": [
    "del X_train, y_train, X_valid_quantized, X_train_quantized"
   ]
  },
  {
   "cell_type": "code",
   "execution_count": 49,
   "metadata": {
    "id": "yoPbBlKyG9Xb"
   },
   "outputs": [],
   "source": [
    "del trainable_nn"
   ]
  },
  {
   "cell_type": "code",
   "execution_count": 50,
   "metadata": {
    "id": "36JzbsBtHGdv"
   },
   "outputs": [
    {
     "data": {
      "text/plain": [
       "10899"
      ]
     },
     "execution_count": 50,
     "metadata": {},
     "output_type": "execute_result"
    }
   ],
   "source": [
    "gc.collect()"
   ]
  },
  {
   "cell_type": "code",
   "execution_count": 51,
   "metadata": {
    "id": "JxQCcMG26ws1"
   },
   "outputs": [
    {
     "data": {
      "application/vnd.jupyter.widget-view+json": {
       "model_id": "8b0c7f142a814bd6a8b08927f7362768",
       "version_major": 2,
       "version_minor": 0
      },
      "text/plain": [
       "  0%|          | 0/432 [00:00<?, ?it/s]"
      ]
     },
     "metadata": {},
     "output_type": "display_data"
    }
   ],
   "source": [
    "valid_probas = predict_proba(\n",
    "    X=X_valid, encoder=encoding_nn, classifier=classification_nn,\n",
    "    n_samples=NUMBER_OF_SAMPLES, batch_size=MINIBATCH_SIZE_FOR_INFERENCE\n",
    ")"
   ]
  },
  {
   "cell_type": "code",
   "execution_count": 52,
   "metadata": {
    "id": "NmZLiXLT719Q"
   },
   "outputs": [
    {
     "name": "stdout",
     "output_type": "stream",
     "text": [
      "              precision    recall  f1-score   support\n",
      "\n",
      "           0     0.9086    0.8483    0.8774     10063\n",
      "           1     0.9055    0.8749    0.8899     13457\n",
      "           2     0.8789    0.9058    0.8921      1698\n",
      "           3     0.4960    0.9645    0.6551       451\n",
      "           4     0.6644    0.9285    0.7745       825\n",
      "           5     0.7647    0.9877    0.8620       974\n",
      "           6     0.7378    0.9237    0.8203       131\n",
      "\n",
      "    accuracy                         0.8743     27599\n",
      "   macro avg     0.7651    0.9190    0.8245     27599\n",
      "weighted avg     0.8853    0.8743    0.8769     27599\n",
      "\n"
     ]
    }
   ],
   "source": [
    "print(classification_report(y_true=y_valid, y_pred=np.argmax(valid_probas, axis=1),\n",
    "                            digits=4))"
   ]
  },
  {
   "cell_type": "code",
   "execution_count": 53,
   "metadata": {
    "id": "PGYcDvS97-jv"
   },
   "outputs": [
    {
     "data": {
      "application/vnd.jupyter.widget-view+json": {
       "model_id": "62f41d9af33f40978f6a924c185158bf",
       "version_major": 2,
       "version_minor": 0
      },
      "text/plain": [
       "  0%|          | 0/454 [00:00<?, ?it/s]"
      ]
     },
     "metadata": {},
     "output_type": "display_data"
    }
   ],
   "source": [
    "test_probas = predict_proba(\n",
    "    X=X_test, encoder=encoding_nn, classifier=classification_nn,\n",
    "    n_samples=NUMBER_OF_SAMPLES, batch_size=MINIBATCH_SIZE_FOR_INFERENCE\n",
    ")"
   ]
  },
  {
   "cell_type": "code",
   "execution_count": 54,
   "metadata": {
    "id": "reZKYYG28A3F"
   },
   "outputs": [
    {
     "name": "stdout",
     "output_type": "stream",
     "text": [
      "              precision    recall  f1-score   support\n",
      "\n",
      "           0     0.9051    0.8450    0.8740     10592\n",
      "           1     0.9042    0.8751    0.8894     14165\n",
      "           2     0.8876    0.9100    0.8986      1788\n",
      "           3     0.5135    0.9579    0.6686       475\n",
      "           4     0.6624    0.9516    0.7811       868\n",
      "           5     0.7724    0.9922    0.8686      1026\n",
      "           6     0.7633    0.9416    0.8431       137\n",
      "\n",
      "    accuracy                         0.8744     29051\n",
      "   macro avg     0.7726    0.9248    0.8319     29051\n",
      "weighted avg     0.8846    0.8744    0.8766     29051\n",
      "\n"
     ]
    }
   ],
   "source": [
    "print(classification_report(y_true=y_test, y_pred=np.argmax(test_probas, axis=1),\n",
    "                            digits=4))"
   ]
  }
 ],
 "metadata": {
  "accelerator": "GPU",
  "colab": {
   "collapsed_sections": [],
   "name": "vae_automl.ipynb",
   "provenance": []
  },
  "kernelspec": {
   "display_name": "Python 3 (ipykernel)",
   "language": "python",
   "name": "python3"
  },
  "language_info": {
   "codemirror_mode": {
    "name": "ipython",
    "version": 3
   },
   "file_extension": ".py",
   "mimetype": "text/x-python",
   "name": "python",
   "nbconvert_exporter": "python",
   "pygments_lexer": "ipython3",
   "version": "3.7.11"
  }
 },
 "nbformat": 4,
 "nbformat_minor": 1
}
